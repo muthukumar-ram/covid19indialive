{
 "cells": [
  {
   "cell_type": "markdown",
   "metadata": {},
   "source": [
    "# CoronaVirus Covid19 India Lockdown 2.0"
   ]
  },
  {
   "cell_type": "code",
   "execution_count": 168,
   "metadata": {},
   "outputs": [],
   "source": [
    "from __future__ import print_function\n",
    "from ipywidgets import interact, interactive, fixed, interact_manual\n",
    "from IPython.core.display import display, HTML\n",
    "\n",
    "import pandas as pd\n",
    "import numpy as np\n",
    "import matplotlib.pyplot as plt\n",
    "import plotly.express as px\n",
    "import folium\n",
    "import plotly.graph_objects as go\n",
    "import seaborn as sns\n",
    "import ipywidgets as widgets\n",
    "import networkx as nx"
   ]
  },
  {
   "cell_type": "markdown",
   "metadata": {},
   "source": [
    "# Karnataka Coronavirus Data"
   ]
  },
  {
   "cell_type": "code",
   "execution_count": 169,
   "metadata": {},
   "outputs": [],
   "source": [
    "#url = 'https://en.wikipedia.org/wiki/2020_coronavirus_pandemic_in_Karnataka'\n",
    "#all_tables = pd.read_html(url)\n",
    "\n",
    "# we  need 6 th table that is all_tables[5]\n",
    "#rawCases = all_tables[5]\n",
    "rawCases = pd.read_csv(\"https://raw.githubusercontent.com/muthukumar-ram/covid19indialive/master/dataset/KARawCases.csv\")"
   ]
  },
  {
   "cell_type": "code",
   "execution_count": 170,
   "metadata": {},
   "outputs": [
    {
     "data": {
      "application/vnd.plotly.v1+json": {
       "config": {
        "plotlyServerURL": "https://plot.ly"
       },
       "data": [
        {
         "alignmentgroup": "True",
         "hovertemplate": "Gender=%{x}<br>Confirmed=%{y}<extra></extra>",
         "legendgroup": "",
         "marker": {
          "color": "pink"
         },
         "name": "",
         "offsetgroup": "",
         "orientation": "v",
         "showlegend": false,
         "textposition": "auto",
         "type": "bar",
         "x": [
          "F",
          "M"
         ],
         "xaxis": "x",
         "y": [
          112,
          283
         ],
         "yaxis": "y"
        }
       ],
       "layout": {
        "barmode": "relative",
        "height": 500,
        "legend": {
         "tracegroupgap": 0
        },
        "template": {
         "data": {
          "bar": [
           {
            "error_x": {
             "color": "#2a3f5f"
            },
            "error_y": {
             "color": "#2a3f5f"
            },
            "marker": {
             "line": {
              "color": "#E5ECF6",
              "width": 0.5
             }
            },
            "type": "bar"
           }
          ],
          "barpolar": [
           {
            "marker": {
             "line": {
              "color": "#E5ECF6",
              "width": 0.5
             }
            },
            "type": "barpolar"
           }
          ],
          "carpet": [
           {
            "aaxis": {
             "endlinecolor": "#2a3f5f",
             "gridcolor": "white",
             "linecolor": "white",
             "minorgridcolor": "white",
             "startlinecolor": "#2a3f5f"
            },
            "baxis": {
             "endlinecolor": "#2a3f5f",
             "gridcolor": "white",
             "linecolor": "white",
             "minorgridcolor": "white",
             "startlinecolor": "#2a3f5f"
            },
            "type": "carpet"
           }
          ],
          "choropleth": [
           {
            "colorbar": {
             "outlinewidth": 0,
             "ticks": ""
            },
            "type": "choropleth"
           }
          ],
          "contour": [
           {
            "colorbar": {
             "outlinewidth": 0,
             "ticks": ""
            },
            "colorscale": [
             [
              0,
              "#0d0887"
             ],
             [
              0.1111111111111111,
              "#46039f"
             ],
             [
              0.2222222222222222,
              "#7201a8"
             ],
             [
              0.3333333333333333,
              "#9c179e"
             ],
             [
              0.4444444444444444,
              "#bd3786"
             ],
             [
              0.5555555555555556,
              "#d8576b"
             ],
             [
              0.6666666666666666,
              "#ed7953"
             ],
             [
              0.7777777777777778,
              "#fb9f3a"
             ],
             [
              0.8888888888888888,
              "#fdca26"
             ],
             [
              1,
              "#f0f921"
             ]
            ],
            "type": "contour"
           }
          ],
          "contourcarpet": [
           {
            "colorbar": {
             "outlinewidth": 0,
             "ticks": ""
            },
            "type": "contourcarpet"
           }
          ],
          "heatmap": [
           {
            "colorbar": {
             "outlinewidth": 0,
             "ticks": ""
            },
            "colorscale": [
             [
              0,
              "#0d0887"
             ],
             [
              0.1111111111111111,
              "#46039f"
             ],
             [
              0.2222222222222222,
              "#7201a8"
             ],
             [
              0.3333333333333333,
              "#9c179e"
             ],
             [
              0.4444444444444444,
              "#bd3786"
             ],
             [
              0.5555555555555556,
              "#d8576b"
             ],
             [
              0.6666666666666666,
              "#ed7953"
             ],
             [
              0.7777777777777778,
              "#fb9f3a"
             ],
             [
              0.8888888888888888,
              "#fdca26"
             ],
             [
              1,
              "#f0f921"
             ]
            ],
            "type": "heatmap"
           }
          ],
          "heatmapgl": [
           {
            "colorbar": {
             "outlinewidth": 0,
             "ticks": ""
            },
            "colorscale": [
             [
              0,
              "#0d0887"
             ],
             [
              0.1111111111111111,
              "#46039f"
             ],
             [
              0.2222222222222222,
              "#7201a8"
             ],
             [
              0.3333333333333333,
              "#9c179e"
             ],
             [
              0.4444444444444444,
              "#bd3786"
             ],
             [
              0.5555555555555556,
              "#d8576b"
             ],
             [
              0.6666666666666666,
              "#ed7953"
             ],
             [
              0.7777777777777778,
              "#fb9f3a"
             ],
             [
              0.8888888888888888,
              "#fdca26"
             ],
             [
              1,
              "#f0f921"
             ]
            ],
            "type": "heatmapgl"
           }
          ],
          "histogram": [
           {
            "marker": {
             "colorbar": {
              "outlinewidth": 0,
              "ticks": ""
             }
            },
            "type": "histogram"
           }
          ],
          "histogram2d": [
           {
            "colorbar": {
             "outlinewidth": 0,
             "ticks": ""
            },
            "colorscale": [
             [
              0,
              "#0d0887"
             ],
             [
              0.1111111111111111,
              "#46039f"
             ],
             [
              0.2222222222222222,
              "#7201a8"
             ],
             [
              0.3333333333333333,
              "#9c179e"
             ],
             [
              0.4444444444444444,
              "#bd3786"
             ],
             [
              0.5555555555555556,
              "#d8576b"
             ],
             [
              0.6666666666666666,
              "#ed7953"
             ],
             [
              0.7777777777777778,
              "#fb9f3a"
             ],
             [
              0.8888888888888888,
              "#fdca26"
             ],
             [
              1,
              "#f0f921"
             ]
            ],
            "type": "histogram2d"
           }
          ],
          "histogram2dcontour": [
           {
            "colorbar": {
             "outlinewidth": 0,
             "ticks": ""
            },
            "colorscale": [
             [
              0,
              "#0d0887"
             ],
             [
              0.1111111111111111,
              "#46039f"
             ],
             [
              0.2222222222222222,
              "#7201a8"
             ],
             [
              0.3333333333333333,
              "#9c179e"
             ],
             [
              0.4444444444444444,
              "#bd3786"
             ],
             [
              0.5555555555555556,
              "#d8576b"
             ],
             [
              0.6666666666666666,
              "#ed7953"
             ],
             [
              0.7777777777777778,
              "#fb9f3a"
             ],
             [
              0.8888888888888888,
              "#fdca26"
             ],
             [
              1,
              "#f0f921"
             ]
            ],
            "type": "histogram2dcontour"
           }
          ],
          "mesh3d": [
           {
            "colorbar": {
             "outlinewidth": 0,
             "ticks": ""
            },
            "type": "mesh3d"
           }
          ],
          "parcoords": [
           {
            "line": {
             "colorbar": {
              "outlinewidth": 0,
              "ticks": ""
             }
            },
            "type": "parcoords"
           }
          ],
          "pie": [
           {
            "automargin": true,
            "type": "pie"
           }
          ],
          "scatter": [
           {
            "marker": {
             "colorbar": {
              "outlinewidth": 0,
              "ticks": ""
             }
            },
            "type": "scatter"
           }
          ],
          "scatter3d": [
           {
            "line": {
             "colorbar": {
              "outlinewidth": 0,
              "ticks": ""
             }
            },
            "marker": {
             "colorbar": {
              "outlinewidth": 0,
              "ticks": ""
             }
            },
            "type": "scatter3d"
           }
          ],
          "scattercarpet": [
           {
            "marker": {
             "colorbar": {
              "outlinewidth": 0,
              "ticks": ""
             }
            },
            "type": "scattercarpet"
           }
          ],
          "scattergeo": [
           {
            "marker": {
             "colorbar": {
              "outlinewidth": 0,
              "ticks": ""
             }
            },
            "type": "scattergeo"
           }
          ],
          "scattergl": [
           {
            "marker": {
             "colorbar": {
              "outlinewidth": 0,
              "ticks": ""
             }
            },
            "type": "scattergl"
           }
          ],
          "scattermapbox": [
           {
            "marker": {
             "colorbar": {
              "outlinewidth": 0,
              "ticks": ""
             }
            },
            "type": "scattermapbox"
           }
          ],
          "scatterpolar": [
           {
            "marker": {
             "colorbar": {
              "outlinewidth": 0,
              "ticks": ""
             }
            },
            "type": "scatterpolar"
           }
          ],
          "scatterpolargl": [
           {
            "marker": {
             "colorbar": {
              "outlinewidth": 0,
              "ticks": ""
             }
            },
            "type": "scatterpolargl"
           }
          ],
          "scatterternary": [
           {
            "marker": {
             "colorbar": {
              "outlinewidth": 0,
              "ticks": ""
             }
            },
            "type": "scatterternary"
           }
          ],
          "surface": [
           {
            "colorbar": {
             "outlinewidth": 0,
             "ticks": ""
            },
            "colorscale": [
             [
              0,
              "#0d0887"
             ],
             [
              0.1111111111111111,
              "#46039f"
             ],
             [
              0.2222222222222222,
              "#7201a8"
             ],
             [
              0.3333333333333333,
              "#9c179e"
             ],
             [
              0.4444444444444444,
              "#bd3786"
             ],
             [
              0.5555555555555556,
              "#d8576b"
             ],
             [
              0.6666666666666666,
              "#ed7953"
             ],
             [
              0.7777777777777778,
              "#fb9f3a"
             ],
             [
              0.8888888888888888,
              "#fdca26"
             ],
             [
              1,
              "#f0f921"
             ]
            ],
            "type": "surface"
           }
          ],
          "table": [
           {
            "cells": {
             "fill": {
              "color": "#EBF0F8"
             },
             "line": {
              "color": "white"
             }
            },
            "header": {
             "fill": {
              "color": "#C8D4E3"
             },
             "line": {
              "color": "white"
             }
            },
            "type": "table"
           }
          ]
         },
         "layout": {
          "annotationdefaults": {
           "arrowcolor": "#2a3f5f",
           "arrowhead": 0,
           "arrowwidth": 1
          },
          "coloraxis": {
           "colorbar": {
            "outlinewidth": 0,
            "ticks": ""
           }
          },
          "colorscale": {
           "diverging": [
            [
             0,
             "#8e0152"
            ],
            [
             0.1,
             "#c51b7d"
            ],
            [
             0.2,
             "#de77ae"
            ],
            [
             0.3,
             "#f1b6da"
            ],
            [
             0.4,
             "#fde0ef"
            ],
            [
             0.5,
             "#f7f7f7"
            ],
            [
             0.6,
             "#e6f5d0"
            ],
            [
             0.7,
             "#b8e186"
            ],
            [
             0.8,
             "#7fbc41"
            ],
            [
             0.9,
             "#4d9221"
            ],
            [
             1,
             "#276419"
            ]
           ],
           "sequential": [
            [
             0,
             "#0d0887"
            ],
            [
             0.1111111111111111,
             "#46039f"
            ],
            [
             0.2222222222222222,
             "#7201a8"
            ],
            [
             0.3333333333333333,
             "#9c179e"
            ],
            [
             0.4444444444444444,
             "#bd3786"
            ],
            [
             0.5555555555555556,
             "#d8576b"
            ],
            [
             0.6666666666666666,
             "#ed7953"
            ],
            [
             0.7777777777777778,
             "#fb9f3a"
            ],
            [
             0.8888888888888888,
             "#fdca26"
            ],
            [
             1,
             "#f0f921"
            ]
           ],
           "sequentialminus": [
            [
             0,
             "#0d0887"
            ],
            [
             0.1111111111111111,
             "#46039f"
            ],
            [
             0.2222222222222222,
             "#7201a8"
            ],
            [
             0.3333333333333333,
             "#9c179e"
            ],
            [
             0.4444444444444444,
             "#bd3786"
            ],
            [
             0.5555555555555556,
             "#d8576b"
            ],
            [
             0.6666666666666666,
             "#ed7953"
            ],
            [
             0.7777777777777778,
             "#fb9f3a"
            ],
            [
             0.8888888888888888,
             "#fdca26"
            ],
            [
             1,
             "#f0f921"
            ]
           ]
          },
          "colorway": [
           "#636efa",
           "#EF553B",
           "#00cc96",
           "#ab63fa",
           "#FFA15A",
           "#19d3f3",
           "#FF6692",
           "#B6E880",
           "#FF97FF",
           "#FECB52"
          ],
          "font": {
           "color": "#2a3f5f"
          },
          "geo": {
           "bgcolor": "white",
           "lakecolor": "white",
           "landcolor": "#E5ECF6",
           "showlakes": true,
           "showland": true,
           "subunitcolor": "white"
          },
          "hoverlabel": {
           "align": "left"
          },
          "hovermode": "closest",
          "mapbox": {
           "style": "light"
          },
          "paper_bgcolor": "white",
          "plot_bgcolor": "#E5ECF6",
          "polar": {
           "angularaxis": {
            "gridcolor": "white",
            "linecolor": "white",
            "ticks": ""
           },
           "bgcolor": "#E5ECF6",
           "radialaxis": {
            "gridcolor": "white",
            "linecolor": "white",
            "ticks": ""
           }
          },
          "scene": {
           "xaxis": {
            "backgroundcolor": "#E5ECF6",
            "gridcolor": "white",
            "gridwidth": 2,
            "linecolor": "white",
            "showbackground": true,
            "ticks": "",
            "zerolinecolor": "white"
           },
           "yaxis": {
            "backgroundcolor": "#E5ECF6",
            "gridcolor": "white",
            "gridwidth": 2,
            "linecolor": "white",
            "showbackground": true,
            "ticks": "",
            "zerolinecolor": "white"
           },
           "zaxis": {
            "backgroundcolor": "#E5ECF6",
            "gridcolor": "white",
            "gridwidth": 2,
            "linecolor": "white",
            "showbackground": true,
            "ticks": "",
            "zerolinecolor": "white"
           }
          },
          "shapedefaults": {
           "line": {
            "color": "#2a3f5f"
           }
          },
          "ternary": {
           "aaxis": {
            "gridcolor": "white",
            "linecolor": "white",
            "ticks": ""
           },
           "baxis": {
            "gridcolor": "white",
            "linecolor": "white",
            "ticks": ""
           },
           "bgcolor": "#E5ECF6",
           "caxis": {
            "gridcolor": "white",
            "linecolor": "white",
            "ticks": ""
           }
          },
          "title": {
           "x": 0.05
          },
          "xaxis": {
           "automargin": true,
           "gridcolor": "white",
           "linecolor": "white",
           "ticks": "",
           "title": {
            "standoff": 15
           },
           "zerolinecolor": "white",
           "zerolinewidth": 2
          },
          "yaxis": {
           "automargin": true,
           "gridcolor": "white",
           "linecolor": "white",
           "ticks": "",
           "title": {
            "standoff": 15
           },
           "zerolinecolor": "white",
           "zerolinewidth": 2
          }
         }
        },
        "title": {
         "text": "Confirmed Cases based on Gender"
        },
        "width": 500,
        "xaxis": {
         "anchor": "y",
         "domain": [
          0,
          1
         ],
         "title": {
          "text": "Gender"
         }
        },
        "yaxis": {
         "anchor": "x",
         "domain": [
          0,
          1
         ],
         "title": {
          "text": "Confirmed"
         }
        }
       }
      },
      "text/html": [
       "<div>\n",
       "        \n",
       "        \n",
       "            <div id=\"f515986d-8e8a-4a65-8792-2342cd3f9395\" class=\"plotly-graph-div\" style=\"height:500px; width:500px;\"></div>\n",
       "            <script type=\"text/javascript\">\n",
       "                require([\"plotly\"], function(Plotly) {\n",
       "                    window.PLOTLYENV=window.PLOTLYENV || {};\n",
       "                    \n",
       "                if (document.getElementById(\"f515986d-8e8a-4a65-8792-2342cd3f9395\")) {\n",
       "                    Plotly.newPlot(\n",
       "                        'f515986d-8e8a-4a65-8792-2342cd3f9395',\n",
       "                        [{\"alignmentgroup\": \"True\", \"hovertemplate\": \"Gender=%{x}<br>Confirmed=%{y}<extra></extra>\", \"legendgroup\": \"\", \"marker\": {\"color\": \"pink\"}, \"name\": \"\", \"offsetgroup\": \"\", \"orientation\": \"v\", \"showlegend\": false, \"textposition\": \"auto\", \"type\": \"bar\", \"x\": [\"F\", \"M\"], \"xaxis\": \"x\", \"y\": [112, 283], \"yaxis\": \"y\"}],\n",
       "                        {\"barmode\": \"relative\", \"height\": 500, \"legend\": {\"tracegroupgap\": 0}, \"template\": {\"data\": {\"bar\": [{\"error_x\": {\"color\": \"#2a3f5f\"}, \"error_y\": {\"color\": \"#2a3f5f\"}, \"marker\": {\"line\": {\"color\": \"#E5ECF6\", \"width\": 0.5}}, \"type\": \"bar\"}], \"barpolar\": [{\"marker\": {\"line\": {\"color\": \"#E5ECF6\", \"width\": 0.5}}, \"type\": \"barpolar\"}], \"carpet\": [{\"aaxis\": {\"endlinecolor\": \"#2a3f5f\", \"gridcolor\": \"white\", \"linecolor\": \"white\", \"minorgridcolor\": \"white\", \"startlinecolor\": \"#2a3f5f\"}, \"baxis\": {\"endlinecolor\": \"#2a3f5f\", \"gridcolor\": \"white\", \"linecolor\": \"white\", \"minorgridcolor\": \"white\", \"startlinecolor\": \"#2a3f5f\"}, \"type\": \"carpet\"}], \"choropleth\": [{\"colorbar\": {\"outlinewidth\": 0, \"ticks\": \"\"}, \"type\": \"choropleth\"}], \"contour\": [{\"colorbar\": {\"outlinewidth\": 0, \"ticks\": \"\"}, \"colorscale\": [[0.0, \"#0d0887\"], [0.1111111111111111, \"#46039f\"], [0.2222222222222222, \"#7201a8\"], [0.3333333333333333, \"#9c179e\"], [0.4444444444444444, \"#bd3786\"], [0.5555555555555556, \"#d8576b\"], [0.6666666666666666, \"#ed7953\"], [0.7777777777777778, \"#fb9f3a\"], [0.8888888888888888, \"#fdca26\"], [1.0, \"#f0f921\"]], \"type\": \"contour\"}], \"contourcarpet\": [{\"colorbar\": {\"outlinewidth\": 0, \"ticks\": \"\"}, \"type\": \"contourcarpet\"}], \"heatmap\": [{\"colorbar\": {\"outlinewidth\": 0, \"ticks\": \"\"}, \"colorscale\": [[0.0, \"#0d0887\"], [0.1111111111111111, \"#46039f\"], [0.2222222222222222, \"#7201a8\"], [0.3333333333333333, \"#9c179e\"], [0.4444444444444444, \"#bd3786\"], [0.5555555555555556, \"#d8576b\"], [0.6666666666666666, \"#ed7953\"], [0.7777777777777778, \"#fb9f3a\"], [0.8888888888888888, \"#fdca26\"], [1.0, \"#f0f921\"]], \"type\": \"heatmap\"}], \"heatmapgl\": [{\"colorbar\": {\"outlinewidth\": 0, \"ticks\": \"\"}, \"colorscale\": [[0.0, \"#0d0887\"], [0.1111111111111111, \"#46039f\"], [0.2222222222222222, \"#7201a8\"], [0.3333333333333333, \"#9c179e\"], [0.4444444444444444, \"#bd3786\"], [0.5555555555555556, \"#d8576b\"], [0.6666666666666666, \"#ed7953\"], [0.7777777777777778, \"#fb9f3a\"], [0.8888888888888888, \"#fdca26\"], [1.0, \"#f0f921\"]], \"type\": \"heatmapgl\"}], \"histogram\": [{\"marker\": {\"colorbar\": {\"outlinewidth\": 0, \"ticks\": \"\"}}, \"type\": \"histogram\"}], \"histogram2d\": [{\"colorbar\": {\"outlinewidth\": 0, \"ticks\": \"\"}, \"colorscale\": [[0.0, \"#0d0887\"], [0.1111111111111111, \"#46039f\"], [0.2222222222222222, \"#7201a8\"], [0.3333333333333333, \"#9c179e\"], [0.4444444444444444, \"#bd3786\"], [0.5555555555555556, \"#d8576b\"], [0.6666666666666666, \"#ed7953\"], [0.7777777777777778, \"#fb9f3a\"], [0.8888888888888888, \"#fdca26\"], [1.0, \"#f0f921\"]], \"type\": \"histogram2d\"}], \"histogram2dcontour\": [{\"colorbar\": {\"outlinewidth\": 0, \"ticks\": \"\"}, \"colorscale\": [[0.0, \"#0d0887\"], [0.1111111111111111, \"#46039f\"], [0.2222222222222222, \"#7201a8\"], [0.3333333333333333, \"#9c179e\"], [0.4444444444444444, \"#bd3786\"], [0.5555555555555556, \"#d8576b\"], [0.6666666666666666, \"#ed7953\"], [0.7777777777777778, \"#fb9f3a\"], [0.8888888888888888, \"#fdca26\"], [1.0, \"#f0f921\"]], \"type\": \"histogram2dcontour\"}], \"mesh3d\": [{\"colorbar\": {\"outlinewidth\": 0, \"ticks\": \"\"}, \"type\": \"mesh3d\"}], \"parcoords\": [{\"line\": {\"colorbar\": {\"outlinewidth\": 0, \"ticks\": \"\"}}, \"type\": \"parcoords\"}], \"pie\": [{\"automargin\": true, \"type\": \"pie\"}], \"scatter\": [{\"marker\": {\"colorbar\": {\"outlinewidth\": 0, \"ticks\": \"\"}}, \"type\": \"scatter\"}], \"scatter3d\": [{\"line\": {\"colorbar\": {\"outlinewidth\": 0, \"ticks\": \"\"}}, \"marker\": {\"colorbar\": {\"outlinewidth\": 0, \"ticks\": \"\"}}, \"type\": \"scatter3d\"}], \"scattercarpet\": [{\"marker\": {\"colorbar\": {\"outlinewidth\": 0, \"ticks\": \"\"}}, \"type\": \"scattercarpet\"}], \"scattergeo\": [{\"marker\": {\"colorbar\": {\"outlinewidth\": 0, \"ticks\": \"\"}}, \"type\": \"scattergeo\"}], \"scattergl\": [{\"marker\": {\"colorbar\": {\"outlinewidth\": 0, \"ticks\": \"\"}}, \"type\": \"scattergl\"}], \"scattermapbox\": [{\"marker\": {\"colorbar\": {\"outlinewidth\": 0, \"ticks\": \"\"}}, \"type\": \"scattermapbox\"}], \"scatterpolar\": [{\"marker\": {\"colorbar\": {\"outlinewidth\": 0, \"ticks\": \"\"}}, \"type\": \"scatterpolar\"}], \"scatterpolargl\": [{\"marker\": {\"colorbar\": {\"outlinewidth\": 0, \"ticks\": \"\"}}, \"type\": \"scatterpolargl\"}], \"scatterternary\": [{\"marker\": {\"colorbar\": {\"outlinewidth\": 0, \"ticks\": \"\"}}, \"type\": \"scatterternary\"}], \"surface\": [{\"colorbar\": {\"outlinewidth\": 0, \"ticks\": \"\"}, \"colorscale\": [[0.0, \"#0d0887\"], [0.1111111111111111, \"#46039f\"], [0.2222222222222222, \"#7201a8\"], [0.3333333333333333, \"#9c179e\"], [0.4444444444444444, \"#bd3786\"], [0.5555555555555556, \"#d8576b\"], [0.6666666666666666, \"#ed7953\"], [0.7777777777777778, \"#fb9f3a\"], [0.8888888888888888, \"#fdca26\"], [1.0, \"#f0f921\"]], \"type\": \"surface\"}], \"table\": [{\"cells\": {\"fill\": {\"color\": \"#EBF0F8\"}, \"line\": {\"color\": \"white\"}}, \"header\": {\"fill\": {\"color\": \"#C8D4E3\"}, \"line\": {\"color\": \"white\"}}, \"type\": \"table\"}]}, \"layout\": {\"annotationdefaults\": {\"arrowcolor\": \"#2a3f5f\", \"arrowhead\": 0, \"arrowwidth\": 1}, \"coloraxis\": {\"colorbar\": {\"outlinewidth\": 0, \"ticks\": \"\"}}, \"colorscale\": {\"diverging\": [[0, \"#8e0152\"], [0.1, \"#c51b7d\"], [0.2, \"#de77ae\"], [0.3, \"#f1b6da\"], [0.4, \"#fde0ef\"], [0.5, \"#f7f7f7\"], [0.6, \"#e6f5d0\"], [0.7, \"#b8e186\"], [0.8, \"#7fbc41\"], [0.9, \"#4d9221\"], [1, \"#276419\"]], \"sequential\": [[0.0, \"#0d0887\"], [0.1111111111111111, \"#46039f\"], [0.2222222222222222, \"#7201a8\"], [0.3333333333333333, \"#9c179e\"], [0.4444444444444444, \"#bd3786\"], [0.5555555555555556, \"#d8576b\"], [0.6666666666666666, \"#ed7953\"], [0.7777777777777778, \"#fb9f3a\"], [0.8888888888888888, \"#fdca26\"], [1.0, \"#f0f921\"]], \"sequentialminus\": [[0.0, \"#0d0887\"], [0.1111111111111111, \"#46039f\"], [0.2222222222222222, \"#7201a8\"], [0.3333333333333333, \"#9c179e\"], [0.4444444444444444, \"#bd3786\"], [0.5555555555555556, \"#d8576b\"], [0.6666666666666666, \"#ed7953\"], [0.7777777777777778, \"#fb9f3a\"], [0.8888888888888888, \"#fdca26\"], [1.0, \"#f0f921\"]]}, \"colorway\": [\"#636efa\", \"#EF553B\", \"#00cc96\", \"#ab63fa\", \"#FFA15A\", \"#19d3f3\", \"#FF6692\", \"#B6E880\", \"#FF97FF\", \"#FECB52\"], \"font\": {\"color\": \"#2a3f5f\"}, \"geo\": {\"bgcolor\": \"white\", \"lakecolor\": \"white\", \"landcolor\": \"#E5ECF6\", \"showlakes\": true, \"showland\": true, \"subunitcolor\": \"white\"}, \"hoverlabel\": {\"align\": \"left\"}, \"hovermode\": \"closest\", \"mapbox\": {\"style\": \"light\"}, \"paper_bgcolor\": \"white\", \"plot_bgcolor\": \"#E5ECF6\", \"polar\": {\"angularaxis\": {\"gridcolor\": \"white\", \"linecolor\": \"white\", \"ticks\": \"\"}, \"bgcolor\": \"#E5ECF6\", \"radialaxis\": {\"gridcolor\": \"white\", \"linecolor\": \"white\", \"ticks\": \"\"}}, \"scene\": {\"xaxis\": {\"backgroundcolor\": \"#E5ECF6\", \"gridcolor\": \"white\", \"gridwidth\": 2, \"linecolor\": \"white\", \"showbackground\": true, \"ticks\": \"\", \"zerolinecolor\": \"white\"}, \"yaxis\": {\"backgroundcolor\": \"#E5ECF6\", \"gridcolor\": \"white\", \"gridwidth\": 2, \"linecolor\": \"white\", \"showbackground\": true, \"ticks\": \"\", \"zerolinecolor\": \"white\"}, \"zaxis\": {\"backgroundcolor\": \"#E5ECF6\", \"gridcolor\": \"white\", \"gridwidth\": 2, \"linecolor\": \"white\", \"showbackground\": true, \"ticks\": \"\", \"zerolinecolor\": \"white\"}}, \"shapedefaults\": {\"line\": {\"color\": \"#2a3f5f\"}}, \"ternary\": {\"aaxis\": {\"gridcolor\": \"white\", \"linecolor\": \"white\", \"ticks\": \"\"}, \"baxis\": {\"gridcolor\": \"white\", \"linecolor\": \"white\", \"ticks\": \"\"}, \"bgcolor\": \"#E5ECF6\", \"caxis\": {\"gridcolor\": \"white\", \"linecolor\": \"white\", \"ticks\": \"\"}}, \"title\": {\"x\": 0.05}, \"xaxis\": {\"automargin\": true, \"gridcolor\": \"white\", \"linecolor\": \"white\", \"ticks\": \"\", \"title\": {\"standoff\": 15}, \"zerolinecolor\": \"white\", \"zerolinewidth\": 2}, \"yaxis\": {\"automargin\": true, \"gridcolor\": \"white\", \"linecolor\": \"white\", \"ticks\": \"\", \"title\": {\"standoff\": 15}, \"zerolinecolor\": \"white\", \"zerolinewidth\": 2}}}, \"title\": {\"text\": \"Confirmed Cases based on Gender\"}, \"width\": 500, \"xaxis\": {\"anchor\": \"y\", \"domain\": [0.0, 1.0], \"title\": {\"text\": \"Gender\"}}, \"yaxis\": {\"anchor\": \"x\", \"domain\": [0.0, 1.0], \"title\": {\"text\": \"Confirmed\"}}},\n",
       "                        {\"responsive\": true}\n",
       "                    ).then(function(){\n",
       "                            \n",
       "var gd = document.getElementById('f515986d-8e8a-4a65-8792-2342cd3f9395');\n",
       "var x = new MutationObserver(function (mutations, observer) {{\n",
       "        var display = window.getComputedStyle(gd).display;\n",
       "        if (!display || display === 'none') {{\n",
       "            console.log([gd, 'removed!']);\n",
       "            Plotly.purge(gd);\n",
       "            observer.disconnect();\n",
       "        }}\n",
       "}});\n",
       "\n",
       "// Listen for the removal of the full notebook cells\n",
       "var notebookContainer = gd.closest('#notebook-container');\n",
       "if (notebookContainer) {{\n",
       "    x.observe(notebookContainer, {childList: true});\n",
       "}}\n",
       "\n",
       "// Listen for the clearing of the current output cell\n",
       "var outputEl = gd.closest('.output');\n",
       "if (outputEl) {{\n",
       "    x.observe(outputEl, {childList: true});\n",
       "}}\n",
       "\n",
       "                        })\n",
       "                };\n",
       "                });\n",
       "            </script>\n",
       "        </div>"
      ]
     },
     "metadata": {},
     "output_type": "display_data"
    }
   ],
   "source": [
    "genderGrp=rawCases.groupby(by='Gender').size().reset_index(name='count')\n",
    "genderGrp=genderGrp.rename(columns={'count':'Confirmed'})\n",
    "\n",
    "\n",
    "px.bar(\n",
    "    genderGrp,\n",
    "    x = \"Gender\",\n",
    "    y = \"Confirmed\",\n",
    "    title= \"Confirmed Cases based on Gender\", # the axis names\n",
    "    color_discrete_sequence=[\"pink\"], \n",
    "    height=500,\n",
    "    width=500\n",
    ")"
   ]
  },
  {
   "cell_type": "code",
   "execution_count": 171,
   "metadata": {},
   "outputs": [
    {
     "data": {
      "application/vnd.plotly.v1+json": {
       "config": {
        "plotlyServerURL": "https://plot.ly"
       },
       "data": [
        {
         "alignmentgroup": "True",
         "hovertemplate": "Age Group=%{x}<br>Confirmed=%{y}<extra></extra>",
         "legendgroup": "",
         "marker": {
          "color": "purple"
         },
         "name": "",
         "offsetgroup": "",
         "orientation": "v",
         "showlegend": false,
         "textposition": "auto",
         "type": "bar",
         "x": [
          "12-20",
          "20-40",
          "3-12",
          "40-60",
          "60+",
          "<3"
         ],
         "xaxis": "x",
         "y": [
          31,
          184,
          18,
          104,
          54,
          4
         ],
         "yaxis": "y"
        }
       ],
       "layout": {
        "barmode": "relative",
        "height": 500,
        "legend": {
         "tracegroupgap": 0
        },
        "template": {
         "data": {
          "bar": [
           {
            "error_x": {
             "color": "#2a3f5f"
            },
            "error_y": {
             "color": "#2a3f5f"
            },
            "marker": {
             "line": {
              "color": "#E5ECF6",
              "width": 0.5
             }
            },
            "type": "bar"
           }
          ],
          "barpolar": [
           {
            "marker": {
             "line": {
              "color": "#E5ECF6",
              "width": 0.5
             }
            },
            "type": "barpolar"
           }
          ],
          "carpet": [
           {
            "aaxis": {
             "endlinecolor": "#2a3f5f",
             "gridcolor": "white",
             "linecolor": "white",
             "minorgridcolor": "white",
             "startlinecolor": "#2a3f5f"
            },
            "baxis": {
             "endlinecolor": "#2a3f5f",
             "gridcolor": "white",
             "linecolor": "white",
             "minorgridcolor": "white",
             "startlinecolor": "#2a3f5f"
            },
            "type": "carpet"
           }
          ],
          "choropleth": [
           {
            "colorbar": {
             "outlinewidth": 0,
             "ticks": ""
            },
            "type": "choropleth"
           }
          ],
          "contour": [
           {
            "colorbar": {
             "outlinewidth": 0,
             "ticks": ""
            },
            "colorscale": [
             [
              0,
              "#0d0887"
             ],
             [
              0.1111111111111111,
              "#46039f"
             ],
             [
              0.2222222222222222,
              "#7201a8"
             ],
             [
              0.3333333333333333,
              "#9c179e"
             ],
             [
              0.4444444444444444,
              "#bd3786"
             ],
             [
              0.5555555555555556,
              "#d8576b"
             ],
             [
              0.6666666666666666,
              "#ed7953"
             ],
             [
              0.7777777777777778,
              "#fb9f3a"
             ],
             [
              0.8888888888888888,
              "#fdca26"
             ],
             [
              1,
              "#f0f921"
             ]
            ],
            "type": "contour"
           }
          ],
          "contourcarpet": [
           {
            "colorbar": {
             "outlinewidth": 0,
             "ticks": ""
            },
            "type": "contourcarpet"
           }
          ],
          "heatmap": [
           {
            "colorbar": {
             "outlinewidth": 0,
             "ticks": ""
            },
            "colorscale": [
             [
              0,
              "#0d0887"
             ],
             [
              0.1111111111111111,
              "#46039f"
             ],
             [
              0.2222222222222222,
              "#7201a8"
             ],
             [
              0.3333333333333333,
              "#9c179e"
             ],
             [
              0.4444444444444444,
              "#bd3786"
             ],
             [
              0.5555555555555556,
              "#d8576b"
             ],
             [
              0.6666666666666666,
              "#ed7953"
             ],
             [
              0.7777777777777778,
              "#fb9f3a"
             ],
             [
              0.8888888888888888,
              "#fdca26"
             ],
             [
              1,
              "#f0f921"
             ]
            ],
            "type": "heatmap"
           }
          ],
          "heatmapgl": [
           {
            "colorbar": {
             "outlinewidth": 0,
             "ticks": ""
            },
            "colorscale": [
             [
              0,
              "#0d0887"
             ],
             [
              0.1111111111111111,
              "#46039f"
             ],
             [
              0.2222222222222222,
              "#7201a8"
             ],
             [
              0.3333333333333333,
              "#9c179e"
             ],
             [
              0.4444444444444444,
              "#bd3786"
             ],
             [
              0.5555555555555556,
              "#d8576b"
             ],
             [
              0.6666666666666666,
              "#ed7953"
             ],
             [
              0.7777777777777778,
              "#fb9f3a"
             ],
             [
              0.8888888888888888,
              "#fdca26"
             ],
             [
              1,
              "#f0f921"
             ]
            ],
            "type": "heatmapgl"
           }
          ],
          "histogram": [
           {
            "marker": {
             "colorbar": {
              "outlinewidth": 0,
              "ticks": ""
             }
            },
            "type": "histogram"
           }
          ],
          "histogram2d": [
           {
            "colorbar": {
             "outlinewidth": 0,
             "ticks": ""
            },
            "colorscale": [
             [
              0,
              "#0d0887"
             ],
             [
              0.1111111111111111,
              "#46039f"
             ],
             [
              0.2222222222222222,
              "#7201a8"
             ],
             [
              0.3333333333333333,
              "#9c179e"
             ],
             [
              0.4444444444444444,
              "#bd3786"
             ],
             [
              0.5555555555555556,
              "#d8576b"
             ],
             [
              0.6666666666666666,
              "#ed7953"
             ],
             [
              0.7777777777777778,
              "#fb9f3a"
             ],
             [
              0.8888888888888888,
              "#fdca26"
             ],
             [
              1,
              "#f0f921"
             ]
            ],
            "type": "histogram2d"
           }
          ],
          "histogram2dcontour": [
           {
            "colorbar": {
             "outlinewidth": 0,
             "ticks": ""
            },
            "colorscale": [
             [
              0,
              "#0d0887"
             ],
             [
              0.1111111111111111,
              "#46039f"
             ],
             [
              0.2222222222222222,
              "#7201a8"
             ],
             [
              0.3333333333333333,
              "#9c179e"
             ],
             [
              0.4444444444444444,
              "#bd3786"
             ],
             [
              0.5555555555555556,
              "#d8576b"
             ],
             [
              0.6666666666666666,
              "#ed7953"
             ],
             [
              0.7777777777777778,
              "#fb9f3a"
             ],
             [
              0.8888888888888888,
              "#fdca26"
             ],
             [
              1,
              "#f0f921"
             ]
            ],
            "type": "histogram2dcontour"
           }
          ],
          "mesh3d": [
           {
            "colorbar": {
             "outlinewidth": 0,
             "ticks": ""
            },
            "type": "mesh3d"
           }
          ],
          "parcoords": [
           {
            "line": {
             "colorbar": {
              "outlinewidth": 0,
              "ticks": ""
             }
            },
            "type": "parcoords"
           }
          ],
          "pie": [
           {
            "automargin": true,
            "type": "pie"
           }
          ],
          "scatter": [
           {
            "marker": {
             "colorbar": {
              "outlinewidth": 0,
              "ticks": ""
             }
            },
            "type": "scatter"
           }
          ],
          "scatter3d": [
           {
            "line": {
             "colorbar": {
              "outlinewidth": 0,
              "ticks": ""
             }
            },
            "marker": {
             "colorbar": {
              "outlinewidth": 0,
              "ticks": ""
             }
            },
            "type": "scatter3d"
           }
          ],
          "scattercarpet": [
           {
            "marker": {
             "colorbar": {
              "outlinewidth": 0,
              "ticks": ""
             }
            },
            "type": "scattercarpet"
           }
          ],
          "scattergeo": [
           {
            "marker": {
             "colorbar": {
              "outlinewidth": 0,
              "ticks": ""
             }
            },
            "type": "scattergeo"
           }
          ],
          "scattergl": [
           {
            "marker": {
             "colorbar": {
              "outlinewidth": 0,
              "ticks": ""
             }
            },
            "type": "scattergl"
           }
          ],
          "scattermapbox": [
           {
            "marker": {
             "colorbar": {
              "outlinewidth": 0,
              "ticks": ""
             }
            },
            "type": "scattermapbox"
           }
          ],
          "scatterpolar": [
           {
            "marker": {
             "colorbar": {
              "outlinewidth": 0,
              "ticks": ""
             }
            },
            "type": "scatterpolar"
           }
          ],
          "scatterpolargl": [
           {
            "marker": {
             "colorbar": {
              "outlinewidth": 0,
              "ticks": ""
             }
            },
            "type": "scatterpolargl"
           }
          ],
          "scatterternary": [
           {
            "marker": {
             "colorbar": {
              "outlinewidth": 0,
              "ticks": ""
             }
            },
            "type": "scatterternary"
           }
          ],
          "surface": [
           {
            "colorbar": {
             "outlinewidth": 0,
             "ticks": ""
            },
            "colorscale": [
             [
              0,
              "#0d0887"
             ],
             [
              0.1111111111111111,
              "#46039f"
             ],
             [
              0.2222222222222222,
              "#7201a8"
             ],
             [
              0.3333333333333333,
              "#9c179e"
             ],
             [
              0.4444444444444444,
              "#bd3786"
             ],
             [
              0.5555555555555556,
              "#d8576b"
             ],
             [
              0.6666666666666666,
              "#ed7953"
             ],
             [
              0.7777777777777778,
              "#fb9f3a"
             ],
             [
              0.8888888888888888,
              "#fdca26"
             ],
             [
              1,
              "#f0f921"
             ]
            ],
            "type": "surface"
           }
          ],
          "table": [
           {
            "cells": {
             "fill": {
              "color": "#EBF0F8"
             },
             "line": {
              "color": "white"
             }
            },
            "header": {
             "fill": {
              "color": "#C8D4E3"
             },
             "line": {
              "color": "white"
             }
            },
            "type": "table"
           }
          ]
         },
         "layout": {
          "annotationdefaults": {
           "arrowcolor": "#2a3f5f",
           "arrowhead": 0,
           "arrowwidth": 1
          },
          "coloraxis": {
           "colorbar": {
            "outlinewidth": 0,
            "ticks": ""
           }
          },
          "colorscale": {
           "diverging": [
            [
             0,
             "#8e0152"
            ],
            [
             0.1,
             "#c51b7d"
            ],
            [
             0.2,
             "#de77ae"
            ],
            [
             0.3,
             "#f1b6da"
            ],
            [
             0.4,
             "#fde0ef"
            ],
            [
             0.5,
             "#f7f7f7"
            ],
            [
             0.6,
             "#e6f5d0"
            ],
            [
             0.7,
             "#b8e186"
            ],
            [
             0.8,
             "#7fbc41"
            ],
            [
             0.9,
             "#4d9221"
            ],
            [
             1,
             "#276419"
            ]
           ],
           "sequential": [
            [
             0,
             "#0d0887"
            ],
            [
             0.1111111111111111,
             "#46039f"
            ],
            [
             0.2222222222222222,
             "#7201a8"
            ],
            [
             0.3333333333333333,
             "#9c179e"
            ],
            [
             0.4444444444444444,
             "#bd3786"
            ],
            [
             0.5555555555555556,
             "#d8576b"
            ],
            [
             0.6666666666666666,
             "#ed7953"
            ],
            [
             0.7777777777777778,
             "#fb9f3a"
            ],
            [
             0.8888888888888888,
             "#fdca26"
            ],
            [
             1,
             "#f0f921"
            ]
           ],
           "sequentialminus": [
            [
             0,
             "#0d0887"
            ],
            [
             0.1111111111111111,
             "#46039f"
            ],
            [
             0.2222222222222222,
             "#7201a8"
            ],
            [
             0.3333333333333333,
             "#9c179e"
            ],
            [
             0.4444444444444444,
             "#bd3786"
            ],
            [
             0.5555555555555556,
             "#d8576b"
            ],
            [
             0.6666666666666666,
             "#ed7953"
            ],
            [
             0.7777777777777778,
             "#fb9f3a"
            ],
            [
             0.8888888888888888,
             "#fdca26"
            ],
            [
             1,
             "#f0f921"
            ]
           ]
          },
          "colorway": [
           "#636efa",
           "#EF553B",
           "#00cc96",
           "#ab63fa",
           "#FFA15A",
           "#19d3f3",
           "#FF6692",
           "#B6E880",
           "#FF97FF",
           "#FECB52"
          ],
          "font": {
           "color": "#2a3f5f"
          },
          "geo": {
           "bgcolor": "white",
           "lakecolor": "white",
           "landcolor": "#E5ECF6",
           "showlakes": true,
           "showland": true,
           "subunitcolor": "white"
          },
          "hoverlabel": {
           "align": "left"
          },
          "hovermode": "closest",
          "mapbox": {
           "style": "light"
          },
          "paper_bgcolor": "white",
          "plot_bgcolor": "#E5ECF6",
          "polar": {
           "angularaxis": {
            "gridcolor": "white",
            "linecolor": "white",
            "ticks": ""
           },
           "bgcolor": "#E5ECF6",
           "radialaxis": {
            "gridcolor": "white",
            "linecolor": "white",
            "ticks": ""
           }
          },
          "scene": {
           "xaxis": {
            "backgroundcolor": "#E5ECF6",
            "gridcolor": "white",
            "gridwidth": 2,
            "linecolor": "white",
            "showbackground": true,
            "ticks": "",
            "zerolinecolor": "white"
           },
           "yaxis": {
            "backgroundcolor": "#E5ECF6",
            "gridcolor": "white",
            "gridwidth": 2,
            "linecolor": "white",
            "showbackground": true,
            "ticks": "",
            "zerolinecolor": "white"
           },
           "zaxis": {
            "backgroundcolor": "#E5ECF6",
            "gridcolor": "white",
            "gridwidth": 2,
            "linecolor": "white",
            "showbackground": true,
            "ticks": "",
            "zerolinecolor": "white"
           }
          },
          "shapedefaults": {
           "line": {
            "color": "#2a3f5f"
           }
          },
          "ternary": {
           "aaxis": {
            "gridcolor": "white",
            "linecolor": "white",
            "ticks": ""
           },
           "baxis": {
            "gridcolor": "white",
            "linecolor": "white",
            "ticks": ""
           },
           "bgcolor": "#E5ECF6",
           "caxis": {
            "gridcolor": "white",
            "linecolor": "white",
            "ticks": ""
           }
          },
          "title": {
           "x": 0.05
          },
          "xaxis": {
           "automargin": true,
           "gridcolor": "white",
           "linecolor": "white",
           "ticks": "",
           "title": {
            "standoff": 15
           },
           "zerolinecolor": "white",
           "zerolinewidth": 2
          },
          "yaxis": {
           "automargin": true,
           "gridcolor": "white",
           "linecolor": "white",
           "ticks": "",
           "title": {
            "standoff": 15
           },
           "zerolinecolor": "white",
           "zerolinewidth": 2
          }
         }
        },
        "title": {
         "text": "Confirmed Cases based on Age of Patients"
        },
        "width": 800,
        "xaxis": {
         "anchor": "y",
         "domain": [
          0,
          1
         ],
         "title": {
          "text": "Age Group"
         }
        },
        "yaxis": {
         "anchor": "x",
         "domain": [
          0,
          1
         ],
         "title": {
          "text": "Confirmed"
         }
        }
       }
      },
      "text/html": [
       "<div>\n",
       "        \n",
       "        \n",
       "            <div id=\"447413f8-5946-45e8-b75e-973a97fd1628\" class=\"plotly-graph-div\" style=\"height:500px; width:800px;\"></div>\n",
       "            <script type=\"text/javascript\">\n",
       "                require([\"plotly\"], function(Plotly) {\n",
       "                    window.PLOTLYENV=window.PLOTLYENV || {};\n",
       "                    \n",
       "                if (document.getElementById(\"447413f8-5946-45e8-b75e-973a97fd1628\")) {\n",
       "                    Plotly.newPlot(\n",
       "                        '447413f8-5946-45e8-b75e-973a97fd1628',\n",
       "                        [{\"alignmentgroup\": \"True\", \"hovertemplate\": \"Age Group=%{x}<br>Confirmed=%{y}<extra></extra>\", \"legendgroup\": \"\", \"marker\": {\"color\": \"purple\"}, \"name\": \"\", \"offsetgroup\": \"\", \"orientation\": \"v\", \"showlegend\": false, \"textposition\": \"auto\", \"type\": \"bar\", \"x\": [\"12-20\", \"20-40\", \"3-12\", \"40-60\", \"60+\", \"<3\"], \"xaxis\": \"x\", \"y\": [31, 184, 18, 104, 54, 4], \"yaxis\": \"y\"}],\n",
       "                        {\"barmode\": \"relative\", \"height\": 500, \"legend\": {\"tracegroupgap\": 0}, \"template\": {\"data\": {\"bar\": [{\"error_x\": {\"color\": \"#2a3f5f\"}, \"error_y\": {\"color\": \"#2a3f5f\"}, \"marker\": {\"line\": {\"color\": \"#E5ECF6\", \"width\": 0.5}}, \"type\": \"bar\"}], \"barpolar\": [{\"marker\": {\"line\": {\"color\": \"#E5ECF6\", \"width\": 0.5}}, \"type\": \"barpolar\"}], \"carpet\": [{\"aaxis\": {\"endlinecolor\": \"#2a3f5f\", \"gridcolor\": \"white\", \"linecolor\": \"white\", \"minorgridcolor\": \"white\", \"startlinecolor\": \"#2a3f5f\"}, \"baxis\": {\"endlinecolor\": \"#2a3f5f\", \"gridcolor\": \"white\", \"linecolor\": \"white\", \"minorgridcolor\": \"white\", \"startlinecolor\": \"#2a3f5f\"}, \"type\": \"carpet\"}], \"choropleth\": [{\"colorbar\": {\"outlinewidth\": 0, \"ticks\": \"\"}, \"type\": \"choropleth\"}], \"contour\": [{\"colorbar\": {\"outlinewidth\": 0, \"ticks\": \"\"}, \"colorscale\": [[0.0, \"#0d0887\"], [0.1111111111111111, \"#46039f\"], [0.2222222222222222, \"#7201a8\"], [0.3333333333333333, \"#9c179e\"], [0.4444444444444444, \"#bd3786\"], [0.5555555555555556, \"#d8576b\"], [0.6666666666666666, \"#ed7953\"], [0.7777777777777778, \"#fb9f3a\"], [0.8888888888888888, \"#fdca26\"], [1.0, \"#f0f921\"]], \"type\": \"contour\"}], \"contourcarpet\": [{\"colorbar\": {\"outlinewidth\": 0, \"ticks\": \"\"}, \"type\": \"contourcarpet\"}], \"heatmap\": [{\"colorbar\": {\"outlinewidth\": 0, \"ticks\": \"\"}, \"colorscale\": [[0.0, \"#0d0887\"], [0.1111111111111111, \"#46039f\"], [0.2222222222222222, \"#7201a8\"], [0.3333333333333333, \"#9c179e\"], [0.4444444444444444, \"#bd3786\"], [0.5555555555555556, \"#d8576b\"], [0.6666666666666666, \"#ed7953\"], [0.7777777777777778, \"#fb9f3a\"], [0.8888888888888888, \"#fdca26\"], [1.0, \"#f0f921\"]], \"type\": \"heatmap\"}], \"heatmapgl\": [{\"colorbar\": {\"outlinewidth\": 0, \"ticks\": \"\"}, \"colorscale\": [[0.0, \"#0d0887\"], [0.1111111111111111, \"#46039f\"], [0.2222222222222222, \"#7201a8\"], [0.3333333333333333, \"#9c179e\"], [0.4444444444444444, \"#bd3786\"], [0.5555555555555556, \"#d8576b\"], [0.6666666666666666, \"#ed7953\"], [0.7777777777777778, \"#fb9f3a\"], [0.8888888888888888, \"#fdca26\"], [1.0, \"#f0f921\"]], \"type\": \"heatmapgl\"}], \"histogram\": [{\"marker\": {\"colorbar\": {\"outlinewidth\": 0, \"ticks\": \"\"}}, \"type\": \"histogram\"}], \"histogram2d\": [{\"colorbar\": {\"outlinewidth\": 0, \"ticks\": \"\"}, \"colorscale\": [[0.0, \"#0d0887\"], [0.1111111111111111, \"#46039f\"], [0.2222222222222222, \"#7201a8\"], [0.3333333333333333, \"#9c179e\"], [0.4444444444444444, \"#bd3786\"], [0.5555555555555556, \"#d8576b\"], [0.6666666666666666, \"#ed7953\"], [0.7777777777777778, \"#fb9f3a\"], [0.8888888888888888, \"#fdca26\"], [1.0, \"#f0f921\"]], \"type\": \"histogram2d\"}], \"histogram2dcontour\": [{\"colorbar\": {\"outlinewidth\": 0, \"ticks\": \"\"}, \"colorscale\": [[0.0, \"#0d0887\"], [0.1111111111111111, \"#46039f\"], [0.2222222222222222, \"#7201a8\"], [0.3333333333333333, \"#9c179e\"], [0.4444444444444444, \"#bd3786\"], [0.5555555555555556, \"#d8576b\"], [0.6666666666666666, \"#ed7953\"], [0.7777777777777778, \"#fb9f3a\"], [0.8888888888888888, \"#fdca26\"], [1.0, \"#f0f921\"]], \"type\": \"histogram2dcontour\"}], \"mesh3d\": [{\"colorbar\": {\"outlinewidth\": 0, \"ticks\": \"\"}, \"type\": \"mesh3d\"}], \"parcoords\": [{\"line\": {\"colorbar\": {\"outlinewidth\": 0, \"ticks\": \"\"}}, \"type\": \"parcoords\"}], \"pie\": [{\"automargin\": true, \"type\": \"pie\"}], \"scatter\": [{\"marker\": {\"colorbar\": {\"outlinewidth\": 0, \"ticks\": \"\"}}, \"type\": \"scatter\"}], \"scatter3d\": [{\"line\": {\"colorbar\": {\"outlinewidth\": 0, \"ticks\": \"\"}}, \"marker\": {\"colorbar\": {\"outlinewidth\": 0, \"ticks\": \"\"}}, \"type\": \"scatter3d\"}], \"scattercarpet\": [{\"marker\": {\"colorbar\": {\"outlinewidth\": 0, \"ticks\": \"\"}}, \"type\": \"scattercarpet\"}], \"scattergeo\": [{\"marker\": {\"colorbar\": {\"outlinewidth\": 0, \"ticks\": \"\"}}, \"type\": \"scattergeo\"}], \"scattergl\": [{\"marker\": {\"colorbar\": {\"outlinewidth\": 0, \"ticks\": \"\"}}, \"type\": \"scattergl\"}], \"scattermapbox\": [{\"marker\": {\"colorbar\": {\"outlinewidth\": 0, \"ticks\": \"\"}}, \"type\": \"scattermapbox\"}], \"scatterpolar\": [{\"marker\": {\"colorbar\": {\"outlinewidth\": 0, \"ticks\": \"\"}}, \"type\": \"scatterpolar\"}], \"scatterpolargl\": [{\"marker\": {\"colorbar\": {\"outlinewidth\": 0, \"ticks\": \"\"}}, \"type\": \"scatterpolargl\"}], \"scatterternary\": [{\"marker\": {\"colorbar\": {\"outlinewidth\": 0, \"ticks\": \"\"}}, \"type\": \"scatterternary\"}], \"surface\": [{\"colorbar\": {\"outlinewidth\": 0, \"ticks\": \"\"}, \"colorscale\": [[0.0, \"#0d0887\"], [0.1111111111111111, \"#46039f\"], [0.2222222222222222, \"#7201a8\"], [0.3333333333333333, \"#9c179e\"], [0.4444444444444444, \"#bd3786\"], [0.5555555555555556, \"#d8576b\"], [0.6666666666666666, \"#ed7953\"], [0.7777777777777778, \"#fb9f3a\"], [0.8888888888888888, \"#fdca26\"], [1.0, \"#f0f921\"]], \"type\": \"surface\"}], \"table\": [{\"cells\": {\"fill\": {\"color\": \"#EBF0F8\"}, \"line\": {\"color\": \"white\"}}, \"header\": {\"fill\": {\"color\": \"#C8D4E3\"}, \"line\": {\"color\": \"white\"}}, \"type\": \"table\"}]}, \"layout\": {\"annotationdefaults\": {\"arrowcolor\": \"#2a3f5f\", \"arrowhead\": 0, \"arrowwidth\": 1}, \"coloraxis\": {\"colorbar\": {\"outlinewidth\": 0, \"ticks\": \"\"}}, \"colorscale\": {\"diverging\": [[0, \"#8e0152\"], [0.1, \"#c51b7d\"], [0.2, \"#de77ae\"], [0.3, \"#f1b6da\"], [0.4, \"#fde0ef\"], [0.5, \"#f7f7f7\"], [0.6, \"#e6f5d0\"], [0.7, \"#b8e186\"], [0.8, \"#7fbc41\"], [0.9, \"#4d9221\"], [1, \"#276419\"]], \"sequential\": [[0.0, \"#0d0887\"], [0.1111111111111111, \"#46039f\"], [0.2222222222222222, \"#7201a8\"], [0.3333333333333333, \"#9c179e\"], [0.4444444444444444, \"#bd3786\"], [0.5555555555555556, \"#d8576b\"], [0.6666666666666666, \"#ed7953\"], [0.7777777777777778, \"#fb9f3a\"], [0.8888888888888888, \"#fdca26\"], [1.0, \"#f0f921\"]], \"sequentialminus\": [[0.0, \"#0d0887\"], [0.1111111111111111, \"#46039f\"], [0.2222222222222222, \"#7201a8\"], [0.3333333333333333, \"#9c179e\"], [0.4444444444444444, \"#bd3786\"], [0.5555555555555556, \"#d8576b\"], [0.6666666666666666, \"#ed7953\"], [0.7777777777777778, \"#fb9f3a\"], [0.8888888888888888, \"#fdca26\"], [1.0, \"#f0f921\"]]}, \"colorway\": [\"#636efa\", \"#EF553B\", \"#00cc96\", \"#ab63fa\", \"#FFA15A\", \"#19d3f3\", \"#FF6692\", \"#B6E880\", \"#FF97FF\", \"#FECB52\"], \"font\": {\"color\": \"#2a3f5f\"}, \"geo\": {\"bgcolor\": \"white\", \"lakecolor\": \"white\", \"landcolor\": \"#E5ECF6\", \"showlakes\": true, \"showland\": true, \"subunitcolor\": \"white\"}, \"hoverlabel\": {\"align\": \"left\"}, \"hovermode\": \"closest\", \"mapbox\": {\"style\": \"light\"}, \"paper_bgcolor\": \"white\", \"plot_bgcolor\": \"#E5ECF6\", \"polar\": {\"angularaxis\": {\"gridcolor\": \"white\", \"linecolor\": \"white\", \"ticks\": \"\"}, \"bgcolor\": \"#E5ECF6\", \"radialaxis\": {\"gridcolor\": \"white\", \"linecolor\": \"white\", \"ticks\": \"\"}}, \"scene\": {\"xaxis\": {\"backgroundcolor\": \"#E5ECF6\", \"gridcolor\": \"white\", \"gridwidth\": 2, \"linecolor\": \"white\", \"showbackground\": true, \"ticks\": \"\", \"zerolinecolor\": \"white\"}, \"yaxis\": {\"backgroundcolor\": \"#E5ECF6\", \"gridcolor\": \"white\", \"gridwidth\": 2, \"linecolor\": \"white\", \"showbackground\": true, \"ticks\": \"\", \"zerolinecolor\": \"white\"}, \"zaxis\": {\"backgroundcolor\": \"#E5ECF6\", \"gridcolor\": \"white\", \"gridwidth\": 2, \"linecolor\": \"white\", \"showbackground\": true, \"ticks\": \"\", \"zerolinecolor\": \"white\"}}, \"shapedefaults\": {\"line\": {\"color\": \"#2a3f5f\"}}, \"ternary\": {\"aaxis\": {\"gridcolor\": \"white\", \"linecolor\": \"white\", \"ticks\": \"\"}, \"baxis\": {\"gridcolor\": \"white\", \"linecolor\": \"white\", \"ticks\": \"\"}, \"bgcolor\": \"#E5ECF6\", \"caxis\": {\"gridcolor\": \"white\", \"linecolor\": \"white\", \"ticks\": \"\"}}, \"title\": {\"x\": 0.05}, \"xaxis\": {\"automargin\": true, \"gridcolor\": \"white\", \"linecolor\": \"white\", \"ticks\": \"\", \"title\": {\"standoff\": 15}, \"zerolinecolor\": \"white\", \"zerolinewidth\": 2}, \"yaxis\": {\"automargin\": true, \"gridcolor\": \"white\", \"linecolor\": \"white\", \"ticks\": \"\", \"title\": {\"standoff\": 15}, \"zerolinecolor\": \"white\", \"zerolinewidth\": 2}}}, \"title\": {\"text\": \"Confirmed Cases based on Age of Patients\"}, \"width\": 800, \"xaxis\": {\"anchor\": \"y\", \"domain\": [0.0, 1.0], \"title\": {\"text\": \"Age Group\"}}, \"yaxis\": {\"anchor\": \"x\", \"domain\": [0.0, 1.0], \"title\": {\"text\": \"Confirmed\"}}},\n",
       "                        {\"responsive\": true}\n",
       "                    ).then(function(){\n",
       "                            \n",
       "var gd = document.getElementById('447413f8-5946-45e8-b75e-973a97fd1628');\n",
       "var x = new MutationObserver(function (mutations, observer) {{\n",
       "        var display = window.getComputedStyle(gd).display;\n",
       "        if (!display || display === 'none') {{\n",
       "            console.log([gd, 'removed!']);\n",
       "            Plotly.purge(gd);\n",
       "            observer.disconnect();\n",
       "        }}\n",
       "}});\n",
       "\n",
       "// Listen for the removal of the full notebook cells\n",
       "var notebookContainer = gd.closest('#notebook-container');\n",
       "if (notebookContainer) {{\n",
       "    x.observe(notebookContainer, {childList: true});\n",
       "}}\n",
       "\n",
       "// Listen for the clearing of the current output cell\n",
       "var outputEl = gd.closest('.output');\n",
       "if (outputEl) {{\n",
       "    x.observe(outputEl, {childList: true});\n",
       "}}\n",
       "\n",
       "                        })\n",
       "                };\n",
       "                });\n",
       "            </script>\n",
       "        </div>"
      ]
     },
     "metadata": {},
     "output_type": "display_data"
    }
   ],
   "source": [
    "\n",
    "#ageGroup=rawCases.groupby(by='AgeRange')\n",
    "#ageGroup.AgeRange.count().plot(kind='bar');\n",
    "\n",
    "ageGroup=rawCases.groupby(by='AgeRange').size().reset_index(name='count')\n",
    "ageGroup=ageGroup.rename(columns={'AgeRange':'Age Group','count':'Confirmed'})\n",
    "\n",
    "\n",
    "px.bar(\n",
    "    ageGroup,\n",
    "    x = \"Age Group\",\n",
    "    y = \"Confirmed\",\n",
    "    title= \"Confirmed Cases based on Age of Patients\", # the axis names\n",
    "    color_discrete_sequence=[\"purple\"], \n",
    "    height=500,\n",
    "    width=800\n",
    ")\n"
   ]
  },
  {
   "cell_type": "code",
   "execution_count": 172,
   "metadata": {},
   "outputs": [],
   "source": [
    "districtData=rawCases.groupby(by='Location').size().reset_index(name='count')"
   ]
  },
  {
   "cell_type": "code",
   "execution_count": 173,
   "metadata": {},
   "outputs": [],
   "source": [
    "sortedDistrict=districtData.sort_values(by='count',ascending=False)\n",
    "sortedDistrict=sortedDistrict.rename(columns={'Location':'Districts','count':'Confirmed'})"
   ]
  },
  {
   "cell_type": "code",
   "execution_count": 174,
   "metadata": {},
   "outputs": [
    {
     "data": {
      "application/vnd.plotly.v1+json": {
       "config": {
        "plotlyServerURL": "https://plot.ly"
       },
       "data": [
        {
         "hovertemplate": "<b>%{hovertext}</b><br><br>Districts=%{x}<br>Confirmed=%{marker.size}<extra></extra>",
         "hovertext": [
          "Bengaluru"
         ],
         "legendgroup": "Bengaluru",
         "marker": {
          "color": "#636efa",
          "size": [
           96
          ],
          "sizemode": "area",
          "sizeref": 0.02666666666666667,
          "symbol": "circle"
         },
         "mode": "markers",
         "name": "Bengaluru",
         "showlegend": true,
         "type": "scatter",
         "x": [
          "Bengaluru"
         ],
         "xaxis": "x",
         "y": [
          96
         ],
         "yaxis": "y"
        },
        {
         "hovertemplate": "<b>%{hovertext}</b><br><br>Districts=%{x}<br>Confirmed=%{marker.size}<extra></extra>",
         "hovertext": [
          "Mysuru"
         ],
         "legendgroup": "Mysuru",
         "marker": {
          "color": "#EF553B",
          "size": [
           84
          ],
          "sizemode": "area",
          "sizeref": 0.02666666666666667,
          "symbol": "circle"
         },
         "mode": "markers",
         "name": "Mysuru",
         "showlegend": true,
         "type": "scatter",
         "x": [
          "Mysuru"
         ],
         "xaxis": "x",
         "y": [
          84
         ],
         "yaxis": "y"
        },
        {
         "hovertemplate": "<b>%{hovertext}</b><br><br>Districts=%{x}<br>Confirmed=%{marker.size}<extra></extra>",
         "hovertext": [
          "Belagavi"
         ],
         "legendgroup": "Belagavi",
         "marker": {
          "color": "#00cc96",
          "size": [
           42
          ],
          "sizemode": "area",
          "sizeref": 0.02666666666666667,
          "symbol": "circle"
         },
         "mode": "markers",
         "name": "Belagavi",
         "showlegend": true,
         "type": "scatter",
         "x": [
          "Belagavi"
         ],
         "xaxis": "x",
         "y": [
          42
         ],
         "yaxis": "y"
        },
        {
         "hovertemplate": "<b>%{hovertext}</b><br><br>Districts=%{x}<br>Confirmed=%{marker.size}<extra></extra>",
         "hovertext": [
          "Kalaburagi"
         ],
         "legendgroup": "Kalaburagi",
         "marker": {
          "color": "#ab63fa",
          "size": [
           27
          ],
          "sizemode": "area",
          "sizeref": 0.02666666666666667,
          "symbol": "circle"
         },
         "mode": "markers",
         "name": "Kalaburagi",
         "showlegend": true,
         "type": "scatter",
         "x": [
          "Kalaburagi"
         ],
         "xaxis": "x",
         "y": [
          27
         ],
         "yaxis": "y"
        },
        {
         "hovertemplate": "<b>%{hovertext}</b><br><br>Districts=%{x}<br>Confirmed=%{marker.size}<extra></extra>",
         "hovertext": [
          "Bagalkote"
         ],
         "legendgroup": "Bagalkote",
         "marker": {
          "color": "#FFA15A",
          "size": [
           21
          ],
          "sizemode": "area",
          "sizeref": 0.02666666666666667,
          "symbol": "circle"
         },
         "mode": "markers",
         "name": "Bagalkote",
         "showlegend": true,
         "type": "scatter",
         "x": [
          "Bagalkote"
         ],
         "xaxis": "x",
         "y": [
          21
         ],
         "yaxis": "y"
        }
       ],
       "layout": {
        "legend": {
         "itemsizing": "constant",
         "title": {
          "text": "Districts"
         },
         "tracegroupgap": 0
        },
        "margin": {
         "t": 60
        },
        "template": {
         "data": {
          "bar": [
           {
            "error_x": {
             "color": "#2a3f5f"
            },
            "error_y": {
             "color": "#2a3f5f"
            },
            "marker": {
             "line": {
              "color": "#E5ECF6",
              "width": 0.5
             }
            },
            "type": "bar"
           }
          ],
          "barpolar": [
           {
            "marker": {
             "line": {
              "color": "#E5ECF6",
              "width": 0.5
             }
            },
            "type": "barpolar"
           }
          ],
          "carpet": [
           {
            "aaxis": {
             "endlinecolor": "#2a3f5f",
             "gridcolor": "white",
             "linecolor": "white",
             "minorgridcolor": "white",
             "startlinecolor": "#2a3f5f"
            },
            "baxis": {
             "endlinecolor": "#2a3f5f",
             "gridcolor": "white",
             "linecolor": "white",
             "minorgridcolor": "white",
             "startlinecolor": "#2a3f5f"
            },
            "type": "carpet"
           }
          ],
          "choropleth": [
           {
            "colorbar": {
             "outlinewidth": 0,
             "ticks": ""
            },
            "type": "choropleth"
           }
          ],
          "contour": [
           {
            "colorbar": {
             "outlinewidth": 0,
             "ticks": ""
            },
            "colorscale": [
             [
              0,
              "#0d0887"
             ],
             [
              0.1111111111111111,
              "#46039f"
             ],
             [
              0.2222222222222222,
              "#7201a8"
             ],
             [
              0.3333333333333333,
              "#9c179e"
             ],
             [
              0.4444444444444444,
              "#bd3786"
             ],
             [
              0.5555555555555556,
              "#d8576b"
             ],
             [
              0.6666666666666666,
              "#ed7953"
             ],
             [
              0.7777777777777778,
              "#fb9f3a"
             ],
             [
              0.8888888888888888,
              "#fdca26"
             ],
             [
              1,
              "#f0f921"
             ]
            ],
            "type": "contour"
           }
          ],
          "contourcarpet": [
           {
            "colorbar": {
             "outlinewidth": 0,
             "ticks": ""
            },
            "type": "contourcarpet"
           }
          ],
          "heatmap": [
           {
            "colorbar": {
             "outlinewidth": 0,
             "ticks": ""
            },
            "colorscale": [
             [
              0,
              "#0d0887"
             ],
             [
              0.1111111111111111,
              "#46039f"
             ],
             [
              0.2222222222222222,
              "#7201a8"
             ],
             [
              0.3333333333333333,
              "#9c179e"
             ],
             [
              0.4444444444444444,
              "#bd3786"
             ],
             [
              0.5555555555555556,
              "#d8576b"
             ],
             [
              0.6666666666666666,
              "#ed7953"
             ],
             [
              0.7777777777777778,
              "#fb9f3a"
             ],
             [
              0.8888888888888888,
              "#fdca26"
             ],
             [
              1,
              "#f0f921"
             ]
            ],
            "type": "heatmap"
           }
          ],
          "heatmapgl": [
           {
            "colorbar": {
             "outlinewidth": 0,
             "ticks": ""
            },
            "colorscale": [
             [
              0,
              "#0d0887"
             ],
             [
              0.1111111111111111,
              "#46039f"
             ],
             [
              0.2222222222222222,
              "#7201a8"
             ],
             [
              0.3333333333333333,
              "#9c179e"
             ],
             [
              0.4444444444444444,
              "#bd3786"
             ],
             [
              0.5555555555555556,
              "#d8576b"
             ],
             [
              0.6666666666666666,
              "#ed7953"
             ],
             [
              0.7777777777777778,
              "#fb9f3a"
             ],
             [
              0.8888888888888888,
              "#fdca26"
             ],
             [
              1,
              "#f0f921"
             ]
            ],
            "type": "heatmapgl"
           }
          ],
          "histogram": [
           {
            "marker": {
             "colorbar": {
              "outlinewidth": 0,
              "ticks": ""
             }
            },
            "type": "histogram"
           }
          ],
          "histogram2d": [
           {
            "colorbar": {
             "outlinewidth": 0,
             "ticks": ""
            },
            "colorscale": [
             [
              0,
              "#0d0887"
             ],
             [
              0.1111111111111111,
              "#46039f"
             ],
             [
              0.2222222222222222,
              "#7201a8"
             ],
             [
              0.3333333333333333,
              "#9c179e"
             ],
             [
              0.4444444444444444,
              "#bd3786"
             ],
             [
              0.5555555555555556,
              "#d8576b"
             ],
             [
              0.6666666666666666,
              "#ed7953"
             ],
             [
              0.7777777777777778,
              "#fb9f3a"
             ],
             [
              0.8888888888888888,
              "#fdca26"
             ],
             [
              1,
              "#f0f921"
             ]
            ],
            "type": "histogram2d"
           }
          ],
          "histogram2dcontour": [
           {
            "colorbar": {
             "outlinewidth": 0,
             "ticks": ""
            },
            "colorscale": [
             [
              0,
              "#0d0887"
             ],
             [
              0.1111111111111111,
              "#46039f"
             ],
             [
              0.2222222222222222,
              "#7201a8"
             ],
             [
              0.3333333333333333,
              "#9c179e"
             ],
             [
              0.4444444444444444,
              "#bd3786"
             ],
             [
              0.5555555555555556,
              "#d8576b"
             ],
             [
              0.6666666666666666,
              "#ed7953"
             ],
             [
              0.7777777777777778,
              "#fb9f3a"
             ],
             [
              0.8888888888888888,
              "#fdca26"
             ],
             [
              1,
              "#f0f921"
             ]
            ],
            "type": "histogram2dcontour"
           }
          ],
          "mesh3d": [
           {
            "colorbar": {
             "outlinewidth": 0,
             "ticks": ""
            },
            "type": "mesh3d"
           }
          ],
          "parcoords": [
           {
            "line": {
             "colorbar": {
              "outlinewidth": 0,
              "ticks": ""
             }
            },
            "type": "parcoords"
           }
          ],
          "pie": [
           {
            "automargin": true,
            "type": "pie"
           }
          ],
          "scatter": [
           {
            "marker": {
             "colorbar": {
              "outlinewidth": 0,
              "ticks": ""
             }
            },
            "type": "scatter"
           }
          ],
          "scatter3d": [
           {
            "line": {
             "colorbar": {
              "outlinewidth": 0,
              "ticks": ""
             }
            },
            "marker": {
             "colorbar": {
              "outlinewidth": 0,
              "ticks": ""
             }
            },
            "type": "scatter3d"
           }
          ],
          "scattercarpet": [
           {
            "marker": {
             "colorbar": {
              "outlinewidth": 0,
              "ticks": ""
             }
            },
            "type": "scattercarpet"
           }
          ],
          "scattergeo": [
           {
            "marker": {
             "colorbar": {
              "outlinewidth": 0,
              "ticks": ""
             }
            },
            "type": "scattergeo"
           }
          ],
          "scattergl": [
           {
            "marker": {
             "colorbar": {
              "outlinewidth": 0,
              "ticks": ""
             }
            },
            "type": "scattergl"
           }
          ],
          "scattermapbox": [
           {
            "marker": {
             "colorbar": {
              "outlinewidth": 0,
              "ticks": ""
             }
            },
            "type": "scattermapbox"
           }
          ],
          "scatterpolar": [
           {
            "marker": {
             "colorbar": {
              "outlinewidth": 0,
              "ticks": ""
             }
            },
            "type": "scatterpolar"
           }
          ],
          "scatterpolargl": [
           {
            "marker": {
             "colorbar": {
              "outlinewidth": 0,
              "ticks": ""
             }
            },
            "type": "scatterpolargl"
           }
          ],
          "scatterternary": [
           {
            "marker": {
             "colorbar": {
              "outlinewidth": 0,
              "ticks": ""
             }
            },
            "type": "scatterternary"
           }
          ],
          "surface": [
           {
            "colorbar": {
             "outlinewidth": 0,
             "ticks": ""
            },
            "colorscale": [
             [
              0,
              "#0d0887"
             ],
             [
              0.1111111111111111,
              "#46039f"
             ],
             [
              0.2222222222222222,
              "#7201a8"
             ],
             [
              0.3333333333333333,
              "#9c179e"
             ],
             [
              0.4444444444444444,
              "#bd3786"
             ],
             [
              0.5555555555555556,
              "#d8576b"
             ],
             [
              0.6666666666666666,
              "#ed7953"
             ],
             [
              0.7777777777777778,
              "#fb9f3a"
             ],
             [
              0.8888888888888888,
              "#fdca26"
             ],
             [
              1,
              "#f0f921"
             ]
            ],
            "type": "surface"
           }
          ],
          "table": [
           {
            "cells": {
             "fill": {
              "color": "#EBF0F8"
             },
             "line": {
              "color": "white"
             }
            },
            "header": {
             "fill": {
              "color": "#C8D4E3"
             },
             "line": {
              "color": "white"
             }
            },
            "type": "table"
           }
          ]
         },
         "layout": {
          "annotationdefaults": {
           "arrowcolor": "#2a3f5f",
           "arrowhead": 0,
           "arrowwidth": 1
          },
          "coloraxis": {
           "colorbar": {
            "outlinewidth": 0,
            "ticks": ""
           }
          },
          "colorscale": {
           "diverging": [
            [
             0,
             "#8e0152"
            ],
            [
             0.1,
             "#c51b7d"
            ],
            [
             0.2,
             "#de77ae"
            ],
            [
             0.3,
             "#f1b6da"
            ],
            [
             0.4,
             "#fde0ef"
            ],
            [
             0.5,
             "#f7f7f7"
            ],
            [
             0.6,
             "#e6f5d0"
            ],
            [
             0.7,
             "#b8e186"
            ],
            [
             0.8,
             "#7fbc41"
            ],
            [
             0.9,
             "#4d9221"
            ],
            [
             1,
             "#276419"
            ]
           ],
           "sequential": [
            [
             0,
             "#0d0887"
            ],
            [
             0.1111111111111111,
             "#46039f"
            ],
            [
             0.2222222222222222,
             "#7201a8"
            ],
            [
             0.3333333333333333,
             "#9c179e"
            ],
            [
             0.4444444444444444,
             "#bd3786"
            ],
            [
             0.5555555555555556,
             "#d8576b"
            ],
            [
             0.6666666666666666,
             "#ed7953"
            ],
            [
             0.7777777777777778,
             "#fb9f3a"
            ],
            [
             0.8888888888888888,
             "#fdca26"
            ],
            [
             1,
             "#f0f921"
            ]
           ],
           "sequentialminus": [
            [
             0,
             "#0d0887"
            ],
            [
             0.1111111111111111,
             "#46039f"
            ],
            [
             0.2222222222222222,
             "#7201a8"
            ],
            [
             0.3333333333333333,
             "#9c179e"
            ],
            [
             0.4444444444444444,
             "#bd3786"
            ],
            [
             0.5555555555555556,
             "#d8576b"
            ],
            [
             0.6666666666666666,
             "#ed7953"
            ],
            [
             0.7777777777777778,
             "#fb9f3a"
            ],
            [
             0.8888888888888888,
             "#fdca26"
            ],
            [
             1,
             "#f0f921"
            ]
           ]
          },
          "colorway": [
           "#636efa",
           "#EF553B",
           "#00cc96",
           "#ab63fa",
           "#FFA15A",
           "#19d3f3",
           "#FF6692",
           "#B6E880",
           "#FF97FF",
           "#FECB52"
          ],
          "font": {
           "color": "#2a3f5f"
          },
          "geo": {
           "bgcolor": "white",
           "lakecolor": "white",
           "landcolor": "#E5ECF6",
           "showlakes": true,
           "showland": true,
           "subunitcolor": "white"
          },
          "hoverlabel": {
           "align": "left"
          },
          "hovermode": "closest",
          "mapbox": {
           "style": "light"
          },
          "paper_bgcolor": "white",
          "plot_bgcolor": "#E5ECF6",
          "polar": {
           "angularaxis": {
            "gridcolor": "white",
            "linecolor": "white",
            "ticks": ""
           },
           "bgcolor": "#E5ECF6",
           "radialaxis": {
            "gridcolor": "white",
            "linecolor": "white",
            "ticks": ""
           }
          },
          "scene": {
           "xaxis": {
            "backgroundcolor": "#E5ECF6",
            "gridcolor": "white",
            "gridwidth": 2,
            "linecolor": "white",
            "showbackground": true,
            "ticks": "",
            "zerolinecolor": "white"
           },
           "yaxis": {
            "backgroundcolor": "#E5ECF6",
            "gridcolor": "white",
            "gridwidth": 2,
            "linecolor": "white",
            "showbackground": true,
            "ticks": "",
            "zerolinecolor": "white"
           },
           "zaxis": {
            "backgroundcolor": "#E5ECF6",
            "gridcolor": "white",
            "gridwidth": 2,
            "linecolor": "white",
            "showbackground": true,
            "ticks": "",
            "zerolinecolor": "white"
           }
          },
          "shapedefaults": {
           "line": {
            "color": "#2a3f5f"
           }
          },
          "ternary": {
           "aaxis": {
            "gridcolor": "white",
            "linecolor": "white",
            "ticks": ""
           },
           "baxis": {
            "gridcolor": "white",
            "linecolor": "white",
            "ticks": ""
           },
           "bgcolor": "#E5ECF6",
           "caxis": {
            "gridcolor": "white",
            "linecolor": "white",
            "ticks": ""
           }
          },
          "title": {
           "x": 0.05
          },
          "xaxis": {
           "automargin": true,
           "gridcolor": "white",
           "linecolor": "white",
           "ticks": "",
           "title": {
            "standoff": 15
           },
           "zerolinecolor": "white",
           "zerolinewidth": 2
          },
          "yaxis": {
           "automargin": true,
           "gridcolor": "white",
           "linecolor": "white",
           "ticks": "",
           "title": {
            "standoff": 15
           },
           "zerolinecolor": "white",
           "zerolinewidth": 2
          }
         }
        },
        "title": {
         "text": "5 Worst hit districts in Karnataka"
        },
        "width": 700,
        "xaxis": {
         "anchor": "y",
         "categoryarray": [
          "Bengaluru",
          "Mysuru",
          "Belagavi",
          "Kalaburagi",
          "Bagalkote"
         ],
         "categoryorder": "array",
         "domain": [
          0,
          1
         ],
         "title": {
          "text": "Districts"
         }
        },
        "yaxis": {
         "anchor": "x",
         "domain": [
          0,
          1
         ],
         "title": {
          "text": "Confirmed Cases"
         }
        }
       }
      },
      "text/html": [
       "<div>\n",
       "        \n",
       "        \n",
       "            <div id=\"e701b40e-9a19-4f3b-8229-0db464a76990\" class=\"plotly-graph-div\" style=\"height:525px; width:700px;\"></div>\n",
       "            <script type=\"text/javascript\">\n",
       "                require([\"plotly\"], function(Plotly) {\n",
       "                    window.PLOTLYENV=window.PLOTLYENV || {};\n",
       "                    \n",
       "                if (document.getElementById(\"e701b40e-9a19-4f3b-8229-0db464a76990\")) {\n",
       "                    Plotly.newPlot(\n",
       "                        'e701b40e-9a19-4f3b-8229-0db464a76990',\n",
       "                        [{\"hovertemplate\": \"<b>%{hovertext}</b><br><br>Districts=%{x}<br>Confirmed=%{marker.size}<extra></extra>\", \"hovertext\": [\"Bengaluru\"], \"legendgroup\": \"Bengaluru\", \"marker\": {\"color\": \"#636efa\", \"size\": [96], \"sizemode\": \"area\", \"sizeref\": 0.02666666666666667, \"symbol\": \"circle\"}, \"mode\": \"markers\", \"name\": \"Bengaluru\", \"showlegend\": true, \"type\": \"scatter\", \"x\": [\"Bengaluru\"], \"xaxis\": \"x\", \"y\": [96], \"yaxis\": \"y\"}, {\"hovertemplate\": \"<b>%{hovertext}</b><br><br>Districts=%{x}<br>Confirmed=%{marker.size}<extra></extra>\", \"hovertext\": [\"Mysuru\"], \"legendgroup\": \"Mysuru\", \"marker\": {\"color\": \"#EF553B\", \"size\": [84], \"sizemode\": \"area\", \"sizeref\": 0.02666666666666667, \"symbol\": \"circle\"}, \"mode\": \"markers\", \"name\": \"Mysuru\", \"showlegend\": true, \"type\": \"scatter\", \"x\": [\"Mysuru\"], \"xaxis\": \"x\", \"y\": [84], \"yaxis\": \"y\"}, {\"hovertemplate\": \"<b>%{hovertext}</b><br><br>Districts=%{x}<br>Confirmed=%{marker.size}<extra></extra>\", \"hovertext\": [\"Belagavi\"], \"legendgroup\": \"Belagavi\", \"marker\": {\"color\": \"#00cc96\", \"size\": [42], \"sizemode\": \"area\", \"sizeref\": 0.02666666666666667, \"symbol\": \"circle\"}, \"mode\": \"markers\", \"name\": \"Belagavi\", \"showlegend\": true, \"type\": \"scatter\", \"x\": [\"Belagavi\"], \"xaxis\": \"x\", \"y\": [42], \"yaxis\": \"y\"}, {\"hovertemplate\": \"<b>%{hovertext}</b><br><br>Districts=%{x}<br>Confirmed=%{marker.size}<extra></extra>\", \"hovertext\": [\"Kalaburagi\"], \"legendgroup\": \"Kalaburagi\", \"marker\": {\"color\": \"#ab63fa\", \"size\": [27], \"sizemode\": \"area\", \"sizeref\": 0.02666666666666667, \"symbol\": \"circle\"}, \"mode\": \"markers\", \"name\": \"Kalaburagi\", \"showlegend\": true, \"type\": \"scatter\", \"x\": [\"Kalaburagi\"], \"xaxis\": \"x\", \"y\": [27], \"yaxis\": \"y\"}, {\"hovertemplate\": \"<b>%{hovertext}</b><br><br>Districts=%{x}<br>Confirmed=%{marker.size}<extra></extra>\", \"hovertext\": [\"Bagalkote\"], \"legendgroup\": \"Bagalkote\", \"marker\": {\"color\": \"#FFA15A\", \"size\": [21], \"sizemode\": \"area\", \"sizeref\": 0.02666666666666667, \"symbol\": \"circle\"}, \"mode\": \"markers\", \"name\": \"Bagalkote\", \"showlegend\": true, \"type\": \"scatter\", \"x\": [\"Bagalkote\"], \"xaxis\": \"x\", \"y\": [21], \"yaxis\": \"y\"}],\n",
       "                        {\"legend\": {\"itemsizing\": \"constant\", \"title\": {\"text\": \"Districts\"}, \"tracegroupgap\": 0}, \"margin\": {\"t\": 60}, \"template\": {\"data\": {\"bar\": [{\"error_x\": {\"color\": \"#2a3f5f\"}, \"error_y\": {\"color\": \"#2a3f5f\"}, \"marker\": {\"line\": {\"color\": \"#E5ECF6\", \"width\": 0.5}}, \"type\": \"bar\"}], \"barpolar\": [{\"marker\": {\"line\": {\"color\": \"#E5ECF6\", \"width\": 0.5}}, \"type\": \"barpolar\"}], \"carpet\": [{\"aaxis\": {\"endlinecolor\": \"#2a3f5f\", \"gridcolor\": \"white\", \"linecolor\": \"white\", \"minorgridcolor\": \"white\", \"startlinecolor\": \"#2a3f5f\"}, \"baxis\": {\"endlinecolor\": \"#2a3f5f\", \"gridcolor\": \"white\", \"linecolor\": \"white\", \"minorgridcolor\": \"white\", \"startlinecolor\": \"#2a3f5f\"}, \"type\": \"carpet\"}], \"choropleth\": [{\"colorbar\": {\"outlinewidth\": 0, \"ticks\": \"\"}, \"type\": \"choropleth\"}], \"contour\": [{\"colorbar\": {\"outlinewidth\": 0, \"ticks\": \"\"}, \"colorscale\": [[0.0, \"#0d0887\"], [0.1111111111111111, \"#46039f\"], [0.2222222222222222, \"#7201a8\"], [0.3333333333333333, \"#9c179e\"], [0.4444444444444444, \"#bd3786\"], [0.5555555555555556, \"#d8576b\"], [0.6666666666666666, \"#ed7953\"], [0.7777777777777778, \"#fb9f3a\"], [0.8888888888888888, \"#fdca26\"], [1.0, \"#f0f921\"]], \"type\": \"contour\"}], \"contourcarpet\": [{\"colorbar\": {\"outlinewidth\": 0, \"ticks\": \"\"}, \"type\": \"contourcarpet\"}], \"heatmap\": [{\"colorbar\": {\"outlinewidth\": 0, \"ticks\": \"\"}, \"colorscale\": [[0.0, \"#0d0887\"], [0.1111111111111111, \"#46039f\"], [0.2222222222222222, \"#7201a8\"], [0.3333333333333333, \"#9c179e\"], [0.4444444444444444, \"#bd3786\"], [0.5555555555555556, \"#d8576b\"], [0.6666666666666666, \"#ed7953\"], [0.7777777777777778, \"#fb9f3a\"], [0.8888888888888888, \"#fdca26\"], [1.0, \"#f0f921\"]], \"type\": \"heatmap\"}], \"heatmapgl\": [{\"colorbar\": {\"outlinewidth\": 0, \"ticks\": \"\"}, \"colorscale\": [[0.0, \"#0d0887\"], [0.1111111111111111, \"#46039f\"], [0.2222222222222222, \"#7201a8\"], [0.3333333333333333, \"#9c179e\"], [0.4444444444444444, \"#bd3786\"], [0.5555555555555556, \"#d8576b\"], [0.6666666666666666, \"#ed7953\"], [0.7777777777777778, \"#fb9f3a\"], [0.8888888888888888, \"#fdca26\"], [1.0, \"#f0f921\"]], \"type\": \"heatmapgl\"}], \"histogram\": [{\"marker\": {\"colorbar\": {\"outlinewidth\": 0, \"ticks\": \"\"}}, \"type\": \"histogram\"}], \"histogram2d\": [{\"colorbar\": {\"outlinewidth\": 0, \"ticks\": \"\"}, \"colorscale\": [[0.0, \"#0d0887\"], [0.1111111111111111, \"#46039f\"], [0.2222222222222222, \"#7201a8\"], [0.3333333333333333, \"#9c179e\"], [0.4444444444444444, \"#bd3786\"], [0.5555555555555556, \"#d8576b\"], [0.6666666666666666, \"#ed7953\"], [0.7777777777777778, \"#fb9f3a\"], [0.8888888888888888, \"#fdca26\"], [1.0, \"#f0f921\"]], \"type\": \"histogram2d\"}], \"histogram2dcontour\": [{\"colorbar\": {\"outlinewidth\": 0, \"ticks\": \"\"}, \"colorscale\": [[0.0, \"#0d0887\"], [0.1111111111111111, \"#46039f\"], [0.2222222222222222, \"#7201a8\"], [0.3333333333333333, \"#9c179e\"], [0.4444444444444444, \"#bd3786\"], [0.5555555555555556, \"#d8576b\"], [0.6666666666666666, \"#ed7953\"], [0.7777777777777778, \"#fb9f3a\"], [0.8888888888888888, \"#fdca26\"], [1.0, \"#f0f921\"]], \"type\": \"histogram2dcontour\"}], \"mesh3d\": [{\"colorbar\": {\"outlinewidth\": 0, \"ticks\": \"\"}, \"type\": \"mesh3d\"}], \"parcoords\": [{\"line\": {\"colorbar\": {\"outlinewidth\": 0, \"ticks\": \"\"}}, \"type\": \"parcoords\"}], \"pie\": [{\"automargin\": true, \"type\": \"pie\"}], \"scatter\": [{\"marker\": {\"colorbar\": {\"outlinewidth\": 0, \"ticks\": \"\"}}, \"type\": \"scatter\"}], \"scatter3d\": [{\"line\": {\"colorbar\": {\"outlinewidth\": 0, \"ticks\": \"\"}}, \"marker\": {\"colorbar\": {\"outlinewidth\": 0, \"ticks\": \"\"}}, \"type\": \"scatter3d\"}], \"scattercarpet\": [{\"marker\": {\"colorbar\": {\"outlinewidth\": 0, \"ticks\": \"\"}}, \"type\": \"scattercarpet\"}], \"scattergeo\": [{\"marker\": {\"colorbar\": {\"outlinewidth\": 0, \"ticks\": \"\"}}, \"type\": \"scattergeo\"}], \"scattergl\": [{\"marker\": {\"colorbar\": {\"outlinewidth\": 0, \"ticks\": \"\"}}, \"type\": \"scattergl\"}], \"scattermapbox\": [{\"marker\": {\"colorbar\": {\"outlinewidth\": 0, \"ticks\": \"\"}}, \"type\": \"scattermapbox\"}], \"scatterpolar\": [{\"marker\": {\"colorbar\": {\"outlinewidth\": 0, \"ticks\": \"\"}}, \"type\": \"scatterpolar\"}], \"scatterpolargl\": [{\"marker\": {\"colorbar\": {\"outlinewidth\": 0, \"ticks\": \"\"}}, \"type\": \"scatterpolargl\"}], \"scatterternary\": [{\"marker\": {\"colorbar\": {\"outlinewidth\": 0, \"ticks\": \"\"}}, \"type\": \"scatterternary\"}], \"surface\": [{\"colorbar\": {\"outlinewidth\": 0, \"ticks\": \"\"}, \"colorscale\": [[0.0, \"#0d0887\"], [0.1111111111111111, \"#46039f\"], [0.2222222222222222, \"#7201a8\"], [0.3333333333333333, \"#9c179e\"], [0.4444444444444444, \"#bd3786\"], [0.5555555555555556, \"#d8576b\"], [0.6666666666666666, \"#ed7953\"], [0.7777777777777778, \"#fb9f3a\"], [0.8888888888888888, \"#fdca26\"], [1.0, \"#f0f921\"]], \"type\": \"surface\"}], \"table\": [{\"cells\": {\"fill\": {\"color\": \"#EBF0F8\"}, \"line\": {\"color\": \"white\"}}, \"header\": {\"fill\": {\"color\": \"#C8D4E3\"}, \"line\": {\"color\": \"white\"}}, \"type\": \"table\"}]}, \"layout\": {\"annotationdefaults\": {\"arrowcolor\": \"#2a3f5f\", \"arrowhead\": 0, \"arrowwidth\": 1}, \"coloraxis\": {\"colorbar\": {\"outlinewidth\": 0, \"ticks\": \"\"}}, \"colorscale\": {\"diverging\": [[0, \"#8e0152\"], [0.1, \"#c51b7d\"], [0.2, \"#de77ae\"], [0.3, \"#f1b6da\"], [0.4, \"#fde0ef\"], [0.5, \"#f7f7f7\"], [0.6, \"#e6f5d0\"], [0.7, \"#b8e186\"], [0.8, \"#7fbc41\"], [0.9, \"#4d9221\"], [1, \"#276419\"]], \"sequential\": [[0.0, \"#0d0887\"], [0.1111111111111111, \"#46039f\"], [0.2222222222222222, \"#7201a8\"], [0.3333333333333333, \"#9c179e\"], [0.4444444444444444, \"#bd3786\"], [0.5555555555555556, \"#d8576b\"], [0.6666666666666666, \"#ed7953\"], [0.7777777777777778, \"#fb9f3a\"], [0.8888888888888888, \"#fdca26\"], [1.0, \"#f0f921\"]], \"sequentialminus\": [[0.0, \"#0d0887\"], [0.1111111111111111, \"#46039f\"], [0.2222222222222222, \"#7201a8\"], [0.3333333333333333, \"#9c179e\"], [0.4444444444444444, \"#bd3786\"], [0.5555555555555556, \"#d8576b\"], [0.6666666666666666, \"#ed7953\"], [0.7777777777777778, \"#fb9f3a\"], [0.8888888888888888, \"#fdca26\"], [1.0, \"#f0f921\"]]}, \"colorway\": [\"#636efa\", \"#EF553B\", \"#00cc96\", \"#ab63fa\", \"#FFA15A\", \"#19d3f3\", \"#FF6692\", \"#B6E880\", \"#FF97FF\", \"#FECB52\"], \"font\": {\"color\": \"#2a3f5f\"}, \"geo\": {\"bgcolor\": \"white\", \"lakecolor\": \"white\", \"landcolor\": \"#E5ECF6\", \"showlakes\": true, \"showland\": true, \"subunitcolor\": \"white\"}, \"hoverlabel\": {\"align\": \"left\"}, \"hovermode\": \"closest\", \"mapbox\": {\"style\": \"light\"}, \"paper_bgcolor\": \"white\", \"plot_bgcolor\": \"#E5ECF6\", \"polar\": {\"angularaxis\": {\"gridcolor\": \"white\", \"linecolor\": \"white\", \"ticks\": \"\"}, \"bgcolor\": \"#E5ECF6\", \"radialaxis\": {\"gridcolor\": \"white\", \"linecolor\": \"white\", \"ticks\": \"\"}}, \"scene\": {\"xaxis\": {\"backgroundcolor\": \"#E5ECF6\", \"gridcolor\": \"white\", \"gridwidth\": 2, \"linecolor\": \"white\", \"showbackground\": true, \"ticks\": \"\", \"zerolinecolor\": \"white\"}, \"yaxis\": {\"backgroundcolor\": \"#E5ECF6\", \"gridcolor\": \"white\", \"gridwidth\": 2, \"linecolor\": \"white\", \"showbackground\": true, \"ticks\": \"\", \"zerolinecolor\": \"white\"}, \"zaxis\": {\"backgroundcolor\": \"#E5ECF6\", \"gridcolor\": \"white\", \"gridwidth\": 2, \"linecolor\": \"white\", \"showbackground\": true, \"ticks\": \"\", \"zerolinecolor\": \"white\"}}, \"shapedefaults\": {\"line\": {\"color\": \"#2a3f5f\"}}, \"ternary\": {\"aaxis\": {\"gridcolor\": \"white\", \"linecolor\": \"white\", \"ticks\": \"\"}, \"baxis\": {\"gridcolor\": \"white\", \"linecolor\": \"white\", \"ticks\": \"\"}, \"bgcolor\": \"#E5ECF6\", \"caxis\": {\"gridcolor\": \"white\", \"linecolor\": \"white\", \"ticks\": \"\"}}, \"title\": {\"x\": 0.05}, \"xaxis\": {\"automargin\": true, \"gridcolor\": \"white\", \"linecolor\": \"white\", \"ticks\": \"\", \"title\": {\"standoff\": 15}, \"zerolinecolor\": \"white\", \"zerolinewidth\": 2}, \"yaxis\": {\"automargin\": true, \"gridcolor\": \"white\", \"linecolor\": \"white\", \"ticks\": \"\", \"title\": {\"standoff\": 15}, \"zerolinecolor\": \"white\", \"zerolinewidth\": 2}}}, \"title\": {\"text\": \"5 Worst hit districts in Karnataka\"}, \"width\": 700, \"xaxis\": {\"anchor\": \"y\", \"categoryarray\": [\"Bengaluru\", \"Mysuru\", \"Belagavi\", \"Kalaburagi\", \"Bagalkote\"], \"categoryorder\": \"array\", \"domain\": [0.0, 1.0], \"title\": {\"text\": \"Districts\"}}, \"yaxis\": {\"anchor\": \"x\", \"domain\": [0.0, 1.0], \"title\": {\"text\": \"Confirmed Cases\"}}},\n",
       "                        {\"responsive\": true}\n",
       "                    ).then(function(){\n",
       "                            \n",
       "var gd = document.getElementById('e701b40e-9a19-4f3b-8229-0db464a76990');\n",
       "var x = new MutationObserver(function (mutations, observer) {{\n",
       "        var display = window.getComputedStyle(gd).display;\n",
       "        if (!display || display === 'none') {{\n",
       "            console.log([gd, 'removed!']);\n",
       "            Plotly.purge(gd);\n",
       "            observer.disconnect();\n",
       "        }}\n",
       "}});\n",
       "\n",
       "// Listen for the removal of the full notebook cells\n",
       "var notebookContainer = gd.closest('#notebook-container');\n",
       "if (notebookContainer) {{\n",
       "    x.observe(notebookContainer, {childList: true});\n",
       "}}\n",
       "\n",
       "// Listen for the clearing of the current output cell\n",
       "var outputEl = gd.closest('.output');\n",
       "if (outputEl) {{\n",
       "    x.observe(outputEl, {childList: true});\n",
       "}}\n",
       "\n",
       "                        })\n",
       "                };\n",
       "                });\n",
       "            </script>\n",
       "        </div>"
      ]
     },
     "metadata": {},
     "output_type": "display_data"
    }
   ],
   "source": [
    "fig = px.scatter(sortedDistrict.head(), x=\"Districts\", y=\"Confirmed\", size=\"Confirmed\", color=\"Districts\",\n",
    "               hover_name=\"Districts\", size_max=60)\n",
    "fig.update_layout(\n",
    "    title=str(5) +\" Worst hit districts in Karnataka\",\n",
    "    xaxis_title=\"Districts\",\n",
    "    yaxis_title=\"Confirmed Cases\",\n",
    "    width = 700\n",
    "    )\n",
    "fig.show();"
   ]
  },
  {
   "cell_type": "code",
   "execution_count": 175,
   "metadata": {},
   "outputs": [],
   "source": [
    "originLists = []\n",
    "nodes = []\n",
    "for i,rows in rawCases['Origin'].iteritems():\n",
    "    if '#' in rows:\n",
    "        no = rows.split('#')[1].split(' ')[0]\n",
    "        node = str(rawCases['Patient Number'][i])\n",
    "        originLists.append((no,node))\n",
    "        nodes.append(node)\n",
    "    else:\n",
    "        node = str(rawCases['Patient Number'][i])\n",
    "        nodes.append(node)"
   ]
  },
  {
   "cell_type": "code",
   "execution_count": 180,
   "metadata": {},
   "outputs": [],
   "source": [
    "G = nx.Graph()\n",
    "for i in nodes:\n",
    "    G.add_node(i)\n",
    "G.add_edges_from(originLists)\n",
    "# positioning the nodes\n",
    "pos = nx.spring_layout(G, k=0.5, iterations=50)\n",
    "for n, p in pos.items():\n",
    "    G.node[n]['pos'] = p\n"
   ]
  },
  {
   "cell_type": "code",
   "execution_count": 181,
   "metadata": {},
   "outputs": [],
   "source": [
    "edge_trace = go.Scatter(\n",
    "    x=[],\n",
    "    y=[],\n",
    "    line=dict(width=0.5,color='#888'),\n",
    "    hoverinfo='none',\n",
    "    mode='lines')\n",
    "for edge in G.edges():\n",
    "    x0, y0 = G.node[edge[0]]['pos']\n",
    "    x1, y1 = G.node[edge[1]]['pos']\n",
    "    edge_trace['x'] += tuple([x0, x1, None])\n",
    "    edge_trace['y'] += tuple([y0, y1, None])\n",
    "node_trace = go.Scatter(\n",
    "    x=[],\n",
    "    y=[],\n",
    "    text=[],\n",
    "    mode='markers',\n",
    "    hoverinfo='text',\n",
    "    marker=dict(\n",
    "        showscale=True,\n",
    "        colorscale='RdBu',\n",
    "        reversescale=True,\n",
    "        color=[],\n",
    "        size=15,\n",
    "        colorbar=dict(\n",
    "            thickness=10,\n",
    "            title='Node Connections',\n",
    "            xanchor='left',\n",
    "            titleside='right'\n",
    "        ),\n",
    "        line=dict(width=0)))\n",
    "for node in G.nodes():\n",
    "    x, y = G.node[node]['pos']\n",
    "    node_trace['x'] += tuple([x])\n",
    "    node_trace['y'] += tuple([y])\n"
   ]
  },
  {
   "cell_type": "code",
   "execution_count": 182,
   "metadata": {},
   "outputs": [],
   "source": [
    "for node, adjacencies in enumerate(G.adjacency()):\n",
    "    node_trace['marker']['color']+=tuple([len(adjacencies[1])])\n",
    "    node_info = adjacencies[0] +' # of connections: '+str(len(adjacencies[1]))\n",
    "    node_trace['text']+=tuple([node_info])\n",
    "fig = go.Figure(data=[edge_trace, node_trace],\n",
    "             layout=go.Layout(\n",
    "                title='<br>Karnataka Person to Person Network Tracing',\n",
    "                titlefont=dict(size=16),\n",
    "                showlegend=False,\n",
    "                hovermode='closest',\n",
    "                margin=dict(b=20,l=5,r=5,t=40),\n",
    "                annotations=[ dict(\n",
    "                    text=\"No. of contacts made\",\n",
    "                    showarrow=False,\n",
    "                    xref=\"paper\", yref=\"paper\") ],\n",
    "                xaxis=dict(showgrid=False, zeroline=False, showticklabels=False),\n",
    "                yaxis=dict(showgrid=False, zeroline=False, showticklabels=False)))"
   ]
  },
  {
   "cell_type": "code",
   "execution_count": 179,
   "metadata": {},
   "outputs": [
    {
     "data": {
      "application/vnd.plotly.v1+json": {
       "config": {
        "linkText": "Export to plot.ly",
        "plotlyServerURL": "https://plot.ly",
        "showLink": false
       },
       "data": [
        {
         "hoverinfo": "none",
         "line": {
          "color": "#888",
          "width": 0.5
         },
         "mode": "lines",
         "type": "scatter",
         "x": [
          0.620490341664256,
          0.006142741825110358,
          null,
          0.620490341664256,
          0.35131093069413544,
          null,
          0.36637236774074783,
          0.8918086768083807,
          null,
          0.36637236774074783,
          -0.4706431688237232,
          null,
          -0.4706431688237232,
          -0.936067057377622,
          null,
          0.9385216481362675,
          0.9567189622051367,
          null,
          0.9758590324891019,
          0.8961530549937607,
          null,
          -0.6195127003671023,
          -0.9734085805638265,
          null,
          -0.6195127003671023,
          -0.8785555064431468,
          null,
          -0.6195127003671023,
          -0.23291962663090976,
          null,
          0.0295918608164515,
          -0.9086514702551178,
          null,
          0.0295918608164515,
          0.1385656293420449,
          null,
          0.0295918608164515,
          -0.9603926175193129,
          null,
          0.0295918608164515,
          0.88677918809426,
          null,
          0.0295918608164515,
          0.33669041748285533,
          null,
          0.0295918608164515,
          -0.49337243010385373,
          null,
          0.0295918608164515,
          0.8612886198624659,
          null,
          0.6411267099032214,
          0.5099337013010706,
          null,
          0.6411267099032214,
          0.0006949876812045083,
          null,
          0.6411267099032214,
          0.844436454786481,
          null,
          0.5328984197832295,
          0.7875129511002799,
          null,
          0.7633361458046325,
          0.07371348799576748,
          null,
          0.7633361458046325,
          0.9238246285042714,
          null,
          0.7633361458046325,
          0.664000005394086,
          null,
          -0.8167984752178357,
          -0.8537501816427849,
          null,
          -0.0939848866791065,
          -0.6360208877980991,
          null,
          -0.1405068321447556,
          -0.6282914347674897,
          null,
          -0.1405068321447556,
          0.22546047691977522,
          null,
          -0.1405068321447556,
          -0.9138283835930787,
          null,
          -0.1405068321447556,
          -0.025985667657112656,
          null,
          -0.1405068321447556,
          -0.3385213599805643,
          null,
          -0.1405068321447556,
          -0.45272160023071556,
          null,
          -0.1405068321447556,
          0.9999999999999999,
          null,
          -0.1405068321447556,
          0.6845656571018899,
          null,
          -0.1405068321447556,
          -0.09747255346523231,
          null,
          -0.1405068321447556,
          -0.2809522777360302,
          null,
          -0.1405068321447556,
          -0.8146539564653946,
          null,
          -0.1405068321447556,
          -0.02772150935265581,
          null,
          -0.1405068321447556,
          0.3140695779754071,
          null,
          -0.1405068321447556,
          0.06299238018072234,
          null,
          -0.1405068321447556,
          -0.4061866489514287,
          null,
          -0.1405068321447556,
          -0.4622214140946576,
          null,
          -0.1405068321447556,
          0.10736998803226327,
          null,
          -0.1405068321447556,
          0.1370800509633891,
          null,
          -0.1405068321447556,
          -0.16811103745309267,
          null,
          -0.1405068321447556,
          -0.70014084427628,
          null,
          -0.1405068321447556,
          -0.5979120754330788,
          null,
          -0.1405068321447556,
          0.24620723388844154,
          null,
          -0.1405068321447556,
          0.10505461466491677,
          null,
          -0.1405068321447556,
          0.023762631007417052,
          null,
          -0.1405068321447556,
          0.8360063499386027,
          null,
          -0.1405068321447556,
          -0.9691299280553498,
          null,
          -0.1405068321447556,
          -0.9156477669614644,
          null,
          -0.1405068321447556,
          -0.38584065104739207,
          null,
          -0.1405068321447556,
          -0.9067123265663485,
          null,
          -0.1405068321447556,
          -0.8371443308073987,
          null,
          -0.1405068321447556,
          0.6702072891472556,
          null,
          -0.1405068321447556,
          0.1221848577705861,
          null,
          -0.1405068321447556,
          0.41836907236306164,
          null,
          0.3108635594866017,
          0.15792813654771404,
          null,
          0.3108635594866017,
          0.8278487690946821,
          null,
          0.0006949876812045083,
          -0.26494603492830104,
          null,
          -0.37961397224957893,
          0.3405693524298092,
          null,
          -0.45512880674543776,
          -0.9072024897914076,
          null,
          -0.6282914347674897,
          -0.3624478251518975,
          null,
          0.22546047691977522,
          0.8998242310362328,
          null,
          -0.3385213599805643,
          -0.05877488657489258,
          null,
          -0.45272160023071556,
          -0.9552922624501908,
          null,
          -0.09747255346523231,
          -0.23212584093879599,
          null,
          -0.09747255346523231,
          -0.5680995577237896,
          null,
          -0.09747255346523231,
          0.6576181829121541,
          null,
          -0.09747255346523231,
          -0.8260647806881052,
          null,
          -0.09747255346523231,
          0.8206152198448664,
          null,
          -0.09747255346523231,
          -0.7838195010013597,
          null,
          -0.09747255346523231,
          0.4434800353792901,
          null,
          -0.09747255346523231,
          -0.5862830530789347,
          null,
          -0.26494603492830104,
          -0.8916510725199506,
          null,
          0.31559979496839546,
          0.5485554080865122,
          null,
          -0.02772150935265581,
          0.6336154672597297,
          null,
          -0.02772150935265581,
          -0.5927373994684603,
          null,
          0.3140695779754071,
          0.5385396283598712,
          null,
          0.3140695779754071,
          0.42143908980519623,
          null,
          -0.08179736398559917,
          0.2645120393583629,
          null,
          0.06299238018072234,
          0.2902791817639872,
          null,
          -0.23212584093879599,
          -0.08762245507929951,
          null,
          0.3403691136198961,
          0.13789915800400682,
          null,
          0.9855923728613386,
          0.587695285459111,
          null,
          -0.9003554339569969,
          -0.8906791017599425,
          null,
          -0.9003554339569969,
          -0.8787916572742371,
          null,
          -0.9003554339569969,
          -0.11308727723765298,
          null,
          -0.9003554339569969,
          -0.9578846047897092,
          null,
          -0.16402934008357534,
          -0.7467541100402848,
          null,
          -0.16402934008357534,
          -0.05629908618545198,
          null,
          -0.16402934008357534,
          0.41058442827269104,
          null,
          -0.16402934008357534,
          0.08327693395963988,
          null,
          -0.16402934008357534,
          -0.8151745377249672,
          null,
          0.10000059966385427,
          0.6942014291268425,
          null,
          0.10000059966385427,
          0.5740799306080147,
          null,
          0.10000059966385427,
          0.8903358890937149,
          null,
          0.10000059966385427,
          0.11825699254923869,
          null,
          0.10000059966385427,
          -0.6403127129756755,
          null,
          0.4443549180466555,
          -0.09653091267971682,
          null,
          0.4443549180466555,
          0.9051288387284285,
          null,
          -0.48750038234982157,
          -0.6448178341230552,
          null,
          -0.48750038234982157,
          -0.544415793560332,
          null,
          -0.48750038234982157,
          -0.6803939074135299,
          null,
          -0.48750038234982157,
          -0.18952369904992494,
          null,
          -0.48750038234982157,
          0.19057264770156382,
          null,
          -0.48750038234982157,
          0.09333196934510661,
          null,
          -0.3520610193917221,
          -0.6878035186802977,
          null,
          -0.3520610193917221,
          0.2878527965813375,
          null,
          -0.3520610193917221,
          -0.5857249030172593,
          null,
          -0.4775250854268009,
          0.29717845234262447,
          null,
          -0.4775250854268009,
          -0.2963801607909824,
          null,
          -0.4775250854268009,
          -0.961959323547827,
          null,
          -0.922941338646843,
          -0.45823987501535796,
          null,
          -0.4622214140946576,
          -0.04522602038800965,
          null,
          -0.4622214140946576,
          -0.5215658363210823,
          null,
          -0.3248653158480695,
          -0.29986296568583554,
          null,
          -0.11308727723765298,
          0.21311091884547861,
          null,
          -0.11308727723765298,
          -0.7727557975004273,
          null,
          -0.11308727723765298,
          0.45567697483674857,
          null,
          -0.11308727723765298,
          -0.915583295116056,
          null,
          -0.11308727723765298,
          0.9684359580111801,
          null,
          -0.6945476341572974,
          -0.013549410038490384,
          null,
          0.08226270779972561,
          0.5894958646364051,
          null,
          0.08226270779972561,
          -0.43026516790800784,
          null,
          0.08226270779972561,
          0.5743419812495739,
          null,
          0.08226270779972561,
          0.9176601175770341,
          null,
          0.08226270779972561,
          -0.3451956793972071,
          null,
          0.08226270779972561,
          -0.5597867948086792,
          null,
          0.08226270779972561,
          -0.7677496535931653,
          null,
          0.08226270779972561,
          0.6611536721531476,
          null,
          0.08226270779972561,
          -0.4678042541212359,
          null,
          0.08226270779972561,
          0.9444221075407737,
          null,
          0.08226270779972561,
          -0.15602363985544843,
          null,
          0.2314750723586724,
          0.6466702893317232,
          null,
          0.04949508766705271,
          0.08175222391904952,
          null,
          0.04949508766705271,
          0.16402573011131782,
          null,
          0.04949508766705271,
          -0.9491841676437978,
          null,
          0.04949508766705271,
          0.9523740245799182,
          null,
          -0.48007438271338504,
          0.08175222391904952,
          null,
          0.5747119568397446,
          0.08175222391904952,
          null,
          0.587695285459111,
          0.7169287463484139,
          null,
          -0.822286917431661,
          -0.46283683810661536,
          null,
          -0.822286917431661,
          -0.7003626461559215,
          null,
          -0.8077857763761146,
          -0.8391807170540105,
          null,
          0.08443956171607506,
          0.6643818165947988,
          null,
          0.08443956171607506,
          0.7295163381396103,
          null,
          0.08443956171607506,
          -0.09259600851126513,
          null,
          0.08443956171607506,
          -0.22598031551432202,
          null,
          0.08443956171607506,
          0.06374850993483991,
          null,
          -0.09653091267971682,
          0.6854894440961111,
          null,
          -0.09653091267971682,
          -0.5015979986456847,
          null,
          -0.09653091267971682,
          -0.11904822818134389,
          null,
          0.42143908980519623,
          -0.29215538250682355,
          null,
          0.21311091884547861,
          0.6400255674389894,
          null,
          0.21311091884547861,
          -0.019985094422075373,
          null,
          0.21311091884547861,
          0.32200932870129756,
          null,
          0.17364933189364162,
          -0.8873664489331791,
          null,
          0.17364933189364162,
          0.9444304230106751,
          null,
          0.17364933189364162,
          -0.10761717985741852,
          null,
          0.17364933189364162,
          0.6040376287736987,
          null,
          -0.9688845391283859,
          -0.013327428184580383,
          null,
          -0.43026516790800784,
          0.1576353197313545,
          null,
          -0.317477768690801,
          -0.22868014309690202,
          null,
          -0.317477768690801,
          0.3548521784085646,
          null,
          -0.317477768690801,
          -0.8561982089336466,
          null,
          -0.317477768690801,
          0.3161564268185928,
          null,
          -0.317477768690801,
          -0.7392270114544341,
          null,
          0.6466702893317232,
          0.7277665551806544,
          null,
          0.13789915800400682,
          -0.19648091632064657,
          null,
          0.13789915800400682,
          -0.08234876836782748,
          null,
          0.16273892950513363,
          0.18784944024591954,
          null,
          0.16273892950513363,
          -0.5306583843084238,
          null,
          0.16273892950513363,
          0.771200999459059,
          null,
          0.16273892950513363,
          -0.25901191067712437,
          null,
          0.16273892950513363,
          -0.671281638331986,
          null,
          0.16273892950513363,
          -0.41307471506718535,
          null,
          0.16273892950513363,
          -0.6910192433507824,
          null,
          0.16273892950513363,
          0.9878610442442779,
          null,
          0.16273892950513363,
          0.06723398015624715,
          null,
          0.16273892950513363,
          0.24335258796390113,
          null,
          0.16273892950513363,
          0.7972983534359767,
          null,
          0.16273892950513363,
          0.9762730963168526,
          null,
          0.16273892950513363,
          0.5909530923528369,
          null,
          0.11825699254923869,
          0.9003723022177351,
          null,
          0.11825699254923869,
          -0.11128713992942955,
          null,
          0.11825699254923869,
          0.8256482169113013,
          null,
          0.11825699254923869,
          -0.39615436135855125,
          null,
          0.11825699254923869,
          -0.46902509365316747,
          null,
          0.11825699254923869,
          0.8275880862167732,
          null,
          0.11825699254923869,
          -0.516626604669697,
          null,
          -0.2963801607909824,
          0.33603426259320124,
          null,
          -0.2963801607909824,
          -0.16297069423013014,
          null,
          0.6728966871078854,
          -0.11141998404949503,
          null,
          0.6040376287736987,
          0.9259556259359631,
          null,
          -0.5857249030172593,
          -0.9572629038748532,
          null,
          -0.5857249030172593,
          -0.9805053712059089,
          null,
          -0.5857249030172593,
          -0.8588428551056168,
          null,
          -0.5857249030172593,
          -0.0786611489749314,
          null,
          0.24476272220046522,
          0.7545220780821652,
          null,
          0.24476272220046522,
          0.9519809977383059,
          null,
          0.24476272220046522,
          -0.8336120707019535,
          null,
          -0.1493511663485675,
          -0.9572085525431691,
          null,
          -0.1493511663485675,
          -0.2624181248286888,
          null,
          -0.1493511663485675,
          0.2885443356255018,
          null,
          -0.1493511663485675,
          -0.4772434331604236,
          null,
          0.2137160576168222,
          0.8822774295443232,
          null,
          0.2137160576168222,
          -0.40568562114657736,
          null,
          0.2137160576168222,
          0.8102824735517233,
          null,
          0.2137160576168222,
          -0.23883651941285125,
          null,
          0.37042375729093857,
          0.7676891148504978,
          null,
          0.49623026082551597,
          0.1697857946822449,
          null,
          -0.7082123150319024,
          -0.6585090619243101,
          null,
          -0.013549410038490384,
          0.4067907929953041,
          null,
          -0.41307471506718535,
          -0.2551617240758257,
          null,
          0.1370800509633891,
          -0.1330001958810059,
          null,
          0.8190489692751276,
          0.2841316500224368,
          null,
          -0.480151657417159,
          -0.43287548813351384,
          null
         ],
         "y": [
          0.24435527266063375,
          -0.32924533164792386,
          null,
          0.24435527266063375,
          0.5572004073989956,
          null,
          -0.4172656591242951,
          -0.3007955630156296,
          null,
          -0.4172656591242951,
          -0.9067090793542103,
          null,
          -0.9067090793542103,
          -0.19063761521475092,
          null,
          0.2872820137798034,
          -0.30900919646292146,
          null,
          -0.2962195756234142,
          -0.20226655224169754,
          null,
          0.28319270198341867,
          0.07462386294164597,
          null,
          0.28319270198341867,
          0.06575439134029093,
          null,
          0.28319270198341867,
          0.7893915231274188,
          null,
          -0.10307938747169691,
          0.0406367604756103,
          null,
          -0.10307938747169691,
          -0.972424527118684,
          null,
          -0.10307938747169691,
          -0.1574872572728259,
          null,
          -0.10307938747169691,
          0.5442679635495614,
          null,
          -0.10307938747169691,
          0.9225849533001124,
          null,
          -0.10307938747169691,
          -0.7912434303634467,
          null,
          -0.10307938747169691,
          -0.5961353760582223,
          null,
          -0.2133815893024621,
          -0.8543816205783427,
          null,
          -0.2133815893024621,
          -0.11970922721020713,
          null,
          -0.2133815893024621,
          0.4447309503941422,
          null,
          -0.7927568992432023,
          0.0001122363416193103,
          null,
          -0.6830591403967325,
          -0.5866969910825105,
          null,
          -0.6830591403967325,
          0.018307906006111836,
          null,
          -0.6830591403967325,
          -0.7864579538327914,
          null,
          0.5339550568721431,
          0.5480080111083162,
          null,
          -0.7427430630265387,
          -0.28395341740774616,
          null,
          0.19947753182752123,
          0.4055016486021758,
          null,
          0.19947753182752123,
          0.08087707946842412,
          null,
          0.19947753182752123,
          -0.3190721680966415,
          null,
          0.19947753182752123,
          -0.40073196392406923,
          null,
          0.19947753182752123,
          0.6626825012181127,
          null,
          0.19947753182752123,
          0.02149392339316462,
          null,
          0.19947753182752123,
          0.016673410743098558,
          null,
          0.19947753182752123,
          0.6003474941420839,
          null,
          0.19947753182752123,
          0.03498667284730606,
          null,
          0.19947753182752123,
          -0.49930909188869743,
          null,
          0.19947753182752123,
          0.6100934555152979,
          null,
          0.19947753182752123,
          0.6386509275289097,
          null,
          0.19947753182752123,
          0.4117952047277852,
          null,
          0.19947753182752123,
          0.9857192801641195,
          null,
          0.19947753182752123,
          0.7702581483599464,
          null,
          0.19947753182752123,
          -0.3162845693822217,
          null,
          0.19947753182752123,
          -0.6318653280039807,
          null,
          0.19947753182752123,
          0.28535121204132585,
          null,
          0.19947753182752123,
          -0.6017641268875379,
          null,
          0.19947753182752123,
          -0.6127065856016447,
          null,
          0.19947753182752123,
          -0.7715348882054062,
          null,
          0.19947753182752123,
          0.8805396750478472,
          null,
          0.19947753182752123,
          0.9195800846587459,
          null,
          0.19947753182752123,
          0.9736652255593792,
          null,
          0.19947753182752123,
          0.40509019560953535,
          null,
          0.19947753182752123,
          0.1726339516441543,
          null,
          0.19947753182752123,
          0.011739214751084227,
          null,
          0.19947753182752123,
          0.920421909033727,
          null,
          0.19947753182752123,
          -0.2374490128028811,
          null,
          0.19947753182752123,
          0.4904288196852889,
          null,
          0.19947753182752123,
          0.6859176989415685,
          null,
          0.19947753182752123,
          -0.4283534870623445,
          null,
          0.19947753182752123,
          0.8237198514376047,
          null,
          -0.3184581067743185,
          0.3685813790170041,
          null,
          -0.3184581067743185,
          -0.357539003966888,
          null,
          -0.11970922721020713,
          0.643128201054393,
          null,
          -0.6679001555829942,
          -0.5736912818066446,
          null,
          -0.8766107180420949,
          -0.3112637415108241,
          null,
          0.4055016486021758,
          -0.12273927500781481,
          null,
          0.08087707946842412,
          0.20689004697180335,
          null,
          0.6626825012181127,
          0.9682278026734115,
          null,
          0.02149392339316462,
          -0.0658640029847446,
          null,
          0.03498667284730606,
          0.5197999239517549,
          null,
          0.03498667284730606,
          0.84578743034362,
          null,
          0.03498667284730606,
          -0.5409402337474735,
          null,
          0.03498667284730606,
          -0.5440145258246534,
          null,
          0.03498667284730606,
          -0.46714989057920087,
          null,
          0.03498667284730606,
          -0.011813770248448763,
          null,
          0.03498667284730606,
          0.36179134263444024,
          null,
          0.03498667284730606,
          0.5369249551765771,
          null,
          0.643128201054393,
          0.1575542458309391,
          null,
          0.9045130756227068,
          0.8730716604469723,
          null,
          0.6386509275289097,
          0.6380699461364933,
          null,
          0.6386509275289097,
          0.3609691173827865,
          null,
          0.4117952047277852,
          -0.15836068391661276,
          null,
          0.4117952047277852,
          0.6277262730866942,
          null,
          -0.9573065668369984,
          -0.8900613671269099,
          null,
          0.9857192801641195,
          0.946637608433355,
          null,
          0.5197999239517549,
          0.2987245425551384,
          null,
          -0.1188919141034669,
          0.4804665064293758,
          null,
          -0.12048846638732161,
          -0.485577949634681,
          null,
          -0.08101985895758312,
          0.17121238343341932,
          null,
          -0.08101985895758312,
          0.4123890357928657,
          null,
          -0.08101985895758312,
          -0.01515027146266562,
          null,
          -0.08101985895758312,
          -0.21087780919178417,
          null,
          -0.23171368520805474,
          0.6757841936318904,
          null,
          -0.23171368520805474,
          -0.9899236153608368,
          null,
          -0.23171368520805474,
          -0.9277602811380044,
          null,
          -0.23171368520805474,
          -0.9209875732191994,
          null,
          -0.23171368520805474,
          0.4426007591067603,
          null,
          0.31001936397327007,
          0.7410417180869115,
          null,
          0.31001936397327007,
          0.3316530880347598,
          null,
          0.31001936397327007,
          0.3258323237822748,
          null,
          0.31001936397327007,
          -0.16413021724736718,
          null,
          0.31001936397327007,
          0.7219354919221036,
          null,
          -0.8616012141665919,
          -0.13626063330000354,
          null,
          -0.8616012141665919,
          -0.45164287124195,
          null,
          -0.8691603196121842,
          -0.7781748090708779,
          null,
          -0.8691603196121842,
          -0.7304447777693299,
          null,
          -0.8691603196121842,
          -0.5613917996491198,
          null,
          -0.8691603196121842,
          -0.9688626475837155,
          null,
          -0.8691603196121842,
          -0.2632564559371419,
          null,
          -0.8691603196121842,
          -0.9604728922152018,
          null,
          -0.4320400249750353,
          -0.7245211783788635,
          null,
          -0.4320400249750353,
          -0.5399827819471725,
          null,
          -0.4320400249750353,
          0.22337840521925678,
          null,
          0.5260507677311772,
          0.7646076912878091,
          null,
          0.5260507677311772,
          -0.2665757469732505,
          null,
          0.5260507677311772,
          -0.21992701017783742,
          null,
          0.30667199290505065,
          0.6887014276397951,
          null,
          -0.3162845693822217,
          -0.9521198491965291,
          null,
          -0.3162845693822217,
          -0.6318471786878413,
          null,
          -0.8011343051208052,
          0.1979319032397586,
          null,
          -0.01515027146266562,
          -0.8279761417438837,
          null,
          -0.01515027146266562,
          -0.6721790738675583,
          null,
          -0.01515027146266562,
          0.8462251987576298,
          null,
          -0.01515027146266562,
          0.3592051562271864,
          null,
          -0.01515027146266562,
          0.2074962708119152,
          null,
          -0.2758478824562316,
          0.24543399467842647,
          null,
          0.027654007552460284,
          -0.6193380926035572,
          null,
          0.027654007552460284,
          -0.3884800252518596,
          null,
          0.027654007552460284,
          -0.8280564665455727,
          null,
          0.027654007552460284,
          0.40837793323874955,
          null,
          0.027654007552460284,
          0.8635076112926953,
          null,
          0.027654007552460284,
          -0.3089195432579803,
          null,
          0.027654007552460284,
          0.6444686159315369,
          null,
          0.027654007552460284,
          0.14279409690743655,
          null,
          0.027654007552460284,
          -0.8706386743966266,
          null,
          0.027654007552460284,
          0.06619592789371385,
          null,
          0.027654007552460284,
          0.9492637201367766,
          null,
          0.9141069980246705,
          0.741973104242371,
          null,
          -0.009922720970515475,
          -0.9910687524559387,
          null,
          -0.009922720970515475,
          0.9334732328746911,
          null,
          -0.009922720970515475,
          0.24879901232739426,
          null,
          -0.009922720970515475,
          -0.18741888998958892,
          null,
          -0.7435507348000122,
          -0.9910687524559387,
          null,
          -0.7754346430649579,
          -0.9910687524559387,
          null,
          -0.485577949634681,
          -0.47033611663650576,
          null,
          -0.5840876104492014,
          0.04451478954153439,
          null,
          -0.5840876104492014,
          -0.18718774888140804,
          null,
          0.5487026054161553,
          -0.17846902549067772,
          null,
          0.328961575488016,
          0.5865424639868426,
          null,
          0.328961575488016,
          0.5365895580105019,
          null,
          0.328961575488016,
          0.9137820148143028,
          null,
          0.328961575488016,
          0.9721634691380174,
          null,
          0.328961575488016,
          -0.7573188130027237,
          null,
          -0.13626063330000354,
          0.21289581500581325,
          null,
          -0.13626063330000354,
          -0.12504920317287044,
          null,
          -0.13626063330000354,
          0.38470986006891067,
          null,
          0.6277262730866942,
          -0.06345289137187332,
          null,
          -0.8279761417438837,
          -0.390709838136958,
          null,
          -0.8279761417438837,
          -0.8932711708908097,
          null,
          -0.8279761417438837,
          -0.9071975406879494,
          null,
          0.3032508416123242,
          0.40402855168863766,
          null,
          0.3032508416123242,
          0.026185134842311192,
          null,
          0.3032508416123242,
          0.9468081336870047,
          null,
          0.3032508416123242,
          -0.38407292435120277,
          null,
          0.09879986019856406,
          -0.17361105024388002,
          null,
          -0.3884800252518596,
          -0.9716601562484631,
          null,
          0.18488050319243068,
          0.9479688750020072,
          null,
          0.18488050319243068,
          0.9189942064712121,
          null,
          0.18488050319243068,
          -0.5157844108691299,
          null,
          0.18488050319243068,
          0.8813195090892265,
          null,
          0.18488050319243068,
          0.47418430578688553,
          null,
          0.741973104242371,
          0.653540866237783,
          null,
          0.4804665064293758,
          0.11849142241934613,
          null,
          0.4804665064293758,
          0.9646439564419842,
          null,
          0.017697675917476112,
          0.966969122295981,
          null,
          0.017697675917476112,
          -0.40976021775213045,
          null,
          0.017697675917476112,
          0.6273038054372747,
          null,
          0.017697675917476112,
          -0.9630976720204313,
          null,
          0.017697675917476112,
          -0.4844302221418642,
          null,
          0.017697675917476112,
          0.48935340931163246,
          null,
          0.017697675917476112,
          0.3012919645322017,
          null,
          0.017697675917476112,
          0.11628995596928697,
          null,
          0.017697675917476112,
          0.7146646511025148,
          null,
          0.017697675917476112,
          -0.7997977815022015,
          null,
          0.017697675917476112,
          -0.5583390860439827,
          null,
          0.017697675917476112,
          -0.033822738251114357,
          null,
          0.017697675917476112,
          0.6866561261682763,
          null,
          -0.16413021724736718,
          -0.47707799737704454,
          null,
          -0.16413021724736718,
          -0.9580504583636439,
          null,
          -0.16413021724736718,
          -0.5621446964968111,
          null,
          -0.16413021724736718,
          0.59562251648249,
          null,
          -0.16413021724736718,
          0.8946291489960722,
          null,
          -0.16413021724736718,
          -0.4031071656755341,
          null,
          -0.16413021724736718,
          -0.838389285179736,
          null,
          -0.2665757469732505,
          -0.9019612531798155,
          null,
          -0.2665757469732505,
          -0.9746697185800575,
          null,
          -0.6469950197197589,
          -0.4342757104109682,
          null,
          -0.38407292435120277,
          0.30856250381297884,
          null,
          0.22337840521925678,
          0.210845776843794,
          null,
          0.22337840521925678,
          0.015889928462697468,
          null,
          0.22337840521925678,
          0.18148291847013126,
          null,
          0.22337840521925678,
          0.8277505503353656,
          null,
          0.18148990449667612,
          -0.1749878981631315,
          null,
          0.18148990449667612,
          -0.12088490861269618,
          null,
          0.18148990449667612,
          0.541112185907842,
          null,
          0.10222433599703999,
          -0.1852235366897679,
          null,
          0.10222433599703999,
          0.9418992839028666,
          null,
          0.10222433599703999,
          -0.9240556068021314,
          null,
          0.10222433599703999,
          0.7991323817500919,
          null,
          0.2178127549330712,
          0.5072674826914052,
          null,
          0.2178127549330712,
          0.9225707400339607,
          null,
          0.2178127549330712,
          0.4960640152073384,
          null,
          0.2178127549330712,
          -0.7353760532615722,
          null,
          0.02165141128831547,
          0.5510644353715133,
          null,
          0.8066236667087721,
          0.6229756701901539,
          null,
          0.17606033591501452,
          -0.6963295854455099,
          null,
          0.24543399467842647,
          0.866167258037113,
          null,
          0.48935340931163246,
          0.8923158484141606,
          null,
          0.28535121204132585,
          0.8952472682391442,
          null,
          -0.5321504965444123,
          -0.7133193355854041,
          null,
          0.002461398371298625,
          -0.9057537618280979,
          null
         ]
        },
        {
         "hoverinfo": "text",
         "marker": {
          "color": [
           2,
           1,
           1,
           0,
           0,
           2,
           1,
           0,
           2,
           0,
           1,
           0,
           1,
           0,
           0,
           1,
           3,
           0,
           7,
           0,
           0,
           0,
           0,
           0,
           3,
           0,
           0,
           0,
           0,
           1,
           0,
           0,
           0,
           0,
           1,
           3,
           1,
           1,
           0,
           0,
           0,
           1,
           0,
           0,
           0,
           0,
           0,
           0,
           1,
           1,
           0,
           33,
           0,
           0,
           1,
           0,
           0,
           2,
           2,
           1,
           1,
           0,
           0,
           0,
           1,
           1,
           1,
           1,
           1,
           1,
           1,
           1,
           1,
           0,
           1,
           1,
           2,
           2,
           1,
           1,
           2,
           0,
           0,
           1,
           2,
           1,
           1,
           9,
           0,
           0,
           0,
           2,
           0,
           1,
           1,
           1,
           0,
           0,
           1,
           0,
           1,
           0,
           3,
           3,
           1,
           1,
           0,
           0,
           2,
           1,
           2,
           1,
           1,
           0,
           0,
           0,
           0,
           0,
           0,
           0,
           0,
           1,
           0,
           1,
           4,
           0,
           5,
           5,
           1,
           1,
           1,
           0,
           0,
           2,
           0,
           0,
           0,
           0,
           0,
           1,
           6,
           0,
           0,
           0,
           0,
           0,
           0,
           0,
           3,
           3,
           0,
           1,
           1,
           1,
           0,
           0,
           0,
           0,
           3,
           0,
           1,
           1,
           0,
           1,
           6,
           1,
           11,
           0,
           1,
           0,
           4,
           1,
           1,
           2,
           2,
           1,
           5,
           1,
           4,
           0,
           0,
           1,
           2,
           1,
           1,
           4,
           1,
           1,
           0,
           0,
           1,
           1,
           1,
           4,
           0,
           1,
           0,
           1,
           2,
           1,
           1,
           1,
           1,
           1,
           5,
           2,
           1,
           1,
           1,
           1,
           3,
           1,
           1,
           1,
           1,
           1,
           0,
           0,
           0,
           1,
           13,
           1,
           1,
           8,
           3,
           1,
           0,
           1,
           0,
           0,
           0,
           0,
           1,
           1,
           1,
           2,
           1,
           1,
           1,
           1,
           1,
           1,
           1,
           1,
           5,
           0,
           0,
           1,
           1,
           3,
           1,
           4,
           0,
           1,
           1,
           1,
           1,
           0,
           1,
           1,
           0,
           1,
           4,
           0,
           0,
           0,
           1,
           0,
           0,
           0,
           0,
           0,
           1,
           1,
           1,
           1,
           1,
           1,
           1,
           1,
           0,
           1,
           1,
           1,
           1,
           1,
           1,
           1,
           1,
           0,
           0,
           0,
           0,
           0,
           0,
           0,
           0,
           1,
           1,
           1,
           1,
           1,
           0,
           2,
           1,
           2,
           1,
           1,
           1,
           1,
           0,
           1,
           1,
           0,
           0,
           1,
           1,
           1,
           2,
           1,
           1,
           1,
           1,
           1,
           1,
           1,
           1,
           0,
           1,
           1,
           1,
           1,
           1,
           1,
           1,
           1,
           1,
           1,
           1,
           1,
           1,
           1,
           1,
           1,
           1,
           1,
           1,
           1,
           0,
           1,
           1,
           1,
           1,
           0,
           1,
           1,
           1,
           1,
           1,
           1,
           1,
           1,
           1,
           1,
           1,
           1,
           1,
           1,
           0,
           1,
           1,
           1,
           1,
           1,
           1,
           1,
           1,
           1,
           1,
           1,
           0,
           1,
           1,
           1,
           0,
           0,
           1,
           1,
           1,
           0,
           1,
           1,
           1,
           1,
           1,
           1,
           1,
           1,
           3,
           1
          ],
          "colorbar": {
           "thickness": 10,
           "title": {
            "side": "right",
            "text": "Node Connections"
           },
           "xanchor": "left"
          },
          "colorscale": [
           [
            0,
            "rgb(103,0,31)"
           ],
           [
            0.1,
            "rgb(178,24,43)"
           ],
           [
            0.2,
            "rgb(214,96,77)"
           ],
           [
            0.3,
            "rgb(244,165,130)"
           ],
           [
            0.4,
            "rgb(253,219,199)"
           ],
           [
            0.5,
            "rgb(247,247,247)"
           ],
           [
            0.6,
            "rgb(209,229,240)"
           ],
           [
            0.7,
            "rgb(146,197,222)"
           ],
           [
            0.8,
            "rgb(67,147,195)"
           ],
           [
            0.9,
            "rgb(33,102,172)"
           ],
           [
            1,
            "rgb(5,48,97)"
           ]
          ],
          "line": {
           "width": 0
          },
          "reversescale": true,
          "showscale": true,
          "size": 15
         },
         "mode": "markers",
         "text": [
          "1 # of connections: 2",
          "2 # of connections: 1",
          "3 # of connections: 1",
          "4 # of connections: 0",
          "5 # of connections: 0",
          "6 # of connections: 2",
          "7 # of connections: 1",
          "8 # of connections: 0",
          "9 # of connections: 2",
          "10 # of connections: 0",
          "11 # of connections: 1",
          "12 # of connections: 0",
          "13 # of connections: 1",
          "14 # of connections: 0",
          "15 # of connections: 0",
          "16 # of connections: 1",
          "17 # of connections: 3",
          "18 # of connections: 0",
          "19 # of connections: 7",
          "20 # of connections: 0",
          "21 # of connections: 0",
          "22 # of connections: 0",
          "23 # of connections: 0",
          "24 # of connections: 0",
          "25 # of connections: 3",
          "26 # of connections: 0",
          "27 # of connections: 0",
          "28 # of connections: 0",
          "29 # of connections: 0",
          "30 # of connections: 1",
          "31 # of connections: 0",
          "32 # of connections: 0",
          "33 # of connections: 0",
          "34 # of connections: 0",
          "35 # of connections: 1",
          "36 # of connections: 3",
          "37 # of connections: 1",
          "38 # of connections: 1",
          "39 # of connections: 0",
          "40 # of connections: 0",
          "41 # of connections: 0",
          "42 # of connections: 1",
          "43 # of connections: 0",
          "44 # of connections: 0",
          "45 # of connections: 0",
          "46 # of connections: 0",
          "47 # of connections: 0",
          "48 # of connections: 0",
          "49 # of connections: 1",
          "50 # of connections: 1",
          "51 # of connections: 0",
          "52 # of connections: 33",
          "53 # of connections: 0",
          "54 # of connections: 0",
          "55 # of connections: 1",
          "56 # of connections: 0",
          "57 # of connections: 0",
          "58 # of connections: 2",
          "59 # of connections: 2",
          "60 # of connections: 1",
          "61 # of connections: 1",
          "62 # of connections: 0",
          "63 # of connections: 0",
          "64 # of connections: 0",
          "65 # of connections: 1",
          "66 # of connections: 1",
          "67 # of connections: 1",
          "68 # of connections: 1",
          "69 # of connections: 1",
          "70 # of connections: 1",
          "71 # of connections: 1",
          "72 # of connections: 1",
          "73 # of connections: 1",
          "74 # of connections: 0",
          "75 # of connections: 1",
          "76 # of connections: 1",
          "77 # of connections: 2",
          "78 # of connections: 2",
          "79 # of connections: 1",
          "80 # of connections: 1",
          "81 # of connections: 2",
          "82 # of connections: 0",
          "83 # of connections: 0",
          "84 # of connections: 1",
          "85 # of connections: 2",
          "86 # of connections: 1",
          "87 # of connections: 1",
          "88 # of connections: 9",
          "89 # of connections: 0",
          "90 # of connections: 0",
          "91 # of connections: 0",
          "92 # of connections: 2",
          "93 # of connections: 0",
          "94 # of connections: 1",
          "95 # of connections: 1",
          "96 # of connections: 1",
          "97 # of connections: 0",
          "98 # of connections: 0",
          "99 # of connections: 1",
          "100 # of connections: 0",
          "101 # of connections: 1",
          "102 # of connections: 0",
          "103 # of connections: 3",
          "104 # of connections: 3",
          "105 # of connections: 1",
          "106 # of connections: 1",
          "107 # of connections: 0",
          "108 # of connections: 0",
          "109 # of connections: 2",
          "110 # of connections: 1",
          "111 # of connections: 2",
          "112 # of connections: 1",
          "113 # of connections: 1",
          "114 # of connections: 0",
          "115 # of connections: 0",
          "116 # of connections: 0",
          "117 # of connections: 0",
          "118 # of connections: 0",
          "119 # of connections: 0",
          "120 # of connections: 0",
          "121 # of connections: 0",
          "122 # of connections: 1",
          "123 # of connections: 0",
          "124 # of connections: 1",
          "125 # of connections: 4",
          "126 # of connections: 0",
          "127 # of connections: 5",
          "128 # of connections: 5",
          "129 # of connections: 1",
          "130 # of connections: 1",
          "131 # of connections: 1",
          "132 # of connections: 0",
          "133 # of connections: 0",
          "134 # of connections: 2",
          "135 # of connections: 0",
          "136 # of connections: 0",
          "137 # of connections: 0",
          "138 # of connections: 0",
          "139 # of connections: 0",
          "140 # of connections: 1",
          "141 # of connections: 6",
          "142 # of connections: 0",
          "143 # of connections: 0",
          "144 # of connections: 0",
          "145 # of connections: 0",
          "146 # of connections: 0",
          "147 # of connections: 0",
          "148 # of connections: 0",
          "149 # of connections: 3",
          "150 # of connections: 3",
          "151 # of connections: 0",
          "152 # of connections: 1",
          "153 # of connections: 1",
          "154 # of connections: 1",
          "155 # of connections: 0",
          "156 # of connections: 0",
          "157 # of connections: 0",
          "158 # of connections: 0",
          "159 # of connections: 3",
          "160 # of connections: 0",
          "161 # of connections: 1",
          "162 # of connections: 1",
          "163 # of connections: 0",
          "164 # of connections: 1",
          "165 # of connections: 6",
          "166 # of connections: 1",
          "167 # of connections: 11",
          "168 # of connections: 0",
          "169 # of connections: 1",
          "170 # of connections: 0",
          "171 # of connections: 4",
          "172 # of connections: 1",
          "173 # of connections: 1",
          "174 # of connections: 2",
          "175 # of connections: 2",
          "176 # of connections: 1",
          "177 # of connections: 5",
          "178 # of connections: 1",
          "179 # of connections: 4",
          "180 # of connections: 0",
          "181 # of connections: 0",
          "182 # of connections: 1",
          "183 # of connections: 2",
          "184 # of connections: 1",
          "185 # of connections: 1",
          "186 # of connections: 4",
          "187 # of connections: 1",
          "188 # of connections: 1",
          "189 # of connections: 0",
          "190 # of connections: 0",
          "191 # of connections: 1",
          "192 # of connections: 1",
          "193 # of connections: 1",
          "194 # of connections: 4",
          "195 # of connections: 0",
          "196 # of connections: 1",
          "197 # of connections: 0",
          "198 # of connections: 1",
          "199 # of connections: 2",
          "200 # of connections: 1",
          "201 # of connections: 1",
          "202 # of connections: 1",
          "203 # of connections: 1",
          "204 # of connections: 1",
          "205 # of connections: 5",
          "206 # of connections: 2",
          "207 # of connections: 1",
          "208 # of connections: 1",
          "209 # of connections: 1",
          "210 # of connections: 1",
          "211 # of connections: 3",
          "212 # of connections: 1",
          "213 # of connections: 1",
          "214 # of connections: 1",
          "215 # of connections: 1",
          "216 # of connections: 1",
          "217 # of connections: 0",
          "218 # of connections: 0",
          "219 # of connections: 0",
          "220 # of connections: 1",
          "221 # of connections: 13",
          "222 # of connections: 1",
          "223 # of connections: 1",
          "224 # of connections: 8",
          "225 # of connections: 3",
          "226 # of connections: 1",
          "227 # of connections: 0",
          "228 # of connections: 1",
          "229 # of connections: 0",
          "230 # of connections: 0",
          "231 # of connections: 0",
          "232 # of connections: 0",
          "233 # of connections: 1",
          "234 # of connections: 1",
          "235 # of connections: 1",
          "236 # of connections: 2",
          "237 # of connections: 1",
          "238 # of connections: 1",
          "239 # of connections: 1",
          "240 # of connections: 1",
          "241 # of connections: 1",
          "242 # of connections: 1",
          "243 # of connections: 1",
          "244 # of connections: 1",
          "245 # of connections: 5",
          "246 # of connections: 0",
          "247 # of connections: 0",
          "248 # of connections: 1",
          "249 # of connections: 1",
          "250 # of connections: 3",
          "251 # of connections: 1",
          "252 # of connections: 4",
          "253 # of connections: 0",
          "254 # of connections: 1",
          "255 # of connections: 1",
          "256 # of connections: 1",
          "257 # of connections: 1",
          "258 # of connections: 0",
          "259 # of connections: 1",
          "260 # of connections: 1",
          "261 # of connections: 0",
          "262 # of connections: 1",
          "263 # of connections: 4",
          "264 # of connections: 0",
          "265 # of connections: 0",
          "266 # of connections: 0",
          "267 # of connections: 1",
          "268 # of connections: 0",
          "269 # of connections: 0",
          "270 # of connections: 0",
          "271 # of connections: 0",
          "272 # of connections: 0",
          "273 # of connections: 1",
          "274 # of connections: 1",
          "275 # of connections: 1",
          "276 # of connections: 1",
          "277 # of connections: 1",
          "278 # of connections: 1",
          "279 # of connections: 1",
          "280 # of connections: 1",
          "281 # of connections: 0",
          "282 # of connections: 1",
          "283 # of connections: 1",
          "284 # of connections: 1",
          "285 # of connections: 1",
          "286 # of connections: 1",
          "287 # of connections: 1",
          "288 # of connections: 1",
          "289 # of connections: 1",
          "290 # of connections: 0",
          "291 # of connections: 0",
          "292 # of connections: 0",
          "293 # of connections: 0",
          "294 # of connections: 0",
          "295 # of connections: 0",
          "296 # of connections: 0",
          "297 # of connections: 0",
          "298 # of connections: 1",
          "299 # of connections: 1",
          "300 # of connections: 1",
          "301 # of connections: 1",
          "302 # of connections: 1",
          "303 # of connections: 0",
          "304 # of connections: 2",
          "305 # of connections: 1",
          "306 # of connections: 2",
          "307 # of connections: 1",
          "308 # of connections: 1",
          "309 # of connections: 1",
          "310 # of connections: 1",
          "311 # of connections: 0",
          "312 # of connections: 1",
          "313 # of connections: 1",
          "314 # of connections: 0",
          "315 # of connections: 0",
          "316 # of connections: 1",
          "317 # of connections: 1",
          "318 # of connections: 1",
          "319 # of connections: 2",
          "320 # of connections: 1",
          "321 # of connections: 1",
          "322 # of connections: 1",
          "323 # of connections: 1",
          "324 # of connections: 1",
          "325 # of connections: 1",
          "326 # of connections: 1",
          "327 # of connections: 1",
          "328 # of connections: 0",
          "329 # of connections: 1",
          "330 # of connections: 1",
          "331 # of connections: 1",
          "332 # of connections: 1",
          "333 # of connections: 1",
          "334 # of connections: 1",
          "335 # of connections: 1",
          "336 # of connections: 1",
          "337 # of connections: 1",
          "338 # of connections: 1",
          "339 # of connections: 1",
          "340 # of connections: 1",
          "341 # of connections: 1",
          "342 # of connections: 1",
          "343 # of connections: 1",
          "344 # of connections: 1",
          "345 # of connections: 1",
          "346 # of connections: 1",
          "347 # of connections: 1",
          "348 # of connections: 1",
          "349 # of connections: 0",
          "350 # of connections: 1",
          "351 # of connections: 1",
          "352 # of connections: 1",
          "353 # of connections: 1",
          "354 # of connections: 0",
          "355 # of connections: 1",
          "356 # of connections: 1",
          "357 # of connections: 1",
          "358 # of connections: 1",
          "359 # of connections: 1",
          "360 # of connections: 1",
          "361 # of connections: 1",
          "362 # of connections: 1",
          "363 # of connections: 1",
          "364 # of connections: 1",
          "365 # of connections: 1",
          "366 # of connections: 1",
          "367 # of connections: 1",
          "368 # of connections: 1",
          "369 # of connections: 0",
          "370 # of connections: 1",
          "371 # of connections: 1",
          "372 # of connections: 1",
          "373 # of connections: 1",
          "374 # of connections: 1",
          "375 # of connections: 1",
          "376 # of connections: 1",
          "377 # of connections: 1",
          "378 # of connections: 1",
          "379 # of connections: 1",
          "380 # of connections: 1",
          "381 # of connections: 0",
          "382 # of connections: 1",
          "383 # of connections: 1",
          "384 # of connections: 1",
          "385 # of connections: 0",
          "386 # of connections: 0",
          "387 # of connections: 1",
          "388 # of connections: 1",
          "389 # of connections: 1",
          "390 # of connections: 0",
          "391 # of connections: 1",
          "392 # of connections: 1",
          "393 # of connections: 1",
          "394 # of connections: 1",
          "395 # of connections: 1",
          "19, # of connections: 1",
          "25's # of connections: 1",
          "43, # of connections: 1",
          "134,P # of connections: 3",
          "89,P # of connections: 1"
         ],
         "type": "scatter",
         "x": [
          0.620490341664256,
          0.006142741825110358,
          0.35131093069413544,
          0.9864157024134783,
          -0.30548427660314886,
          0.36637236774074783,
          0.8918086768083807,
          -0.540201351578666,
          -0.4706431688237232,
          -0.8142177211572926,
          0.9385216481362675,
          0.7188415142796913,
          0.9758590324891019,
          -0.4364160302875688,
          0.88840586397486,
          0.9567189622051367,
          -0.6195127003671023,
          0.5487123032412526,
          0.0295918608164515,
          0.2628105539333354,
          0.9851446720186838,
          -0.7540442288491624,
          -0.04744973797080668,
          -0.5908126443999777,
          0.6411267099032214,
          0.943997216655143,
          0.9091213612474348,
          0.8595252329782409,
          0.3850946330350873,
          -0.9734085805638265,
          -0.9615502528769259,
          0.9583835880640976,
          0.9234094484894843,
          0.6574215142610172,
          0.5328984197832295,
          0.7633361458046325,
          -0.8167984752178357,
          0.8961530549937607,
          -0.8974303899052664,
          0.2367257107524086,
          -0.665857992277273,
          -0.0939848866791065,
          0.4745719044639974,
          0.12254902986946802,
          0.026390567555746907,
          -0.8759281827419986,
          -0.8486116236067225,
          -0.24069329173531945,
          -0.8785555064431468,
          -0.23291962663090976,
          0.8704775325332776,
          -0.1405068321447556,
          -0.9726713932303348,
          -0.3467007379543942,
          0.5099337013010706,
          0.9710277646186313,
          0.9082883034244488,
          0.3108635594866017,
          0.0006949876812045083,
          -0.37961397224957893,
          0.844436454786481,
          0.6390196497878476,
          -0.5848446314411766,
          0.9971551366330191,
          0.07371348799576748,
          0.9238246285042714,
          0.664000005394086,
          -0.45512880674543776,
          -0.9086514702551178,
          0.1385656293420449,
          -0.9603926175193129,
          0.88677918809426,
          0.33669041748285533,
          -0.790295796011414,
          -0.6360208877980991,
          0.7875129511002799,
          -0.6282914347674897,
          0.22546047691977522,
          -0.9138283835930787,
          -0.025985667657112656,
          -0.3385213599805643,
          -0.28076702699935874,
          0.8832490236278132,
          0.3405693524298092,
          -0.45272160023071556,
          0.9999999999999999,
          0.6845656571018899,
          -0.09747255346523231,
          -0.4025737232090465,
          -0.35213396104088346,
          0.08317099884583835,
          -0.26494603492830104,
          0.7797252883922204,
          -0.49337243010385373,
          -0.2809522777360302,
          -0.8146539564653946,
          0.500509521984784,
          0.611786275187959,
          -0.936067057377622,
          -0.6370793619355114,
          0.31559979496839546,
          -0.8928036315506566,
          -0.02772150935265581,
          0.3140695779754071,
          0.6336154672597297,
          -0.08179736398559917,
          0.9516493580554037,
          -0.7704460412531321,
          0.06299238018072234,
          -0.4061866489514287,
          -0.23212584093879599,
          -0.5680995577237896,
          -0.05877488657489258,
          -0.8196715891652631,
          -0.8489180556680362,
          -0.8717582481313324,
          -0.4785373707536142,
          0.9733909719419324,
          0.33524715391505866,
          -0.6392001324979839,
          0.9546141160283631,
          0.3403691136198961,
          -0.6364086202688919,
          0.9855923728613386,
          -0.9003554339569969,
          -0.8914385973100437,
          -0.16402934008357534,
          0.10000059966385427,
          0.15792813654771404,
          0.8278487690946821,
          0.5485554080865122,
          0.8996761423330908,
          -0.6876928262326466,
          0.4443549180466555,
          -0.5125718713538863,
          0.7823641123901885,
          0.18919621617133525,
          -0.024366897705347754,
          0.46517365348431794,
          0.2902791817639872,
          -0.48750038234982157,
          0.2723656451292577,
          0.004319311841122959,
          -0.9249633818309793,
          -0.8625462845977472,
          0.9523282271977851,
          0.11684737852564969,
          0.5990675900968763,
          -0.3520610193917221,
          -0.4775250854268009,
          -0.3157881125985984,
          -0.922941338646843,
          0.2645120393583629,
          0.5385396283598712,
          0.832327849524042,
          0.028597206179082867,
          0.6849002432698026,
          0.006334362677823553,
          -0.4622214140946576,
          0.24589961684088607,
          -0.8906791017599425,
          -0.8787916572742371,
          -0.8042518482618813,
          -0.3248653158480695,
          -0.11308727723765298,
          -0.6945476341572974,
          0.08226270779972561,
          -0.45364716501836294,
          0.2314750723586724,
          -0.13672265233202485,
          0.04949508766705271,
          -0.48007438271338504,
          0.5747119568397446,
          0.587695285459111,
          -0.822286917431661,
          -0.8077857763761146,
          0.08443956171607506,
          -0.46283683810661536,
          -0.09653091267971682,
          -0.7251224177441988,
          0.26117459215253197,
          0.6942014291268425,
          0.42143908980519623,
          -0.04522602038800965,
          0.8998242310362328,
          0.21311091884547861,
          -0.7727557975004273,
          0.45567697483674857,
          0.8067627126872914,
          0.5936590739054395,
          0.8612886198624659,
          0.5740799306080147,
          0.8903358890937149,
          0.17364933189364162,
          -0.8876856333257077,
          -0.9688845391283859,
          0.8659960903725914,
          0.5894958646364051,
          -0.43026516790800784,
          -0.5215658363210823,
          -0.5927373994684603,
          -0.08762245507929951,
          -0.9552922624501908,
          -0.29215538250682355,
          -0.317477768690801,
          0.6466702893317232,
          0.7277665551806544,
          -0.013327428184580383,
          0.6576181829121541,
          -0.8260647806881052,
          0.13789915800400682,
          0.8206152198448664,
          -0.7838195010013597,
          0.4434800353792901,
          -0.8916510725199506,
          -0.5862830530789347,
          0.9707332730346885,
          0.38923097853782096,
          0.8557808962580813,
          0.6643818165947988,
          0.16273892950513363,
          0.7295163381396103,
          0.29717845234262447,
          0.11825699254923869,
          -0.2963801607909824,
          -0.961959323547827,
          -0.7726092975352448,
          0.6728966871078854,
          -0.36053247727234017,
          -0.7014118139165425,
          0.8028065793731032,
          -0.8810377066515703,
          -0.8873664489331791,
          0.9444304230106751,
          -0.10761717985741852,
          0.6040376287736987,
          0.6854894440961111,
          -0.5015979986456847,
          -0.11904822818134389,
          -0.29986296568583554,
          -0.19648091632064657,
          -0.08234876836782748,
          -0.6878035186802977,
          0.2878527965813375,
          -0.5857249030172593,
          -0.21077189916408753,
          0.11470327187516259,
          -0.915583295116056,
          0.9684359580111801,
          0.24476272220046522,
          -0.9578846047897092,
          -0.1493511663485675,
          -0.5153574275356028,
          -0.09259600851126513,
          -0.22868014309690202,
          -0.22598031551432202,
          0.18784944024591954,
          -0.23232176393002785,
          0.1576353197313545,
          -0.8391807170540105,
          0.6124958563916211,
          0.6400255674389894,
          0.2137160576168222,
          0.4159083862578802,
          0.5569192254232217,
          0.9604448208708871,
          0.37042375729093857,
          0.8309148504905901,
          0.7011180145142614,
          0.621766398965355,
          -0.8995812901730154,
          0.823837527978965,
          0.49623026082551597,
          -0.7082123150319024,
          -0.5306583843084238,
          0.771200999459059,
          -0.9572085525431691,
          -0.25901191067712437,
          0.9003723022177351,
          -0.2624181248286888,
          -0.8838701687526244,
          0.33603426259320124,
          -0.11128713992942955,
          -0.16297069423013014,
          0.8256482169113013,
          -0.39615436135855125,
          -0.46902509365316747,
          0.8275880862167732,
          -0.516626604669697,
          0.5399888619931187,
          -0.6987878439915887,
          -0.6391988031617697,
          0.5386223748570418,
          -0.8327526587058139,
          -0.2972056502002921,
          -0.41139035620253916,
          0.4705632295572301,
          -0.9572629038748532,
          -0.9805053712059089,
          -0.8588428551056168,
          -0.0786611489749314,
          -0.6585090619243101,
          0.5531593810231563,
          -0.013549410038490384,
          -0.671281638331986,
          -0.41307471506718535,
          -0.6910192433507824,
          0.9878610442442779,
          0.06723398015624715,
          -0.11141998404949503,
          -0.6000190877086184,
          -0.3624478251518975,
          0.24335258796390113,
          -0.06267334176453337,
          0.7493441644661873,
          0.5743419812495739,
          0.9176601175770341,
          0.10736998803226327,
          0.1370800509633891,
          -0.16811103745309267,
          0.1697857946822449,
          0.16402573011131782,
          -0.9491841676437978,
          0.9523740245799182,
          0.8190489692751276,
          0.2885443356255018,
          -0.4772434331604236,
          -0.3443344348477849,
          0.7972983534359767,
          0.9762730963168526,
          -0.480151657417159,
          -0.6448178341230552,
          -0.544415793560332,
          -0.6803939074135299,
          -0.18952369904992494,
          0.19057264770156382,
          0.09333196934510661,
          0.7545220780821652,
          0.9519809977383059,
          -0.8336120707019535,
          -0.70014084427628,
          -0.5979120754330788,
          0.24620723388844154,
          0.10505461466491677,
          0.023762631007417052,
          0.8360063499386027,
          -0.9691299280553498,
          -0.9156477669614644,
          0.52851268633754,
          -0.3451956793972071,
          -0.5597867948086792,
          -0.7677496535931653,
          0.6611536721531476,
          -0.5961061367879246,
          -0.7467541100402848,
          -0.05629908618545198,
          0.41058442827269104,
          0.08327693395963988,
          -0.8151745377249672,
          0.3548521784085646,
          0.7169287463484139,
          0.5909530923528369,
          0.9259556259359631,
          -0.6403127129756755,
          -0.38584065104739207,
          -0.9067123265663485,
          -0.019985094422075373,
          0.32200932870129756,
          -0.6406009017204158,
          0.4067907929953041,
          0.9051288387284285,
          0.8822774295443232,
          -0.40568562114657736,
          -0.2551617240758257,
          0.7676891148504978,
          -0.4678042541212359,
          0.9444221075407737,
          -0.15602363985544843,
          0.8102824735517233,
          -0.23883651941285125,
          0.6526321163773879,
          -0.8371443308073987,
          0.6702072891472556,
          0.1221848577705861,
          -0.932831059668292,
          -0.21807449904486984,
          0.41836907236306164,
          -0.1330001958810059,
          0.2841316500224368,
          -0.21810104237106487,
          -0.7003626461559215,
          -0.8561982089336466,
          0.3161564268185928,
          0.06374850993483991,
          -0.7392270114544341,
          -0.8537501816427849,
          -0.9072024897914076,
          -0.45823987501535796,
          0.08175222391904952,
          -0.43287548813351384
         ],
         "y": [
          0.24435527266063375,
          -0.32924533164792386,
          0.5572004073989956,
          0.03106651706356439,
          0.8793239498354894,
          -0.4172656591242951,
          -0.3007955630156296,
          0.7951336671468846,
          -0.9067090793542103,
          0.4264347520731153,
          0.2872820137798034,
          -0.7655481872035657,
          -0.2962195756234142,
          0.8346889401888955,
          -0.524961796513859,
          -0.30900919646292146,
          0.28319270198341867,
          0.788200802313935,
          -0.10307938747169691,
          0.8403352167960396,
          -0.19426508872720183,
          -0.630529351590049,
          0.8933173491392739,
          -0.8272736519120509,
          -0.2133815893024621,
          -0.23448766842547142,
          -0.029320632813582923,
          0.17754954434687412,
          -0.9084115308671095,
          0.07462386294164597,
          0.03488438715691671,
          -0.26015554572241845,
          -0.33633150771886267,
          -0.6477614324231231,
          -0.7927568992432023,
          -0.6830591403967325,
          0.5339550568721431,
          -0.20226655224169754,
          -0.44320827334900414,
          0.9680587534701532,
          -0.6879038345201062,
          -0.7427430630265387,
          0.7433429599320227,
          0.9789061531842422,
          -0.9947256080475823,
          -0.48035240496758547,
          -0.4077755902923534,
          0.8042304243234999,
          0.06575439134029093,
          0.7893915231274188,
          -0.13337021636340193,
          0.19947753182752123,
          -0.03314073147065445,
          0.9186338474859809,
          -0.8543816205783427,
          0.2790579590855156,
          -0.38512225087496826,
          -0.3184581067743185,
          -0.11970922721020713,
          -0.6679001555829942,
          0.4447309503941422,
          0.6808513605516057,
          0.7772718581240902,
          -0.14425100328089463,
          -0.5866969910825105,
          0.018307906006111836,
          -0.7864579538327914,
          -0.8766107180420949,
          0.0406367604756103,
          -0.972424527118684,
          -0.1574872572728259,
          0.5442679635495614,
          0.9225849533001124,
          0.3773334717327822,
          -0.28395341740774616,
          0.0001122363416193103,
          0.4055016486021758,
          0.08087707946842412,
          -0.3190721680966415,
          -0.40073196392406923,
          0.6626825012181127,
          -0.9139182740302645,
          0.3617091159296438,
          -0.5736912818066446,
          0.02149392339316462,
          0.016673410743098558,
          0.6003474941420839,
          0.03498667284730606,
          0.8567047957194985,
          -0.8763738303669447,
          0.9339561836451745,
          0.643128201054393,
          -0.6027330556305577,
          -0.7912434303634467,
          -0.49930909188869743,
          0.6100934555152979,
          0.8792637948294648,
          0.8334553508175874,
          -0.19063761521475092,
          0.7915245999026221,
          0.9045130756227068,
          -0.400404937999564,
          0.6386509275289097,
          0.4117952047277852,
          0.6380699461364933,
          -0.9573065668369984,
          -0.09326622199231907,
          0.6856721395053821,
          0.9857192801641195,
          0.7702581483599464,
          0.5197999239517549,
          0.84578743034362,
          0.9682278026734115,
          -0.1808241699953935,
          -0.500959590300936,
          -0.32242352444905525,
          -0.840370792400487,
          0.16647938390387793,
          0.8226153136328695,
          0.6138218467709352,
          -0.06022001745354846,
          -0.1188919141034669,
          0.75912128669408,
          -0.12048846638732161,
          -0.08101985895758312,
          0.2148507481889096,
          -0.23171368520805474,
          0.31001936397327007,
          0.3685813790170041,
          -0.357539003966888,
          0.8730716604469723,
          0.09891756468488916,
          0.6439784105677914,
          -0.8616012141665919,
          0.7201981086279359,
          -0.6588891194739533,
          0.8365210188414317,
          0.9407199201707415,
          -0.7556304154962235,
          0.946637608433355,
          -0.8691603196121842,
          -0.9284844952209081,
          -0.9683493301475269,
          0.32755479963481265,
          0.2545866062259202,
          0.13504936122248548,
          -0.8509480365447162,
          0.7570470751712755,
          -0.4320400249750353,
          0.5260507677311772,
          0.9542481790250329,
          0.30667199290505065,
          -0.8900613671269099,
          -0.15836068391661276,
          -0.2825143699922373,
          -0.8774849556403934,
          -0.7383903832625014,
          0.957720828293963,
          -0.3162845693822217,
          -0.9474165728142782,
          0.17121238343341932,
          0.4123890357928657,
          0.2646134188798444,
          -0.8011343051208052,
          -0.01515027146266562,
          -0.2758478824562316,
          0.027654007552460284,
          -0.757214701917121,
          0.9141069980246705,
          -0.9239452716036183,
          -0.009922720970515475,
          -0.7435507348000122,
          -0.7754346430649579,
          -0.485577949634681,
          -0.5840876104492014,
          0.5487026054161553,
          0.328961575488016,
          0.04451478954153439,
          -0.13626063330000354,
          -0.6837256958817014,
          0.9105646880059687,
          0.7410417180869115,
          0.6277262730866942,
          -0.9521198491965291,
          0.20689004697180335,
          -0.8279761417438837,
          -0.6721790738675583,
          0.8462251987576298,
          0.5460486885243249,
          -0.7165613827845654,
          -0.5961353760582223,
          0.3316530880347598,
          0.3258323237822748,
          0.3032508416123242,
          0.3158147305795385,
          0.09879986019856406,
          0.26044643922588573,
          -0.6193380926035572,
          -0.3884800252518596,
          -0.6318471786878413,
          0.3609691173827865,
          0.2987245425551384,
          -0.0658640029847446,
          -0.06345289137187332,
          0.18488050319243068,
          0.741973104242371,
          0.653540866237783,
          -0.17361105024388002,
          -0.5409402337474735,
          -0.5440145258246534,
          0.4804665064293758,
          -0.46714989057920087,
          -0.011813770248448763,
          0.36179134263444024,
          0.1575542458309391,
          0.5369249551765771,
          0.08222235173427825,
          0.8141478463917992,
          0.43283376416889047,
          0.5865424639868426,
          0.017697675917476112,
          0.5365895580105019,
          0.7646076912878091,
          -0.16413021724736718,
          -0.2665757469732505,
          -0.21992701017783742,
          -0.4624210137429256,
          -0.6469950197197589,
          -0.8312368346783132,
          0.5897653424228251,
          0.5995325354898381,
          -0.36480310330325144,
          0.40402855168863766,
          0.026185134842311192,
          0.9468081336870047,
          -0.38407292435120277,
          0.21289581500581325,
          -0.12504920317287044,
          0.38470986006891067,
          0.1979319032397586,
          0.11849142241934613,
          0.9646439564419842,
          -0.7245211783788635,
          -0.5399827819471725,
          0.22337840521925678,
          -0.8227820601973114,
          0.8159270668484948,
          0.3592051562271864,
          0.2074962708119152,
          0.18148990449667612,
          -0.21087780919178417,
          0.10222433599703999,
          0.8560299772397757,
          0.9137820148143028,
          0.9479688750020072,
          0.9721634691380174,
          0.966969122295981,
          -0.9092444069539867,
          -0.9716601562484631,
          -0.17846902549067772,
          0.6422256583530797,
          -0.390709838136958,
          0.2178127549330712,
          -0.8421087775998919,
          -0.6249672117446393,
          0.23933115651844578,
          0.02165141128831547,
          -0.4375176233187185,
          -0.6925563917692202,
          -0.815398508539506,
          -0.0637446631924323,
          -0.6374793642976428,
          0.8066236667087721,
          0.17606033591501452,
          -0.40976021775213045,
          0.6273038054372747,
          -0.1852235366897679,
          -0.9630976720204313,
          -0.47707799737704454,
          0.9418992839028666,
          0.452236841825602,
          -0.9019612531798155,
          -0.9580504583636439,
          -0.9746697185800575,
          -0.5621446964968111,
          0.59562251648249,
          0.8946291489960722,
          -0.4031071656755341,
          -0.838389285179736,
          0.717416375850324,
          -0.5982122114137253,
          -0.6254224121075005,
          -0.8023714351810062,
          -0.595395625809629,
          0.9236151379066521,
          -0.840945947931187,
          -0.8303262998209361,
          0.210845776843794,
          0.015889928462697468,
          0.18148291847013126,
          0.8277505503353656,
          -0.6963295854455099,
          -0.7701709592081722,
          0.24543399467842647,
          -0.4844302221418642,
          0.48935340931163246,
          0.3012919645322017,
          0.11628995596928697,
          0.7146646511025148,
          -0.4342757104109682,
          0.7243347089456251,
          -0.12273927500781481,
          -0.7997977815022015,
          -0.9487159710521825,
          0.4254695584037832,
          -0.8280564665455727,
          0.40837793323874955,
          -0.6318653280039807,
          0.28535121204132585,
          -0.6017641268875379,
          0.6229756701901539,
          0.9334732328746911,
          0.24879901232739426,
          -0.18741888998958892,
          -0.5321504965444123,
          -0.9240556068021314,
          0.7991323817500919,
          -0.9221453383767197,
          -0.5583390860439827,
          -0.033822738251114357,
          0.002461398371298625,
          -0.7781748090708779,
          -0.7304447777693299,
          -0.5613917996491198,
          -0.9688626475837155,
          -0.2632564559371419,
          -0.9604728922152018,
          -0.1749878981631315,
          -0.12088490861269618,
          0.541112185907842,
          -0.6127065856016447,
          -0.7715348882054062,
          0.8805396750478472,
          0.9195800846587459,
          0.9736652255593792,
          0.40509019560953535,
          0.1726339516441543,
          0.011739214751084227,
          -0.8723234871036509,
          0.8635076112926953,
          -0.3089195432579803,
          0.6444686159315369,
          0.14279409690743655,
          -0.7539848094951742,
          0.6757841936318904,
          -0.9899236153608368,
          -0.9277602811380044,
          -0.9209875732191994,
          0.4426007591067603,
          0.9189942064712121,
          -0.47033611663650576,
          0.6866561261682763,
          0.30856250381297884,
          0.7219354919221036,
          0.920421909033727,
          -0.2374490128028811,
          -0.8932711708908097,
          -0.9071975406879494,
          0.6730721487383663,
          0.866167258037113,
          -0.45164287124195,
          0.5072674826914052,
          0.9225707400339607,
          0.8923158484141606,
          0.5510644353715133,
          -0.8706386743966266,
          0.06619592789371385,
          0.9492637201367766,
          0.4960640152073384,
          -0.7353760532615722,
          0.7830592154689431,
          0.4904288196852889,
          0.6859176989415685,
          -0.4283534870623445,
          -0.13313498993161155,
          -0.9741001962024023,
          0.8237198514376047,
          0.8952472682391442,
          -0.7133193355854041,
          -0.9429767801766332,
          -0.18718774888140804,
          -0.5157844108691299,
          0.8813195090892265,
          -0.7573188130027237,
          0.47418430578688553,
          0.5480080111083162,
          -0.3112637415108241,
          0.6887014276397951,
          -0.9910687524559387,
          -0.9057537618280979
         ]
        }
       ],
       "layout": {
        "annotations": [
         {
          "showarrow": false,
          "text": "No. of contacts made",
          "xref": "paper",
          "yref": "paper"
         }
        ],
        "hovermode": "closest",
        "margin": {
         "b": 20,
         "l": 5,
         "r": 5,
         "t": 40
        },
        "showlegend": false,
        "template": {
         "data": {
          "bar": [
           {
            "error_x": {
             "color": "#2a3f5f"
            },
            "error_y": {
             "color": "#2a3f5f"
            },
            "marker": {
             "line": {
              "color": "#E5ECF6",
              "width": 0.5
             }
            },
            "type": "bar"
           }
          ],
          "barpolar": [
           {
            "marker": {
             "line": {
              "color": "#E5ECF6",
              "width": 0.5
             }
            },
            "type": "barpolar"
           }
          ],
          "carpet": [
           {
            "aaxis": {
             "endlinecolor": "#2a3f5f",
             "gridcolor": "white",
             "linecolor": "white",
             "minorgridcolor": "white",
             "startlinecolor": "#2a3f5f"
            },
            "baxis": {
             "endlinecolor": "#2a3f5f",
             "gridcolor": "white",
             "linecolor": "white",
             "minorgridcolor": "white",
             "startlinecolor": "#2a3f5f"
            },
            "type": "carpet"
           }
          ],
          "choropleth": [
           {
            "colorbar": {
             "outlinewidth": 0,
             "ticks": ""
            },
            "type": "choropleth"
           }
          ],
          "contour": [
           {
            "colorbar": {
             "outlinewidth": 0,
             "ticks": ""
            },
            "colorscale": [
             [
              0,
              "#0d0887"
             ],
             [
              0.1111111111111111,
              "#46039f"
             ],
             [
              0.2222222222222222,
              "#7201a8"
             ],
             [
              0.3333333333333333,
              "#9c179e"
             ],
             [
              0.4444444444444444,
              "#bd3786"
             ],
             [
              0.5555555555555556,
              "#d8576b"
             ],
             [
              0.6666666666666666,
              "#ed7953"
             ],
             [
              0.7777777777777778,
              "#fb9f3a"
             ],
             [
              0.8888888888888888,
              "#fdca26"
             ],
             [
              1,
              "#f0f921"
             ]
            ],
            "type": "contour"
           }
          ],
          "contourcarpet": [
           {
            "colorbar": {
             "outlinewidth": 0,
             "ticks": ""
            },
            "type": "contourcarpet"
           }
          ],
          "heatmap": [
           {
            "colorbar": {
             "outlinewidth": 0,
             "ticks": ""
            },
            "colorscale": [
             [
              0,
              "#0d0887"
             ],
             [
              0.1111111111111111,
              "#46039f"
             ],
             [
              0.2222222222222222,
              "#7201a8"
             ],
             [
              0.3333333333333333,
              "#9c179e"
             ],
             [
              0.4444444444444444,
              "#bd3786"
             ],
             [
              0.5555555555555556,
              "#d8576b"
             ],
             [
              0.6666666666666666,
              "#ed7953"
             ],
             [
              0.7777777777777778,
              "#fb9f3a"
             ],
             [
              0.8888888888888888,
              "#fdca26"
             ],
             [
              1,
              "#f0f921"
             ]
            ],
            "type": "heatmap"
           }
          ],
          "heatmapgl": [
           {
            "colorbar": {
             "outlinewidth": 0,
             "ticks": ""
            },
            "colorscale": [
             [
              0,
              "#0d0887"
             ],
             [
              0.1111111111111111,
              "#46039f"
             ],
             [
              0.2222222222222222,
              "#7201a8"
             ],
             [
              0.3333333333333333,
              "#9c179e"
             ],
             [
              0.4444444444444444,
              "#bd3786"
             ],
             [
              0.5555555555555556,
              "#d8576b"
             ],
             [
              0.6666666666666666,
              "#ed7953"
             ],
             [
              0.7777777777777778,
              "#fb9f3a"
             ],
             [
              0.8888888888888888,
              "#fdca26"
             ],
             [
              1,
              "#f0f921"
             ]
            ],
            "type": "heatmapgl"
           }
          ],
          "histogram": [
           {
            "marker": {
             "colorbar": {
              "outlinewidth": 0,
              "ticks": ""
             }
            },
            "type": "histogram"
           }
          ],
          "histogram2d": [
           {
            "colorbar": {
             "outlinewidth": 0,
             "ticks": ""
            },
            "colorscale": [
             [
              0,
              "#0d0887"
             ],
             [
              0.1111111111111111,
              "#46039f"
             ],
             [
              0.2222222222222222,
              "#7201a8"
             ],
             [
              0.3333333333333333,
              "#9c179e"
             ],
             [
              0.4444444444444444,
              "#bd3786"
             ],
             [
              0.5555555555555556,
              "#d8576b"
             ],
             [
              0.6666666666666666,
              "#ed7953"
             ],
             [
              0.7777777777777778,
              "#fb9f3a"
             ],
             [
              0.8888888888888888,
              "#fdca26"
             ],
             [
              1,
              "#f0f921"
             ]
            ],
            "type": "histogram2d"
           }
          ],
          "histogram2dcontour": [
           {
            "colorbar": {
             "outlinewidth": 0,
             "ticks": ""
            },
            "colorscale": [
             [
              0,
              "#0d0887"
             ],
             [
              0.1111111111111111,
              "#46039f"
             ],
             [
              0.2222222222222222,
              "#7201a8"
             ],
             [
              0.3333333333333333,
              "#9c179e"
             ],
             [
              0.4444444444444444,
              "#bd3786"
             ],
             [
              0.5555555555555556,
              "#d8576b"
             ],
             [
              0.6666666666666666,
              "#ed7953"
             ],
             [
              0.7777777777777778,
              "#fb9f3a"
             ],
             [
              0.8888888888888888,
              "#fdca26"
             ],
             [
              1,
              "#f0f921"
             ]
            ],
            "type": "histogram2dcontour"
           }
          ],
          "mesh3d": [
           {
            "colorbar": {
             "outlinewidth": 0,
             "ticks": ""
            },
            "type": "mesh3d"
           }
          ],
          "parcoords": [
           {
            "line": {
             "colorbar": {
              "outlinewidth": 0,
              "ticks": ""
             }
            },
            "type": "parcoords"
           }
          ],
          "pie": [
           {
            "automargin": true,
            "type": "pie"
           }
          ],
          "scatter": [
           {
            "marker": {
             "colorbar": {
              "outlinewidth": 0,
              "ticks": ""
             }
            },
            "type": "scatter"
           }
          ],
          "scatter3d": [
           {
            "line": {
             "colorbar": {
              "outlinewidth": 0,
              "ticks": ""
             }
            },
            "marker": {
             "colorbar": {
              "outlinewidth": 0,
              "ticks": ""
             }
            },
            "type": "scatter3d"
           }
          ],
          "scattercarpet": [
           {
            "marker": {
             "colorbar": {
              "outlinewidth": 0,
              "ticks": ""
             }
            },
            "type": "scattercarpet"
           }
          ],
          "scattergeo": [
           {
            "marker": {
             "colorbar": {
              "outlinewidth": 0,
              "ticks": ""
             }
            },
            "type": "scattergeo"
           }
          ],
          "scattergl": [
           {
            "marker": {
             "colorbar": {
              "outlinewidth": 0,
              "ticks": ""
             }
            },
            "type": "scattergl"
           }
          ],
          "scattermapbox": [
           {
            "marker": {
             "colorbar": {
              "outlinewidth": 0,
              "ticks": ""
             }
            },
            "type": "scattermapbox"
           }
          ],
          "scatterpolar": [
           {
            "marker": {
             "colorbar": {
              "outlinewidth": 0,
              "ticks": ""
             }
            },
            "type": "scatterpolar"
           }
          ],
          "scatterpolargl": [
           {
            "marker": {
             "colorbar": {
              "outlinewidth": 0,
              "ticks": ""
             }
            },
            "type": "scatterpolargl"
           }
          ],
          "scatterternary": [
           {
            "marker": {
             "colorbar": {
              "outlinewidth": 0,
              "ticks": ""
             }
            },
            "type": "scatterternary"
           }
          ],
          "surface": [
           {
            "colorbar": {
             "outlinewidth": 0,
             "ticks": ""
            },
            "colorscale": [
             [
              0,
              "#0d0887"
             ],
             [
              0.1111111111111111,
              "#46039f"
             ],
             [
              0.2222222222222222,
              "#7201a8"
             ],
             [
              0.3333333333333333,
              "#9c179e"
             ],
             [
              0.4444444444444444,
              "#bd3786"
             ],
             [
              0.5555555555555556,
              "#d8576b"
             ],
             [
              0.6666666666666666,
              "#ed7953"
             ],
             [
              0.7777777777777778,
              "#fb9f3a"
             ],
             [
              0.8888888888888888,
              "#fdca26"
             ],
             [
              1,
              "#f0f921"
             ]
            ],
            "type": "surface"
           }
          ],
          "table": [
           {
            "cells": {
             "fill": {
              "color": "#EBF0F8"
             },
             "line": {
              "color": "white"
             }
            },
            "header": {
             "fill": {
              "color": "#C8D4E3"
             },
             "line": {
              "color": "white"
             }
            },
            "type": "table"
           }
          ]
         },
         "layout": {
          "annotationdefaults": {
           "arrowcolor": "#2a3f5f",
           "arrowhead": 0,
           "arrowwidth": 1
          },
          "coloraxis": {
           "colorbar": {
            "outlinewidth": 0,
            "ticks": ""
           }
          },
          "colorscale": {
           "diverging": [
            [
             0,
             "#8e0152"
            ],
            [
             0.1,
             "#c51b7d"
            ],
            [
             0.2,
             "#de77ae"
            ],
            [
             0.3,
             "#f1b6da"
            ],
            [
             0.4,
             "#fde0ef"
            ],
            [
             0.5,
             "#f7f7f7"
            ],
            [
             0.6,
             "#e6f5d0"
            ],
            [
             0.7,
             "#b8e186"
            ],
            [
             0.8,
             "#7fbc41"
            ],
            [
             0.9,
             "#4d9221"
            ],
            [
             1,
             "#276419"
            ]
           ],
           "sequential": [
            [
             0,
             "#0d0887"
            ],
            [
             0.1111111111111111,
             "#46039f"
            ],
            [
             0.2222222222222222,
             "#7201a8"
            ],
            [
             0.3333333333333333,
             "#9c179e"
            ],
            [
             0.4444444444444444,
             "#bd3786"
            ],
            [
             0.5555555555555556,
             "#d8576b"
            ],
            [
             0.6666666666666666,
             "#ed7953"
            ],
            [
             0.7777777777777778,
             "#fb9f3a"
            ],
            [
             0.8888888888888888,
             "#fdca26"
            ],
            [
             1,
             "#f0f921"
            ]
           ],
           "sequentialminus": [
            [
             0,
             "#0d0887"
            ],
            [
             0.1111111111111111,
             "#46039f"
            ],
            [
             0.2222222222222222,
             "#7201a8"
            ],
            [
             0.3333333333333333,
             "#9c179e"
            ],
            [
             0.4444444444444444,
             "#bd3786"
            ],
            [
             0.5555555555555556,
             "#d8576b"
            ],
            [
             0.6666666666666666,
             "#ed7953"
            ],
            [
             0.7777777777777778,
             "#fb9f3a"
            ],
            [
             0.8888888888888888,
             "#fdca26"
            ],
            [
             1,
             "#f0f921"
            ]
           ]
          },
          "colorway": [
           "#636efa",
           "#EF553B",
           "#00cc96",
           "#ab63fa",
           "#FFA15A",
           "#19d3f3",
           "#FF6692",
           "#B6E880",
           "#FF97FF",
           "#FECB52"
          ],
          "font": {
           "color": "#2a3f5f"
          },
          "geo": {
           "bgcolor": "white",
           "lakecolor": "white",
           "landcolor": "#E5ECF6",
           "showlakes": true,
           "showland": true,
           "subunitcolor": "white"
          },
          "hoverlabel": {
           "align": "left"
          },
          "hovermode": "closest",
          "mapbox": {
           "style": "light"
          },
          "paper_bgcolor": "white",
          "plot_bgcolor": "#E5ECF6",
          "polar": {
           "angularaxis": {
            "gridcolor": "white",
            "linecolor": "white",
            "ticks": ""
           },
           "bgcolor": "#E5ECF6",
           "radialaxis": {
            "gridcolor": "white",
            "linecolor": "white",
            "ticks": ""
           }
          },
          "scene": {
           "xaxis": {
            "backgroundcolor": "#E5ECF6",
            "gridcolor": "white",
            "gridwidth": 2,
            "linecolor": "white",
            "showbackground": true,
            "ticks": "",
            "zerolinecolor": "white"
           },
           "yaxis": {
            "backgroundcolor": "#E5ECF6",
            "gridcolor": "white",
            "gridwidth": 2,
            "linecolor": "white",
            "showbackground": true,
            "ticks": "",
            "zerolinecolor": "white"
           },
           "zaxis": {
            "backgroundcolor": "#E5ECF6",
            "gridcolor": "white",
            "gridwidth": 2,
            "linecolor": "white",
            "showbackground": true,
            "ticks": "",
            "zerolinecolor": "white"
           }
          },
          "shapedefaults": {
           "line": {
            "color": "#2a3f5f"
           }
          },
          "ternary": {
           "aaxis": {
            "gridcolor": "white",
            "linecolor": "white",
            "ticks": ""
           },
           "baxis": {
            "gridcolor": "white",
            "linecolor": "white",
            "ticks": ""
           },
           "bgcolor": "#E5ECF6",
           "caxis": {
            "gridcolor": "white",
            "linecolor": "white",
            "ticks": ""
           }
          },
          "title": {
           "x": 0.05
          },
          "xaxis": {
           "automargin": true,
           "gridcolor": "white",
           "linecolor": "white",
           "ticks": "",
           "title": {
            "standoff": 15
           },
           "zerolinecolor": "white",
           "zerolinewidth": 2
          },
          "yaxis": {
           "automargin": true,
           "gridcolor": "white",
           "linecolor": "white",
           "ticks": "",
           "title": {
            "standoff": 15
           },
           "zerolinecolor": "white",
           "zerolinewidth": 2
          }
         }
        },
        "title": {
         "font": {
          "size": 16
         },
         "text": "<br>Karnataka Person to Person Network Tracing"
        },
        "xaxis": {
         "showgrid": false,
         "showticklabels": false,
         "zeroline": false
        },
        "yaxis": {
         "showgrid": false,
         "showticklabels": false,
         "zeroline": false
        }
       }
      },
      "text/html": [
       "<div>\n",
       "        \n",
       "        \n",
       "            <div id=\"34dac09b-d150-4997-a1a5-4e290a42d079\" class=\"plotly-graph-div\" style=\"height:525px; width:100%;\"></div>\n",
       "            <script type=\"text/javascript\">\n",
       "                require([\"plotly\"], function(Plotly) {\n",
       "                    window.PLOTLYENV=window.PLOTLYENV || {};\n",
       "                    \n",
       "                if (document.getElementById(\"34dac09b-d150-4997-a1a5-4e290a42d079\")) {\n",
       "                    Plotly.newPlot(\n",
       "                        '34dac09b-d150-4997-a1a5-4e290a42d079',\n",
       "                        [{\"hoverinfo\": \"none\", \"line\": {\"color\": \"#888\", \"width\": 0.5}, \"mode\": \"lines\", \"type\": \"scatter\", \"x\": [0.620490341664256, 0.006142741825110358, null, 0.620490341664256, 0.35131093069413544, null, 0.36637236774074783, 0.8918086768083807, null, 0.36637236774074783, -0.4706431688237232, null, -0.4706431688237232, -0.936067057377622, null, 0.9385216481362675, 0.9567189622051367, null, 0.9758590324891019, 0.8961530549937607, null, -0.6195127003671023, -0.9734085805638265, null, -0.6195127003671023, -0.8785555064431468, null, -0.6195127003671023, -0.23291962663090976, null, 0.0295918608164515, -0.9086514702551178, null, 0.0295918608164515, 0.1385656293420449, null, 0.0295918608164515, -0.9603926175193129, null, 0.0295918608164515, 0.88677918809426, null, 0.0295918608164515, 0.33669041748285533, null, 0.0295918608164515, -0.49337243010385373, null, 0.0295918608164515, 0.8612886198624659, null, 0.6411267099032214, 0.5099337013010706, null, 0.6411267099032214, 0.0006949876812045083, null, 0.6411267099032214, 0.844436454786481, null, 0.5328984197832295, 0.7875129511002799, null, 0.7633361458046325, 0.07371348799576748, null, 0.7633361458046325, 0.9238246285042714, null, 0.7633361458046325, 0.664000005394086, null, -0.8167984752178357, -0.8537501816427849, null, -0.0939848866791065, -0.6360208877980991, null, -0.1405068321447556, -0.6282914347674897, null, -0.1405068321447556, 0.22546047691977522, null, -0.1405068321447556, -0.9138283835930787, null, -0.1405068321447556, -0.025985667657112656, null, -0.1405068321447556, -0.3385213599805643, null, -0.1405068321447556, -0.45272160023071556, null, -0.1405068321447556, 0.9999999999999999, null, -0.1405068321447556, 0.6845656571018899, null, -0.1405068321447556, -0.09747255346523231, null, -0.1405068321447556, -0.2809522777360302, null, -0.1405068321447556, -0.8146539564653946, null, -0.1405068321447556, -0.02772150935265581, null, -0.1405068321447556, 0.3140695779754071, null, -0.1405068321447556, 0.06299238018072234, null, -0.1405068321447556, -0.4061866489514287, null, -0.1405068321447556, -0.4622214140946576, null, -0.1405068321447556, 0.10736998803226327, null, -0.1405068321447556, 0.1370800509633891, null, -0.1405068321447556, -0.16811103745309267, null, -0.1405068321447556, -0.70014084427628, null, -0.1405068321447556, -0.5979120754330788, null, -0.1405068321447556, 0.24620723388844154, null, -0.1405068321447556, 0.10505461466491677, null, -0.1405068321447556, 0.023762631007417052, null, -0.1405068321447556, 0.8360063499386027, null, -0.1405068321447556, -0.9691299280553498, null, -0.1405068321447556, -0.9156477669614644, null, -0.1405068321447556, -0.38584065104739207, null, -0.1405068321447556, -0.9067123265663485, null, -0.1405068321447556, -0.8371443308073987, null, -0.1405068321447556, 0.6702072891472556, null, -0.1405068321447556, 0.1221848577705861, null, -0.1405068321447556, 0.41836907236306164, null, 0.3108635594866017, 0.15792813654771404, null, 0.3108635594866017, 0.8278487690946821, null, 0.0006949876812045083, -0.26494603492830104, null, -0.37961397224957893, 0.3405693524298092, null, -0.45512880674543776, -0.9072024897914076, null, -0.6282914347674897, -0.3624478251518975, null, 0.22546047691977522, 0.8998242310362328, null, -0.3385213599805643, -0.05877488657489258, null, -0.45272160023071556, -0.9552922624501908, null, -0.09747255346523231, -0.23212584093879599, null, -0.09747255346523231, -0.5680995577237896, null, -0.09747255346523231, 0.6576181829121541, null, -0.09747255346523231, -0.8260647806881052, null, -0.09747255346523231, 0.8206152198448664, null, -0.09747255346523231, -0.7838195010013597, null, -0.09747255346523231, 0.4434800353792901, null, -0.09747255346523231, -0.5862830530789347, null, -0.26494603492830104, -0.8916510725199506, null, 0.31559979496839546, 0.5485554080865122, null, -0.02772150935265581, 0.6336154672597297, null, -0.02772150935265581, -0.5927373994684603, null, 0.3140695779754071, 0.5385396283598712, null, 0.3140695779754071, 0.42143908980519623, null, -0.08179736398559917, 0.2645120393583629, null, 0.06299238018072234, 0.2902791817639872, null, -0.23212584093879599, -0.08762245507929951, null, 0.3403691136198961, 0.13789915800400682, null, 0.9855923728613386, 0.587695285459111, null, -0.9003554339569969, -0.8906791017599425, null, -0.9003554339569969, -0.8787916572742371, null, -0.9003554339569969, -0.11308727723765298, null, -0.9003554339569969, -0.9578846047897092, null, -0.16402934008357534, -0.7467541100402848, null, -0.16402934008357534, -0.05629908618545198, null, -0.16402934008357534, 0.41058442827269104, null, -0.16402934008357534, 0.08327693395963988, null, -0.16402934008357534, -0.8151745377249672, null, 0.10000059966385427, 0.6942014291268425, null, 0.10000059966385427, 0.5740799306080147, null, 0.10000059966385427, 0.8903358890937149, null, 0.10000059966385427, 0.11825699254923869, null, 0.10000059966385427, -0.6403127129756755, null, 0.4443549180466555, -0.09653091267971682, null, 0.4443549180466555, 0.9051288387284285, null, -0.48750038234982157, -0.6448178341230552, null, -0.48750038234982157, -0.544415793560332, null, -0.48750038234982157, -0.6803939074135299, null, -0.48750038234982157, -0.18952369904992494, null, -0.48750038234982157, 0.19057264770156382, null, -0.48750038234982157, 0.09333196934510661, null, -0.3520610193917221, -0.6878035186802977, null, -0.3520610193917221, 0.2878527965813375, null, -0.3520610193917221, -0.5857249030172593, null, -0.4775250854268009, 0.29717845234262447, null, -0.4775250854268009, -0.2963801607909824, null, -0.4775250854268009, -0.961959323547827, null, -0.922941338646843, -0.45823987501535796, null, -0.4622214140946576, -0.04522602038800965, null, -0.4622214140946576, -0.5215658363210823, null, -0.3248653158480695, -0.29986296568583554, null, -0.11308727723765298, 0.21311091884547861, null, -0.11308727723765298, -0.7727557975004273, null, -0.11308727723765298, 0.45567697483674857, null, -0.11308727723765298, -0.915583295116056, null, -0.11308727723765298, 0.9684359580111801, null, -0.6945476341572974, -0.013549410038490384, null, 0.08226270779972561, 0.5894958646364051, null, 0.08226270779972561, -0.43026516790800784, null, 0.08226270779972561, 0.5743419812495739, null, 0.08226270779972561, 0.9176601175770341, null, 0.08226270779972561, -0.3451956793972071, null, 0.08226270779972561, -0.5597867948086792, null, 0.08226270779972561, -0.7677496535931653, null, 0.08226270779972561, 0.6611536721531476, null, 0.08226270779972561, -0.4678042541212359, null, 0.08226270779972561, 0.9444221075407737, null, 0.08226270779972561, -0.15602363985544843, null, 0.2314750723586724, 0.6466702893317232, null, 0.04949508766705271, 0.08175222391904952, null, 0.04949508766705271, 0.16402573011131782, null, 0.04949508766705271, -0.9491841676437978, null, 0.04949508766705271, 0.9523740245799182, null, -0.48007438271338504, 0.08175222391904952, null, 0.5747119568397446, 0.08175222391904952, null, 0.587695285459111, 0.7169287463484139, null, -0.822286917431661, -0.46283683810661536, null, -0.822286917431661, -0.7003626461559215, null, -0.8077857763761146, -0.8391807170540105, null, 0.08443956171607506, 0.6643818165947988, null, 0.08443956171607506, 0.7295163381396103, null, 0.08443956171607506, -0.09259600851126513, null, 0.08443956171607506, -0.22598031551432202, null, 0.08443956171607506, 0.06374850993483991, null, -0.09653091267971682, 0.6854894440961111, null, -0.09653091267971682, -0.5015979986456847, null, -0.09653091267971682, -0.11904822818134389, null, 0.42143908980519623, -0.29215538250682355, null, 0.21311091884547861, 0.6400255674389894, null, 0.21311091884547861, -0.019985094422075373, null, 0.21311091884547861, 0.32200932870129756, null, 0.17364933189364162, -0.8873664489331791, null, 0.17364933189364162, 0.9444304230106751, null, 0.17364933189364162, -0.10761717985741852, null, 0.17364933189364162, 0.6040376287736987, null, -0.9688845391283859, -0.013327428184580383, null, -0.43026516790800784, 0.1576353197313545, null, -0.317477768690801, -0.22868014309690202, null, -0.317477768690801, 0.3548521784085646, null, -0.317477768690801, -0.8561982089336466, null, -0.317477768690801, 0.3161564268185928, null, -0.317477768690801, -0.7392270114544341, null, 0.6466702893317232, 0.7277665551806544, null, 0.13789915800400682, -0.19648091632064657, null, 0.13789915800400682, -0.08234876836782748, null, 0.16273892950513363, 0.18784944024591954, null, 0.16273892950513363, -0.5306583843084238, null, 0.16273892950513363, 0.771200999459059, null, 0.16273892950513363, -0.25901191067712437, null, 0.16273892950513363, -0.671281638331986, null, 0.16273892950513363, -0.41307471506718535, null, 0.16273892950513363, -0.6910192433507824, null, 0.16273892950513363, 0.9878610442442779, null, 0.16273892950513363, 0.06723398015624715, null, 0.16273892950513363, 0.24335258796390113, null, 0.16273892950513363, 0.7972983534359767, null, 0.16273892950513363, 0.9762730963168526, null, 0.16273892950513363, 0.5909530923528369, null, 0.11825699254923869, 0.9003723022177351, null, 0.11825699254923869, -0.11128713992942955, null, 0.11825699254923869, 0.8256482169113013, null, 0.11825699254923869, -0.39615436135855125, null, 0.11825699254923869, -0.46902509365316747, null, 0.11825699254923869, 0.8275880862167732, null, 0.11825699254923869, -0.516626604669697, null, -0.2963801607909824, 0.33603426259320124, null, -0.2963801607909824, -0.16297069423013014, null, 0.6728966871078854, -0.11141998404949503, null, 0.6040376287736987, 0.9259556259359631, null, -0.5857249030172593, -0.9572629038748532, null, -0.5857249030172593, -0.9805053712059089, null, -0.5857249030172593, -0.8588428551056168, null, -0.5857249030172593, -0.0786611489749314, null, 0.24476272220046522, 0.7545220780821652, null, 0.24476272220046522, 0.9519809977383059, null, 0.24476272220046522, -0.8336120707019535, null, -0.1493511663485675, -0.9572085525431691, null, -0.1493511663485675, -0.2624181248286888, null, -0.1493511663485675, 0.2885443356255018, null, -0.1493511663485675, -0.4772434331604236, null, 0.2137160576168222, 0.8822774295443232, null, 0.2137160576168222, -0.40568562114657736, null, 0.2137160576168222, 0.8102824735517233, null, 0.2137160576168222, -0.23883651941285125, null, 0.37042375729093857, 0.7676891148504978, null, 0.49623026082551597, 0.1697857946822449, null, -0.7082123150319024, -0.6585090619243101, null, -0.013549410038490384, 0.4067907929953041, null, -0.41307471506718535, -0.2551617240758257, null, 0.1370800509633891, -0.1330001958810059, null, 0.8190489692751276, 0.2841316500224368, null, -0.480151657417159, -0.43287548813351384, null], \"y\": [0.24435527266063375, -0.32924533164792386, null, 0.24435527266063375, 0.5572004073989956, null, -0.4172656591242951, -0.3007955630156296, null, -0.4172656591242951, -0.9067090793542103, null, -0.9067090793542103, -0.19063761521475092, null, 0.2872820137798034, -0.30900919646292146, null, -0.2962195756234142, -0.20226655224169754, null, 0.28319270198341867, 0.07462386294164597, null, 0.28319270198341867, 0.06575439134029093, null, 0.28319270198341867, 0.7893915231274188, null, -0.10307938747169691, 0.0406367604756103, null, -0.10307938747169691, -0.972424527118684, null, -0.10307938747169691, -0.1574872572728259, null, -0.10307938747169691, 0.5442679635495614, null, -0.10307938747169691, 0.9225849533001124, null, -0.10307938747169691, -0.7912434303634467, null, -0.10307938747169691, -0.5961353760582223, null, -0.2133815893024621, -0.8543816205783427, null, -0.2133815893024621, -0.11970922721020713, null, -0.2133815893024621, 0.4447309503941422, null, -0.7927568992432023, 0.0001122363416193103, null, -0.6830591403967325, -0.5866969910825105, null, -0.6830591403967325, 0.018307906006111836, null, -0.6830591403967325, -0.7864579538327914, null, 0.5339550568721431, 0.5480080111083162, null, -0.7427430630265387, -0.28395341740774616, null, 0.19947753182752123, 0.4055016486021758, null, 0.19947753182752123, 0.08087707946842412, null, 0.19947753182752123, -0.3190721680966415, null, 0.19947753182752123, -0.40073196392406923, null, 0.19947753182752123, 0.6626825012181127, null, 0.19947753182752123, 0.02149392339316462, null, 0.19947753182752123, 0.016673410743098558, null, 0.19947753182752123, 0.6003474941420839, null, 0.19947753182752123, 0.03498667284730606, null, 0.19947753182752123, -0.49930909188869743, null, 0.19947753182752123, 0.6100934555152979, null, 0.19947753182752123, 0.6386509275289097, null, 0.19947753182752123, 0.4117952047277852, null, 0.19947753182752123, 0.9857192801641195, null, 0.19947753182752123, 0.7702581483599464, null, 0.19947753182752123, -0.3162845693822217, null, 0.19947753182752123, -0.6318653280039807, null, 0.19947753182752123, 0.28535121204132585, null, 0.19947753182752123, -0.6017641268875379, null, 0.19947753182752123, -0.6127065856016447, null, 0.19947753182752123, -0.7715348882054062, null, 0.19947753182752123, 0.8805396750478472, null, 0.19947753182752123, 0.9195800846587459, null, 0.19947753182752123, 0.9736652255593792, null, 0.19947753182752123, 0.40509019560953535, null, 0.19947753182752123, 0.1726339516441543, null, 0.19947753182752123, 0.011739214751084227, null, 0.19947753182752123, 0.920421909033727, null, 0.19947753182752123, -0.2374490128028811, null, 0.19947753182752123, 0.4904288196852889, null, 0.19947753182752123, 0.6859176989415685, null, 0.19947753182752123, -0.4283534870623445, null, 0.19947753182752123, 0.8237198514376047, null, -0.3184581067743185, 0.3685813790170041, null, -0.3184581067743185, -0.357539003966888, null, -0.11970922721020713, 0.643128201054393, null, -0.6679001555829942, -0.5736912818066446, null, -0.8766107180420949, -0.3112637415108241, null, 0.4055016486021758, -0.12273927500781481, null, 0.08087707946842412, 0.20689004697180335, null, 0.6626825012181127, 0.9682278026734115, null, 0.02149392339316462, -0.0658640029847446, null, 0.03498667284730606, 0.5197999239517549, null, 0.03498667284730606, 0.84578743034362, null, 0.03498667284730606, -0.5409402337474735, null, 0.03498667284730606, -0.5440145258246534, null, 0.03498667284730606, -0.46714989057920087, null, 0.03498667284730606, -0.011813770248448763, null, 0.03498667284730606, 0.36179134263444024, null, 0.03498667284730606, 0.5369249551765771, null, 0.643128201054393, 0.1575542458309391, null, 0.9045130756227068, 0.8730716604469723, null, 0.6386509275289097, 0.6380699461364933, null, 0.6386509275289097, 0.3609691173827865, null, 0.4117952047277852, -0.15836068391661276, null, 0.4117952047277852, 0.6277262730866942, null, -0.9573065668369984, -0.8900613671269099, null, 0.9857192801641195, 0.946637608433355, null, 0.5197999239517549, 0.2987245425551384, null, -0.1188919141034669, 0.4804665064293758, null, -0.12048846638732161, -0.485577949634681, null, -0.08101985895758312, 0.17121238343341932, null, -0.08101985895758312, 0.4123890357928657, null, -0.08101985895758312, -0.01515027146266562, null, -0.08101985895758312, -0.21087780919178417, null, -0.23171368520805474, 0.6757841936318904, null, -0.23171368520805474, -0.9899236153608368, null, -0.23171368520805474, -0.9277602811380044, null, -0.23171368520805474, -0.9209875732191994, null, -0.23171368520805474, 0.4426007591067603, null, 0.31001936397327007, 0.7410417180869115, null, 0.31001936397327007, 0.3316530880347598, null, 0.31001936397327007, 0.3258323237822748, null, 0.31001936397327007, -0.16413021724736718, null, 0.31001936397327007, 0.7219354919221036, null, -0.8616012141665919, -0.13626063330000354, null, -0.8616012141665919, -0.45164287124195, null, -0.8691603196121842, -0.7781748090708779, null, -0.8691603196121842, -0.7304447777693299, null, -0.8691603196121842, -0.5613917996491198, null, -0.8691603196121842, -0.9688626475837155, null, -0.8691603196121842, -0.2632564559371419, null, -0.8691603196121842, -0.9604728922152018, null, -0.4320400249750353, -0.7245211783788635, null, -0.4320400249750353, -0.5399827819471725, null, -0.4320400249750353, 0.22337840521925678, null, 0.5260507677311772, 0.7646076912878091, null, 0.5260507677311772, -0.2665757469732505, null, 0.5260507677311772, -0.21992701017783742, null, 0.30667199290505065, 0.6887014276397951, null, -0.3162845693822217, -0.9521198491965291, null, -0.3162845693822217, -0.6318471786878413, null, -0.8011343051208052, 0.1979319032397586, null, -0.01515027146266562, -0.8279761417438837, null, -0.01515027146266562, -0.6721790738675583, null, -0.01515027146266562, 0.8462251987576298, null, -0.01515027146266562, 0.3592051562271864, null, -0.01515027146266562, 0.2074962708119152, null, -0.2758478824562316, 0.24543399467842647, null, 0.027654007552460284, -0.6193380926035572, null, 0.027654007552460284, -0.3884800252518596, null, 0.027654007552460284, -0.8280564665455727, null, 0.027654007552460284, 0.40837793323874955, null, 0.027654007552460284, 0.8635076112926953, null, 0.027654007552460284, -0.3089195432579803, null, 0.027654007552460284, 0.6444686159315369, null, 0.027654007552460284, 0.14279409690743655, null, 0.027654007552460284, -0.8706386743966266, null, 0.027654007552460284, 0.06619592789371385, null, 0.027654007552460284, 0.9492637201367766, null, 0.9141069980246705, 0.741973104242371, null, -0.009922720970515475, -0.9910687524559387, null, -0.009922720970515475, 0.9334732328746911, null, -0.009922720970515475, 0.24879901232739426, null, -0.009922720970515475, -0.18741888998958892, null, -0.7435507348000122, -0.9910687524559387, null, -0.7754346430649579, -0.9910687524559387, null, -0.485577949634681, -0.47033611663650576, null, -0.5840876104492014, 0.04451478954153439, null, -0.5840876104492014, -0.18718774888140804, null, 0.5487026054161553, -0.17846902549067772, null, 0.328961575488016, 0.5865424639868426, null, 0.328961575488016, 0.5365895580105019, null, 0.328961575488016, 0.9137820148143028, null, 0.328961575488016, 0.9721634691380174, null, 0.328961575488016, -0.7573188130027237, null, -0.13626063330000354, 0.21289581500581325, null, -0.13626063330000354, -0.12504920317287044, null, -0.13626063330000354, 0.38470986006891067, null, 0.6277262730866942, -0.06345289137187332, null, -0.8279761417438837, -0.390709838136958, null, -0.8279761417438837, -0.8932711708908097, null, -0.8279761417438837, -0.9071975406879494, null, 0.3032508416123242, 0.40402855168863766, null, 0.3032508416123242, 0.026185134842311192, null, 0.3032508416123242, 0.9468081336870047, null, 0.3032508416123242, -0.38407292435120277, null, 0.09879986019856406, -0.17361105024388002, null, -0.3884800252518596, -0.9716601562484631, null, 0.18488050319243068, 0.9479688750020072, null, 0.18488050319243068, 0.9189942064712121, null, 0.18488050319243068, -0.5157844108691299, null, 0.18488050319243068, 0.8813195090892265, null, 0.18488050319243068, 0.47418430578688553, null, 0.741973104242371, 0.653540866237783, null, 0.4804665064293758, 0.11849142241934613, null, 0.4804665064293758, 0.9646439564419842, null, 0.017697675917476112, 0.966969122295981, null, 0.017697675917476112, -0.40976021775213045, null, 0.017697675917476112, 0.6273038054372747, null, 0.017697675917476112, -0.9630976720204313, null, 0.017697675917476112, -0.4844302221418642, null, 0.017697675917476112, 0.48935340931163246, null, 0.017697675917476112, 0.3012919645322017, null, 0.017697675917476112, 0.11628995596928697, null, 0.017697675917476112, 0.7146646511025148, null, 0.017697675917476112, -0.7997977815022015, null, 0.017697675917476112, -0.5583390860439827, null, 0.017697675917476112, -0.033822738251114357, null, 0.017697675917476112, 0.6866561261682763, null, -0.16413021724736718, -0.47707799737704454, null, -0.16413021724736718, -0.9580504583636439, null, -0.16413021724736718, -0.5621446964968111, null, -0.16413021724736718, 0.59562251648249, null, -0.16413021724736718, 0.8946291489960722, null, -0.16413021724736718, -0.4031071656755341, null, -0.16413021724736718, -0.838389285179736, null, -0.2665757469732505, -0.9019612531798155, null, -0.2665757469732505, -0.9746697185800575, null, -0.6469950197197589, -0.4342757104109682, null, -0.38407292435120277, 0.30856250381297884, null, 0.22337840521925678, 0.210845776843794, null, 0.22337840521925678, 0.015889928462697468, null, 0.22337840521925678, 0.18148291847013126, null, 0.22337840521925678, 0.8277505503353656, null, 0.18148990449667612, -0.1749878981631315, null, 0.18148990449667612, -0.12088490861269618, null, 0.18148990449667612, 0.541112185907842, null, 0.10222433599703999, -0.1852235366897679, null, 0.10222433599703999, 0.9418992839028666, null, 0.10222433599703999, -0.9240556068021314, null, 0.10222433599703999, 0.7991323817500919, null, 0.2178127549330712, 0.5072674826914052, null, 0.2178127549330712, 0.9225707400339607, null, 0.2178127549330712, 0.4960640152073384, null, 0.2178127549330712, -0.7353760532615722, null, 0.02165141128831547, 0.5510644353715133, null, 0.8066236667087721, 0.6229756701901539, null, 0.17606033591501452, -0.6963295854455099, null, 0.24543399467842647, 0.866167258037113, null, 0.48935340931163246, 0.8923158484141606, null, 0.28535121204132585, 0.8952472682391442, null, -0.5321504965444123, -0.7133193355854041, null, 0.002461398371298625, -0.9057537618280979, null]}, {\"hoverinfo\": \"text\", \"marker\": {\"color\": [2, 1, 1, 0, 0, 2, 1, 0, 2, 0, 1, 0, 1, 0, 0, 1, 3, 0, 7, 0, 0, 0, 0, 0, 3, 0, 0, 0, 0, 1, 0, 0, 0, 0, 1, 3, 1, 1, 0, 0, 0, 1, 0, 0, 0, 0, 0, 0, 1, 1, 0, 33, 0, 0, 1, 0, 0, 2, 2, 1, 1, 0, 0, 0, 1, 1, 1, 1, 1, 1, 1, 1, 1, 0, 1, 1, 2, 2, 1, 1, 2, 0, 0, 1, 2, 1, 1, 9, 0, 0, 0, 2, 0, 1, 1, 1, 0, 0, 1, 0, 1, 0, 3, 3, 1, 1, 0, 0, 2, 1, 2, 1, 1, 0, 0, 0, 0, 0, 0, 0, 0, 1, 0, 1, 4, 0, 5, 5, 1, 1, 1, 0, 0, 2, 0, 0, 0, 0, 0, 1, 6, 0, 0, 0, 0, 0, 0, 0, 3, 3, 0, 1, 1, 1, 0, 0, 0, 0, 3, 0, 1, 1, 0, 1, 6, 1, 11, 0, 1, 0, 4, 1, 1, 2, 2, 1, 5, 1, 4, 0, 0, 1, 2, 1, 1, 4, 1, 1, 0, 0, 1, 1, 1, 4, 0, 1, 0, 1, 2, 1, 1, 1, 1, 1, 5, 2, 1, 1, 1, 1, 3, 1, 1, 1, 1, 1, 0, 0, 0, 1, 13, 1, 1, 8, 3, 1, 0, 1, 0, 0, 0, 0, 1, 1, 1, 2, 1, 1, 1, 1, 1, 1, 1, 1, 5, 0, 0, 1, 1, 3, 1, 4, 0, 1, 1, 1, 1, 0, 1, 1, 0, 1, 4, 0, 0, 0, 1, 0, 0, 0, 0, 0, 1, 1, 1, 1, 1, 1, 1, 1, 0, 1, 1, 1, 1, 1, 1, 1, 1, 0, 0, 0, 0, 0, 0, 0, 0, 1, 1, 1, 1, 1, 0, 2, 1, 2, 1, 1, 1, 1, 0, 1, 1, 0, 0, 1, 1, 1, 2, 1, 1, 1, 1, 1, 1, 1, 1, 0, 1, 1, 1, 1, 1, 1, 1, 1, 1, 1, 1, 1, 1, 1, 1, 1, 1, 1, 1, 1, 0, 1, 1, 1, 1, 0, 1, 1, 1, 1, 1, 1, 1, 1, 1, 1, 1, 1, 1, 1, 0, 1, 1, 1, 1, 1, 1, 1, 1, 1, 1, 1, 0, 1, 1, 1, 0, 0, 1, 1, 1, 0, 1, 1, 1, 1, 1, 1, 1, 1, 3, 1], \"colorbar\": {\"thickness\": 10, \"title\": {\"side\": \"right\", \"text\": \"Node Connections\"}, \"xanchor\": \"left\"}, \"colorscale\": [[0.0, \"rgb(103,0,31)\"], [0.1, \"rgb(178,24,43)\"], [0.2, \"rgb(214,96,77)\"], [0.3, \"rgb(244,165,130)\"], [0.4, \"rgb(253,219,199)\"], [0.5, \"rgb(247,247,247)\"], [0.6, \"rgb(209,229,240)\"], [0.7, \"rgb(146,197,222)\"], [0.8, \"rgb(67,147,195)\"], [0.9, \"rgb(33,102,172)\"], [1.0, \"rgb(5,48,97)\"]], \"line\": {\"width\": 0}, \"reversescale\": true, \"showscale\": true, \"size\": 15}, \"mode\": \"markers\", \"text\": [\"1 # of connections: 2\", \"2 # of connections: 1\", \"3 # of connections: 1\", \"4 # of connections: 0\", \"5 # of connections: 0\", \"6 # of connections: 2\", \"7 # of connections: 1\", \"8 # of connections: 0\", \"9 # of connections: 2\", \"10 # of connections: 0\", \"11 # of connections: 1\", \"12 # of connections: 0\", \"13 # of connections: 1\", \"14 # of connections: 0\", \"15 # of connections: 0\", \"16 # of connections: 1\", \"17 # of connections: 3\", \"18 # of connections: 0\", \"19 # of connections: 7\", \"20 # of connections: 0\", \"21 # of connections: 0\", \"22 # of connections: 0\", \"23 # of connections: 0\", \"24 # of connections: 0\", \"25 # of connections: 3\", \"26 # of connections: 0\", \"27 # of connections: 0\", \"28 # of connections: 0\", \"29 # of connections: 0\", \"30 # of connections: 1\", \"31 # of connections: 0\", \"32 # of connections: 0\", \"33 # of connections: 0\", \"34 # of connections: 0\", \"35 # of connections: 1\", \"36 # of connections: 3\", \"37 # of connections: 1\", \"38 # of connections: 1\", \"39 # of connections: 0\", \"40 # of connections: 0\", \"41 # of connections: 0\", \"42 # of connections: 1\", \"43 # of connections: 0\", \"44 # of connections: 0\", \"45 # of connections: 0\", \"46 # of connections: 0\", \"47 # of connections: 0\", \"48 # of connections: 0\", \"49 # of connections: 1\", \"50 # of connections: 1\", \"51 # of connections: 0\", \"52 # of connections: 33\", \"53 # of connections: 0\", \"54 # of connections: 0\", \"55 # of connections: 1\", \"56 # of connections: 0\", \"57 # of connections: 0\", \"58 # of connections: 2\", \"59 # of connections: 2\", \"60 # of connections: 1\", \"61 # of connections: 1\", \"62 # of connections: 0\", \"63 # of connections: 0\", \"64 # of connections: 0\", \"65 # of connections: 1\", \"66 # of connections: 1\", \"67 # of connections: 1\", \"68 # of connections: 1\", \"69 # of connections: 1\", \"70 # of connections: 1\", \"71 # of connections: 1\", \"72 # of connections: 1\", \"73 # of connections: 1\", \"74 # of connections: 0\", \"75 # of connections: 1\", \"76 # of connections: 1\", \"77 # of connections: 2\", \"78 # of connections: 2\", \"79 # of connections: 1\", \"80 # of connections: 1\", \"81 # of connections: 2\", \"82 # of connections: 0\", \"83 # of connections: 0\", \"84 # of connections: 1\", \"85 # of connections: 2\", \"86 # of connections: 1\", \"87 # of connections: 1\", \"88 # of connections: 9\", \"89 # of connections: 0\", \"90 # of connections: 0\", \"91 # of connections: 0\", \"92 # of connections: 2\", \"93 # of connections: 0\", \"94 # of connections: 1\", \"95 # of connections: 1\", \"96 # of connections: 1\", \"97 # of connections: 0\", \"98 # of connections: 0\", \"99 # of connections: 1\", \"100 # of connections: 0\", \"101 # of connections: 1\", \"102 # of connections: 0\", \"103 # of connections: 3\", \"104 # of connections: 3\", \"105 # of connections: 1\", \"106 # of connections: 1\", \"107 # of connections: 0\", \"108 # of connections: 0\", \"109 # of connections: 2\", \"110 # of connections: 1\", \"111 # of connections: 2\", \"112 # of connections: 1\", \"113 # of connections: 1\", \"114 # of connections: 0\", \"115 # of connections: 0\", \"116 # of connections: 0\", \"117 # of connections: 0\", \"118 # of connections: 0\", \"119 # of connections: 0\", \"120 # of connections: 0\", \"121 # of connections: 0\", \"122 # of connections: 1\", \"123 # of connections: 0\", \"124 # of connections: 1\", \"125 # of connections: 4\", \"126 # of connections: 0\", \"127 # of connections: 5\", \"128 # of connections: 5\", \"129 # of connections: 1\", \"130 # of connections: 1\", \"131 # of connections: 1\", \"132 # of connections: 0\", \"133 # of connections: 0\", \"134 # of connections: 2\", \"135 # of connections: 0\", \"136 # of connections: 0\", \"137 # of connections: 0\", \"138 # of connections: 0\", \"139 # of connections: 0\", \"140 # of connections: 1\", \"141 # of connections: 6\", \"142 # of connections: 0\", \"143 # of connections: 0\", \"144 # of connections: 0\", \"145 # of connections: 0\", \"146 # of connections: 0\", \"147 # of connections: 0\", \"148 # of connections: 0\", \"149 # of connections: 3\", \"150 # of connections: 3\", \"151 # of connections: 0\", \"152 # of connections: 1\", \"153 # of connections: 1\", \"154 # of connections: 1\", \"155 # of connections: 0\", \"156 # of connections: 0\", \"157 # of connections: 0\", \"158 # of connections: 0\", \"159 # of connections: 3\", \"160 # of connections: 0\", \"161 # of connections: 1\", \"162 # of connections: 1\", \"163 # of connections: 0\", \"164 # of connections: 1\", \"165 # of connections: 6\", \"166 # of connections: 1\", \"167 # of connections: 11\", \"168 # of connections: 0\", \"169 # of connections: 1\", \"170 # of connections: 0\", \"171 # of connections: 4\", \"172 # of connections: 1\", \"173 # of connections: 1\", \"174 # of connections: 2\", \"175 # of connections: 2\", \"176 # of connections: 1\", \"177 # of connections: 5\", \"178 # of connections: 1\", \"179 # of connections: 4\", \"180 # of connections: 0\", \"181 # of connections: 0\", \"182 # of connections: 1\", \"183 # of connections: 2\", \"184 # of connections: 1\", \"185 # of connections: 1\", \"186 # of connections: 4\", \"187 # of connections: 1\", \"188 # of connections: 1\", \"189 # of connections: 0\", \"190 # of connections: 0\", \"191 # of connections: 1\", \"192 # of connections: 1\", \"193 # of connections: 1\", \"194 # of connections: 4\", \"195 # of connections: 0\", \"196 # of connections: 1\", \"197 # of connections: 0\", \"198 # of connections: 1\", \"199 # of connections: 2\", \"200 # of connections: 1\", \"201 # of connections: 1\", \"202 # of connections: 1\", \"203 # of connections: 1\", \"204 # of connections: 1\", \"205 # of connections: 5\", \"206 # of connections: 2\", \"207 # of connections: 1\", \"208 # of connections: 1\", \"209 # of connections: 1\", \"210 # of connections: 1\", \"211 # of connections: 3\", \"212 # of connections: 1\", \"213 # of connections: 1\", \"214 # of connections: 1\", \"215 # of connections: 1\", \"216 # of connections: 1\", \"217 # of connections: 0\", \"218 # of connections: 0\", \"219 # of connections: 0\", \"220 # of connections: 1\", \"221 # of connections: 13\", \"222 # of connections: 1\", \"223 # of connections: 1\", \"224 # of connections: 8\", \"225 # of connections: 3\", \"226 # of connections: 1\", \"227 # of connections: 0\", \"228 # of connections: 1\", \"229 # of connections: 0\", \"230 # of connections: 0\", \"231 # of connections: 0\", \"232 # of connections: 0\", \"233 # of connections: 1\", \"234 # of connections: 1\", \"235 # of connections: 1\", \"236 # of connections: 2\", \"237 # of connections: 1\", \"238 # of connections: 1\", \"239 # of connections: 1\", \"240 # of connections: 1\", \"241 # of connections: 1\", \"242 # of connections: 1\", \"243 # of connections: 1\", \"244 # of connections: 1\", \"245 # of connections: 5\", \"246 # of connections: 0\", \"247 # of connections: 0\", \"248 # of connections: 1\", \"249 # of connections: 1\", \"250 # of connections: 3\", \"251 # of connections: 1\", \"252 # of connections: 4\", \"253 # of connections: 0\", \"254 # of connections: 1\", \"255 # of connections: 1\", \"256 # of connections: 1\", \"257 # of connections: 1\", \"258 # of connections: 0\", \"259 # of connections: 1\", \"260 # of connections: 1\", \"261 # of connections: 0\", \"262 # of connections: 1\", \"263 # of connections: 4\", \"264 # of connections: 0\", \"265 # of connections: 0\", \"266 # of connections: 0\", \"267 # of connections: 1\", \"268 # of connections: 0\", \"269 # of connections: 0\", \"270 # of connections: 0\", \"271 # of connections: 0\", \"272 # of connections: 0\", \"273 # of connections: 1\", \"274 # of connections: 1\", \"275 # of connections: 1\", \"276 # of connections: 1\", \"277 # of connections: 1\", \"278 # of connections: 1\", \"279 # of connections: 1\", \"280 # of connections: 1\", \"281 # of connections: 0\", \"282 # of connections: 1\", \"283 # of connections: 1\", \"284 # of connections: 1\", \"285 # of connections: 1\", \"286 # of connections: 1\", \"287 # of connections: 1\", \"288 # of connections: 1\", \"289 # of connections: 1\", \"290 # of connections: 0\", \"291 # of connections: 0\", \"292 # of connections: 0\", \"293 # of connections: 0\", \"294 # of connections: 0\", \"295 # of connections: 0\", \"296 # of connections: 0\", \"297 # of connections: 0\", \"298 # of connections: 1\", \"299 # of connections: 1\", \"300 # of connections: 1\", \"301 # of connections: 1\", \"302 # of connections: 1\", \"303 # of connections: 0\", \"304 # of connections: 2\", \"305 # of connections: 1\", \"306 # of connections: 2\", \"307 # of connections: 1\", \"308 # of connections: 1\", \"309 # of connections: 1\", \"310 # of connections: 1\", \"311 # of connections: 0\", \"312 # of connections: 1\", \"313 # of connections: 1\", \"314 # of connections: 0\", \"315 # of connections: 0\", \"316 # of connections: 1\", \"317 # of connections: 1\", \"318 # of connections: 1\", \"319 # of connections: 2\", \"320 # of connections: 1\", \"321 # of connections: 1\", \"322 # of connections: 1\", \"323 # of connections: 1\", \"324 # of connections: 1\", \"325 # of connections: 1\", \"326 # of connections: 1\", \"327 # of connections: 1\", \"328 # of connections: 0\", \"329 # of connections: 1\", \"330 # of connections: 1\", \"331 # of connections: 1\", \"332 # of connections: 1\", \"333 # of connections: 1\", \"334 # of connections: 1\", \"335 # of connections: 1\", \"336 # of connections: 1\", \"337 # of connections: 1\", \"338 # of connections: 1\", \"339 # of connections: 1\", \"340 # of connections: 1\", \"341 # of connections: 1\", \"342 # of connections: 1\", \"343 # of connections: 1\", \"344 # of connections: 1\", \"345 # of connections: 1\", \"346 # of connections: 1\", \"347 # of connections: 1\", \"348 # of connections: 1\", \"349 # of connections: 0\", \"350 # of connections: 1\", \"351 # of connections: 1\", \"352 # of connections: 1\", \"353 # of connections: 1\", \"354 # of connections: 0\", \"355 # of connections: 1\", \"356 # of connections: 1\", \"357 # of connections: 1\", \"358 # of connections: 1\", \"359 # of connections: 1\", \"360 # of connections: 1\", \"361 # of connections: 1\", \"362 # of connections: 1\", \"363 # of connections: 1\", \"364 # of connections: 1\", \"365 # of connections: 1\", \"366 # of connections: 1\", \"367 # of connections: 1\", \"368 # of connections: 1\", \"369 # of connections: 0\", \"370 # of connections: 1\", \"371 # of connections: 1\", \"372 # of connections: 1\", \"373 # of connections: 1\", \"374 # of connections: 1\", \"375 # of connections: 1\", \"376 # of connections: 1\", \"377 # of connections: 1\", \"378 # of connections: 1\", \"379 # of connections: 1\", \"380 # of connections: 1\", \"381 # of connections: 0\", \"382 # of connections: 1\", \"383 # of connections: 1\", \"384 # of connections: 1\", \"385 # of connections: 0\", \"386 # of connections: 0\", \"387 # of connections: 1\", \"388 # of connections: 1\", \"389 # of connections: 1\", \"390 # of connections: 0\", \"391 # of connections: 1\", \"392 # of connections: 1\", \"393 # of connections: 1\", \"394 # of connections: 1\", \"395 # of connections: 1\", \"19, # of connections: 1\", \"25's # of connections: 1\", \"43, # of connections: 1\", \"134,P # of connections: 3\", \"89,P # of connections: 1\"], \"type\": \"scatter\", \"x\": [0.620490341664256, 0.006142741825110358, 0.35131093069413544, 0.9864157024134783, -0.30548427660314886, 0.36637236774074783, 0.8918086768083807, -0.540201351578666, -0.4706431688237232, -0.8142177211572926, 0.9385216481362675, 0.7188415142796913, 0.9758590324891019, -0.4364160302875688, 0.88840586397486, 0.9567189622051367, -0.6195127003671023, 0.5487123032412526, 0.0295918608164515, 0.2628105539333354, 0.9851446720186838, -0.7540442288491624, -0.04744973797080668, -0.5908126443999777, 0.6411267099032214, 0.943997216655143, 0.9091213612474348, 0.8595252329782409, 0.3850946330350873, -0.9734085805638265, -0.9615502528769259, 0.9583835880640976, 0.9234094484894843, 0.6574215142610172, 0.5328984197832295, 0.7633361458046325, -0.8167984752178357, 0.8961530549937607, -0.8974303899052664, 0.2367257107524086, -0.665857992277273, -0.0939848866791065, 0.4745719044639974, 0.12254902986946802, 0.026390567555746907, -0.8759281827419986, -0.8486116236067225, -0.24069329173531945, -0.8785555064431468, -0.23291962663090976, 0.8704775325332776, -0.1405068321447556, -0.9726713932303348, -0.3467007379543942, 0.5099337013010706, 0.9710277646186313, 0.9082883034244488, 0.3108635594866017, 0.0006949876812045083, -0.37961397224957893, 0.844436454786481, 0.6390196497878476, -0.5848446314411766, 0.9971551366330191, 0.07371348799576748, 0.9238246285042714, 0.664000005394086, -0.45512880674543776, -0.9086514702551178, 0.1385656293420449, -0.9603926175193129, 0.88677918809426, 0.33669041748285533, -0.790295796011414, -0.6360208877980991, 0.7875129511002799, -0.6282914347674897, 0.22546047691977522, -0.9138283835930787, -0.025985667657112656, -0.3385213599805643, -0.28076702699935874, 0.8832490236278132, 0.3405693524298092, -0.45272160023071556, 0.9999999999999999, 0.6845656571018899, -0.09747255346523231, -0.4025737232090465, -0.35213396104088346, 0.08317099884583835, -0.26494603492830104, 0.7797252883922204, -0.49337243010385373, -0.2809522777360302, -0.8146539564653946, 0.500509521984784, 0.611786275187959, -0.936067057377622, -0.6370793619355114, 0.31559979496839546, -0.8928036315506566, -0.02772150935265581, 0.3140695779754071, 0.6336154672597297, -0.08179736398559917, 0.9516493580554037, -0.7704460412531321, 0.06299238018072234, -0.4061866489514287, -0.23212584093879599, -0.5680995577237896, -0.05877488657489258, -0.8196715891652631, -0.8489180556680362, -0.8717582481313324, -0.4785373707536142, 0.9733909719419324, 0.33524715391505866, -0.6392001324979839, 0.9546141160283631, 0.3403691136198961, -0.6364086202688919, 0.9855923728613386, -0.9003554339569969, -0.8914385973100437, -0.16402934008357534, 0.10000059966385427, 0.15792813654771404, 0.8278487690946821, 0.5485554080865122, 0.8996761423330908, -0.6876928262326466, 0.4443549180466555, -0.5125718713538863, 0.7823641123901885, 0.18919621617133525, -0.024366897705347754, 0.46517365348431794, 0.2902791817639872, -0.48750038234982157, 0.2723656451292577, 0.004319311841122959, -0.9249633818309793, -0.8625462845977472, 0.9523282271977851, 0.11684737852564969, 0.5990675900968763, -0.3520610193917221, -0.4775250854268009, -0.3157881125985984, -0.922941338646843, 0.2645120393583629, 0.5385396283598712, 0.832327849524042, 0.028597206179082867, 0.6849002432698026, 0.006334362677823553, -0.4622214140946576, 0.24589961684088607, -0.8906791017599425, -0.8787916572742371, -0.8042518482618813, -0.3248653158480695, -0.11308727723765298, -0.6945476341572974, 0.08226270779972561, -0.45364716501836294, 0.2314750723586724, -0.13672265233202485, 0.04949508766705271, -0.48007438271338504, 0.5747119568397446, 0.587695285459111, -0.822286917431661, -0.8077857763761146, 0.08443956171607506, -0.46283683810661536, -0.09653091267971682, -0.7251224177441988, 0.26117459215253197, 0.6942014291268425, 0.42143908980519623, -0.04522602038800965, 0.8998242310362328, 0.21311091884547861, -0.7727557975004273, 0.45567697483674857, 0.8067627126872914, 0.5936590739054395, 0.8612886198624659, 0.5740799306080147, 0.8903358890937149, 0.17364933189364162, -0.8876856333257077, -0.9688845391283859, 0.8659960903725914, 0.5894958646364051, -0.43026516790800784, -0.5215658363210823, -0.5927373994684603, -0.08762245507929951, -0.9552922624501908, -0.29215538250682355, -0.317477768690801, 0.6466702893317232, 0.7277665551806544, -0.013327428184580383, 0.6576181829121541, -0.8260647806881052, 0.13789915800400682, 0.8206152198448664, -0.7838195010013597, 0.4434800353792901, -0.8916510725199506, -0.5862830530789347, 0.9707332730346885, 0.38923097853782096, 0.8557808962580813, 0.6643818165947988, 0.16273892950513363, 0.7295163381396103, 0.29717845234262447, 0.11825699254923869, -0.2963801607909824, -0.961959323547827, -0.7726092975352448, 0.6728966871078854, -0.36053247727234017, -0.7014118139165425, 0.8028065793731032, -0.8810377066515703, -0.8873664489331791, 0.9444304230106751, -0.10761717985741852, 0.6040376287736987, 0.6854894440961111, -0.5015979986456847, -0.11904822818134389, -0.29986296568583554, -0.19648091632064657, -0.08234876836782748, -0.6878035186802977, 0.2878527965813375, -0.5857249030172593, -0.21077189916408753, 0.11470327187516259, -0.915583295116056, 0.9684359580111801, 0.24476272220046522, -0.9578846047897092, -0.1493511663485675, -0.5153574275356028, -0.09259600851126513, -0.22868014309690202, -0.22598031551432202, 0.18784944024591954, -0.23232176393002785, 0.1576353197313545, -0.8391807170540105, 0.6124958563916211, 0.6400255674389894, 0.2137160576168222, 0.4159083862578802, 0.5569192254232217, 0.9604448208708871, 0.37042375729093857, 0.8309148504905901, 0.7011180145142614, 0.621766398965355, -0.8995812901730154, 0.823837527978965, 0.49623026082551597, -0.7082123150319024, -0.5306583843084238, 0.771200999459059, -0.9572085525431691, -0.25901191067712437, 0.9003723022177351, -0.2624181248286888, -0.8838701687526244, 0.33603426259320124, -0.11128713992942955, -0.16297069423013014, 0.8256482169113013, -0.39615436135855125, -0.46902509365316747, 0.8275880862167732, -0.516626604669697, 0.5399888619931187, -0.6987878439915887, -0.6391988031617697, 0.5386223748570418, -0.8327526587058139, -0.2972056502002921, -0.41139035620253916, 0.4705632295572301, -0.9572629038748532, -0.9805053712059089, -0.8588428551056168, -0.0786611489749314, -0.6585090619243101, 0.5531593810231563, -0.013549410038490384, -0.671281638331986, -0.41307471506718535, -0.6910192433507824, 0.9878610442442779, 0.06723398015624715, -0.11141998404949503, -0.6000190877086184, -0.3624478251518975, 0.24335258796390113, -0.06267334176453337, 0.7493441644661873, 0.5743419812495739, 0.9176601175770341, 0.10736998803226327, 0.1370800509633891, -0.16811103745309267, 0.1697857946822449, 0.16402573011131782, -0.9491841676437978, 0.9523740245799182, 0.8190489692751276, 0.2885443356255018, -0.4772434331604236, -0.3443344348477849, 0.7972983534359767, 0.9762730963168526, -0.480151657417159, -0.6448178341230552, -0.544415793560332, -0.6803939074135299, -0.18952369904992494, 0.19057264770156382, 0.09333196934510661, 0.7545220780821652, 0.9519809977383059, -0.8336120707019535, -0.70014084427628, -0.5979120754330788, 0.24620723388844154, 0.10505461466491677, 0.023762631007417052, 0.8360063499386027, -0.9691299280553498, -0.9156477669614644, 0.52851268633754, -0.3451956793972071, -0.5597867948086792, -0.7677496535931653, 0.6611536721531476, -0.5961061367879246, -0.7467541100402848, -0.05629908618545198, 0.41058442827269104, 0.08327693395963988, -0.8151745377249672, 0.3548521784085646, 0.7169287463484139, 0.5909530923528369, 0.9259556259359631, -0.6403127129756755, -0.38584065104739207, -0.9067123265663485, -0.019985094422075373, 0.32200932870129756, -0.6406009017204158, 0.4067907929953041, 0.9051288387284285, 0.8822774295443232, -0.40568562114657736, -0.2551617240758257, 0.7676891148504978, -0.4678042541212359, 0.9444221075407737, -0.15602363985544843, 0.8102824735517233, -0.23883651941285125, 0.6526321163773879, -0.8371443308073987, 0.6702072891472556, 0.1221848577705861, -0.932831059668292, -0.21807449904486984, 0.41836907236306164, -0.1330001958810059, 0.2841316500224368, -0.21810104237106487, -0.7003626461559215, -0.8561982089336466, 0.3161564268185928, 0.06374850993483991, -0.7392270114544341, -0.8537501816427849, -0.9072024897914076, -0.45823987501535796, 0.08175222391904952, -0.43287548813351384], \"y\": [0.24435527266063375, -0.32924533164792386, 0.5572004073989956, 0.03106651706356439, 0.8793239498354894, -0.4172656591242951, -0.3007955630156296, 0.7951336671468846, -0.9067090793542103, 0.4264347520731153, 0.2872820137798034, -0.7655481872035657, -0.2962195756234142, 0.8346889401888955, -0.524961796513859, -0.30900919646292146, 0.28319270198341867, 0.788200802313935, -0.10307938747169691, 0.8403352167960396, -0.19426508872720183, -0.630529351590049, 0.8933173491392739, -0.8272736519120509, -0.2133815893024621, -0.23448766842547142, -0.029320632813582923, 0.17754954434687412, -0.9084115308671095, 0.07462386294164597, 0.03488438715691671, -0.26015554572241845, -0.33633150771886267, -0.6477614324231231, -0.7927568992432023, -0.6830591403967325, 0.5339550568721431, -0.20226655224169754, -0.44320827334900414, 0.9680587534701532, -0.6879038345201062, -0.7427430630265387, 0.7433429599320227, 0.9789061531842422, -0.9947256080475823, -0.48035240496758547, -0.4077755902923534, 0.8042304243234999, 0.06575439134029093, 0.7893915231274188, -0.13337021636340193, 0.19947753182752123, -0.03314073147065445, 0.9186338474859809, -0.8543816205783427, 0.2790579590855156, -0.38512225087496826, -0.3184581067743185, -0.11970922721020713, -0.6679001555829942, 0.4447309503941422, 0.6808513605516057, 0.7772718581240902, -0.14425100328089463, -0.5866969910825105, 0.018307906006111836, -0.7864579538327914, -0.8766107180420949, 0.0406367604756103, -0.972424527118684, -0.1574872572728259, 0.5442679635495614, 0.9225849533001124, 0.3773334717327822, -0.28395341740774616, 0.0001122363416193103, 0.4055016486021758, 0.08087707946842412, -0.3190721680966415, -0.40073196392406923, 0.6626825012181127, -0.9139182740302645, 0.3617091159296438, -0.5736912818066446, 0.02149392339316462, 0.016673410743098558, 0.6003474941420839, 0.03498667284730606, 0.8567047957194985, -0.8763738303669447, 0.9339561836451745, 0.643128201054393, -0.6027330556305577, -0.7912434303634467, -0.49930909188869743, 0.6100934555152979, 0.8792637948294648, 0.8334553508175874, -0.19063761521475092, 0.7915245999026221, 0.9045130756227068, -0.400404937999564, 0.6386509275289097, 0.4117952047277852, 0.6380699461364933, -0.9573065668369984, -0.09326622199231907, 0.6856721395053821, 0.9857192801641195, 0.7702581483599464, 0.5197999239517549, 0.84578743034362, 0.9682278026734115, -0.1808241699953935, -0.500959590300936, -0.32242352444905525, -0.840370792400487, 0.16647938390387793, 0.8226153136328695, 0.6138218467709352, -0.06022001745354846, -0.1188919141034669, 0.75912128669408, -0.12048846638732161, -0.08101985895758312, 0.2148507481889096, -0.23171368520805474, 0.31001936397327007, 0.3685813790170041, -0.357539003966888, 0.8730716604469723, 0.09891756468488916, 0.6439784105677914, -0.8616012141665919, 0.7201981086279359, -0.6588891194739533, 0.8365210188414317, 0.9407199201707415, -0.7556304154962235, 0.946637608433355, -0.8691603196121842, -0.9284844952209081, -0.9683493301475269, 0.32755479963481265, 0.2545866062259202, 0.13504936122248548, -0.8509480365447162, 0.7570470751712755, -0.4320400249750353, 0.5260507677311772, 0.9542481790250329, 0.30667199290505065, -0.8900613671269099, -0.15836068391661276, -0.2825143699922373, -0.8774849556403934, -0.7383903832625014, 0.957720828293963, -0.3162845693822217, -0.9474165728142782, 0.17121238343341932, 0.4123890357928657, 0.2646134188798444, -0.8011343051208052, -0.01515027146266562, -0.2758478824562316, 0.027654007552460284, -0.757214701917121, 0.9141069980246705, -0.9239452716036183, -0.009922720970515475, -0.7435507348000122, -0.7754346430649579, -0.485577949634681, -0.5840876104492014, 0.5487026054161553, 0.328961575488016, 0.04451478954153439, -0.13626063330000354, -0.6837256958817014, 0.9105646880059687, 0.7410417180869115, 0.6277262730866942, -0.9521198491965291, 0.20689004697180335, -0.8279761417438837, -0.6721790738675583, 0.8462251987576298, 0.5460486885243249, -0.7165613827845654, -0.5961353760582223, 0.3316530880347598, 0.3258323237822748, 0.3032508416123242, 0.3158147305795385, 0.09879986019856406, 0.26044643922588573, -0.6193380926035572, -0.3884800252518596, -0.6318471786878413, 0.3609691173827865, 0.2987245425551384, -0.0658640029847446, -0.06345289137187332, 0.18488050319243068, 0.741973104242371, 0.653540866237783, -0.17361105024388002, -0.5409402337474735, -0.5440145258246534, 0.4804665064293758, -0.46714989057920087, -0.011813770248448763, 0.36179134263444024, 0.1575542458309391, 0.5369249551765771, 0.08222235173427825, 0.8141478463917992, 0.43283376416889047, 0.5865424639868426, 0.017697675917476112, 0.5365895580105019, 0.7646076912878091, -0.16413021724736718, -0.2665757469732505, -0.21992701017783742, -0.4624210137429256, -0.6469950197197589, -0.8312368346783132, 0.5897653424228251, 0.5995325354898381, -0.36480310330325144, 0.40402855168863766, 0.026185134842311192, 0.9468081336870047, -0.38407292435120277, 0.21289581500581325, -0.12504920317287044, 0.38470986006891067, 0.1979319032397586, 0.11849142241934613, 0.9646439564419842, -0.7245211783788635, -0.5399827819471725, 0.22337840521925678, -0.8227820601973114, 0.8159270668484948, 0.3592051562271864, 0.2074962708119152, 0.18148990449667612, -0.21087780919178417, 0.10222433599703999, 0.8560299772397757, 0.9137820148143028, 0.9479688750020072, 0.9721634691380174, 0.966969122295981, -0.9092444069539867, -0.9716601562484631, -0.17846902549067772, 0.6422256583530797, -0.390709838136958, 0.2178127549330712, -0.8421087775998919, -0.6249672117446393, 0.23933115651844578, 0.02165141128831547, -0.4375176233187185, -0.6925563917692202, -0.815398508539506, -0.0637446631924323, -0.6374793642976428, 0.8066236667087721, 0.17606033591501452, -0.40976021775213045, 0.6273038054372747, -0.1852235366897679, -0.9630976720204313, -0.47707799737704454, 0.9418992839028666, 0.452236841825602, -0.9019612531798155, -0.9580504583636439, -0.9746697185800575, -0.5621446964968111, 0.59562251648249, 0.8946291489960722, -0.4031071656755341, -0.838389285179736, 0.717416375850324, -0.5982122114137253, -0.6254224121075005, -0.8023714351810062, -0.595395625809629, 0.9236151379066521, -0.840945947931187, -0.8303262998209361, 0.210845776843794, 0.015889928462697468, 0.18148291847013126, 0.8277505503353656, -0.6963295854455099, -0.7701709592081722, 0.24543399467842647, -0.4844302221418642, 0.48935340931163246, 0.3012919645322017, 0.11628995596928697, 0.7146646511025148, -0.4342757104109682, 0.7243347089456251, -0.12273927500781481, -0.7997977815022015, -0.9487159710521825, 0.4254695584037832, -0.8280564665455727, 0.40837793323874955, -0.6318653280039807, 0.28535121204132585, -0.6017641268875379, 0.6229756701901539, 0.9334732328746911, 0.24879901232739426, -0.18741888998958892, -0.5321504965444123, -0.9240556068021314, 0.7991323817500919, -0.9221453383767197, -0.5583390860439827, -0.033822738251114357, 0.002461398371298625, -0.7781748090708779, -0.7304447777693299, -0.5613917996491198, -0.9688626475837155, -0.2632564559371419, -0.9604728922152018, -0.1749878981631315, -0.12088490861269618, 0.541112185907842, -0.6127065856016447, -0.7715348882054062, 0.8805396750478472, 0.9195800846587459, 0.9736652255593792, 0.40509019560953535, 0.1726339516441543, 0.011739214751084227, -0.8723234871036509, 0.8635076112926953, -0.3089195432579803, 0.6444686159315369, 0.14279409690743655, -0.7539848094951742, 0.6757841936318904, -0.9899236153608368, -0.9277602811380044, -0.9209875732191994, 0.4426007591067603, 0.9189942064712121, -0.47033611663650576, 0.6866561261682763, 0.30856250381297884, 0.7219354919221036, 0.920421909033727, -0.2374490128028811, -0.8932711708908097, -0.9071975406879494, 0.6730721487383663, 0.866167258037113, -0.45164287124195, 0.5072674826914052, 0.9225707400339607, 0.8923158484141606, 0.5510644353715133, -0.8706386743966266, 0.06619592789371385, 0.9492637201367766, 0.4960640152073384, -0.7353760532615722, 0.7830592154689431, 0.4904288196852889, 0.6859176989415685, -0.4283534870623445, -0.13313498993161155, -0.9741001962024023, 0.8237198514376047, 0.8952472682391442, -0.7133193355854041, -0.9429767801766332, -0.18718774888140804, -0.5157844108691299, 0.8813195090892265, -0.7573188130027237, 0.47418430578688553, 0.5480080111083162, -0.3112637415108241, 0.6887014276397951, -0.9910687524559387, -0.9057537618280979]}],\n",
       "                        {\"annotations\": [{\"showarrow\": false, \"text\": \"No. of contacts made\", \"xref\": \"paper\", \"yref\": \"paper\"}], \"hovermode\": \"closest\", \"margin\": {\"b\": 20, \"l\": 5, \"r\": 5, \"t\": 40}, \"showlegend\": false, \"template\": {\"data\": {\"bar\": [{\"error_x\": {\"color\": \"#2a3f5f\"}, \"error_y\": {\"color\": \"#2a3f5f\"}, \"marker\": {\"line\": {\"color\": \"#E5ECF6\", \"width\": 0.5}}, \"type\": \"bar\"}], \"barpolar\": [{\"marker\": {\"line\": {\"color\": \"#E5ECF6\", \"width\": 0.5}}, \"type\": \"barpolar\"}], \"carpet\": [{\"aaxis\": {\"endlinecolor\": \"#2a3f5f\", \"gridcolor\": \"white\", \"linecolor\": \"white\", \"minorgridcolor\": \"white\", \"startlinecolor\": \"#2a3f5f\"}, \"baxis\": {\"endlinecolor\": \"#2a3f5f\", \"gridcolor\": \"white\", \"linecolor\": \"white\", \"minorgridcolor\": \"white\", \"startlinecolor\": \"#2a3f5f\"}, \"type\": \"carpet\"}], \"choropleth\": [{\"colorbar\": {\"outlinewidth\": 0, \"ticks\": \"\"}, \"type\": \"choropleth\"}], \"contour\": [{\"colorbar\": {\"outlinewidth\": 0, \"ticks\": \"\"}, \"colorscale\": [[0.0, \"#0d0887\"], [0.1111111111111111, \"#46039f\"], [0.2222222222222222, \"#7201a8\"], [0.3333333333333333, \"#9c179e\"], [0.4444444444444444, \"#bd3786\"], [0.5555555555555556, \"#d8576b\"], [0.6666666666666666, \"#ed7953\"], [0.7777777777777778, \"#fb9f3a\"], [0.8888888888888888, \"#fdca26\"], [1.0, \"#f0f921\"]], \"type\": \"contour\"}], \"contourcarpet\": [{\"colorbar\": {\"outlinewidth\": 0, \"ticks\": \"\"}, \"type\": \"contourcarpet\"}], \"heatmap\": [{\"colorbar\": {\"outlinewidth\": 0, \"ticks\": \"\"}, \"colorscale\": [[0.0, \"#0d0887\"], [0.1111111111111111, \"#46039f\"], [0.2222222222222222, \"#7201a8\"], [0.3333333333333333, \"#9c179e\"], [0.4444444444444444, \"#bd3786\"], [0.5555555555555556, \"#d8576b\"], [0.6666666666666666, \"#ed7953\"], [0.7777777777777778, \"#fb9f3a\"], [0.8888888888888888, \"#fdca26\"], [1.0, \"#f0f921\"]], \"type\": \"heatmap\"}], \"heatmapgl\": [{\"colorbar\": {\"outlinewidth\": 0, \"ticks\": \"\"}, \"colorscale\": [[0.0, \"#0d0887\"], [0.1111111111111111, \"#46039f\"], [0.2222222222222222, \"#7201a8\"], [0.3333333333333333, \"#9c179e\"], [0.4444444444444444, \"#bd3786\"], [0.5555555555555556, \"#d8576b\"], [0.6666666666666666, \"#ed7953\"], [0.7777777777777778, \"#fb9f3a\"], [0.8888888888888888, \"#fdca26\"], [1.0, \"#f0f921\"]], \"type\": \"heatmapgl\"}], \"histogram\": [{\"marker\": {\"colorbar\": {\"outlinewidth\": 0, \"ticks\": \"\"}}, \"type\": \"histogram\"}], \"histogram2d\": [{\"colorbar\": {\"outlinewidth\": 0, \"ticks\": \"\"}, \"colorscale\": [[0.0, \"#0d0887\"], [0.1111111111111111, \"#46039f\"], [0.2222222222222222, \"#7201a8\"], [0.3333333333333333, \"#9c179e\"], [0.4444444444444444, \"#bd3786\"], [0.5555555555555556, \"#d8576b\"], [0.6666666666666666, \"#ed7953\"], [0.7777777777777778, \"#fb9f3a\"], [0.8888888888888888, \"#fdca26\"], [1.0, \"#f0f921\"]], \"type\": \"histogram2d\"}], \"histogram2dcontour\": [{\"colorbar\": {\"outlinewidth\": 0, \"ticks\": \"\"}, \"colorscale\": [[0.0, \"#0d0887\"], [0.1111111111111111, \"#46039f\"], [0.2222222222222222, \"#7201a8\"], [0.3333333333333333, \"#9c179e\"], [0.4444444444444444, \"#bd3786\"], [0.5555555555555556, \"#d8576b\"], [0.6666666666666666, \"#ed7953\"], [0.7777777777777778, \"#fb9f3a\"], [0.8888888888888888, \"#fdca26\"], [1.0, \"#f0f921\"]], \"type\": \"histogram2dcontour\"}], \"mesh3d\": [{\"colorbar\": {\"outlinewidth\": 0, \"ticks\": \"\"}, \"type\": \"mesh3d\"}], \"parcoords\": [{\"line\": {\"colorbar\": {\"outlinewidth\": 0, \"ticks\": \"\"}}, \"type\": \"parcoords\"}], \"pie\": [{\"automargin\": true, \"type\": \"pie\"}], \"scatter\": [{\"marker\": {\"colorbar\": {\"outlinewidth\": 0, \"ticks\": \"\"}}, \"type\": \"scatter\"}], \"scatter3d\": [{\"line\": {\"colorbar\": {\"outlinewidth\": 0, \"ticks\": \"\"}}, \"marker\": {\"colorbar\": {\"outlinewidth\": 0, \"ticks\": \"\"}}, \"type\": \"scatter3d\"}], \"scattercarpet\": [{\"marker\": {\"colorbar\": {\"outlinewidth\": 0, \"ticks\": \"\"}}, \"type\": \"scattercarpet\"}], \"scattergeo\": [{\"marker\": {\"colorbar\": {\"outlinewidth\": 0, \"ticks\": \"\"}}, \"type\": \"scattergeo\"}], \"scattergl\": [{\"marker\": {\"colorbar\": {\"outlinewidth\": 0, \"ticks\": \"\"}}, \"type\": \"scattergl\"}], \"scattermapbox\": [{\"marker\": {\"colorbar\": {\"outlinewidth\": 0, \"ticks\": \"\"}}, \"type\": \"scattermapbox\"}], \"scatterpolar\": [{\"marker\": {\"colorbar\": {\"outlinewidth\": 0, \"ticks\": \"\"}}, \"type\": \"scatterpolar\"}], \"scatterpolargl\": [{\"marker\": {\"colorbar\": {\"outlinewidth\": 0, \"ticks\": \"\"}}, \"type\": \"scatterpolargl\"}], \"scatterternary\": [{\"marker\": {\"colorbar\": {\"outlinewidth\": 0, \"ticks\": \"\"}}, \"type\": \"scatterternary\"}], \"surface\": [{\"colorbar\": {\"outlinewidth\": 0, \"ticks\": \"\"}, \"colorscale\": [[0.0, \"#0d0887\"], [0.1111111111111111, \"#46039f\"], [0.2222222222222222, \"#7201a8\"], [0.3333333333333333, \"#9c179e\"], [0.4444444444444444, \"#bd3786\"], [0.5555555555555556, \"#d8576b\"], [0.6666666666666666, \"#ed7953\"], [0.7777777777777778, \"#fb9f3a\"], [0.8888888888888888, \"#fdca26\"], [1.0, \"#f0f921\"]], \"type\": \"surface\"}], \"table\": [{\"cells\": {\"fill\": {\"color\": \"#EBF0F8\"}, \"line\": {\"color\": \"white\"}}, \"header\": {\"fill\": {\"color\": \"#C8D4E3\"}, \"line\": {\"color\": \"white\"}}, \"type\": \"table\"}]}, \"layout\": {\"annotationdefaults\": {\"arrowcolor\": \"#2a3f5f\", \"arrowhead\": 0, \"arrowwidth\": 1}, \"coloraxis\": {\"colorbar\": {\"outlinewidth\": 0, \"ticks\": \"\"}}, \"colorscale\": {\"diverging\": [[0, \"#8e0152\"], [0.1, \"#c51b7d\"], [0.2, \"#de77ae\"], [0.3, \"#f1b6da\"], [0.4, \"#fde0ef\"], [0.5, \"#f7f7f7\"], [0.6, \"#e6f5d0\"], [0.7, \"#b8e186\"], [0.8, \"#7fbc41\"], [0.9, \"#4d9221\"], [1, \"#276419\"]], \"sequential\": [[0.0, \"#0d0887\"], [0.1111111111111111, \"#46039f\"], [0.2222222222222222, \"#7201a8\"], [0.3333333333333333, \"#9c179e\"], [0.4444444444444444, \"#bd3786\"], [0.5555555555555556, \"#d8576b\"], [0.6666666666666666, \"#ed7953\"], [0.7777777777777778, \"#fb9f3a\"], [0.8888888888888888, \"#fdca26\"], [1.0, \"#f0f921\"]], \"sequentialminus\": [[0.0, \"#0d0887\"], [0.1111111111111111, \"#46039f\"], [0.2222222222222222, \"#7201a8\"], [0.3333333333333333, \"#9c179e\"], [0.4444444444444444, \"#bd3786\"], [0.5555555555555556, \"#d8576b\"], [0.6666666666666666, \"#ed7953\"], [0.7777777777777778, \"#fb9f3a\"], [0.8888888888888888, \"#fdca26\"], [1.0, \"#f0f921\"]]}, \"colorway\": [\"#636efa\", \"#EF553B\", \"#00cc96\", \"#ab63fa\", \"#FFA15A\", \"#19d3f3\", \"#FF6692\", \"#B6E880\", \"#FF97FF\", \"#FECB52\"], \"font\": {\"color\": \"#2a3f5f\"}, \"geo\": {\"bgcolor\": \"white\", \"lakecolor\": \"white\", \"landcolor\": \"#E5ECF6\", \"showlakes\": true, \"showland\": true, \"subunitcolor\": \"white\"}, \"hoverlabel\": {\"align\": \"left\"}, \"hovermode\": \"closest\", \"mapbox\": {\"style\": \"light\"}, \"paper_bgcolor\": \"white\", \"plot_bgcolor\": \"#E5ECF6\", \"polar\": {\"angularaxis\": {\"gridcolor\": \"white\", \"linecolor\": \"white\", \"ticks\": \"\"}, \"bgcolor\": \"#E5ECF6\", \"radialaxis\": {\"gridcolor\": \"white\", \"linecolor\": \"white\", \"ticks\": \"\"}}, \"scene\": {\"xaxis\": {\"backgroundcolor\": \"#E5ECF6\", \"gridcolor\": \"white\", \"gridwidth\": 2, \"linecolor\": \"white\", \"showbackground\": true, \"ticks\": \"\", \"zerolinecolor\": \"white\"}, \"yaxis\": {\"backgroundcolor\": \"#E5ECF6\", \"gridcolor\": \"white\", \"gridwidth\": 2, \"linecolor\": \"white\", \"showbackground\": true, \"ticks\": \"\", \"zerolinecolor\": \"white\"}, \"zaxis\": {\"backgroundcolor\": \"#E5ECF6\", \"gridcolor\": \"white\", \"gridwidth\": 2, \"linecolor\": \"white\", \"showbackground\": true, \"ticks\": \"\", \"zerolinecolor\": \"white\"}}, \"shapedefaults\": {\"line\": {\"color\": \"#2a3f5f\"}}, \"ternary\": {\"aaxis\": {\"gridcolor\": \"white\", \"linecolor\": \"white\", \"ticks\": \"\"}, \"baxis\": {\"gridcolor\": \"white\", \"linecolor\": \"white\", \"ticks\": \"\"}, \"bgcolor\": \"#E5ECF6\", \"caxis\": {\"gridcolor\": \"white\", \"linecolor\": \"white\", \"ticks\": \"\"}}, \"title\": {\"x\": 0.05}, \"xaxis\": {\"automargin\": true, \"gridcolor\": \"white\", \"linecolor\": \"white\", \"ticks\": \"\", \"title\": {\"standoff\": 15}, \"zerolinecolor\": \"white\", \"zerolinewidth\": 2}, \"yaxis\": {\"automargin\": true, \"gridcolor\": \"white\", \"linecolor\": \"white\", \"ticks\": \"\", \"title\": {\"standoff\": 15}, \"zerolinecolor\": \"white\", \"zerolinewidth\": 2}}}, \"title\": {\"font\": {\"size\": 16}, \"text\": \"<br>Karnataka Person to Person Network Tracing\"}, \"xaxis\": {\"showgrid\": false, \"showticklabels\": false, \"zeroline\": false}, \"yaxis\": {\"showgrid\": false, \"showticklabels\": false, \"zeroline\": false}},\n",
       "                        {\"responsive\": true}\n",
       "                    ).then(function(){\n",
       "                            \n",
       "var gd = document.getElementById('34dac09b-d150-4997-a1a5-4e290a42d079');\n",
       "var x = new MutationObserver(function (mutations, observer) {{\n",
       "        var display = window.getComputedStyle(gd).display;\n",
       "        if (!display || display === 'none') {{\n",
       "            console.log([gd, 'removed!']);\n",
       "            Plotly.purge(gd);\n",
       "            observer.disconnect();\n",
       "        }}\n",
       "}});\n",
       "\n",
       "// Listen for the removal of the full notebook cells\n",
       "var notebookContainer = gd.closest('#notebook-container');\n",
       "if (notebookContainer) {{\n",
       "    x.observe(notebookContainer, {childList: true});\n",
       "}}\n",
       "\n",
       "// Listen for the clearing of the current output cell\n",
       "var outputEl = gd.closest('.output');\n",
       "if (outputEl) {{\n",
       "    x.observe(outputEl, {childList: true});\n",
       "}}\n",
       "\n",
       "                        })\n",
       "                };\n",
       "                });\n",
       "            </script>\n",
       "        </div>"
      ]
     },
     "metadata": {},
     "output_type": "display_data"
    }
   ],
   "source": [
    "from plotly.offline import download_plotlyjs, init_notebook_mode, iplot\n",
    "iplot(fig)"
   ]
  },
  {
   "cell_type": "code",
   "execution_count": null,
   "metadata": {},
   "outputs": [],
   "source": []
  }
 ],
 "metadata": {
  "kernelspec": {
   "display_name": "Python 3",
   "language": "python",
   "name": "python3"
  },
  "language_info": {
   "codemirror_mode": {
    "name": "ipython",
    "version": 3
   },
   "file_extension": ".py",
   "mimetype": "text/x-python",
   "name": "python",
   "nbconvert_exporter": "python",
   "pygments_lexer": "ipython3",
   "version": "3.7.4"
  }
 },
 "nbformat": 4,
 "nbformat_minor": 2
}
