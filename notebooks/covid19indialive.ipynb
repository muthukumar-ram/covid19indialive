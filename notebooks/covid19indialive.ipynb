{
 "cells": [
  {
   "cell_type": "markdown",
   "metadata": {},
   "source": [
    "# CoronaVirus Covid19 India Lockdown 2.0"
   ]
  },
  {
   "cell_type": "code",
   "execution_count": 150,
   "metadata": {},
   "outputs": [],
   "source": [
    "from __future__ import print_function\n",
    "from ipywidgets import interact, interactive, fixed, interact_manual\n",
    "from IPython.core.display import display, HTML\n",
    "\n",
    "import pandas as pd\n",
    "import numpy as np\n",
    "import matplotlib.pyplot as plt\n",
    "import plotly.express as px\n",
    "import folium\n",
    "import plotly.graph_objects as go\n",
    "import seaborn as sns\n",
    "import ipywidgets as widgets\n",
    "import networkx as nx"
   ]
  },
  {
   "cell_type": "markdown",
   "metadata": {},
   "source": [
    "# Karnataka Coronavirus Data"
   ]
  },
  {
   "cell_type": "code",
   "execution_count": 143,
   "metadata": {},
   "outputs": [],
   "source": [
    "#url = 'https://en.wikipedia.org/wiki/2020_coronavirus_pandemic_in_Karnataka'\n",
    "#all_tables = pd.read_html(url)\n",
    "\n",
    "# we  need 6 th table that is all_tables[5]\n",
    "#rawCases = all_tables[5]\n",
    "rawCases = pd.read_csv(\"https://raw.githubusercontent.com/muthukumar-ram/covid19indialive/master/dataset/KARawCases.csv\")"
   ]
  },
  {
   "cell_type": "code",
   "execution_count": 144,
   "metadata": {},
   "outputs": [
    {
     "data": {
      "application/vnd.plotly.v1+json": {
       "config": {
        "plotlyServerURL": "https://plot.ly"
       },
       "data": [
        {
         "alignmentgroup": "True",
         "hovertemplate": "Gender=%{x}<br>Confirmed=%{y}<extra></extra>",
         "legendgroup": "",
         "marker": {
          "color": "pink"
         },
         "name": "",
         "offsetgroup": "",
         "orientation": "v",
         "showlegend": false,
         "textposition": "auto",
         "type": "bar",
         "x": [
          "F",
          "M"
         ],
         "xaxis": "x",
         "y": [
          112,
          283
         ],
         "yaxis": "y"
        }
       ],
       "layout": {
        "barmode": "relative",
        "height": 500,
        "legend": {
         "tracegroupgap": 0
        },
        "template": {
         "data": {
          "bar": [
           {
            "error_x": {
             "color": "#2a3f5f"
            },
            "error_y": {
             "color": "#2a3f5f"
            },
            "marker": {
             "line": {
              "color": "#E5ECF6",
              "width": 0.5
             }
            },
            "type": "bar"
           }
          ],
          "barpolar": [
           {
            "marker": {
             "line": {
              "color": "#E5ECF6",
              "width": 0.5
             }
            },
            "type": "barpolar"
           }
          ],
          "carpet": [
           {
            "aaxis": {
             "endlinecolor": "#2a3f5f",
             "gridcolor": "white",
             "linecolor": "white",
             "minorgridcolor": "white",
             "startlinecolor": "#2a3f5f"
            },
            "baxis": {
             "endlinecolor": "#2a3f5f",
             "gridcolor": "white",
             "linecolor": "white",
             "minorgridcolor": "white",
             "startlinecolor": "#2a3f5f"
            },
            "type": "carpet"
           }
          ],
          "choropleth": [
           {
            "colorbar": {
             "outlinewidth": 0,
             "ticks": ""
            },
            "type": "choropleth"
           }
          ],
          "contour": [
           {
            "colorbar": {
             "outlinewidth": 0,
             "ticks": ""
            },
            "colorscale": [
             [
              0,
              "#0d0887"
             ],
             [
              0.1111111111111111,
              "#46039f"
             ],
             [
              0.2222222222222222,
              "#7201a8"
             ],
             [
              0.3333333333333333,
              "#9c179e"
             ],
             [
              0.4444444444444444,
              "#bd3786"
             ],
             [
              0.5555555555555556,
              "#d8576b"
             ],
             [
              0.6666666666666666,
              "#ed7953"
             ],
             [
              0.7777777777777778,
              "#fb9f3a"
             ],
             [
              0.8888888888888888,
              "#fdca26"
             ],
             [
              1,
              "#f0f921"
             ]
            ],
            "type": "contour"
           }
          ],
          "contourcarpet": [
           {
            "colorbar": {
             "outlinewidth": 0,
             "ticks": ""
            },
            "type": "contourcarpet"
           }
          ],
          "heatmap": [
           {
            "colorbar": {
             "outlinewidth": 0,
             "ticks": ""
            },
            "colorscale": [
             [
              0,
              "#0d0887"
             ],
             [
              0.1111111111111111,
              "#46039f"
             ],
             [
              0.2222222222222222,
              "#7201a8"
             ],
             [
              0.3333333333333333,
              "#9c179e"
             ],
             [
              0.4444444444444444,
              "#bd3786"
             ],
             [
              0.5555555555555556,
              "#d8576b"
             ],
             [
              0.6666666666666666,
              "#ed7953"
             ],
             [
              0.7777777777777778,
              "#fb9f3a"
             ],
             [
              0.8888888888888888,
              "#fdca26"
             ],
             [
              1,
              "#f0f921"
             ]
            ],
            "type": "heatmap"
           }
          ],
          "heatmapgl": [
           {
            "colorbar": {
             "outlinewidth": 0,
             "ticks": ""
            },
            "colorscale": [
             [
              0,
              "#0d0887"
             ],
             [
              0.1111111111111111,
              "#46039f"
             ],
             [
              0.2222222222222222,
              "#7201a8"
             ],
             [
              0.3333333333333333,
              "#9c179e"
             ],
             [
              0.4444444444444444,
              "#bd3786"
             ],
             [
              0.5555555555555556,
              "#d8576b"
             ],
             [
              0.6666666666666666,
              "#ed7953"
             ],
             [
              0.7777777777777778,
              "#fb9f3a"
             ],
             [
              0.8888888888888888,
              "#fdca26"
             ],
             [
              1,
              "#f0f921"
             ]
            ],
            "type": "heatmapgl"
           }
          ],
          "histogram": [
           {
            "marker": {
             "colorbar": {
              "outlinewidth": 0,
              "ticks": ""
             }
            },
            "type": "histogram"
           }
          ],
          "histogram2d": [
           {
            "colorbar": {
             "outlinewidth": 0,
             "ticks": ""
            },
            "colorscale": [
             [
              0,
              "#0d0887"
             ],
             [
              0.1111111111111111,
              "#46039f"
             ],
             [
              0.2222222222222222,
              "#7201a8"
             ],
             [
              0.3333333333333333,
              "#9c179e"
             ],
             [
              0.4444444444444444,
              "#bd3786"
             ],
             [
              0.5555555555555556,
              "#d8576b"
             ],
             [
              0.6666666666666666,
              "#ed7953"
             ],
             [
              0.7777777777777778,
              "#fb9f3a"
             ],
             [
              0.8888888888888888,
              "#fdca26"
             ],
             [
              1,
              "#f0f921"
             ]
            ],
            "type": "histogram2d"
           }
          ],
          "histogram2dcontour": [
           {
            "colorbar": {
             "outlinewidth": 0,
             "ticks": ""
            },
            "colorscale": [
             [
              0,
              "#0d0887"
             ],
             [
              0.1111111111111111,
              "#46039f"
             ],
             [
              0.2222222222222222,
              "#7201a8"
             ],
             [
              0.3333333333333333,
              "#9c179e"
             ],
             [
              0.4444444444444444,
              "#bd3786"
             ],
             [
              0.5555555555555556,
              "#d8576b"
             ],
             [
              0.6666666666666666,
              "#ed7953"
             ],
             [
              0.7777777777777778,
              "#fb9f3a"
             ],
             [
              0.8888888888888888,
              "#fdca26"
             ],
             [
              1,
              "#f0f921"
             ]
            ],
            "type": "histogram2dcontour"
           }
          ],
          "mesh3d": [
           {
            "colorbar": {
             "outlinewidth": 0,
             "ticks": ""
            },
            "type": "mesh3d"
           }
          ],
          "parcoords": [
           {
            "line": {
             "colorbar": {
              "outlinewidth": 0,
              "ticks": ""
             }
            },
            "type": "parcoords"
           }
          ],
          "pie": [
           {
            "automargin": true,
            "type": "pie"
           }
          ],
          "scatter": [
           {
            "marker": {
             "colorbar": {
              "outlinewidth": 0,
              "ticks": ""
             }
            },
            "type": "scatter"
           }
          ],
          "scatter3d": [
           {
            "line": {
             "colorbar": {
              "outlinewidth": 0,
              "ticks": ""
             }
            },
            "marker": {
             "colorbar": {
              "outlinewidth": 0,
              "ticks": ""
             }
            },
            "type": "scatter3d"
           }
          ],
          "scattercarpet": [
           {
            "marker": {
             "colorbar": {
              "outlinewidth": 0,
              "ticks": ""
             }
            },
            "type": "scattercarpet"
           }
          ],
          "scattergeo": [
           {
            "marker": {
             "colorbar": {
              "outlinewidth": 0,
              "ticks": ""
             }
            },
            "type": "scattergeo"
           }
          ],
          "scattergl": [
           {
            "marker": {
             "colorbar": {
              "outlinewidth": 0,
              "ticks": ""
             }
            },
            "type": "scattergl"
           }
          ],
          "scattermapbox": [
           {
            "marker": {
             "colorbar": {
              "outlinewidth": 0,
              "ticks": ""
             }
            },
            "type": "scattermapbox"
           }
          ],
          "scatterpolar": [
           {
            "marker": {
             "colorbar": {
              "outlinewidth": 0,
              "ticks": ""
             }
            },
            "type": "scatterpolar"
           }
          ],
          "scatterpolargl": [
           {
            "marker": {
             "colorbar": {
              "outlinewidth": 0,
              "ticks": ""
             }
            },
            "type": "scatterpolargl"
           }
          ],
          "scatterternary": [
           {
            "marker": {
             "colorbar": {
              "outlinewidth": 0,
              "ticks": ""
             }
            },
            "type": "scatterternary"
           }
          ],
          "surface": [
           {
            "colorbar": {
             "outlinewidth": 0,
             "ticks": ""
            },
            "colorscale": [
             [
              0,
              "#0d0887"
             ],
             [
              0.1111111111111111,
              "#46039f"
             ],
             [
              0.2222222222222222,
              "#7201a8"
             ],
             [
              0.3333333333333333,
              "#9c179e"
             ],
             [
              0.4444444444444444,
              "#bd3786"
             ],
             [
              0.5555555555555556,
              "#d8576b"
             ],
             [
              0.6666666666666666,
              "#ed7953"
             ],
             [
              0.7777777777777778,
              "#fb9f3a"
             ],
             [
              0.8888888888888888,
              "#fdca26"
             ],
             [
              1,
              "#f0f921"
             ]
            ],
            "type": "surface"
           }
          ],
          "table": [
           {
            "cells": {
             "fill": {
              "color": "#EBF0F8"
             },
             "line": {
              "color": "white"
             }
            },
            "header": {
             "fill": {
              "color": "#C8D4E3"
             },
             "line": {
              "color": "white"
             }
            },
            "type": "table"
           }
          ]
         },
         "layout": {
          "annotationdefaults": {
           "arrowcolor": "#2a3f5f",
           "arrowhead": 0,
           "arrowwidth": 1
          },
          "coloraxis": {
           "colorbar": {
            "outlinewidth": 0,
            "ticks": ""
           }
          },
          "colorscale": {
           "diverging": [
            [
             0,
             "#8e0152"
            ],
            [
             0.1,
             "#c51b7d"
            ],
            [
             0.2,
             "#de77ae"
            ],
            [
             0.3,
             "#f1b6da"
            ],
            [
             0.4,
             "#fde0ef"
            ],
            [
             0.5,
             "#f7f7f7"
            ],
            [
             0.6,
             "#e6f5d0"
            ],
            [
             0.7,
             "#b8e186"
            ],
            [
             0.8,
             "#7fbc41"
            ],
            [
             0.9,
             "#4d9221"
            ],
            [
             1,
             "#276419"
            ]
           ],
           "sequential": [
            [
             0,
             "#0d0887"
            ],
            [
             0.1111111111111111,
             "#46039f"
            ],
            [
             0.2222222222222222,
             "#7201a8"
            ],
            [
             0.3333333333333333,
             "#9c179e"
            ],
            [
             0.4444444444444444,
             "#bd3786"
            ],
            [
             0.5555555555555556,
             "#d8576b"
            ],
            [
             0.6666666666666666,
             "#ed7953"
            ],
            [
             0.7777777777777778,
             "#fb9f3a"
            ],
            [
             0.8888888888888888,
             "#fdca26"
            ],
            [
             1,
             "#f0f921"
            ]
           ],
           "sequentialminus": [
            [
             0,
             "#0d0887"
            ],
            [
             0.1111111111111111,
             "#46039f"
            ],
            [
             0.2222222222222222,
             "#7201a8"
            ],
            [
             0.3333333333333333,
             "#9c179e"
            ],
            [
             0.4444444444444444,
             "#bd3786"
            ],
            [
             0.5555555555555556,
             "#d8576b"
            ],
            [
             0.6666666666666666,
             "#ed7953"
            ],
            [
             0.7777777777777778,
             "#fb9f3a"
            ],
            [
             0.8888888888888888,
             "#fdca26"
            ],
            [
             1,
             "#f0f921"
            ]
           ]
          },
          "colorway": [
           "#636efa",
           "#EF553B",
           "#00cc96",
           "#ab63fa",
           "#FFA15A",
           "#19d3f3",
           "#FF6692",
           "#B6E880",
           "#FF97FF",
           "#FECB52"
          ],
          "font": {
           "color": "#2a3f5f"
          },
          "geo": {
           "bgcolor": "white",
           "lakecolor": "white",
           "landcolor": "#E5ECF6",
           "showlakes": true,
           "showland": true,
           "subunitcolor": "white"
          },
          "hoverlabel": {
           "align": "left"
          },
          "hovermode": "closest",
          "mapbox": {
           "style": "light"
          },
          "paper_bgcolor": "white",
          "plot_bgcolor": "#E5ECF6",
          "polar": {
           "angularaxis": {
            "gridcolor": "white",
            "linecolor": "white",
            "ticks": ""
           },
           "bgcolor": "#E5ECF6",
           "radialaxis": {
            "gridcolor": "white",
            "linecolor": "white",
            "ticks": ""
           }
          },
          "scene": {
           "xaxis": {
            "backgroundcolor": "#E5ECF6",
            "gridcolor": "white",
            "gridwidth": 2,
            "linecolor": "white",
            "showbackground": true,
            "ticks": "",
            "zerolinecolor": "white"
           },
           "yaxis": {
            "backgroundcolor": "#E5ECF6",
            "gridcolor": "white",
            "gridwidth": 2,
            "linecolor": "white",
            "showbackground": true,
            "ticks": "",
            "zerolinecolor": "white"
           },
           "zaxis": {
            "backgroundcolor": "#E5ECF6",
            "gridcolor": "white",
            "gridwidth": 2,
            "linecolor": "white",
            "showbackground": true,
            "ticks": "",
            "zerolinecolor": "white"
           }
          },
          "shapedefaults": {
           "line": {
            "color": "#2a3f5f"
           }
          },
          "ternary": {
           "aaxis": {
            "gridcolor": "white",
            "linecolor": "white",
            "ticks": ""
           },
           "baxis": {
            "gridcolor": "white",
            "linecolor": "white",
            "ticks": ""
           },
           "bgcolor": "#E5ECF6",
           "caxis": {
            "gridcolor": "white",
            "linecolor": "white",
            "ticks": ""
           }
          },
          "title": {
           "x": 0.05
          },
          "xaxis": {
           "automargin": true,
           "gridcolor": "white",
           "linecolor": "white",
           "ticks": "",
           "title": {
            "standoff": 15
           },
           "zerolinecolor": "white",
           "zerolinewidth": 2
          },
          "yaxis": {
           "automargin": true,
           "gridcolor": "white",
           "linecolor": "white",
           "ticks": "",
           "title": {
            "standoff": 15
           },
           "zerolinecolor": "white",
           "zerolinewidth": 2
          }
         }
        },
        "title": {
         "text": "Confirmed Cases based on Gender"
        },
        "width": 500,
        "xaxis": {
         "anchor": "y",
         "domain": [
          0,
          1
         ],
         "title": {
          "text": "Gender"
         }
        },
        "yaxis": {
         "anchor": "x",
         "domain": [
          0,
          1
         ],
         "title": {
          "text": "Confirmed"
         }
        }
       }
      },
      "text/html": [
       "<div>\n",
       "        \n",
       "        \n",
       "            <div id=\"080142a9-d639-4e83-bfa2-232720cd9bfc\" class=\"plotly-graph-div\" style=\"height:500px; width:500px;\"></div>\n",
       "            <script type=\"text/javascript\">\n",
       "                require([\"plotly\"], function(Plotly) {\n",
       "                    window.PLOTLYENV=window.PLOTLYENV || {};\n",
       "                    \n",
       "                if (document.getElementById(\"080142a9-d639-4e83-bfa2-232720cd9bfc\")) {\n",
       "                    Plotly.newPlot(\n",
       "                        '080142a9-d639-4e83-bfa2-232720cd9bfc',\n",
       "                        [{\"alignmentgroup\": \"True\", \"hovertemplate\": \"Gender=%{x}<br>Confirmed=%{y}<extra></extra>\", \"legendgroup\": \"\", \"marker\": {\"color\": \"pink\"}, \"name\": \"\", \"offsetgroup\": \"\", \"orientation\": \"v\", \"showlegend\": false, \"textposition\": \"auto\", \"type\": \"bar\", \"x\": [\"F\", \"M\"], \"xaxis\": \"x\", \"y\": [112, 283], \"yaxis\": \"y\"}],\n",
       "                        {\"barmode\": \"relative\", \"height\": 500, \"legend\": {\"tracegroupgap\": 0}, \"template\": {\"data\": {\"bar\": [{\"error_x\": {\"color\": \"#2a3f5f\"}, \"error_y\": {\"color\": \"#2a3f5f\"}, \"marker\": {\"line\": {\"color\": \"#E5ECF6\", \"width\": 0.5}}, \"type\": \"bar\"}], \"barpolar\": [{\"marker\": {\"line\": {\"color\": \"#E5ECF6\", \"width\": 0.5}}, \"type\": \"barpolar\"}], \"carpet\": [{\"aaxis\": {\"endlinecolor\": \"#2a3f5f\", \"gridcolor\": \"white\", \"linecolor\": \"white\", \"minorgridcolor\": \"white\", \"startlinecolor\": \"#2a3f5f\"}, \"baxis\": {\"endlinecolor\": \"#2a3f5f\", \"gridcolor\": \"white\", \"linecolor\": \"white\", \"minorgridcolor\": \"white\", \"startlinecolor\": \"#2a3f5f\"}, \"type\": \"carpet\"}], \"choropleth\": [{\"colorbar\": {\"outlinewidth\": 0, \"ticks\": \"\"}, \"type\": \"choropleth\"}], \"contour\": [{\"colorbar\": {\"outlinewidth\": 0, \"ticks\": \"\"}, \"colorscale\": [[0.0, \"#0d0887\"], [0.1111111111111111, \"#46039f\"], [0.2222222222222222, \"#7201a8\"], [0.3333333333333333, \"#9c179e\"], [0.4444444444444444, \"#bd3786\"], [0.5555555555555556, \"#d8576b\"], [0.6666666666666666, \"#ed7953\"], [0.7777777777777778, \"#fb9f3a\"], [0.8888888888888888, \"#fdca26\"], [1.0, \"#f0f921\"]], \"type\": \"contour\"}], \"contourcarpet\": [{\"colorbar\": {\"outlinewidth\": 0, \"ticks\": \"\"}, \"type\": \"contourcarpet\"}], \"heatmap\": [{\"colorbar\": {\"outlinewidth\": 0, \"ticks\": \"\"}, \"colorscale\": [[0.0, \"#0d0887\"], [0.1111111111111111, \"#46039f\"], [0.2222222222222222, \"#7201a8\"], [0.3333333333333333, \"#9c179e\"], [0.4444444444444444, \"#bd3786\"], [0.5555555555555556, \"#d8576b\"], [0.6666666666666666, \"#ed7953\"], [0.7777777777777778, \"#fb9f3a\"], [0.8888888888888888, \"#fdca26\"], [1.0, \"#f0f921\"]], \"type\": \"heatmap\"}], \"heatmapgl\": [{\"colorbar\": {\"outlinewidth\": 0, \"ticks\": \"\"}, \"colorscale\": [[0.0, \"#0d0887\"], [0.1111111111111111, \"#46039f\"], [0.2222222222222222, \"#7201a8\"], [0.3333333333333333, \"#9c179e\"], [0.4444444444444444, \"#bd3786\"], [0.5555555555555556, \"#d8576b\"], [0.6666666666666666, \"#ed7953\"], [0.7777777777777778, \"#fb9f3a\"], [0.8888888888888888, \"#fdca26\"], [1.0, \"#f0f921\"]], \"type\": \"heatmapgl\"}], \"histogram\": [{\"marker\": {\"colorbar\": {\"outlinewidth\": 0, \"ticks\": \"\"}}, \"type\": \"histogram\"}], \"histogram2d\": [{\"colorbar\": {\"outlinewidth\": 0, \"ticks\": \"\"}, \"colorscale\": [[0.0, \"#0d0887\"], [0.1111111111111111, \"#46039f\"], [0.2222222222222222, \"#7201a8\"], [0.3333333333333333, \"#9c179e\"], [0.4444444444444444, \"#bd3786\"], [0.5555555555555556, \"#d8576b\"], [0.6666666666666666, \"#ed7953\"], [0.7777777777777778, \"#fb9f3a\"], [0.8888888888888888, \"#fdca26\"], [1.0, \"#f0f921\"]], \"type\": \"histogram2d\"}], \"histogram2dcontour\": [{\"colorbar\": {\"outlinewidth\": 0, \"ticks\": \"\"}, \"colorscale\": [[0.0, \"#0d0887\"], [0.1111111111111111, \"#46039f\"], [0.2222222222222222, \"#7201a8\"], [0.3333333333333333, \"#9c179e\"], [0.4444444444444444, \"#bd3786\"], [0.5555555555555556, \"#d8576b\"], [0.6666666666666666, \"#ed7953\"], [0.7777777777777778, \"#fb9f3a\"], [0.8888888888888888, \"#fdca26\"], [1.0, \"#f0f921\"]], \"type\": \"histogram2dcontour\"}], \"mesh3d\": [{\"colorbar\": {\"outlinewidth\": 0, \"ticks\": \"\"}, \"type\": \"mesh3d\"}], \"parcoords\": [{\"line\": {\"colorbar\": {\"outlinewidth\": 0, \"ticks\": \"\"}}, \"type\": \"parcoords\"}], \"pie\": [{\"automargin\": true, \"type\": \"pie\"}], \"scatter\": [{\"marker\": {\"colorbar\": {\"outlinewidth\": 0, \"ticks\": \"\"}}, \"type\": \"scatter\"}], \"scatter3d\": [{\"line\": {\"colorbar\": {\"outlinewidth\": 0, \"ticks\": \"\"}}, \"marker\": {\"colorbar\": {\"outlinewidth\": 0, \"ticks\": \"\"}}, \"type\": \"scatter3d\"}], \"scattercarpet\": [{\"marker\": {\"colorbar\": {\"outlinewidth\": 0, \"ticks\": \"\"}}, \"type\": \"scattercarpet\"}], \"scattergeo\": [{\"marker\": {\"colorbar\": {\"outlinewidth\": 0, \"ticks\": \"\"}}, \"type\": \"scattergeo\"}], \"scattergl\": [{\"marker\": {\"colorbar\": {\"outlinewidth\": 0, \"ticks\": \"\"}}, \"type\": \"scattergl\"}], \"scattermapbox\": [{\"marker\": {\"colorbar\": {\"outlinewidth\": 0, \"ticks\": \"\"}}, \"type\": \"scattermapbox\"}], \"scatterpolar\": [{\"marker\": {\"colorbar\": {\"outlinewidth\": 0, \"ticks\": \"\"}}, \"type\": \"scatterpolar\"}], \"scatterpolargl\": [{\"marker\": {\"colorbar\": {\"outlinewidth\": 0, \"ticks\": \"\"}}, \"type\": \"scatterpolargl\"}], \"scatterternary\": [{\"marker\": {\"colorbar\": {\"outlinewidth\": 0, \"ticks\": \"\"}}, \"type\": \"scatterternary\"}], \"surface\": [{\"colorbar\": {\"outlinewidth\": 0, \"ticks\": \"\"}, \"colorscale\": [[0.0, \"#0d0887\"], [0.1111111111111111, \"#46039f\"], [0.2222222222222222, \"#7201a8\"], [0.3333333333333333, \"#9c179e\"], [0.4444444444444444, \"#bd3786\"], [0.5555555555555556, \"#d8576b\"], [0.6666666666666666, \"#ed7953\"], [0.7777777777777778, \"#fb9f3a\"], [0.8888888888888888, \"#fdca26\"], [1.0, \"#f0f921\"]], \"type\": \"surface\"}], \"table\": [{\"cells\": {\"fill\": {\"color\": \"#EBF0F8\"}, \"line\": {\"color\": \"white\"}}, \"header\": {\"fill\": {\"color\": \"#C8D4E3\"}, \"line\": {\"color\": \"white\"}}, \"type\": \"table\"}]}, \"layout\": {\"annotationdefaults\": {\"arrowcolor\": \"#2a3f5f\", \"arrowhead\": 0, \"arrowwidth\": 1}, \"coloraxis\": {\"colorbar\": {\"outlinewidth\": 0, \"ticks\": \"\"}}, \"colorscale\": {\"diverging\": [[0, \"#8e0152\"], [0.1, \"#c51b7d\"], [0.2, \"#de77ae\"], [0.3, \"#f1b6da\"], [0.4, \"#fde0ef\"], [0.5, \"#f7f7f7\"], [0.6, \"#e6f5d0\"], [0.7, \"#b8e186\"], [0.8, \"#7fbc41\"], [0.9, \"#4d9221\"], [1, \"#276419\"]], \"sequential\": [[0.0, \"#0d0887\"], [0.1111111111111111, \"#46039f\"], [0.2222222222222222, \"#7201a8\"], [0.3333333333333333, \"#9c179e\"], [0.4444444444444444, \"#bd3786\"], [0.5555555555555556, \"#d8576b\"], [0.6666666666666666, \"#ed7953\"], [0.7777777777777778, \"#fb9f3a\"], [0.8888888888888888, \"#fdca26\"], [1.0, \"#f0f921\"]], \"sequentialminus\": [[0.0, \"#0d0887\"], [0.1111111111111111, \"#46039f\"], [0.2222222222222222, \"#7201a8\"], [0.3333333333333333, \"#9c179e\"], [0.4444444444444444, \"#bd3786\"], [0.5555555555555556, \"#d8576b\"], [0.6666666666666666, \"#ed7953\"], [0.7777777777777778, \"#fb9f3a\"], [0.8888888888888888, \"#fdca26\"], [1.0, \"#f0f921\"]]}, \"colorway\": [\"#636efa\", \"#EF553B\", \"#00cc96\", \"#ab63fa\", \"#FFA15A\", \"#19d3f3\", \"#FF6692\", \"#B6E880\", \"#FF97FF\", \"#FECB52\"], \"font\": {\"color\": \"#2a3f5f\"}, \"geo\": {\"bgcolor\": \"white\", \"lakecolor\": \"white\", \"landcolor\": \"#E5ECF6\", \"showlakes\": true, \"showland\": true, \"subunitcolor\": \"white\"}, \"hoverlabel\": {\"align\": \"left\"}, \"hovermode\": \"closest\", \"mapbox\": {\"style\": \"light\"}, \"paper_bgcolor\": \"white\", \"plot_bgcolor\": \"#E5ECF6\", \"polar\": {\"angularaxis\": {\"gridcolor\": \"white\", \"linecolor\": \"white\", \"ticks\": \"\"}, \"bgcolor\": \"#E5ECF6\", \"radialaxis\": {\"gridcolor\": \"white\", \"linecolor\": \"white\", \"ticks\": \"\"}}, \"scene\": {\"xaxis\": {\"backgroundcolor\": \"#E5ECF6\", \"gridcolor\": \"white\", \"gridwidth\": 2, \"linecolor\": \"white\", \"showbackground\": true, \"ticks\": \"\", \"zerolinecolor\": \"white\"}, \"yaxis\": {\"backgroundcolor\": \"#E5ECF6\", \"gridcolor\": \"white\", \"gridwidth\": 2, \"linecolor\": \"white\", \"showbackground\": true, \"ticks\": \"\", \"zerolinecolor\": \"white\"}, \"zaxis\": {\"backgroundcolor\": \"#E5ECF6\", \"gridcolor\": \"white\", \"gridwidth\": 2, \"linecolor\": \"white\", \"showbackground\": true, \"ticks\": \"\", \"zerolinecolor\": \"white\"}}, \"shapedefaults\": {\"line\": {\"color\": \"#2a3f5f\"}}, \"ternary\": {\"aaxis\": {\"gridcolor\": \"white\", \"linecolor\": \"white\", \"ticks\": \"\"}, \"baxis\": {\"gridcolor\": \"white\", \"linecolor\": \"white\", \"ticks\": \"\"}, \"bgcolor\": \"#E5ECF6\", \"caxis\": {\"gridcolor\": \"white\", \"linecolor\": \"white\", \"ticks\": \"\"}}, \"title\": {\"x\": 0.05}, \"xaxis\": {\"automargin\": true, \"gridcolor\": \"white\", \"linecolor\": \"white\", \"ticks\": \"\", \"title\": {\"standoff\": 15}, \"zerolinecolor\": \"white\", \"zerolinewidth\": 2}, \"yaxis\": {\"automargin\": true, \"gridcolor\": \"white\", \"linecolor\": \"white\", \"ticks\": \"\", \"title\": {\"standoff\": 15}, \"zerolinecolor\": \"white\", \"zerolinewidth\": 2}}}, \"title\": {\"text\": \"Confirmed Cases based on Gender\"}, \"width\": 500, \"xaxis\": {\"anchor\": \"y\", \"domain\": [0.0, 1.0], \"title\": {\"text\": \"Gender\"}}, \"yaxis\": {\"anchor\": \"x\", \"domain\": [0.0, 1.0], \"title\": {\"text\": \"Confirmed\"}}},\n",
       "                        {\"responsive\": true}\n",
       "                    ).then(function(){\n",
       "                            \n",
       "var gd = document.getElementById('080142a9-d639-4e83-bfa2-232720cd9bfc');\n",
       "var x = new MutationObserver(function (mutations, observer) {{\n",
       "        var display = window.getComputedStyle(gd).display;\n",
       "        if (!display || display === 'none') {{\n",
       "            console.log([gd, 'removed!']);\n",
       "            Plotly.purge(gd);\n",
       "            observer.disconnect();\n",
       "        }}\n",
       "}});\n",
       "\n",
       "// Listen for the removal of the full notebook cells\n",
       "var notebookContainer = gd.closest('#notebook-container');\n",
       "if (notebookContainer) {{\n",
       "    x.observe(notebookContainer, {childList: true});\n",
       "}}\n",
       "\n",
       "// Listen for the clearing of the current output cell\n",
       "var outputEl = gd.closest('.output');\n",
       "if (outputEl) {{\n",
       "    x.observe(outputEl, {childList: true});\n",
       "}}\n",
       "\n",
       "                        })\n",
       "                };\n",
       "                });\n",
       "            </script>\n",
       "        </div>"
      ]
     },
     "metadata": {},
     "output_type": "display_data"
    }
   ],
   "source": [
    "genderGrp=rawCases.groupby(by='Gender').size().reset_index(name='count')\n",
    "genderGrp=genderGrp.rename(columns={'count':'Confirmed'})\n",
    "\n",
    "\n",
    "px.bar(\n",
    "    genderGrp,\n",
    "    x = \"Gender\",\n",
    "    y = \"Confirmed\",\n",
    "    title= \"Confirmed Cases based on Gender\", # the axis names\n",
    "    color_discrete_sequence=[\"pink\"], \n",
    "    height=500,\n",
    "    width=500\n",
    ")"
   ]
  },
  {
   "cell_type": "code",
   "execution_count": 145,
   "metadata": {},
   "outputs": [
    {
     "data": {
      "application/vnd.plotly.v1+json": {
       "config": {
        "plotlyServerURL": "https://plot.ly"
       },
       "data": [
        {
         "alignmentgroup": "True",
         "hovertemplate": "Age Group=%{x}<br>Confirmed=%{y}<extra></extra>",
         "legendgroup": "",
         "marker": {
          "color": "purple"
         },
         "name": "",
         "offsetgroup": "",
         "orientation": "v",
         "showlegend": false,
         "textposition": "auto",
         "type": "bar",
         "x": [
          "12-20",
          "20-40",
          "3-12",
          "40-60",
          "60+",
          "<3"
         ],
         "xaxis": "x",
         "y": [
          31,
          184,
          18,
          104,
          54,
          4
         ],
         "yaxis": "y"
        }
       ],
       "layout": {
        "barmode": "relative",
        "height": 500,
        "legend": {
         "tracegroupgap": 0
        },
        "template": {
         "data": {
          "bar": [
           {
            "error_x": {
             "color": "#2a3f5f"
            },
            "error_y": {
             "color": "#2a3f5f"
            },
            "marker": {
             "line": {
              "color": "#E5ECF6",
              "width": 0.5
             }
            },
            "type": "bar"
           }
          ],
          "barpolar": [
           {
            "marker": {
             "line": {
              "color": "#E5ECF6",
              "width": 0.5
             }
            },
            "type": "barpolar"
           }
          ],
          "carpet": [
           {
            "aaxis": {
             "endlinecolor": "#2a3f5f",
             "gridcolor": "white",
             "linecolor": "white",
             "minorgridcolor": "white",
             "startlinecolor": "#2a3f5f"
            },
            "baxis": {
             "endlinecolor": "#2a3f5f",
             "gridcolor": "white",
             "linecolor": "white",
             "minorgridcolor": "white",
             "startlinecolor": "#2a3f5f"
            },
            "type": "carpet"
           }
          ],
          "choropleth": [
           {
            "colorbar": {
             "outlinewidth": 0,
             "ticks": ""
            },
            "type": "choropleth"
           }
          ],
          "contour": [
           {
            "colorbar": {
             "outlinewidth": 0,
             "ticks": ""
            },
            "colorscale": [
             [
              0,
              "#0d0887"
             ],
             [
              0.1111111111111111,
              "#46039f"
             ],
             [
              0.2222222222222222,
              "#7201a8"
             ],
             [
              0.3333333333333333,
              "#9c179e"
             ],
             [
              0.4444444444444444,
              "#bd3786"
             ],
             [
              0.5555555555555556,
              "#d8576b"
             ],
             [
              0.6666666666666666,
              "#ed7953"
             ],
             [
              0.7777777777777778,
              "#fb9f3a"
             ],
             [
              0.8888888888888888,
              "#fdca26"
             ],
             [
              1,
              "#f0f921"
             ]
            ],
            "type": "contour"
           }
          ],
          "contourcarpet": [
           {
            "colorbar": {
             "outlinewidth": 0,
             "ticks": ""
            },
            "type": "contourcarpet"
           }
          ],
          "heatmap": [
           {
            "colorbar": {
             "outlinewidth": 0,
             "ticks": ""
            },
            "colorscale": [
             [
              0,
              "#0d0887"
             ],
             [
              0.1111111111111111,
              "#46039f"
             ],
             [
              0.2222222222222222,
              "#7201a8"
             ],
             [
              0.3333333333333333,
              "#9c179e"
             ],
             [
              0.4444444444444444,
              "#bd3786"
             ],
             [
              0.5555555555555556,
              "#d8576b"
             ],
             [
              0.6666666666666666,
              "#ed7953"
             ],
             [
              0.7777777777777778,
              "#fb9f3a"
             ],
             [
              0.8888888888888888,
              "#fdca26"
             ],
             [
              1,
              "#f0f921"
             ]
            ],
            "type": "heatmap"
           }
          ],
          "heatmapgl": [
           {
            "colorbar": {
             "outlinewidth": 0,
             "ticks": ""
            },
            "colorscale": [
             [
              0,
              "#0d0887"
             ],
             [
              0.1111111111111111,
              "#46039f"
             ],
             [
              0.2222222222222222,
              "#7201a8"
             ],
             [
              0.3333333333333333,
              "#9c179e"
             ],
             [
              0.4444444444444444,
              "#bd3786"
             ],
             [
              0.5555555555555556,
              "#d8576b"
             ],
             [
              0.6666666666666666,
              "#ed7953"
             ],
             [
              0.7777777777777778,
              "#fb9f3a"
             ],
             [
              0.8888888888888888,
              "#fdca26"
             ],
             [
              1,
              "#f0f921"
             ]
            ],
            "type": "heatmapgl"
           }
          ],
          "histogram": [
           {
            "marker": {
             "colorbar": {
              "outlinewidth": 0,
              "ticks": ""
             }
            },
            "type": "histogram"
           }
          ],
          "histogram2d": [
           {
            "colorbar": {
             "outlinewidth": 0,
             "ticks": ""
            },
            "colorscale": [
             [
              0,
              "#0d0887"
             ],
             [
              0.1111111111111111,
              "#46039f"
             ],
             [
              0.2222222222222222,
              "#7201a8"
             ],
             [
              0.3333333333333333,
              "#9c179e"
             ],
             [
              0.4444444444444444,
              "#bd3786"
             ],
             [
              0.5555555555555556,
              "#d8576b"
             ],
             [
              0.6666666666666666,
              "#ed7953"
             ],
             [
              0.7777777777777778,
              "#fb9f3a"
             ],
             [
              0.8888888888888888,
              "#fdca26"
             ],
             [
              1,
              "#f0f921"
             ]
            ],
            "type": "histogram2d"
           }
          ],
          "histogram2dcontour": [
           {
            "colorbar": {
             "outlinewidth": 0,
             "ticks": ""
            },
            "colorscale": [
             [
              0,
              "#0d0887"
             ],
             [
              0.1111111111111111,
              "#46039f"
             ],
             [
              0.2222222222222222,
              "#7201a8"
             ],
             [
              0.3333333333333333,
              "#9c179e"
             ],
             [
              0.4444444444444444,
              "#bd3786"
             ],
             [
              0.5555555555555556,
              "#d8576b"
             ],
             [
              0.6666666666666666,
              "#ed7953"
             ],
             [
              0.7777777777777778,
              "#fb9f3a"
             ],
             [
              0.8888888888888888,
              "#fdca26"
             ],
             [
              1,
              "#f0f921"
             ]
            ],
            "type": "histogram2dcontour"
           }
          ],
          "mesh3d": [
           {
            "colorbar": {
             "outlinewidth": 0,
             "ticks": ""
            },
            "type": "mesh3d"
           }
          ],
          "parcoords": [
           {
            "line": {
             "colorbar": {
              "outlinewidth": 0,
              "ticks": ""
             }
            },
            "type": "parcoords"
           }
          ],
          "pie": [
           {
            "automargin": true,
            "type": "pie"
           }
          ],
          "scatter": [
           {
            "marker": {
             "colorbar": {
              "outlinewidth": 0,
              "ticks": ""
             }
            },
            "type": "scatter"
           }
          ],
          "scatter3d": [
           {
            "line": {
             "colorbar": {
              "outlinewidth": 0,
              "ticks": ""
             }
            },
            "marker": {
             "colorbar": {
              "outlinewidth": 0,
              "ticks": ""
             }
            },
            "type": "scatter3d"
           }
          ],
          "scattercarpet": [
           {
            "marker": {
             "colorbar": {
              "outlinewidth": 0,
              "ticks": ""
             }
            },
            "type": "scattercarpet"
           }
          ],
          "scattergeo": [
           {
            "marker": {
             "colorbar": {
              "outlinewidth": 0,
              "ticks": ""
             }
            },
            "type": "scattergeo"
           }
          ],
          "scattergl": [
           {
            "marker": {
             "colorbar": {
              "outlinewidth": 0,
              "ticks": ""
             }
            },
            "type": "scattergl"
           }
          ],
          "scattermapbox": [
           {
            "marker": {
             "colorbar": {
              "outlinewidth": 0,
              "ticks": ""
             }
            },
            "type": "scattermapbox"
           }
          ],
          "scatterpolar": [
           {
            "marker": {
             "colorbar": {
              "outlinewidth": 0,
              "ticks": ""
             }
            },
            "type": "scatterpolar"
           }
          ],
          "scatterpolargl": [
           {
            "marker": {
             "colorbar": {
              "outlinewidth": 0,
              "ticks": ""
             }
            },
            "type": "scatterpolargl"
           }
          ],
          "scatterternary": [
           {
            "marker": {
             "colorbar": {
              "outlinewidth": 0,
              "ticks": ""
             }
            },
            "type": "scatterternary"
           }
          ],
          "surface": [
           {
            "colorbar": {
             "outlinewidth": 0,
             "ticks": ""
            },
            "colorscale": [
             [
              0,
              "#0d0887"
             ],
             [
              0.1111111111111111,
              "#46039f"
             ],
             [
              0.2222222222222222,
              "#7201a8"
             ],
             [
              0.3333333333333333,
              "#9c179e"
             ],
             [
              0.4444444444444444,
              "#bd3786"
             ],
             [
              0.5555555555555556,
              "#d8576b"
             ],
             [
              0.6666666666666666,
              "#ed7953"
             ],
             [
              0.7777777777777778,
              "#fb9f3a"
             ],
             [
              0.8888888888888888,
              "#fdca26"
             ],
             [
              1,
              "#f0f921"
             ]
            ],
            "type": "surface"
           }
          ],
          "table": [
           {
            "cells": {
             "fill": {
              "color": "#EBF0F8"
             },
             "line": {
              "color": "white"
             }
            },
            "header": {
             "fill": {
              "color": "#C8D4E3"
             },
             "line": {
              "color": "white"
             }
            },
            "type": "table"
           }
          ]
         },
         "layout": {
          "annotationdefaults": {
           "arrowcolor": "#2a3f5f",
           "arrowhead": 0,
           "arrowwidth": 1
          },
          "coloraxis": {
           "colorbar": {
            "outlinewidth": 0,
            "ticks": ""
           }
          },
          "colorscale": {
           "diverging": [
            [
             0,
             "#8e0152"
            ],
            [
             0.1,
             "#c51b7d"
            ],
            [
             0.2,
             "#de77ae"
            ],
            [
             0.3,
             "#f1b6da"
            ],
            [
             0.4,
             "#fde0ef"
            ],
            [
             0.5,
             "#f7f7f7"
            ],
            [
             0.6,
             "#e6f5d0"
            ],
            [
             0.7,
             "#b8e186"
            ],
            [
             0.8,
             "#7fbc41"
            ],
            [
             0.9,
             "#4d9221"
            ],
            [
             1,
             "#276419"
            ]
           ],
           "sequential": [
            [
             0,
             "#0d0887"
            ],
            [
             0.1111111111111111,
             "#46039f"
            ],
            [
             0.2222222222222222,
             "#7201a8"
            ],
            [
             0.3333333333333333,
             "#9c179e"
            ],
            [
             0.4444444444444444,
             "#bd3786"
            ],
            [
             0.5555555555555556,
             "#d8576b"
            ],
            [
             0.6666666666666666,
             "#ed7953"
            ],
            [
             0.7777777777777778,
             "#fb9f3a"
            ],
            [
             0.8888888888888888,
             "#fdca26"
            ],
            [
             1,
             "#f0f921"
            ]
           ],
           "sequentialminus": [
            [
             0,
             "#0d0887"
            ],
            [
             0.1111111111111111,
             "#46039f"
            ],
            [
             0.2222222222222222,
             "#7201a8"
            ],
            [
             0.3333333333333333,
             "#9c179e"
            ],
            [
             0.4444444444444444,
             "#bd3786"
            ],
            [
             0.5555555555555556,
             "#d8576b"
            ],
            [
             0.6666666666666666,
             "#ed7953"
            ],
            [
             0.7777777777777778,
             "#fb9f3a"
            ],
            [
             0.8888888888888888,
             "#fdca26"
            ],
            [
             1,
             "#f0f921"
            ]
           ]
          },
          "colorway": [
           "#636efa",
           "#EF553B",
           "#00cc96",
           "#ab63fa",
           "#FFA15A",
           "#19d3f3",
           "#FF6692",
           "#B6E880",
           "#FF97FF",
           "#FECB52"
          ],
          "font": {
           "color": "#2a3f5f"
          },
          "geo": {
           "bgcolor": "white",
           "lakecolor": "white",
           "landcolor": "#E5ECF6",
           "showlakes": true,
           "showland": true,
           "subunitcolor": "white"
          },
          "hoverlabel": {
           "align": "left"
          },
          "hovermode": "closest",
          "mapbox": {
           "style": "light"
          },
          "paper_bgcolor": "white",
          "plot_bgcolor": "#E5ECF6",
          "polar": {
           "angularaxis": {
            "gridcolor": "white",
            "linecolor": "white",
            "ticks": ""
           },
           "bgcolor": "#E5ECF6",
           "radialaxis": {
            "gridcolor": "white",
            "linecolor": "white",
            "ticks": ""
           }
          },
          "scene": {
           "xaxis": {
            "backgroundcolor": "#E5ECF6",
            "gridcolor": "white",
            "gridwidth": 2,
            "linecolor": "white",
            "showbackground": true,
            "ticks": "",
            "zerolinecolor": "white"
           },
           "yaxis": {
            "backgroundcolor": "#E5ECF6",
            "gridcolor": "white",
            "gridwidth": 2,
            "linecolor": "white",
            "showbackground": true,
            "ticks": "",
            "zerolinecolor": "white"
           },
           "zaxis": {
            "backgroundcolor": "#E5ECF6",
            "gridcolor": "white",
            "gridwidth": 2,
            "linecolor": "white",
            "showbackground": true,
            "ticks": "",
            "zerolinecolor": "white"
           }
          },
          "shapedefaults": {
           "line": {
            "color": "#2a3f5f"
           }
          },
          "ternary": {
           "aaxis": {
            "gridcolor": "white",
            "linecolor": "white",
            "ticks": ""
           },
           "baxis": {
            "gridcolor": "white",
            "linecolor": "white",
            "ticks": ""
           },
           "bgcolor": "#E5ECF6",
           "caxis": {
            "gridcolor": "white",
            "linecolor": "white",
            "ticks": ""
           }
          },
          "title": {
           "x": 0.05
          },
          "xaxis": {
           "automargin": true,
           "gridcolor": "white",
           "linecolor": "white",
           "ticks": "",
           "title": {
            "standoff": 15
           },
           "zerolinecolor": "white",
           "zerolinewidth": 2
          },
          "yaxis": {
           "automargin": true,
           "gridcolor": "white",
           "linecolor": "white",
           "ticks": "",
           "title": {
            "standoff": 15
           },
           "zerolinecolor": "white",
           "zerolinewidth": 2
          }
         }
        },
        "title": {
         "text": "Confirmed Cases based on Age of Patients"
        },
        "width": 800,
        "xaxis": {
         "anchor": "y",
         "domain": [
          0,
          1
         ],
         "title": {
          "text": "Age Group"
         }
        },
        "yaxis": {
         "anchor": "x",
         "domain": [
          0,
          1
         ],
         "title": {
          "text": "Confirmed"
         }
        }
       }
      },
      "text/html": [
       "<div>\n",
       "        \n",
       "        \n",
       "            <div id=\"4ab0e577-ec63-4d48-b534-85cb38131f51\" class=\"plotly-graph-div\" style=\"height:500px; width:800px;\"></div>\n",
       "            <script type=\"text/javascript\">\n",
       "                require([\"plotly\"], function(Plotly) {\n",
       "                    window.PLOTLYENV=window.PLOTLYENV || {};\n",
       "                    \n",
       "                if (document.getElementById(\"4ab0e577-ec63-4d48-b534-85cb38131f51\")) {\n",
       "                    Plotly.newPlot(\n",
       "                        '4ab0e577-ec63-4d48-b534-85cb38131f51',\n",
       "                        [{\"alignmentgroup\": \"True\", \"hovertemplate\": \"Age Group=%{x}<br>Confirmed=%{y}<extra></extra>\", \"legendgroup\": \"\", \"marker\": {\"color\": \"purple\"}, \"name\": \"\", \"offsetgroup\": \"\", \"orientation\": \"v\", \"showlegend\": false, \"textposition\": \"auto\", \"type\": \"bar\", \"x\": [\"12-20\", \"20-40\", \"3-12\", \"40-60\", \"60+\", \"<3\"], \"xaxis\": \"x\", \"y\": [31, 184, 18, 104, 54, 4], \"yaxis\": \"y\"}],\n",
       "                        {\"barmode\": \"relative\", \"height\": 500, \"legend\": {\"tracegroupgap\": 0}, \"template\": {\"data\": {\"bar\": [{\"error_x\": {\"color\": \"#2a3f5f\"}, \"error_y\": {\"color\": \"#2a3f5f\"}, \"marker\": {\"line\": {\"color\": \"#E5ECF6\", \"width\": 0.5}}, \"type\": \"bar\"}], \"barpolar\": [{\"marker\": {\"line\": {\"color\": \"#E5ECF6\", \"width\": 0.5}}, \"type\": \"barpolar\"}], \"carpet\": [{\"aaxis\": {\"endlinecolor\": \"#2a3f5f\", \"gridcolor\": \"white\", \"linecolor\": \"white\", \"minorgridcolor\": \"white\", \"startlinecolor\": \"#2a3f5f\"}, \"baxis\": {\"endlinecolor\": \"#2a3f5f\", \"gridcolor\": \"white\", \"linecolor\": \"white\", \"minorgridcolor\": \"white\", \"startlinecolor\": \"#2a3f5f\"}, \"type\": \"carpet\"}], \"choropleth\": [{\"colorbar\": {\"outlinewidth\": 0, \"ticks\": \"\"}, \"type\": \"choropleth\"}], \"contour\": [{\"colorbar\": {\"outlinewidth\": 0, \"ticks\": \"\"}, \"colorscale\": [[0.0, \"#0d0887\"], [0.1111111111111111, \"#46039f\"], [0.2222222222222222, \"#7201a8\"], [0.3333333333333333, \"#9c179e\"], [0.4444444444444444, \"#bd3786\"], [0.5555555555555556, \"#d8576b\"], [0.6666666666666666, \"#ed7953\"], [0.7777777777777778, \"#fb9f3a\"], [0.8888888888888888, \"#fdca26\"], [1.0, \"#f0f921\"]], \"type\": \"contour\"}], \"contourcarpet\": [{\"colorbar\": {\"outlinewidth\": 0, \"ticks\": \"\"}, \"type\": \"contourcarpet\"}], \"heatmap\": [{\"colorbar\": {\"outlinewidth\": 0, \"ticks\": \"\"}, \"colorscale\": [[0.0, \"#0d0887\"], [0.1111111111111111, \"#46039f\"], [0.2222222222222222, \"#7201a8\"], [0.3333333333333333, \"#9c179e\"], [0.4444444444444444, \"#bd3786\"], [0.5555555555555556, \"#d8576b\"], [0.6666666666666666, \"#ed7953\"], [0.7777777777777778, \"#fb9f3a\"], [0.8888888888888888, \"#fdca26\"], [1.0, \"#f0f921\"]], \"type\": \"heatmap\"}], \"heatmapgl\": [{\"colorbar\": {\"outlinewidth\": 0, \"ticks\": \"\"}, \"colorscale\": [[0.0, \"#0d0887\"], [0.1111111111111111, \"#46039f\"], [0.2222222222222222, \"#7201a8\"], [0.3333333333333333, \"#9c179e\"], [0.4444444444444444, \"#bd3786\"], [0.5555555555555556, \"#d8576b\"], [0.6666666666666666, \"#ed7953\"], [0.7777777777777778, \"#fb9f3a\"], [0.8888888888888888, \"#fdca26\"], [1.0, \"#f0f921\"]], \"type\": \"heatmapgl\"}], \"histogram\": [{\"marker\": {\"colorbar\": {\"outlinewidth\": 0, \"ticks\": \"\"}}, \"type\": \"histogram\"}], \"histogram2d\": [{\"colorbar\": {\"outlinewidth\": 0, \"ticks\": \"\"}, \"colorscale\": [[0.0, \"#0d0887\"], [0.1111111111111111, \"#46039f\"], [0.2222222222222222, \"#7201a8\"], [0.3333333333333333, \"#9c179e\"], [0.4444444444444444, \"#bd3786\"], [0.5555555555555556, \"#d8576b\"], [0.6666666666666666, \"#ed7953\"], [0.7777777777777778, \"#fb9f3a\"], [0.8888888888888888, \"#fdca26\"], [1.0, \"#f0f921\"]], \"type\": \"histogram2d\"}], \"histogram2dcontour\": [{\"colorbar\": {\"outlinewidth\": 0, \"ticks\": \"\"}, \"colorscale\": [[0.0, \"#0d0887\"], [0.1111111111111111, \"#46039f\"], [0.2222222222222222, \"#7201a8\"], [0.3333333333333333, \"#9c179e\"], [0.4444444444444444, \"#bd3786\"], [0.5555555555555556, \"#d8576b\"], [0.6666666666666666, \"#ed7953\"], [0.7777777777777778, \"#fb9f3a\"], [0.8888888888888888, \"#fdca26\"], [1.0, \"#f0f921\"]], \"type\": \"histogram2dcontour\"}], \"mesh3d\": [{\"colorbar\": {\"outlinewidth\": 0, \"ticks\": \"\"}, \"type\": \"mesh3d\"}], \"parcoords\": [{\"line\": {\"colorbar\": {\"outlinewidth\": 0, \"ticks\": \"\"}}, \"type\": \"parcoords\"}], \"pie\": [{\"automargin\": true, \"type\": \"pie\"}], \"scatter\": [{\"marker\": {\"colorbar\": {\"outlinewidth\": 0, \"ticks\": \"\"}}, \"type\": \"scatter\"}], \"scatter3d\": [{\"line\": {\"colorbar\": {\"outlinewidth\": 0, \"ticks\": \"\"}}, \"marker\": {\"colorbar\": {\"outlinewidth\": 0, \"ticks\": \"\"}}, \"type\": \"scatter3d\"}], \"scattercarpet\": [{\"marker\": {\"colorbar\": {\"outlinewidth\": 0, \"ticks\": \"\"}}, \"type\": \"scattercarpet\"}], \"scattergeo\": [{\"marker\": {\"colorbar\": {\"outlinewidth\": 0, \"ticks\": \"\"}}, \"type\": \"scattergeo\"}], \"scattergl\": [{\"marker\": {\"colorbar\": {\"outlinewidth\": 0, \"ticks\": \"\"}}, \"type\": \"scattergl\"}], \"scattermapbox\": [{\"marker\": {\"colorbar\": {\"outlinewidth\": 0, \"ticks\": \"\"}}, \"type\": \"scattermapbox\"}], \"scatterpolar\": [{\"marker\": {\"colorbar\": {\"outlinewidth\": 0, \"ticks\": \"\"}}, \"type\": \"scatterpolar\"}], \"scatterpolargl\": [{\"marker\": {\"colorbar\": {\"outlinewidth\": 0, \"ticks\": \"\"}}, \"type\": \"scatterpolargl\"}], \"scatterternary\": [{\"marker\": {\"colorbar\": {\"outlinewidth\": 0, \"ticks\": \"\"}}, \"type\": \"scatterternary\"}], \"surface\": [{\"colorbar\": {\"outlinewidth\": 0, \"ticks\": \"\"}, \"colorscale\": [[0.0, \"#0d0887\"], [0.1111111111111111, \"#46039f\"], [0.2222222222222222, \"#7201a8\"], [0.3333333333333333, \"#9c179e\"], [0.4444444444444444, \"#bd3786\"], [0.5555555555555556, \"#d8576b\"], [0.6666666666666666, \"#ed7953\"], [0.7777777777777778, \"#fb9f3a\"], [0.8888888888888888, \"#fdca26\"], [1.0, \"#f0f921\"]], \"type\": \"surface\"}], \"table\": [{\"cells\": {\"fill\": {\"color\": \"#EBF0F8\"}, \"line\": {\"color\": \"white\"}}, \"header\": {\"fill\": {\"color\": \"#C8D4E3\"}, \"line\": {\"color\": \"white\"}}, \"type\": \"table\"}]}, \"layout\": {\"annotationdefaults\": {\"arrowcolor\": \"#2a3f5f\", \"arrowhead\": 0, \"arrowwidth\": 1}, \"coloraxis\": {\"colorbar\": {\"outlinewidth\": 0, \"ticks\": \"\"}}, \"colorscale\": {\"diverging\": [[0, \"#8e0152\"], [0.1, \"#c51b7d\"], [0.2, \"#de77ae\"], [0.3, \"#f1b6da\"], [0.4, \"#fde0ef\"], [0.5, \"#f7f7f7\"], [0.6, \"#e6f5d0\"], [0.7, \"#b8e186\"], [0.8, \"#7fbc41\"], [0.9, \"#4d9221\"], [1, \"#276419\"]], \"sequential\": [[0.0, \"#0d0887\"], [0.1111111111111111, \"#46039f\"], [0.2222222222222222, \"#7201a8\"], [0.3333333333333333, \"#9c179e\"], [0.4444444444444444, \"#bd3786\"], [0.5555555555555556, \"#d8576b\"], [0.6666666666666666, \"#ed7953\"], [0.7777777777777778, \"#fb9f3a\"], [0.8888888888888888, \"#fdca26\"], [1.0, \"#f0f921\"]], \"sequentialminus\": [[0.0, \"#0d0887\"], [0.1111111111111111, \"#46039f\"], [0.2222222222222222, \"#7201a8\"], [0.3333333333333333, \"#9c179e\"], [0.4444444444444444, \"#bd3786\"], [0.5555555555555556, \"#d8576b\"], [0.6666666666666666, \"#ed7953\"], [0.7777777777777778, \"#fb9f3a\"], [0.8888888888888888, \"#fdca26\"], [1.0, \"#f0f921\"]]}, \"colorway\": [\"#636efa\", \"#EF553B\", \"#00cc96\", \"#ab63fa\", \"#FFA15A\", \"#19d3f3\", \"#FF6692\", \"#B6E880\", \"#FF97FF\", \"#FECB52\"], \"font\": {\"color\": \"#2a3f5f\"}, \"geo\": {\"bgcolor\": \"white\", \"lakecolor\": \"white\", \"landcolor\": \"#E5ECF6\", \"showlakes\": true, \"showland\": true, \"subunitcolor\": \"white\"}, \"hoverlabel\": {\"align\": \"left\"}, \"hovermode\": \"closest\", \"mapbox\": {\"style\": \"light\"}, \"paper_bgcolor\": \"white\", \"plot_bgcolor\": \"#E5ECF6\", \"polar\": {\"angularaxis\": {\"gridcolor\": \"white\", \"linecolor\": \"white\", \"ticks\": \"\"}, \"bgcolor\": \"#E5ECF6\", \"radialaxis\": {\"gridcolor\": \"white\", \"linecolor\": \"white\", \"ticks\": \"\"}}, \"scene\": {\"xaxis\": {\"backgroundcolor\": \"#E5ECF6\", \"gridcolor\": \"white\", \"gridwidth\": 2, \"linecolor\": \"white\", \"showbackground\": true, \"ticks\": \"\", \"zerolinecolor\": \"white\"}, \"yaxis\": {\"backgroundcolor\": \"#E5ECF6\", \"gridcolor\": \"white\", \"gridwidth\": 2, \"linecolor\": \"white\", \"showbackground\": true, \"ticks\": \"\", \"zerolinecolor\": \"white\"}, \"zaxis\": {\"backgroundcolor\": \"#E5ECF6\", \"gridcolor\": \"white\", \"gridwidth\": 2, \"linecolor\": \"white\", \"showbackground\": true, \"ticks\": \"\", \"zerolinecolor\": \"white\"}}, \"shapedefaults\": {\"line\": {\"color\": \"#2a3f5f\"}}, \"ternary\": {\"aaxis\": {\"gridcolor\": \"white\", \"linecolor\": \"white\", \"ticks\": \"\"}, \"baxis\": {\"gridcolor\": \"white\", \"linecolor\": \"white\", \"ticks\": \"\"}, \"bgcolor\": \"#E5ECF6\", \"caxis\": {\"gridcolor\": \"white\", \"linecolor\": \"white\", \"ticks\": \"\"}}, \"title\": {\"x\": 0.05}, \"xaxis\": {\"automargin\": true, \"gridcolor\": \"white\", \"linecolor\": \"white\", \"ticks\": \"\", \"title\": {\"standoff\": 15}, \"zerolinecolor\": \"white\", \"zerolinewidth\": 2}, \"yaxis\": {\"automargin\": true, \"gridcolor\": \"white\", \"linecolor\": \"white\", \"ticks\": \"\", \"title\": {\"standoff\": 15}, \"zerolinecolor\": \"white\", \"zerolinewidth\": 2}}}, \"title\": {\"text\": \"Confirmed Cases based on Age of Patients\"}, \"width\": 800, \"xaxis\": {\"anchor\": \"y\", \"domain\": [0.0, 1.0], \"title\": {\"text\": \"Age Group\"}}, \"yaxis\": {\"anchor\": \"x\", \"domain\": [0.0, 1.0], \"title\": {\"text\": \"Confirmed\"}}},\n",
       "                        {\"responsive\": true}\n",
       "                    ).then(function(){\n",
       "                            \n",
       "var gd = document.getElementById('4ab0e577-ec63-4d48-b534-85cb38131f51');\n",
       "var x = new MutationObserver(function (mutations, observer) {{\n",
       "        var display = window.getComputedStyle(gd).display;\n",
       "        if (!display || display === 'none') {{\n",
       "            console.log([gd, 'removed!']);\n",
       "            Plotly.purge(gd);\n",
       "            observer.disconnect();\n",
       "        }}\n",
       "}});\n",
       "\n",
       "// Listen for the removal of the full notebook cells\n",
       "var notebookContainer = gd.closest('#notebook-container');\n",
       "if (notebookContainer) {{\n",
       "    x.observe(notebookContainer, {childList: true});\n",
       "}}\n",
       "\n",
       "// Listen for the clearing of the current output cell\n",
       "var outputEl = gd.closest('.output');\n",
       "if (outputEl) {{\n",
       "    x.observe(outputEl, {childList: true});\n",
       "}}\n",
       "\n",
       "                        })\n",
       "                };\n",
       "                });\n",
       "            </script>\n",
       "        </div>"
      ]
     },
     "metadata": {},
     "output_type": "display_data"
    }
   ],
   "source": [
    "\n",
    "#ageGroup=rawCases.groupby(by='AgeRange')\n",
    "#ageGroup.AgeRange.count().plot(kind='bar');\n",
    "\n",
    "ageGroup=rawCases.groupby(by='AgeRange').size().reset_index(name='count')\n",
    "ageGroup=ageGroup.rename(columns={'AgeRange':'Age Group','count':'Confirmed'})\n",
    "\n",
    "\n",
    "px.bar(\n",
    "    ageGroup,\n",
    "    x = \"Age Group\",\n",
    "    y = \"Confirmed\",\n",
    "    title= \"Confirmed Cases based on Age of Patients\", # the axis names\n",
    "    color_discrete_sequence=[\"purple\"], \n",
    "    height=500,\n",
    "    width=800\n",
    ")\n"
   ]
  },
  {
   "cell_type": "code",
   "execution_count": 146,
   "metadata": {},
   "outputs": [],
   "source": [
    "districtData=rawCases.groupby(by='Location').size().reset_index(name='count')"
   ]
  },
  {
   "cell_type": "code",
   "execution_count": 147,
   "metadata": {},
   "outputs": [],
   "source": [
    "sortedDistrict=districtData.sort_values(by='count',ascending=False)\n",
    "sortedDistrict=sortedDistrict.rename(columns={'Location':'Districts','count':'Confirmed'})"
   ]
  },
  {
   "cell_type": "code",
   "execution_count": 148,
   "metadata": {},
   "outputs": [
    {
     "data": {
      "application/vnd.plotly.v1+json": {
       "config": {
        "plotlyServerURL": "https://plot.ly"
       },
       "data": [
        {
         "hovertemplate": "<b>%{hovertext}</b><br><br>Districts=%{x}<br>Confirmed=%{marker.size}<extra></extra>",
         "hovertext": [
          "Bengaluru"
         ],
         "legendgroup": "Bengaluru",
         "marker": {
          "color": "#636efa",
          "size": [
           96
          ],
          "sizemode": "area",
          "sizeref": 0.02666666666666667,
          "symbol": "circle"
         },
         "mode": "markers",
         "name": "Bengaluru",
         "showlegend": true,
         "type": "scatter",
         "x": [
          "Bengaluru"
         ],
         "xaxis": "x",
         "y": [
          96
         ],
         "yaxis": "y"
        },
        {
         "hovertemplate": "<b>%{hovertext}</b><br><br>Districts=%{x}<br>Confirmed=%{marker.size}<extra></extra>",
         "hovertext": [
          "Mysuru"
         ],
         "legendgroup": "Mysuru",
         "marker": {
          "color": "#EF553B",
          "size": [
           84
          ],
          "sizemode": "area",
          "sizeref": 0.02666666666666667,
          "symbol": "circle"
         },
         "mode": "markers",
         "name": "Mysuru",
         "showlegend": true,
         "type": "scatter",
         "x": [
          "Mysuru"
         ],
         "xaxis": "x",
         "y": [
          84
         ],
         "yaxis": "y"
        },
        {
         "hovertemplate": "<b>%{hovertext}</b><br><br>Districts=%{x}<br>Confirmed=%{marker.size}<extra></extra>",
         "hovertext": [
          "Belagavi"
         ],
         "legendgroup": "Belagavi",
         "marker": {
          "color": "#00cc96",
          "size": [
           42
          ],
          "sizemode": "area",
          "sizeref": 0.02666666666666667,
          "symbol": "circle"
         },
         "mode": "markers",
         "name": "Belagavi",
         "showlegend": true,
         "type": "scatter",
         "x": [
          "Belagavi"
         ],
         "xaxis": "x",
         "y": [
          42
         ],
         "yaxis": "y"
        },
        {
         "hovertemplate": "<b>%{hovertext}</b><br><br>Districts=%{x}<br>Confirmed=%{marker.size}<extra></extra>",
         "hovertext": [
          "Kalaburagi"
         ],
         "legendgroup": "Kalaburagi",
         "marker": {
          "color": "#ab63fa",
          "size": [
           27
          ],
          "sizemode": "area",
          "sizeref": 0.02666666666666667,
          "symbol": "circle"
         },
         "mode": "markers",
         "name": "Kalaburagi",
         "showlegend": true,
         "type": "scatter",
         "x": [
          "Kalaburagi"
         ],
         "xaxis": "x",
         "y": [
          27
         ],
         "yaxis": "y"
        },
        {
         "hovertemplate": "<b>%{hovertext}</b><br><br>Districts=%{x}<br>Confirmed=%{marker.size}<extra></extra>",
         "hovertext": [
          "Bagalkote"
         ],
         "legendgroup": "Bagalkote",
         "marker": {
          "color": "#FFA15A",
          "size": [
           21
          ],
          "sizemode": "area",
          "sizeref": 0.02666666666666667,
          "symbol": "circle"
         },
         "mode": "markers",
         "name": "Bagalkote",
         "showlegend": true,
         "type": "scatter",
         "x": [
          "Bagalkote"
         ],
         "xaxis": "x",
         "y": [
          21
         ],
         "yaxis": "y"
        }
       ],
       "layout": {
        "legend": {
         "itemsizing": "constant",
         "title": {
          "text": "Districts"
         },
         "tracegroupgap": 0
        },
        "margin": {
         "t": 60
        },
        "template": {
         "data": {
          "bar": [
           {
            "error_x": {
             "color": "#2a3f5f"
            },
            "error_y": {
             "color": "#2a3f5f"
            },
            "marker": {
             "line": {
              "color": "#E5ECF6",
              "width": 0.5
             }
            },
            "type": "bar"
           }
          ],
          "barpolar": [
           {
            "marker": {
             "line": {
              "color": "#E5ECF6",
              "width": 0.5
             }
            },
            "type": "barpolar"
           }
          ],
          "carpet": [
           {
            "aaxis": {
             "endlinecolor": "#2a3f5f",
             "gridcolor": "white",
             "linecolor": "white",
             "minorgridcolor": "white",
             "startlinecolor": "#2a3f5f"
            },
            "baxis": {
             "endlinecolor": "#2a3f5f",
             "gridcolor": "white",
             "linecolor": "white",
             "minorgridcolor": "white",
             "startlinecolor": "#2a3f5f"
            },
            "type": "carpet"
           }
          ],
          "choropleth": [
           {
            "colorbar": {
             "outlinewidth": 0,
             "ticks": ""
            },
            "type": "choropleth"
           }
          ],
          "contour": [
           {
            "colorbar": {
             "outlinewidth": 0,
             "ticks": ""
            },
            "colorscale": [
             [
              0,
              "#0d0887"
             ],
             [
              0.1111111111111111,
              "#46039f"
             ],
             [
              0.2222222222222222,
              "#7201a8"
             ],
             [
              0.3333333333333333,
              "#9c179e"
             ],
             [
              0.4444444444444444,
              "#bd3786"
             ],
             [
              0.5555555555555556,
              "#d8576b"
             ],
             [
              0.6666666666666666,
              "#ed7953"
             ],
             [
              0.7777777777777778,
              "#fb9f3a"
             ],
             [
              0.8888888888888888,
              "#fdca26"
             ],
             [
              1,
              "#f0f921"
             ]
            ],
            "type": "contour"
           }
          ],
          "contourcarpet": [
           {
            "colorbar": {
             "outlinewidth": 0,
             "ticks": ""
            },
            "type": "contourcarpet"
           }
          ],
          "heatmap": [
           {
            "colorbar": {
             "outlinewidth": 0,
             "ticks": ""
            },
            "colorscale": [
             [
              0,
              "#0d0887"
             ],
             [
              0.1111111111111111,
              "#46039f"
             ],
             [
              0.2222222222222222,
              "#7201a8"
             ],
             [
              0.3333333333333333,
              "#9c179e"
             ],
             [
              0.4444444444444444,
              "#bd3786"
             ],
             [
              0.5555555555555556,
              "#d8576b"
             ],
             [
              0.6666666666666666,
              "#ed7953"
             ],
             [
              0.7777777777777778,
              "#fb9f3a"
             ],
             [
              0.8888888888888888,
              "#fdca26"
             ],
             [
              1,
              "#f0f921"
             ]
            ],
            "type": "heatmap"
           }
          ],
          "heatmapgl": [
           {
            "colorbar": {
             "outlinewidth": 0,
             "ticks": ""
            },
            "colorscale": [
             [
              0,
              "#0d0887"
             ],
             [
              0.1111111111111111,
              "#46039f"
             ],
             [
              0.2222222222222222,
              "#7201a8"
             ],
             [
              0.3333333333333333,
              "#9c179e"
             ],
             [
              0.4444444444444444,
              "#bd3786"
             ],
             [
              0.5555555555555556,
              "#d8576b"
             ],
             [
              0.6666666666666666,
              "#ed7953"
             ],
             [
              0.7777777777777778,
              "#fb9f3a"
             ],
             [
              0.8888888888888888,
              "#fdca26"
             ],
             [
              1,
              "#f0f921"
             ]
            ],
            "type": "heatmapgl"
           }
          ],
          "histogram": [
           {
            "marker": {
             "colorbar": {
              "outlinewidth": 0,
              "ticks": ""
             }
            },
            "type": "histogram"
           }
          ],
          "histogram2d": [
           {
            "colorbar": {
             "outlinewidth": 0,
             "ticks": ""
            },
            "colorscale": [
             [
              0,
              "#0d0887"
             ],
             [
              0.1111111111111111,
              "#46039f"
             ],
             [
              0.2222222222222222,
              "#7201a8"
             ],
             [
              0.3333333333333333,
              "#9c179e"
             ],
             [
              0.4444444444444444,
              "#bd3786"
             ],
             [
              0.5555555555555556,
              "#d8576b"
             ],
             [
              0.6666666666666666,
              "#ed7953"
             ],
             [
              0.7777777777777778,
              "#fb9f3a"
             ],
             [
              0.8888888888888888,
              "#fdca26"
             ],
             [
              1,
              "#f0f921"
             ]
            ],
            "type": "histogram2d"
           }
          ],
          "histogram2dcontour": [
           {
            "colorbar": {
             "outlinewidth": 0,
             "ticks": ""
            },
            "colorscale": [
             [
              0,
              "#0d0887"
             ],
             [
              0.1111111111111111,
              "#46039f"
             ],
             [
              0.2222222222222222,
              "#7201a8"
             ],
             [
              0.3333333333333333,
              "#9c179e"
             ],
             [
              0.4444444444444444,
              "#bd3786"
             ],
             [
              0.5555555555555556,
              "#d8576b"
             ],
             [
              0.6666666666666666,
              "#ed7953"
             ],
             [
              0.7777777777777778,
              "#fb9f3a"
             ],
             [
              0.8888888888888888,
              "#fdca26"
             ],
             [
              1,
              "#f0f921"
             ]
            ],
            "type": "histogram2dcontour"
           }
          ],
          "mesh3d": [
           {
            "colorbar": {
             "outlinewidth": 0,
             "ticks": ""
            },
            "type": "mesh3d"
           }
          ],
          "parcoords": [
           {
            "line": {
             "colorbar": {
              "outlinewidth": 0,
              "ticks": ""
             }
            },
            "type": "parcoords"
           }
          ],
          "pie": [
           {
            "automargin": true,
            "type": "pie"
           }
          ],
          "scatter": [
           {
            "marker": {
             "colorbar": {
              "outlinewidth": 0,
              "ticks": ""
             }
            },
            "type": "scatter"
           }
          ],
          "scatter3d": [
           {
            "line": {
             "colorbar": {
              "outlinewidth": 0,
              "ticks": ""
             }
            },
            "marker": {
             "colorbar": {
              "outlinewidth": 0,
              "ticks": ""
             }
            },
            "type": "scatter3d"
           }
          ],
          "scattercarpet": [
           {
            "marker": {
             "colorbar": {
              "outlinewidth": 0,
              "ticks": ""
             }
            },
            "type": "scattercarpet"
           }
          ],
          "scattergeo": [
           {
            "marker": {
             "colorbar": {
              "outlinewidth": 0,
              "ticks": ""
             }
            },
            "type": "scattergeo"
           }
          ],
          "scattergl": [
           {
            "marker": {
             "colorbar": {
              "outlinewidth": 0,
              "ticks": ""
             }
            },
            "type": "scattergl"
           }
          ],
          "scattermapbox": [
           {
            "marker": {
             "colorbar": {
              "outlinewidth": 0,
              "ticks": ""
             }
            },
            "type": "scattermapbox"
           }
          ],
          "scatterpolar": [
           {
            "marker": {
             "colorbar": {
              "outlinewidth": 0,
              "ticks": ""
             }
            },
            "type": "scatterpolar"
           }
          ],
          "scatterpolargl": [
           {
            "marker": {
             "colorbar": {
              "outlinewidth": 0,
              "ticks": ""
             }
            },
            "type": "scatterpolargl"
           }
          ],
          "scatterternary": [
           {
            "marker": {
             "colorbar": {
              "outlinewidth": 0,
              "ticks": ""
             }
            },
            "type": "scatterternary"
           }
          ],
          "surface": [
           {
            "colorbar": {
             "outlinewidth": 0,
             "ticks": ""
            },
            "colorscale": [
             [
              0,
              "#0d0887"
             ],
             [
              0.1111111111111111,
              "#46039f"
             ],
             [
              0.2222222222222222,
              "#7201a8"
             ],
             [
              0.3333333333333333,
              "#9c179e"
             ],
             [
              0.4444444444444444,
              "#bd3786"
             ],
             [
              0.5555555555555556,
              "#d8576b"
             ],
             [
              0.6666666666666666,
              "#ed7953"
             ],
             [
              0.7777777777777778,
              "#fb9f3a"
             ],
             [
              0.8888888888888888,
              "#fdca26"
             ],
             [
              1,
              "#f0f921"
             ]
            ],
            "type": "surface"
           }
          ],
          "table": [
           {
            "cells": {
             "fill": {
              "color": "#EBF0F8"
             },
             "line": {
              "color": "white"
             }
            },
            "header": {
             "fill": {
              "color": "#C8D4E3"
             },
             "line": {
              "color": "white"
             }
            },
            "type": "table"
           }
          ]
         },
         "layout": {
          "annotationdefaults": {
           "arrowcolor": "#2a3f5f",
           "arrowhead": 0,
           "arrowwidth": 1
          },
          "coloraxis": {
           "colorbar": {
            "outlinewidth": 0,
            "ticks": ""
           }
          },
          "colorscale": {
           "diverging": [
            [
             0,
             "#8e0152"
            ],
            [
             0.1,
             "#c51b7d"
            ],
            [
             0.2,
             "#de77ae"
            ],
            [
             0.3,
             "#f1b6da"
            ],
            [
             0.4,
             "#fde0ef"
            ],
            [
             0.5,
             "#f7f7f7"
            ],
            [
             0.6,
             "#e6f5d0"
            ],
            [
             0.7,
             "#b8e186"
            ],
            [
             0.8,
             "#7fbc41"
            ],
            [
             0.9,
             "#4d9221"
            ],
            [
             1,
             "#276419"
            ]
           ],
           "sequential": [
            [
             0,
             "#0d0887"
            ],
            [
             0.1111111111111111,
             "#46039f"
            ],
            [
             0.2222222222222222,
             "#7201a8"
            ],
            [
             0.3333333333333333,
             "#9c179e"
            ],
            [
             0.4444444444444444,
             "#bd3786"
            ],
            [
             0.5555555555555556,
             "#d8576b"
            ],
            [
             0.6666666666666666,
             "#ed7953"
            ],
            [
             0.7777777777777778,
             "#fb9f3a"
            ],
            [
             0.8888888888888888,
             "#fdca26"
            ],
            [
             1,
             "#f0f921"
            ]
           ],
           "sequentialminus": [
            [
             0,
             "#0d0887"
            ],
            [
             0.1111111111111111,
             "#46039f"
            ],
            [
             0.2222222222222222,
             "#7201a8"
            ],
            [
             0.3333333333333333,
             "#9c179e"
            ],
            [
             0.4444444444444444,
             "#bd3786"
            ],
            [
             0.5555555555555556,
             "#d8576b"
            ],
            [
             0.6666666666666666,
             "#ed7953"
            ],
            [
             0.7777777777777778,
             "#fb9f3a"
            ],
            [
             0.8888888888888888,
             "#fdca26"
            ],
            [
             1,
             "#f0f921"
            ]
           ]
          },
          "colorway": [
           "#636efa",
           "#EF553B",
           "#00cc96",
           "#ab63fa",
           "#FFA15A",
           "#19d3f3",
           "#FF6692",
           "#B6E880",
           "#FF97FF",
           "#FECB52"
          ],
          "font": {
           "color": "#2a3f5f"
          },
          "geo": {
           "bgcolor": "white",
           "lakecolor": "white",
           "landcolor": "#E5ECF6",
           "showlakes": true,
           "showland": true,
           "subunitcolor": "white"
          },
          "hoverlabel": {
           "align": "left"
          },
          "hovermode": "closest",
          "mapbox": {
           "style": "light"
          },
          "paper_bgcolor": "white",
          "plot_bgcolor": "#E5ECF6",
          "polar": {
           "angularaxis": {
            "gridcolor": "white",
            "linecolor": "white",
            "ticks": ""
           },
           "bgcolor": "#E5ECF6",
           "radialaxis": {
            "gridcolor": "white",
            "linecolor": "white",
            "ticks": ""
           }
          },
          "scene": {
           "xaxis": {
            "backgroundcolor": "#E5ECF6",
            "gridcolor": "white",
            "gridwidth": 2,
            "linecolor": "white",
            "showbackground": true,
            "ticks": "",
            "zerolinecolor": "white"
           },
           "yaxis": {
            "backgroundcolor": "#E5ECF6",
            "gridcolor": "white",
            "gridwidth": 2,
            "linecolor": "white",
            "showbackground": true,
            "ticks": "",
            "zerolinecolor": "white"
           },
           "zaxis": {
            "backgroundcolor": "#E5ECF6",
            "gridcolor": "white",
            "gridwidth": 2,
            "linecolor": "white",
            "showbackground": true,
            "ticks": "",
            "zerolinecolor": "white"
           }
          },
          "shapedefaults": {
           "line": {
            "color": "#2a3f5f"
           }
          },
          "ternary": {
           "aaxis": {
            "gridcolor": "white",
            "linecolor": "white",
            "ticks": ""
           },
           "baxis": {
            "gridcolor": "white",
            "linecolor": "white",
            "ticks": ""
           },
           "bgcolor": "#E5ECF6",
           "caxis": {
            "gridcolor": "white",
            "linecolor": "white",
            "ticks": ""
           }
          },
          "title": {
           "x": 0.05
          },
          "xaxis": {
           "automargin": true,
           "gridcolor": "white",
           "linecolor": "white",
           "ticks": "",
           "title": {
            "standoff": 15
           },
           "zerolinecolor": "white",
           "zerolinewidth": 2
          },
          "yaxis": {
           "automargin": true,
           "gridcolor": "white",
           "linecolor": "white",
           "ticks": "",
           "title": {
            "standoff": 15
           },
           "zerolinecolor": "white",
           "zerolinewidth": 2
          }
         }
        },
        "title": {
         "text": "5 Worst hit districts in Karnataka"
        },
        "width": 700,
        "xaxis": {
         "anchor": "y",
         "categoryarray": [
          "Bengaluru",
          "Mysuru",
          "Belagavi",
          "Kalaburagi",
          "Bagalkote"
         ],
         "categoryorder": "array",
         "domain": [
          0,
          1
         ],
         "title": {
          "text": "Districts"
         }
        },
        "yaxis": {
         "anchor": "x",
         "domain": [
          0,
          1
         ],
         "title": {
          "text": "Confirmed Cases"
         }
        }
       }
      },
      "text/html": [
       "<div>\n",
       "        \n",
       "        \n",
       "            <div id=\"b4aa95d4-4708-4a7b-b390-de7394d15064\" class=\"plotly-graph-div\" style=\"height:525px; width:700px;\"></div>\n",
       "            <script type=\"text/javascript\">\n",
       "                require([\"plotly\"], function(Plotly) {\n",
       "                    window.PLOTLYENV=window.PLOTLYENV || {};\n",
       "                    \n",
       "                if (document.getElementById(\"b4aa95d4-4708-4a7b-b390-de7394d15064\")) {\n",
       "                    Plotly.newPlot(\n",
       "                        'b4aa95d4-4708-4a7b-b390-de7394d15064',\n",
       "                        [{\"hovertemplate\": \"<b>%{hovertext}</b><br><br>Districts=%{x}<br>Confirmed=%{marker.size}<extra></extra>\", \"hovertext\": [\"Bengaluru\"], \"legendgroup\": \"Bengaluru\", \"marker\": {\"color\": \"#636efa\", \"size\": [96], \"sizemode\": \"area\", \"sizeref\": 0.02666666666666667, \"symbol\": \"circle\"}, \"mode\": \"markers\", \"name\": \"Bengaluru\", \"showlegend\": true, \"type\": \"scatter\", \"x\": [\"Bengaluru\"], \"xaxis\": \"x\", \"y\": [96], \"yaxis\": \"y\"}, {\"hovertemplate\": \"<b>%{hovertext}</b><br><br>Districts=%{x}<br>Confirmed=%{marker.size}<extra></extra>\", \"hovertext\": [\"Mysuru\"], \"legendgroup\": \"Mysuru\", \"marker\": {\"color\": \"#EF553B\", \"size\": [84], \"sizemode\": \"area\", \"sizeref\": 0.02666666666666667, \"symbol\": \"circle\"}, \"mode\": \"markers\", \"name\": \"Mysuru\", \"showlegend\": true, \"type\": \"scatter\", \"x\": [\"Mysuru\"], \"xaxis\": \"x\", \"y\": [84], \"yaxis\": \"y\"}, {\"hovertemplate\": \"<b>%{hovertext}</b><br><br>Districts=%{x}<br>Confirmed=%{marker.size}<extra></extra>\", \"hovertext\": [\"Belagavi\"], \"legendgroup\": \"Belagavi\", \"marker\": {\"color\": \"#00cc96\", \"size\": [42], \"sizemode\": \"area\", \"sizeref\": 0.02666666666666667, \"symbol\": \"circle\"}, \"mode\": \"markers\", \"name\": \"Belagavi\", \"showlegend\": true, \"type\": \"scatter\", \"x\": [\"Belagavi\"], \"xaxis\": \"x\", \"y\": [42], \"yaxis\": \"y\"}, {\"hovertemplate\": \"<b>%{hovertext}</b><br><br>Districts=%{x}<br>Confirmed=%{marker.size}<extra></extra>\", \"hovertext\": [\"Kalaburagi\"], \"legendgroup\": \"Kalaburagi\", \"marker\": {\"color\": \"#ab63fa\", \"size\": [27], \"sizemode\": \"area\", \"sizeref\": 0.02666666666666667, \"symbol\": \"circle\"}, \"mode\": \"markers\", \"name\": \"Kalaburagi\", \"showlegend\": true, \"type\": \"scatter\", \"x\": [\"Kalaburagi\"], \"xaxis\": \"x\", \"y\": [27], \"yaxis\": \"y\"}, {\"hovertemplate\": \"<b>%{hovertext}</b><br><br>Districts=%{x}<br>Confirmed=%{marker.size}<extra></extra>\", \"hovertext\": [\"Bagalkote\"], \"legendgroup\": \"Bagalkote\", \"marker\": {\"color\": \"#FFA15A\", \"size\": [21], \"sizemode\": \"area\", \"sizeref\": 0.02666666666666667, \"symbol\": \"circle\"}, \"mode\": \"markers\", \"name\": \"Bagalkote\", \"showlegend\": true, \"type\": \"scatter\", \"x\": [\"Bagalkote\"], \"xaxis\": \"x\", \"y\": [21], \"yaxis\": \"y\"}],\n",
       "                        {\"legend\": {\"itemsizing\": \"constant\", \"title\": {\"text\": \"Districts\"}, \"tracegroupgap\": 0}, \"margin\": {\"t\": 60}, \"template\": {\"data\": {\"bar\": [{\"error_x\": {\"color\": \"#2a3f5f\"}, \"error_y\": {\"color\": \"#2a3f5f\"}, \"marker\": {\"line\": {\"color\": \"#E5ECF6\", \"width\": 0.5}}, \"type\": \"bar\"}], \"barpolar\": [{\"marker\": {\"line\": {\"color\": \"#E5ECF6\", \"width\": 0.5}}, \"type\": \"barpolar\"}], \"carpet\": [{\"aaxis\": {\"endlinecolor\": \"#2a3f5f\", \"gridcolor\": \"white\", \"linecolor\": \"white\", \"minorgridcolor\": \"white\", \"startlinecolor\": \"#2a3f5f\"}, \"baxis\": {\"endlinecolor\": \"#2a3f5f\", \"gridcolor\": \"white\", \"linecolor\": \"white\", \"minorgridcolor\": \"white\", \"startlinecolor\": \"#2a3f5f\"}, \"type\": \"carpet\"}], \"choropleth\": [{\"colorbar\": {\"outlinewidth\": 0, \"ticks\": \"\"}, \"type\": \"choropleth\"}], \"contour\": [{\"colorbar\": {\"outlinewidth\": 0, \"ticks\": \"\"}, \"colorscale\": [[0.0, \"#0d0887\"], [0.1111111111111111, \"#46039f\"], [0.2222222222222222, \"#7201a8\"], [0.3333333333333333, \"#9c179e\"], [0.4444444444444444, \"#bd3786\"], [0.5555555555555556, \"#d8576b\"], [0.6666666666666666, \"#ed7953\"], [0.7777777777777778, \"#fb9f3a\"], [0.8888888888888888, \"#fdca26\"], [1.0, \"#f0f921\"]], \"type\": \"contour\"}], \"contourcarpet\": [{\"colorbar\": {\"outlinewidth\": 0, \"ticks\": \"\"}, \"type\": \"contourcarpet\"}], \"heatmap\": [{\"colorbar\": {\"outlinewidth\": 0, \"ticks\": \"\"}, \"colorscale\": [[0.0, \"#0d0887\"], [0.1111111111111111, \"#46039f\"], [0.2222222222222222, \"#7201a8\"], [0.3333333333333333, \"#9c179e\"], [0.4444444444444444, \"#bd3786\"], [0.5555555555555556, \"#d8576b\"], [0.6666666666666666, \"#ed7953\"], [0.7777777777777778, \"#fb9f3a\"], [0.8888888888888888, \"#fdca26\"], [1.0, \"#f0f921\"]], \"type\": \"heatmap\"}], \"heatmapgl\": [{\"colorbar\": {\"outlinewidth\": 0, \"ticks\": \"\"}, \"colorscale\": [[0.0, \"#0d0887\"], [0.1111111111111111, \"#46039f\"], [0.2222222222222222, \"#7201a8\"], [0.3333333333333333, \"#9c179e\"], [0.4444444444444444, \"#bd3786\"], [0.5555555555555556, \"#d8576b\"], [0.6666666666666666, \"#ed7953\"], [0.7777777777777778, \"#fb9f3a\"], [0.8888888888888888, \"#fdca26\"], [1.0, \"#f0f921\"]], \"type\": \"heatmapgl\"}], \"histogram\": [{\"marker\": {\"colorbar\": {\"outlinewidth\": 0, \"ticks\": \"\"}}, \"type\": \"histogram\"}], \"histogram2d\": [{\"colorbar\": {\"outlinewidth\": 0, \"ticks\": \"\"}, \"colorscale\": [[0.0, \"#0d0887\"], [0.1111111111111111, \"#46039f\"], [0.2222222222222222, \"#7201a8\"], [0.3333333333333333, \"#9c179e\"], [0.4444444444444444, \"#bd3786\"], [0.5555555555555556, \"#d8576b\"], [0.6666666666666666, \"#ed7953\"], [0.7777777777777778, \"#fb9f3a\"], [0.8888888888888888, \"#fdca26\"], [1.0, \"#f0f921\"]], \"type\": \"histogram2d\"}], \"histogram2dcontour\": [{\"colorbar\": {\"outlinewidth\": 0, \"ticks\": \"\"}, \"colorscale\": [[0.0, \"#0d0887\"], [0.1111111111111111, \"#46039f\"], [0.2222222222222222, \"#7201a8\"], [0.3333333333333333, \"#9c179e\"], [0.4444444444444444, \"#bd3786\"], [0.5555555555555556, \"#d8576b\"], [0.6666666666666666, \"#ed7953\"], [0.7777777777777778, \"#fb9f3a\"], [0.8888888888888888, \"#fdca26\"], [1.0, \"#f0f921\"]], \"type\": \"histogram2dcontour\"}], \"mesh3d\": [{\"colorbar\": {\"outlinewidth\": 0, \"ticks\": \"\"}, \"type\": \"mesh3d\"}], \"parcoords\": [{\"line\": {\"colorbar\": {\"outlinewidth\": 0, \"ticks\": \"\"}}, \"type\": \"parcoords\"}], \"pie\": [{\"automargin\": true, \"type\": \"pie\"}], \"scatter\": [{\"marker\": {\"colorbar\": {\"outlinewidth\": 0, \"ticks\": \"\"}}, \"type\": \"scatter\"}], \"scatter3d\": [{\"line\": {\"colorbar\": {\"outlinewidth\": 0, \"ticks\": \"\"}}, \"marker\": {\"colorbar\": {\"outlinewidth\": 0, \"ticks\": \"\"}}, \"type\": \"scatter3d\"}], \"scattercarpet\": [{\"marker\": {\"colorbar\": {\"outlinewidth\": 0, \"ticks\": \"\"}}, \"type\": \"scattercarpet\"}], \"scattergeo\": [{\"marker\": {\"colorbar\": {\"outlinewidth\": 0, \"ticks\": \"\"}}, \"type\": \"scattergeo\"}], \"scattergl\": [{\"marker\": {\"colorbar\": {\"outlinewidth\": 0, \"ticks\": \"\"}}, \"type\": \"scattergl\"}], \"scattermapbox\": [{\"marker\": {\"colorbar\": {\"outlinewidth\": 0, \"ticks\": \"\"}}, \"type\": \"scattermapbox\"}], \"scatterpolar\": [{\"marker\": {\"colorbar\": {\"outlinewidth\": 0, \"ticks\": \"\"}}, \"type\": \"scatterpolar\"}], \"scatterpolargl\": [{\"marker\": {\"colorbar\": {\"outlinewidth\": 0, \"ticks\": \"\"}}, \"type\": \"scatterpolargl\"}], \"scatterternary\": [{\"marker\": {\"colorbar\": {\"outlinewidth\": 0, \"ticks\": \"\"}}, \"type\": \"scatterternary\"}], \"surface\": [{\"colorbar\": {\"outlinewidth\": 0, \"ticks\": \"\"}, \"colorscale\": [[0.0, \"#0d0887\"], [0.1111111111111111, \"#46039f\"], [0.2222222222222222, \"#7201a8\"], [0.3333333333333333, \"#9c179e\"], [0.4444444444444444, \"#bd3786\"], [0.5555555555555556, \"#d8576b\"], [0.6666666666666666, \"#ed7953\"], [0.7777777777777778, \"#fb9f3a\"], [0.8888888888888888, \"#fdca26\"], [1.0, \"#f0f921\"]], \"type\": \"surface\"}], \"table\": [{\"cells\": {\"fill\": {\"color\": \"#EBF0F8\"}, \"line\": {\"color\": \"white\"}}, \"header\": {\"fill\": {\"color\": \"#C8D4E3\"}, \"line\": {\"color\": \"white\"}}, \"type\": \"table\"}]}, \"layout\": {\"annotationdefaults\": {\"arrowcolor\": \"#2a3f5f\", \"arrowhead\": 0, \"arrowwidth\": 1}, \"coloraxis\": {\"colorbar\": {\"outlinewidth\": 0, \"ticks\": \"\"}}, \"colorscale\": {\"diverging\": [[0, \"#8e0152\"], [0.1, \"#c51b7d\"], [0.2, \"#de77ae\"], [0.3, \"#f1b6da\"], [0.4, \"#fde0ef\"], [0.5, \"#f7f7f7\"], [0.6, \"#e6f5d0\"], [0.7, \"#b8e186\"], [0.8, \"#7fbc41\"], [0.9, \"#4d9221\"], [1, \"#276419\"]], \"sequential\": [[0.0, \"#0d0887\"], [0.1111111111111111, \"#46039f\"], [0.2222222222222222, \"#7201a8\"], [0.3333333333333333, \"#9c179e\"], [0.4444444444444444, \"#bd3786\"], [0.5555555555555556, \"#d8576b\"], [0.6666666666666666, \"#ed7953\"], [0.7777777777777778, \"#fb9f3a\"], [0.8888888888888888, \"#fdca26\"], [1.0, \"#f0f921\"]], \"sequentialminus\": [[0.0, \"#0d0887\"], [0.1111111111111111, \"#46039f\"], [0.2222222222222222, \"#7201a8\"], [0.3333333333333333, \"#9c179e\"], [0.4444444444444444, \"#bd3786\"], [0.5555555555555556, \"#d8576b\"], [0.6666666666666666, \"#ed7953\"], [0.7777777777777778, \"#fb9f3a\"], [0.8888888888888888, \"#fdca26\"], [1.0, \"#f0f921\"]]}, \"colorway\": [\"#636efa\", \"#EF553B\", \"#00cc96\", \"#ab63fa\", \"#FFA15A\", \"#19d3f3\", \"#FF6692\", \"#B6E880\", \"#FF97FF\", \"#FECB52\"], \"font\": {\"color\": \"#2a3f5f\"}, \"geo\": {\"bgcolor\": \"white\", \"lakecolor\": \"white\", \"landcolor\": \"#E5ECF6\", \"showlakes\": true, \"showland\": true, \"subunitcolor\": \"white\"}, \"hoverlabel\": {\"align\": \"left\"}, \"hovermode\": \"closest\", \"mapbox\": {\"style\": \"light\"}, \"paper_bgcolor\": \"white\", \"plot_bgcolor\": \"#E5ECF6\", \"polar\": {\"angularaxis\": {\"gridcolor\": \"white\", \"linecolor\": \"white\", \"ticks\": \"\"}, \"bgcolor\": \"#E5ECF6\", \"radialaxis\": {\"gridcolor\": \"white\", \"linecolor\": \"white\", \"ticks\": \"\"}}, \"scene\": {\"xaxis\": {\"backgroundcolor\": \"#E5ECF6\", \"gridcolor\": \"white\", \"gridwidth\": 2, \"linecolor\": \"white\", \"showbackground\": true, \"ticks\": \"\", \"zerolinecolor\": \"white\"}, \"yaxis\": {\"backgroundcolor\": \"#E5ECF6\", \"gridcolor\": \"white\", \"gridwidth\": 2, \"linecolor\": \"white\", \"showbackground\": true, \"ticks\": \"\", \"zerolinecolor\": \"white\"}, \"zaxis\": {\"backgroundcolor\": \"#E5ECF6\", \"gridcolor\": \"white\", \"gridwidth\": 2, \"linecolor\": \"white\", \"showbackground\": true, \"ticks\": \"\", \"zerolinecolor\": \"white\"}}, \"shapedefaults\": {\"line\": {\"color\": \"#2a3f5f\"}}, \"ternary\": {\"aaxis\": {\"gridcolor\": \"white\", \"linecolor\": \"white\", \"ticks\": \"\"}, \"baxis\": {\"gridcolor\": \"white\", \"linecolor\": \"white\", \"ticks\": \"\"}, \"bgcolor\": \"#E5ECF6\", \"caxis\": {\"gridcolor\": \"white\", \"linecolor\": \"white\", \"ticks\": \"\"}}, \"title\": {\"x\": 0.05}, \"xaxis\": {\"automargin\": true, \"gridcolor\": \"white\", \"linecolor\": \"white\", \"ticks\": \"\", \"title\": {\"standoff\": 15}, \"zerolinecolor\": \"white\", \"zerolinewidth\": 2}, \"yaxis\": {\"automargin\": true, \"gridcolor\": \"white\", \"linecolor\": \"white\", \"ticks\": \"\", \"title\": {\"standoff\": 15}, \"zerolinecolor\": \"white\", \"zerolinewidth\": 2}}}, \"title\": {\"text\": \"5 Worst hit districts in Karnataka\"}, \"width\": 700, \"xaxis\": {\"anchor\": \"y\", \"categoryarray\": [\"Bengaluru\", \"Mysuru\", \"Belagavi\", \"Kalaburagi\", \"Bagalkote\"], \"categoryorder\": \"array\", \"domain\": [0.0, 1.0], \"title\": {\"text\": \"Districts\"}}, \"yaxis\": {\"anchor\": \"x\", \"domain\": [0.0, 1.0], \"title\": {\"text\": \"Confirmed Cases\"}}},\n",
       "                        {\"responsive\": true}\n",
       "                    ).then(function(){\n",
       "                            \n",
       "var gd = document.getElementById('b4aa95d4-4708-4a7b-b390-de7394d15064');\n",
       "var x = new MutationObserver(function (mutations, observer) {{\n",
       "        var display = window.getComputedStyle(gd).display;\n",
       "        if (!display || display === 'none') {{\n",
       "            console.log([gd, 'removed!']);\n",
       "            Plotly.purge(gd);\n",
       "            observer.disconnect();\n",
       "        }}\n",
       "}});\n",
       "\n",
       "// Listen for the removal of the full notebook cells\n",
       "var notebookContainer = gd.closest('#notebook-container');\n",
       "if (notebookContainer) {{\n",
       "    x.observe(notebookContainer, {childList: true});\n",
       "}}\n",
       "\n",
       "// Listen for the clearing of the current output cell\n",
       "var outputEl = gd.closest('.output');\n",
       "if (outputEl) {{\n",
       "    x.observe(outputEl, {childList: true});\n",
       "}}\n",
       "\n",
       "                        })\n",
       "                };\n",
       "                });\n",
       "            </script>\n",
       "        </div>"
      ]
     },
     "metadata": {},
     "output_type": "display_data"
    }
   ],
   "source": [
    "fig = px.scatter(sortedDistrict.head(), x=\"Districts\", y=\"Confirmed\", size=\"Confirmed\", color=\"Districts\",\n",
    "               hover_name=\"Districts\", size_max=60)\n",
    "fig.update_layout(\n",
    "    title=str(5) +\" Worst hit districts in Karnataka\",\n",
    "    xaxis_title=\"Districts\",\n",
    "    yaxis_title=\"Confirmed Cases\",\n",
    "    width = 700\n",
    "    )\n",
    "fig.show();"
   ]
  },
  {
   "cell_type": "code",
   "execution_count": 149,
   "metadata": {},
   "outputs": [],
   "source": [
    "# Preparing nodes and edges from dataframe\n",
    "originLists = []\n",
    "nodes = []\n",
    "for i,rows in rawCases['Origin'].iteritems():\n",
    "    if '#' in rows:\n",
    "        no = rows.split('#')[1].split(' ')[0]\n",
    "        node = str(rawCases['Patient Number'][i])\n",
    "        originLists.append((no,node))\n",
    "        nodes.append(node)\n",
    "    else:\n",
    "        node = str(rawCases['Patient Number'][i])\n",
    "        nodes.append(node)"
   ]
  },
  {
   "cell_type": "code",
   "execution_count": 151,
   "metadata": {},
   "outputs": [],
   "source": [
    "# creating graph object and adding nodes and edges to the network\n",
    "G = nx.Graph()\n",
    "for i in nodes:\n",
    "    G.add_node(i)\n",
    "G.add_edges_from(originLists)\n",
    "# positioning the nodes\n",
    "pos = nx.spring_layout(G, k=0.5, iterations=50)\n",
    "for n, p in pos.items():\n",
    "    G.node[n]['pos'] = p\n"
   ]
  },
  {
   "cell_type": "code",
   "execution_count": 152,
   "metadata": {},
   "outputs": [],
   "source": [
    "# getting ready for plotting\n",
    "edge_trace = go.Scatter(\n",
    "    x=[],\n",
    "    y=[],\n",
    "    line=dict(width=0.5,color='#888'),\n",
    "    hoverinfo='none',\n",
    "    mode='lines')\n",
    "for edge in G.edges():\n",
    "    x0, y0 = G.node[edge[0]]['pos']\n",
    "    x1, y1 = G.node[edge[1]]['pos']\n",
    "    edge_trace['x'] += tuple([x0, x1, None])\n",
    "    edge_trace['y'] += tuple([y0, y1, None])\n",
    "node_trace = go.Scatter(\n",
    "    x=[],\n",
    "    y=[],\n",
    "    text=[],\n",
    "    mode='markers',\n",
    "    hoverinfo='text',\n",
    "    marker=dict(\n",
    "        showscale=True,\n",
    "        colorscale='RdBu',\n",
    "        reversescale=True,\n",
    "        color=[],\n",
    "        size=15,\n",
    "        colorbar=dict(\n",
    "            thickness=10,\n",
    "            title='Node Connections',\n",
    "            xanchor='left',\n",
    "            titleside='right'\n",
    "        ),\n",
    "        line=dict(width=0)))\n",
    "for node in G.nodes():\n",
    "    x, y = G.node[node]['pos']\n",
    "    node_trace['x'] += tuple([x])\n",
    "    node_trace['y'] += tuple([y])\n"
   ]
  },
  {
   "cell_type": "code",
   "execution_count": 153,
   "metadata": {},
   "outputs": [],
   "source": [
    "for node, adjacencies in enumerate(G.adjacency()):\n",
    "    node_trace['marker']['color']+=tuple([len(adjacencies[1])])\n",
    "    node_info = adjacencies[0] +' # of connections: '+str(len(adjacencies[1]))\n",
    "    node_trace['text']+=tuple([node_info])\n",
    "fig = go.Figure(data=[edge_trace, node_trace],\n",
    "             layout=go.Layout(\n",
    "                title='<br>Karnataka Person to Person Network Tracing',\n",
    "                titlefont=dict(size=16),\n",
    "                showlegend=False,\n",
    "                hovermode='closest',\n",
    "                margin=dict(b=20,l=5,r=5,t=40),\n",
    "                annotations=[ dict(\n",
    "                    text=\"No. of contacts made\",\n",
    "                    showarrow=False,\n",
    "                    xref=\"paper\", yref=\"paper\") ],\n",
    "                xaxis=dict(showgrid=False, zeroline=False, showticklabels=False),\n",
    "                yaxis=dict(showgrid=False, zeroline=False, showticklabels=False)))"
   ]
  },
  {
   "cell_type": "code",
   "execution_count": 154,
   "metadata": {},
   "outputs": [
    {
     "data": {
      "application/vnd.plotly.v1+json": {
       "config": {
        "linkText": "Export to plot.ly",
        "plotlyServerURL": "https://plot.ly",
        "showLink": false
       },
       "data": [
        {
         "hoverinfo": "none",
         "line": {
          "color": "#888",
          "width": 0.5
         },
         "mode": "lines",
         "type": "scatter",
         "x": [
          -0.5849983352865907,
          -0.7634172210212824,
          null,
          -0.5849983352865907,
          -0.9111504808062061,
          null,
          -0.34866011334547514,
          -0.6998063670904405,
          null,
          -0.34866011334547514,
          -0.2641351578404291,
          null,
          -0.2641351578404291,
          -0.8398894935922888,
          null,
          -0.22491790248071827,
          -0.5217214587596879,
          null,
          0.07714080804896228,
          0.8992524293233389,
          null,
          -0.40098905420218506,
          0.04887863004847909,
          null,
          -0.40098905420218506,
          -0.11319363159706385,
          null,
          -0.40098905420218506,
          -0.8599047451226961,
          null,
          0.06785527472463118,
          0.30331869184164634,
          null,
          0.06785527472463118,
          0.6308113651829134,
          null,
          0.06785527472463118,
          0.014602774726058839,
          null,
          0.06785527472463118,
          0.9524411932419125,
          null,
          0.06785527472463118,
          -0.9741063028304309,
          null,
          0.06785527472463118,
          0.9284394862981418,
          null,
          0.06785527472463118,
          -0.8850701804569081,
          null,
          -0.15851343719231598,
          0.3220451056371536,
          null,
          -0.15851343719231598,
          -0.7856774182666523,
          null,
          -0.15851343719231598,
          -0.010756759597927452,
          null,
          0.9806936251124809,
          0.8919782443972951,
          null,
          0.3886734682322345,
          0.9121288668652512,
          null,
          0.3886734682322345,
          0.8619097336256154,
          null,
          0.3886734682322345,
          0.5590237023741358,
          null,
          -0.3443948746020807,
          -0.6191946269046669,
          null,
          0.22762070587428285,
          -0.7868340972895018,
          null,
          0.16309166022181176,
          0.9484376582097391,
          null,
          0.16309166022181176,
          -0.22806504025271718,
          null,
          0.16309166022181176,
          -0.36944071754258573,
          null,
          0.16309166022181176,
          -0.8904898781059981,
          null,
          0.16309166022181176,
          0.4338778515105721,
          null,
          0.16309166022181176,
          -0.24115982813358067,
          null,
          0.16309166022181176,
          0.9573730674650569,
          null,
          0.16309166022181176,
          0.3201613657930907,
          null,
          0.16309166022181176,
          0.14270809669247464,
          null,
          0.16309166022181176,
          0.555633308988475,
          null,
          0.16309166022181176,
          -0.5483033180746171,
          null,
          0.16309166022181176,
          -0.12128281475114484,
          null,
          0.16309166022181176,
          -0.72888470974665,
          null,
          0.16309166022181176,
          0.9119669139999216,
          null,
          0.16309166022181176,
          0.7949807236195636,
          null,
          0.16309166022181176,
          -0.2017682912552103,
          null,
          0.16309166022181176,
          0.7495896688956728,
          null,
          0.16309166022181176,
          -0.28759499807832467,
          null,
          0.16309166022181176,
          -0.43969257430981057,
          null,
          0.16309166022181176,
          -0.4811174334086454,
          null,
          0.16309166022181176,
          0.8648023712310643,
          null,
          0.16309166022181176,
          0.46173695929886815,
          null,
          0.16309166022181176,
          0.6905640891165661,
          null,
          0.16309166022181176,
          0.7653167273345618,
          null,
          0.16309166022181176,
          0.7885943496659046,
          null,
          0.16309166022181176,
          -0.1567457052799844,
          null,
          0.16309166022181176,
          0.016495454842152982,
          null,
          0.16309166022181176,
          -0.6250238393229107,
          null,
          0.16309166022181176,
          -0.2088386804253064,
          null,
          0.16309166022181176,
          0.30741416576692293,
          null,
          0.16309166022181176,
          0.5554495120075904,
          null,
          0.16309166022181176,
          -0.13861156148736703,
          null,
          0.16309166022181176,
          0.7298212383968782,
          null,
          -0.25143195454278233,
          -0.6282675886859986,
          null,
          -0.25143195454278233,
          0.03360400245623876,
          null,
          -0.7856774182666523,
          -0.5422685705065917,
          null,
          0.3790347561574001,
          -0.39120106462207827,
          null,
          -0.18706478584742686,
          0.09578971845001072,
          null,
          0.9484376582097391,
          0.8905393160995292,
          null,
          -0.22806504025271718,
          -0.6832177124286499,
          null,
          0.4338778515105721,
          0.6908414795701653,
          null,
          -0.24115982813358067,
          -0.5364033884524374,
          null,
          0.14270809669247464,
          -0.7376931762712579,
          null,
          0.14270809669247464,
          0.7702280140951765,
          null,
          0.14270809669247464,
          0.9279055167897357,
          null,
          0.14270809669247464,
          -0.8366663404286679,
          null,
          0.14270809669247464,
          -0.48460709817215153,
          null,
          0.14270809669247464,
          0.9558744048687271,
          null,
          0.14270809669247464,
          0.14906337271989858,
          null,
          0.14270809669247464,
          0.7785552390943301,
          null,
          -0.5422685705065917,
          0.14314367248627763,
          null,
          0.8144505203315671,
          0.2550435332186629,
          null,
          -0.12128281475114484,
          0.40192253234829173,
          null,
          -0.12128281475114484,
          -0.16509561420283467,
          null,
          -0.72888470974665,
          -0.713677652337546,
          null,
          -0.72888470974665,
          -0.5939226345966205,
          null,
          -0.6839027387446442,
          0.018724897959978323,
          null,
          0.9119669139999216,
          0.5591562675803814,
          null,
          -0.7376931762712579,
          -0.9214747697639442,
          null,
          0.7267582612789113,
          0.20950003331378445,
          null,
          -0.9652718510327424,
          -0.9802356857944109,
          null,
          -0.5104889528347856,
          -0.2682768012166851,
          null,
          -0.5104889528347856,
          -0.1016529302436599,
          null,
          -0.5104889528347856,
          -0.09704786694593404,
          null,
          -0.5104889528347856,
          -0.7614331352160364,
          null,
          0.3974800451335862,
          -0.21804311720245315,
          null,
          0.3974800451335862,
          0.7913258524565123,
          null,
          0.3974800451335862,
          0.9016126830927212,
          null,
          0.3974800451335862,
          -0.17819657593153038,
          null,
          0.3974800451335862,
          0.05989427865196745,
          null,
          0.08560443201504978,
          -0.29472043310037455,
          null,
          0.08560443201504978,
          0.7713565042181839,
          null,
          0.08560443201504978,
          -0.5782422706503909,
          null,
          0.08560443201504978,
          -0.3491917550256585,
          null,
          0.08560443201504978,
          0.19553759385518268,
          null,
          0.10403368467397864,
          0.3726847618051081,
          null,
          0.10403368467397864,
          -0.28251267658151946,
          null,
          -0.02918958738132931,
          0.1842634699660105,
          null,
          -0.02918958738132931,
          -0.7518394261820935,
          null,
          -0.02918958738132931,
          -0.8641682227084396,
          null,
          -0.02918958738132931,
          0.39235564560381836,
          null,
          -0.02918958738132931,
          0.9261220090680844,
          null,
          -0.02918958738132931,
          0.036278437741848316,
          null,
          0.020431580564755726,
          0.6080446952520457,
          null,
          0.020431580564755726,
          0.5593370246985667,
          null,
          0.020431580564755726,
          0.7900390815496287,
          null,
          -0.26553681474763985,
          -0.6495771026319218,
          null,
          -0.26553681474763985,
          0.26731074103425756,
          null,
          -0.26553681474763985,
          -0.6392949356156381,
          null,
          0.0956477283989524,
          0.7476823120086512,
          null,
          -0.2017682912552103,
          -0.7285668404664774,
          null,
          -0.2017682912552103,
          0.3028046402337844,
          null,
          0.6861111268236952,
          0.6205178555092384,
          null,
          -0.09704786694593404,
          -0.005965406607784947,
          null,
          -0.09704786694593404,
          0.7730086876948472,
          null,
          -0.09704786694593404,
          -0.39746783635295463,
          null,
          -0.09704786694593404,
          -0.8662969272487213,
          null,
          -0.09704786694593404,
          0.2772837696784222,
          null,
          0.17849291389076044,
          0.2650797193774061,
          null,
          -0.13128430071360364,
          -0.9396570017899496,
          null,
          -0.13128430071360364,
          -0.10861612964644474,
          null,
          -0.13128430071360364,
          0.7096994514311026,
          null,
          -0.13128430071360364,
          -0.39309319318318403,
          null,
          -0.13128430071360364,
          0.9782882558688243,
          null,
          -0.13128430071360364,
          -0.7639465217963681,
          null,
          -0.13128430071360364,
          -0.9405503490616682,
          null,
          -0.13128430071360364,
          0.4898168309388722,
          null,
          -0.13128430071360364,
          0.28783426834814635,
          null,
          -0.13128430071360364,
          -0.936599373371069,
          null,
          -0.13128430071360364,
          -0.6894212288439076,
          null,
          -0.5619844978102572,
          0.30845864317287647,
          null,
          0.11186146886067398,
          0.3953921477905684,
          null,
          0.11186146886067398,
          -0.6562773378250627,
          null,
          0.11186146886067398,
          0.9028836602076422,
          null,
          0.11186146886067398,
          0.8170548622627819,
          null,
          0.2781982099294572,
          0.3953921477905684,
          null,
          0.7573593398384183,
          0.3953921477905684,
          null,
          -0.9802356857944109,
          0.11553187970746427,
          null,
          -0.7027454176972493,
          -0.7136023021701733,
          null,
          -0.7027454176972493,
          -0.4895283648677872,
          null,
          -0.46782373395320465,
          -0.47728337384718805,
          null,
          0.08579356698621135,
          -0.47108932112905005,
          null,
          0.08579356698621135,
          0.891476584603657,
          null,
          0.08579356698621135,
          -0.7566831886898113,
          null,
          0.08579356698621135,
          0.9347168407551452,
          null,
          0.08579356698621135,
          0.009439962556197137,
          null,
          0.3726847618051081,
          0.5829968729925598,
          null,
          0.3726847618051081,
          0.8894624397936661,
          null,
          0.3726847618051081,
          0.9217029210434907,
          null,
          -0.5939226345966205,
          -0.013448176017865323,
          null,
          -0.005965406607784947,
          0.9631317295243029,
          null,
          -0.005965406607784947,
          -0.9829771161095318,
          null,
          -0.005965406607784947,
          0.34132915932638447,
          null,
          -0.26741135264577537,
          0.28751661700435444,
          null,
          -0.26741135264577537,
          -0.5426059805592369,
          null,
          -0.26741135264577537,
          -0.10210452258612526,
          null,
          -0.26741135264577537,
          -0.11829140584839679,
          null,
          0.5028381936097575,
          0.6275043091605652,
          null,
          -0.10861612964644474,
          -0.684753532884737,
          null,
          -0.37621954598855206,
          0.47158976430137856,
          null,
          -0.37621954598855206,
          -0.9782860933574403,
          null,
          -0.37621954598855206,
          -0.6816871028836669,
          null,
          -0.37621954598855206,
          -0.3505964517295679,
          null,
          -0.37621954598855206,
          -0.9405938615381487,
          null,
          0.30845864317287647,
          0.9913535116255351,
          null,
          0.20950003331378445,
          0.355327727978969,
          null,
          0.20950003331378445,
          -0.7120229506611698,
          null,
          -0.1520058733837231,
          0.06187326109633005,
          null,
          -0.1520058733837231,
          -0.9490153469865422,
          null,
          -0.1520058733837231,
          -0.40131351080612726,
          null,
          -0.1520058733837231,
          0.34553219231974514,
          null,
          -0.1520058733837231,
          -0.8187379615809304,
          null,
          -0.1520058733837231,
          -0.2498115977844614,
          null,
          -0.1520058733837231,
          0.3404222298299233,
          null,
          -0.1520058733837231,
          -0.8143557619302653,
          null,
          -0.1520058733837231,
          0.18662824372932213,
          null,
          -0.1520058733837231,
          -0.33381227736742874,
          null,
          -0.1520058733837231,
          -0.9015355686345121,
          null,
          -0.1520058733837231,
          0.9289506220918698,
          null,
          -0.1520058733837231,
          -0.9323898355402475,
          null,
          -0.3491917550256585,
          -0.8416208849806498,
          null,
          -0.3491917550256585,
          0.6956590800401264,
          null,
          -0.3491917550256585,
          -0.9618658304842549,
          null,
          -0.3491917550256585,
          -0.9325561669741389,
          null,
          -0.3491917550256585,
          -0.9088476925205569,
          null,
          -0.3491917550256585,
          -0.1439849546947439,
          null,
          -0.3491917550256585,
          -0.13217274024462844,
          null,
          0.26731074103425756,
          0.5065312495573172,
          null,
          0.26731074103425756,
          0.6500214484678997,
          null,
          0.39943636035813457,
          -0.28510882530282944,
          null,
          -0.11829140584839679,
          0.5738454317849405,
          null,
          0.7900390815496287,
          0.7931318632857545,
          null,
          0.7900390815496287,
          0.3351790437616982,
          null,
          0.7900390815496287,
          0.5894871891186295,
          null,
          0.7900390815496287,
          0.5398259166081798,
          null,
          0.07359143277191044,
          0.5020056591141924,
          null,
          0.07359143277191044,
          0.5005731711379655,
          null,
          0.07359143277191044,
          -0.2790495550157706,
          null,
          -0.1797955972970653,
          -0.846442013885377,
          null,
          -0.1797955972970653,
          0.6097773911345233,
          null,
          -0.1797955972970653,
          -0.6167019937648651,
          null,
          -0.1797955972970653,
          -0.06854684662146532,
          null,
          -0.12099870546698616,
          -0.9802329700245677,
          null,
          -0.12099870546698616,
          0.8086018573835961,
          null,
          -0.12099870546698616,
          0.4221754486483412,
          null,
          -0.12099870546698616,
          -0.08972573728158709,
          null,
          0.9799569665118444,
          0.7677914711170933,
          null,
          -0.4934913170472261,
          0.40646102563855485,
          null,
          -0.3912191253517308,
          -0.949659910905582,
          null,
          0.2650797193774061,
          -0.046275145178399306,
          null,
          -0.2498115977844614,
          0.1863902163416755,
          null,
          -0.28759499807832467,
          0.5354930912220301,
          null,
          0.20250450346938814,
          0.07179557937278223,
          null,
          -0.4515445688891363,
          0.07193594491238622,
          null
         ],
         "y": [
          -0.22697390795008596,
          0.4269752549698217,
          null,
          -0.22697390795008596,
          0.31503693861593857,
          null,
          -0.4580520635030268,
          -0.38355710722485026,
          null,
          -0.4580520635030268,
          0.39613198158787166,
          null,
          0.39613198158787166,
          0.505964504149791,
          null,
          -0.42637918100848465,
          0.06799372078599356,
          null,
          0.6496912155715989,
          0.3988104231612669,
          null,
          -0.09019846778457777,
          -0.9759923001853276,
          null,
          -0.09019846778457777,
          0.5467737164968631,
          null,
          -0.09019846778457777,
          -0.4869230249744946,
          null,
          0.15765398194678693,
          -0.5012275117230957,
          null,
          0.15765398194678693,
          0.5666763520012114,
          null,
          0.15765398194678693,
          0.9851220569442037,
          null,
          0.15765398194678693,
          -0.3854606300488563,
          null,
          0.15765398194678693,
          0.14916089985187914,
          null,
          0.15765398194678693,
          -0.18110428078153498,
          null,
          0.15765398194678693,
          0.4874062629454152,
          null,
          -0.12162307232857057,
          -0.8562862705559605,
          null,
          -0.12162307232857057,
          -0.5967583919854668,
          null,
          -0.12162307232857057,
          0.9479774082433847,
          null,
          0.18196400788025505,
          -0.43438797861385897,
          null,
          0.3100712141439433,
          0.47414239775657013,
          null,
          0.3100712141439433,
          0.22970084911831531,
          null,
          0.3100712141439433,
          0.7205020690412367,
          null,
          -0.8505639013063045,
          -0.7742195132355147,
          null,
          -0.1970566375193861,
          -0.24980302934369283,
          null,
          0.08634034500405573,
          0.002410871751600816,
          null,
          0.08634034500405573,
          0.642184354791338,
          null,
          0.08634034500405573,
          0.5658721902575382,
          null,
          0.08634034500405573,
          0.026684356739703673,
          null,
          0.08634034500405573,
          -0.2920729813136547,
          null,
          0.08634034500405573,
          0.754135921737484,
          null,
          0.08634034500405573,
          -0.25032823507541646,
          null,
          0.08634034500405573,
          0.9457302826510569,
          null,
          0.08634034500405573,
          -0.4428980688622399,
          null,
          0.08634034500405573,
          -0.524143666038136,
          null,
          0.08634034500405573,
          0.8351260116725764,
          null,
          0.08634034500405573,
          -0.5064980078861614,
          null,
          0.08634034500405573,
          -0.013912399532121313,
          null,
          0.08634034500405573,
          0.32671808123545504,
          null,
          0.08634034500405573,
          0.5977189621639571,
          null,
          0.08634034500405573,
          0.3100982295521666,
          null,
          0.08634034500405573,
          0.6863722804881816,
          null,
          0.08634034500405573,
          0.177757285124306,
          null,
          0.08634034500405573,
          -0.4235165719793324,
          null,
          0.08634034500405573,
          0.7404035787387258,
          null,
          0.08634034500405573,
          -0.31514780110955604,
          null,
          0.08634034500405573,
          0.91671843021272,
          null,
          0.08634034500405573,
          -0.7318573432260542,
          null,
          0.08634034500405573,
          -0.601430888840584,
          null,
          0.08634034500405573,
          -0.20823401624427187,
          null,
          0.08634034500405573,
          -0.7440737315953939,
          null,
          0.08634034500405573,
          -0.5694186309034879,
          null,
          0.08634034500405573,
          -0.08041522591052999,
          null,
          0.08634034500405573,
          0.9444658532284237,
          null,
          0.08634034500405573,
          0.894646857321549,
          null,
          0.08634034500405573,
          0.8471498638195317,
          null,
          0.08634034500405573,
          -0.9343866837612592,
          null,
          0.08634034500405573,
          -0.7676368046044643,
          null,
          -0.2824349515064319,
          -0.610726618536613,
          null,
          -0.2824349515064319,
          0.26448751593915726,
          null,
          -0.5967583919854668,
          -0.10388032897466443,
          null,
          0.8413934135654186,
          0.932776206690146,
          null,
          0.9815686612900071,
          0.5673153390743241,
          null,
          0.002410871751600816,
          -0.54250609307567,
          null,
          0.642184354791338,
          0.7666673421944957,
          null,
          -0.2920729813136547,
          0.14622152946196662,
          null,
          0.754135921737484,
          0.6583172288785175,
          null,
          -0.4428980688622399,
          -0.7111949015935465,
          null,
          -0.4428980688622399,
          -0.6362377933001355,
          null,
          -0.4428980688622399,
          -0.05333570134034795,
          null,
          -0.4428980688622399,
          -0.04219071247494905,
          null,
          -0.4428980688622399,
          -0.7957253772479755,
          null,
          -0.4428980688622399,
          -0.3362303060494071,
          null,
          -0.4428980688622399,
          -0.9077572864471377,
          null,
          -0.4428980688622399,
          -0.589927916084468,
          null,
          -0.10388032897466443,
          0.41042408537384545,
          null,
          -0.026422535270041705,
          -0.9315335353190554,
          null,
          -0.5064980078861614,
          -0.6601698321199667,
          null,
          -0.5064980078861614,
          -0.9347633772813565,
          null,
          -0.013912399532121313,
          0.582941501405882,
          null,
          -0.013912399532121313,
          -0.7803052685136022,
          null,
          0.742510181705184,
          0.7571144319004073,
          null,
          0.32671808123545504,
          0.7412641501948806,
          null,
          -0.7111949015935465,
          -0.18576171124220023,
          null,
          0.7449579121673514,
          0.9073951646241827,
          null,
          0.24352524529953148,
          0.11442550551889233,
          null,
          -0.6154420965578158,
          -0.866826597488514,
          null,
          -0.6154420965578158,
          -0.9476430087816621,
          null,
          -0.6154420965578158,
          -0.44053584107567223,
          null,
          -0.6154420965578158,
          0.11140673891915415,
          null,
          -0.535812042657853,
          -0.9159819777365521,
          null,
          -0.535812042657853,
          -0.3656723470064083,
          null,
          -0.535812042657853,
          0.3566287848486537,
          null,
          -0.535812042657853,
          -0.9407815768197547,
          null,
          -0.535812042657853,
          -0.7063979663283274,
          null,
          0.1224007934062417,
          -0.9502798767617484,
          null,
          0.1224007934062417,
          0.42590766486494325,
          null,
          0.1224007934062417,
          0.15239436821597788,
          null,
          0.1224007934062417,
          0.0094427138316249,
          null,
          0.1224007934062417,
          0.9107903379373559,
          null,
          0.38287550806673615,
          0.138398171380156,
          null,
          0.38287550806673615,
          -0.03035011599921174,
          null,
          -0.4703081794195195,
          -0.9043751854907469,
          null,
          -0.4703081794195195,
          -0.3402926318184788,
          null,
          -0.4703081794195195,
          -0.43557012977949217,
          null,
          -0.4703081794195195,
          -0.8773141304274555,
          null,
          -0.4703081794195195,
          -0.14923659605549383,
          null,
          -0.4703081794195195,
          -0.9682276281031478,
          null,
          -0.1634893716632198,
          -0.8179182982207682,
          null,
          -0.1634893716632198,
          0.4011594843080827,
          null,
          -0.1634893716632198,
          -0.5868055608850332,
          null,
          0.9011465751117821,
          0.732597160744772,
          null,
          0.9011465751117821,
          0.15302280118659115,
          null,
          0.9011465751117821,
          0.8251075627096521,
          null,
          -0.9193290774628181,
          -0.6908521404109412,
          null,
          0.3100982295521666,
          0.678801444369813,
          null,
          0.3100982295521666,
          -0.21924534466875292,
          null,
          0.6608309826051777,
          0.7642214314121721,
          null,
          -0.44053584107567223,
          0.20248167130043002,
          null,
          -0.44053584107567223,
          -0.4968211800533886,
          null,
          -0.44053584107567223,
          0.09414902938632179,
          null,
          -0.44053584107567223,
          -0.5462284037937056,
          null,
          -0.44053584107567223,
          -0.9227946717659515,
          null,
          0.9003540839638176,
          0.16927331412969965,
          null,
          -0.20562073478251175,
          -0.21155112730989814,
          null,
          -0.20562073478251175,
          0.7255122839836888,
          null,
          -0.20562073478251175,
          -0.7169287551481948,
          null,
          -0.20562073478251175,
          -0.9125287850320001,
          null,
          -0.20562073478251175,
          -0.16515543275067304,
          null,
          -0.20562073478251175,
          -0.6468149956898768,
          null,
          -0.20562073478251175,
          -0.3623358684614181,
          null,
          -0.20562073478251175,
          0.0556436578957395,
          null,
          -0.20562073478251175,
          -0.8788076329633292,
          null,
          -0.20562073478251175,
          0.06423647023552542,
          null,
          -0.20562073478251175,
          -0.723884711239385,
          null,
          -0.6868417812909525,
          -0.4502727155533046,
          null,
          0.18322145355188085,
          0.5294911781389464,
          null,
          0.18322145355188085,
          -0.5757889809864022,
          null,
          0.18322145355188085,
          0.3467784300209665,
          null,
          0.18322145355188085,
          0.49872870261364494,
          null,
          0.9520926436017836,
          0.5294911781389464,
          null,
          0.6150229315808741,
          0.5294911781389464,
          null,
          0.11442550551889233,
          0.17627412285317612,
          null,
          0.4476238554682732,
          0.5589222088583671,
          null,
          0.4476238554682732,
          0.6918550096025923,
          null,
          -0.004129276926807785,
          0.7108914659915455,
          null,
          0.004873063615042233,
          0.8638262417608682,
          null,
          0.004873063615042233,
          -0.25339934735480923,
          null,
          0.004873063615042233,
          0.5718091454303691,
          null,
          0.004873063615042233,
          0.09215732623640424,
          null,
          0.004873063615042233,
          -0.22890378048057827,
          null,
          0.138398171380156,
          0.778050633691699,
          null,
          0.138398171380156,
          0.5180818886306994,
          null,
          0.138398171380156,
          -0.009976787491612257,
          null,
          -0.7803052685136022,
          -0.9944328786366884,
          null,
          0.20248167130043002,
          0.1638833122839551,
          null,
          0.20248167130043002,
          -0.12734690558815304,
          null,
          0.20248167130043002,
          0.958970733922728,
          null,
          0.5350704657963723,
          0.29213376582124534,
          null,
          0.5350704657963723,
          0.7979896597636403,
          null,
          0.5350704657963723,
          0.8843394643082394,
          null,
          0.5350704657963723,
          0.8863014558868572,
          null,
          -0.4671309018589474,
          0.1589024668735835,
          null,
          0.7255122839836888,
          0.6775401326017508,
          null,
          0.1648592516333903,
          -0.016943634626741103,
          null,
          0.1648592516333903,
          -0.16788226236821122,
          null,
          0.1648592516333903,
          -0.4713056639497192,
          null,
          0.1648592516333903,
          0.7858844454376172,
          null,
          0.1648592516333903,
          -0.27884212828432514,
          null,
          -0.4502727155533046,
          0.0631706539361661,
          null,
          0.9073951646241827,
          0.8800778915072754,
          null,
          0.9073951646241827,
          0.6704697812574256,
          null,
          0.14155953077312694,
          0.951515578256893,
          null,
          0.14155953077312694,
          -0.30928264529657085,
          null,
          0.14155953077312694,
          -0.693103492756294,
          null,
          0.14155953077312694,
          0.8498657947362755,
          null,
          0.14155953077312694,
          0.6077168162192095,
          null,
          0.14155953077312694,
          0.8155913370558938,
          null,
          0.14155953077312694,
          -0.7842684843235709,
          null,
          0.14155953077312694,
          0.25010765425338155,
          null,
          0.14155953077312694,
          0.7579956774077283,
          null,
          0.14155953077312694,
          0.8908127557552549,
          null,
          0.14155953077312694,
          -0.4149335954653409,
          null,
          0.14155953077312694,
          0.22629833868276417,
          null,
          0.14155953077312694,
          0.37263956096475803,
          null,
          0.0094427138316249,
          -0.602422421978577,
          null,
          0.0094427138316249,
          0.42706068077934134,
          null,
          0.0094427138316249,
          -0.09583258002375303,
          null,
          0.0094427138316249,
          -0.3913088087710032,
          null,
          0.0094427138316249,
          0.40224923242543487,
          null,
          0.0094427138316249,
          0.9757487343956144,
          null,
          0.0094427138316249,
          -0.9541118536336985,
          null,
          0.15302280118659115,
          0.7696773298485362,
          null,
          0.15302280118659115,
          -0.7229688567535101,
          null,
          0.7036670101171507,
          0.8751376880474308,
          null,
          0.8863014558868572,
          0.7200127970167031,
          null,
          -0.5868055608850332,
          -0.4435892277957166,
          null,
          -0.5868055608850332,
          -0.9387595246834259,
          null,
          -0.5868055608850332,
          -0.705223394219024,
          null,
          -0.5868055608850332,
          -0.8806706182127102,
          null,
          0.09859983970355887,
          0.9008050989032788,
          null,
          0.09859983970355887,
          -0.8684354964939868,
          null,
          0.09859983970355887,
          0.6048152879543165,
          null,
          -0.040697933272633054,
          0.11178455952151682,
          null,
          -0.040697933272633054,
          0.678120114946944,
          null,
          -0.040697933272633054,
          -0.6421965499554172,
          null,
          -0.040697933272633054,
          -0.946902777456134,
          null,
          0.20350917248647107,
          0.1829330261381682,
          null,
          0.20350917248647107,
          0.5603306650844361,
          null,
          0.20350917248647107,
          0.059811770405882654,
          null,
          0.20350917248647107,
          0.9091230498910833,
          null,
          -0.0600874065214452,
          -0.5188680828093564,
          null,
          -0.840497686957815,
          -0.8765132481016306,
          null,
          -0.1664723537246115,
          0.26929518310323486,
          null,
          0.16927331412969965,
          0.9262349040459362,
          null,
          0.8155913370558938,
          0.07158997898515836,
          null,
          0.177757285124306,
          -0.0815003507112726,
          null,
          -0.3125059027857819,
          0.31838798806311636,
          null,
          -0.3722711975478449,
          -0.4777110620279916,
          null
         ]
        },
        {
         "hoverinfo": "text",
         "marker": {
          "color": [
           2,
           1,
           1,
           0,
           0,
           2,
           1,
           0,
           2,
           0,
           1,
           0,
           1,
           0,
           0,
           1,
           3,
           0,
           7,
           0,
           0,
           0,
           0,
           0,
           3,
           0,
           0,
           0,
           0,
           1,
           0,
           0,
           0,
           0,
           1,
           3,
           1,
           1,
           0,
           0,
           0,
           1,
           0,
           0,
           0,
           0,
           0,
           0,
           1,
           1,
           0,
           33,
           0,
           0,
           1,
           0,
           0,
           2,
           2,
           1,
           1,
           0,
           0,
           0,
           1,
           1,
           1,
           1,
           1,
           1,
           1,
           1,
           1,
           0,
           1,
           1,
           2,
           2,
           1,
           1,
           2,
           0,
           0,
           1,
           2,
           1,
           1,
           9,
           0,
           0,
           0,
           2,
           0,
           1,
           1,
           1,
           0,
           0,
           1,
           0,
           1,
           0,
           3,
           3,
           1,
           1,
           0,
           0,
           2,
           1,
           2,
           1,
           1,
           0,
           0,
           0,
           0,
           0,
           0,
           0,
           0,
           1,
           0,
           1,
           4,
           0,
           5,
           5,
           1,
           1,
           1,
           0,
           0,
           2,
           0,
           0,
           0,
           0,
           0,
           1,
           6,
           0,
           0,
           0,
           0,
           0,
           0,
           0,
           3,
           3,
           0,
           1,
           1,
           1,
           0,
           0,
           0,
           0,
           3,
           0,
           1,
           1,
           0,
           1,
           6,
           1,
           11,
           0,
           1,
           0,
           4,
           1,
           1,
           2,
           2,
           1,
           5,
           1,
           4,
           0,
           0,
           1,
           2,
           1,
           1,
           4,
           1,
           1,
           0,
           0,
           1,
           1,
           1,
           4,
           0,
           1,
           0,
           1,
           2,
           1,
           1,
           1,
           1,
           1,
           5,
           2,
           1,
           1,
           1,
           1,
           3,
           1,
           1,
           1,
           1,
           1,
           0,
           0,
           0,
           1,
           13,
           1,
           1,
           8,
           3,
           1,
           0,
           1,
           0,
           0,
           0,
           0,
           1,
           1,
           1,
           2,
           1,
           1,
           1,
           1,
           1,
           1,
           1,
           1,
           5,
           0,
           0,
           1,
           1,
           3,
           1,
           4,
           0,
           1,
           1,
           1,
           1,
           0,
           1,
           1,
           0,
           1,
           4,
           0,
           0,
           0,
           1,
           0,
           0,
           0,
           0,
           0,
           1,
           1,
           1,
           1,
           1,
           1,
           1,
           1,
           0,
           1,
           1,
           1,
           1,
           1,
           1,
           1,
           1,
           0,
           0,
           0,
           0,
           0,
           0,
           0,
           0,
           1,
           1,
           1,
           1,
           1,
           0,
           2,
           1,
           2,
           1,
           1,
           1,
           1,
           0,
           1,
           1,
           0,
           0,
           1,
           1,
           1,
           2,
           1,
           1,
           1,
           1,
           1,
           1,
           1,
           1,
           0,
           1,
           1,
           1,
           1,
           1,
           1,
           1,
           1,
           1,
           1,
           1,
           1,
           1,
           1,
           1,
           1,
           1,
           1,
           1,
           1,
           0,
           1,
           1,
           1,
           1,
           0,
           1,
           1,
           1,
           1,
           1,
           1,
           1,
           1,
           1,
           1,
           1,
           1,
           1,
           1,
           0,
           1,
           1,
           1,
           1,
           1,
           1,
           1,
           1,
           1,
           1,
           1,
           0,
           1,
           1,
           1,
           0,
           0,
           1,
           1,
           1,
           0,
           1,
           1,
           1,
           1,
           1,
           1,
           1,
           1,
           3,
           1
          ],
          "colorbar": {
           "thickness": 10,
           "title": {
            "side": "right",
            "text": "Node Connections"
           },
           "xanchor": "left"
          },
          "colorscale": [
           [
            0,
            "rgb(103,0,31)"
           ],
           [
            0.1,
            "rgb(178,24,43)"
           ],
           [
            0.2,
            "rgb(214,96,77)"
           ],
           [
            0.3,
            "rgb(244,165,130)"
           ],
           [
            0.4,
            "rgb(253,219,199)"
           ],
           [
            0.5,
            "rgb(247,247,247)"
           ],
           [
            0.6,
            "rgb(209,229,240)"
           ],
           [
            0.7,
            "rgb(146,197,222)"
           ],
           [
            0.8,
            "rgb(67,147,195)"
           ],
           [
            0.9,
            "rgb(33,102,172)"
           ],
           [
            1,
            "rgb(5,48,97)"
           ]
          ],
          "line": {
           "width": 0
          },
          "reversescale": true,
          "showscale": true,
          "size": 15
         },
         "mode": "markers",
         "text": [
          "1 # of connections: 2",
          "2 # of connections: 1",
          "3 # of connections: 1",
          "4 # of connections: 0",
          "5 # of connections: 0",
          "6 # of connections: 2",
          "7 # of connections: 1",
          "8 # of connections: 0",
          "9 # of connections: 2",
          "10 # of connections: 0",
          "11 # of connections: 1",
          "12 # of connections: 0",
          "13 # of connections: 1",
          "14 # of connections: 0",
          "15 # of connections: 0",
          "16 # of connections: 1",
          "17 # of connections: 3",
          "18 # of connections: 0",
          "19 # of connections: 7",
          "20 # of connections: 0",
          "21 # of connections: 0",
          "22 # of connections: 0",
          "23 # of connections: 0",
          "24 # of connections: 0",
          "25 # of connections: 3",
          "26 # of connections: 0",
          "27 # of connections: 0",
          "28 # of connections: 0",
          "29 # of connections: 0",
          "30 # of connections: 1",
          "31 # of connections: 0",
          "32 # of connections: 0",
          "33 # of connections: 0",
          "34 # of connections: 0",
          "35 # of connections: 1",
          "36 # of connections: 3",
          "37 # of connections: 1",
          "38 # of connections: 1",
          "39 # of connections: 0",
          "40 # of connections: 0",
          "41 # of connections: 0",
          "42 # of connections: 1",
          "43 # of connections: 0",
          "44 # of connections: 0",
          "45 # of connections: 0",
          "46 # of connections: 0",
          "47 # of connections: 0",
          "48 # of connections: 0",
          "49 # of connections: 1",
          "50 # of connections: 1",
          "51 # of connections: 0",
          "52 # of connections: 33",
          "53 # of connections: 0",
          "54 # of connections: 0",
          "55 # of connections: 1",
          "56 # of connections: 0",
          "57 # of connections: 0",
          "58 # of connections: 2",
          "59 # of connections: 2",
          "60 # of connections: 1",
          "61 # of connections: 1",
          "62 # of connections: 0",
          "63 # of connections: 0",
          "64 # of connections: 0",
          "65 # of connections: 1",
          "66 # of connections: 1",
          "67 # of connections: 1",
          "68 # of connections: 1",
          "69 # of connections: 1",
          "70 # of connections: 1",
          "71 # of connections: 1",
          "72 # of connections: 1",
          "73 # of connections: 1",
          "74 # of connections: 0",
          "75 # of connections: 1",
          "76 # of connections: 1",
          "77 # of connections: 2",
          "78 # of connections: 2",
          "79 # of connections: 1",
          "80 # of connections: 1",
          "81 # of connections: 2",
          "82 # of connections: 0",
          "83 # of connections: 0",
          "84 # of connections: 1",
          "85 # of connections: 2",
          "86 # of connections: 1",
          "87 # of connections: 1",
          "88 # of connections: 9",
          "89 # of connections: 0",
          "90 # of connections: 0",
          "91 # of connections: 0",
          "92 # of connections: 2",
          "93 # of connections: 0",
          "94 # of connections: 1",
          "95 # of connections: 1",
          "96 # of connections: 1",
          "97 # of connections: 0",
          "98 # of connections: 0",
          "99 # of connections: 1",
          "100 # of connections: 0",
          "101 # of connections: 1",
          "102 # of connections: 0",
          "103 # of connections: 3",
          "104 # of connections: 3",
          "105 # of connections: 1",
          "106 # of connections: 1",
          "107 # of connections: 0",
          "108 # of connections: 0",
          "109 # of connections: 2",
          "110 # of connections: 1",
          "111 # of connections: 2",
          "112 # of connections: 1",
          "113 # of connections: 1",
          "114 # of connections: 0",
          "115 # of connections: 0",
          "116 # of connections: 0",
          "117 # of connections: 0",
          "118 # of connections: 0",
          "119 # of connections: 0",
          "120 # of connections: 0",
          "121 # of connections: 0",
          "122 # of connections: 1",
          "123 # of connections: 0",
          "124 # of connections: 1",
          "125 # of connections: 4",
          "126 # of connections: 0",
          "127 # of connections: 5",
          "128 # of connections: 5",
          "129 # of connections: 1",
          "130 # of connections: 1",
          "131 # of connections: 1",
          "132 # of connections: 0",
          "133 # of connections: 0",
          "134 # of connections: 2",
          "135 # of connections: 0",
          "136 # of connections: 0",
          "137 # of connections: 0",
          "138 # of connections: 0",
          "139 # of connections: 0",
          "140 # of connections: 1",
          "141 # of connections: 6",
          "142 # of connections: 0",
          "143 # of connections: 0",
          "144 # of connections: 0",
          "145 # of connections: 0",
          "146 # of connections: 0",
          "147 # of connections: 0",
          "148 # of connections: 0",
          "149 # of connections: 3",
          "150 # of connections: 3",
          "151 # of connections: 0",
          "152 # of connections: 1",
          "153 # of connections: 1",
          "154 # of connections: 1",
          "155 # of connections: 0",
          "156 # of connections: 0",
          "157 # of connections: 0",
          "158 # of connections: 0",
          "159 # of connections: 3",
          "160 # of connections: 0",
          "161 # of connections: 1",
          "162 # of connections: 1",
          "163 # of connections: 0",
          "164 # of connections: 1",
          "165 # of connections: 6",
          "166 # of connections: 1",
          "167 # of connections: 11",
          "168 # of connections: 0",
          "169 # of connections: 1",
          "170 # of connections: 0",
          "171 # of connections: 4",
          "172 # of connections: 1",
          "173 # of connections: 1",
          "174 # of connections: 2",
          "175 # of connections: 2",
          "176 # of connections: 1",
          "177 # of connections: 5",
          "178 # of connections: 1",
          "179 # of connections: 4",
          "180 # of connections: 0",
          "181 # of connections: 0",
          "182 # of connections: 1",
          "183 # of connections: 2",
          "184 # of connections: 1",
          "185 # of connections: 1",
          "186 # of connections: 4",
          "187 # of connections: 1",
          "188 # of connections: 1",
          "189 # of connections: 0",
          "190 # of connections: 0",
          "191 # of connections: 1",
          "192 # of connections: 1",
          "193 # of connections: 1",
          "194 # of connections: 4",
          "195 # of connections: 0",
          "196 # of connections: 1",
          "197 # of connections: 0",
          "198 # of connections: 1",
          "199 # of connections: 2",
          "200 # of connections: 1",
          "201 # of connections: 1",
          "202 # of connections: 1",
          "203 # of connections: 1",
          "204 # of connections: 1",
          "205 # of connections: 5",
          "206 # of connections: 2",
          "207 # of connections: 1",
          "208 # of connections: 1",
          "209 # of connections: 1",
          "210 # of connections: 1",
          "211 # of connections: 3",
          "212 # of connections: 1",
          "213 # of connections: 1",
          "214 # of connections: 1",
          "215 # of connections: 1",
          "216 # of connections: 1",
          "217 # of connections: 0",
          "218 # of connections: 0",
          "219 # of connections: 0",
          "220 # of connections: 1",
          "221 # of connections: 13",
          "222 # of connections: 1",
          "223 # of connections: 1",
          "224 # of connections: 8",
          "225 # of connections: 3",
          "226 # of connections: 1",
          "227 # of connections: 0",
          "228 # of connections: 1",
          "229 # of connections: 0",
          "230 # of connections: 0",
          "231 # of connections: 0",
          "232 # of connections: 0",
          "233 # of connections: 1",
          "234 # of connections: 1",
          "235 # of connections: 1",
          "236 # of connections: 2",
          "237 # of connections: 1",
          "238 # of connections: 1",
          "239 # of connections: 1",
          "240 # of connections: 1",
          "241 # of connections: 1",
          "242 # of connections: 1",
          "243 # of connections: 1",
          "244 # of connections: 1",
          "245 # of connections: 5",
          "246 # of connections: 0",
          "247 # of connections: 0",
          "248 # of connections: 1",
          "249 # of connections: 1",
          "250 # of connections: 3",
          "251 # of connections: 1",
          "252 # of connections: 4",
          "253 # of connections: 0",
          "254 # of connections: 1",
          "255 # of connections: 1",
          "256 # of connections: 1",
          "257 # of connections: 1",
          "258 # of connections: 0",
          "259 # of connections: 1",
          "260 # of connections: 1",
          "261 # of connections: 0",
          "262 # of connections: 1",
          "263 # of connections: 4",
          "264 # of connections: 0",
          "265 # of connections: 0",
          "266 # of connections: 0",
          "267 # of connections: 1",
          "268 # of connections: 0",
          "269 # of connections: 0",
          "270 # of connections: 0",
          "271 # of connections: 0",
          "272 # of connections: 0",
          "273 # of connections: 1",
          "274 # of connections: 1",
          "275 # of connections: 1",
          "276 # of connections: 1",
          "277 # of connections: 1",
          "278 # of connections: 1",
          "279 # of connections: 1",
          "280 # of connections: 1",
          "281 # of connections: 0",
          "282 # of connections: 1",
          "283 # of connections: 1",
          "284 # of connections: 1",
          "285 # of connections: 1",
          "286 # of connections: 1",
          "287 # of connections: 1",
          "288 # of connections: 1",
          "289 # of connections: 1",
          "290 # of connections: 0",
          "291 # of connections: 0",
          "292 # of connections: 0",
          "293 # of connections: 0",
          "294 # of connections: 0",
          "295 # of connections: 0",
          "296 # of connections: 0",
          "297 # of connections: 0",
          "298 # of connections: 1",
          "299 # of connections: 1",
          "300 # of connections: 1",
          "301 # of connections: 1",
          "302 # of connections: 1",
          "303 # of connections: 0",
          "304 # of connections: 2",
          "305 # of connections: 1",
          "306 # of connections: 2",
          "307 # of connections: 1",
          "308 # of connections: 1",
          "309 # of connections: 1",
          "310 # of connections: 1",
          "311 # of connections: 0",
          "312 # of connections: 1",
          "313 # of connections: 1",
          "314 # of connections: 0",
          "315 # of connections: 0",
          "316 # of connections: 1",
          "317 # of connections: 1",
          "318 # of connections: 1",
          "319 # of connections: 2",
          "320 # of connections: 1",
          "321 # of connections: 1",
          "322 # of connections: 1",
          "323 # of connections: 1",
          "324 # of connections: 1",
          "325 # of connections: 1",
          "326 # of connections: 1",
          "327 # of connections: 1",
          "328 # of connections: 0",
          "329 # of connections: 1",
          "330 # of connections: 1",
          "331 # of connections: 1",
          "332 # of connections: 1",
          "333 # of connections: 1",
          "334 # of connections: 1",
          "335 # of connections: 1",
          "336 # of connections: 1",
          "337 # of connections: 1",
          "338 # of connections: 1",
          "339 # of connections: 1",
          "340 # of connections: 1",
          "341 # of connections: 1",
          "342 # of connections: 1",
          "343 # of connections: 1",
          "344 # of connections: 1",
          "345 # of connections: 1",
          "346 # of connections: 1",
          "347 # of connections: 1",
          "348 # of connections: 1",
          "349 # of connections: 0",
          "350 # of connections: 1",
          "351 # of connections: 1",
          "352 # of connections: 1",
          "353 # of connections: 1",
          "354 # of connections: 0",
          "355 # of connections: 1",
          "356 # of connections: 1",
          "357 # of connections: 1",
          "358 # of connections: 1",
          "359 # of connections: 1",
          "360 # of connections: 1",
          "361 # of connections: 1",
          "362 # of connections: 1",
          "363 # of connections: 1",
          "364 # of connections: 1",
          "365 # of connections: 1",
          "366 # of connections: 1",
          "367 # of connections: 1",
          "368 # of connections: 1",
          "369 # of connections: 0",
          "370 # of connections: 1",
          "371 # of connections: 1",
          "372 # of connections: 1",
          "373 # of connections: 1",
          "374 # of connections: 1",
          "375 # of connections: 1",
          "376 # of connections: 1",
          "377 # of connections: 1",
          "378 # of connections: 1",
          "379 # of connections: 1",
          "380 # of connections: 1",
          "381 # of connections: 0",
          "382 # of connections: 1",
          "383 # of connections: 1",
          "384 # of connections: 1",
          "385 # of connections: 0",
          "386 # of connections: 0",
          "387 # of connections: 1",
          "388 # of connections: 1",
          "389 # of connections: 1",
          "390 # of connections: 0",
          "391 # of connections: 1",
          "392 # of connections: 1",
          "393 # of connections: 1",
          "394 # of connections: 1",
          "395 # of connections: 1",
          "19, # of connections: 1",
          "25's # of connections: 1",
          "43, # of connections: 1",
          "134,P # of connections: 3",
          "89,P # of connections: 1"
         ],
         "type": "scatter",
         "x": [
          -0.5849983352865907,
          -0.7634172210212824,
          -0.9111504808062061,
          -0.8401235264004591,
          0.44355295887085766,
          -0.34866011334547514,
          -0.6998063670904405,
          -0.9049098489988247,
          -0.2641351578404291,
          0.871403375363512,
          -0.22491790248071827,
          0.9211787965751678,
          0.07714080804896228,
          -0.6139931669902539,
          0.7897192463804064,
          -0.5217214587596879,
          -0.40098905420218506,
          -0.941077507424907,
          0.06785527472463118,
          0.006207898897705332,
          -0.9857320203378737,
          0.6189722954826253,
          0.343918169640595,
          0.5616919153265638,
          -0.15851343719231598,
          -0.605388437992708,
          -0.8628726844363708,
          -0.7645760166355267,
          -0.8616223617833407,
          0.04887863004847909,
          -0.4387498130174844,
          -0.266953822605292,
          0.8390569530392329,
          -0.43002022976902043,
          0.9806936251124809,
          0.3886734682322345,
          -0.3443948746020807,
          0.8992524293233389,
          -0.8983446662352863,
          0.8948142674889664,
          0.1115946782829826,
          0.22762070587428285,
          -0.3559313859378337,
          -0.8010211043479909,
          -0.9089096997021572,
          0.7096914017243147,
          0.9172767767077924,
          0.7336292081443779,
          -0.11319363159706385,
          -0.8599047451226961,
          -0.5861264868785593,
          0.16309166022181176,
          -0.9813891154196197,
          0.8795021629209798,
          0.3220451056371536,
          0.6514743432709623,
          -0.77303746263251,
          -0.25143195454278233,
          -0.7856774182666523,
          0.3790347561574001,
          -0.010756759597927452,
          0.7883184167479098,
          0.11888182240770548,
          0.5821487417672866,
          0.9121288668652512,
          0.8619097336256154,
          0.5590237023741358,
          -0.18706478584742686,
          0.30331869184164634,
          0.6308113651829134,
          0.014602774726058839,
          0.9524411932419125,
          -0.9741063028304309,
          -0.11571299259093941,
          -0.7868340972895018,
          0.8919782443972951,
          0.9484376582097391,
          -0.22806504025271718,
          -0.36944071754258573,
          -0.8904898781059981,
          0.4338778515105721,
          -0.033166473199754576,
          0.8878973429779561,
          -0.39120106462207827,
          -0.24115982813358067,
          0.9573730674650569,
          0.3201613657930907,
          0.14270809669247464,
          0.9443753767153655,
          -0.8483130361092885,
          0.14337062820071186,
          -0.5422685705065917,
          0.5066231149167721,
          0.9284394862981418,
          0.555633308988475,
          -0.5483033180746171,
          0.12063707676826498,
          -0.9828697430230551,
          -0.8398894935922888,
          -0.1930543000194824,
          0.8144505203315671,
          -0.6369075760367768,
          -0.12128281475114484,
          -0.72888470974665,
          0.40192253234829173,
          -0.6839027387446442,
          -0.947896418442963,
          -0.6429981274054435,
          0.9119669139999216,
          0.7949807236195636,
          -0.7376931762712579,
          0.7702280140951765,
          0.6908414795701653,
          0.038992429402645384,
          0.34559578482534026,
          -0.21383448667334393,
          -0.15864239275810718,
          -0.7665411341234518,
          0.6775536229360749,
          0.8725669145371557,
          -0.8242814522044198,
          0.7267582612789113,
          -0.8052117210020153,
          -0.9652718510327424,
          -0.5104889528347856,
          -0.3107755886486812,
          0.3974800451335862,
          0.08560443201504978,
          -0.6282675886859986,
          0.03360400245623876,
          0.2550435332186629,
          -0.4653870371454167,
          0.07342379472981304,
          0.10403368467397864,
          0.15062715984812833,
          0.4184624391418401,
          0.8535838521725231,
          0.832884995351515,
          0.8999816586913497,
          0.5591562675803814,
          -0.02918958738132931,
          0.951864591429352,
          -0.25166326113533666,
          0.20955896073394326,
          -0.7840248462324227,
          0.4285323994095657,
          -0.49651534717164225,
          0.26247159496734074,
          0.020431580564755726,
          -0.26553681474763985,
          0.2628742239850065,
          0.0956477283989524,
          0.018724897959978323,
          -0.713677652337546,
          -0.9310856786848757,
          0.9790256841900254,
          0.4134165319366314,
          0.9957115272642723,
          -0.2017682912552103,
          0.7570467077206555,
          -0.2682768012166851,
          -0.1016529302436599,
          -0.8135693901615848,
          0.6861111268236952,
          -0.09704786694593404,
          0.17849291389076044,
          -0.13128430071360364,
          -0.9315917677620809,
          -0.5619844978102572,
          -0.4668751398689565,
          0.11186146886067398,
          0.2781982099294572,
          0.7573593398384183,
          -0.9802356857944109,
          -0.7027454176972493,
          -0.46782373395320465,
          0.08579356698621135,
          -0.7136023021701733,
          0.3726847618051081,
          -0.3869883893825998,
          0.7310168514001287,
          -0.29472043310037455,
          -0.5939226345966205,
          -0.7285668404664774,
          -0.6832177124286499,
          -0.005965406607784947,
          0.7730086876948472,
          -0.39746783635295463,
          0.8296363670045562,
          -0.042198677040627706,
          -0.8850701804569081,
          0.7713565042181839,
          -0.5782422706503909,
          -0.26741135264577537,
          0.9029887056906271,
          0.5028381936097575,
          0.07435633655734677,
          -0.9396570017899496,
          -0.10861612964644474,
          0.3028046402337844,
          -0.16509561420283467,
          -0.9214747697639442,
          -0.5364033884524374,
          -0.013448176017865323,
          -0.37621954598855206,
          0.30845864317287647,
          0.9913535116255351,
          0.6275043091605652,
          0.9279055167897357,
          -0.8366663404286679,
          0.20950003331378445,
          -0.48460709817215153,
          0.9558744048687271,
          0.14906337271989858,
          0.14314367248627763,
          0.7785552390943301,
          -0.4718161825018981,
          -0.6474162303698555,
          -0.9065761732108476,
          -0.47108932112905005,
          -0.1520058733837231,
          0.891476584603657,
          -0.6495771026319218,
          -0.3491917550256585,
          0.26731074103425756,
          -0.6392949356156381,
          -0.015623196786182375,
          0.39943636035813457,
          -0.5581938886141697,
          0.38069023450771244,
          -0.5268667780257983,
          0.47929193139756426,
          0.28751661700435444,
          -0.5426059805592369,
          -0.10210452258612526,
          -0.11829140584839679,
          0.5829968729925598,
          0.8894624397936661,
          0.9217029210434907,
          0.6205178555092384,
          0.355327727978969,
          -0.7120229506611698,
          0.6080446952520457,
          0.5593370246985667,
          0.7900390815496287,
          0.8965361091246441,
          0.6786382128954674,
          -0.8662969272487213,
          0.2772837696784222,
          0.07359143277191044,
          -0.7614331352160364,
          -0.1797955972970653,
          0.20239435718600124,
          -0.7566831886898113,
          0.47158976430137856,
          0.9347168407551452,
          0.06187326109633005,
          0.17096298105262447,
          -0.684753532884737,
          -0.47728337384718805,
          -0.42841306960657677,
          0.9631317295243029,
          -0.12099870546698616,
          0.9174149306635937,
          0.20328513351106095,
          0.9699731581151887,
          0.9799569665118444,
          0.8482656356845907,
          -0.5116504648841653,
          -0.3852883309421008,
          0.7349888204666135,
          0.605720208034989,
          -0.4934913170472261,
          -0.3912191253517308,
          -0.9490153469865422,
          -0.40131351080612726,
          -0.846442013885377,
          0.34553219231974514,
          -0.8416208849806498,
          0.6097773911345233,
          -0.905156340816576,
          0.5065312495573172,
          0.6956590800401264,
          0.6500214484678997,
          -0.9618658304842549,
          -0.9325561669741389,
          -0.9088476925205569,
          -0.1439849546947439,
          -0.13217274024462844,
          -0.7158664626755049,
          -0.7719865304523643,
          0.3599529929850013,
          -0.09015662014458768,
          -0.8379408972416329,
          -0.6006386094125331,
          -0.1588955987726003,
          0.9691626696192255,
          0.7931318632857545,
          0.3351790437616982,
          0.5894871891186295,
          0.5398259166081798,
          -0.949659910905582,
          -0.849516949593179,
          0.2650797193774061,
          -0.8187379615809304,
          -0.2498115977844614,
          0.3404222298299233,
          -0.8143557619302653,
          0.18662824372932213,
          -0.28510882530282944,
          -0.950340388595148,
          0.8905393160995292,
          -0.33381227736742874,
          0.5805500318106102,
          -0.05679287273504881,
          0.7096994514311026,
          -0.39309319318318403,
          0.7495896688956728,
          -0.28759499807832467,
          -0.43969257430981057,
          0.40646102563855485,
          -0.6562773378250627,
          0.9028836602076422,
          0.8170548622627819,
          0.20250450346938814,
          -0.6167019937648651,
          -0.06854684662146532,
          0.8863795614743002,
          -0.9015355686345121,
          0.9289506220918698,
          -0.4515445688891363,
          0.1842634699660105,
          -0.7518394261820935,
          -0.8641682227084396,
          0.39235564560381836,
          0.9261220090680844,
          0.036278437741848316,
          0.5020056591141924,
          0.5005731711379655,
          -0.2790495550157706,
          -0.4811174334086454,
          0.8648023712310643,
          0.46173695929886815,
          0.6905640891165661,
          0.7653167273345618,
          0.7885943496659046,
          -0.1567457052799844,
          0.016495454842152982,
          -0.7229825665194073,
          0.9782882558688243,
          -0.7639465217963681,
          -0.9405503490616682,
          0.4898168309388722,
          -0.377927009702096,
          -0.21804311720245315,
          0.7913258524565123,
          0.9016126830927212,
          -0.17819657593153038,
          0.05989427865196745,
          -0.9782860933574403,
          0.11553187970746427,
          -0.9323898355402475,
          0.5738454317849405,
          0.19553759385518268,
          -0.6250238393229107,
          -0.2088386804253064,
          -0.9829771161095318,
          0.34132915932638447,
          -0.773925613675275,
          -0.046275145178399306,
          -0.28251267658151946,
          -0.9802329700245677,
          0.8086018573835961,
          0.1863902163416755,
          0.7677914711170933,
          0.28783426834814635,
          -0.936599373371069,
          -0.6894212288439076,
          0.4221754486483412,
          -0.08972573728158709,
          0.6681345229879757,
          0.30741416576692293,
          0.5554495120075904,
          -0.13861156148736703,
          -0.17171545484631698,
          0.941481828932622,
          0.7298212383968782,
          0.5354930912220301,
          0.07179557937278223,
          0.06365926356101922,
          -0.4895283648677872,
          -0.6816871028836669,
          -0.3505964517295679,
          0.009439962556197137,
          -0.9405938615381487,
          -0.6191946269046669,
          0.09578971845001072,
          0.7476823120086512,
          0.3953921477905684,
          0.07193594491238622
         ],
         "y": [
          -0.22697390795008596,
          0.4269752549698217,
          0.31503693861593857,
          -0.5630809897722525,
          0.7422651705940772,
          -0.4580520635030268,
          -0.38355710722485026,
          0.060223223351626005,
          0.39613198158787166,
          -0.11306757026279772,
          -0.42637918100848465,
          -0.16018042868581495,
          0.6496912155715989,
          -0.8163486720284373,
          0.5109629612948515,
          0.06799372078599356,
          -0.09019846778457777,
          -0.042497858906184564,
          0.15765398194678693,
          -0.9732059607940773,
          -0.10539568091806474,
          0.8370087461991013,
          0.8341842533158105,
          -0.8353706320589624,
          -0.12162307232857057,
          0.7691703667242955,
          -0.458002702227517,
          -0.5333262379476843,
          -0.3420677141598807,
          -0.9759923001853276,
          -0.862672485849291,
          0.9432695990324808,
          0.4020889069260423,
          -0.8995237656354811,
          0.18196400788025505,
          0.3100712141439433,
          -0.8505639013063045,
          0.3988104231612669,
          -0.08863710109569789,
          0.12289673504287879,
          -0.91672755295003,
          -0.1970566375193861,
          -0.9067143450858188,
          -0.3600452338887982,
          -0.22261030032887555,
          -0.6804160522306197,
          -0.07210911013754141,
          0.5378216176299057,
          0.5467737164968631,
          -0.4869230249744946,
          0.8660215191549168,
          0.08634034500405573,
          -0.06055586840857673,
          0.431084321922354,
          -0.8562862705559605,
          -0.6930644915886569,
          0.4096920946351668,
          -0.2824349515064319,
          -0.5967583919854668,
          0.8413934135654186,
          0.9479774082433847,
          0.5646969151472869,
          -0.9458879137234792,
          -0.773252147474757,
          0.47414239775657013,
          0.22970084911831531,
          0.7205020690412367,
          0.9815686612900071,
          -0.5012275117230957,
          0.5666763520012114,
          0.9851220569442037,
          -0.3854606300488563,
          0.14916089985187914,
          -0.8721745875798939,
          -0.24980302934369283,
          -0.43438797861385897,
          0.002410871751600816,
          0.642184354791338,
          0.5658721902575382,
          0.026684356739703673,
          -0.2920729813136547,
          0.9344383524885257,
          0.2619293279625431,
          0.932776206690146,
          0.754135921737484,
          -0.25032823507541646,
          0.9457302826510569,
          -0.4428980688622399,
          0.24537874070543153,
          0.42523770368214625,
          0.9480214499110878,
          -0.10388032897466443,
          -0.7985885902189557,
          -0.18110428078153498,
          -0.524143666038136,
          0.8351260116725764,
          0.9803054106166557,
          -0.01791415401181666,
          0.505964504149791,
          0.9087685516563218,
          -0.026422535270041705,
          -0.2364949083670682,
          -0.5064980078861614,
          -0.013912399532121313,
          -0.6601698321199667,
          0.742510181705184,
          -0.2595529218900552,
          -0.7316018990626868,
          0.32671808123545504,
          0.5977189621639571,
          -0.7111949015935465,
          -0.6362377933001355,
          0.14622152946196662,
          0.8354403748100857,
          -0.9027737362032997,
          -0.9676671451089597,
          -0.9833902932381614,
          -0.4783674760309979,
          -0.5064350728612876,
          -0.5238352935763986,
          0.3708756974774017,
          0.7449579121673514,
          -0.5570840030918613,
          0.24352524529953148,
          -0.6154420965578158,
          -0.9167120862702723,
          -0.535812042657853,
          0.1224007934062417,
          -0.610726618536613,
          0.26448751593915726,
          -0.9315335353190554,
          -0.8195869609782904,
          -0.8217250407651971,
          0.38287550806673615,
          0.8645289317113906,
          -0.9081810390870334,
          0.2872435607035336,
          0.036714396953588926,
          -0.20826854940609188,
          0.7412641501948806,
          -0.4703081794195195,
          0.37523978032815974,
          -0.9669270491162179,
          0.9858381918122603,
          0.5193675688802151,
          0.8915374988179153,
          -0.8991046249766558,
          -0.9321042588454924,
          -0.1634893716632198,
          0.9011465751117821,
          -0.8751690306755688,
          -0.9193290774628181,
          0.7571144319004073,
          0.582941501405882,
          0.14512848216626087,
          -0.2160296135075077,
          -0.7629134145585355,
          0.045011234011045224,
          0.3100982295521666,
          -0.49577489653450196,
          -0.866826597488514,
          -0.9476430087816621,
          -0.43361684714635873,
          0.6608309826051777,
          -0.44053584107567223,
          0.9003540839638176,
          -0.20562073478251175,
          0.19164366692570348,
          -0.6868417812909525,
          -0.7129200770860173,
          0.18322145355188085,
          0.9520926436017836,
          0.6150229315808741,
          0.11442550551889233,
          0.4476238554682732,
          -0.004129276926807785,
          0.004873063615042233,
          0.5589222088583671,
          0.138398171380156,
          -0.7866143713564087,
          -0.6307164271000898,
          -0.9502798767617484,
          -0.7803052685136022,
          0.678801444369813,
          0.7666673421944957,
          0.20248167130043002,
          -0.4968211800533886,
          0.09414902938632179,
          -0.41758839177260265,
          -0.9863341118633137,
          0.4874062629454152,
          0.42590766486494325,
          0.15239436821597788,
          0.5350704657963723,
          0.1813942901768825,
          -0.4671309018589474,
          0.8855916876158384,
          -0.21155112730989814,
          0.7255122839836888,
          -0.21924534466875292,
          -0.9347633772813565,
          -0.18576171124220023,
          0.6583172288785175,
          -0.9944328786366884,
          0.1648592516333903,
          -0.4502727155533046,
          0.0631706539361661,
          0.1589024668735835,
          -0.05333570134034795,
          -0.04219071247494905,
          0.9073951646241827,
          -0.7957253772479755,
          -0.3362303060494071,
          -0.9077572864471377,
          0.41042408537384545,
          -0.589927916084468,
          0.837389096516291,
          0.7647510744485566,
          0.29563229625831716,
          0.8638262417608682,
          0.14155953077312694,
          -0.25339934735480923,
          0.732597160744772,
          0.0094427138316249,
          0.15302280118659115,
          0.8251075627096521,
          -0.9102152524411098,
          0.7036670101171507,
          -0.8435656494438839,
          0.9305475591756337,
          0.8709487750534496,
          0.8410502368937575,
          0.29213376582124534,
          0.7979896597636403,
          0.8843394643082394,
          0.8863014558868572,
          0.778050633691699,
          0.5180818886306994,
          -0.009976787491612257,
          0.7642214314121721,
          0.8800778915072754,
          0.6704697812574256,
          -0.8179182982207682,
          0.4011594843080827,
          -0.5868055608850332,
          -0.29182074912100414,
          0.7734297754689547,
          -0.5462284037937056,
          -0.9227946717659515,
          0.09859983970355887,
          0.11140673891915415,
          -0.040697933272633054,
          -0.8501502827565425,
          0.5718091454303691,
          -0.016943634626741103,
          0.09215732623640424,
          0.951515578256893,
          -0.9447115941895723,
          0.6775401326017508,
          0.7108914659915455,
          0.8553894967538989,
          0.1638833122839551,
          0.20350917248647107,
          -0.4120281551228049,
          0.9569335428655604,
          0.0161290488374873,
          -0.0600874065214452,
          0.33886728029678215,
          -0.8590474060992316,
          0.8642043462139634,
          0.6446793889766167,
          0.6308575826303702,
          -0.840497686957815,
          -0.1664723537246115,
          -0.30928264529657085,
          -0.693103492756294,
          0.11178455952151682,
          0.8498657947362755,
          -0.602422421978577,
          0.678120114946944,
          0.25111913464950997,
          0.7696773298485362,
          0.42706068077934134,
          -0.7229688567535101,
          -0.09583258002375303,
          -0.3913088087710032,
          0.40224923242543487,
          0.9757487343956144,
          -0.9541118536336985,
          -0.5765193726224416,
          0.4697578276142849,
          -0.9459205162248198,
          -0.9948104218149325,
          0.5370357796380137,
          0.5769847735047233,
          0.9620582219698078,
          -0.08641105384166042,
          -0.4435892277957166,
          -0.9387595246834259,
          -0.705223394219024,
          -0.8806706182127102,
          0.26929518310323486,
          0.30855243215379424,
          0.16927331412969965,
          0.6077168162192095,
          0.8155913370558938,
          -0.7842684843235709,
          0.25010765425338155,
          0.7579956774077283,
          0.8751376880474308,
          0.21485996983406389,
          -0.54250609307567,
          0.8908127557552549,
          -0.8541985267836254,
          1,
          -0.7169287551481948,
          -0.9125287850320001,
          0.6863722804881816,
          0.177757285124306,
          -0.4235165719793324,
          -0.8765132481016306,
          -0.5757889809864022,
          0.3467784300209665,
          0.49872870261364494,
          -0.3125059027857819,
          -0.6421965499554172,
          -0.946902777456134,
          -0.40196482430984204,
          -0.4149335954653409,
          0.22629833868276417,
          -0.3722711975478449,
          -0.9043751854907469,
          -0.3402926318184788,
          -0.43557012977949217,
          -0.8773141304274555,
          -0.14923659605549383,
          -0.9682276281031478,
          0.9008050989032788,
          -0.8684354964939868,
          0.6048152879543165,
          0.7404035787387258,
          -0.31514780110955604,
          0.91671843021272,
          -0.7318573432260542,
          -0.601430888840584,
          -0.20823401624427187,
          -0.7440737315953939,
          -0.5694186309034879,
          -0.7715938104205736,
          -0.16515543275067304,
          -0.6468149956898768,
          -0.3623358684614181,
          0.0556436578957395,
          0.9294824830067194,
          -0.9159819777365521,
          -0.3656723470064083,
          0.3566287848486537,
          -0.9407815768197547,
          -0.7063979663283274,
          -0.16788226236821122,
          0.17627412285317612,
          0.37263956096475803,
          0.7200127970167031,
          0.9107903379373559,
          -0.08041522591052999,
          0.9444658532284237,
          -0.12734690558815304,
          0.958970733922728,
          0.7108783054921104,
          0.9262349040459362,
          -0.03035011599921174,
          0.1829330261381682,
          0.5603306650844361,
          0.07158997898515836,
          -0.5188680828093564,
          -0.8788076329633292,
          0.06423647023552542,
          -0.723884711239385,
          0.059811770405882654,
          0.9091230498910833,
          -0.6326951456889746,
          0.894646857321549,
          0.8471498638195317,
          -0.9343866837612592,
          0.8633392408502569,
          -0.3546299006318593,
          -0.7676368046044643,
          -0.0815003507112726,
          0.31838798806311636,
          0.9887781416454683,
          0.6918550096025923,
          -0.4713056639497192,
          0.7858844454376172,
          -0.22890378048057827,
          -0.27884212828432514,
          -0.7742195132355147,
          0.5673153390743241,
          -0.6908521404109412,
          0.5294911781389464,
          -0.4777110620279916
         ]
        }
       ],
       "layout": {
        "annotations": [
         {
          "showarrow": false,
          "text": "No. of contacts made",
          "xref": "paper",
          "yref": "paper"
         }
        ],
        "hovermode": "closest",
        "margin": {
         "b": 20,
         "l": 5,
         "r": 5,
         "t": 40
        },
        "showlegend": false,
        "template": {
         "data": {
          "bar": [
           {
            "error_x": {
             "color": "#2a3f5f"
            },
            "error_y": {
             "color": "#2a3f5f"
            },
            "marker": {
             "line": {
              "color": "#E5ECF6",
              "width": 0.5
             }
            },
            "type": "bar"
           }
          ],
          "barpolar": [
           {
            "marker": {
             "line": {
              "color": "#E5ECF6",
              "width": 0.5
             }
            },
            "type": "barpolar"
           }
          ],
          "carpet": [
           {
            "aaxis": {
             "endlinecolor": "#2a3f5f",
             "gridcolor": "white",
             "linecolor": "white",
             "minorgridcolor": "white",
             "startlinecolor": "#2a3f5f"
            },
            "baxis": {
             "endlinecolor": "#2a3f5f",
             "gridcolor": "white",
             "linecolor": "white",
             "minorgridcolor": "white",
             "startlinecolor": "#2a3f5f"
            },
            "type": "carpet"
           }
          ],
          "choropleth": [
           {
            "colorbar": {
             "outlinewidth": 0,
             "ticks": ""
            },
            "type": "choropleth"
           }
          ],
          "contour": [
           {
            "colorbar": {
             "outlinewidth": 0,
             "ticks": ""
            },
            "colorscale": [
             [
              0,
              "#0d0887"
             ],
             [
              0.1111111111111111,
              "#46039f"
             ],
             [
              0.2222222222222222,
              "#7201a8"
             ],
             [
              0.3333333333333333,
              "#9c179e"
             ],
             [
              0.4444444444444444,
              "#bd3786"
             ],
             [
              0.5555555555555556,
              "#d8576b"
             ],
             [
              0.6666666666666666,
              "#ed7953"
             ],
             [
              0.7777777777777778,
              "#fb9f3a"
             ],
             [
              0.8888888888888888,
              "#fdca26"
             ],
             [
              1,
              "#f0f921"
             ]
            ],
            "type": "contour"
           }
          ],
          "contourcarpet": [
           {
            "colorbar": {
             "outlinewidth": 0,
             "ticks": ""
            },
            "type": "contourcarpet"
           }
          ],
          "heatmap": [
           {
            "colorbar": {
             "outlinewidth": 0,
             "ticks": ""
            },
            "colorscale": [
             [
              0,
              "#0d0887"
             ],
             [
              0.1111111111111111,
              "#46039f"
             ],
             [
              0.2222222222222222,
              "#7201a8"
             ],
             [
              0.3333333333333333,
              "#9c179e"
             ],
             [
              0.4444444444444444,
              "#bd3786"
             ],
             [
              0.5555555555555556,
              "#d8576b"
             ],
             [
              0.6666666666666666,
              "#ed7953"
             ],
             [
              0.7777777777777778,
              "#fb9f3a"
             ],
             [
              0.8888888888888888,
              "#fdca26"
             ],
             [
              1,
              "#f0f921"
             ]
            ],
            "type": "heatmap"
           }
          ],
          "heatmapgl": [
           {
            "colorbar": {
             "outlinewidth": 0,
             "ticks": ""
            },
            "colorscale": [
             [
              0,
              "#0d0887"
             ],
             [
              0.1111111111111111,
              "#46039f"
             ],
             [
              0.2222222222222222,
              "#7201a8"
             ],
             [
              0.3333333333333333,
              "#9c179e"
             ],
             [
              0.4444444444444444,
              "#bd3786"
             ],
             [
              0.5555555555555556,
              "#d8576b"
             ],
             [
              0.6666666666666666,
              "#ed7953"
             ],
             [
              0.7777777777777778,
              "#fb9f3a"
             ],
             [
              0.8888888888888888,
              "#fdca26"
             ],
             [
              1,
              "#f0f921"
             ]
            ],
            "type": "heatmapgl"
           }
          ],
          "histogram": [
           {
            "marker": {
             "colorbar": {
              "outlinewidth": 0,
              "ticks": ""
             }
            },
            "type": "histogram"
           }
          ],
          "histogram2d": [
           {
            "colorbar": {
             "outlinewidth": 0,
             "ticks": ""
            },
            "colorscale": [
             [
              0,
              "#0d0887"
             ],
             [
              0.1111111111111111,
              "#46039f"
             ],
             [
              0.2222222222222222,
              "#7201a8"
             ],
             [
              0.3333333333333333,
              "#9c179e"
             ],
             [
              0.4444444444444444,
              "#bd3786"
             ],
             [
              0.5555555555555556,
              "#d8576b"
             ],
             [
              0.6666666666666666,
              "#ed7953"
             ],
             [
              0.7777777777777778,
              "#fb9f3a"
             ],
             [
              0.8888888888888888,
              "#fdca26"
             ],
             [
              1,
              "#f0f921"
             ]
            ],
            "type": "histogram2d"
           }
          ],
          "histogram2dcontour": [
           {
            "colorbar": {
             "outlinewidth": 0,
             "ticks": ""
            },
            "colorscale": [
             [
              0,
              "#0d0887"
             ],
             [
              0.1111111111111111,
              "#46039f"
             ],
             [
              0.2222222222222222,
              "#7201a8"
             ],
             [
              0.3333333333333333,
              "#9c179e"
             ],
             [
              0.4444444444444444,
              "#bd3786"
             ],
             [
              0.5555555555555556,
              "#d8576b"
             ],
             [
              0.6666666666666666,
              "#ed7953"
             ],
             [
              0.7777777777777778,
              "#fb9f3a"
             ],
             [
              0.8888888888888888,
              "#fdca26"
             ],
             [
              1,
              "#f0f921"
             ]
            ],
            "type": "histogram2dcontour"
           }
          ],
          "mesh3d": [
           {
            "colorbar": {
             "outlinewidth": 0,
             "ticks": ""
            },
            "type": "mesh3d"
           }
          ],
          "parcoords": [
           {
            "line": {
             "colorbar": {
              "outlinewidth": 0,
              "ticks": ""
             }
            },
            "type": "parcoords"
           }
          ],
          "pie": [
           {
            "automargin": true,
            "type": "pie"
           }
          ],
          "scatter": [
           {
            "marker": {
             "colorbar": {
              "outlinewidth": 0,
              "ticks": ""
             }
            },
            "type": "scatter"
           }
          ],
          "scatter3d": [
           {
            "line": {
             "colorbar": {
              "outlinewidth": 0,
              "ticks": ""
             }
            },
            "marker": {
             "colorbar": {
              "outlinewidth": 0,
              "ticks": ""
             }
            },
            "type": "scatter3d"
           }
          ],
          "scattercarpet": [
           {
            "marker": {
             "colorbar": {
              "outlinewidth": 0,
              "ticks": ""
             }
            },
            "type": "scattercarpet"
           }
          ],
          "scattergeo": [
           {
            "marker": {
             "colorbar": {
              "outlinewidth": 0,
              "ticks": ""
             }
            },
            "type": "scattergeo"
           }
          ],
          "scattergl": [
           {
            "marker": {
             "colorbar": {
              "outlinewidth": 0,
              "ticks": ""
             }
            },
            "type": "scattergl"
           }
          ],
          "scattermapbox": [
           {
            "marker": {
             "colorbar": {
              "outlinewidth": 0,
              "ticks": ""
             }
            },
            "type": "scattermapbox"
           }
          ],
          "scatterpolar": [
           {
            "marker": {
             "colorbar": {
              "outlinewidth": 0,
              "ticks": ""
             }
            },
            "type": "scatterpolar"
           }
          ],
          "scatterpolargl": [
           {
            "marker": {
             "colorbar": {
              "outlinewidth": 0,
              "ticks": ""
             }
            },
            "type": "scatterpolargl"
           }
          ],
          "scatterternary": [
           {
            "marker": {
             "colorbar": {
              "outlinewidth": 0,
              "ticks": ""
             }
            },
            "type": "scatterternary"
           }
          ],
          "surface": [
           {
            "colorbar": {
             "outlinewidth": 0,
             "ticks": ""
            },
            "colorscale": [
             [
              0,
              "#0d0887"
             ],
             [
              0.1111111111111111,
              "#46039f"
             ],
             [
              0.2222222222222222,
              "#7201a8"
             ],
             [
              0.3333333333333333,
              "#9c179e"
             ],
             [
              0.4444444444444444,
              "#bd3786"
             ],
             [
              0.5555555555555556,
              "#d8576b"
             ],
             [
              0.6666666666666666,
              "#ed7953"
             ],
             [
              0.7777777777777778,
              "#fb9f3a"
             ],
             [
              0.8888888888888888,
              "#fdca26"
             ],
             [
              1,
              "#f0f921"
             ]
            ],
            "type": "surface"
           }
          ],
          "table": [
           {
            "cells": {
             "fill": {
              "color": "#EBF0F8"
             },
             "line": {
              "color": "white"
             }
            },
            "header": {
             "fill": {
              "color": "#C8D4E3"
             },
             "line": {
              "color": "white"
             }
            },
            "type": "table"
           }
          ]
         },
         "layout": {
          "annotationdefaults": {
           "arrowcolor": "#2a3f5f",
           "arrowhead": 0,
           "arrowwidth": 1
          },
          "coloraxis": {
           "colorbar": {
            "outlinewidth": 0,
            "ticks": ""
           }
          },
          "colorscale": {
           "diverging": [
            [
             0,
             "#8e0152"
            ],
            [
             0.1,
             "#c51b7d"
            ],
            [
             0.2,
             "#de77ae"
            ],
            [
             0.3,
             "#f1b6da"
            ],
            [
             0.4,
             "#fde0ef"
            ],
            [
             0.5,
             "#f7f7f7"
            ],
            [
             0.6,
             "#e6f5d0"
            ],
            [
             0.7,
             "#b8e186"
            ],
            [
             0.8,
             "#7fbc41"
            ],
            [
             0.9,
             "#4d9221"
            ],
            [
             1,
             "#276419"
            ]
           ],
           "sequential": [
            [
             0,
             "#0d0887"
            ],
            [
             0.1111111111111111,
             "#46039f"
            ],
            [
             0.2222222222222222,
             "#7201a8"
            ],
            [
             0.3333333333333333,
             "#9c179e"
            ],
            [
             0.4444444444444444,
             "#bd3786"
            ],
            [
             0.5555555555555556,
             "#d8576b"
            ],
            [
             0.6666666666666666,
             "#ed7953"
            ],
            [
             0.7777777777777778,
             "#fb9f3a"
            ],
            [
             0.8888888888888888,
             "#fdca26"
            ],
            [
             1,
             "#f0f921"
            ]
           ],
           "sequentialminus": [
            [
             0,
             "#0d0887"
            ],
            [
             0.1111111111111111,
             "#46039f"
            ],
            [
             0.2222222222222222,
             "#7201a8"
            ],
            [
             0.3333333333333333,
             "#9c179e"
            ],
            [
             0.4444444444444444,
             "#bd3786"
            ],
            [
             0.5555555555555556,
             "#d8576b"
            ],
            [
             0.6666666666666666,
             "#ed7953"
            ],
            [
             0.7777777777777778,
             "#fb9f3a"
            ],
            [
             0.8888888888888888,
             "#fdca26"
            ],
            [
             1,
             "#f0f921"
            ]
           ]
          },
          "colorway": [
           "#636efa",
           "#EF553B",
           "#00cc96",
           "#ab63fa",
           "#FFA15A",
           "#19d3f3",
           "#FF6692",
           "#B6E880",
           "#FF97FF",
           "#FECB52"
          ],
          "font": {
           "color": "#2a3f5f"
          },
          "geo": {
           "bgcolor": "white",
           "lakecolor": "white",
           "landcolor": "#E5ECF6",
           "showlakes": true,
           "showland": true,
           "subunitcolor": "white"
          },
          "hoverlabel": {
           "align": "left"
          },
          "hovermode": "closest",
          "mapbox": {
           "style": "light"
          },
          "paper_bgcolor": "white",
          "plot_bgcolor": "#E5ECF6",
          "polar": {
           "angularaxis": {
            "gridcolor": "white",
            "linecolor": "white",
            "ticks": ""
           },
           "bgcolor": "#E5ECF6",
           "radialaxis": {
            "gridcolor": "white",
            "linecolor": "white",
            "ticks": ""
           }
          },
          "scene": {
           "xaxis": {
            "backgroundcolor": "#E5ECF6",
            "gridcolor": "white",
            "gridwidth": 2,
            "linecolor": "white",
            "showbackground": true,
            "ticks": "",
            "zerolinecolor": "white"
           },
           "yaxis": {
            "backgroundcolor": "#E5ECF6",
            "gridcolor": "white",
            "gridwidth": 2,
            "linecolor": "white",
            "showbackground": true,
            "ticks": "",
            "zerolinecolor": "white"
           },
           "zaxis": {
            "backgroundcolor": "#E5ECF6",
            "gridcolor": "white",
            "gridwidth": 2,
            "linecolor": "white",
            "showbackground": true,
            "ticks": "",
            "zerolinecolor": "white"
           }
          },
          "shapedefaults": {
           "line": {
            "color": "#2a3f5f"
           }
          },
          "ternary": {
           "aaxis": {
            "gridcolor": "white",
            "linecolor": "white",
            "ticks": ""
           },
           "baxis": {
            "gridcolor": "white",
            "linecolor": "white",
            "ticks": ""
           },
           "bgcolor": "#E5ECF6",
           "caxis": {
            "gridcolor": "white",
            "linecolor": "white",
            "ticks": ""
           }
          },
          "title": {
           "x": 0.05
          },
          "xaxis": {
           "automargin": true,
           "gridcolor": "white",
           "linecolor": "white",
           "ticks": "",
           "title": {
            "standoff": 15
           },
           "zerolinecolor": "white",
           "zerolinewidth": 2
          },
          "yaxis": {
           "automargin": true,
           "gridcolor": "white",
           "linecolor": "white",
           "ticks": "",
           "title": {
            "standoff": 15
           },
           "zerolinecolor": "white",
           "zerolinewidth": 2
          }
         }
        },
        "title": {
         "font": {
          "size": 16
         },
         "text": "<br>Karnataka Person to Person Network Tracing"
        },
        "xaxis": {
         "showgrid": false,
         "showticklabels": false,
         "zeroline": false
        },
        "yaxis": {
         "showgrid": false,
         "showticklabels": false,
         "zeroline": false
        }
       }
      },
      "text/html": [
       "<div>\n",
       "        \n",
       "        \n",
       "            <div id=\"af16da27-52ef-476b-8422-d8b1fddf84e6\" class=\"plotly-graph-div\" style=\"height:525px; width:100%;\"></div>\n",
       "            <script type=\"text/javascript\">\n",
       "                require([\"plotly\"], function(Plotly) {\n",
       "                    window.PLOTLYENV=window.PLOTLYENV || {};\n",
       "                    \n",
       "                if (document.getElementById(\"af16da27-52ef-476b-8422-d8b1fddf84e6\")) {\n",
       "                    Plotly.newPlot(\n",
       "                        'af16da27-52ef-476b-8422-d8b1fddf84e6',\n",
       "                        [{\"hoverinfo\": \"none\", \"line\": {\"color\": \"#888\", \"width\": 0.5}, \"mode\": \"lines\", \"type\": \"scatter\", \"x\": [-0.5849983352865907, -0.7634172210212824, null, -0.5849983352865907, -0.9111504808062061, null, -0.34866011334547514, -0.6998063670904405, null, -0.34866011334547514, -0.2641351578404291, null, -0.2641351578404291, -0.8398894935922888, null, -0.22491790248071827, -0.5217214587596879, null, 0.07714080804896228, 0.8992524293233389, null, -0.40098905420218506, 0.04887863004847909, null, -0.40098905420218506, -0.11319363159706385, null, -0.40098905420218506, -0.8599047451226961, null, 0.06785527472463118, 0.30331869184164634, null, 0.06785527472463118, 0.6308113651829134, null, 0.06785527472463118, 0.014602774726058839, null, 0.06785527472463118, 0.9524411932419125, null, 0.06785527472463118, -0.9741063028304309, null, 0.06785527472463118, 0.9284394862981418, null, 0.06785527472463118, -0.8850701804569081, null, -0.15851343719231598, 0.3220451056371536, null, -0.15851343719231598, -0.7856774182666523, null, -0.15851343719231598, -0.010756759597927452, null, 0.9806936251124809, 0.8919782443972951, null, 0.3886734682322345, 0.9121288668652512, null, 0.3886734682322345, 0.8619097336256154, null, 0.3886734682322345, 0.5590237023741358, null, -0.3443948746020807, -0.6191946269046669, null, 0.22762070587428285, -0.7868340972895018, null, 0.16309166022181176, 0.9484376582097391, null, 0.16309166022181176, -0.22806504025271718, null, 0.16309166022181176, -0.36944071754258573, null, 0.16309166022181176, -0.8904898781059981, null, 0.16309166022181176, 0.4338778515105721, null, 0.16309166022181176, -0.24115982813358067, null, 0.16309166022181176, 0.9573730674650569, null, 0.16309166022181176, 0.3201613657930907, null, 0.16309166022181176, 0.14270809669247464, null, 0.16309166022181176, 0.555633308988475, null, 0.16309166022181176, -0.5483033180746171, null, 0.16309166022181176, -0.12128281475114484, null, 0.16309166022181176, -0.72888470974665, null, 0.16309166022181176, 0.9119669139999216, null, 0.16309166022181176, 0.7949807236195636, null, 0.16309166022181176, -0.2017682912552103, null, 0.16309166022181176, 0.7495896688956728, null, 0.16309166022181176, -0.28759499807832467, null, 0.16309166022181176, -0.43969257430981057, null, 0.16309166022181176, -0.4811174334086454, null, 0.16309166022181176, 0.8648023712310643, null, 0.16309166022181176, 0.46173695929886815, null, 0.16309166022181176, 0.6905640891165661, null, 0.16309166022181176, 0.7653167273345618, null, 0.16309166022181176, 0.7885943496659046, null, 0.16309166022181176, -0.1567457052799844, null, 0.16309166022181176, 0.016495454842152982, null, 0.16309166022181176, -0.6250238393229107, null, 0.16309166022181176, -0.2088386804253064, null, 0.16309166022181176, 0.30741416576692293, null, 0.16309166022181176, 0.5554495120075904, null, 0.16309166022181176, -0.13861156148736703, null, 0.16309166022181176, 0.7298212383968782, null, -0.25143195454278233, -0.6282675886859986, null, -0.25143195454278233, 0.03360400245623876, null, -0.7856774182666523, -0.5422685705065917, null, 0.3790347561574001, -0.39120106462207827, null, -0.18706478584742686, 0.09578971845001072, null, 0.9484376582097391, 0.8905393160995292, null, -0.22806504025271718, -0.6832177124286499, null, 0.4338778515105721, 0.6908414795701653, null, -0.24115982813358067, -0.5364033884524374, null, 0.14270809669247464, -0.7376931762712579, null, 0.14270809669247464, 0.7702280140951765, null, 0.14270809669247464, 0.9279055167897357, null, 0.14270809669247464, -0.8366663404286679, null, 0.14270809669247464, -0.48460709817215153, null, 0.14270809669247464, 0.9558744048687271, null, 0.14270809669247464, 0.14906337271989858, null, 0.14270809669247464, 0.7785552390943301, null, -0.5422685705065917, 0.14314367248627763, null, 0.8144505203315671, 0.2550435332186629, null, -0.12128281475114484, 0.40192253234829173, null, -0.12128281475114484, -0.16509561420283467, null, -0.72888470974665, -0.713677652337546, null, -0.72888470974665, -0.5939226345966205, null, -0.6839027387446442, 0.018724897959978323, null, 0.9119669139999216, 0.5591562675803814, null, -0.7376931762712579, -0.9214747697639442, null, 0.7267582612789113, 0.20950003331378445, null, -0.9652718510327424, -0.9802356857944109, null, -0.5104889528347856, -0.2682768012166851, null, -0.5104889528347856, -0.1016529302436599, null, -0.5104889528347856, -0.09704786694593404, null, -0.5104889528347856, -0.7614331352160364, null, 0.3974800451335862, -0.21804311720245315, null, 0.3974800451335862, 0.7913258524565123, null, 0.3974800451335862, 0.9016126830927212, null, 0.3974800451335862, -0.17819657593153038, null, 0.3974800451335862, 0.05989427865196745, null, 0.08560443201504978, -0.29472043310037455, null, 0.08560443201504978, 0.7713565042181839, null, 0.08560443201504978, -0.5782422706503909, null, 0.08560443201504978, -0.3491917550256585, null, 0.08560443201504978, 0.19553759385518268, null, 0.10403368467397864, 0.3726847618051081, null, 0.10403368467397864, -0.28251267658151946, null, -0.02918958738132931, 0.1842634699660105, null, -0.02918958738132931, -0.7518394261820935, null, -0.02918958738132931, -0.8641682227084396, null, -0.02918958738132931, 0.39235564560381836, null, -0.02918958738132931, 0.9261220090680844, null, -0.02918958738132931, 0.036278437741848316, null, 0.020431580564755726, 0.6080446952520457, null, 0.020431580564755726, 0.5593370246985667, null, 0.020431580564755726, 0.7900390815496287, null, -0.26553681474763985, -0.6495771026319218, null, -0.26553681474763985, 0.26731074103425756, null, -0.26553681474763985, -0.6392949356156381, null, 0.0956477283989524, 0.7476823120086512, null, -0.2017682912552103, -0.7285668404664774, null, -0.2017682912552103, 0.3028046402337844, null, 0.6861111268236952, 0.6205178555092384, null, -0.09704786694593404, -0.005965406607784947, null, -0.09704786694593404, 0.7730086876948472, null, -0.09704786694593404, -0.39746783635295463, null, -0.09704786694593404, -0.8662969272487213, null, -0.09704786694593404, 0.2772837696784222, null, 0.17849291389076044, 0.2650797193774061, null, -0.13128430071360364, -0.9396570017899496, null, -0.13128430071360364, -0.10861612964644474, null, -0.13128430071360364, 0.7096994514311026, null, -0.13128430071360364, -0.39309319318318403, null, -0.13128430071360364, 0.9782882558688243, null, -0.13128430071360364, -0.7639465217963681, null, -0.13128430071360364, -0.9405503490616682, null, -0.13128430071360364, 0.4898168309388722, null, -0.13128430071360364, 0.28783426834814635, null, -0.13128430071360364, -0.936599373371069, null, -0.13128430071360364, -0.6894212288439076, null, -0.5619844978102572, 0.30845864317287647, null, 0.11186146886067398, 0.3953921477905684, null, 0.11186146886067398, -0.6562773378250627, null, 0.11186146886067398, 0.9028836602076422, null, 0.11186146886067398, 0.8170548622627819, null, 0.2781982099294572, 0.3953921477905684, null, 0.7573593398384183, 0.3953921477905684, null, -0.9802356857944109, 0.11553187970746427, null, -0.7027454176972493, -0.7136023021701733, null, -0.7027454176972493, -0.4895283648677872, null, -0.46782373395320465, -0.47728337384718805, null, 0.08579356698621135, -0.47108932112905005, null, 0.08579356698621135, 0.891476584603657, null, 0.08579356698621135, -0.7566831886898113, null, 0.08579356698621135, 0.9347168407551452, null, 0.08579356698621135, 0.009439962556197137, null, 0.3726847618051081, 0.5829968729925598, null, 0.3726847618051081, 0.8894624397936661, null, 0.3726847618051081, 0.9217029210434907, null, -0.5939226345966205, -0.013448176017865323, null, -0.005965406607784947, 0.9631317295243029, null, -0.005965406607784947, -0.9829771161095318, null, -0.005965406607784947, 0.34132915932638447, null, -0.26741135264577537, 0.28751661700435444, null, -0.26741135264577537, -0.5426059805592369, null, -0.26741135264577537, -0.10210452258612526, null, -0.26741135264577537, -0.11829140584839679, null, 0.5028381936097575, 0.6275043091605652, null, -0.10861612964644474, -0.684753532884737, null, -0.37621954598855206, 0.47158976430137856, null, -0.37621954598855206, -0.9782860933574403, null, -0.37621954598855206, -0.6816871028836669, null, -0.37621954598855206, -0.3505964517295679, null, -0.37621954598855206, -0.9405938615381487, null, 0.30845864317287647, 0.9913535116255351, null, 0.20950003331378445, 0.355327727978969, null, 0.20950003331378445, -0.7120229506611698, null, -0.1520058733837231, 0.06187326109633005, null, -0.1520058733837231, -0.9490153469865422, null, -0.1520058733837231, -0.40131351080612726, null, -0.1520058733837231, 0.34553219231974514, null, -0.1520058733837231, -0.8187379615809304, null, -0.1520058733837231, -0.2498115977844614, null, -0.1520058733837231, 0.3404222298299233, null, -0.1520058733837231, -0.8143557619302653, null, -0.1520058733837231, 0.18662824372932213, null, -0.1520058733837231, -0.33381227736742874, null, -0.1520058733837231, -0.9015355686345121, null, -0.1520058733837231, 0.9289506220918698, null, -0.1520058733837231, -0.9323898355402475, null, -0.3491917550256585, -0.8416208849806498, null, -0.3491917550256585, 0.6956590800401264, null, -0.3491917550256585, -0.9618658304842549, null, -0.3491917550256585, -0.9325561669741389, null, -0.3491917550256585, -0.9088476925205569, null, -0.3491917550256585, -0.1439849546947439, null, -0.3491917550256585, -0.13217274024462844, null, 0.26731074103425756, 0.5065312495573172, null, 0.26731074103425756, 0.6500214484678997, null, 0.39943636035813457, -0.28510882530282944, null, -0.11829140584839679, 0.5738454317849405, null, 0.7900390815496287, 0.7931318632857545, null, 0.7900390815496287, 0.3351790437616982, null, 0.7900390815496287, 0.5894871891186295, null, 0.7900390815496287, 0.5398259166081798, null, 0.07359143277191044, 0.5020056591141924, null, 0.07359143277191044, 0.5005731711379655, null, 0.07359143277191044, -0.2790495550157706, null, -0.1797955972970653, -0.846442013885377, null, -0.1797955972970653, 0.6097773911345233, null, -0.1797955972970653, -0.6167019937648651, null, -0.1797955972970653, -0.06854684662146532, null, -0.12099870546698616, -0.9802329700245677, null, -0.12099870546698616, 0.8086018573835961, null, -0.12099870546698616, 0.4221754486483412, null, -0.12099870546698616, -0.08972573728158709, null, 0.9799569665118444, 0.7677914711170933, null, -0.4934913170472261, 0.40646102563855485, null, -0.3912191253517308, -0.949659910905582, null, 0.2650797193774061, -0.046275145178399306, null, -0.2498115977844614, 0.1863902163416755, null, -0.28759499807832467, 0.5354930912220301, null, 0.20250450346938814, 0.07179557937278223, null, -0.4515445688891363, 0.07193594491238622, null], \"y\": [-0.22697390795008596, 0.4269752549698217, null, -0.22697390795008596, 0.31503693861593857, null, -0.4580520635030268, -0.38355710722485026, null, -0.4580520635030268, 0.39613198158787166, null, 0.39613198158787166, 0.505964504149791, null, -0.42637918100848465, 0.06799372078599356, null, 0.6496912155715989, 0.3988104231612669, null, -0.09019846778457777, -0.9759923001853276, null, -0.09019846778457777, 0.5467737164968631, null, -0.09019846778457777, -0.4869230249744946, null, 0.15765398194678693, -0.5012275117230957, null, 0.15765398194678693, 0.5666763520012114, null, 0.15765398194678693, 0.9851220569442037, null, 0.15765398194678693, -0.3854606300488563, null, 0.15765398194678693, 0.14916089985187914, null, 0.15765398194678693, -0.18110428078153498, null, 0.15765398194678693, 0.4874062629454152, null, -0.12162307232857057, -0.8562862705559605, null, -0.12162307232857057, -0.5967583919854668, null, -0.12162307232857057, 0.9479774082433847, null, 0.18196400788025505, -0.43438797861385897, null, 0.3100712141439433, 0.47414239775657013, null, 0.3100712141439433, 0.22970084911831531, null, 0.3100712141439433, 0.7205020690412367, null, -0.8505639013063045, -0.7742195132355147, null, -0.1970566375193861, -0.24980302934369283, null, 0.08634034500405573, 0.002410871751600816, null, 0.08634034500405573, 0.642184354791338, null, 0.08634034500405573, 0.5658721902575382, null, 0.08634034500405573, 0.026684356739703673, null, 0.08634034500405573, -0.2920729813136547, null, 0.08634034500405573, 0.754135921737484, null, 0.08634034500405573, -0.25032823507541646, null, 0.08634034500405573, 0.9457302826510569, null, 0.08634034500405573, -0.4428980688622399, null, 0.08634034500405573, -0.524143666038136, null, 0.08634034500405573, 0.8351260116725764, null, 0.08634034500405573, -0.5064980078861614, null, 0.08634034500405573, -0.013912399532121313, null, 0.08634034500405573, 0.32671808123545504, null, 0.08634034500405573, 0.5977189621639571, null, 0.08634034500405573, 0.3100982295521666, null, 0.08634034500405573, 0.6863722804881816, null, 0.08634034500405573, 0.177757285124306, null, 0.08634034500405573, -0.4235165719793324, null, 0.08634034500405573, 0.7404035787387258, null, 0.08634034500405573, -0.31514780110955604, null, 0.08634034500405573, 0.91671843021272, null, 0.08634034500405573, -0.7318573432260542, null, 0.08634034500405573, -0.601430888840584, null, 0.08634034500405573, -0.20823401624427187, null, 0.08634034500405573, -0.7440737315953939, null, 0.08634034500405573, -0.5694186309034879, null, 0.08634034500405573, -0.08041522591052999, null, 0.08634034500405573, 0.9444658532284237, null, 0.08634034500405573, 0.894646857321549, null, 0.08634034500405573, 0.8471498638195317, null, 0.08634034500405573, -0.9343866837612592, null, 0.08634034500405573, -0.7676368046044643, null, -0.2824349515064319, -0.610726618536613, null, -0.2824349515064319, 0.26448751593915726, null, -0.5967583919854668, -0.10388032897466443, null, 0.8413934135654186, 0.932776206690146, null, 0.9815686612900071, 0.5673153390743241, null, 0.002410871751600816, -0.54250609307567, null, 0.642184354791338, 0.7666673421944957, null, -0.2920729813136547, 0.14622152946196662, null, 0.754135921737484, 0.6583172288785175, null, -0.4428980688622399, -0.7111949015935465, null, -0.4428980688622399, -0.6362377933001355, null, -0.4428980688622399, -0.05333570134034795, null, -0.4428980688622399, -0.04219071247494905, null, -0.4428980688622399, -0.7957253772479755, null, -0.4428980688622399, -0.3362303060494071, null, -0.4428980688622399, -0.9077572864471377, null, -0.4428980688622399, -0.589927916084468, null, -0.10388032897466443, 0.41042408537384545, null, -0.026422535270041705, -0.9315335353190554, null, -0.5064980078861614, -0.6601698321199667, null, -0.5064980078861614, -0.9347633772813565, null, -0.013912399532121313, 0.582941501405882, null, -0.013912399532121313, -0.7803052685136022, null, 0.742510181705184, 0.7571144319004073, null, 0.32671808123545504, 0.7412641501948806, null, -0.7111949015935465, -0.18576171124220023, null, 0.7449579121673514, 0.9073951646241827, null, 0.24352524529953148, 0.11442550551889233, null, -0.6154420965578158, -0.866826597488514, null, -0.6154420965578158, -0.9476430087816621, null, -0.6154420965578158, -0.44053584107567223, null, -0.6154420965578158, 0.11140673891915415, null, -0.535812042657853, -0.9159819777365521, null, -0.535812042657853, -0.3656723470064083, null, -0.535812042657853, 0.3566287848486537, null, -0.535812042657853, -0.9407815768197547, null, -0.535812042657853, -0.7063979663283274, null, 0.1224007934062417, -0.9502798767617484, null, 0.1224007934062417, 0.42590766486494325, null, 0.1224007934062417, 0.15239436821597788, null, 0.1224007934062417, 0.0094427138316249, null, 0.1224007934062417, 0.9107903379373559, null, 0.38287550806673615, 0.138398171380156, null, 0.38287550806673615, -0.03035011599921174, null, -0.4703081794195195, -0.9043751854907469, null, -0.4703081794195195, -0.3402926318184788, null, -0.4703081794195195, -0.43557012977949217, null, -0.4703081794195195, -0.8773141304274555, null, -0.4703081794195195, -0.14923659605549383, null, -0.4703081794195195, -0.9682276281031478, null, -0.1634893716632198, -0.8179182982207682, null, -0.1634893716632198, 0.4011594843080827, null, -0.1634893716632198, -0.5868055608850332, null, 0.9011465751117821, 0.732597160744772, null, 0.9011465751117821, 0.15302280118659115, null, 0.9011465751117821, 0.8251075627096521, null, -0.9193290774628181, -0.6908521404109412, null, 0.3100982295521666, 0.678801444369813, null, 0.3100982295521666, -0.21924534466875292, null, 0.6608309826051777, 0.7642214314121721, null, -0.44053584107567223, 0.20248167130043002, null, -0.44053584107567223, -0.4968211800533886, null, -0.44053584107567223, 0.09414902938632179, null, -0.44053584107567223, -0.5462284037937056, null, -0.44053584107567223, -0.9227946717659515, null, 0.9003540839638176, 0.16927331412969965, null, -0.20562073478251175, -0.21155112730989814, null, -0.20562073478251175, 0.7255122839836888, null, -0.20562073478251175, -0.7169287551481948, null, -0.20562073478251175, -0.9125287850320001, null, -0.20562073478251175, -0.16515543275067304, null, -0.20562073478251175, -0.6468149956898768, null, -0.20562073478251175, -0.3623358684614181, null, -0.20562073478251175, 0.0556436578957395, null, -0.20562073478251175, -0.8788076329633292, null, -0.20562073478251175, 0.06423647023552542, null, -0.20562073478251175, -0.723884711239385, null, -0.6868417812909525, -0.4502727155533046, null, 0.18322145355188085, 0.5294911781389464, null, 0.18322145355188085, -0.5757889809864022, null, 0.18322145355188085, 0.3467784300209665, null, 0.18322145355188085, 0.49872870261364494, null, 0.9520926436017836, 0.5294911781389464, null, 0.6150229315808741, 0.5294911781389464, null, 0.11442550551889233, 0.17627412285317612, null, 0.4476238554682732, 0.5589222088583671, null, 0.4476238554682732, 0.6918550096025923, null, -0.004129276926807785, 0.7108914659915455, null, 0.004873063615042233, 0.8638262417608682, null, 0.004873063615042233, -0.25339934735480923, null, 0.004873063615042233, 0.5718091454303691, null, 0.004873063615042233, 0.09215732623640424, null, 0.004873063615042233, -0.22890378048057827, null, 0.138398171380156, 0.778050633691699, null, 0.138398171380156, 0.5180818886306994, null, 0.138398171380156, -0.009976787491612257, null, -0.7803052685136022, -0.9944328786366884, null, 0.20248167130043002, 0.1638833122839551, null, 0.20248167130043002, -0.12734690558815304, null, 0.20248167130043002, 0.958970733922728, null, 0.5350704657963723, 0.29213376582124534, null, 0.5350704657963723, 0.7979896597636403, null, 0.5350704657963723, 0.8843394643082394, null, 0.5350704657963723, 0.8863014558868572, null, -0.4671309018589474, 0.1589024668735835, null, 0.7255122839836888, 0.6775401326017508, null, 0.1648592516333903, -0.016943634626741103, null, 0.1648592516333903, -0.16788226236821122, null, 0.1648592516333903, -0.4713056639497192, null, 0.1648592516333903, 0.7858844454376172, null, 0.1648592516333903, -0.27884212828432514, null, -0.4502727155533046, 0.0631706539361661, null, 0.9073951646241827, 0.8800778915072754, null, 0.9073951646241827, 0.6704697812574256, null, 0.14155953077312694, 0.951515578256893, null, 0.14155953077312694, -0.30928264529657085, null, 0.14155953077312694, -0.693103492756294, null, 0.14155953077312694, 0.8498657947362755, null, 0.14155953077312694, 0.6077168162192095, null, 0.14155953077312694, 0.8155913370558938, null, 0.14155953077312694, -0.7842684843235709, null, 0.14155953077312694, 0.25010765425338155, null, 0.14155953077312694, 0.7579956774077283, null, 0.14155953077312694, 0.8908127557552549, null, 0.14155953077312694, -0.4149335954653409, null, 0.14155953077312694, 0.22629833868276417, null, 0.14155953077312694, 0.37263956096475803, null, 0.0094427138316249, -0.602422421978577, null, 0.0094427138316249, 0.42706068077934134, null, 0.0094427138316249, -0.09583258002375303, null, 0.0094427138316249, -0.3913088087710032, null, 0.0094427138316249, 0.40224923242543487, null, 0.0094427138316249, 0.9757487343956144, null, 0.0094427138316249, -0.9541118536336985, null, 0.15302280118659115, 0.7696773298485362, null, 0.15302280118659115, -0.7229688567535101, null, 0.7036670101171507, 0.8751376880474308, null, 0.8863014558868572, 0.7200127970167031, null, -0.5868055608850332, -0.4435892277957166, null, -0.5868055608850332, -0.9387595246834259, null, -0.5868055608850332, -0.705223394219024, null, -0.5868055608850332, -0.8806706182127102, null, 0.09859983970355887, 0.9008050989032788, null, 0.09859983970355887, -0.8684354964939868, null, 0.09859983970355887, 0.6048152879543165, null, -0.040697933272633054, 0.11178455952151682, null, -0.040697933272633054, 0.678120114946944, null, -0.040697933272633054, -0.6421965499554172, null, -0.040697933272633054, -0.946902777456134, null, 0.20350917248647107, 0.1829330261381682, null, 0.20350917248647107, 0.5603306650844361, null, 0.20350917248647107, 0.059811770405882654, null, 0.20350917248647107, 0.9091230498910833, null, -0.0600874065214452, -0.5188680828093564, null, -0.840497686957815, -0.8765132481016306, null, -0.1664723537246115, 0.26929518310323486, null, 0.16927331412969965, 0.9262349040459362, null, 0.8155913370558938, 0.07158997898515836, null, 0.177757285124306, -0.0815003507112726, null, -0.3125059027857819, 0.31838798806311636, null, -0.3722711975478449, -0.4777110620279916, null]}, {\"hoverinfo\": \"text\", \"marker\": {\"color\": [2, 1, 1, 0, 0, 2, 1, 0, 2, 0, 1, 0, 1, 0, 0, 1, 3, 0, 7, 0, 0, 0, 0, 0, 3, 0, 0, 0, 0, 1, 0, 0, 0, 0, 1, 3, 1, 1, 0, 0, 0, 1, 0, 0, 0, 0, 0, 0, 1, 1, 0, 33, 0, 0, 1, 0, 0, 2, 2, 1, 1, 0, 0, 0, 1, 1, 1, 1, 1, 1, 1, 1, 1, 0, 1, 1, 2, 2, 1, 1, 2, 0, 0, 1, 2, 1, 1, 9, 0, 0, 0, 2, 0, 1, 1, 1, 0, 0, 1, 0, 1, 0, 3, 3, 1, 1, 0, 0, 2, 1, 2, 1, 1, 0, 0, 0, 0, 0, 0, 0, 0, 1, 0, 1, 4, 0, 5, 5, 1, 1, 1, 0, 0, 2, 0, 0, 0, 0, 0, 1, 6, 0, 0, 0, 0, 0, 0, 0, 3, 3, 0, 1, 1, 1, 0, 0, 0, 0, 3, 0, 1, 1, 0, 1, 6, 1, 11, 0, 1, 0, 4, 1, 1, 2, 2, 1, 5, 1, 4, 0, 0, 1, 2, 1, 1, 4, 1, 1, 0, 0, 1, 1, 1, 4, 0, 1, 0, 1, 2, 1, 1, 1, 1, 1, 5, 2, 1, 1, 1, 1, 3, 1, 1, 1, 1, 1, 0, 0, 0, 1, 13, 1, 1, 8, 3, 1, 0, 1, 0, 0, 0, 0, 1, 1, 1, 2, 1, 1, 1, 1, 1, 1, 1, 1, 5, 0, 0, 1, 1, 3, 1, 4, 0, 1, 1, 1, 1, 0, 1, 1, 0, 1, 4, 0, 0, 0, 1, 0, 0, 0, 0, 0, 1, 1, 1, 1, 1, 1, 1, 1, 0, 1, 1, 1, 1, 1, 1, 1, 1, 0, 0, 0, 0, 0, 0, 0, 0, 1, 1, 1, 1, 1, 0, 2, 1, 2, 1, 1, 1, 1, 0, 1, 1, 0, 0, 1, 1, 1, 2, 1, 1, 1, 1, 1, 1, 1, 1, 0, 1, 1, 1, 1, 1, 1, 1, 1, 1, 1, 1, 1, 1, 1, 1, 1, 1, 1, 1, 1, 0, 1, 1, 1, 1, 0, 1, 1, 1, 1, 1, 1, 1, 1, 1, 1, 1, 1, 1, 1, 0, 1, 1, 1, 1, 1, 1, 1, 1, 1, 1, 1, 0, 1, 1, 1, 0, 0, 1, 1, 1, 0, 1, 1, 1, 1, 1, 1, 1, 1, 3, 1], \"colorbar\": {\"thickness\": 10, \"title\": {\"side\": \"right\", \"text\": \"Node Connections\"}, \"xanchor\": \"left\"}, \"colorscale\": [[0.0, \"rgb(103,0,31)\"], [0.1, \"rgb(178,24,43)\"], [0.2, \"rgb(214,96,77)\"], [0.3, \"rgb(244,165,130)\"], [0.4, \"rgb(253,219,199)\"], [0.5, \"rgb(247,247,247)\"], [0.6, \"rgb(209,229,240)\"], [0.7, \"rgb(146,197,222)\"], [0.8, \"rgb(67,147,195)\"], [0.9, \"rgb(33,102,172)\"], [1.0, \"rgb(5,48,97)\"]], \"line\": {\"width\": 0}, \"reversescale\": true, \"showscale\": true, \"size\": 15}, \"mode\": \"markers\", \"text\": [\"1 # of connections: 2\", \"2 # of connections: 1\", \"3 # of connections: 1\", \"4 # of connections: 0\", \"5 # of connections: 0\", \"6 # of connections: 2\", \"7 # of connections: 1\", \"8 # of connections: 0\", \"9 # of connections: 2\", \"10 # of connections: 0\", \"11 # of connections: 1\", \"12 # of connections: 0\", \"13 # of connections: 1\", \"14 # of connections: 0\", \"15 # of connections: 0\", \"16 # of connections: 1\", \"17 # of connections: 3\", \"18 # of connections: 0\", \"19 # of connections: 7\", \"20 # of connections: 0\", \"21 # of connections: 0\", \"22 # of connections: 0\", \"23 # of connections: 0\", \"24 # of connections: 0\", \"25 # of connections: 3\", \"26 # of connections: 0\", \"27 # of connections: 0\", \"28 # of connections: 0\", \"29 # of connections: 0\", \"30 # of connections: 1\", \"31 # of connections: 0\", \"32 # of connections: 0\", \"33 # of connections: 0\", \"34 # of connections: 0\", \"35 # of connections: 1\", \"36 # of connections: 3\", \"37 # of connections: 1\", \"38 # of connections: 1\", \"39 # of connections: 0\", \"40 # of connections: 0\", \"41 # of connections: 0\", \"42 # of connections: 1\", \"43 # of connections: 0\", \"44 # of connections: 0\", \"45 # of connections: 0\", \"46 # of connections: 0\", \"47 # of connections: 0\", \"48 # of connections: 0\", \"49 # of connections: 1\", \"50 # of connections: 1\", \"51 # of connections: 0\", \"52 # of connections: 33\", \"53 # of connections: 0\", \"54 # of connections: 0\", \"55 # of connections: 1\", \"56 # of connections: 0\", \"57 # of connections: 0\", \"58 # of connections: 2\", \"59 # of connections: 2\", \"60 # of connections: 1\", \"61 # of connections: 1\", \"62 # of connections: 0\", \"63 # of connections: 0\", \"64 # of connections: 0\", \"65 # of connections: 1\", \"66 # of connections: 1\", \"67 # of connections: 1\", \"68 # of connections: 1\", \"69 # of connections: 1\", \"70 # of connections: 1\", \"71 # of connections: 1\", \"72 # of connections: 1\", \"73 # of connections: 1\", \"74 # of connections: 0\", \"75 # of connections: 1\", \"76 # of connections: 1\", \"77 # of connections: 2\", \"78 # of connections: 2\", \"79 # of connections: 1\", \"80 # of connections: 1\", \"81 # of connections: 2\", \"82 # of connections: 0\", \"83 # of connections: 0\", \"84 # of connections: 1\", \"85 # of connections: 2\", \"86 # of connections: 1\", \"87 # of connections: 1\", \"88 # of connections: 9\", \"89 # of connections: 0\", \"90 # of connections: 0\", \"91 # of connections: 0\", \"92 # of connections: 2\", \"93 # of connections: 0\", \"94 # of connections: 1\", \"95 # of connections: 1\", \"96 # of connections: 1\", \"97 # of connections: 0\", \"98 # of connections: 0\", \"99 # of connections: 1\", \"100 # of connections: 0\", \"101 # of connections: 1\", \"102 # of connections: 0\", \"103 # of connections: 3\", \"104 # of connections: 3\", \"105 # of connections: 1\", \"106 # of connections: 1\", \"107 # of connections: 0\", \"108 # of connections: 0\", \"109 # of connections: 2\", \"110 # of connections: 1\", \"111 # of connections: 2\", \"112 # of connections: 1\", \"113 # of connections: 1\", \"114 # of connections: 0\", \"115 # of connections: 0\", \"116 # of connections: 0\", \"117 # of connections: 0\", \"118 # of connections: 0\", \"119 # of connections: 0\", \"120 # of connections: 0\", \"121 # of connections: 0\", \"122 # of connections: 1\", \"123 # of connections: 0\", \"124 # of connections: 1\", \"125 # of connections: 4\", \"126 # of connections: 0\", \"127 # of connections: 5\", \"128 # of connections: 5\", \"129 # of connections: 1\", \"130 # of connections: 1\", \"131 # of connections: 1\", \"132 # of connections: 0\", \"133 # of connections: 0\", \"134 # of connections: 2\", \"135 # of connections: 0\", \"136 # of connections: 0\", \"137 # of connections: 0\", \"138 # of connections: 0\", \"139 # of connections: 0\", \"140 # of connections: 1\", \"141 # of connections: 6\", \"142 # of connections: 0\", \"143 # of connections: 0\", \"144 # of connections: 0\", \"145 # of connections: 0\", \"146 # of connections: 0\", \"147 # of connections: 0\", \"148 # of connections: 0\", \"149 # of connections: 3\", \"150 # of connections: 3\", \"151 # of connections: 0\", \"152 # of connections: 1\", \"153 # of connections: 1\", \"154 # of connections: 1\", \"155 # of connections: 0\", \"156 # of connections: 0\", \"157 # of connections: 0\", \"158 # of connections: 0\", \"159 # of connections: 3\", \"160 # of connections: 0\", \"161 # of connections: 1\", \"162 # of connections: 1\", \"163 # of connections: 0\", \"164 # of connections: 1\", \"165 # of connections: 6\", \"166 # of connections: 1\", \"167 # of connections: 11\", \"168 # of connections: 0\", \"169 # of connections: 1\", \"170 # of connections: 0\", \"171 # of connections: 4\", \"172 # of connections: 1\", \"173 # of connections: 1\", \"174 # of connections: 2\", \"175 # of connections: 2\", \"176 # of connections: 1\", \"177 # of connections: 5\", \"178 # of connections: 1\", \"179 # of connections: 4\", \"180 # of connections: 0\", \"181 # of connections: 0\", \"182 # of connections: 1\", \"183 # of connections: 2\", \"184 # of connections: 1\", \"185 # of connections: 1\", \"186 # of connections: 4\", \"187 # of connections: 1\", \"188 # of connections: 1\", \"189 # of connections: 0\", \"190 # of connections: 0\", \"191 # of connections: 1\", \"192 # of connections: 1\", \"193 # of connections: 1\", \"194 # of connections: 4\", \"195 # of connections: 0\", \"196 # of connections: 1\", \"197 # of connections: 0\", \"198 # of connections: 1\", \"199 # of connections: 2\", \"200 # of connections: 1\", \"201 # of connections: 1\", \"202 # of connections: 1\", \"203 # of connections: 1\", \"204 # of connections: 1\", \"205 # of connections: 5\", \"206 # of connections: 2\", \"207 # of connections: 1\", \"208 # of connections: 1\", \"209 # of connections: 1\", \"210 # of connections: 1\", \"211 # of connections: 3\", \"212 # of connections: 1\", \"213 # of connections: 1\", \"214 # of connections: 1\", \"215 # of connections: 1\", \"216 # of connections: 1\", \"217 # of connections: 0\", \"218 # of connections: 0\", \"219 # of connections: 0\", \"220 # of connections: 1\", \"221 # of connections: 13\", \"222 # of connections: 1\", \"223 # of connections: 1\", \"224 # of connections: 8\", \"225 # of connections: 3\", \"226 # of connections: 1\", \"227 # of connections: 0\", \"228 # of connections: 1\", \"229 # of connections: 0\", \"230 # of connections: 0\", \"231 # of connections: 0\", \"232 # of connections: 0\", \"233 # of connections: 1\", \"234 # of connections: 1\", \"235 # of connections: 1\", \"236 # of connections: 2\", \"237 # of connections: 1\", \"238 # of connections: 1\", \"239 # of connections: 1\", \"240 # of connections: 1\", \"241 # of connections: 1\", \"242 # of connections: 1\", \"243 # of connections: 1\", \"244 # of connections: 1\", \"245 # of connections: 5\", \"246 # of connections: 0\", \"247 # of connections: 0\", \"248 # of connections: 1\", \"249 # of connections: 1\", \"250 # of connections: 3\", \"251 # of connections: 1\", \"252 # of connections: 4\", \"253 # of connections: 0\", \"254 # of connections: 1\", \"255 # of connections: 1\", \"256 # of connections: 1\", \"257 # of connections: 1\", \"258 # of connections: 0\", \"259 # of connections: 1\", \"260 # of connections: 1\", \"261 # of connections: 0\", \"262 # of connections: 1\", \"263 # of connections: 4\", \"264 # of connections: 0\", \"265 # of connections: 0\", \"266 # of connections: 0\", \"267 # of connections: 1\", \"268 # of connections: 0\", \"269 # of connections: 0\", \"270 # of connections: 0\", \"271 # of connections: 0\", \"272 # of connections: 0\", \"273 # of connections: 1\", \"274 # of connections: 1\", \"275 # of connections: 1\", \"276 # of connections: 1\", \"277 # of connections: 1\", \"278 # of connections: 1\", \"279 # of connections: 1\", \"280 # of connections: 1\", \"281 # of connections: 0\", \"282 # of connections: 1\", \"283 # of connections: 1\", \"284 # of connections: 1\", \"285 # of connections: 1\", \"286 # of connections: 1\", \"287 # of connections: 1\", \"288 # of connections: 1\", \"289 # of connections: 1\", \"290 # of connections: 0\", \"291 # of connections: 0\", \"292 # of connections: 0\", \"293 # of connections: 0\", \"294 # of connections: 0\", \"295 # of connections: 0\", \"296 # of connections: 0\", \"297 # of connections: 0\", \"298 # of connections: 1\", \"299 # of connections: 1\", \"300 # of connections: 1\", \"301 # of connections: 1\", \"302 # of connections: 1\", \"303 # of connections: 0\", \"304 # of connections: 2\", \"305 # of connections: 1\", \"306 # of connections: 2\", \"307 # of connections: 1\", \"308 # of connections: 1\", \"309 # of connections: 1\", \"310 # of connections: 1\", \"311 # of connections: 0\", \"312 # of connections: 1\", \"313 # of connections: 1\", \"314 # of connections: 0\", \"315 # of connections: 0\", \"316 # of connections: 1\", \"317 # of connections: 1\", \"318 # of connections: 1\", \"319 # of connections: 2\", \"320 # of connections: 1\", \"321 # of connections: 1\", \"322 # of connections: 1\", \"323 # of connections: 1\", \"324 # of connections: 1\", \"325 # of connections: 1\", \"326 # of connections: 1\", \"327 # of connections: 1\", \"328 # of connections: 0\", \"329 # of connections: 1\", \"330 # of connections: 1\", \"331 # of connections: 1\", \"332 # of connections: 1\", \"333 # of connections: 1\", \"334 # of connections: 1\", \"335 # of connections: 1\", \"336 # of connections: 1\", \"337 # of connections: 1\", \"338 # of connections: 1\", \"339 # of connections: 1\", \"340 # of connections: 1\", \"341 # of connections: 1\", \"342 # of connections: 1\", \"343 # of connections: 1\", \"344 # of connections: 1\", \"345 # of connections: 1\", \"346 # of connections: 1\", \"347 # of connections: 1\", \"348 # of connections: 1\", \"349 # of connections: 0\", \"350 # of connections: 1\", \"351 # of connections: 1\", \"352 # of connections: 1\", \"353 # of connections: 1\", \"354 # of connections: 0\", \"355 # of connections: 1\", \"356 # of connections: 1\", \"357 # of connections: 1\", \"358 # of connections: 1\", \"359 # of connections: 1\", \"360 # of connections: 1\", \"361 # of connections: 1\", \"362 # of connections: 1\", \"363 # of connections: 1\", \"364 # of connections: 1\", \"365 # of connections: 1\", \"366 # of connections: 1\", \"367 # of connections: 1\", \"368 # of connections: 1\", \"369 # of connections: 0\", \"370 # of connections: 1\", \"371 # of connections: 1\", \"372 # of connections: 1\", \"373 # of connections: 1\", \"374 # of connections: 1\", \"375 # of connections: 1\", \"376 # of connections: 1\", \"377 # of connections: 1\", \"378 # of connections: 1\", \"379 # of connections: 1\", \"380 # of connections: 1\", \"381 # of connections: 0\", \"382 # of connections: 1\", \"383 # of connections: 1\", \"384 # of connections: 1\", \"385 # of connections: 0\", \"386 # of connections: 0\", \"387 # of connections: 1\", \"388 # of connections: 1\", \"389 # of connections: 1\", \"390 # of connections: 0\", \"391 # of connections: 1\", \"392 # of connections: 1\", \"393 # of connections: 1\", \"394 # of connections: 1\", \"395 # of connections: 1\", \"19, # of connections: 1\", \"25's # of connections: 1\", \"43, # of connections: 1\", \"134,P # of connections: 3\", \"89,P # of connections: 1\"], \"type\": \"scatter\", \"x\": [-0.5849983352865907, -0.7634172210212824, -0.9111504808062061, -0.8401235264004591, 0.44355295887085766, -0.34866011334547514, -0.6998063670904405, -0.9049098489988247, -0.2641351578404291, 0.871403375363512, -0.22491790248071827, 0.9211787965751678, 0.07714080804896228, -0.6139931669902539, 0.7897192463804064, -0.5217214587596879, -0.40098905420218506, -0.941077507424907, 0.06785527472463118, 0.006207898897705332, -0.9857320203378737, 0.6189722954826253, 0.343918169640595, 0.5616919153265638, -0.15851343719231598, -0.605388437992708, -0.8628726844363708, -0.7645760166355267, -0.8616223617833407, 0.04887863004847909, -0.4387498130174844, -0.266953822605292, 0.8390569530392329, -0.43002022976902043, 0.9806936251124809, 0.3886734682322345, -0.3443948746020807, 0.8992524293233389, -0.8983446662352863, 0.8948142674889664, 0.1115946782829826, 0.22762070587428285, -0.3559313859378337, -0.8010211043479909, -0.9089096997021572, 0.7096914017243147, 0.9172767767077924, 0.7336292081443779, -0.11319363159706385, -0.8599047451226961, -0.5861264868785593, 0.16309166022181176, -0.9813891154196197, 0.8795021629209798, 0.3220451056371536, 0.6514743432709623, -0.77303746263251, -0.25143195454278233, -0.7856774182666523, 0.3790347561574001, -0.010756759597927452, 0.7883184167479098, 0.11888182240770548, 0.5821487417672866, 0.9121288668652512, 0.8619097336256154, 0.5590237023741358, -0.18706478584742686, 0.30331869184164634, 0.6308113651829134, 0.014602774726058839, 0.9524411932419125, -0.9741063028304309, -0.11571299259093941, -0.7868340972895018, 0.8919782443972951, 0.9484376582097391, -0.22806504025271718, -0.36944071754258573, -0.8904898781059981, 0.4338778515105721, -0.033166473199754576, 0.8878973429779561, -0.39120106462207827, -0.24115982813358067, 0.9573730674650569, 0.3201613657930907, 0.14270809669247464, 0.9443753767153655, -0.8483130361092885, 0.14337062820071186, -0.5422685705065917, 0.5066231149167721, 0.9284394862981418, 0.555633308988475, -0.5483033180746171, 0.12063707676826498, -0.9828697430230551, -0.8398894935922888, -0.1930543000194824, 0.8144505203315671, -0.6369075760367768, -0.12128281475114484, -0.72888470974665, 0.40192253234829173, -0.6839027387446442, -0.947896418442963, -0.6429981274054435, 0.9119669139999216, 0.7949807236195636, -0.7376931762712579, 0.7702280140951765, 0.6908414795701653, 0.038992429402645384, 0.34559578482534026, -0.21383448667334393, -0.15864239275810718, -0.7665411341234518, 0.6775536229360749, 0.8725669145371557, -0.8242814522044198, 0.7267582612789113, -0.8052117210020153, -0.9652718510327424, -0.5104889528347856, -0.3107755886486812, 0.3974800451335862, 0.08560443201504978, -0.6282675886859986, 0.03360400245623876, 0.2550435332186629, -0.4653870371454167, 0.07342379472981304, 0.10403368467397864, 0.15062715984812833, 0.4184624391418401, 0.8535838521725231, 0.832884995351515, 0.8999816586913497, 0.5591562675803814, -0.02918958738132931, 0.951864591429352, -0.25166326113533666, 0.20955896073394326, -0.7840248462324227, 0.4285323994095657, -0.49651534717164225, 0.26247159496734074, 0.020431580564755726, -0.26553681474763985, 0.2628742239850065, 0.0956477283989524, 0.018724897959978323, -0.713677652337546, -0.9310856786848757, 0.9790256841900254, 0.4134165319366314, 0.9957115272642723, -0.2017682912552103, 0.7570467077206555, -0.2682768012166851, -0.1016529302436599, -0.8135693901615848, 0.6861111268236952, -0.09704786694593404, 0.17849291389076044, -0.13128430071360364, -0.9315917677620809, -0.5619844978102572, -0.4668751398689565, 0.11186146886067398, 0.2781982099294572, 0.7573593398384183, -0.9802356857944109, -0.7027454176972493, -0.46782373395320465, 0.08579356698621135, -0.7136023021701733, 0.3726847618051081, -0.3869883893825998, 0.7310168514001287, -0.29472043310037455, -0.5939226345966205, -0.7285668404664774, -0.6832177124286499, -0.005965406607784947, 0.7730086876948472, -0.39746783635295463, 0.8296363670045562, -0.042198677040627706, -0.8850701804569081, 0.7713565042181839, -0.5782422706503909, -0.26741135264577537, 0.9029887056906271, 0.5028381936097575, 0.07435633655734677, -0.9396570017899496, -0.10861612964644474, 0.3028046402337844, -0.16509561420283467, -0.9214747697639442, -0.5364033884524374, -0.013448176017865323, -0.37621954598855206, 0.30845864317287647, 0.9913535116255351, 0.6275043091605652, 0.9279055167897357, -0.8366663404286679, 0.20950003331378445, -0.48460709817215153, 0.9558744048687271, 0.14906337271989858, 0.14314367248627763, 0.7785552390943301, -0.4718161825018981, -0.6474162303698555, -0.9065761732108476, -0.47108932112905005, -0.1520058733837231, 0.891476584603657, -0.6495771026319218, -0.3491917550256585, 0.26731074103425756, -0.6392949356156381, -0.015623196786182375, 0.39943636035813457, -0.5581938886141697, 0.38069023450771244, -0.5268667780257983, 0.47929193139756426, 0.28751661700435444, -0.5426059805592369, -0.10210452258612526, -0.11829140584839679, 0.5829968729925598, 0.8894624397936661, 0.9217029210434907, 0.6205178555092384, 0.355327727978969, -0.7120229506611698, 0.6080446952520457, 0.5593370246985667, 0.7900390815496287, 0.8965361091246441, 0.6786382128954674, -0.8662969272487213, 0.2772837696784222, 0.07359143277191044, -0.7614331352160364, -0.1797955972970653, 0.20239435718600124, -0.7566831886898113, 0.47158976430137856, 0.9347168407551452, 0.06187326109633005, 0.17096298105262447, -0.684753532884737, -0.47728337384718805, -0.42841306960657677, 0.9631317295243029, -0.12099870546698616, 0.9174149306635937, 0.20328513351106095, 0.9699731581151887, 0.9799569665118444, 0.8482656356845907, -0.5116504648841653, -0.3852883309421008, 0.7349888204666135, 0.605720208034989, -0.4934913170472261, -0.3912191253517308, -0.9490153469865422, -0.40131351080612726, -0.846442013885377, 0.34553219231974514, -0.8416208849806498, 0.6097773911345233, -0.905156340816576, 0.5065312495573172, 0.6956590800401264, 0.6500214484678997, -0.9618658304842549, -0.9325561669741389, -0.9088476925205569, -0.1439849546947439, -0.13217274024462844, -0.7158664626755049, -0.7719865304523643, 0.3599529929850013, -0.09015662014458768, -0.8379408972416329, -0.6006386094125331, -0.1588955987726003, 0.9691626696192255, 0.7931318632857545, 0.3351790437616982, 0.5894871891186295, 0.5398259166081798, -0.949659910905582, -0.849516949593179, 0.2650797193774061, -0.8187379615809304, -0.2498115977844614, 0.3404222298299233, -0.8143557619302653, 0.18662824372932213, -0.28510882530282944, -0.950340388595148, 0.8905393160995292, -0.33381227736742874, 0.5805500318106102, -0.05679287273504881, 0.7096994514311026, -0.39309319318318403, 0.7495896688956728, -0.28759499807832467, -0.43969257430981057, 0.40646102563855485, -0.6562773378250627, 0.9028836602076422, 0.8170548622627819, 0.20250450346938814, -0.6167019937648651, -0.06854684662146532, 0.8863795614743002, -0.9015355686345121, 0.9289506220918698, -0.4515445688891363, 0.1842634699660105, -0.7518394261820935, -0.8641682227084396, 0.39235564560381836, 0.9261220090680844, 0.036278437741848316, 0.5020056591141924, 0.5005731711379655, -0.2790495550157706, -0.4811174334086454, 0.8648023712310643, 0.46173695929886815, 0.6905640891165661, 0.7653167273345618, 0.7885943496659046, -0.1567457052799844, 0.016495454842152982, -0.7229825665194073, 0.9782882558688243, -0.7639465217963681, -0.9405503490616682, 0.4898168309388722, -0.377927009702096, -0.21804311720245315, 0.7913258524565123, 0.9016126830927212, -0.17819657593153038, 0.05989427865196745, -0.9782860933574403, 0.11553187970746427, -0.9323898355402475, 0.5738454317849405, 0.19553759385518268, -0.6250238393229107, -0.2088386804253064, -0.9829771161095318, 0.34132915932638447, -0.773925613675275, -0.046275145178399306, -0.28251267658151946, -0.9802329700245677, 0.8086018573835961, 0.1863902163416755, 0.7677914711170933, 0.28783426834814635, -0.936599373371069, -0.6894212288439076, 0.4221754486483412, -0.08972573728158709, 0.6681345229879757, 0.30741416576692293, 0.5554495120075904, -0.13861156148736703, -0.17171545484631698, 0.941481828932622, 0.7298212383968782, 0.5354930912220301, 0.07179557937278223, 0.06365926356101922, -0.4895283648677872, -0.6816871028836669, -0.3505964517295679, 0.009439962556197137, -0.9405938615381487, -0.6191946269046669, 0.09578971845001072, 0.7476823120086512, 0.3953921477905684, 0.07193594491238622], \"y\": [-0.22697390795008596, 0.4269752549698217, 0.31503693861593857, -0.5630809897722525, 0.7422651705940772, -0.4580520635030268, -0.38355710722485026, 0.060223223351626005, 0.39613198158787166, -0.11306757026279772, -0.42637918100848465, -0.16018042868581495, 0.6496912155715989, -0.8163486720284373, 0.5109629612948515, 0.06799372078599356, -0.09019846778457777, -0.042497858906184564, 0.15765398194678693, -0.9732059607940773, -0.10539568091806474, 0.8370087461991013, 0.8341842533158105, -0.8353706320589624, -0.12162307232857057, 0.7691703667242955, -0.458002702227517, -0.5333262379476843, -0.3420677141598807, -0.9759923001853276, -0.862672485849291, 0.9432695990324808, 0.4020889069260423, -0.8995237656354811, 0.18196400788025505, 0.3100712141439433, -0.8505639013063045, 0.3988104231612669, -0.08863710109569789, 0.12289673504287879, -0.91672755295003, -0.1970566375193861, -0.9067143450858188, -0.3600452338887982, -0.22261030032887555, -0.6804160522306197, -0.07210911013754141, 0.5378216176299057, 0.5467737164968631, -0.4869230249744946, 0.8660215191549168, 0.08634034500405573, -0.06055586840857673, 0.431084321922354, -0.8562862705559605, -0.6930644915886569, 0.4096920946351668, -0.2824349515064319, -0.5967583919854668, 0.8413934135654186, 0.9479774082433847, 0.5646969151472869, -0.9458879137234792, -0.773252147474757, 0.47414239775657013, 0.22970084911831531, 0.7205020690412367, 0.9815686612900071, -0.5012275117230957, 0.5666763520012114, 0.9851220569442037, -0.3854606300488563, 0.14916089985187914, -0.8721745875798939, -0.24980302934369283, -0.43438797861385897, 0.002410871751600816, 0.642184354791338, 0.5658721902575382, 0.026684356739703673, -0.2920729813136547, 0.9344383524885257, 0.2619293279625431, 0.932776206690146, 0.754135921737484, -0.25032823507541646, 0.9457302826510569, -0.4428980688622399, 0.24537874070543153, 0.42523770368214625, 0.9480214499110878, -0.10388032897466443, -0.7985885902189557, -0.18110428078153498, -0.524143666038136, 0.8351260116725764, 0.9803054106166557, -0.01791415401181666, 0.505964504149791, 0.9087685516563218, -0.026422535270041705, -0.2364949083670682, -0.5064980078861614, -0.013912399532121313, -0.6601698321199667, 0.742510181705184, -0.2595529218900552, -0.7316018990626868, 0.32671808123545504, 0.5977189621639571, -0.7111949015935465, -0.6362377933001355, 0.14622152946196662, 0.8354403748100857, -0.9027737362032997, -0.9676671451089597, -0.9833902932381614, -0.4783674760309979, -0.5064350728612876, -0.5238352935763986, 0.3708756974774017, 0.7449579121673514, -0.5570840030918613, 0.24352524529953148, -0.6154420965578158, -0.9167120862702723, -0.535812042657853, 0.1224007934062417, -0.610726618536613, 0.26448751593915726, -0.9315335353190554, -0.8195869609782904, -0.8217250407651971, 0.38287550806673615, 0.8645289317113906, -0.9081810390870334, 0.2872435607035336, 0.036714396953588926, -0.20826854940609188, 0.7412641501948806, -0.4703081794195195, 0.37523978032815974, -0.9669270491162179, 0.9858381918122603, 0.5193675688802151, 0.8915374988179153, -0.8991046249766558, -0.9321042588454924, -0.1634893716632198, 0.9011465751117821, -0.8751690306755688, -0.9193290774628181, 0.7571144319004073, 0.582941501405882, 0.14512848216626087, -0.2160296135075077, -0.7629134145585355, 0.045011234011045224, 0.3100982295521666, -0.49577489653450196, -0.866826597488514, -0.9476430087816621, -0.43361684714635873, 0.6608309826051777, -0.44053584107567223, 0.9003540839638176, -0.20562073478251175, 0.19164366692570348, -0.6868417812909525, -0.7129200770860173, 0.18322145355188085, 0.9520926436017836, 0.6150229315808741, 0.11442550551889233, 0.4476238554682732, -0.004129276926807785, 0.004873063615042233, 0.5589222088583671, 0.138398171380156, -0.7866143713564087, -0.6307164271000898, -0.9502798767617484, -0.7803052685136022, 0.678801444369813, 0.7666673421944957, 0.20248167130043002, -0.4968211800533886, 0.09414902938632179, -0.41758839177260265, -0.9863341118633137, 0.4874062629454152, 0.42590766486494325, 0.15239436821597788, 0.5350704657963723, 0.1813942901768825, -0.4671309018589474, 0.8855916876158384, -0.21155112730989814, 0.7255122839836888, -0.21924534466875292, -0.9347633772813565, -0.18576171124220023, 0.6583172288785175, -0.9944328786366884, 0.1648592516333903, -0.4502727155533046, 0.0631706539361661, 0.1589024668735835, -0.05333570134034795, -0.04219071247494905, 0.9073951646241827, -0.7957253772479755, -0.3362303060494071, -0.9077572864471377, 0.41042408537384545, -0.589927916084468, 0.837389096516291, 0.7647510744485566, 0.29563229625831716, 0.8638262417608682, 0.14155953077312694, -0.25339934735480923, 0.732597160744772, 0.0094427138316249, 0.15302280118659115, 0.8251075627096521, -0.9102152524411098, 0.7036670101171507, -0.8435656494438839, 0.9305475591756337, 0.8709487750534496, 0.8410502368937575, 0.29213376582124534, 0.7979896597636403, 0.8843394643082394, 0.8863014558868572, 0.778050633691699, 0.5180818886306994, -0.009976787491612257, 0.7642214314121721, 0.8800778915072754, 0.6704697812574256, -0.8179182982207682, 0.4011594843080827, -0.5868055608850332, -0.29182074912100414, 0.7734297754689547, -0.5462284037937056, -0.9227946717659515, 0.09859983970355887, 0.11140673891915415, -0.040697933272633054, -0.8501502827565425, 0.5718091454303691, -0.016943634626741103, 0.09215732623640424, 0.951515578256893, -0.9447115941895723, 0.6775401326017508, 0.7108914659915455, 0.8553894967538989, 0.1638833122839551, 0.20350917248647107, -0.4120281551228049, 0.9569335428655604, 0.0161290488374873, -0.0600874065214452, 0.33886728029678215, -0.8590474060992316, 0.8642043462139634, 0.6446793889766167, 0.6308575826303702, -0.840497686957815, -0.1664723537246115, -0.30928264529657085, -0.693103492756294, 0.11178455952151682, 0.8498657947362755, -0.602422421978577, 0.678120114946944, 0.25111913464950997, 0.7696773298485362, 0.42706068077934134, -0.7229688567535101, -0.09583258002375303, -0.3913088087710032, 0.40224923242543487, 0.9757487343956144, -0.9541118536336985, -0.5765193726224416, 0.4697578276142849, -0.9459205162248198, -0.9948104218149325, 0.5370357796380137, 0.5769847735047233, 0.9620582219698078, -0.08641105384166042, -0.4435892277957166, -0.9387595246834259, -0.705223394219024, -0.8806706182127102, 0.26929518310323486, 0.30855243215379424, 0.16927331412969965, 0.6077168162192095, 0.8155913370558938, -0.7842684843235709, 0.25010765425338155, 0.7579956774077283, 0.8751376880474308, 0.21485996983406389, -0.54250609307567, 0.8908127557552549, -0.8541985267836254, 1.0, -0.7169287551481948, -0.9125287850320001, 0.6863722804881816, 0.177757285124306, -0.4235165719793324, -0.8765132481016306, -0.5757889809864022, 0.3467784300209665, 0.49872870261364494, -0.3125059027857819, -0.6421965499554172, -0.946902777456134, -0.40196482430984204, -0.4149335954653409, 0.22629833868276417, -0.3722711975478449, -0.9043751854907469, -0.3402926318184788, -0.43557012977949217, -0.8773141304274555, -0.14923659605549383, -0.9682276281031478, 0.9008050989032788, -0.8684354964939868, 0.6048152879543165, 0.7404035787387258, -0.31514780110955604, 0.91671843021272, -0.7318573432260542, -0.601430888840584, -0.20823401624427187, -0.7440737315953939, -0.5694186309034879, -0.7715938104205736, -0.16515543275067304, -0.6468149956898768, -0.3623358684614181, 0.0556436578957395, 0.9294824830067194, -0.9159819777365521, -0.3656723470064083, 0.3566287848486537, -0.9407815768197547, -0.7063979663283274, -0.16788226236821122, 0.17627412285317612, 0.37263956096475803, 0.7200127970167031, 0.9107903379373559, -0.08041522591052999, 0.9444658532284237, -0.12734690558815304, 0.958970733922728, 0.7108783054921104, 0.9262349040459362, -0.03035011599921174, 0.1829330261381682, 0.5603306650844361, 0.07158997898515836, -0.5188680828093564, -0.8788076329633292, 0.06423647023552542, -0.723884711239385, 0.059811770405882654, 0.9091230498910833, -0.6326951456889746, 0.894646857321549, 0.8471498638195317, -0.9343866837612592, 0.8633392408502569, -0.3546299006318593, -0.7676368046044643, -0.0815003507112726, 0.31838798806311636, 0.9887781416454683, 0.6918550096025923, -0.4713056639497192, 0.7858844454376172, -0.22890378048057827, -0.27884212828432514, -0.7742195132355147, 0.5673153390743241, -0.6908521404109412, 0.5294911781389464, -0.4777110620279916]}],\n",
       "                        {\"annotations\": [{\"showarrow\": false, \"text\": \"No. of contacts made\", \"xref\": \"paper\", \"yref\": \"paper\"}], \"hovermode\": \"closest\", \"margin\": {\"b\": 20, \"l\": 5, \"r\": 5, \"t\": 40}, \"showlegend\": false, \"template\": {\"data\": {\"bar\": [{\"error_x\": {\"color\": \"#2a3f5f\"}, \"error_y\": {\"color\": \"#2a3f5f\"}, \"marker\": {\"line\": {\"color\": \"#E5ECF6\", \"width\": 0.5}}, \"type\": \"bar\"}], \"barpolar\": [{\"marker\": {\"line\": {\"color\": \"#E5ECF6\", \"width\": 0.5}}, \"type\": \"barpolar\"}], \"carpet\": [{\"aaxis\": {\"endlinecolor\": \"#2a3f5f\", \"gridcolor\": \"white\", \"linecolor\": \"white\", \"minorgridcolor\": \"white\", \"startlinecolor\": \"#2a3f5f\"}, \"baxis\": {\"endlinecolor\": \"#2a3f5f\", \"gridcolor\": \"white\", \"linecolor\": \"white\", \"minorgridcolor\": \"white\", \"startlinecolor\": \"#2a3f5f\"}, \"type\": \"carpet\"}], \"choropleth\": [{\"colorbar\": {\"outlinewidth\": 0, \"ticks\": \"\"}, \"type\": \"choropleth\"}], \"contour\": [{\"colorbar\": {\"outlinewidth\": 0, \"ticks\": \"\"}, \"colorscale\": [[0.0, \"#0d0887\"], [0.1111111111111111, \"#46039f\"], [0.2222222222222222, \"#7201a8\"], [0.3333333333333333, \"#9c179e\"], [0.4444444444444444, \"#bd3786\"], [0.5555555555555556, \"#d8576b\"], [0.6666666666666666, \"#ed7953\"], [0.7777777777777778, \"#fb9f3a\"], [0.8888888888888888, \"#fdca26\"], [1.0, \"#f0f921\"]], \"type\": \"contour\"}], \"contourcarpet\": [{\"colorbar\": {\"outlinewidth\": 0, \"ticks\": \"\"}, \"type\": \"contourcarpet\"}], \"heatmap\": [{\"colorbar\": {\"outlinewidth\": 0, \"ticks\": \"\"}, \"colorscale\": [[0.0, \"#0d0887\"], [0.1111111111111111, \"#46039f\"], [0.2222222222222222, \"#7201a8\"], [0.3333333333333333, \"#9c179e\"], [0.4444444444444444, \"#bd3786\"], [0.5555555555555556, \"#d8576b\"], [0.6666666666666666, \"#ed7953\"], [0.7777777777777778, \"#fb9f3a\"], [0.8888888888888888, \"#fdca26\"], [1.0, \"#f0f921\"]], \"type\": \"heatmap\"}], \"heatmapgl\": [{\"colorbar\": {\"outlinewidth\": 0, \"ticks\": \"\"}, \"colorscale\": [[0.0, \"#0d0887\"], [0.1111111111111111, \"#46039f\"], [0.2222222222222222, \"#7201a8\"], [0.3333333333333333, \"#9c179e\"], [0.4444444444444444, \"#bd3786\"], [0.5555555555555556, \"#d8576b\"], [0.6666666666666666, \"#ed7953\"], [0.7777777777777778, \"#fb9f3a\"], [0.8888888888888888, \"#fdca26\"], [1.0, \"#f0f921\"]], \"type\": \"heatmapgl\"}], \"histogram\": [{\"marker\": {\"colorbar\": {\"outlinewidth\": 0, \"ticks\": \"\"}}, \"type\": \"histogram\"}], \"histogram2d\": [{\"colorbar\": {\"outlinewidth\": 0, \"ticks\": \"\"}, \"colorscale\": [[0.0, \"#0d0887\"], [0.1111111111111111, \"#46039f\"], [0.2222222222222222, \"#7201a8\"], [0.3333333333333333, \"#9c179e\"], [0.4444444444444444, \"#bd3786\"], [0.5555555555555556, \"#d8576b\"], [0.6666666666666666, \"#ed7953\"], [0.7777777777777778, \"#fb9f3a\"], [0.8888888888888888, \"#fdca26\"], [1.0, \"#f0f921\"]], \"type\": \"histogram2d\"}], \"histogram2dcontour\": [{\"colorbar\": {\"outlinewidth\": 0, \"ticks\": \"\"}, \"colorscale\": [[0.0, \"#0d0887\"], [0.1111111111111111, \"#46039f\"], [0.2222222222222222, \"#7201a8\"], [0.3333333333333333, \"#9c179e\"], [0.4444444444444444, \"#bd3786\"], [0.5555555555555556, \"#d8576b\"], [0.6666666666666666, \"#ed7953\"], [0.7777777777777778, \"#fb9f3a\"], [0.8888888888888888, \"#fdca26\"], [1.0, \"#f0f921\"]], \"type\": \"histogram2dcontour\"}], \"mesh3d\": [{\"colorbar\": {\"outlinewidth\": 0, \"ticks\": \"\"}, \"type\": \"mesh3d\"}], \"parcoords\": [{\"line\": {\"colorbar\": {\"outlinewidth\": 0, \"ticks\": \"\"}}, \"type\": \"parcoords\"}], \"pie\": [{\"automargin\": true, \"type\": \"pie\"}], \"scatter\": [{\"marker\": {\"colorbar\": {\"outlinewidth\": 0, \"ticks\": \"\"}}, \"type\": \"scatter\"}], \"scatter3d\": [{\"line\": {\"colorbar\": {\"outlinewidth\": 0, \"ticks\": \"\"}}, \"marker\": {\"colorbar\": {\"outlinewidth\": 0, \"ticks\": \"\"}}, \"type\": \"scatter3d\"}], \"scattercarpet\": [{\"marker\": {\"colorbar\": {\"outlinewidth\": 0, \"ticks\": \"\"}}, \"type\": \"scattercarpet\"}], \"scattergeo\": [{\"marker\": {\"colorbar\": {\"outlinewidth\": 0, \"ticks\": \"\"}}, \"type\": \"scattergeo\"}], \"scattergl\": [{\"marker\": {\"colorbar\": {\"outlinewidth\": 0, \"ticks\": \"\"}}, \"type\": \"scattergl\"}], \"scattermapbox\": [{\"marker\": {\"colorbar\": {\"outlinewidth\": 0, \"ticks\": \"\"}}, \"type\": \"scattermapbox\"}], \"scatterpolar\": [{\"marker\": {\"colorbar\": {\"outlinewidth\": 0, \"ticks\": \"\"}}, \"type\": \"scatterpolar\"}], \"scatterpolargl\": [{\"marker\": {\"colorbar\": {\"outlinewidth\": 0, \"ticks\": \"\"}}, \"type\": \"scatterpolargl\"}], \"scatterternary\": [{\"marker\": {\"colorbar\": {\"outlinewidth\": 0, \"ticks\": \"\"}}, \"type\": \"scatterternary\"}], \"surface\": [{\"colorbar\": {\"outlinewidth\": 0, \"ticks\": \"\"}, \"colorscale\": [[0.0, \"#0d0887\"], [0.1111111111111111, \"#46039f\"], [0.2222222222222222, \"#7201a8\"], [0.3333333333333333, \"#9c179e\"], [0.4444444444444444, \"#bd3786\"], [0.5555555555555556, \"#d8576b\"], [0.6666666666666666, \"#ed7953\"], [0.7777777777777778, \"#fb9f3a\"], [0.8888888888888888, \"#fdca26\"], [1.0, \"#f0f921\"]], \"type\": \"surface\"}], \"table\": [{\"cells\": {\"fill\": {\"color\": \"#EBF0F8\"}, \"line\": {\"color\": \"white\"}}, \"header\": {\"fill\": {\"color\": \"#C8D4E3\"}, \"line\": {\"color\": \"white\"}}, \"type\": \"table\"}]}, \"layout\": {\"annotationdefaults\": {\"arrowcolor\": \"#2a3f5f\", \"arrowhead\": 0, \"arrowwidth\": 1}, \"coloraxis\": {\"colorbar\": {\"outlinewidth\": 0, \"ticks\": \"\"}}, \"colorscale\": {\"diverging\": [[0, \"#8e0152\"], [0.1, \"#c51b7d\"], [0.2, \"#de77ae\"], [0.3, \"#f1b6da\"], [0.4, \"#fde0ef\"], [0.5, \"#f7f7f7\"], [0.6, \"#e6f5d0\"], [0.7, \"#b8e186\"], [0.8, \"#7fbc41\"], [0.9, \"#4d9221\"], [1, \"#276419\"]], \"sequential\": [[0.0, \"#0d0887\"], [0.1111111111111111, \"#46039f\"], [0.2222222222222222, \"#7201a8\"], [0.3333333333333333, \"#9c179e\"], [0.4444444444444444, \"#bd3786\"], [0.5555555555555556, \"#d8576b\"], [0.6666666666666666, \"#ed7953\"], [0.7777777777777778, \"#fb9f3a\"], [0.8888888888888888, \"#fdca26\"], [1.0, \"#f0f921\"]], \"sequentialminus\": [[0.0, \"#0d0887\"], [0.1111111111111111, \"#46039f\"], [0.2222222222222222, \"#7201a8\"], [0.3333333333333333, \"#9c179e\"], [0.4444444444444444, \"#bd3786\"], [0.5555555555555556, \"#d8576b\"], [0.6666666666666666, \"#ed7953\"], [0.7777777777777778, \"#fb9f3a\"], [0.8888888888888888, \"#fdca26\"], [1.0, \"#f0f921\"]]}, \"colorway\": [\"#636efa\", \"#EF553B\", \"#00cc96\", \"#ab63fa\", \"#FFA15A\", \"#19d3f3\", \"#FF6692\", \"#B6E880\", \"#FF97FF\", \"#FECB52\"], \"font\": {\"color\": \"#2a3f5f\"}, \"geo\": {\"bgcolor\": \"white\", \"lakecolor\": \"white\", \"landcolor\": \"#E5ECF6\", \"showlakes\": true, \"showland\": true, \"subunitcolor\": \"white\"}, \"hoverlabel\": {\"align\": \"left\"}, \"hovermode\": \"closest\", \"mapbox\": {\"style\": \"light\"}, \"paper_bgcolor\": \"white\", \"plot_bgcolor\": \"#E5ECF6\", \"polar\": {\"angularaxis\": {\"gridcolor\": \"white\", \"linecolor\": \"white\", \"ticks\": \"\"}, \"bgcolor\": \"#E5ECF6\", \"radialaxis\": {\"gridcolor\": \"white\", \"linecolor\": \"white\", \"ticks\": \"\"}}, \"scene\": {\"xaxis\": {\"backgroundcolor\": \"#E5ECF6\", \"gridcolor\": \"white\", \"gridwidth\": 2, \"linecolor\": \"white\", \"showbackground\": true, \"ticks\": \"\", \"zerolinecolor\": \"white\"}, \"yaxis\": {\"backgroundcolor\": \"#E5ECF6\", \"gridcolor\": \"white\", \"gridwidth\": 2, \"linecolor\": \"white\", \"showbackground\": true, \"ticks\": \"\", \"zerolinecolor\": \"white\"}, \"zaxis\": {\"backgroundcolor\": \"#E5ECF6\", \"gridcolor\": \"white\", \"gridwidth\": 2, \"linecolor\": \"white\", \"showbackground\": true, \"ticks\": \"\", \"zerolinecolor\": \"white\"}}, \"shapedefaults\": {\"line\": {\"color\": \"#2a3f5f\"}}, \"ternary\": {\"aaxis\": {\"gridcolor\": \"white\", \"linecolor\": \"white\", \"ticks\": \"\"}, \"baxis\": {\"gridcolor\": \"white\", \"linecolor\": \"white\", \"ticks\": \"\"}, \"bgcolor\": \"#E5ECF6\", \"caxis\": {\"gridcolor\": \"white\", \"linecolor\": \"white\", \"ticks\": \"\"}}, \"title\": {\"x\": 0.05}, \"xaxis\": {\"automargin\": true, \"gridcolor\": \"white\", \"linecolor\": \"white\", \"ticks\": \"\", \"title\": {\"standoff\": 15}, \"zerolinecolor\": \"white\", \"zerolinewidth\": 2}, \"yaxis\": {\"automargin\": true, \"gridcolor\": \"white\", \"linecolor\": \"white\", \"ticks\": \"\", \"title\": {\"standoff\": 15}, \"zerolinecolor\": \"white\", \"zerolinewidth\": 2}}}, \"title\": {\"font\": {\"size\": 16}, \"text\": \"<br>Karnataka Person to Person Network Tracing\"}, \"xaxis\": {\"showgrid\": false, \"showticklabels\": false, \"zeroline\": false}, \"yaxis\": {\"showgrid\": false, \"showticklabels\": false, \"zeroline\": false}},\n",
       "                        {\"responsive\": true}\n",
       "                    ).then(function(){\n",
       "                            \n",
       "var gd = document.getElementById('af16da27-52ef-476b-8422-d8b1fddf84e6');\n",
       "var x = new MutationObserver(function (mutations, observer) {{\n",
       "        var display = window.getComputedStyle(gd).display;\n",
       "        if (!display || display === 'none') {{\n",
       "            console.log([gd, 'removed!']);\n",
       "            Plotly.purge(gd);\n",
       "            observer.disconnect();\n",
       "        }}\n",
       "}});\n",
       "\n",
       "// Listen for the removal of the full notebook cells\n",
       "var notebookContainer = gd.closest('#notebook-container');\n",
       "if (notebookContainer) {{\n",
       "    x.observe(notebookContainer, {childList: true});\n",
       "}}\n",
       "\n",
       "// Listen for the clearing of the current output cell\n",
       "var outputEl = gd.closest('.output');\n",
       "if (outputEl) {{\n",
       "    x.observe(outputEl, {childList: true});\n",
       "}}\n",
       "\n",
       "                        })\n",
       "                };\n",
       "                });\n",
       "            </script>\n",
       "        </div>"
      ]
     },
     "metadata": {},
     "output_type": "display_data"
    }
   ],
   "source": [
    "from plotly.offline import download_plotlyjs, init_notebook_mode, iplot\n",
    "iplot(fig)"
   ]
  },
  {
   "cell_type": "code",
   "execution_count": null,
   "metadata": {},
   "outputs": [],
   "source": []
  }
 ],
 "metadata": {
  "kernelspec": {
   "display_name": "Python 3",
   "language": "python",
   "name": "python3"
  },
  "language_info": {
   "codemirror_mode": {
    "name": "ipython",
    "version": 3
   },
   "file_extension": ".py",
   "mimetype": "text/x-python",
   "name": "python",
   "nbconvert_exporter": "python",
   "pygments_lexer": "ipython3",
   "version": "3.7.4"
  }
 },
 "nbformat": 4,
 "nbformat_minor": 2
}
