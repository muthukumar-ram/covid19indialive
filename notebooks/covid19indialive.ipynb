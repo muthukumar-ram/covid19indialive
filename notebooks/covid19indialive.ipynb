{
 "cells": [
  {
   "cell_type": "markdown",
   "metadata": {},
   "source": [
    "# CoronaVirus Covid19 India Lockdown 2.0"
   ]
  },
  {
   "cell_type": "code",
   "execution_count": 183,
   "metadata": {},
   "outputs": [],
   "source": [
    "from __future__ import print_function\n",
    "from ipywidgets import interact, interactive, fixed, interact_manual\n",
    "from IPython.core.display import display, HTML\n",
    "\n",
    "import pandas as pd\n",
    "import numpy as np\n",
    "import matplotlib.pyplot as plt\n",
    "import plotly.express as px\n",
    "import folium\n",
    "import plotly.graph_objects as go\n",
    "import seaborn as sns\n",
    "import ipywidgets as widgets\n",
    "import networkx as nx"
   ]
  },
  {
   "cell_type": "markdown",
   "metadata": {},
   "source": [
    "# Karnataka Coronavirus Data"
   ]
  },
  {
   "cell_type": "code",
   "execution_count": 184,
   "metadata": {},
   "outputs": [],
   "source": [
    "#url = 'https://en.wikipedia.org/wiki/2020_coronavirus_pandemic_in_Karnataka'\n",
    "#all_tables = pd.read_html(url)\n",
    "\n",
    "# we  need 6 th table that is all_tables[5]\n",
    "#rawCases = all_tables[5]\n",
    "rawCases = pd.read_csv(\"https://raw.githubusercontent.com/muthukumar-ram/covid19indialive/master/dataset/KARawCases.csv\")"
   ]
  },
  {
   "cell_type": "code",
   "execution_count": 185,
   "metadata": {},
   "outputs": [
    {
     "data": {
      "application/vnd.plotly.v1+json": {
       "config": {
        "plotlyServerURL": "https://plot.ly"
       },
       "data": [
        {
         "alignmentgroup": "True",
         "hovertemplate": "Gender=%{x}<br>Confirmed=%{y}<extra></extra>",
         "legendgroup": "",
         "marker": {
          "color": "pink"
         },
         "name": "",
         "offsetgroup": "",
         "orientation": "v",
         "showlegend": false,
         "textposition": "auto",
         "type": "bar",
         "x": [
          "F",
          "M"
         ],
         "xaxis": "x",
         "y": [
          157,
          366
         ],
         "yaxis": "y"
        }
       ],
       "layout": {
        "barmode": "relative",
        "height": 500,
        "legend": {
         "tracegroupgap": 0
        },
        "template": {
         "data": {
          "bar": [
           {
            "error_x": {
             "color": "#2a3f5f"
            },
            "error_y": {
             "color": "#2a3f5f"
            },
            "marker": {
             "line": {
              "color": "#E5ECF6",
              "width": 0.5
             }
            },
            "type": "bar"
           }
          ],
          "barpolar": [
           {
            "marker": {
             "line": {
              "color": "#E5ECF6",
              "width": 0.5
             }
            },
            "type": "barpolar"
           }
          ],
          "carpet": [
           {
            "aaxis": {
             "endlinecolor": "#2a3f5f",
             "gridcolor": "white",
             "linecolor": "white",
             "minorgridcolor": "white",
             "startlinecolor": "#2a3f5f"
            },
            "baxis": {
             "endlinecolor": "#2a3f5f",
             "gridcolor": "white",
             "linecolor": "white",
             "minorgridcolor": "white",
             "startlinecolor": "#2a3f5f"
            },
            "type": "carpet"
           }
          ],
          "choropleth": [
           {
            "colorbar": {
             "outlinewidth": 0,
             "ticks": ""
            },
            "type": "choropleth"
           }
          ],
          "contour": [
           {
            "colorbar": {
             "outlinewidth": 0,
             "ticks": ""
            },
            "colorscale": [
             [
              0,
              "#0d0887"
             ],
             [
              0.1111111111111111,
              "#46039f"
             ],
             [
              0.2222222222222222,
              "#7201a8"
             ],
             [
              0.3333333333333333,
              "#9c179e"
             ],
             [
              0.4444444444444444,
              "#bd3786"
             ],
             [
              0.5555555555555556,
              "#d8576b"
             ],
             [
              0.6666666666666666,
              "#ed7953"
             ],
             [
              0.7777777777777778,
              "#fb9f3a"
             ],
             [
              0.8888888888888888,
              "#fdca26"
             ],
             [
              1,
              "#f0f921"
             ]
            ],
            "type": "contour"
           }
          ],
          "contourcarpet": [
           {
            "colorbar": {
             "outlinewidth": 0,
             "ticks": ""
            },
            "type": "contourcarpet"
           }
          ],
          "heatmap": [
           {
            "colorbar": {
             "outlinewidth": 0,
             "ticks": ""
            },
            "colorscale": [
             [
              0,
              "#0d0887"
             ],
             [
              0.1111111111111111,
              "#46039f"
             ],
             [
              0.2222222222222222,
              "#7201a8"
             ],
             [
              0.3333333333333333,
              "#9c179e"
             ],
             [
              0.4444444444444444,
              "#bd3786"
             ],
             [
              0.5555555555555556,
              "#d8576b"
             ],
             [
              0.6666666666666666,
              "#ed7953"
             ],
             [
              0.7777777777777778,
              "#fb9f3a"
             ],
             [
              0.8888888888888888,
              "#fdca26"
             ],
             [
              1,
              "#f0f921"
             ]
            ],
            "type": "heatmap"
           }
          ],
          "heatmapgl": [
           {
            "colorbar": {
             "outlinewidth": 0,
             "ticks": ""
            },
            "colorscale": [
             [
              0,
              "#0d0887"
             ],
             [
              0.1111111111111111,
              "#46039f"
             ],
             [
              0.2222222222222222,
              "#7201a8"
             ],
             [
              0.3333333333333333,
              "#9c179e"
             ],
             [
              0.4444444444444444,
              "#bd3786"
             ],
             [
              0.5555555555555556,
              "#d8576b"
             ],
             [
              0.6666666666666666,
              "#ed7953"
             ],
             [
              0.7777777777777778,
              "#fb9f3a"
             ],
             [
              0.8888888888888888,
              "#fdca26"
             ],
             [
              1,
              "#f0f921"
             ]
            ],
            "type": "heatmapgl"
           }
          ],
          "histogram": [
           {
            "marker": {
             "colorbar": {
              "outlinewidth": 0,
              "ticks": ""
             }
            },
            "type": "histogram"
           }
          ],
          "histogram2d": [
           {
            "colorbar": {
             "outlinewidth": 0,
             "ticks": ""
            },
            "colorscale": [
             [
              0,
              "#0d0887"
             ],
             [
              0.1111111111111111,
              "#46039f"
             ],
             [
              0.2222222222222222,
              "#7201a8"
             ],
             [
              0.3333333333333333,
              "#9c179e"
             ],
             [
              0.4444444444444444,
              "#bd3786"
             ],
             [
              0.5555555555555556,
              "#d8576b"
             ],
             [
              0.6666666666666666,
              "#ed7953"
             ],
             [
              0.7777777777777778,
              "#fb9f3a"
             ],
             [
              0.8888888888888888,
              "#fdca26"
             ],
             [
              1,
              "#f0f921"
             ]
            ],
            "type": "histogram2d"
           }
          ],
          "histogram2dcontour": [
           {
            "colorbar": {
             "outlinewidth": 0,
             "ticks": ""
            },
            "colorscale": [
             [
              0,
              "#0d0887"
             ],
             [
              0.1111111111111111,
              "#46039f"
             ],
             [
              0.2222222222222222,
              "#7201a8"
             ],
             [
              0.3333333333333333,
              "#9c179e"
             ],
             [
              0.4444444444444444,
              "#bd3786"
             ],
             [
              0.5555555555555556,
              "#d8576b"
             ],
             [
              0.6666666666666666,
              "#ed7953"
             ],
             [
              0.7777777777777778,
              "#fb9f3a"
             ],
             [
              0.8888888888888888,
              "#fdca26"
             ],
             [
              1,
              "#f0f921"
             ]
            ],
            "type": "histogram2dcontour"
           }
          ],
          "mesh3d": [
           {
            "colorbar": {
             "outlinewidth": 0,
             "ticks": ""
            },
            "type": "mesh3d"
           }
          ],
          "parcoords": [
           {
            "line": {
             "colorbar": {
              "outlinewidth": 0,
              "ticks": ""
             }
            },
            "type": "parcoords"
           }
          ],
          "pie": [
           {
            "automargin": true,
            "type": "pie"
           }
          ],
          "scatter": [
           {
            "marker": {
             "colorbar": {
              "outlinewidth": 0,
              "ticks": ""
             }
            },
            "type": "scatter"
           }
          ],
          "scatter3d": [
           {
            "line": {
             "colorbar": {
              "outlinewidth": 0,
              "ticks": ""
             }
            },
            "marker": {
             "colorbar": {
              "outlinewidth": 0,
              "ticks": ""
             }
            },
            "type": "scatter3d"
           }
          ],
          "scattercarpet": [
           {
            "marker": {
             "colorbar": {
              "outlinewidth": 0,
              "ticks": ""
             }
            },
            "type": "scattercarpet"
           }
          ],
          "scattergeo": [
           {
            "marker": {
             "colorbar": {
              "outlinewidth": 0,
              "ticks": ""
             }
            },
            "type": "scattergeo"
           }
          ],
          "scattergl": [
           {
            "marker": {
             "colorbar": {
              "outlinewidth": 0,
              "ticks": ""
             }
            },
            "type": "scattergl"
           }
          ],
          "scattermapbox": [
           {
            "marker": {
             "colorbar": {
              "outlinewidth": 0,
              "ticks": ""
             }
            },
            "type": "scattermapbox"
           }
          ],
          "scatterpolar": [
           {
            "marker": {
             "colorbar": {
              "outlinewidth": 0,
              "ticks": ""
             }
            },
            "type": "scatterpolar"
           }
          ],
          "scatterpolargl": [
           {
            "marker": {
             "colorbar": {
              "outlinewidth": 0,
              "ticks": ""
             }
            },
            "type": "scatterpolargl"
           }
          ],
          "scatterternary": [
           {
            "marker": {
             "colorbar": {
              "outlinewidth": 0,
              "ticks": ""
             }
            },
            "type": "scatterternary"
           }
          ],
          "surface": [
           {
            "colorbar": {
             "outlinewidth": 0,
             "ticks": ""
            },
            "colorscale": [
             [
              0,
              "#0d0887"
             ],
             [
              0.1111111111111111,
              "#46039f"
             ],
             [
              0.2222222222222222,
              "#7201a8"
             ],
             [
              0.3333333333333333,
              "#9c179e"
             ],
             [
              0.4444444444444444,
              "#bd3786"
             ],
             [
              0.5555555555555556,
              "#d8576b"
             ],
             [
              0.6666666666666666,
              "#ed7953"
             ],
             [
              0.7777777777777778,
              "#fb9f3a"
             ],
             [
              0.8888888888888888,
              "#fdca26"
             ],
             [
              1,
              "#f0f921"
             ]
            ],
            "type": "surface"
           }
          ],
          "table": [
           {
            "cells": {
             "fill": {
              "color": "#EBF0F8"
             },
             "line": {
              "color": "white"
             }
            },
            "header": {
             "fill": {
              "color": "#C8D4E3"
             },
             "line": {
              "color": "white"
             }
            },
            "type": "table"
           }
          ]
         },
         "layout": {
          "annotationdefaults": {
           "arrowcolor": "#2a3f5f",
           "arrowhead": 0,
           "arrowwidth": 1
          },
          "coloraxis": {
           "colorbar": {
            "outlinewidth": 0,
            "ticks": ""
           }
          },
          "colorscale": {
           "diverging": [
            [
             0,
             "#8e0152"
            ],
            [
             0.1,
             "#c51b7d"
            ],
            [
             0.2,
             "#de77ae"
            ],
            [
             0.3,
             "#f1b6da"
            ],
            [
             0.4,
             "#fde0ef"
            ],
            [
             0.5,
             "#f7f7f7"
            ],
            [
             0.6,
             "#e6f5d0"
            ],
            [
             0.7,
             "#b8e186"
            ],
            [
             0.8,
             "#7fbc41"
            ],
            [
             0.9,
             "#4d9221"
            ],
            [
             1,
             "#276419"
            ]
           ],
           "sequential": [
            [
             0,
             "#0d0887"
            ],
            [
             0.1111111111111111,
             "#46039f"
            ],
            [
             0.2222222222222222,
             "#7201a8"
            ],
            [
             0.3333333333333333,
             "#9c179e"
            ],
            [
             0.4444444444444444,
             "#bd3786"
            ],
            [
             0.5555555555555556,
             "#d8576b"
            ],
            [
             0.6666666666666666,
             "#ed7953"
            ],
            [
             0.7777777777777778,
             "#fb9f3a"
            ],
            [
             0.8888888888888888,
             "#fdca26"
            ],
            [
             1,
             "#f0f921"
            ]
           ],
           "sequentialminus": [
            [
             0,
             "#0d0887"
            ],
            [
             0.1111111111111111,
             "#46039f"
            ],
            [
             0.2222222222222222,
             "#7201a8"
            ],
            [
             0.3333333333333333,
             "#9c179e"
            ],
            [
             0.4444444444444444,
             "#bd3786"
            ],
            [
             0.5555555555555556,
             "#d8576b"
            ],
            [
             0.6666666666666666,
             "#ed7953"
            ],
            [
             0.7777777777777778,
             "#fb9f3a"
            ],
            [
             0.8888888888888888,
             "#fdca26"
            ],
            [
             1,
             "#f0f921"
            ]
           ]
          },
          "colorway": [
           "#636efa",
           "#EF553B",
           "#00cc96",
           "#ab63fa",
           "#FFA15A",
           "#19d3f3",
           "#FF6692",
           "#B6E880",
           "#FF97FF",
           "#FECB52"
          ],
          "font": {
           "color": "#2a3f5f"
          },
          "geo": {
           "bgcolor": "white",
           "lakecolor": "white",
           "landcolor": "#E5ECF6",
           "showlakes": true,
           "showland": true,
           "subunitcolor": "white"
          },
          "hoverlabel": {
           "align": "left"
          },
          "hovermode": "closest",
          "mapbox": {
           "style": "light"
          },
          "paper_bgcolor": "white",
          "plot_bgcolor": "#E5ECF6",
          "polar": {
           "angularaxis": {
            "gridcolor": "white",
            "linecolor": "white",
            "ticks": ""
           },
           "bgcolor": "#E5ECF6",
           "radialaxis": {
            "gridcolor": "white",
            "linecolor": "white",
            "ticks": ""
           }
          },
          "scene": {
           "xaxis": {
            "backgroundcolor": "#E5ECF6",
            "gridcolor": "white",
            "gridwidth": 2,
            "linecolor": "white",
            "showbackground": true,
            "ticks": "",
            "zerolinecolor": "white"
           },
           "yaxis": {
            "backgroundcolor": "#E5ECF6",
            "gridcolor": "white",
            "gridwidth": 2,
            "linecolor": "white",
            "showbackground": true,
            "ticks": "",
            "zerolinecolor": "white"
           },
           "zaxis": {
            "backgroundcolor": "#E5ECF6",
            "gridcolor": "white",
            "gridwidth": 2,
            "linecolor": "white",
            "showbackground": true,
            "ticks": "",
            "zerolinecolor": "white"
           }
          },
          "shapedefaults": {
           "line": {
            "color": "#2a3f5f"
           }
          },
          "ternary": {
           "aaxis": {
            "gridcolor": "white",
            "linecolor": "white",
            "ticks": ""
           },
           "baxis": {
            "gridcolor": "white",
            "linecolor": "white",
            "ticks": ""
           },
           "bgcolor": "#E5ECF6",
           "caxis": {
            "gridcolor": "white",
            "linecolor": "white",
            "ticks": ""
           }
          },
          "title": {
           "x": 0.05
          },
          "xaxis": {
           "automargin": true,
           "gridcolor": "white",
           "linecolor": "white",
           "ticks": "",
           "title": {
            "standoff": 15
           },
           "zerolinecolor": "white",
           "zerolinewidth": 2
          },
          "yaxis": {
           "automargin": true,
           "gridcolor": "white",
           "linecolor": "white",
           "ticks": "",
           "title": {
            "standoff": 15
           },
           "zerolinecolor": "white",
           "zerolinewidth": 2
          }
         }
        },
        "title": {
         "text": "Confirmed Cases based on Gender"
        },
        "width": 500,
        "xaxis": {
         "anchor": "y",
         "domain": [
          0,
          1
         ],
         "title": {
          "text": "Gender"
         }
        },
        "yaxis": {
         "anchor": "x",
         "domain": [
          0,
          1
         ],
         "title": {
          "text": "Confirmed"
         }
        }
       }
      },
      "text/html": [
       "<div>\n",
       "        \n",
       "        \n",
       "            <div id=\"df6f6fef-7378-40da-894f-3602a9a9c043\" class=\"plotly-graph-div\" style=\"height:500px; width:500px;\"></div>\n",
       "            <script type=\"text/javascript\">\n",
       "                require([\"plotly\"], function(Plotly) {\n",
       "                    window.PLOTLYENV=window.PLOTLYENV || {};\n",
       "                    \n",
       "                if (document.getElementById(\"df6f6fef-7378-40da-894f-3602a9a9c043\")) {\n",
       "                    Plotly.newPlot(\n",
       "                        'df6f6fef-7378-40da-894f-3602a9a9c043',\n",
       "                        [{\"alignmentgroup\": \"True\", \"hovertemplate\": \"Gender=%{x}<br>Confirmed=%{y}<extra></extra>\", \"legendgroup\": \"\", \"marker\": {\"color\": \"pink\"}, \"name\": \"\", \"offsetgroup\": \"\", \"orientation\": \"v\", \"showlegend\": false, \"textposition\": \"auto\", \"type\": \"bar\", \"x\": [\"F\", \"M\"], \"xaxis\": \"x\", \"y\": [157, 366], \"yaxis\": \"y\"}],\n",
       "                        {\"barmode\": \"relative\", \"height\": 500, \"legend\": {\"tracegroupgap\": 0}, \"template\": {\"data\": {\"bar\": [{\"error_x\": {\"color\": \"#2a3f5f\"}, \"error_y\": {\"color\": \"#2a3f5f\"}, \"marker\": {\"line\": {\"color\": \"#E5ECF6\", \"width\": 0.5}}, \"type\": \"bar\"}], \"barpolar\": [{\"marker\": {\"line\": {\"color\": \"#E5ECF6\", \"width\": 0.5}}, \"type\": \"barpolar\"}], \"carpet\": [{\"aaxis\": {\"endlinecolor\": \"#2a3f5f\", \"gridcolor\": \"white\", \"linecolor\": \"white\", \"minorgridcolor\": \"white\", \"startlinecolor\": \"#2a3f5f\"}, \"baxis\": {\"endlinecolor\": \"#2a3f5f\", \"gridcolor\": \"white\", \"linecolor\": \"white\", \"minorgridcolor\": \"white\", \"startlinecolor\": \"#2a3f5f\"}, \"type\": \"carpet\"}], \"choropleth\": [{\"colorbar\": {\"outlinewidth\": 0, \"ticks\": \"\"}, \"type\": \"choropleth\"}], \"contour\": [{\"colorbar\": {\"outlinewidth\": 0, \"ticks\": \"\"}, \"colorscale\": [[0.0, \"#0d0887\"], [0.1111111111111111, \"#46039f\"], [0.2222222222222222, \"#7201a8\"], [0.3333333333333333, \"#9c179e\"], [0.4444444444444444, \"#bd3786\"], [0.5555555555555556, \"#d8576b\"], [0.6666666666666666, \"#ed7953\"], [0.7777777777777778, \"#fb9f3a\"], [0.8888888888888888, \"#fdca26\"], [1.0, \"#f0f921\"]], \"type\": \"contour\"}], \"contourcarpet\": [{\"colorbar\": {\"outlinewidth\": 0, \"ticks\": \"\"}, \"type\": \"contourcarpet\"}], \"heatmap\": [{\"colorbar\": {\"outlinewidth\": 0, \"ticks\": \"\"}, \"colorscale\": [[0.0, \"#0d0887\"], [0.1111111111111111, \"#46039f\"], [0.2222222222222222, \"#7201a8\"], [0.3333333333333333, \"#9c179e\"], [0.4444444444444444, \"#bd3786\"], [0.5555555555555556, \"#d8576b\"], [0.6666666666666666, \"#ed7953\"], [0.7777777777777778, \"#fb9f3a\"], [0.8888888888888888, \"#fdca26\"], [1.0, \"#f0f921\"]], \"type\": \"heatmap\"}], \"heatmapgl\": [{\"colorbar\": {\"outlinewidth\": 0, \"ticks\": \"\"}, \"colorscale\": [[0.0, \"#0d0887\"], [0.1111111111111111, \"#46039f\"], [0.2222222222222222, \"#7201a8\"], [0.3333333333333333, \"#9c179e\"], [0.4444444444444444, \"#bd3786\"], [0.5555555555555556, \"#d8576b\"], [0.6666666666666666, \"#ed7953\"], [0.7777777777777778, \"#fb9f3a\"], [0.8888888888888888, \"#fdca26\"], [1.0, \"#f0f921\"]], \"type\": \"heatmapgl\"}], \"histogram\": [{\"marker\": {\"colorbar\": {\"outlinewidth\": 0, \"ticks\": \"\"}}, \"type\": \"histogram\"}], \"histogram2d\": [{\"colorbar\": {\"outlinewidth\": 0, \"ticks\": \"\"}, \"colorscale\": [[0.0, \"#0d0887\"], [0.1111111111111111, \"#46039f\"], [0.2222222222222222, \"#7201a8\"], [0.3333333333333333, \"#9c179e\"], [0.4444444444444444, \"#bd3786\"], [0.5555555555555556, \"#d8576b\"], [0.6666666666666666, \"#ed7953\"], [0.7777777777777778, \"#fb9f3a\"], [0.8888888888888888, \"#fdca26\"], [1.0, \"#f0f921\"]], \"type\": \"histogram2d\"}], \"histogram2dcontour\": [{\"colorbar\": {\"outlinewidth\": 0, \"ticks\": \"\"}, \"colorscale\": [[0.0, \"#0d0887\"], [0.1111111111111111, \"#46039f\"], [0.2222222222222222, \"#7201a8\"], [0.3333333333333333, \"#9c179e\"], [0.4444444444444444, \"#bd3786\"], [0.5555555555555556, \"#d8576b\"], [0.6666666666666666, \"#ed7953\"], [0.7777777777777778, \"#fb9f3a\"], [0.8888888888888888, \"#fdca26\"], [1.0, \"#f0f921\"]], \"type\": \"histogram2dcontour\"}], \"mesh3d\": [{\"colorbar\": {\"outlinewidth\": 0, \"ticks\": \"\"}, \"type\": \"mesh3d\"}], \"parcoords\": [{\"line\": {\"colorbar\": {\"outlinewidth\": 0, \"ticks\": \"\"}}, \"type\": \"parcoords\"}], \"pie\": [{\"automargin\": true, \"type\": \"pie\"}], \"scatter\": [{\"marker\": {\"colorbar\": {\"outlinewidth\": 0, \"ticks\": \"\"}}, \"type\": \"scatter\"}], \"scatter3d\": [{\"line\": {\"colorbar\": {\"outlinewidth\": 0, \"ticks\": \"\"}}, \"marker\": {\"colorbar\": {\"outlinewidth\": 0, \"ticks\": \"\"}}, \"type\": \"scatter3d\"}], \"scattercarpet\": [{\"marker\": {\"colorbar\": {\"outlinewidth\": 0, \"ticks\": \"\"}}, \"type\": \"scattercarpet\"}], \"scattergeo\": [{\"marker\": {\"colorbar\": {\"outlinewidth\": 0, \"ticks\": \"\"}}, \"type\": \"scattergeo\"}], \"scattergl\": [{\"marker\": {\"colorbar\": {\"outlinewidth\": 0, \"ticks\": \"\"}}, \"type\": \"scattergl\"}], \"scattermapbox\": [{\"marker\": {\"colorbar\": {\"outlinewidth\": 0, \"ticks\": \"\"}}, \"type\": \"scattermapbox\"}], \"scatterpolar\": [{\"marker\": {\"colorbar\": {\"outlinewidth\": 0, \"ticks\": \"\"}}, \"type\": \"scatterpolar\"}], \"scatterpolargl\": [{\"marker\": {\"colorbar\": {\"outlinewidth\": 0, \"ticks\": \"\"}}, \"type\": \"scatterpolargl\"}], \"scatterternary\": [{\"marker\": {\"colorbar\": {\"outlinewidth\": 0, \"ticks\": \"\"}}, \"type\": \"scatterternary\"}], \"surface\": [{\"colorbar\": {\"outlinewidth\": 0, \"ticks\": \"\"}, \"colorscale\": [[0.0, \"#0d0887\"], [0.1111111111111111, \"#46039f\"], [0.2222222222222222, \"#7201a8\"], [0.3333333333333333, \"#9c179e\"], [0.4444444444444444, \"#bd3786\"], [0.5555555555555556, \"#d8576b\"], [0.6666666666666666, \"#ed7953\"], [0.7777777777777778, \"#fb9f3a\"], [0.8888888888888888, \"#fdca26\"], [1.0, \"#f0f921\"]], \"type\": \"surface\"}], \"table\": [{\"cells\": {\"fill\": {\"color\": \"#EBF0F8\"}, \"line\": {\"color\": \"white\"}}, \"header\": {\"fill\": {\"color\": \"#C8D4E3\"}, \"line\": {\"color\": \"white\"}}, \"type\": \"table\"}]}, \"layout\": {\"annotationdefaults\": {\"arrowcolor\": \"#2a3f5f\", \"arrowhead\": 0, \"arrowwidth\": 1}, \"coloraxis\": {\"colorbar\": {\"outlinewidth\": 0, \"ticks\": \"\"}}, \"colorscale\": {\"diverging\": [[0, \"#8e0152\"], [0.1, \"#c51b7d\"], [0.2, \"#de77ae\"], [0.3, \"#f1b6da\"], [0.4, \"#fde0ef\"], [0.5, \"#f7f7f7\"], [0.6, \"#e6f5d0\"], [0.7, \"#b8e186\"], [0.8, \"#7fbc41\"], [0.9, \"#4d9221\"], [1, \"#276419\"]], \"sequential\": [[0.0, \"#0d0887\"], [0.1111111111111111, \"#46039f\"], [0.2222222222222222, \"#7201a8\"], [0.3333333333333333, \"#9c179e\"], [0.4444444444444444, \"#bd3786\"], [0.5555555555555556, \"#d8576b\"], [0.6666666666666666, \"#ed7953\"], [0.7777777777777778, \"#fb9f3a\"], [0.8888888888888888, \"#fdca26\"], [1.0, \"#f0f921\"]], \"sequentialminus\": [[0.0, \"#0d0887\"], [0.1111111111111111, \"#46039f\"], [0.2222222222222222, \"#7201a8\"], [0.3333333333333333, \"#9c179e\"], [0.4444444444444444, \"#bd3786\"], [0.5555555555555556, \"#d8576b\"], [0.6666666666666666, \"#ed7953\"], [0.7777777777777778, \"#fb9f3a\"], [0.8888888888888888, \"#fdca26\"], [1.0, \"#f0f921\"]]}, \"colorway\": [\"#636efa\", \"#EF553B\", \"#00cc96\", \"#ab63fa\", \"#FFA15A\", \"#19d3f3\", \"#FF6692\", \"#B6E880\", \"#FF97FF\", \"#FECB52\"], \"font\": {\"color\": \"#2a3f5f\"}, \"geo\": {\"bgcolor\": \"white\", \"lakecolor\": \"white\", \"landcolor\": \"#E5ECF6\", \"showlakes\": true, \"showland\": true, \"subunitcolor\": \"white\"}, \"hoverlabel\": {\"align\": \"left\"}, \"hovermode\": \"closest\", \"mapbox\": {\"style\": \"light\"}, \"paper_bgcolor\": \"white\", \"plot_bgcolor\": \"#E5ECF6\", \"polar\": {\"angularaxis\": {\"gridcolor\": \"white\", \"linecolor\": \"white\", \"ticks\": \"\"}, \"bgcolor\": \"#E5ECF6\", \"radialaxis\": {\"gridcolor\": \"white\", \"linecolor\": \"white\", \"ticks\": \"\"}}, \"scene\": {\"xaxis\": {\"backgroundcolor\": \"#E5ECF6\", \"gridcolor\": \"white\", \"gridwidth\": 2, \"linecolor\": \"white\", \"showbackground\": true, \"ticks\": \"\", \"zerolinecolor\": \"white\"}, \"yaxis\": {\"backgroundcolor\": \"#E5ECF6\", \"gridcolor\": \"white\", \"gridwidth\": 2, \"linecolor\": \"white\", \"showbackground\": true, \"ticks\": \"\", \"zerolinecolor\": \"white\"}, \"zaxis\": {\"backgroundcolor\": \"#E5ECF6\", \"gridcolor\": \"white\", \"gridwidth\": 2, \"linecolor\": \"white\", \"showbackground\": true, \"ticks\": \"\", \"zerolinecolor\": \"white\"}}, \"shapedefaults\": {\"line\": {\"color\": \"#2a3f5f\"}}, \"ternary\": {\"aaxis\": {\"gridcolor\": \"white\", \"linecolor\": \"white\", \"ticks\": \"\"}, \"baxis\": {\"gridcolor\": \"white\", \"linecolor\": \"white\", \"ticks\": \"\"}, \"bgcolor\": \"#E5ECF6\", \"caxis\": {\"gridcolor\": \"white\", \"linecolor\": \"white\", \"ticks\": \"\"}}, \"title\": {\"x\": 0.05}, \"xaxis\": {\"automargin\": true, \"gridcolor\": \"white\", \"linecolor\": \"white\", \"ticks\": \"\", \"title\": {\"standoff\": 15}, \"zerolinecolor\": \"white\", \"zerolinewidth\": 2}, \"yaxis\": {\"automargin\": true, \"gridcolor\": \"white\", \"linecolor\": \"white\", \"ticks\": \"\", \"title\": {\"standoff\": 15}, \"zerolinecolor\": \"white\", \"zerolinewidth\": 2}}}, \"title\": {\"text\": \"Confirmed Cases based on Gender\"}, \"width\": 500, \"xaxis\": {\"anchor\": \"y\", \"domain\": [0.0, 1.0], \"title\": {\"text\": \"Gender\"}}, \"yaxis\": {\"anchor\": \"x\", \"domain\": [0.0, 1.0], \"title\": {\"text\": \"Confirmed\"}}},\n",
       "                        {\"responsive\": true}\n",
       "                    ).then(function(){\n",
       "                            \n",
       "var gd = document.getElementById('df6f6fef-7378-40da-894f-3602a9a9c043');\n",
       "var x = new MutationObserver(function (mutations, observer) {{\n",
       "        var display = window.getComputedStyle(gd).display;\n",
       "        if (!display || display === 'none') {{\n",
       "            console.log([gd, 'removed!']);\n",
       "            Plotly.purge(gd);\n",
       "            observer.disconnect();\n",
       "        }}\n",
       "}});\n",
       "\n",
       "// Listen for the removal of the full notebook cells\n",
       "var notebookContainer = gd.closest('#notebook-container');\n",
       "if (notebookContainer) {{\n",
       "    x.observe(notebookContainer, {childList: true});\n",
       "}}\n",
       "\n",
       "// Listen for the clearing of the current output cell\n",
       "var outputEl = gd.closest('.output');\n",
       "if (outputEl) {{\n",
       "    x.observe(outputEl, {childList: true});\n",
       "}}\n",
       "\n",
       "                        })\n",
       "                };\n",
       "                });\n",
       "            </script>\n",
       "        </div>"
      ]
     },
     "metadata": {},
     "output_type": "display_data"
    }
   ],
   "source": [
    "genderGrp=rawCases.groupby(by='Gender').size().reset_index(name='count')\n",
    "genderGrp=genderGrp.rename(columns={'count':'Confirmed'})\n",
    "\n",
    "\n",
    "px.bar(\n",
    "    genderGrp,\n",
    "    x = \"Gender\",\n",
    "    y = \"Confirmed\",\n",
    "    title= \"Confirmed Cases based on Gender\", # the axis names\n",
    "    color_discrete_sequence=[\"pink\"], \n",
    "    height=500,\n",
    "    width=500\n",
    ")"
   ]
  },
  {
   "cell_type": "code",
   "execution_count": 186,
   "metadata": {},
   "outputs": [
    {
     "data": {
      "application/vnd.plotly.v1+json": {
       "config": {
        "plotlyServerURL": "https://plot.ly"
       },
       "data": [
        {
         "alignmentgroup": "True",
         "hovertemplate": "Age Group=%{x}<br>Confirmed=%{y}<extra></extra>",
         "legendgroup": "",
         "marker": {
          "color": "purple"
         },
         "name": "",
         "offsetgroup": "",
         "orientation": "v",
         "showlegend": false,
         "textposition": "auto",
         "type": "bar",
         "x": [
          "12-20",
          "20-40",
          "3-12",
          "40-60",
          "60+",
          "<3"
         ],
         "xaxis": "x",
         "y": [
          45,
          252,
          25,
          132,
          64,
          5
         ],
         "yaxis": "y"
        }
       ],
       "layout": {
        "barmode": "relative",
        "height": 500,
        "legend": {
         "tracegroupgap": 0
        },
        "template": {
         "data": {
          "bar": [
           {
            "error_x": {
             "color": "#2a3f5f"
            },
            "error_y": {
             "color": "#2a3f5f"
            },
            "marker": {
             "line": {
              "color": "#E5ECF6",
              "width": 0.5
             }
            },
            "type": "bar"
           }
          ],
          "barpolar": [
           {
            "marker": {
             "line": {
              "color": "#E5ECF6",
              "width": 0.5
             }
            },
            "type": "barpolar"
           }
          ],
          "carpet": [
           {
            "aaxis": {
             "endlinecolor": "#2a3f5f",
             "gridcolor": "white",
             "linecolor": "white",
             "minorgridcolor": "white",
             "startlinecolor": "#2a3f5f"
            },
            "baxis": {
             "endlinecolor": "#2a3f5f",
             "gridcolor": "white",
             "linecolor": "white",
             "minorgridcolor": "white",
             "startlinecolor": "#2a3f5f"
            },
            "type": "carpet"
           }
          ],
          "choropleth": [
           {
            "colorbar": {
             "outlinewidth": 0,
             "ticks": ""
            },
            "type": "choropleth"
           }
          ],
          "contour": [
           {
            "colorbar": {
             "outlinewidth": 0,
             "ticks": ""
            },
            "colorscale": [
             [
              0,
              "#0d0887"
             ],
             [
              0.1111111111111111,
              "#46039f"
             ],
             [
              0.2222222222222222,
              "#7201a8"
             ],
             [
              0.3333333333333333,
              "#9c179e"
             ],
             [
              0.4444444444444444,
              "#bd3786"
             ],
             [
              0.5555555555555556,
              "#d8576b"
             ],
             [
              0.6666666666666666,
              "#ed7953"
             ],
             [
              0.7777777777777778,
              "#fb9f3a"
             ],
             [
              0.8888888888888888,
              "#fdca26"
             ],
             [
              1,
              "#f0f921"
             ]
            ],
            "type": "contour"
           }
          ],
          "contourcarpet": [
           {
            "colorbar": {
             "outlinewidth": 0,
             "ticks": ""
            },
            "type": "contourcarpet"
           }
          ],
          "heatmap": [
           {
            "colorbar": {
             "outlinewidth": 0,
             "ticks": ""
            },
            "colorscale": [
             [
              0,
              "#0d0887"
             ],
             [
              0.1111111111111111,
              "#46039f"
             ],
             [
              0.2222222222222222,
              "#7201a8"
             ],
             [
              0.3333333333333333,
              "#9c179e"
             ],
             [
              0.4444444444444444,
              "#bd3786"
             ],
             [
              0.5555555555555556,
              "#d8576b"
             ],
             [
              0.6666666666666666,
              "#ed7953"
             ],
             [
              0.7777777777777778,
              "#fb9f3a"
             ],
             [
              0.8888888888888888,
              "#fdca26"
             ],
             [
              1,
              "#f0f921"
             ]
            ],
            "type": "heatmap"
           }
          ],
          "heatmapgl": [
           {
            "colorbar": {
             "outlinewidth": 0,
             "ticks": ""
            },
            "colorscale": [
             [
              0,
              "#0d0887"
             ],
             [
              0.1111111111111111,
              "#46039f"
             ],
             [
              0.2222222222222222,
              "#7201a8"
             ],
             [
              0.3333333333333333,
              "#9c179e"
             ],
             [
              0.4444444444444444,
              "#bd3786"
             ],
             [
              0.5555555555555556,
              "#d8576b"
             ],
             [
              0.6666666666666666,
              "#ed7953"
             ],
             [
              0.7777777777777778,
              "#fb9f3a"
             ],
             [
              0.8888888888888888,
              "#fdca26"
             ],
             [
              1,
              "#f0f921"
             ]
            ],
            "type": "heatmapgl"
           }
          ],
          "histogram": [
           {
            "marker": {
             "colorbar": {
              "outlinewidth": 0,
              "ticks": ""
             }
            },
            "type": "histogram"
           }
          ],
          "histogram2d": [
           {
            "colorbar": {
             "outlinewidth": 0,
             "ticks": ""
            },
            "colorscale": [
             [
              0,
              "#0d0887"
             ],
             [
              0.1111111111111111,
              "#46039f"
             ],
             [
              0.2222222222222222,
              "#7201a8"
             ],
             [
              0.3333333333333333,
              "#9c179e"
             ],
             [
              0.4444444444444444,
              "#bd3786"
             ],
             [
              0.5555555555555556,
              "#d8576b"
             ],
             [
              0.6666666666666666,
              "#ed7953"
             ],
             [
              0.7777777777777778,
              "#fb9f3a"
             ],
             [
              0.8888888888888888,
              "#fdca26"
             ],
             [
              1,
              "#f0f921"
             ]
            ],
            "type": "histogram2d"
           }
          ],
          "histogram2dcontour": [
           {
            "colorbar": {
             "outlinewidth": 0,
             "ticks": ""
            },
            "colorscale": [
             [
              0,
              "#0d0887"
             ],
             [
              0.1111111111111111,
              "#46039f"
             ],
             [
              0.2222222222222222,
              "#7201a8"
             ],
             [
              0.3333333333333333,
              "#9c179e"
             ],
             [
              0.4444444444444444,
              "#bd3786"
             ],
             [
              0.5555555555555556,
              "#d8576b"
             ],
             [
              0.6666666666666666,
              "#ed7953"
             ],
             [
              0.7777777777777778,
              "#fb9f3a"
             ],
             [
              0.8888888888888888,
              "#fdca26"
             ],
             [
              1,
              "#f0f921"
             ]
            ],
            "type": "histogram2dcontour"
           }
          ],
          "mesh3d": [
           {
            "colorbar": {
             "outlinewidth": 0,
             "ticks": ""
            },
            "type": "mesh3d"
           }
          ],
          "parcoords": [
           {
            "line": {
             "colorbar": {
              "outlinewidth": 0,
              "ticks": ""
             }
            },
            "type": "parcoords"
           }
          ],
          "pie": [
           {
            "automargin": true,
            "type": "pie"
           }
          ],
          "scatter": [
           {
            "marker": {
             "colorbar": {
              "outlinewidth": 0,
              "ticks": ""
             }
            },
            "type": "scatter"
           }
          ],
          "scatter3d": [
           {
            "line": {
             "colorbar": {
              "outlinewidth": 0,
              "ticks": ""
             }
            },
            "marker": {
             "colorbar": {
              "outlinewidth": 0,
              "ticks": ""
             }
            },
            "type": "scatter3d"
           }
          ],
          "scattercarpet": [
           {
            "marker": {
             "colorbar": {
              "outlinewidth": 0,
              "ticks": ""
             }
            },
            "type": "scattercarpet"
           }
          ],
          "scattergeo": [
           {
            "marker": {
             "colorbar": {
              "outlinewidth": 0,
              "ticks": ""
             }
            },
            "type": "scattergeo"
           }
          ],
          "scattergl": [
           {
            "marker": {
             "colorbar": {
              "outlinewidth": 0,
              "ticks": ""
             }
            },
            "type": "scattergl"
           }
          ],
          "scattermapbox": [
           {
            "marker": {
             "colorbar": {
              "outlinewidth": 0,
              "ticks": ""
             }
            },
            "type": "scattermapbox"
           }
          ],
          "scatterpolar": [
           {
            "marker": {
             "colorbar": {
              "outlinewidth": 0,
              "ticks": ""
             }
            },
            "type": "scatterpolar"
           }
          ],
          "scatterpolargl": [
           {
            "marker": {
             "colorbar": {
              "outlinewidth": 0,
              "ticks": ""
             }
            },
            "type": "scatterpolargl"
           }
          ],
          "scatterternary": [
           {
            "marker": {
             "colorbar": {
              "outlinewidth": 0,
              "ticks": ""
             }
            },
            "type": "scatterternary"
           }
          ],
          "surface": [
           {
            "colorbar": {
             "outlinewidth": 0,
             "ticks": ""
            },
            "colorscale": [
             [
              0,
              "#0d0887"
             ],
             [
              0.1111111111111111,
              "#46039f"
             ],
             [
              0.2222222222222222,
              "#7201a8"
             ],
             [
              0.3333333333333333,
              "#9c179e"
             ],
             [
              0.4444444444444444,
              "#bd3786"
             ],
             [
              0.5555555555555556,
              "#d8576b"
             ],
             [
              0.6666666666666666,
              "#ed7953"
             ],
             [
              0.7777777777777778,
              "#fb9f3a"
             ],
             [
              0.8888888888888888,
              "#fdca26"
             ],
             [
              1,
              "#f0f921"
             ]
            ],
            "type": "surface"
           }
          ],
          "table": [
           {
            "cells": {
             "fill": {
              "color": "#EBF0F8"
             },
             "line": {
              "color": "white"
             }
            },
            "header": {
             "fill": {
              "color": "#C8D4E3"
             },
             "line": {
              "color": "white"
             }
            },
            "type": "table"
           }
          ]
         },
         "layout": {
          "annotationdefaults": {
           "arrowcolor": "#2a3f5f",
           "arrowhead": 0,
           "arrowwidth": 1
          },
          "coloraxis": {
           "colorbar": {
            "outlinewidth": 0,
            "ticks": ""
           }
          },
          "colorscale": {
           "diverging": [
            [
             0,
             "#8e0152"
            ],
            [
             0.1,
             "#c51b7d"
            ],
            [
             0.2,
             "#de77ae"
            ],
            [
             0.3,
             "#f1b6da"
            ],
            [
             0.4,
             "#fde0ef"
            ],
            [
             0.5,
             "#f7f7f7"
            ],
            [
             0.6,
             "#e6f5d0"
            ],
            [
             0.7,
             "#b8e186"
            ],
            [
             0.8,
             "#7fbc41"
            ],
            [
             0.9,
             "#4d9221"
            ],
            [
             1,
             "#276419"
            ]
           ],
           "sequential": [
            [
             0,
             "#0d0887"
            ],
            [
             0.1111111111111111,
             "#46039f"
            ],
            [
             0.2222222222222222,
             "#7201a8"
            ],
            [
             0.3333333333333333,
             "#9c179e"
            ],
            [
             0.4444444444444444,
             "#bd3786"
            ],
            [
             0.5555555555555556,
             "#d8576b"
            ],
            [
             0.6666666666666666,
             "#ed7953"
            ],
            [
             0.7777777777777778,
             "#fb9f3a"
            ],
            [
             0.8888888888888888,
             "#fdca26"
            ],
            [
             1,
             "#f0f921"
            ]
           ],
           "sequentialminus": [
            [
             0,
             "#0d0887"
            ],
            [
             0.1111111111111111,
             "#46039f"
            ],
            [
             0.2222222222222222,
             "#7201a8"
            ],
            [
             0.3333333333333333,
             "#9c179e"
            ],
            [
             0.4444444444444444,
             "#bd3786"
            ],
            [
             0.5555555555555556,
             "#d8576b"
            ],
            [
             0.6666666666666666,
             "#ed7953"
            ],
            [
             0.7777777777777778,
             "#fb9f3a"
            ],
            [
             0.8888888888888888,
             "#fdca26"
            ],
            [
             1,
             "#f0f921"
            ]
           ]
          },
          "colorway": [
           "#636efa",
           "#EF553B",
           "#00cc96",
           "#ab63fa",
           "#FFA15A",
           "#19d3f3",
           "#FF6692",
           "#B6E880",
           "#FF97FF",
           "#FECB52"
          ],
          "font": {
           "color": "#2a3f5f"
          },
          "geo": {
           "bgcolor": "white",
           "lakecolor": "white",
           "landcolor": "#E5ECF6",
           "showlakes": true,
           "showland": true,
           "subunitcolor": "white"
          },
          "hoverlabel": {
           "align": "left"
          },
          "hovermode": "closest",
          "mapbox": {
           "style": "light"
          },
          "paper_bgcolor": "white",
          "plot_bgcolor": "#E5ECF6",
          "polar": {
           "angularaxis": {
            "gridcolor": "white",
            "linecolor": "white",
            "ticks": ""
           },
           "bgcolor": "#E5ECF6",
           "radialaxis": {
            "gridcolor": "white",
            "linecolor": "white",
            "ticks": ""
           }
          },
          "scene": {
           "xaxis": {
            "backgroundcolor": "#E5ECF6",
            "gridcolor": "white",
            "gridwidth": 2,
            "linecolor": "white",
            "showbackground": true,
            "ticks": "",
            "zerolinecolor": "white"
           },
           "yaxis": {
            "backgroundcolor": "#E5ECF6",
            "gridcolor": "white",
            "gridwidth": 2,
            "linecolor": "white",
            "showbackground": true,
            "ticks": "",
            "zerolinecolor": "white"
           },
           "zaxis": {
            "backgroundcolor": "#E5ECF6",
            "gridcolor": "white",
            "gridwidth": 2,
            "linecolor": "white",
            "showbackground": true,
            "ticks": "",
            "zerolinecolor": "white"
           }
          },
          "shapedefaults": {
           "line": {
            "color": "#2a3f5f"
           }
          },
          "ternary": {
           "aaxis": {
            "gridcolor": "white",
            "linecolor": "white",
            "ticks": ""
           },
           "baxis": {
            "gridcolor": "white",
            "linecolor": "white",
            "ticks": ""
           },
           "bgcolor": "#E5ECF6",
           "caxis": {
            "gridcolor": "white",
            "linecolor": "white",
            "ticks": ""
           }
          },
          "title": {
           "x": 0.05
          },
          "xaxis": {
           "automargin": true,
           "gridcolor": "white",
           "linecolor": "white",
           "ticks": "",
           "title": {
            "standoff": 15
           },
           "zerolinecolor": "white",
           "zerolinewidth": 2
          },
          "yaxis": {
           "automargin": true,
           "gridcolor": "white",
           "linecolor": "white",
           "ticks": "",
           "title": {
            "standoff": 15
           },
           "zerolinecolor": "white",
           "zerolinewidth": 2
          }
         }
        },
        "title": {
         "text": "Confirmed Cases based on Age of Patients"
        },
        "width": 800,
        "xaxis": {
         "anchor": "y",
         "domain": [
          0,
          1
         ],
         "title": {
          "text": "Age Group"
         }
        },
        "yaxis": {
         "anchor": "x",
         "domain": [
          0,
          1
         ],
         "title": {
          "text": "Confirmed"
         }
        }
       }
      },
      "text/html": [
       "<div>\n",
       "        \n",
       "        \n",
       "            <div id=\"89ac6c5f-76a6-43ec-84ed-b895378a1b96\" class=\"plotly-graph-div\" style=\"height:500px; width:800px;\"></div>\n",
       "            <script type=\"text/javascript\">\n",
       "                require([\"plotly\"], function(Plotly) {\n",
       "                    window.PLOTLYENV=window.PLOTLYENV || {};\n",
       "                    \n",
       "                if (document.getElementById(\"89ac6c5f-76a6-43ec-84ed-b895378a1b96\")) {\n",
       "                    Plotly.newPlot(\n",
       "                        '89ac6c5f-76a6-43ec-84ed-b895378a1b96',\n",
       "                        [{\"alignmentgroup\": \"True\", \"hovertemplate\": \"Age Group=%{x}<br>Confirmed=%{y}<extra></extra>\", \"legendgroup\": \"\", \"marker\": {\"color\": \"purple\"}, \"name\": \"\", \"offsetgroup\": \"\", \"orientation\": \"v\", \"showlegend\": false, \"textposition\": \"auto\", \"type\": \"bar\", \"x\": [\"12-20\", \"20-40\", \"3-12\", \"40-60\", \"60+\", \"<3\"], \"xaxis\": \"x\", \"y\": [45, 252, 25, 132, 64, 5], \"yaxis\": \"y\"}],\n",
       "                        {\"barmode\": \"relative\", \"height\": 500, \"legend\": {\"tracegroupgap\": 0}, \"template\": {\"data\": {\"bar\": [{\"error_x\": {\"color\": \"#2a3f5f\"}, \"error_y\": {\"color\": \"#2a3f5f\"}, \"marker\": {\"line\": {\"color\": \"#E5ECF6\", \"width\": 0.5}}, \"type\": \"bar\"}], \"barpolar\": [{\"marker\": {\"line\": {\"color\": \"#E5ECF6\", \"width\": 0.5}}, \"type\": \"barpolar\"}], \"carpet\": [{\"aaxis\": {\"endlinecolor\": \"#2a3f5f\", \"gridcolor\": \"white\", \"linecolor\": \"white\", \"minorgridcolor\": \"white\", \"startlinecolor\": \"#2a3f5f\"}, \"baxis\": {\"endlinecolor\": \"#2a3f5f\", \"gridcolor\": \"white\", \"linecolor\": \"white\", \"minorgridcolor\": \"white\", \"startlinecolor\": \"#2a3f5f\"}, \"type\": \"carpet\"}], \"choropleth\": [{\"colorbar\": {\"outlinewidth\": 0, \"ticks\": \"\"}, \"type\": \"choropleth\"}], \"contour\": [{\"colorbar\": {\"outlinewidth\": 0, \"ticks\": \"\"}, \"colorscale\": [[0.0, \"#0d0887\"], [0.1111111111111111, \"#46039f\"], [0.2222222222222222, \"#7201a8\"], [0.3333333333333333, \"#9c179e\"], [0.4444444444444444, \"#bd3786\"], [0.5555555555555556, \"#d8576b\"], [0.6666666666666666, \"#ed7953\"], [0.7777777777777778, \"#fb9f3a\"], [0.8888888888888888, \"#fdca26\"], [1.0, \"#f0f921\"]], \"type\": \"contour\"}], \"contourcarpet\": [{\"colorbar\": {\"outlinewidth\": 0, \"ticks\": \"\"}, \"type\": \"contourcarpet\"}], \"heatmap\": [{\"colorbar\": {\"outlinewidth\": 0, \"ticks\": \"\"}, \"colorscale\": [[0.0, \"#0d0887\"], [0.1111111111111111, \"#46039f\"], [0.2222222222222222, \"#7201a8\"], [0.3333333333333333, \"#9c179e\"], [0.4444444444444444, \"#bd3786\"], [0.5555555555555556, \"#d8576b\"], [0.6666666666666666, \"#ed7953\"], [0.7777777777777778, \"#fb9f3a\"], [0.8888888888888888, \"#fdca26\"], [1.0, \"#f0f921\"]], \"type\": \"heatmap\"}], \"heatmapgl\": [{\"colorbar\": {\"outlinewidth\": 0, \"ticks\": \"\"}, \"colorscale\": [[0.0, \"#0d0887\"], [0.1111111111111111, \"#46039f\"], [0.2222222222222222, \"#7201a8\"], [0.3333333333333333, \"#9c179e\"], [0.4444444444444444, \"#bd3786\"], [0.5555555555555556, \"#d8576b\"], [0.6666666666666666, \"#ed7953\"], [0.7777777777777778, \"#fb9f3a\"], [0.8888888888888888, \"#fdca26\"], [1.0, \"#f0f921\"]], \"type\": \"heatmapgl\"}], \"histogram\": [{\"marker\": {\"colorbar\": {\"outlinewidth\": 0, \"ticks\": \"\"}}, \"type\": \"histogram\"}], \"histogram2d\": [{\"colorbar\": {\"outlinewidth\": 0, \"ticks\": \"\"}, \"colorscale\": [[0.0, \"#0d0887\"], [0.1111111111111111, \"#46039f\"], [0.2222222222222222, \"#7201a8\"], [0.3333333333333333, \"#9c179e\"], [0.4444444444444444, \"#bd3786\"], [0.5555555555555556, \"#d8576b\"], [0.6666666666666666, \"#ed7953\"], [0.7777777777777778, \"#fb9f3a\"], [0.8888888888888888, \"#fdca26\"], [1.0, \"#f0f921\"]], \"type\": \"histogram2d\"}], \"histogram2dcontour\": [{\"colorbar\": {\"outlinewidth\": 0, \"ticks\": \"\"}, \"colorscale\": [[0.0, \"#0d0887\"], [0.1111111111111111, \"#46039f\"], [0.2222222222222222, \"#7201a8\"], [0.3333333333333333, \"#9c179e\"], [0.4444444444444444, \"#bd3786\"], [0.5555555555555556, \"#d8576b\"], [0.6666666666666666, \"#ed7953\"], [0.7777777777777778, \"#fb9f3a\"], [0.8888888888888888, \"#fdca26\"], [1.0, \"#f0f921\"]], \"type\": \"histogram2dcontour\"}], \"mesh3d\": [{\"colorbar\": {\"outlinewidth\": 0, \"ticks\": \"\"}, \"type\": \"mesh3d\"}], \"parcoords\": [{\"line\": {\"colorbar\": {\"outlinewidth\": 0, \"ticks\": \"\"}}, \"type\": \"parcoords\"}], \"pie\": [{\"automargin\": true, \"type\": \"pie\"}], \"scatter\": [{\"marker\": {\"colorbar\": {\"outlinewidth\": 0, \"ticks\": \"\"}}, \"type\": \"scatter\"}], \"scatter3d\": [{\"line\": {\"colorbar\": {\"outlinewidth\": 0, \"ticks\": \"\"}}, \"marker\": {\"colorbar\": {\"outlinewidth\": 0, \"ticks\": \"\"}}, \"type\": \"scatter3d\"}], \"scattercarpet\": [{\"marker\": {\"colorbar\": {\"outlinewidth\": 0, \"ticks\": \"\"}}, \"type\": \"scattercarpet\"}], \"scattergeo\": [{\"marker\": {\"colorbar\": {\"outlinewidth\": 0, \"ticks\": \"\"}}, \"type\": \"scattergeo\"}], \"scattergl\": [{\"marker\": {\"colorbar\": {\"outlinewidth\": 0, \"ticks\": \"\"}}, \"type\": \"scattergl\"}], \"scattermapbox\": [{\"marker\": {\"colorbar\": {\"outlinewidth\": 0, \"ticks\": \"\"}}, \"type\": \"scattermapbox\"}], \"scatterpolar\": [{\"marker\": {\"colorbar\": {\"outlinewidth\": 0, \"ticks\": \"\"}}, \"type\": \"scatterpolar\"}], \"scatterpolargl\": [{\"marker\": {\"colorbar\": {\"outlinewidth\": 0, \"ticks\": \"\"}}, \"type\": \"scatterpolargl\"}], \"scatterternary\": [{\"marker\": {\"colorbar\": {\"outlinewidth\": 0, \"ticks\": \"\"}}, \"type\": \"scatterternary\"}], \"surface\": [{\"colorbar\": {\"outlinewidth\": 0, \"ticks\": \"\"}, \"colorscale\": [[0.0, \"#0d0887\"], [0.1111111111111111, \"#46039f\"], [0.2222222222222222, \"#7201a8\"], [0.3333333333333333, \"#9c179e\"], [0.4444444444444444, \"#bd3786\"], [0.5555555555555556, \"#d8576b\"], [0.6666666666666666, \"#ed7953\"], [0.7777777777777778, \"#fb9f3a\"], [0.8888888888888888, \"#fdca26\"], [1.0, \"#f0f921\"]], \"type\": \"surface\"}], \"table\": [{\"cells\": {\"fill\": {\"color\": \"#EBF0F8\"}, \"line\": {\"color\": \"white\"}}, \"header\": {\"fill\": {\"color\": \"#C8D4E3\"}, \"line\": {\"color\": \"white\"}}, \"type\": \"table\"}]}, \"layout\": {\"annotationdefaults\": {\"arrowcolor\": \"#2a3f5f\", \"arrowhead\": 0, \"arrowwidth\": 1}, \"coloraxis\": {\"colorbar\": {\"outlinewidth\": 0, \"ticks\": \"\"}}, \"colorscale\": {\"diverging\": [[0, \"#8e0152\"], [0.1, \"#c51b7d\"], [0.2, \"#de77ae\"], [0.3, \"#f1b6da\"], [0.4, \"#fde0ef\"], [0.5, \"#f7f7f7\"], [0.6, \"#e6f5d0\"], [0.7, \"#b8e186\"], [0.8, \"#7fbc41\"], [0.9, \"#4d9221\"], [1, \"#276419\"]], \"sequential\": [[0.0, \"#0d0887\"], [0.1111111111111111, \"#46039f\"], [0.2222222222222222, \"#7201a8\"], [0.3333333333333333, \"#9c179e\"], [0.4444444444444444, \"#bd3786\"], [0.5555555555555556, \"#d8576b\"], [0.6666666666666666, \"#ed7953\"], [0.7777777777777778, \"#fb9f3a\"], [0.8888888888888888, \"#fdca26\"], [1.0, \"#f0f921\"]], \"sequentialminus\": [[0.0, \"#0d0887\"], [0.1111111111111111, \"#46039f\"], [0.2222222222222222, \"#7201a8\"], [0.3333333333333333, \"#9c179e\"], [0.4444444444444444, \"#bd3786\"], [0.5555555555555556, \"#d8576b\"], [0.6666666666666666, \"#ed7953\"], [0.7777777777777778, \"#fb9f3a\"], [0.8888888888888888, \"#fdca26\"], [1.0, \"#f0f921\"]]}, \"colorway\": [\"#636efa\", \"#EF553B\", \"#00cc96\", \"#ab63fa\", \"#FFA15A\", \"#19d3f3\", \"#FF6692\", \"#B6E880\", \"#FF97FF\", \"#FECB52\"], \"font\": {\"color\": \"#2a3f5f\"}, \"geo\": {\"bgcolor\": \"white\", \"lakecolor\": \"white\", \"landcolor\": \"#E5ECF6\", \"showlakes\": true, \"showland\": true, \"subunitcolor\": \"white\"}, \"hoverlabel\": {\"align\": \"left\"}, \"hovermode\": \"closest\", \"mapbox\": {\"style\": \"light\"}, \"paper_bgcolor\": \"white\", \"plot_bgcolor\": \"#E5ECF6\", \"polar\": {\"angularaxis\": {\"gridcolor\": \"white\", \"linecolor\": \"white\", \"ticks\": \"\"}, \"bgcolor\": \"#E5ECF6\", \"radialaxis\": {\"gridcolor\": \"white\", \"linecolor\": \"white\", \"ticks\": \"\"}}, \"scene\": {\"xaxis\": {\"backgroundcolor\": \"#E5ECF6\", \"gridcolor\": \"white\", \"gridwidth\": 2, \"linecolor\": \"white\", \"showbackground\": true, \"ticks\": \"\", \"zerolinecolor\": \"white\"}, \"yaxis\": {\"backgroundcolor\": \"#E5ECF6\", \"gridcolor\": \"white\", \"gridwidth\": 2, \"linecolor\": \"white\", \"showbackground\": true, \"ticks\": \"\", \"zerolinecolor\": \"white\"}, \"zaxis\": {\"backgroundcolor\": \"#E5ECF6\", \"gridcolor\": \"white\", \"gridwidth\": 2, \"linecolor\": \"white\", \"showbackground\": true, \"ticks\": \"\", \"zerolinecolor\": \"white\"}}, \"shapedefaults\": {\"line\": {\"color\": \"#2a3f5f\"}}, \"ternary\": {\"aaxis\": {\"gridcolor\": \"white\", \"linecolor\": \"white\", \"ticks\": \"\"}, \"baxis\": {\"gridcolor\": \"white\", \"linecolor\": \"white\", \"ticks\": \"\"}, \"bgcolor\": \"#E5ECF6\", \"caxis\": {\"gridcolor\": \"white\", \"linecolor\": \"white\", \"ticks\": \"\"}}, \"title\": {\"x\": 0.05}, \"xaxis\": {\"automargin\": true, \"gridcolor\": \"white\", \"linecolor\": \"white\", \"ticks\": \"\", \"title\": {\"standoff\": 15}, \"zerolinecolor\": \"white\", \"zerolinewidth\": 2}, \"yaxis\": {\"automargin\": true, \"gridcolor\": \"white\", \"linecolor\": \"white\", \"ticks\": \"\", \"title\": {\"standoff\": 15}, \"zerolinecolor\": \"white\", \"zerolinewidth\": 2}}}, \"title\": {\"text\": \"Confirmed Cases based on Age of Patients\"}, \"width\": 800, \"xaxis\": {\"anchor\": \"y\", \"domain\": [0.0, 1.0], \"title\": {\"text\": \"Age Group\"}}, \"yaxis\": {\"anchor\": \"x\", \"domain\": [0.0, 1.0], \"title\": {\"text\": \"Confirmed\"}}},\n",
       "                        {\"responsive\": true}\n",
       "                    ).then(function(){\n",
       "                            \n",
       "var gd = document.getElementById('89ac6c5f-76a6-43ec-84ed-b895378a1b96');\n",
       "var x = new MutationObserver(function (mutations, observer) {{\n",
       "        var display = window.getComputedStyle(gd).display;\n",
       "        if (!display || display === 'none') {{\n",
       "            console.log([gd, 'removed!']);\n",
       "            Plotly.purge(gd);\n",
       "            observer.disconnect();\n",
       "        }}\n",
       "}});\n",
       "\n",
       "// Listen for the removal of the full notebook cells\n",
       "var notebookContainer = gd.closest('#notebook-container');\n",
       "if (notebookContainer) {{\n",
       "    x.observe(notebookContainer, {childList: true});\n",
       "}}\n",
       "\n",
       "// Listen for the clearing of the current output cell\n",
       "var outputEl = gd.closest('.output');\n",
       "if (outputEl) {{\n",
       "    x.observe(outputEl, {childList: true});\n",
       "}}\n",
       "\n",
       "                        })\n",
       "                };\n",
       "                });\n",
       "            </script>\n",
       "        </div>"
      ]
     },
     "metadata": {},
     "output_type": "display_data"
    }
   ],
   "source": [
    "\n",
    "#ageGroup=rawCases.groupby(by='AgeRange')\n",
    "#ageGroup.AgeRange.count().plot(kind='bar');\n",
    "\n",
    "ageGroup=rawCases.groupby(by='AgeRange').size().reset_index(name='count')\n",
    "ageGroup=ageGroup.rename(columns={'AgeRange':'Age Group','count':'Confirmed'})\n",
    "\n",
    "\n",
    "px.bar(\n",
    "    ageGroup,\n",
    "    x = \"Age Group\",\n",
    "    y = \"Confirmed\",\n",
    "    title= \"Confirmed Cases based on Age of Patients\", # the axis names\n",
    "    color_discrete_sequence=[\"purple\"], \n",
    "    height=500,\n",
    "    width=800\n",
    ")\n"
   ]
  },
  {
   "cell_type": "code",
   "execution_count": 187,
   "metadata": {},
   "outputs": [],
   "source": [
    "districtData=rawCases.groupby(by='Location').size().reset_index(name='count')"
   ]
  },
  {
   "cell_type": "code",
   "execution_count": 188,
   "metadata": {},
   "outputs": [],
   "source": [
    "sortedDistrict=districtData.sort_values(by='count',ascending=False)\n",
    "sortedDistrict=sortedDistrict.rename(columns={'Location':'Districts','count':'Confirmed'})"
   ]
  },
  {
   "cell_type": "code",
   "execution_count": 189,
   "metadata": {},
   "outputs": [
    {
     "data": {
      "application/vnd.plotly.v1+json": {
       "config": {
        "plotlyServerURL": "https://plot.ly"
       },
       "data": [
        {
         "hovertemplate": "<b>%{hovertext}</b><br><br>Districts=%{x}<br>Confirmed=%{marker.size}<extra></extra>",
         "hovertext": [
          "Bengaluru"
         ],
         "legendgroup": "Bengaluru",
         "marker": {
          "color": "#636efa",
          "size": [
           142
          ],
          "sizemode": "area",
          "sizeref": 0.03944444444444444,
          "symbol": "circle"
         },
         "mode": "markers",
         "name": "Bengaluru",
         "showlegend": true,
         "type": "scatter",
         "x": [
          "Bengaluru"
         ],
         "xaxis": "x",
         "y": [
          142
         ],
         "yaxis": "y"
        },
        {
         "hovertemplate": "<b>%{hovertext}</b><br><br>Districts=%{x}<br>Confirmed=%{marker.size}<extra></extra>",
         "hovertext": [
          "Mysuru"
         ],
         "legendgroup": "Mysuru",
         "marker": {
          "color": "#EF553B",
          "size": [
           89
          ],
          "sizemode": "area",
          "sizeref": 0.03944444444444444,
          "symbol": "circle"
         },
         "mode": "markers",
         "name": "Mysuru",
         "showlegend": true,
         "type": "scatter",
         "x": [
          "Mysuru"
         ],
         "xaxis": "x",
         "y": [
          89
         ],
         "yaxis": "y"
        },
        {
         "hovertemplate": "<b>%{hovertext}</b><br><br>Districts=%{x}<br>Confirmed=%{marker.size}<extra></extra>",
         "hovertext": [
          "Belagavi"
         ],
         "legendgroup": "Belagavi",
         "marker": {
          "color": "#00cc96",
          "size": [
           53
          ],
          "sizemode": "area",
          "sizeref": 0.03944444444444444,
          "symbol": "circle"
         },
         "mode": "markers",
         "name": "Belagavi",
         "showlegend": true,
         "type": "scatter",
         "x": [
          "Belagavi"
         ],
         "xaxis": "x",
         "y": [
          53
         ],
         "yaxis": "y"
        },
        {
         "hovertemplate": "<b>%{hovertext}</b><br><br>Districts=%{x}<br>Confirmed=%{marker.size}<extra></extra>",
         "hovertext": [
          "Kalaburagi"
         ],
         "legendgroup": "Kalaburagi",
         "marker": {
          "color": "#ab63fa",
          "size": [
           45
          ],
          "sizemode": "area",
          "sizeref": 0.03944444444444444,
          "symbol": "circle"
         },
         "mode": "markers",
         "name": "Kalaburagi",
         "showlegend": true,
         "type": "scatter",
         "x": [
          "Kalaburagi"
         ],
         "xaxis": "x",
         "y": [
          45
         ],
         "yaxis": "y"
        },
        {
         "hovertemplate": "<b>%{hovertext}</b><br><br>Districts=%{x}<br>Confirmed=%{marker.size}<extra></extra>",
         "hovertext": [
          "Vijayapura"
         ],
         "legendgroup": "Vijayapura",
         "marker": {
          "color": "#FFA15A",
          "size": [
           42
          ],
          "sizemode": "area",
          "sizeref": 0.03944444444444444,
          "symbol": "circle"
         },
         "mode": "markers",
         "name": "Vijayapura",
         "showlegend": true,
         "type": "scatter",
         "x": [
          "Vijayapura"
         ],
         "xaxis": "x",
         "y": [
          42
         ],
         "yaxis": "y"
        }
       ],
       "layout": {
        "legend": {
         "itemsizing": "constant",
         "title": {
          "text": "Districts"
         },
         "tracegroupgap": 0
        },
        "margin": {
         "t": 60
        },
        "template": {
         "data": {
          "bar": [
           {
            "error_x": {
             "color": "#2a3f5f"
            },
            "error_y": {
             "color": "#2a3f5f"
            },
            "marker": {
             "line": {
              "color": "#E5ECF6",
              "width": 0.5
             }
            },
            "type": "bar"
           }
          ],
          "barpolar": [
           {
            "marker": {
             "line": {
              "color": "#E5ECF6",
              "width": 0.5
             }
            },
            "type": "barpolar"
           }
          ],
          "carpet": [
           {
            "aaxis": {
             "endlinecolor": "#2a3f5f",
             "gridcolor": "white",
             "linecolor": "white",
             "minorgridcolor": "white",
             "startlinecolor": "#2a3f5f"
            },
            "baxis": {
             "endlinecolor": "#2a3f5f",
             "gridcolor": "white",
             "linecolor": "white",
             "minorgridcolor": "white",
             "startlinecolor": "#2a3f5f"
            },
            "type": "carpet"
           }
          ],
          "choropleth": [
           {
            "colorbar": {
             "outlinewidth": 0,
             "ticks": ""
            },
            "type": "choropleth"
           }
          ],
          "contour": [
           {
            "colorbar": {
             "outlinewidth": 0,
             "ticks": ""
            },
            "colorscale": [
             [
              0,
              "#0d0887"
             ],
             [
              0.1111111111111111,
              "#46039f"
             ],
             [
              0.2222222222222222,
              "#7201a8"
             ],
             [
              0.3333333333333333,
              "#9c179e"
             ],
             [
              0.4444444444444444,
              "#bd3786"
             ],
             [
              0.5555555555555556,
              "#d8576b"
             ],
             [
              0.6666666666666666,
              "#ed7953"
             ],
             [
              0.7777777777777778,
              "#fb9f3a"
             ],
             [
              0.8888888888888888,
              "#fdca26"
             ],
             [
              1,
              "#f0f921"
             ]
            ],
            "type": "contour"
           }
          ],
          "contourcarpet": [
           {
            "colorbar": {
             "outlinewidth": 0,
             "ticks": ""
            },
            "type": "contourcarpet"
           }
          ],
          "heatmap": [
           {
            "colorbar": {
             "outlinewidth": 0,
             "ticks": ""
            },
            "colorscale": [
             [
              0,
              "#0d0887"
             ],
             [
              0.1111111111111111,
              "#46039f"
             ],
             [
              0.2222222222222222,
              "#7201a8"
             ],
             [
              0.3333333333333333,
              "#9c179e"
             ],
             [
              0.4444444444444444,
              "#bd3786"
             ],
             [
              0.5555555555555556,
              "#d8576b"
             ],
             [
              0.6666666666666666,
              "#ed7953"
             ],
             [
              0.7777777777777778,
              "#fb9f3a"
             ],
             [
              0.8888888888888888,
              "#fdca26"
             ],
             [
              1,
              "#f0f921"
             ]
            ],
            "type": "heatmap"
           }
          ],
          "heatmapgl": [
           {
            "colorbar": {
             "outlinewidth": 0,
             "ticks": ""
            },
            "colorscale": [
             [
              0,
              "#0d0887"
             ],
             [
              0.1111111111111111,
              "#46039f"
             ],
             [
              0.2222222222222222,
              "#7201a8"
             ],
             [
              0.3333333333333333,
              "#9c179e"
             ],
             [
              0.4444444444444444,
              "#bd3786"
             ],
             [
              0.5555555555555556,
              "#d8576b"
             ],
             [
              0.6666666666666666,
              "#ed7953"
             ],
             [
              0.7777777777777778,
              "#fb9f3a"
             ],
             [
              0.8888888888888888,
              "#fdca26"
             ],
             [
              1,
              "#f0f921"
             ]
            ],
            "type": "heatmapgl"
           }
          ],
          "histogram": [
           {
            "marker": {
             "colorbar": {
              "outlinewidth": 0,
              "ticks": ""
             }
            },
            "type": "histogram"
           }
          ],
          "histogram2d": [
           {
            "colorbar": {
             "outlinewidth": 0,
             "ticks": ""
            },
            "colorscale": [
             [
              0,
              "#0d0887"
             ],
             [
              0.1111111111111111,
              "#46039f"
             ],
             [
              0.2222222222222222,
              "#7201a8"
             ],
             [
              0.3333333333333333,
              "#9c179e"
             ],
             [
              0.4444444444444444,
              "#bd3786"
             ],
             [
              0.5555555555555556,
              "#d8576b"
             ],
             [
              0.6666666666666666,
              "#ed7953"
             ],
             [
              0.7777777777777778,
              "#fb9f3a"
             ],
             [
              0.8888888888888888,
              "#fdca26"
             ],
             [
              1,
              "#f0f921"
             ]
            ],
            "type": "histogram2d"
           }
          ],
          "histogram2dcontour": [
           {
            "colorbar": {
             "outlinewidth": 0,
             "ticks": ""
            },
            "colorscale": [
             [
              0,
              "#0d0887"
             ],
             [
              0.1111111111111111,
              "#46039f"
             ],
             [
              0.2222222222222222,
              "#7201a8"
             ],
             [
              0.3333333333333333,
              "#9c179e"
             ],
             [
              0.4444444444444444,
              "#bd3786"
             ],
             [
              0.5555555555555556,
              "#d8576b"
             ],
             [
              0.6666666666666666,
              "#ed7953"
             ],
             [
              0.7777777777777778,
              "#fb9f3a"
             ],
             [
              0.8888888888888888,
              "#fdca26"
             ],
             [
              1,
              "#f0f921"
             ]
            ],
            "type": "histogram2dcontour"
           }
          ],
          "mesh3d": [
           {
            "colorbar": {
             "outlinewidth": 0,
             "ticks": ""
            },
            "type": "mesh3d"
           }
          ],
          "parcoords": [
           {
            "line": {
             "colorbar": {
              "outlinewidth": 0,
              "ticks": ""
             }
            },
            "type": "parcoords"
           }
          ],
          "pie": [
           {
            "automargin": true,
            "type": "pie"
           }
          ],
          "scatter": [
           {
            "marker": {
             "colorbar": {
              "outlinewidth": 0,
              "ticks": ""
             }
            },
            "type": "scatter"
           }
          ],
          "scatter3d": [
           {
            "line": {
             "colorbar": {
              "outlinewidth": 0,
              "ticks": ""
             }
            },
            "marker": {
             "colorbar": {
              "outlinewidth": 0,
              "ticks": ""
             }
            },
            "type": "scatter3d"
           }
          ],
          "scattercarpet": [
           {
            "marker": {
             "colorbar": {
              "outlinewidth": 0,
              "ticks": ""
             }
            },
            "type": "scattercarpet"
           }
          ],
          "scattergeo": [
           {
            "marker": {
             "colorbar": {
              "outlinewidth": 0,
              "ticks": ""
             }
            },
            "type": "scattergeo"
           }
          ],
          "scattergl": [
           {
            "marker": {
             "colorbar": {
              "outlinewidth": 0,
              "ticks": ""
             }
            },
            "type": "scattergl"
           }
          ],
          "scattermapbox": [
           {
            "marker": {
             "colorbar": {
              "outlinewidth": 0,
              "ticks": ""
             }
            },
            "type": "scattermapbox"
           }
          ],
          "scatterpolar": [
           {
            "marker": {
             "colorbar": {
              "outlinewidth": 0,
              "ticks": ""
             }
            },
            "type": "scatterpolar"
           }
          ],
          "scatterpolargl": [
           {
            "marker": {
             "colorbar": {
              "outlinewidth": 0,
              "ticks": ""
             }
            },
            "type": "scatterpolargl"
           }
          ],
          "scatterternary": [
           {
            "marker": {
             "colorbar": {
              "outlinewidth": 0,
              "ticks": ""
             }
            },
            "type": "scatterternary"
           }
          ],
          "surface": [
           {
            "colorbar": {
             "outlinewidth": 0,
             "ticks": ""
            },
            "colorscale": [
             [
              0,
              "#0d0887"
             ],
             [
              0.1111111111111111,
              "#46039f"
             ],
             [
              0.2222222222222222,
              "#7201a8"
             ],
             [
              0.3333333333333333,
              "#9c179e"
             ],
             [
              0.4444444444444444,
              "#bd3786"
             ],
             [
              0.5555555555555556,
              "#d8576b"
             ],
             [
              0.6666666666666666,
              "#ed7953"
             ],
             [
              0.7777777777777778,
              "#fb9f3a"
             ],
             [
              0.8888888888888888,
              "#fdca26"
             ],
             [
              1,
              "#f0f921"
             ]
            ],
            "type": "surface"
           }
          ],
          "table": [
           {
            "cells": {
             "fill": {
              "color": "#EBF0F8"
             },
             "line": {
              "color": "white"
             }
            },
            "header": {
             "fill": {
              "color": "#C8D4E3"
             },
             "line": {
              "color": "white"
             }
            },
            "type": "table"
           }
          ]
         },
         "layout": {
          "annotationdefaults": {
           "arrowcolor": "#2a3f5f",
           "arrowhead": 0,
           "arrowwidth": 1
          },
          "coloraxis": {
           "colorbar": {
            "outlinewidth": 0,
            "ticks": ""
           }
          },
          "colorscale": {
           "diverging": [
            [
             0,
             "#8e0152"
            ],
            [
             0.1,
             "#c51b7d"
            ],
            [
             0.2,
             "#de77ae"
            ],
            [
             0.3,
             "#f1b6da"
            ],
            [
             0.4,
             "#fde0ef"
            ],
            [
             0.5,
             "#f7f7f7"
            ],
            [
             0.6,
             "#e6f5d0"
            ],
            [
             0.7,
             "#b8e186"
            ],
            [
             0.8,
             "#7fbc41"
            ],
            [
             0.9,
             "#4d9221"
            ],
            [
             1,
             "#276419"
            ]
           ],
           "sequential": [
            [
             0,
             "#0d0887"
            ],
            [
             0.1111111111111111,
             "#46039f"
            ],
            [
             0.2222222222222222,
             "#7201a8"
            ],
            [
             0.3333333333333333,
             "#9c179e"
            ],
            [
             0.4444444444444444,
             "#bd3786"
            ],
            [
             0.5555555555555556,
             "#d8576b"
            ],
            [
             0.6666666666666666,
             "#ed7953"
            ],
            [
             0.7777777777777778,
             "#fb9f3a"
            ],
            [
             0.8888888888888888,
             "#fdca26"
            ],
            [
             1,
             "#f0f921"
            ]
           ],
           "sequentialminus": [
            [
             0,
             "#0d0887"
            ],
            [
             0.1111111111111111,
             "#46039f"
            ],
            [
             0.2222222222222222,
             "#7201a8"
            ],
            [
             0.3333333333333333,
             "#9c179e"
            ],
            [
             0.4444444444444444,
             "#bd3786"
            ],
            [
             0.5555555555555556,
             "#d8576b"
            ],
            [
             0.6666666666666666,
             "#ed7953"
            ],
            [
             0.7777777777777778,
             "#fb9f3a"
            ],
            [
             0.8888888888888888,
             "#fdca26"
            ],
            [
             1,
             "#f0f921"
            ]
           ]
          },
          "colorway": [
           "#636efa",
           "#EF553B",
           "#00cc96",
           "#ab63fa",
           "#FFA15A",
           "#19d3f3",
           "#FF6692",
           "#B6E880",
           "#FF97FF",
           "#FECB52"
          ],
          "font": {
           "color": "#2a3f5f"
          },
          "geo": {
           "bgcolor": "white",
           "lakecolor": "white",
           "landcolor": "#E5ECF6",
           "showlakes": true,
           "showland": true,
           "subunitcolor": "white"
          },
          "hoverlabel": {
           "align": "left"
          },
          "hovermode": "closest",
          "mapbox": {
           "style": "light"
          },
          "paper_bgcolor": "white",
          "plot_bgcolor": "#E5ECF6",
          "polar": {
           "angularaxis": {
            "gridcolor": "white",
            "linecolor": "white",
            "ticks": ""
           },
           "bgcolor": "#E5ECF6",
           "radialaxis": {
            "gridcolor": "white",
            "linecolor": "white",
            "ticks": ""
           }
          },
          "scene": {
           "xaxis": {
            "backgroundcolor": "#E5ECF6",
            "gridcolor": "white",
            "gridwidth": 2,
            "linecolor": "white",
            "showbackground": true,
            "ticks": "",
            "zerolinecolor": "white"
           },
           "yaxis": {
            "backgroundcolor": "#E5ECF6",
            "gridcolor": "white",
            "gridwidth": 2,
            "linecolor": "white",
            "showbackground": true,
            "ticks": "",
            "zerolinecolor": "white"
           },
           "zaxis": {
            "backgroundcolor": "#E5ECF6",
            "gridcolor": "white",
            "gridwidth": 2,
            "linecolor": "white",
            "showbackground": true,
            "ticks": "",
            "zerolinecolor": "white"
           }
          },
          "shapedefaults": {
           "line": {
            "color": "#2a3f5f"
           }
          },
          "ternary": {
           "aaxis": {
            "gridcolor": "white",
            "linecolor": "white",
            "ticks": ""
           },
           "baxis": {
            "gridcolor": "white",
            "linecolor": "white",
            "ticks": ""
           },
           "bgcolor": "#E5ECF6",
           "caxis": {
            "gridcolor": "white",
            "linecolor": "white",
            "ticks": ""
           }
          },
          "title": {
           "x": 0.05
          },
          "xaxis": {
           "automargin": true,
           "gridcolor": "white",
           "linecolor": "white",
           "ticks": "",
           "title": {
            "standoff": 15
           },
           "zerolinecolor": "white",
           "zerolinewidth": 2
          },
          "yaxis": {
           "automargin": true,
           "gridcolor": "white",
           "linecolor": "white",
           "ticks": "",
           "title": {
            "standoff": 15
           },
           "zerolinecolor": "white",
           "zerolinewidth": 2
          }
         }
        },
        "title": {
         "text": "5 Worst hit districts in Karnataka"
        },
        "width": 700,
        "xaxis": {
         "anchor": "y",
         "categoryarray": [
          "Bengaluru",
          "Mysuru",
          "Belagavi",
          "Kalaburagi",
          "Vijayapura"
         ],
         "categoryorder": "array",
         "domain": [
          0,
          1
         ],
         "title": {
          "text": "Districts"
         }
        },
        "yaxis": {
         "anchor": "x",
         "domain": [
          0,
          1
         ],
         "title": {
          "text": "Confirmed Cases"
         }
        }
       }
      },
      "text/html": [
       "<div>\n",
       "        \n",
       "        \n",
       "            <div id=\"a9fe0760-f2fa-4eb5-982d-2031e7442757\" class=\"plotly-graph-div\" style=\"height:525px; width:700px;\"></div>\n",
       "            <script type=\"text/javascript\">\n",
       "                require([\"plotly\"], function(Plotly) {\n",
       "                    window.PLOTLYENV=window.PLOTLYENV || {};\n",
       "                    \n",
       "                if (document.getElementById(\"a9fe0760-f2fa-4eb5-982d-2031e7442757\")) {\n",
       "                    Plotly.newPlot(\n",
       "                        'a9fe0760-f2fa-4eb5-982d-2031e7442757',\n",
       "                        [{\"hovertemplate\": \"<b>%{hovertext}</b><br><br>Districts=%{x}<br>Confirmed=%{marker.size}<extra></extra>\", \"hovertext\": [\"Bengaluru\"], \"legendgroup\": \"Bengaluru\", \"marker\": {\"color\": \"#636efa\", \"size\": [142], \"sizemode\": \"area\", \"sizeref\": 0.03944444444444444, \"symbol\": \"circle\"}, \"mode\": \"markers\", \"name\": \"Bengaluru\", \"showlegend\": true, \"type\": \"scatter\", \"x\": [\"Bengaluru\"], \"xaxis\": \"x\", \"y\": [142], \"yaxis\": \"y\"}, {\"hovertemplate\": \"<b>%{hovertext}</b><br><br>Districts=%{x}<br>Confirmed=%{marker.size}<extra></extra>\", \"hovertext\": [\"Mysuru\"], \"legendgroup\": \"Mysuru\", \"marker\": {\"color\": \"#EF553B\", \"size\": [89], \"sizemode\": \"area\", \"sizeref\": 0.03944444444444444, \"symbol\": \"circle\"}, \"mode\": \"markers\", \"name\": \"Mysuru\", \"showlegend\": true, \"type\": \"scatter\", \"x\": [\"Mysuru\"], \"xaxis\": \"x\", \"y\": [89], \"yaxis\": \"y\"}, {\"hovertemplate\": \"<b>%{hovertext}</b><br><br>Districts=%{x}<br>Confirmed=%{marker.size}<extra></extra>\", \"hovertext\": [\"Belagavi\"], \"legendgroup\": \"Belagavi\", \"marker\": {\"color\": \"#00cc96\", \"size\": [53], \"sizemode\": \"area\", \"sizeref\": 0.03944444444444444, \"symbol\": \"circle\"}, \"mode\": \"markers\", \"name\": \"Belagavi\", \"showlegend\": true, \"type\": \"scatter\", \"x\": [\"Belagavi\"], \"xaxis\": \"x\", \"y\": [53], \"yaxis\": \"y\"}, {\"hovertemplate\": \"<b>%{hovertext}</b><br><br>Districts=%{x}<br>Confirmed=%{marker.size}<extra></extra>\", \"hovertext\": [\"Kalaburagi\"], \"legendgroup\": \"Kalaburagi\", \"marker\": {\"color\": \"#ab63fa\", \"size\": [45], \"sizemode\": \"area\", \"sizeref\": 0.03944444444444444, \"symbol\": \"circle\"}, \"mode\": \"markers\", \"name\": \"Kalaburagi\", \"showlegend\": true, \"type\": \"scatter\", \"x\": [\"Kalaburagi\"], \"xaxis\": \"x\", \"y\": [45], \"yaxis\": \"y\"}, {\"hovertemplate\": \"<b>%{hovertext}</b><br><br>Districts=%{x}<br>Confirmed=%{marker.size}<extra></extra>\", \"hovertext\": [\"Vijayapura\"], \"legendgroup\": \"Vijayapura\", \"marker\": {\"color\": \"#FFA15A\", \"size\": [42], \"sizemode\": \"area\", \"sizeref\": 0.03944444444444444, \"symbol\": \"circle\"}, \"mode\": \"markers\", \"name\": \"Vijayapura\", \"showlegend\": true, \"type\": \"scatter\", \"x\": [\"Vijayapura\"], \"xaxis\": \"x\", \"y\": [42], \"yaxis\": \"y\"}],\n",
       "                        {\"legend\": {\"itemsizing\": \"constant\", \"title\": {\"text\": \"Districts\"}, \"tracegroupgap\": 0}, \"margin\": {\"t\": 60}, \"template\": {\"data\": {\"bar\": [{\"error_x\": {\"color\": \"#2a3f5f\"}, \"error_y\": {\"color\": \"#2a3f5f\"}, \"marker\": {\"line\": {\"color\": \"#E5ECF6\", \"width\": 0.5}}, \"type\": \"bar\"}], \"barpolar\": [{\"marker\": {\"line\": {\"color\": \"#E5ECF6\", \"width\": 0.5}}, \"type\": \"barpolar\"}], \"carpet\": [{\"aaxis\": {\"endlinecolor\": \"#2a3f5f\", \"gridcolor\": \"white\", \"linecolor\": \"white\", \"minorgridcolor\": \"white\", \"startlinecolor\": \"#2a3f5f\"}, \"baxis\": {\"endlinecolor\": \"#2a3f5f\", \"gridcolor\": \"white\", \"linecolor\": \"white\", \"minorgridcolor\": \"white\", \"startlinecolor\": \"#2a3f5f\"}, \"type\": \"carpet\"}], \"choropleth\": [{\"colorbar\": {\"outlinewidth\": 0, \"ticks\": \"\"}, \"type\": \"choropleth\"}], \"contour\": [{\"colorbar\": {\"outlinewidth\": 0, \"ticks\": \"\"}, \"colorscale\": [[0.0, \"#0d0887\"], [0.1111111111111111, \"#46039f\"], [0.2222222222222222, \"#7201a8\"], [0.3333333333333333, \"#9c179e\"], [0.4444444444444444, \"#bd3786\"], [0.5555555555555556, \"#d8576b\"], [0.6666666666666666, \"#ed7953\"], [0.7777777777777778, \"#fb9f3a\"], [0.8888888888888888, \"#fdca26\"], [1.0, \"#f0f921\"]], \"type\": \"contour\"}], \"contourcarpet\": [{\"colorbar\": {\"outlinewidth\": 0, \"ticks\": \"\"}, \"type\": \"contourcarpet\"}], \"heatmap\": [{\"colorbar\": {\"outlinewidth\": 0, \"ticks\": \"\"}, \"colorscale\": [[0.0, \"#0d0887\"], [0.1111111111111111, \"#46039f\"], [0.2222222222222222, \"#7201a8\"], [0.3333333333333333, \"#9c179e\"], [0.4444444444444444, \"#bd3786\"], [0.5555555555555556, \"#d8576b\"], [0.6666666666666666, \"#ed7953\"], [0.7777777777777778, \"#fb9f3a\"], [0.8888888888888888, \"#fdca26\"], [1.0, \"#f0f921\"]], \"type\": \"heatmap\"}], \"heatmapgl\": [{\"colorbar\": {\"outlinewidth\": 0, \"ticks\": \"\"}, \"colorscale\": [[0.0, \"#0d0887\"], [0.1111111111111111, \"#46039f\"], [0.2222222222222222, \"#7201a8\"], [0.3333333333333333, \"#9c179e\"], [0.4444444444444444, \"#bd3786\"], [0.5555555555555556, \"#d8576b\"], [0.6666666666666666, \"#ed7953\"], [0.7777777777777778, \"#fb9f3a\"], [0.8888888888888888, \"#fdca26\"], [1.0, \"#f0f921\"]], \"type\": \"heatmapgl\"}], \"histogram\": [{\"marker\": {\"colorbar\": {\"outlinewidth\": 0, \"ticks\": \"\"}}, \"type\": \"histogram\"}], \"histogram2d\": [{\"colorbar\": {\"outlinewidth\": 0, \"ticks\": \"\"}, \"colorscale\": [[0.0, \"#0d0887\"], [0.1111111111111111, \"#46039f\"], [0.2222222222222222, \"#7201a8\"], [0.3333333333333333, \"#9c179e\"], [0.4444444444444444, \"#bd3786\"], [0.5555555555555556, \"#d8576b\"], [0.6666666666666666, \"#ed7953\"], [0.7777777777777778, \"#fb9f3a\"], [0.8888888888888888, \"#fdca26\"], [1.0, \"#f0f921\"]], \"type\": \"histogram2d\"}], \"histogram2dcontour\": [{\"colorbar\": {\"outlinewidth\": 0, \"ticks\": \"\"}, \"colorscale\": [[0.0, \"#0d0887\"], [0.1111111111111111, \"#46039f\"], [0.2222222222222222, \"#7201a8\"], [0.3333333333333333, \"#9c179e\"], [0.4444444444444444, \"#bd3786\"], [0.5555555555555556, \"#d8576b\"], [0.6666666666666666, \"#ed7953\"], [0.7777777777777778, \"#fb9f3a\"], [0.8888888888888888, \"#fdca26\"], [1.0, \"#f0f921\"]], \"type\": \"histogram2dcontour\"}], \"mesh3d\": [{\"colorbar\": {\"outlinewidth\": 0, \"ticks\": \"\"}, \"type\": \"mesh3d\"}], \"parcoords\": [{\"line\": {\"colorbar\": {\"outlinewidth\": 0, \"ticks\": \"\"}}, \"type\": \"parcoords\"}], \"pie\": [{\"automargin\": true, \"type\": \"pie\"}], \"scatter\": [{\"marker\": {\"colorbar\": {\"outlinewidth\": 0, \"ticks\": \"\"}}, \"type\": \"scatter\"}], \"scatter3d\": [{\"line\": {\"colorbar\": {\"outlinewidth\": 0, \"ticks\": \"\"}}, \"marker\": {\"colorbar\": {\"outlinewidth\": 0, \"ticks\": \"\"}}, \"type\": \"scatter3d\"}], \"scattercarpet\": [{\"marker\": {\"colorbar\": {\"outlinewidth\": 0, \"ticks\": \"\"}}, \"type\": \"scattercarpet\"}], \"scattergeo\": [{\"marker\": {\"colorbar\": {\"outlinewidth\": 0, \"ticks\": \"\"}}, \"type\": \"scattergeo\"}], \"scattergl\": [{\"marker\": {\"colorbar\": {\"outlinewidth\": 0, \"ticks\": \"\"}}, \"type\": \"scattergl\"}], \"scattermapbox\": [{\"marker\": {\"colorbar\": {\"outlinewidth\": 0, \"ticks\": \"\"}}, \"type\": \"scattermapbox\"}], \"scatterpolar\": [{\"marker\": {\"colorbar\": {\"outlinewidth\": 0, \"ticks\": \"\"}}, \"type\": \"scatterpolar\"}], \"scatterpolargl\": [{\"marker\": {\"colorbar\": {\"outlinewidth\": 0, \"ticks\": \"\"}}, \"type\": \"scatterpolargl\"}], \"scatterternary\": [{\"marker\": {\"colorbar\": {\"outlinewidth\": 0, \"ticks\": \"\"}}, \"type\": \"scatterternary\"}], \"surface\": [{\"colorbar\": {\"outlinewidth\": 0, \"ticks\": \"\"}, \"colorscale\": [[0.0, \"#0d0887\"], [0.1111111111111111, \"#46039f\"], [0.2222222222222222, \"#7201a8\"], [0.3333333333333333, \"#9c179e\"], [0.4444444444444444, \"#bd3786\"], [0.5555555555555556, \"#d8576b\"], [0.6666666666666666, \"#ed7953\"], [0.7777777777777778, \"#fb9f3a\"], [0.8888888888888888, \"#fdca26\"], [1.0, \"#f0f921\"]], \"type\": \"surface\"}], \"table\": [{\"cells\": {\"fill\": {\"color\": \"#EBF0F8\"}, \"line\": {\"color\": \"white\"}}, \"header\": {\"fill\": {\"color\": \"#C8D4E3\"}, \"line\": {\"color\": \"white\"}}, \"type\": \"table\"}]}, \"layout\": {\"annotationdefaults\": {\"arrowcolor\": \"#2a3f5f\", \"arrowhead\": 0, \"arrowwidth\": 1}, \"coloraxis\": {\"colorbar\": {\"outlinewidth\": 0, \"ticks\": \"\"}}, \"colorscale\": {\"diverging\": [[0, \"#8e0152\"], [0.1, \"#c51b7d\"], [0.2, \"#de77ae\"], [0.3, \"#f1b6da\"], [0.4, \"#fde0ef\"], [0.5, \"#f7f7f7\"], [0.6, \"#e6f5d0\"], [0.7, \"#b8e186\"], [0.8, \"#7fbc41\"], [0.9, \"#4d9221\"], [1, \"#276419\"]], \"sequential\": [[0.0, \"#0d0887\"], [0.1111111111111111, \"#46039f\"], [0.2222222222222222, \"#7201a8\"], [0.3333333333333333, \"#9c179e\"], [0.4444444444444444, \"#bd3786\"], [0.5555555555555556, \"#d8576b\"], [0.6666666666666666, \"#ed7953\"], [0.7777777777777778, \"#fb9f3a\"], [0.8888888888888888, \"#fdca26\"], [1.0, \"#f0f921\"]], \"sequentialminus\": [[0.0, \"#0d0887\"], [0.1111111111111111, \"#46039f\"], [0.2222222222222222, \"#7201a8\"], [0.3333333333333333, \"#9c179e\"], [0.4444444444444444, \"#bd3786\"], [0.5555555555555556, \"#d8576b\"], [0.6666666666666666, \"#ed7953\"], [0.7777777777777778, \"#fb9f3a\"], [0.8888888888888888, \"#fdca26\"], [1.0, \"#f0f921\"]]}, \"colorway\": [\"#636efa\", \"#EF553B\", \"#00cc96\", \"#ab63fa\", \"#FFA15A\", \"#19d3f3\", \"#FF6692\", \"#B6E880\", \"#FF97FF\", \"#FECB52\"], \"font\": {\"color\": \"#2a3f5f\"}, \"geo\": {\"bgcolor\": \"white\", \"lakecolor\": \"white\", \"landcolor\": \"#E5ECF6\", \"showlakes\": true, \"showland\": true, \"subunitcolor\": \"white\"}, \"hoverlabel\": {\"align\": \"left\"}, \"hovermode\": \"closest\", \"mapbox\": {\"style\": \"light\"}, \"paper_bgcolor\": \"white\", \"plot_bgcolor\": \"#E5ECF6\", \"polar\": {\"angularaxis\": {\"gridcolor\": \"white\", \"linecolor\": \"white\", \"ticks\": \"\"}, \"bgcolor\": \"#E5ECF6\", \"radialaxis\": {\"gridcolor\": \"white\", \"linecolor\": \"white\", \"ticks\": \"\"}}, \"scene\": {\"xaxis\": {\"backgroundcolor\": \"#E5ECF6\", \"gridcolor\": \"white\", \"gridwidth\": 2, \"linecolor\": \"white\", \"showbackground\": true, \"ticks\": \"\", \"zerolinecolor\": \"white\"}, \"yaxis\": {\"backgroundcolor\": \"#E5ECF6\", \"gridcolor\": \"white\", \"gridwidth\": 2, \"linecolor\": \"white\", \"showbackground\": true, \"ticks\": \"\", \"zerolinecolor\": \"white\"}, \"zaxis\": {\"backgroundcolor\": \"#E5ECF6\", \"gridcolor\": \"white\", \"gridwidth\": 2, \"linecolor\": \"white\", \"showbackground\": true, \"ticks\": \"\", \"zerolinecolor\": \"white\"}}, \"shapedefaults\": {\"line\": {\"color\": \"#2a3f5f\"}}, \"ternary\": {\"aaxis\": {\"gridcolor\": \"white\", \"linecolor\": \"white\", \"ticks\": \"\"}, \"baxis\": {\"gridcolor\": \"white\", \"linecolor\": \"white\", \"ticks\": \"\"}, \"bgcolor\": \"#E5ECF6\", \"caxis\": {\"gridcolor\": \"white\", \"linecolor\": \"white\", \"ticks\": \"\"}}, \"title\": {\"x\": 0.05}, \"xaxis\": {\"automargin\": true, \"gridcolor\": \"white\", \"linecolor\": \"white\", \"ticks\": \"\", \"title\": {\"standoff\": 15}, \"zerolinecolor\": \"white\", \"zerolinewidth\": 2}, \"yaxis\": {\"automargin\": true, \"gridcolor\": \"white\", \"linecolor\": \"white\", \"ticks\": \"\", \"title\": {\"standoff\": 15}, \"zerolinecolor\": \"white\", \"zerolinewidth\": 2}}}, \"title\": {\"text\": \"5 Worst hit districts in Karnataka\"}, \"width\": 700, \"xaxis\": {\"anchor\": \"y\", \"categoryarray\": [\"Bengaluru\", \"Mysuru\", \"Belagavi\", \"Kalaburagi\", \"Vijayapura\"], \"categoryorder\": \"array\", \"domain\": [0.0, 1.0], \"title\": {\"text\": \"Districts\"}}, \"yaxis\": {\"anchor\": \"x\", \"domain\": [0.0, 1.0], \"title\": {\"text\": \"Confirmed Cases\"}}},\n",
       "                        {\"responsive\": true}\n",
       "                    ).then(function(){\n",
       "                            \n",
       "var gd = document.getElementById('a9fe0760-f2fa-4eb5-982d-2031e7442757');\n",
       "var x = new MutationObserver(function (mutations, observer) {{\n",
       "        var display = window.getComputedStyle(gd).display;\n",
       "        if (!display || display === 'none') {{\n",
       "            console.log([gd, 'removed!']);\n",
       "            Plotly.purge(gd);\n",
       "            observer.disconnect();\n",
       "        }}\n",
       "}});\n",
       "\n",
       "// Listen for the removal of the full notebook cells\n",
       "var notebookContainer = gd.closest('#notebook-container');\n",
       "if (notebookContainer) {{\n",
       "    x.observe(notebookContainer, {childList: true});\n",
       "}}\n",
       "\n",
       "// Listen for the clearing of the current output cell\n",
       "var outputEl = gd.closest('.output');\n",
       "if (outputEl) {{\n",
       "    x.observe(outputEl, {childList: true});\n",
       "}}\n",
       "\n",
       "                        })\n",
       "                };\n",
       "                });\n",
       "            </script>\n",
       "        </div>"
      ]
     },
     "metadata": {},
     "output_type": "display_data"
    }
   ],
   "source": [
    "fig = px.scatter(sortedDistrict.head(), x=\"Districts\", y=\"Confirmed\", size=\"Confirmed\", color=\"Districts\",\n",
    "               hover_name=\"Districts\", size_max=60)\n",
    "fig.update_layout(\n",
    "    title=str(5) +\" Worst hit districts in Karnataka\",\n",
    "    xaxis_title=\"Districts\",\n",
    "    yaxis_title=\"Confirmed Cases\",\n",
    "    width = 700\n",
    "    )\n",
    "fig.show();"
   ]
  },
  {
   "cell_type": "code",
   "execution_count": 201,
   "metadata": {},
   "outputs": [
    {
     "name": "stdout",
     "output_type": "stream",
     "text": [
      "P1 - Wife\n",
      "P1 - Daughter\n",
      "P6 - Daughter\n",
      "P6 - Doctor\n",
      "P11 - House Maid\n",
      "P17 - Wife\n",
      "P13 - Contact\n",
      "P17 - Daughter\n",
      "P17 - Daughter\n",
      "P25 - Security Guard\n",
      "P25 - House Maid\n",
      "P25 - House Maid\n",
      "P36 - Wife\n",
      "P36 - Daughter\n",
      "P36 - Daughter\n",
      "P19 - Contacts from Hindupur, AP\n",
      "P19 - Contacts from Chikkaballapur\n",
      "P19 - Contacts from Chikkaballapur\n",
      "P19 - Contacts from Chikkaballapur\n",
      "P19 - Contacts from Hindupur, AP\n",
      "P42 - Cousin\n",
      "P35 - Contact\n",
      "P52 - Pharma co-workers at Nanjanagudu\n",
      "P52 - Pharma co-workers at Nanjanagudu\n",
      "P52 - Pharma co-workers at Nanjanagudu\n",
      "P52 - Pharma co-workers at Nanjanagudu\n",
      "P52 - Pharma co-workers at Nanjanagudu\n",
      "P60 - Son\n",
      "P52 - Pharma co-workers at Nanjanagudu\n",
      "P52 - Pharma co-workers at Nanjanagudu\n",
      "P52 - Pharma co-workers at Nanjanagudu\n",
      "P52 - Pharma co-workers at Nanjanagudu. Spread to 8 cases.\n",
      "P59 - Husband\n",
      "P19 - Contact (see P94, P191)\n",
      "P9 - Wife\n",
      "P52 - Co-workers at Nanjanagudu\n",
      "P52 - Co-workers at Nanjanagudu\n",
      "P103 - Contact Nanjanagudu\n",
      "P52 - Contact\n",
      "P52 - Wife\n",
      "P88 - Roommates (Nanjanagudu trace)\n",
      "P88 - Roommates (Nanjanagudu trace)\n",
      "P81 - Son (Nanjanagudu trace)\n",
      "P58 - Servant\n",
      "P58 - Father\n",
      "P101 - Son\n",
      "P109 - Contact\n",
      "P43, P44 - Son\n",
      "P104 - Brother\n",
      "P52 - Pharma co-workers at Nanjanagudu\n",
      "P125 - Wife\n",
      "P125 - Brother\n",
      "P125 - Neighbour\n",
      "P124 - Daughter-in-law\n",
      "P175 - Mother\n",
      "P128 - Father\n",
      "P104 - Father\n",
      "P159 - Father\n",
      "P78 - Co-passenger, Pharma company worker\n",
      "P165 - Son\n",
      "P165 - Son of Brother-in-law\n",
      "P165 - Daughter of Brother-in-law\n",
      "P128 - Mother\n",
      "P128 - Brother\n",
      "P103 - Mother-in-law\n",
      "P111 - Pharma co-worker\n",
      "P85 - Wife\n",
      "P183 - Wife\n",
      "P169 - Brother\n",
      "P206 - Daughter\n",
      "P196 - Doctor\n",
      "P88 - Pharma co-worker\n",
      "P88 - Pharma co-worker\n",
      "P122 - Brother's wife\n",
      "P88 - Pharma co-worker\n",
      "P88 - Pharma co-worker\n",
      "P88 - Pharma co-worker\n",
      "P92 - Son\n",
      "P88 - Pharma co-worker\n",
      "P177 - Daughter-in-law\n",
      "P194 - Contact\n",
      "P194 - Contact\n",
      "P194 - Contact\n",
      "P194 - Contact\n",
      "P179 - Mother\n",
      "P179 - Daughter\n",
      "P179 - Sister's son\n",
      "P164 - Contact\n",
      "P211 - Brother's daughter\n",
      "P211 - Daughter\n",
      "P149 - Contact\n",
      "P149 - Contact\n",
      "P149 - Contact\n",
      "P165 and P186 - Contact\n",
      "P165 and P186 - Contact\n",
      "P125 - Neighbour\n",
      "P177 - Contact\n",
      "P205 - Brother's brother\n",
      "P177 - Contact\n",
      "P221 - Husband\n",
      "P199 - Contact\n",
      "P176 - husband\n",
      "P186 - Contact\n",
      "Pharma co-worker\n",
      "Pharma co-worker\n",
      "Pharma co-worker\n",
      "Pharma co-worker\n",
      "Pharma co-worker\n",
      "Pharma co-worker\n",
      "Pharma co-worker\n",
      "Pharma co-worker\n",
      "Pharma co-worker\n",
      "P221 - Contact\n",
      "P221 - Contact\n",
      "P252 - Contact\n",
      "P221 - Contact\n",
      "P224 - Contact\n",
      "P252 - Contact\n",
      "P225 - Contact\n",
      "P224 - Contact\n",
      "P225 - Contact\n",
      "P224 - Contact\n",
      "P224 - Contact\n",
      "P224 - Contact\n",
      "P224 - Contact\n",
      "P224 - Contact\n",
      "P245 - Contact\n",
      "P245 - Contact\n",
      "P245 - Contact\n",
      "P245 - Contact\n",
      "P274 (ILI) - Contact\n",
      "Pharma co-worker\n",
      "P166 - Contact\n",
      "P221 - Contact\n",
      "P221 - Contact\n",
      "P221 - Contact\n",
      "P221 - Contact\n",
      "P221 - Contact\n",
      "P228 & 232 - Contact\n",
      "Pharma co-worker\n",
      "P77 - Wife\n",
      "P221 - Contact\n",
      "P167 and P168 - Contact\n",
      "P167 and P168 - Contact\n",
      "P52 - Contact\n",
      "P52 - Contact\n",
      "P52 - Contact\n",
      "P273 - Contact\n",
      "P171 - Contact\n",
      "P171 - Contact\n",
      "P171 - Contact\n",
      "P252 - Contact\n",
      "P252 - Contact\n",
      "P221 - Contact\n",
      "P221 - Contact\n",
      "P89,P90,P91 and P141 - Contact\n",
      "P141 - Contact\n",
      "P141 - Contact\n",
      "P141 - Contact\n",
      "P141 - Contact\n",
      "P141 - Contact\n",
      "P141 - Contact\n",
      "P250 - Contact\n",
      "P250 - Contact\n",
      "P250 - Contact\n",
      "P52 - Contact\n",
      "P52 - Contact\n",
      "P52 - Contact\n",
      "P52 - Contact\n",
      "P52 - Contact\n",
      "P52 - Contact\n",
      "P52 - Contact\n",
      "P52 - Contact\n",
      "P167 and P168 - Contact\n",
      "P167 and P168 - Contact\n",
      "P167 and P168 - Contact\n",
      "P167 and P168 - Contact\n",
      "P127 - Contact\n",
      "P127 - Contact\n",
      "P127 - Contact\n",
      "P127 - Contact\n",
      "P127 - Contact\n",
      "P205 - Contact\n",
      "P174 - Contact\n",
      "P221 - Contact\n",
      "P236 - Secondary Contact\n",
      "P128 - Contact\n",
      "P52 - Secondary Contact\n",
      "P52 - Secondary Contact\n",
      "P186 - Secondary Contact\n",
      "P186 - Secondary Contact\n",
      "P304 - Secondary Contact\n",
      "P134 and P138 - Contact\n",
      "P263 - Contact\n",
      "P263 - Contact\n",
      "P306 and P308 - Contact\n",
      "P267 - Wife\n",
      "P167 - Contact\n",
      "P167 - Contact\n",
      "P167 - Contact\n",
      "P263 - Contact\n",
      "P263 - Contact\n",
      "P52 - Secondary Contact\n",
      "P52 - Secondary Contact\n",
      "P52 - Secondary Contact\n",
      "P52 - Secondary Contact\n",
      "P319 - Contact\n",
      "P325 - Wife\n",
      "P175 - Contact\n",
      "P205 - Contact\n",
      "P205 - Contact\n",
      "P177 - Contact\n",
      "P205 - Contact\n",
      "P370 - Secondary Contact\n",
      "P221 - Contact\n",
      "P221 - Contact\n",
      "P221 - Contact\n",
      "P221 - Contact\n",
      "P362 - Contact\n",
      "P362 - Contact\n",
      "P362 - Contact\n",
      "P221 - Contact\n",
      "P228 - Contact\n",
      "P221 - Contact\n",
      "P221 - Contact\n",
      "P117 - Contact\n",
      "P306 - Contact\n",
      "P306 - Contact\n",
      "P306 - Contact\n",
      "P52 - Secondary Contact\n",
      "P52 - Secondary Contact\n",
      "P293 - Contact\n",
      "P208 - Contact\n",
      "P222 - Contact\n",
      "P393 - Contact\n",
      "P395 - Contact\n",
      "P395 - Contact\n",
      "P383 - Contact\n",
      "P52 - Secondary Contact\n",
      "P221 - Contact\n",
      "P236 - Contact\n",
      "P236 - Contact\n",
      "P390 - Contact\n",
      "P419 - Contact\n",
      "P419 - Contact\n",
      "P419 - Contact\n",
      "P419 - Contact\n",
      "P419 - Contact\n",
      "P419 - Contact\n",
      "P419 - Contact\n",
      "P419 - Contact\n",
      "P419 - Contact\n",
      "P179 - Contact\n",
      "P252 - Contact\n",
      "P413 - Contact\n",
      "P150 - Contact\n",
      "P250 - Contact\n",
      "P380 - Contact\n",
      "P221 - Contact\n",
      "P419 - Contact\n",
      "P419 - Contact\n",
      "P419 - Contact\n",
      "P419 - Contact\n",
      "P419 - Contact\n",
      "P148 - Contact\n",
      "P179 - Contact\n",
      "P221 - Contact\n",
      "P380 - Contact\n",
      "P419 - Contact\n",
      "P419 - Contact\n",
      "P419 - Contact\n",
      "P419 - Contact\n",
      "P419 - Contact\n",
      "P419 - Contact\n",
      "P419 - Contact\n",
      "P419 - Contact\n",
      "P419 - Contact\n",
      "P419 - Contact\n",
      "P419 - Contact\n",
      "P78 - Contact\n",
      "P128 - Secondary Contact\n",
      "P128 - Secondary Contact\n",
      "P128 - Secondary Contact\n",
      "P128 - Secondary Contact\n",
      "P128 - Secondary Contact\n",
      "P128 - Secondary Contact\n",
      "P409 - Contact\n",
      "P419 - Secondary Contact\n",
      "P419 - Secondary Contact\n",
      "P419 - Secondary Contact\n",
      "P419 - Secondary Contact\n",
      "P128 - Secondary Contact\n",
      "P128 - Secondary Contact\n",
      "P128 - Secondary Contact\n",
      "P382 - Contact\n",
      "P465 - Contact\n",
      "P465 - Contact\n",
      "P465 - Contact\n",
      "P432 - Contact\n",
      "P422 - Contact\n",
      "P425 - Contact\n",
      "P432 - Contact\n",
      "P456 - Contact\n",
      "P456 - Contact\n",
      "P221 - Contact\n",
      "P371 - Contact\n",
      "P425 - Contact\n",
      "P425 - Contact\n",
      "P425 - Contact\n",
      "P425 - Contact\n",
      "P425 - Contact\n",
      "P425 - Contact\n",
      "P381 - Contact\n",
      "P446 - Secondary Contact\n",
      "P381 - Contact\n"
     ]
    }
   ],
   "source": [
    "originLists = []\n",
    "nodes = []\n",
    "for i,rows in rawCases['Origin'].iteritems():\n",
    "    if '-' in rows and rows[0] == 'P':\n",
    "    #if '#' in rows: # this condition will not work coz source file is coming without # find another way to split it\n",
    "        no = rows.split('-')[0].split('P')[1].strip() #'P13 - Contact' becomes 13\n",
    "        node = str(rawCases['Patient Number'][i])\n",
    "        originLists.append((no,node))\n",
    "        nodes.append(node)\n",
    "    else:\n",
    "        node = str(rawCases['Patient Number'][i])\n",
    "        nodes.append(node)"
   ]
  },
  {
   "cell_type": "code",
   "execution_count": 202,
   "metadata": {},
   "outputs": [],
   "source": [
    "G = nx.Graph()\n",
    "for i in nodes:\n",
    "    G.add_node(i)\n",
    "G.add_edges_from(originLists)\n",
    "# positioning the nodes\n",
    "pos = nx.spring_layout(G, k=0.5, iterations=50)\n",
    "for n, p in pos.items():\n",
    "    G.node[n]['pos'] = p\n"
   ]
  },
  {
   "cell_type": "code",
   "execution_count": 203,
   "metadata": {},
   "outputs": [],
   "source": [
    "edge_trace = go.Scatter(\n",
    "    x=[],\n",
    "    y=[],\n",
    "    line=dict(width=0.5,color='#888'),\n",
    "    hoverinfo='none',\n",
    "    mode='lines')\n",
    "for edge in G.edges():\n",
    "    x0, y0 = G.node[edge[0]]['pos']\n",
    "    x1, y1 = G.node[edge[1]]['pos']\n",
    "    edge_trace['x'] += tuple([x0, x1, None])\n",
    "    edge_trace['y'] += tuple([y0, y1, None])\n",
    "node_trace = go.Scatter(\n",
    "    x=[],\n",
    "    y=[],\n",
    "    text=[],\n",
    "    mode='markers',\n",
    "    hoverinfo='text',\n",
    "    marker=dict(\n",
    "        showscale=True,\n",
    "        colorscale='RdBu',\n",
    "        reversescale=True,\n",
    "        color=[],\n",
    "        size=15,\n",
    "        colorbar=dict(\n",
    "            thickness=10,\n",
    "            title='Node Connections',\n",
    "            xanchor='left',\n",
    "            titleside='right'\n",
    "        ),\n",
    "        line=dict(width=0)))\n",
    "for node in G.nodes():\n",
    "    x, y = G.node[node]['pos']\n",
    "    node_trace['x'] += tuple([x])\n",
    "    node_trace['y'] += tuple([y])\n"
   ]
  },
  {
   "cell_type": "code",
   "execution_count": 204,
   "metadata": {},
   "outputs": [],
   "source": [
    "for node, adjacencies in enumerate(G.adjacency()):\n",
    "    node_trace['marker']['color']+=tuple([len(adjacencies[1])])\n",
    "    node_info = adjacencies[0] +' # of connections: '+str(len(adjacencies[1]))\n",
    "    node_trace['text']+=tuple([node_info])\n",
    "fig = go.Figure(data=[edge_trace, node_trace],\n",
    "             layout=go.Layout(\n",
    "                title='<br>Karnataka Person to Person Network Tracing',\n",
    "                titlefont=dict(size=16),\n",
    "                showlegend=False,\n",
    "                hovermode='closest',\n",
    "                margin=dict(b=20,l=5,r=5,t=40),\n",
    "                annotations=[ dict(\n",
    "                    text=\"No. of contacts made\",\n",
    "                    showarrow=False,\n",
    "                    xref=\"paper\", yref=\"paper\") ],\n",
    "                xaxis=dict(showgrid=False, zeroline=False, showticklabels=False),\n",
    "                yaxis=dict(showgrid=False, zeroline=False, showticklabels=False)))"
   ]
  },
  {
   "cell_type": "code",
   "execution_count": 205,
   "metadata": {},
   "outputs": [
    {
     "data": {
      "application/vnd.plotly.v1+json": {
       "config": {
        "linkText": "Export to plot.ly",
        "plotlyServerURL": "https://plot.ly",
        "showLink": false
       },
       "data": [
        {
         "hoverinfo": "none",
         "line": {
          "color": "#888",
          "width": 0.5
         },
         "mode": "lines",
         "type": "scatter",
         "x": [
          0.7202456593513489,
          0.9111741185188293,
          null,
          0.7202456593513489,
          0.006607594899833202,
          null,
          0.10521985590457916,
          -0.2656039297580719,
          null,
          0.10521985590457916,
          -0.033088091760873795,
          null,
          -0.033088091760873795,
          0.6989545226097107,
          null,
          0.9419135451316833,
          0.9278061389923096,
          null,
          0.9261981844902039,
          0.48259663581848145,
          null,
          -0.07428644597530365,
          -0.5338858366012573,
          null,
          -0.07428644597530365,
          0.2783988118171692,
          null,
          -0.07428644597530365,
          0.6514049172401428,
          null,
          0.4514864683151245,
          0.978046715259552,
          null,
          0.4514864683151245,
          0.9639871120452881,
          null,
          0.4514864683151245,
          -0.18049348890781403,
          null,
          0.4514864683151245,
          0.7913456559181213,
          null,
          0.4514864683151245,
          0.1347063034772873,
          null,
          0.4514864683151245,
          0.5897516012191772,
          null,
          -0.7379844188690186,
          -0.5176335573196411,
          null,
          -0.7379844188690186,
          -0.7201499342918396,
          null,
          -0.7379844188690186,
          -0.5228509306907654,
          null,
          0.97013258934021,
          0.23268719017505646,
          null,
          0.8712084889411926,
          0.8912209868431091,
          null,
          0.8712084889411926,
          0.7028260827064514,
          null,
          0.8712084889411926,
          0.532883882522583,
          null,
          -0.16346599161624908,
          -0.8376047611236572,
          null,
          -0.13840235769748688,
          -0.20610566437244415,
          null,
          -0.13840235769748688,
          -0.5952889323234558,
          null,
          -0.13840235769748688,
          0.7460833787918091,
          null,
          -0.13840235769748688,
          -0.9598439335823059,
          null,
          -0.13840235769748688,
          -0.4080119729042053,
          null,
          -0.13840235769748688,
          0.3442978858947754,
          null,
          -0.13840235769748688,
          -0.129664346575737,
          null,
          -0.13840235769748688,
          -0.8373419642448425,
          null,
          -0.13840235769748688,
          -0.1060762107372284,
          null,
          -0.13840235769748688,
          -0.6165843605995178,
          null,
          -0.13840235769748688,
          -0.7498387098312378,
          null,
          -0.13840235769748688,
          -0.18572813272476196,
          null,
          -0.13840235769748688,
          -0.6009076237678528,
          null,
          -0.13840235769748688,
          -0.3697068989276886,
          null,
          -0.13840235769748688,
          -0.012858709320425987,
          null,
          -0.13840235769748688,
          0.7492698431015015,
          null,
          -0.13840235769748688,
          -0.3251749873161316,
          null,
          -0.13840235769748688,
          0.7943755984306335,
          null,
          -0.13840235769748688,
          -0.7427819967269897,
          null,
          -0.13840235769748688,
          -0.7953250408172607,
          null,
          -0.13840235769748688,
          -0.8297581672668457,
          null,
          -0.13840235769748688,
          -0.22598156332969666,
          null,
          -0.13840235769748688,
          0.6375189423561096,
          null,
          -0.13840235769748688,
          0.7063018679618835,
          null,
          -0.13840235769748688,
          -0.22206956148147583,
          null,
          -0.13840235769748688,
          0.03421814739704132,
          null,
          -0.13840235769748688,
          -0.9231988787651062,
          null,
          -0.13840235769748688,
          -0.7725215554237366,
          null,
          -0.13840235769748688,
          0.6081750988960266,
          null,
          -0.13840235769748688,
          0.26079609990119934,
          null,
          -0.13840235769748688,
          -0.9761112332344055,
          null,
          -0.13840235769748688,
          -0.5799421072006226,
          null,
          -0.13840235769748688,
          0.4505942165851593,
          null,
          -0.13840235769748688,
          0.8580564856529236,
          null,
          0.10190776735544205,
          -0.7781674861907959,
          null,
          0.10190776735544205,
          -0.6725000739097595,
          null,
          -0.7201499342918396,
          -0.3860710561275482,
          null,
          -0.1461534947156906,
          -0.5267301201820374,
          null,
          -0.20610566437244415,
          -0.7374553680419922,
          null,
          -0.5952889323234558,
          -0.4441678524017334,
          null,
          -0.5952889323234558,
          0.09386619180440903,
          null,
          -0.4080119729042053,
          -0.25380322337150574,
          null,
          0.3442978858947754,
          0.4379028081893921,
          null,
          -0.1060762107372284,
          -0.5965171456336975,
          null,
          -0.1060762107372284,
          -0.5387045741081238,
          null,
          -0.1060762107372284,
          0.9670242667198181,
          null,
          -0.1060762107372284,
          -0.8968997597694397,
          null,
          -0.1060762107372284,
          0.9115154147148132,
          null,
          -0.1060762107372284,
          -0.8383694291114807,
          null,
          -0.1060762107372284,
          -0.944466233253479,
          null,
          -0.1060762107372284,
          0.13064727187156677,
          null,
          -0.3860710561275482,
          -0.5629287958145142,
          null,
          0.4298085570335388,
          0.10089937597513199,
          null,
          -0.6165843605995178,
          -0.9857999086380005,
          null,
          -0.6165843605995178,
          -0.34034284949302673,
          null,
          -0.7498387098312378,
          -0.10754916816949844,
          null,
          -0.7498387098312378,
          -0.902916431427002,
          null,
          -0.18572813272476196,
          -0.009982064366340637,
          null,
          -0.5965171456336975,
          -0.33711814880371094,
          null,
          0.7841315865516663,
          0.7980404496192932,
          null,
          -0.40744614601135254,
          0.4853382408618927,
          null,
          0.5276617407798767,
          -0.24488422274589539,
          null,
          -0.08576299250125885,
          0.7504504323005676,
          null,
          -0.08576299250125885,
          0.9174264073371887,
          null,
          -0.08576299250125885,
          -0.03819609060883522,
          null,
          -0.08576299250125885,
          -0.9182862043380737,
          null,
          -0.5593306422233582,
          -0.9358107447624207,
          null,
          -0.5593306422233582,
          -0.10400892049074173,
          null,
          -0.5593306422233582,
          -0.7708719372749329,
          null,
          -0.5593306422233582,
          -0.42269566655158997,
          null,
          -0.5593306422233582,
          -0.43998751044273376,
          null,
          0.002423661295324564,
          0.5307630896568298,
          null,
          0.002423661295324564,
          -0.1426321268081665,
          null,
          0.002423661295324564,
          -0.45840519666671753,
          null,
          0.002423661295324564,
          -0.9507787227630615,
          null,
          0.002423661295324564,
          -0.2480621635913849,
          null,
          0.002423661295324564,
          0.8504736423492432,
          null,
          0.002423661295324564,
          -0.050840847194194794,
          null,
          0.002423661295324564,
          0.6598016619682312,
          null,
          0.002423661295324564,
          0.18443778157234192,
          null,
          0.002423661295324564,
          -0.44039052724838257,
          null,
          0.002423661295324564,
          0.5588876605033875,
          null,
          0.002423661295324564,
          -0.3636280298233032,
          null,
          0.002423661295324564,
          0.1565539538860321,
          null,
          0.30633744597435,
          0.725017249584198,
          null,
          0.30633744597435,
          0.4871984124183655,
          null,
          0.30633744597435,
          0.9413546919822693,
          null,
          0.30633744597435,
          -0.9735880494117737,
          null,
          0.30633744597435,
          0.8264212608337402,
          null,
          0.30633744597435,
          0.9858147501945496,
          null,
          0.3883843421936035,
          0.8240787386894226,
          null,
          0.2477230280637741,
          0.6290190815925598,
          null,
          0.2477230280637741,
          0.9625608921051025,
          null,
          0.2477230280637741,
          0.24284350872039795,
          null,
          0.7221955060958862,
          0.021757563576102257,
          null,
          -0.13121743500232697,
          0.06097819656133652,
          null,
          -0.3697068989276886,
          -0.9472646713256836,
          null,
          -0.40439608693122864,
          0.36810532212257385,
          null,
          -0.03819609060883522,
          0.26965048909187317,
          null,
          -0.03819609060883522,
          0.1403685361146927,
          null,
          -0.03819609060883522,
          -0.9317469596862793,
          null,
          0.5843534469604492,
          -0.05438459292054176,
          null,
          -0.06848704814910889,
          -0.8168922066688538,
          null,
          -0.06848704814910889,
          0.47439315915107727,
          null,
          -0.06848704814910889,
          -0.6309147477149963,
          null,
          -0.6186510324478149,
          0.2265859842300415,
          null,
          -0.6928322911262512,
          -0.6327723860740662,
          null,
          -0.6928322911262512,
          -0.1487739086151123,
          null,
          -0.6928322911262512,
          -0.40128010511398315,
          null,
          -0.24488422274589539,
          -0.8399465680122375,
          null,
          0.35728445649147034,
          0.9672399759292603,
          null,
          0.35728445649147034,
          0.7843055129051208,
          null,
          0.7342855930328369,
          0.8770692348480225,
          null,
          -0.5565172433853149,
          -0.8289937376976013,
          null,
          -0.5565172433853149,
          0.09544546902179718,
          null,
          -0.5565172433853149,
          -0.2107117623090744,
          null,
          -0.5565172433853149,
          -0.29062068462371826,
          null,
          -0.08614800125360489,
          -0.8805865049362183,
          null,
          -0.08614800125360489,
          -0.7931814789772034,
          null,
          -0.08614800125360489,
          0.7232159376144409,
          null,
          -0.08614800125360489,
          0.23764318227767944,
          null,
          -0.08614800125360489,
          -0.9509589672088623,
          null,
          -0.902916431427002,
          -0.8955686688423157,
          null,
          0.26965048909187317,
          -0.8335130214691162,
          null,
          0.26965048909187317,
          -0.19102416932582855,
          null,
          0.26965048909187317,
          0.9452127814292908,
          null,
          -0.16439272463321686,
          -0.8360936045646667,
          null,
          -0.16439272463321686,
          -0.5001048445701599,
          null,
          -0.16439272463321686,
          -0.8439583778381348,
          null,
          -0.16439272463321686,
          0.20987604558467865,
          null,
          -0.22874467074871063,
          0.40584275126457214,
          null,
          0.5683888792991638,
          0.8015472292900085,
          null,
          0.15829022228717804,
          -0.6862801313400269,
          null,
          0.15829022228717804,
          -0.3136785924434662,
          null,
          0.15829022228717804,
          0.7868467569351196,
          null,
          0.15829022228717804,
          0.051264438778162,
          null,
          0.15829022228717804,
          -0.055882442742586136,
          null,
          0.2265859842300415,
          -0.23143240809440613,
          null,
          0.40584275126457214,
          -0.26713287830352783,
          null,
          0.4853382408618927,
          0.3253897428512573,
          null,
          0.4853382408618927,
          0.8699818253517151,
          null,
          -0.003837548429146409,
          -0.4580911695957184,
          null,
          -0.003837548429146409,
          0.9387608766555786,
          null,
          -0.003837548429146409,
          -0.8703979849815369,
          null,
          -0.003837548429146409,
          0.6569032669067383,
          null,
          -0.003837548429146409,
          0.8958771228790283,
          null,
          -0.003837548429146409,
          0.053017571568489075,
          null,
          -0.003837548429146409,
          0.5974118113517761,
          null,
          -0.003837548429146409,
          0.15048550069332123,
          null,
          -0.003837548429146409,
          -0.8341368436813354,
          null,
          -0.003837548429146409,
          0.351672887802124,
          null,
          -0.003837548429146409,
          -0.9340690970420837,
          null,
          -0.003837548429146409,
          0.9963046908378601,
          null,
          -0.003837548429146409,
          -0.17483384907245636,
          null,
          -0.003837548429146409,
          -0.9703941345214844,
          null,
          -0.003837548429146409,
          0.3022667467594147,
          null,
          -0.003837548429146409,
          0.6941726803779602,
          null,
          -0.003837548429146409,
          0.07351787388324738,
          null,
          -0.003837548429146409,
          -0.26595649123191833,
          null,
          -0.003837548429146409,
          0.9694815278053284,
          null,
          -0.003837548429146409,
          0.6928885579109192,
          null,
          -0.003837548429146409,
          -0.9569941759109497,
          null,
          -0.003837548429146409,
          -0.7568097710609436,
          null,
          -0.003837548429146409,
          -0.6941506862640381,
          null,
          -0.003837548429146409,
          -0.8991209268569946,
          null,
          -0.43737655878067017,
          0.15142688155174255,
          null,
          -0.3295881450176239,
          -0.8175757527351379,
          null,
          -0.3295881450176239,
          -0.5949733257293701,
          null,
          -0.3295881450176239,
          0.7696290612220764,
          null,
          -0.3295881450176239,
          -0.9384810328483582,
          null,
          -0.3295881450176239,
          -0.873508632183075,
          null,
          -0.3295881450176239,
          -0.670558750629425,
          null,
          -0.3295881450176239,
          0.00024207057140301913,
          null,
          0.44528448581695557,
          -0.056038420647382736,
          null,
          0.44528448581695557,
          0.4933176338672638,
          null,
          -0.04812207818031311,
          0.5234715342521667,
          null,
          0.20987604558467865,
          -0.9044989347457886,
          null,
          0.20987604558467865,
          0.4109988510608673,
          null,
          0.20987604558467865,
          -0.34968113899230957,
          null,
          0.24284350872039795,
          -0.40951114892959595,
          null,
          0.24284350872039795,
          0.5137876868247986,
          null,
          0.24284350872039795,
          -0.34499236941337585,
          null,
          0.24284350872039795,
          0.9615252614021301,
          null,
          -0.3580951690673828,
          -0.6306312084197998,
          null,
          -0.02452435903251171,
          -0.6306312084197998,
          null,
          -0.9240307211875916,
          -0.8242495656013489,
          null,
          -0.9240307211875916,
          -0.6505646705627441,
          null,
          -0.9240307211875916,
          -0.7812070846557617,
          null,
          -0.9240307211875916,
          -0.9748409986495972,
          null,
          0.5570997595787048,
          0.8001224398612976,
          null,
          0.5570997595787048,
          0.3785911202430725,
          null,
          0.5570997595787048,
          0.5596701502799988,
          null,
          0.5570997595787048,
          0.4105367362499237,
          null,
          0.5570997595787048,
          0.0934317409992218,
          null,
          -0.11139953881502151,
          -0.6454833149909973,
          null,
          -0.11139953881502151,
          -0.947462260723114,
          null,
          -0.11139953881502151,
          0.3007148206233978,
          null,
          -0.11139953881502151,
          -0.5353227853775024,
          null,
          -0.9693866968154907,
          -0.2544281482696533,
          null,
          -0.4709428548812866,
          -0.2544281482696533,
          null,
          0.7046706676483154,
          -0.2544281482696533,
          null,
          -0.32902389764785767,
          -0.2544281482696533,
          null,
          -0.32902389764785767,
          0.4428938627243042,
          null,
          0.5192029476165771,
          -0.2544281482696533,
          null,
          -0.5594976544380188,
          -0.2544281482696533,
          null,
          -0.2561933696269989,
          -0.2544281482696533,
          null,
          -0.9104708433151245,
          -0.2544281482696533,
          null,
          0.4920410215854645,
          -0.2544281482696533,
          null,
          0.4567990303039551,
          -0.5009531378746033,
          null,
          0.5756076574325562,
          0.9037320613861084,
          null,
          0.717049777507782,
          0.9329724311828613,
          null,
          -0.8417734503746033,
          -0.2544281482696533,
          null,
          -0.05438459292054176,
          0.4419771432876587,
          null,
          0.053017571568489075,
          -0.8129793405532837,
          null,
          0.053017571568489075,
          0.4986223578453064,
          null,
          0.053017571568489075,
          -0.8199805617332458,
          null,
          0.15580905973911285,
          -0.028941525146365166,
          null,
          -0.9148024916648865,
          -0.2544281482696533,
          null,
          -0.6082071661949158,
          0.043081652373075485,
          null,
          -0.5006975531578064,
          0.043081652373075485,
          null,
          0.7492698431015015,
          0.86927330493927,
          null,
          0.4796687066555023,
          -0.07902669906616211,
          null,
          0.528683066368103,
          0.2788791358470917,
          null,
          -0.7830944657325745,
          0.043081652373075485,
          null,
          0.931352972984314,
          0.043081652373075485,
          null,
          -0.16137835383415222,
          0.043081652373075485,
          null,
          0.9281959533691406,
          0.043081652373075485,
          null,
          -0.17483384907245636,
          -0.47627612948417664,
          null,
          -0.17483384907245636,
          -0.8899564146995544,
          null,
          -0.17483384907245636,
          0.8855562210083008,
          null,
          0.4419771432876587,
          0.7021610736846924,
          null,
          0.3685207962989807,
          0.151764377951622,
          null,
          0.3685207962989807,
          -0.07446381449699402,
          null,
          0.07989451289176941,
          0.3364643454551697,
          null,
          -0.5353227853775024,
          -0.7359437346458435,
          null,
          -0.5353227853775024,
          0.29159560799598694,
          null,
          -0.044712211936712265,
          -0.832617998123169,
          null,
          -0.044712211936712265,
          0.8280883431434631,
          null,
          -0.7725215554237366,
          -0.9324700236320496,
          null,
          0.6081750988960266,
          0.32824382185935974,
          null,
          -0.3795420825481415,
          -0.0101021071895957,
          null,
          0.051264438778162,
          0.11111017316579819,
          null,
          -0.055882442742586136,
          0.02598164603114128,
          null,
          -0.055882442742586136,
          -0.024674272164702415,
          null,
          -0.8176193237304688,
          -0.8437702059745789,
          null,
          0.7737036347389221,
          0.8920977115631104,
          null,
          0.06263890862464905,
          -0.326058030128479,
          null,
          0.06263890862464905,
          -0.2810697555541992,
          null,
          0.06263890862464905,
          0.5764903426170349,
          null,
          0.06263890862464905,
          0.23391082882881165,
          null,
          0.06263890862464905,
          0.901270866394043,
          null,
          0.06263890862464905,
          0.8192911744117737,
          null,
          0.06263890862464905,
          -0.964333176612854,
          null,
          0.06263890862464905,
          0.621683657169342,
          null,
          0.06263890862464905,
          -0.2768614590167999,
          null,
          0.06263890862464905,
          -0.6773235201835632,
          null,
          0.06263890862464905,
          -0.2917684316635132,
          null,
          0.06263890862464905,
          -0.8162747621536255,
          null,
          0.06263890862464905,
          0.13034628331661224,
          null,
          0.06263890862464905,
          -0.19167953729629517,
          null,
          0.06263890862464905,
          0.04690678417682648,
          null,
          0.06263890862464905,
          0.6969389319419861,
          null,
          0.06263890862464905,
          0.9414796829223633,
          null,
          0.06263890862464905,
          0.48595288395881653,
          null,
          0.06263890862464905,
          -0.5972945690155029,
          null,
          0.06263890862464905,
          0.735970675945282,
          null,
          0.06263890862464905,
          -0.7396907806396484,
          null,
          0.06263890862464905,
          0.22347594797611237,
          null,
          0.06263890862464905,
          0.44950175285339355,
          null,
          0.06263890862464905,
          0.02106235735118389,
          null,
          0.06263890862464905,
          0.7112368941307068,
          null,
          0.06263890862464905,
          -0.9497851729393005,
          null,
          0.06263890862464905,
          0.836259126663208,
          null,
          0.06263890862464905,
          0.4177316427230835,
          null,
          0.06263890862464905,
          -0.19402775168418884,
          null,
          0.3183906674385071,
          -0.3589245080947876,
          null,
          -0.024674272164702415,
          0.9119389057159424,
          null,
          -0.024674272164702415,
          -0.5522921681404114,
          null,
          -0.024674272164702415,
          -0.614904522895813,
          null,
          -0.024674272164702415,
          -0.6027337312698364,
          null,
          -0.024674272164702415,
          0.5235314965248108,
          null,
          -0.024674272164702415,
          0.31515827775001526,
          null,
          -0.024674272164702415,
          -0.5073029398918152,
          null,
          -0.0101021071895957,
          -0.25727221369743347,
          null,
          -0.0101021071895957,
          0.7531061172485352,
          null,
          -0.6420021057128906,
          -0.30051881074905396,
          null,
          0.5700810551643372,
          0.4420906603336334,
          null,
          0.5700810551643372,
          0.37965354323387146,
          null,
          -0.364332377910614,
          0.5610890984535217,
          null,
          -0.364332377910614,
          -0.8711161613464355,
          null,
          -0.364332377910614,
          -0.45052358508110046,
          null
         ],
         "y": [
          0.7135935425758362,
          0.40402039885520935,
          null,
          0.7135935425758362,
          0.7704638838768005,
          null,
          0.07781153917312622,
          -0.3799995481967926,
          null,
          0.07781153917312622,
          0.7258843183517456,
          null,
          0.7258843183517456,
          0.5013023614883423,
          null,
          0.10687064379453659,
          -0.16954417526721954,
          null,
          0.2847557067871094,
          -0.7893796563148499,
          null,
          0.3753740191459656,
          0.7936641573905945,
          null,
          0.3753740191459656,
          -0.048570916056632996,
          null,
          0.3753740191459656,
          0.7840463519096375,
          null,
          0.4647713899612427,
          0.11600178480148315,
          null,
          0.4647713899612427,
          0.23784524202346802,
          null,
          0.4647713899612427,
          0.9519104957580566,
          null,
          0.4647713899612427,
          0.5834927558898926,
          null,
          0.4647713899612427,
          0.9441224932670593,
          null,
          0.4647713899612427,
          -0.38453224301338196,
          null,
          0.34918472170829773,
          -0.2070411890745163,
          null,
          0.34918472170829773,
          0.6575021743774414,
          null,
          0.34918472170829773,
          0.8876447081565857,
          null,
          0.07413896173238754,
          0.19140365719795227,
          null,
          -0.4117618203163147,
          0.5260014533996582,
          null,
          -0.4117618203163147,
          -0.7840913534164429,
          null,
          -0.4117618203163147,
          -0.7472968101501465,
          null,
          0.08691184967756271,
          0.5299904942512512,
          null,
          -0.1606511026620865,
          -0.6244240999221802,
          null,
          -0.1606511026620865,
          0.8421242237091064,
          null,
          -0.1606511026620865,
          -0.7035667300224304,
          null,
          -0.1606511026620865,
          -0.2367648035287857,
          null,
          -0.1606511026620865,
          -0.9350342154502869,
          null,
          -0.1606511026620865,
          -0.9194179177284241,
          null,
          -0.1606511026620865,
          0.9312642812728882,
          null,
          -0.1606511026620865,
          0.47457271814346313,
          null,
          -0.1606511026620865,
          0.08992867916822433,
          null,
          -0.1606511026620865,
          -0.34506621956825256,
          null,
          -0.1606511026620865,
          -0.5529019236564636,
          null,
          -0.1606511026620865,
          -0.9122942686080933,
          null,
          -0.1606511026620865,
          -0.6554691195487976,
          null,
          -0.1606511026620865,
          -0.23476848006248474,
          null,
          -0.1606511026620865,
          0.801652193069458,
          null,
          -0.1606511026620865,
          0.26827406883239746,
          null,
          -0.1606511026620865,
          -0.8849064707756042,
          null,
          -0.1606511026620865,
          -0.6936317086219788,
          null,
          -0.1606511026620865,
          0.5292624235153198,
          null,
          -0.1606511026620865,
          0.6731875538825989,
          null,
          -0.1606511026620865,
          0.05902831628918648,
          null,
          -0.1606511026620865,
          -0.9196503758430481,
          null,
          -0.1606511026620865,
          -0.6913418173789978,
          null,
          -0.1606511026620865,
          -0.7658354043960571,
          null,
          -0.1606511026620865,
          -0.8883023858070374,
          null,
          -0.1606511026620865,
          0.7315433025360107,
          null,
          -0.1606511026620865,
          -0.09338149428367615,
          null,
          -0.1606511026620865,
          0.6340886950492859,
          null,
          -0.1606511026620865,
          -0.19054673612117767,
          null,
          -0.1606511026620865,
          -0.9093483090400696,
          null,
          -0.1606511026620865,
          0.013573147356510162,
          null,
          -0.1606511026620865,
          -0.7120854258537292,
          null,
          -0.1606511026620865,
          0.30137142539024353,
          null,
          -0.1606511026620865,
          -0.2532268762588501,
          null,
          -0.9544535875320435,
          -0.6222474575042725,
          null,
          -0.9544535875320435,
          -0.5344687700271606,
          null,
          0.6575021743774414,
          -0.02763937972486019,
          null,
          0.6658103466033936,
          -0.21423929929733276,
          null,
          -0.6244240999221802,
          -0.7176967859268188,
          null,
          0.8421242237091064,
          0.8665866851806641,
          null,
          0.8421242237091064,
          0.9164079427719116,
          null,
          -0.9350342154502869,
          -0.9420070052146912,
          null,
          -0.9194179177284241,
          -0.8971375226974487,
          null,
          0.08992867916822433,
          0.17089144885540009,
          null,
          0.08992867916822433,
          0.08626388758420944,
          null,
          0.08992867916822433,
          0.03565564006567001,
          null,
          0.08992867916822433,
          -0.4889543354511261,
          null,
          0.08992867916822433,
          0.48384571075439453,
          null,
          0.08992867916822433,
          0.5905266404151917,
          null,
          0.08992867916822433,
          -0.2071099430322647,
          null,
          0.08992867916822433,
          0.49468663334846497,
          null,
          -0.02763937972486019,
          -0.7462155222892761,
          null,
          0.035290200263261795,
          0.5952829122543335,
          null,
          -0.34506621956825256,
          0.05022889003157616,
          null,
          -0.34506621956825256,
          -0.7963201403617859,
          null,
          -0.5529019236564636,
          -0.6759390830993652,
          null,
          -0.5529019236564636,
          0.39465925097465515,
          null,
          -0.9122942686080933,
          -0.3499809801578522,
          null,
          0.17089144885540009,
          0.8410807251930237,
          null,
          0.6968613862991333,
          0.3363316059112549,
          null,
          0.1203792467713356,
          0.03511406108736992,
          null,
          0.7388328313827515,
          0.9335246682167053,
          null,
          0.17039096355438232,
          0.6552286744117737,
          null,
          0.17039096355438232,
          0.37852445244789124,
          null,
          0.17039096355438232,
          -0.2431313544511795,
          null,
          0.17039096355438232,
          -0.3619365394115448,
          null,
          -0.3415874242782593,
          -0.26518556475639343,
          null,
          -0.3415874242782593,
          -0.9262012839317322,
          null,
          -0.3415874242782593,
          -0.08599766343832016,
          null,
          -0.3415874242782593,
          -0.8727415800094604,
          null,
          -0.3415874242782593,
          0.7692625522613525,
          null,
          0.08344916254281998,
          0.8624939918518066,
          null,
          0.08344916254281998,
          -0.9403132200241089,
          null,
          0.08344916254281998,
          0.6913384199142456,
          null,
          0.08344916254281998,
          -0.2716728746891022,
          null,
          0.08344916254281998,
          -0.765014111995697,
          null,
          0.08344916254281998,
          0.30515599250793457,
          null,
          0.08344916254281998,
          0.9670787453651428,
          null,
          0.08344916254281998,
          0.3692215383052826,
          null,
          0.08344916254281998,
          0.9401088953018188,
          null,
          0.08344916254281998,
          -0.9084618091583252,
          null,
          0.08344916254281998,
          0.7320975661277771,
          null,
          0.08344916254281998,
          -0.9487247467041016,
          null,
          0.08344916254281998,
          0.9449055194854736,
          null,
          0.16740025579929352,
          -0.46784189343452454,
          null,
          0.16740025579929352,
          0.8419066667556763,
          null,
          0.16740025579929352,
          -0.2977204918861389,
          null,
          0.16740025579929352,
          0.17545534670352936,
          null,
          0.16740025579929352,
          0.3956092298030853,
          null,
          0.16740025579929352,
          -0.04803551733493805,
          null,
          0.8121821284294128,
          0.5326566100120544,
          null,
          -0.33922797441482544,
          -0.7906134724617004,
          null,
          -0.33922797441482544,
          -0.1151750311255455,
          null,
          -0.33922797441482544,
          0.42334455251693726,
          null,
          -0.6489457488059998,
          -0.11585813760757446,
          null,
          0.8816044926643372,
          0.9505009055137634,
          null,
          -0.23476848006248474,
          0.3152606189250946,
          null,
          0.6659910678863525,
          0.8313666582107544,
          null,
          -0.2431313544511795,
          -0.20096546411514282,
          null,
          -0.2431313544511795,
          -0.9147820472717285,
          null,
          -0.2431313544511795,
          0.3370373249053955,
          null,
          0.818384051322937,
          0.5252960920333862,
          null,
          -0.7126516699790955,
          -0.5463424921035767,
          null,
          -0.7126516699790955,
          -0.8434284925460815,
          null,
          -0.7126516699790955,
          -0.6511266231536865,
          null,
          0.7386244535446167,
          0.2948315441608429,
          null,
          -0.5551679730415344,
          0.18482911586761475,
          null,
          -0.5551679730415344,
          -0.9193057417869568,
          null,
          -0.5551679730415344,
          -0.7485938668251038,
          null,
          0.9335246682167053,
          0.44096639752388,
          null,
          -0.3038541376590729,
          0.14803098142147064,
          null,
          -0.3038541376590729,
          0.5947518944740295,
          null,
          0.6632936596870422,
          0.14469662308692932,
          null,
          -0.3730817437171936,
          0.5999070405960083,
          null,
          -0.3730817437171936,
          -0.9558602571487427,
          null,
          -0.3730817437171936,
          -0.14253276586532593,
          null,
          -0.3730817437171936,
          0.1513785719871521,
          null,
          0.15619249641895294,
          0.2220863550901413,
          null,
          0.15619249641895294,
          0.6160765886306763,
          null,
          0.15619249641895294,
          0.589735209941864,
          null,
          0.15619249641895294,
          0.9240074753761292,
          null,
          0.15619249641895294,
          0.2990483045578003,
          null,
          0.39465925097465515,
          0.29077064990997314,
          null,
          -0.20096546411514282,
          -0.15067540109157562,
          null,
          -0.20096546411514282,
          -0.9852094054222107,
          null,
          -0.20096546411514282,
          -0.20762905478477478,
          null,
          0.7719442844390869,
          0.5182402729988098,
          null,
          0.7719442844390869,
          0.7785999774932861,
          null,
          0.7719442844390869,
          0.028656676411628723,
          null,
          0.7719442844390869,
          0.32022222876548767,
          null,
          0.7789177894592285,
          0.9013155698776245,
          null,
          -0.6952002048492432,
          -0.5794621706008911,
          null,
          0.014541372656822205,
          -0.6660017967224121,
          null,
          0.014541372656822205,
          0.9269452691078186,
          null,
          0.014541372656822205,
          -0.6067479252815247,
          null,
          0.014541372656822205,
          -0.35383936762809753,
          null,
          0.014541372656822205,
          0.2342299371957779,
          null,
          0.2948315441608429,
          0.6887803077697754,
          null,
          0.9013155698776245,
          0.8888493180274963,
          null,
          0.03511406108736992,
          -0.929223358631134,
          null,
          0.03511406108736992,
          -0.5305158495903015,
          null,
          0.13321542739868164,
          0.884232759475708,
          null,
          0.13321542739868164,
          0.2896632254123688,
          null,
          0.13321542739868164,
          -0.2936323583126068,
          null,
          0.13321542739868164,
          0.746012270450592,
          null,
          0.13321542739868164,
          0.17186033725738525,
          null,
          0.13321542739868164,
          0.4497954845428467,
          null,
          0.13321542739868164,
          -0.7991726994514465,
          null,
          0.13321542739868164,
          0.8745320439338684,
          null,
          0.13321542739868164,
          0.14332178235054016,
          null,
          0.13321542739868164,
          0.9177916049957275,
          null,
          0.13321542739868164,
          0.047259483486413956,
          null,
          0.13321542739868164,
          -0.08007217198610306,
          null,
          0.13321542739868164,
          -0.10410965234041214,
          null,
          0.13321542739868164,
          -0.13927550613880157,
          null,
          0.13321542739868164,
          0.9514675736427307,
          null,
          0.13321542739868164,
          0.18405857682228088,
          null,
          0.13321542739868164,
          -0.9570963382720947,
          null,
          0.13321542739868164,
          -0.46823233366012573,
          null,
          0.13321542739868164,
          -0.161860853433609,
          null,
          0.13321542739868164,
          0.7939321994781494,
          null,
          0.13321542739868164,
          -0.3032466471195221,
          null,
          0.13321542739868164,
          0.516595721244812,
          null,
          0.13321542739868164,
          -0.36485323309898376,
          null,
          0.13321542739868164,
          0.26613813638687134,
          null,
          -0.8806601166725159,
          -0.8640244007110596,
          null,
          -0.102080337703228,
          0.5363789200782776,
          null,
          -0.102080337703228,
          0.7585079669952393,
          null,
          -0.102080337703228,
          0.08039432018995285,
          null,
          -0.102080337703228,
          0.24009478092193604,
          null,
          -0.102080337703228,
          -0.36261501908302307,
          null,
          -0.102080337703228,
          -0.76528400182724,
          null,
          -0.102080337703228,
          -0.9521731734275818,
          null,
          -0.15795637667179108,
          -0.4239729940891266,
          null,
          -0.15795637667179108,
          -0.6584854125976562,
          null,
          -0.8752857446670532,
          -0.8160094022750854,
          null,
          0.32022222876548767,
          0.3872152268886566,
          null,
          0.32022222876548767,
          0.8542214035987854,
          null,
          0.32022222876548767,
          -0.2770848870277405,
          null,
          0.42334455251693726,
          0.9174963235855103,
          null,
          0.42334455251693726,
          0.5064179301261902,
          null,
          0.42334455251693726,
          0.8330984711647034,
          null,
          0.42334455251693726,
          -0.12642505764961243,
          null,
          -0.8839781880378723,
          -0.7104676365852356,
          null,
          -0.009058517403900623,
          -0.7104676365852356,
          null,
          -0.34645214676856995,
          -0.21927344799041748,
          null,
          -0.34645214676856995,
          -0.6627877950668335,
          null,
          -0.34645214676856995,
          -0.6297513246536255,
          null,
          -0.34645214676856995,
          -0.11322114616632462,
          null,
          -0.1919899731874466,
          -0.45854705572128296,
          null,
          -0.1919899731874466,
          -0.5261430144309998,
          null,
          -0.1919899731874466,
          0.528346598148346,
          null,
          -0.1919899731874466,
          -0.9286451935768127,
          null,
          -0.1919899731874466,
          0.320209801197052,
          null,
          -0.4995439350605011,
          -0.34472957253456116,
          null,
          -0.4995439350605011,
          -0.19379836320877075,
          null,
          -0.4995439350605011,
          -0.796705424785614,
          null,
          -0.4995439350605011,
          -0.2651652693748474,
          null,
          0.1934458166360855,
          -0.11059761792421341,
          null,
          -0.7760495543479919,
          -0.11059761792421341,
          null,
          -0.5225250720977783,
          -0.11059761792421341,
          null,
          -0.5636348128318787,
          -0.11059761792421341,
          null,
          -0.5636348128318787,
          -0.31548696756362915,
          null,
          0.6268160343170166,
          -0.11059761792421341,
          null,
          -0.8336856961250305,
          -0.11059761792421341,
          null,
          0.9582127928733826,
          -0.11059761792421341,
          null,
          -0.21485741436481476,
          -0.11059761792421341,
          null,
          -0.8332555294036865,
          -0.11059761792421341,
          null,
          -0.19549940526485443,
          -0.8251132965087891,
          null,
          -0.29975518584251404,
          0.22166763246059418,
          null,
          0.5934990048408508,
          -0.38310250639915466,
          null,
          0.4527384638786316,
          -0.11059761792421341,
          null,
          0.5252960920333862,
          0.7478535175323486,
          null,
          0.4497954845428467,
          0.6022825241088867,
          null,
          0.4497954845428467,
          0.1423795521259308,
          null,
          0.4497954845428467,
          -0.37329694628715515,
          null,
          -0.5051068663597107,
          -0.9655225872993469,
          null,
          -0.3095915615558624,
          -0.11059761792421341,
          null,
          0.7551671266555786,
          0.33693045377731323,
          null,
          0.8774489760398865,
          0.33693045377731323,
          null,
          0.26827406883239746,
          0.49329808354377747,
          null,
          -0.6198591589927673,
          -0.9416612386703491,
          null,
          0.0489729680120945,
          0.8765463829040527,
          null,
          0.47598278522491455,
          0.33693045377731323,
          null,
          -0.2434825450181961,
          0.33693045377731323,
          null,
          0.9795806407928467,
          0.33693045377731323,
          null,
          -0.33912914991378784,
          0.33693045377731323,
          null,
          -0.10410965234041214,
          -0.8408784866333008,
          null,
          -0.10410965234041214,
          -0.4108595848083496,
          null,
          -0.10410965234041214,
          -0.07726505398750305,
          null,
          0.7478535175323486,
          0.5444051623344421,
          null,
          0.8923958539962769,
          -0.12135067582130432,
          null,
          0.8923958539962769,
          0.9513211250305176,
          null,
          0.9137572646141052,
          0.9108456969261169,
          null,
          -0.2651652693748474,
          0.552924633026123,
          null,
          -0.2651652693748474,
          -0.8081496357917786,
          null,
          0.902400553226471,
          0.42600247263908386,
          null,
          0.902400553226471,
          0.5217565894126892,
          null,
          0.6340886950492859,
          -0.01824488863348961,
          null,
          -0.19054673612117767,
          0.9099013209342957,
          null,
          -0.8792402148246765,
          -0.8946882486343384,
          null,
          -0.35383936762809753,
          0.3149981200695038,
          null,
          0.2342299371957779,
          -0.651216447353363,
          null,
          0.2342299371957779,
          0.09207260608673096,
          null,
          0.3538956344127655,
          -0.4680541455745697,
          null,
          -0.5765904188156128,
          -0.4827387034893036,
          null,
          0.06740422546863556,
          -0.722808301448822,
          null,
          0.06740422546863556,
          -0.913665771484375,
          null,
          0.06740422546863556,
          0.6216534376144409,
          null,
          0.06740422546863556,
          0.7712020874023438,
          null,
          0.06740422546863556,
          0.34344300627708435,
          null,
          0.06740422546863556,
          -0.4122093617916107,
          null,
          0.06740422546863556,
          0.11200851947069168,
          null,
          0.06740422546863556,
          -0.7187685966491699,
          null,
          0.06740422546863556,
          0.9649187326431274,
          null,
          0.06740422546863556,
          0.7369962930679321,
          null,
          0.06740422546863556,
          0.9404286742210388,
          null,
          0.06740422546863556,
          -0.560073733329773,
          null,
          0.06740422546863556,
          0.8409655690193176,
          null,
          0.06740422546863556,
          0.789924144744873,
          null,
          0.06740422546863556,
          -0.979330837726593,
          null,
          0.06740422546863556,
          0.7278947830200195,
          null,
          0.06740422546863556,
          0.002964071463793516,
          null,
          0.06740422546863556,
          -0.88998943567276,
          null,
          0.06740422546863556,
          -0.7888756990432739,
          null,
          0.06740422546863556,
          0.5636038780212402,
          null,
          0.06740422546863556,
          -0.014976316131651402,
          null,
          0.06740422546863556,
          0.9635811448097229,
          null,
          0.06740422546863556,
          0.8386286497116089,
          null,
          0.06740422546863556,
          0.9534153938293457,
          null,
          0.06740422546863556,
          -0.7117044925689697,
          null,
          0.06740422546863556,
          0.14379018545150757,
          null,
          0.06740422546863556,
          0.00838786456733942,
          null,
          0.06740422546863556,
          0.7739713191986084,
          null,
          0.06740422546863556,
          -0.9519267678260803,
          null,
          0.8533374071121216,
          0.9326463341712952,
          null,
          0.09207260608673096,
          -0.51216059923172,
          null,
          0.09207260608673096,
          0.8677918910980225,
          null,
          0.09207260608673096,
          0.001823719241656363,
          null,
          0.09207260608673096,
          -0.8240651488304138,
          null,
          0.09207260608673096,
          0.8124417662620544,
          null,
          0.09207260608673096,
          -0.9146090745925903,
          null,
          0.09207260608673096,
          0.8407824039459229,
          null,
          -0.8946882486343384,
          -0.22069232165813446,
          null,
          -0.8946882486343384,
          -0.19064851105213165,
          null,
          0.473257839679718,
          0.8290010094642639,
          null,
          -0.8496510982513428,
          0.08007541298866272,
          null,
          -0.8496510982513428,
          -0.8816632628440857,
          null,
          -0.4453122019767761,
          -0.28619930148124695,
          null,
          -0.4453122019767761,
          -0.272034615278244,
          null,
          -0.4453122019767761,
          0.049778468906879425,
          null
         ]
        },
        {
         "hoverinfo": "text",
         "marker": {
          "color": [
           2,
           1,
           1,
           0,
           0,
           2,
           1,
           0,
           2,
           0,
           1,
           0,
           1,
           0,
           0,
           1,
           3,
           0,
           6,
           0,
           0,
           0,
           0,
           0,
           3,
           0,
           0,
           0,
           0,
           1,
           0,
           0,
           0,
           0,
           1,
           3,
           0,
           1,
           0,
           0,
           0,
           1,
           0,
           0,
           0,
           0,
           0,
           0,
           1,
           1,
           0,
           34,
           0,
           0,
           1,
           0,
           0,
           2,
           2,
           1,
           1,
           0,
           0,
           0,
           1,
           1,
           1,
           0,
           1,
           1,
           1,
           1,
           1,
           0,
           1,
           1,
           2,
           3,
           1,
           1,
           2,
           0,
           0,
           1,
           2,
           1,
           1,
           9,
           0,
           0,
           0,
           2,
           0,
           1,
           0,
           0,
           0,
           0,
           1,
           0,
           1,
           0,
           3,
           3,
           1,
           0,
           0,
           0,
           2,
           1,
           2,
           1,
           1,
           0,
           0,
           0,
           1,
           0,
           0,
           0,
           0,
           1,
           0,
           1,
           4,
           0,
           5,
           13,
           1,
           1,
           1,
           0,
           0,
           0,
           0,
           0,
           0,
           0,
           0,
           1,
           6,
           0,
           0,
           0,
           0,
           0,
           0,
           1,
           3,
           1,
           0,
           1,
           0,
           1,
           0,
           0,
           0,
           0,
           2,
           0,
           1,
           1,
           0,
           1,
           4,
           1,
           3,
           0,
           1,
           0,
           3,
           0,
           0,
           2,
           2,
           1,
           4,
           1,
           5,
           0,
           0,
           1,
           2,
           1,
           1,
           4,
           1,
           1,
           0,
           0,
           0,
           1,
           1,
           4,
           0,
           1,
           0,
           0,
           1,
           0,
           1,
           1,
           1,
           1,
           5,
           2,
           1,
           2,
           1,
           1,
           3,
           1,
           1,
           1,
           1,
           1,
           0,
           0,
           0,
           1,
           24,
           1,
           0,
           7,
           2,
           0,
           0,
           1,
           0,
           0,
           0,
           0,
           1,
           1,
           1,
           4,
           1,
           1,
           1,
           1,
           1,
           1,
           1,
           1,
           5,
           0,
           0,
           1,
           1,
           4,
           1,
           5,
           0,
           1,
           1,
           1,
           1,
           0,
           1,
           1,
           0,
           1,
           4,
           1,
           1,
           1,
           2,
           1,
           1,
           1,
           1,
           1,
           1,
           0,
           1,
           1,
           1,
           1,
           1,
           1,
           0,
           1,
           1,
           1,
           1,
           1,
           1,
           1,
           1,
           0,
           0,
           0,
           1,
           0,
           0,
           0,
           0,
           1,
           1,
           1,
           1,
           1,
           1,
           2,
           1,
           4,
           1,
           1,
           1,
           1,
           1,
           1,
           1,
           0,
           0,
           1,
           1,
           1,
           2,
           1,
           1,
           1,
           1,
           1,
           1,
           1,
           1,
           0,
           1,
           1,
           1,
           1,
           1,
           1,
           1,
           1,
           1,
           1,
           1,
           1,
           1,
           1,
           1,
           1,
           1,
           1,
           1,
           1,
           0,
           1,
           1,
           1,
           1,
           0,
           1,
           1,
           1,
           1,
           1,
           1,
           1,
           4,
           1,
           1,
           1,
           1,
           1,
           1,
           0,
           2,
           2,
           1,
           1,
           1,
           1,
           1,
           1,
           1,
           1,
           3,
           2,
           2,
           2,
           1,
           0,
           0,
           1,
           1,
           1,
           1,
           1,
           1,
           2,
           1,
           3,
           1,
           1,
           1,
           1,
           1,
           1,
           1,
           1,
           1,
           1,
           1,
           1,
           1,
           1,
           1,
           1,
           0,
           1,
           0,
           1,
           1,
           1,
           1,
           29,
           1,
           1,
           1,
           1,
           1,
           8,
           1,
           1,
           1,
           0,
           1,
           1,
           3,
           1,
           1,
           1,
           1,
           1,
           1,
           1,
           1,
           1,
           0,
           1,
           1,
           1,
           1,
           0,
           1,
           0,
           0,
           1,
           0,
           0,
           0,
           1,
           2,
           1,
           1,
           1,
           1,
           1,
           1,
           1,
           1,
           3,
           0,
           1,
           1,
           1,
           1,
           1,
           1,
           1,
           1,
           0,
           1,
           1,
           1,
           1,
           1,
           1,
           1,
           1,
           1,
           1,
           1,
           1,
           0,
           1,
           1,
           1,
           1,
           1,
           1,
           1,
           1,
           1,
           1,
           1,
           1,
           1,
           1,
           1,
           0,
           0,
           0,
           1,
           1,
           1,
           1,
           0,
           1,
           0,
           0,
           1,
           1,
           1,
           1,
           1,
           1,
           1,
           1,
           1,
           1,
           2,
           11,
           1,
           1,
           6,
           1,
           1,
           1
          ],
          "colorbar": {
           "thickness": 10,
           "title": {
            "side": "right",
            "text": "Node Connections"
           },
           "xanchor": "left"
          },
          "colorscale": [
           [
            0,
            "rgb(103,0,31)"
           ],
           [
            0.1,
            "rgb(178,24,43)"
           ],
           [
            0.2,
            "rgb(214,96,77)"
           ],
           [
            0.3,
            "rgb(244,165,130)"
           ],
           [
            0.4,
            "rgb(253,219,199)"
           ],
           [
            0.5,
            "rgb(247,247,247)"
           ],
           [
            0.6,
            "rgb(209,229,240)"
           ],
           [
            0.7,
            "rgb(146,197,222)"
           ],
           [
            0.8,
            "rgb(67,147,195)"
           ],
           [
            0.9,
            "rgb(33,102,172)"
           ],
           [
            1,
            "rgb(5,48,97)"
           ]
          ],
          "line": {
           "width": 0
          },
          "reversescale": true,
          "showscale": true,
          "size": 15
         },
         "mode": "markers",
         "text": [
          "1 # of connections: 2",
          "2 # of connections: 1",
          "3 # of connections: 1",
          "4 # of connections: 0",
          "5 # of connections: 0",
          "6 # of connections: 2",
          "7 # of connections: 1",
          "8 # of connections: 0",
          "9 # of connections: 2",
          "10 # of connections: 0",
          "11 # of connections: 1",
          "12 # of connections: 0",
          "13 # of connections: 1",
          "14 # of connections: 0",
          "15 # of connections: 0",
          "16 # of connections: 1",
          "17 # of connections: 3",
          "18 # of connections: 0",
          "19 # of connections: 6",
          "20 # of connections: 0",
          "21 # of connections: 0",
          "22 # of connections: 0",
          "23 # of connections: 0",
          "24 # of connections: 0",
          "25 # of connections: 3",
          "26 # of connections: 0",
          "27 # of connections: 0",
          "28 # of connections: 0",
          "29 # of connections: 0",
          "30 # of connections: 1",
          "31 # of connections: 0",
          "32 # of connections: 0",
          "33 # of connections: 0",
          "34 # of connections: 0",
          "35 # of connections: 1",
          "36 # of connections: 3",
          "37 # of connections: 0",
          "38 # of connections: 1",
          "39 # of connections: 0",
          "40 # of connections: 0",
          "41 # of connections: 0",
          "42 # of connections: 1",
          "43 # of connections: 0",
          "44 # of connections: 0",
          "45 # of connections: 0",
          "46 # of connections: 0",
          "47 # of connections: 0",
          "48 # of connections: 0",
          "49 # of connections: 1",
          "50 # of connections: 1",
          "51 # of connections: 0",
          "52 # of connections: 34",
          "53 # of connections: 0",
          "54 # of connections: 0",
          "55 # of connections: 1",
          "56 # of connections: 0",
          "57 # of connections: 0",
          "58 # of connections: 2",
          "59 # of connections: 2",
          "60 # of connections: 1",
          "61 # of connections: 1",
          "62 # of connections: 0",
          "63 # of connections: 0",
          "64 # of connections: 0",
          "65 # of connections: 1",
          "66 # of connections: 1",
          "67 # of connections: 1",
          "68 # of connections: 0",
          "69 # of connections: 1",
          "70 # of connections: 1",
          "71 # of connections: 1",
          "72 # of connections: 1",
          "73 # of connections: 1",
          "74 # of connections: 0",
          "75 # of connections: 1",
          "76 # of connections: 1",
          "77 # of connections: 2",
          "78 # of connections: 3",
          "79 # of connections: 1",
          "80 # of connections: 1",
          "81 # of connections: 2",
          "82 # of connections: 0",
          "83 # of connections: 0",
          "84 # of connections: 1",
          "85 # of connections: 2",
          "86 # of connections: 1",
          "87 # of connections: 1",
          "88 # of connections: 9",
          "89 # of connections: 0",
          "90 # of connections: 0",
          "91 # of connections: 0",
          "92 # of connections: 2",
          "93 # of connections: 0",
          "94 # of connections: 1",
          "95 # of connections: 0",
          "96 # of connections: 0",
          "97 # of connections: 0",
          "98 # of connections: 0",
          "99 # of connections: 1",
          "100 # of connections: 0",
          "101 # of connections: 1",
          "102 # of connections: 0",
          "103 # of connections: 3",
          "104 # of connections: 3",
          "105 # of connections: 1",
          "106 # of connections: 0",
          "107 # of connections: 0",
          "108 # of connections: 0",
          "109 # of connections: 2",
          "110 # of connections: 1",
          "111 # of connections: 2",
          "112 # of connections: 1",
          "113 # of connections: 1",
          "114 # of connections: 0",
          "115 # of connections: 0",
          "116 # of connections: 0",
          "117 # of connections: 1",
          "118 # of connections: 0",
          "119 # of connections: 0",
          "120 # of connections: 0",
          "121 # of connections: 0",
          "122 # of connections: 1",
          "123 # of connections: 0",
          "124 # of connections: 1",
          "125 # of connections: 4",
          "126 # of connections: 0",
          "127 # of connections: 5",
          "128 # of connections: 13",
          "129 # of connections: 1",
          "130 # of connections: 1",
          "131 # of connections: 1",
          "132 # of connections: 0",
          "133 # of connections: 0",
          "134 # of connections: 0",
          "135 # of connections: 0",
          "136 # of connections: 0",
          "137 # of connections: 0",
          "138 # of connections: 0",
          "139 # of connections: 0",
          "140 # of connections: 1",
          "141 # of connections: 6",
          "142 # of connections: 0",
          "143 # of connections: 0",
          "144 # of connections: 0",
          "145 # of connections: 0",
          "146 # of connections: 0",
          "147 # of connections: 0",
          "148 # of connections: 1",
          "149 # of connections: 3",
          "150 # of connections: 1",
          "151 # of connections: 0",
          "152 # of connections: 1",
          "153 # of connections: 0",
          "154 # of connections: 1",
          "155 # of connections: 0",
          "156 # of connections: 0",
          "157 # of connections: 0",
          "158 # of connections: 0",
          "159 # of connections: 2",
          "160 # of connections: 0",
          "161 # of connections: 1",
          "162 # of connections: 1",
          "163 # of connections: 0",
          "164 # of connections: 1",
          "165 # of connections: 4",
          "166 # of connections: 1",
          "167 # of connections: 3",
          "168 # of connections: 0",
          "169 # of connections: 1",
          "170 # of connections: 0",
          "171 # of connections: 3",
          "172 # of connections: 0",
          "173 # of connections: 0",
          "174 # of connections: 2",
          "175 # of connections: 2",
          "176 # of connections: 1",
          "177 # of connections: 4",
          "178 # of connections: 1",
          "179 # of connections: 5",
          "180 # of connections: 0",
          "181 # of connections: 0",
          "182 # of connections: 1",
          "183 # of connections: 2",
          "184 # of connections: 1",
          "185 # of connections: 1",
          "186 # of connections: 4",
          "187 # of connections: 1",
          "188 # of connections: 1",
          "189 # of connections: 0",
          "190 # of connections: 0",
          "191 # of connections: 0",
          "192 # of connections: 1",
          "193 # of connections: 1",
          "194 # of connections: 4",
          "195 # of connections: 0",
          "196 # of connections: 1",
          "197 # of connections: 0",
          "198 # of connections: 0",
          "199 # of connections: 1",
          "200 # of connections: 0",
          "201 # of connections: 1",
          "202 # of connections: 1",
          "203 # of connections: 1",
          "204 # of connections: 1",
          "205 # of connections: 5",
          "206 # of connections: 2",
          "207 # of connections: 1",
          "208 # of connections: 2",
          "209 # of connections: 1",
          "210 # of connections: 1",
          "211 # of connections: 3",
          "212 # of connections: 1",
          "213 # of connections: 1",
          "214 # of connections: 1",
          "215 # of connections: 1",
          "216 # of connections: 1",
          "217 # of connections: 0",
          "218 # of connections: 0",
          "219 # of connections: 0",
          "220 # of connections: 1",
          "221 # of connections: 24",
          "222 # of connections: 1",
          "223 # of connections: 0",
          "224 # of connections: 7",
          "225 # of connections: 2",
          "226 # of connections: 0",
          "227 # of connections: 0",
          "228 # of connections: 1",
          "229 # of connections: 0",
          "230 # of connections: 0",
          "231 # of connections: 0",
          "232 # of connections: 0",
          "233 # of connections: 1",
          "234 # of connections: 1",
          "235 # of connections: 1",
          "236 # of connections: 4",
          "237 # of connections: 1",
          "238 # of connections: 1",
          "239 # of connections: 1",
          "240 # of connections: 1",
          "241 # of connections: 1",
          "242 # of connections: 1",
          "243 # of connections: 1",
          "244 # of connections: 1",
          "245 # of connections: 5",
          "246 # of connections: 0",
          "247 # of connections: 0",
          "248 # of connections: 1",
          "249 # of connections: 1",
          "250 # of connections: 4",
          "251 # of connections: 1",
          "252 # of connections: 5",
          "253 # of connections: 0",
          "254 # of connections: 1",
          "255 # of connections: 1",
          "256 # of connections: 1",
          "257 # of connections: 1",
          "258 # of connections: 0",
          "259 # of connections: 1",
          "260 # of connections: 1",
          "261 # of connections: 0",
          "262 # of connections: 1",
          "263 # of connections: 4",
          "264 # of connections: 1",
          "265 # of connections: 1",
          "266 # of connections: 1",
          "267 # of connections: 2",
          "268 # of connections: 1",
          "269 # of connections: 1",
          "270 # of connections: 1",
          "271 # of connections: 1",
          "272 # of connections: 1",
          "273 # of connections: 1",
          "274 # of connections: 0",
          "275 # of connections: 1",
          "276 # of connections: 1",
          "277 # of connections: 1",
          "278 # of connections: 1",
          "279 # of connections: 1",
          "280 # of connections: 1",
          "281 # of connections: 0",
          "282 # of connections: 1",
          "283 # of connections: 1",
          "284 # of connections: 1",
          "285 # of connections: 1",
          "286 # of connections: 1",
          "287 # of connections: 1",
          "288 # of connections: 1",
          "289 # of connections: 1",
          "290 # of connections: 0",
          "291 # of connections: 0",
          "292 # of connections: 0",
          "293 # of connections: 1",
          "294 # of connections: 0",
          "295 # of connections: 0",
          "296 # of connections: 0",
          "297 # of connections: 0",
          "298 # of connections: 1",
          "299 # of connections: 1",
          "300 # of connections: 1",
          "301 # of connections: 1",
          "302 # of connections: 1",
          "303 # of connections: 1",
          "304 # of connections: 2",
          "305 # of connections: 1",
          "306 # of connections: 4",
          "307 # of connections: 1",
          "308 # of connections: 1",
          "309 # of connections: 1",
          "310 # of connections: 1",
          "311 # of connections: 1",
          "312 # of connections: 1",
          "313 # of connections: 1",
          "314 # of connections: 0",
          "315 # of connections: 0",
          "316 # of connections: 1",
          "317 # of connections: 1",
          "318 # of connections: 1",
          "319 # of connections: 2",
          "320 # of connections: 1",
          "321 # of connections: 1",
          "322 # of connections: 1",
          "323 # of connections: 1",
          "324 # of connections: 1",
          "325 # of connections: 1",
          "326 # of connections: 1",
          "327 # of connections: 1",
          "328 # of connections: 0",
          "329 # of connections: 1",
          "330 # of connections: 1",
          "331 # of connections: 1",
          "332 # of connections: 1",
          "333 # of connections: 1",
          "334 # of connections: 1",
          "335 # of connections: 1",
          "336 # of connections: 1",
          "337 # of connections: 1",
          "338 # of connections: 1",
          "339 # of connections: 1",
          "340 # of connections: 1",
          "341 # of connections: 1",
          "342 # of connections: 1",
          "343 # of connections: 1",
          "344 # of connections: 1",
          "345 # of connections: 1",
          "346 # of connections: 1",
          "347 # of connections: 1",
          "348 # of connections: 1",
          "349 # of connections: 0",
          "350 # of connections: 1",
          "351 # of connections: 1",
          "352 # of connections: 1",
          "353 # of connections: 1",
          "354 # of connections: 0",
          "355 # of connections: 1",
          "356 # of connections: 1",
          "357 # of connections: 1",
          "358 # of connections: 1",
          "359 # of connections: 1",
          "360 # of connections: 1",
          "361 # of connections: 1",
          "362 # of connections: 4",
          "363 # of connections: 1",
          "364 # of connections: 1",
          "365 # of connections: 1",
          "366 # of connections: 1",
          "367 # of connections: 1",
          "368 # of connections: 1",
          "369 # of connections: 0",
          "370 # of connections: 2",
          "371 # of connections: 2",
          "372 # of connections: 1",
          "373 # of connections: 1",
          "374 # of connections: 1",
          "375 # of connections: 1",
          "376 # of connections: 1",
          "377 # of connections: 1",
          "378 # of connections: 1",
          "379 # of connections: 1",
          "380 # of connections: 3",
          "381 # of connections: 2",
          "382 # of connections: 2",
          "383 # of connections: 2",
          "384 # of connections: 1",
          "385 # of connections: 0",
          "386 # of connections: 0",
          "387 # of connections: 1",
          "388 # of connections: 1",
          "389 # of connections: 1",
          "390 # of connections: 1",
          "391 # of connections: 1",
          "392 # of connections: 1",
          "393 # of connections: 2",
          "394 # of connections: 1",
          "395 # of connections: 3",
          "396 # of connections: 1",
          "397 # of connections: 1",
          "398 # of connections: 1",
          "399 # of connections: 1",
          "400 # of connections: 1",
          "401 # of connections: 1",
          "402 # of connections: 1",
          "403 # of connections: 1",
          "404 # of connections: 1",
          "405 # of connections: 1",
          "406 # of connections: 1",
          "407 # of connections: 1",
          "408 # of connections: 1",
          "409 # of connections: 1",
          "410 # of connections: 1",
          "411 # of connections: 1",
          "412 # of connections: 0",
          "413 # of connections: 1",
          "414 # of connections: 0",
          "415 # of connections: 1",
          "416 # of connections: 1",
          "417 # of connections: 1",
          "418 # of connections: 1",
          "419 # of connections: 29",
          "420 # of connections: 1",
          "421 # of connections: 1",
          "422 # of connections: 1",
          "423 # of connections: 1",
          "424 # of connections: 1",
          "425 # of connections: 8",
          "426 # of connections: 1",
          "427 # of connections: 1",
          "428 # of connections: 1",
          "429 # of connections: 0",
          "430 # of connections: 1",
          "431 # of connections: 1",
          "432 # of connections: 3",
          "433 # of connections: 1",
          "434 # of connections: 1",
          "435 # of connections: 1",
          "436 # of connections: 1",
          "437 # of connections: 1",
          "438 # of connections: 1",
          "439 # of connections: 1",
          "440 # of connections: 1",
          "441 # of connections: 1",
          "442 # of connections: 0",
          "443 # of connections: 1",
          "444 # of connections: 1",
          "445 # of connections: 1",
          "446 # of connections: 1",
          "447 # of connections: 0",
          "448 # of connections: 1",
          "449 # of connections: 0",
          "450 # of connections: 0",
          "451 # of connections: 1",
          "452 # of connections: 0",
          "453 # of connections: 0",
          "454 # of connections: 0",
          "455 # of connections: 1",
          "456 # of connections: 2",
          "457 # of connections: 1",
          "458 # of connections: 1",
          "459 # of connections: 1",
          "460 # of connections: 1",
          "461 # of connections: 1",
          "462 # of connections: 1",
          "463 # of connections: 1",
          "464 # of connections: 1",
          "465 # of connections: 3",
          "466 # of connections: 0",
          "467 # of connections: 1",
          "468 # of connections: 1",
          "469 # of connections: 1",
          "470 # of connections: 1",
          "471 # of connections: 1",
          "472 # of connections: 1",
          "473 # of connections: 1",
          "474 # of connections: 1",
          "475 # of connections: 0",
          "476 # of connections: 1",
          "477 # of connections: 1",
          "478 # of connections: 1",
          "479 # of connections: 1",
          "480 # of connections: 1",
          "481 # of connections: 1",
          "482 # of connections: 1",
          "483 # of connections: 1",
          "484 # of connections: 1",
          "485 # of connections: 1",
          "486 # of connections: 1",
          "487 # of connections: 1",
          "488 # of connections: 0",
          "489 # of connections: 1",
          "490 # of connections: 1",
          "491 # of connections: 1",
          "492 # of connections: 1",
          "493 # of connections: 1",
          "494 # of connections: 1",
          "495 # of connections: 1",
          "496 # of connections: 1",
          "497 # of connections: 1",
          "498 # of connections: 1",
          "499 # of connections: 1",
          "500 # of connections: 1",
          "501 # of connections: 1",
          "502 # of connections: 1",
          "503 # of connections: 1",
          "504 # of connections: 0",
          "505 # of connections: 0",
          "506 # of connections: 0",
          "507 # of connections: 1",
          "508 # of connections: 1",
          "509 # of connections: 1",
          "510 # of connections: 1",
          "511 # of connections: 0",
          "512 # of connections: 1",
          "513 # of connections: 0",
          "514 # of connections: 0",
          "515 # of connections: 1",
          "516 # of connections: 1",
          "517 # of connections: 1",
          "518 # of connections: 1",
          "519 # of connections: 1",
          "520 # of connections: 1",
          "521 # of connections: 1",
          "522 # of connections: 1",
          "523 # of connections: 1",
          "43, # of connections: 1",
          "165 and # of connections: 2",
          "harma co # of connections: 11",
          "274 (ILI) # of connections: 1",
          "228 & 232 # of connections: 1",
          "167 and # of connections: 6",
          "89, # of connections: 1",
          "134 and # of connections: 1",
          "306 and # of connections: 1"
         ],
         "type": "scatter",
         "x": [
          0.7202456593513489,
          0.9111741185188293,
          0.006607594899833202,
          -0.6975527405738831,
          0.9315071105957031,
          0.10521985590457916,
          -0.2656039297580719,
          -0.8704290390014648,
          -0.033088091760873795,
          0.6971602439880371,
          0.9419135451316833,
          -0.04767165705561638,
          0.9261981844902039,
          -0.924737811088562,
          -0.12442590296268463,
          0.9278061389923096,
          -0.07428644597530365,
          0.8585180044174194,
          0.4514864683151245,
          -0.05078587308526039,
          -0.41817352175712585,
          0.20893558859825134,
          0.5015577673912048,
          0.9235139489173889,
          -0.7379844188690186,
          -0.9082167148590088,
          -0.8324727416038513,
          0.5650609135627747,
          -0.5888864398002625,
          -0.5338858366012573,
          0.7938072681427002,
          -0.7064148783683777,
          -0.9354478120803833,
          0.16917598247528076,
          0.97013258934021,
          0.8712084889411926,
          0.2295251041650772,
          0.48259663581848145,
          0.29157766699790955,
          0.9416559338569641,
          0.8922165632247925,
          -0.16346599161624908,
          -0.9511198401451111,
          0.9261031746864319,
          -0.031201176345348358,
          0.4459303319454193,
          0.8650612831115723,
          0.29425910115242004,
          0.2783988118171692,
          0.6514049172401428,
          0.6849320530891418,
          -0.13840235769748688,
          0.08979980647563934,
          0.8981989622116089,
          -0.5176335573196411,
          -0.940922200679779,
          -0.9591166973114014,
          0.10190776735544205,
          -0.7201499342918396,
          -0.1461534947156906,
          -0.5228509306907654,
          0.9765448570251465,
          -0.007952805608510971,
          -0.8165539503097534,
          0.8912209868431091,
          0.7028260827064514,
          0.532883882522583,
          -0.49033334851264954,
          0.978046715259552,
          0.9639871120452881,
          -0.18049348890781403,
          0.7913456559181213,
          0.1347063034772873,
          0.8714233636856079,
          -0.8376047611236572,
          0.23268719017505646,
          -0.20610566437244415,
          -0.5952889323234558,
          0.7460833787918091,
          -0.9598439335823059,
          -0.4080119729042053,
          0.906459391117096,
          -0.6032997965812683,
          -0.5267301201820374,
          0.3442978858947754,
          -0.129664346575737,
          -0.8373419642448425,
          -0.1060762107372284,
          0.8803092241287231,
          0.05960590019822121,
          -0.5076115131378174,
          -0.3860710561275482,
          -0.10425508767366409,
          0.5897516012191772,
          0.9483739733695984,
          0.8068779110908508,
          0.9482419490814209,
          0.09122614562511444,
          0.6989545226097107,
          -0.5765941143035889,
          0.4298085570335388,
          -0.7623639702796936,
          -0.6165843605995178,
          -0.7498387098312378,
          -0.9857999086380005,
          0.9181541800498962,
          0.8320721983909607,
          -0.12890955805778503,
          -0.18572813272476196,
          -0.6009076237678528,
          -0.5965171456336975,
          -0.5387045741081238,
          -0.25380322337150574,
          -0.7095776796340942,
          -0.9896035194396973,
          0.7687603831291199,
          0.7841315865516663,
          0.7453028559684753,
          -0.7986530661582947,
          -0.1701454222202301,
          0.42903536558151245,
          -0.40744614601135254,
          0.3952663540840149,
          0.5276617407798767,
          -0.08576299250125885,
          0.3210175037384033,
          -0.5593306422233582,
          0.002423661295324564,
          -0.7781674861907959,
          -0.6725000739097595,
          0.10089937597513199,
          0.2199929654598236,
          0.5695785284042358,
          -0.709592342376709,
          -0.01749555952847004,
          0.9045372605323792,
          -0.8623548150062561,
          -0.8884264826774597,
          -0.9593026638031006,
          -0.009982064366340637,
          0.30633744597435,
          0.2996301054954529,
          -0.9426706433296204,
          0.5667906999588013,
          0.1984611600637436,
          0.6571657061576843,
          0.608488142490387,
          0.3883843421936035,
          0.2477230280637741,
          0.7221955060958862,
          -0.16556958854198456,
          -0.13121743500232697,
          -0.9241392016410828,
          -0.10754916816949844,
          -0.2560409605503082,
          -0.6084334254264832,
          -0.8252854943275452,
          -0.5204768180847168,
          -0.3697068989276886,
          -0.37804776430130005,
          0.7504504323005676,
          0.9174264073371887,
          0.5392405986785889,
          -0.40439608693122864,
          -0.03819609060883522,
          0.5843534469604492,
          -0.06848704814910889,
          -0.511308491230011,
          -0.6186510324478149,
          0.9604502320289612,
          -0.6928322911262512,
          -0.6875482201576233,
          0.7909022569656372,
          -0.24488422274589539,
          0.35728445649147034,
          0.7342855930328369,
          -0.5565172433853149,
          0.9672399759292603,
          -0.08614800125360489,
          -0.98096764087677,
          1,
          0.5307630896568298,
          -0.902916431427002,
          -0.9472646713256836,
          -0.4441678524017334,
          0.26965048909187317,
          0.1403685361146927,
          -0.9317469596862793,
          0.05945797264575958,
          -0.8745056390762329,
          0.08976852148771286,
          -0.1426321268081665,
          -0.45840519666671753,
          -0.16439272463321686,
          0.41197124123573303,
          -0.22874467074871063,
          -0.20546887814998627,
          -0.8193268775939941,
          0.5683888792991638,
          0.9853180050849915,
          -0.34034284949302673,
          -0.33711814880371094,
          0.4379028081893921,
          -0.8955686688423157,
          0.15829022228717804,
          0.2265859842300415,
          -0.23143240809440613,
          0.40584275126457214,
          0.9670242667198181,
          -0.8968997597694397,
          0.4853382408618927,
          0.9115154147148132,
          -0.8383694291114807,
          -0.944466233253479,
          -0.5629287958145142,
          0.13064727187156677,
          -0.4404752850532532,
          0.4120953679084778,
          0.7003806233406067,
          -0.8289937376976013,
          -0.003837548429146409,
          -0.43737655878067017,
          0.20510590076446533,
          -0.3295881450176239,
          0.44528448581695557,
          0.7893235683441162,
          -0.8488712310791016,
          -0.04812207818031311,
          -0.7731707692146301,
          -0.8604244589805603,
          0.03816510736942291,
          -0.7452521920204163,
          -0.8360936045646667,
          -0.5001048445701599,
          -0.8439583778381348,
          0.20987604558467865,
          -0.8805865049362183,
          -0.7931814789772034,
          0.7232159376144409,
          0.36810532212257385,
          0.3253897428512573,
          0.8699818253517151,
          0.6290190815925598,
          0.9625608921051025,
          0.24284350872039795,
          0.9589473605155945,
          -0.6564882397651672,
          -0.3580951690673828,
          -0.02452435903251171,
          -0.9240307211875916,
          -0.9182862043380737,
          0.5570997595787048,
          0.9664856195449829,
          0.09544546902179718,
          -0.6862801313400269,
          -0.2107117623090744,
          -0.4580911695957184,
          0.8579965233802795,
          0.8015472292900085,
          0.8770692348480225,
          0.8343641757965088,
          -0.8335130214691162,
          -0.11139953881502151,
          -0.9693866968154907,
          -0.4709428548812866,
          0.7046706676483154,
          -0.32902389764785767,
          0.5192029476165771,
          -0.5594976544380188,
          -0.2561933696269989,
          -0.9104708433151245,
          0.4920410215854645,
          0.4567990303039551,
          -0.7367808222770691,
          0.9387608766555786,
          -0.8703979849815369,
          0.8001224398612976,
          0.6569032669067383,
          -0.8175757527351379,
          0.3785911202430725,
          0.9746010303497314,
          -0.056038420647382736,
          -0.5949733257293701,
          0.4933176338672638,
          0.7696290612220764,
          -0.9384810328483582,
          -0.873508632183075,
          -0.670558750629425,
          0.00024207057140301913,
          -0.8020434379577637,
          0.8163464665412903,
          0.635064959526062,
          0.5756076574325562,
          0.6530166268348694,
          0.38149523735046387,
          -0.5366745591163635,
          0.888278603553772,
          -0.40951114892959595,
          0.5137876868247986,
          -0.34499236941337585,
          0.9615252614021301,
          0.717049777507782,
          -0.8417734503746033,
          -0.05438459292054176,
          0.8958771228790283,
          0.053017571568489075,
          0.5974118113517761,
          0.15048550069332123,
          -0.8341368436813354,
          0.15580905973911285,
          -0.9148024916648865,
          -0.7374553680419922,
          0.351672887802124,
          -0.3066987693309784,
          -0.004971932154148817,
          -0.6082071661949158,
          -0.5006975531578064,
          -0.012858709320425987,
          0.7492698431015015,
          -0.3251749873161316,
          -0.5009531378746033,
          -0.6327723860740662,
          -0.1487739086151123,
          -0.40128010511398315,
          0.4796687066555023,
          0.5596701502799988,
          0.4105367362499237,
          0.9266983866691589,
          -0.9340690970420837,
          0.9963046908378601,
          0.528683066368103,
          0.725017249584198,
          0.4871984124183655,
          0.9413546919822693,
          -0.9735880494117737,
          0.8264212608337402,
          0.9858147501945496,
          -0.8242495656013489,
          -0.6505646705627441,
          -0.7812070846557617,
          0.7943755984306335,
          -0.7427819967269897,
          -0.7953250408172607,
          -0.8297581672668457,
          -0.22598156332969666,
          0.6375189423561096,
          0.7063018679618835,
          -0.22206956148147583,
          -0.5962092280387878,
          -0.7830944657325745,
          0.931352972984314,
          -0.16137835383415222,
          0.9281959533691406,
          0.9665006399154663,
          -0.9358107447624207,
          -0.10400892049074173,
          -0.7708719372749329,
          -0.42269566655158997,
          -0.43998751044273376,
          -0.3136785924434662,
          -0.8399465680122375,
          -0.17483384907245636,
          -0.9044989347457886,
          -0.9507787227630615,
          0.03421814739704132,
          -0.9231988787651062,
          -0.19102416932582855,
          0.9452127814292908,
          0.6202242970466614,
          0.4419771432876587,
          0.3685207962989807,
          -0.6454833149909973,
          -0.947462260723114,
          0.07989451289176941,
          0.4428938627243042,
          -0.8168922066688538,
          0.47439315915107727,
          -0.6309147477149963,
          0.3007148206233978,
          -0.5353227853775024,
          -0.044712211936712265,
          -0.7725215554237366,
          0.6081750988960266,
          0.26079609990119934,
          0.8700822591781616,
          0.9246047139167786,
          -0.9761112332344055,
          0.86927330493927,
          -0.07902669906616211,
          -0.3795420825481415,
          0.7843055129051208,
          0.7868467569351196,
          0.051264438778162,
          -0.29062068462371826,
          -0.055882442742586136,
          0.7021610736846924,
          -0.9703941345214844,
          0.3022667467594147,
          0.6941726803779602,
          0.07351787388324738,
          -0.47627612948417664,
          -0.8899564146995544,
          0.8855562210083008,
          -0.26595649123191833,
          0.5234715342521667,
          0.9694815278053284,
          0.6928885579109192,
          0.7980404496192932,
          -0.8176193237304688,
          -0.8129793405532837,
          0.4986223578453064,
          -0.4394671320915222,
          0.7737036347389221,
          -0.4697781503200531,
          -0.8199805617332458,
          -0.5799421072006226,
          0.4505942165851593,
          0.9037320613861084,
          0.06263890862464905,
          -0.26713287830352783,
          0.15142688155174255,
          0.3183906674385071,
          0.11111017316579819,
          0.02598164603114128,
          -0.024674272164702415,
          0.32824382185935974,
          0.8580564856529236,
          -0.9569941759109497,
          0.747734546661377,
          0.4109988510608673,
          -0.34968113899230957,
          -0.0101021071895957,
          -0.326058030128479,
          -0.2810697555541992,
          0.5764903426170349,
          0.23391082882881165,
          0.901270866394043,
          0.8192911744117737,
          -0.964333176612854,
          0.621683657169342,
          -0.2768614590167999,
          -0.6435988545417786,
          0.23764318227767944,
          0.0934317409992218,
          0.8920977115631104,
          -0.6420021057128906,
          0.010727237910032272,
          0.021757563576102257,
          -0.15386977791786194,
          0.8068811297416687,
          -0.9748409986495972,
          -0.6333104372024536,
          -0.8827155828475952,
          0.1277550607919693,
          -0.7359437346458435,
          0.5700810551643372,
          -0.7568097710609436,
          -0.6773235201835632,
          -0.2917684316635132,
          -0.8162747621536255,
          0.13034628331661224,
          -0.19167953729629517,
          0.8240787386894226,
          -0.9509589672088623,
          -0.364332377910614,
          -0.7748625874519348,
          -0.6941506862640381,
          0.29159560799598694,
          0.04690678417682648,
          0.6969389319419861,
          0.9414796829223633,
          0.48595288395881653,
          -0.5972945690155029,
          0.735970675945282,
          0.25606656074523926,
          -0.7396907806396484,
          0.22347594797611237,
          0.44950175285339355,
          0.02106235735118389,
          0.7112368941307068,
          0.09386619180440903,
          -0.2480621635913849,
          0.8504736423492432,
          -0.050840847194194794,
          0.6598016619682312,
          0.18443778157234192,
          -0.44039052724838257,
          0.4868820607662201,
          -0.8437702059745789,
          -0.9497851729393005,
          0.836259126663208,
          0.4177316427230835,
          -0.19402775168418884,
          0.5588876605033875,
          -0.3636280298233032,
          0.1565539538860321,
          -0.9324700236320496,
          0.5610890984535217,
          -0.8711161613464355,
          -0.45052358508110046,
          -0.25727221369743347,
          -0.3589245080947876,
          0.9119389057159424,
          0.6263093948364258,
          -0.9214146733283997,
          -0.40401893854141235,
          0.7531061172485352,
          0.4420906603336334,
          0.37965354323387146,
          -0.8991209268569946,
          -0.3236849308013916,
          -0.07446381449699402,
          0.601830780506134,
          -0.9608051180839539,
          -0.5522921681404114,
          -0.614904522895813,
          -0.6027337312698364,
          0.5235314965248108,
          0.31515827775001526,
          -0.5073029398918152,
          -0.832617998123169,
          -0.30051881074905396,
          0.8280883431434631,
          0.06097819656133652,
          -0.6306312084197998,
          -0.2544281482696533,
          0.9329724311828613,
          -0.028941525146365166,
          0.043081652373075485,
          0.2788791358470917,
          0.151764377951622,
          0.3364643454551697
         ],
         "y": [
          0.7135935425758362,
          0.40402039885520935,
          0.7704638838768005,
          0.7716671228408813,
          0.03708958253264427,
          0.07781153917312622,
          -0.3799995481967926,
          0.3467651307582855,
          0.7258843183517456,
          0.6712356805801392,
          0.10687064379453659,
          0.8477333784103394,
          0.2847557067871094,
          0.12162008881568909,
          -0.8587909936904907,
          -0.16954417526721954,
          0.3753740191459656,
          0.18174897134304047,
          0.4647713899612427,
          -0.9754228591918945,
          0.808920681476593,
          0.8732708096504211,
          0.7540173530578613,
          0.4293842911720276,
          0.34918472170829773,
          -0.1201772391796112,
          -0.47495222091674805,
          -0.7394497990608215,
          0.6707063317298889,
          0.7936641573905945,
          -0.5384770631790161,
          0.7063746452331543,
          0.17460320889949799,
          -0.9581834673881531,
          0.07413896173238754,
          -0.4117618203163147,
          -0.9222078919410706,
          -0.7893796563148499,
          -0.9342745542526245,
          0.07273822277784348,
          0.2058248370885849,
          0.08691184967756271,
          0.06125910207629204,
          0.27829453349113464,
          0.9368270039558411,
          -0.8463729023933411,
          -0.29626160860061646,
          0.8792334794998169,
          -0.048570916056632996,
          0.7840463519096375,
          0.5051636099815369,
          -0.1606511026620865,
          0.9645217061042786,
          -0.3689383268356323,
          -0.2070411890745163,
          -0.009321784600615501,
          -0.0005878705997020006,
          -0.9544535875320435,
          0.6575021743774414,
          0.6658103466033936,
          0.8876447081565857,
          0.13421742618083954,
          -0.9694480299949646,
          0.33781975507736206,
          0.5260014533996582,
          -0.7840913534164429,
          -0.7472968101501465,
          -0.8271849155426025,
          0.11600178480148315,
          0.23784524202346802,
          0.9519104957580566,
          0.5834927558898926,
          0.9441224932670593,
          -0.21296539902687073,
          0.5299904942512512,
          0.19140365719795227,
          -0.6244240999221802,
          0.8421242237091064,
          -0.7035667300224304,
          -0.2367648035287857,
          -0.9350342154502869,
          -0.10521799325942993,
          0.7976229786872864,
          -0.21423929929733276,
          -0.9194179177284241,
          0.9312642812728882,
          0.47457271814346313,
          0.08992867916822433,
          -0.399054616689682,
          -0.9016580581665039,
          -0.7448912858963013,
          -0.02763937972486019,
          0.9816249012947083,
          -0.38453224301338196,
          -0.37707430124282837,
          -0.34437480568885803,
          0.241927832365036,
          -0.9949914813041687,
          0.5013023614883423,
          0.8339540958404541,
          0.035290200263261795,
          0.46483710408210754,
          -0.34506621956825256,
          -0.5529019236564636,
          0.05022889003157616,
          -0.029300298541784286,
          0.5828936100006104,
          -0.9912930727005005,
          -0.9122942686080933,
          -0.6554691195487976,
          0.17089144885540009,
          0.08626388758420944,
          -0.9420070052146912,
          -0.7457273006439209,
          -0.025155331939458847,
          -0.7326499819755554,
          0.6968613862991333,
          -0.6205664277076721,
          -0.6644148826599121,
          -0.9853600263595581,
          -0.7889918684959412,
          0.1203792467713356,
          0.9006908535957336,
          0.7388328313827515,
          0.17039096355438232,
          -0.8747367262840271,
          -0.3415874242782593,
          0.08344916254281998,
          -0.6222474575042725,
          -0.5344687700271606,
          0.5952829122543335,
          -0.9539861083030701,
          -0.8636431694030762,
          -0.6053113341331482,
          0.9593341946601868,
          -0.14817412197589874,
          0.43269145488739014,
          0.3200821876525879,
          0.26958537101745605,
          -0.3499809801578522,
          0.16740025579929352,
          0.8363591432571411,
          0.08935151249170303,
          0.8320722579956055,
          -0.92181396484375,
          -0.8133950233459473,
          -0.8459094166755676,
          0.8121821284294128,
          -0.33922797441482544,
          -0.6489457488059998,
          0.9164150357246399,
          0.8816044926643372,
          0.21381501853466034,
          -0.6759390830993652,
          -0.895014762878418,
          -0.7463586330413818,
          -0.5921176671981812,
          -0.6850066781044006,
          -0.23476848006248474,
          0.8139780163764954,
          0.6552286744117737,
          0.37852445244789124,
          0.7617669701576233,
          0.6659910678863525,
          -0.2431313544511795,
          0.818384051322937,
          -0.7126516699790955,
          -0.8836455345153809,
          0.7386244535446167,
          -0.26069381833076477,
          -0.5551679730415344,
          0.5733055472373962,
          0.5573170185089111,
          0.9335246682167053,
          -0.3038541376590729,
          0.6632936596870422,
          -0.3730817437171936,
          0.14803098142147064,
          0.15619249641895294,
          -0.0717138722538948,
          -0.0068654888309538364,
          0.8624939918518066,
          0.39465925097465515,
          0.3152606189250946,
          0.8665866851806641,
          -0.20096546411514282,
          -0.9147820472717285,
          0.3370373249053955,
          -0.9613789319992065,
          0.5492229461669922,
          -0.9508981108665466,
          -0.9403132200241089,
          0.6913384199142456,
          0.7719442844390869,
          0.9152437448501587,
          0.7789177894592285,
          0.9040656089782715,
          -0.3185006082057953,
          -0.6952002048492432,
          0.2048737108707428,
          -0.7963201403617859,
          0.8410807251930237,
          -0.8971375226974487,
          0.29077064990997314,
          0.014541372656822205,
          0.2948315441608429,
          0.6887803077697754,
          0.9013155698776245,
          0.03565564006567001,
          -0.4889543354511261,
          0.03511406108736992,
          0.48384571075439453,
          0.5905266404151917,
          -0.2071099430322647,
          -0.7462155222892761,
          0.49468663334846497,
          -0.841813325881958,
          -0.8790491223335266,
          -0.6770142912864685,
          0.5999070405960083,
          0.13321542739868164,
          -0.8806601166725159,
          0.9174690246582031,
          -0.102080337703228,
          -0.15795637667179108,
          0.497763991355896,
          -0.1681230664253235,
          -0.8752857446670532,
          -0.5668654441833496,
          -0.3947402238845825,
          0.9347257614135742,
          -0.442013144493103,
          0.5182402729988098,
          0.7785999774932861,
          0.028656676411628723,
          0.32022222876548767,
          0.2220863550901413,
          0.6160765886306763,
          0.589735209941864,
          0.8313666582107544,
          -0.929223358631134,
          -0.5305158495903015,
          -0.7906134724617004,
          -0.1151750311255455,
          0.42334455251693726,
          -0.33066579699516296,
          0.7725434899330139,
          -0.8839781880378723,
          -0.009058517403900623,
          -0.34645214676856995,
          -0.3619365394115448,
          -0.1919899731874466,
          -0.2227604240179062,
          -0.9558602571487427,
          -0.6660017967224121,
          -0.14253276586532593,
          0.884232759475708,
          -0.5029271245002747,
          -0.5794621706008911,
          0.14469662308692932,
          -0.6296570897102356,
          -0.15067540109157562,
          -0.4995439350605011,
          0.1934458166360855,
          -0.7760495543479919,
          -0.5225250720977783,
          -0.5636348128318787,
          0.6268160343170166,
          -0.8336856961250305,
          0.9582127928733826,
          -0.21485741436481476,
          -0.8332555294036865,
          -0.19549940526485443,
          0.6877731084823608,
          0.2896632254123688,
          -0.2936323583126068,
          -0.45854705572128296,
          0.746012270450592,
          0.5363789200782776,
          -0.5261430144309998,
          -0.026862693950533867,
          -0.4239729940891266,
          0.7585079669952393,
          -0.6584854125976562,
          0.08039432018995285,
          0.24009478092193604,
          -0.36261501908302307,
          -0.76528400182724,
          -0.9521731734275818,
          -0.39663347601890564,
          0.5468708276748657,
          0.6269283890724182,
          -0.29975518584251404,
          -0.7221637964248657,
          -0.9086061120033264,
          0.69603031873703,
          -0.3363907039165497,
          0.9174963235855103,
          0.5064179301261902,
          0.8330984711647034,
          -0.12642505764961243,
          0.5934990048408508,
          0.4527384638786316,
          0.5252960920333862,
          0.17186033725738525,
          0.4497954845428467,
          -0.7991726994514465,
          0.8745320439338684,
          0.14332178235054016,
          -0.5051068663597107,
          -0.3095915615558624,
          -0.7176967859268188,
          0.9177916049957275,
          -0.9325715899467468,
          -0.8905441164970398,
          0.7551671266555786,
          0.8774489760398865,
          0.801652193069458,
          0.26827406883239746,
          -0.8849064707756042,
          -0.8251132965087891,
          0.18482911586761475,
          -0.9193057417869568,
          -0.7485938668251038,
          -0.6198591589927673,
          0.528346598148346,
          -0.9286451935768127,
          -0.44478639960289,
          0.047259483486413956,
          -0.08007217198610306,
          0.0489729680120945,
          -0.46784189343452454,
          0.8419066667556763,
          -0.2977204918861389,
          0.17545534670352936,
          0.3956092298030853,
          -0.04803551733493805,
          -0.21927344799041748,
          -0.6627877950668335,
          -0.6297513246536255,
          -0.6936317086219788,
          0.5292624235153198,
          0.6731875538825989,
          0.05902831628918648,
          -0.9196503758430481,
          -0.6913418173789978,
          -0.7658354043960571,
          -0.8883023858070374,
          0.6013723015785217,
          0.47598278522491455,
          -0.2434825450181961,
          0.9795806407928467,
          -0.33912914991378784,
          0.28161948919296265,
          -0.26518556475639343,
          -0.9262012839317322,
          -0.08599766343832016,
          -0.8727415800094604,
          0.7692625522613525,
          0.9269452691078186,
          0.44096639752388,
          -0.10410965234041214,
          0.3872152268886566,
          -0.2716728746891022,
          0.7315433025360107,
          -0.09338149428367615,
          -0.9852094054222107,
          -0.20762905478477478,
          0.7652810215950012,
          0.7478535175323486,
          0.8923958539962769,
          -0.34472957253456116,
          -0.19379836320877075,
          0.9137572646141052,
          -0.31548696756362915,
          -0.5463424921035767,
          -0.8434284925460815,
          -0.6511266231536865,
          -0.796705424785614,
          -0.2651652693748474,
          0.902400553226471,
          0.6340886950492859,
          -0.19054673612117767,
          -0.9093483090400696,
          0.42249399423599243,
          -0.27556222677230835,
          0.013573147356510162,
          0.49329808354377747,
          -0.9416612386703491,
          -0.8792402148246765,
          0.5947518944740295,
          -0.6067479252815247,
          -0.35383936762809753,
          0.1513785719871521,
          0.2342299371957779,
          0.5444051623344421,
          -0.13927550613880157,
          0.9514675736427307,
          0.18405857682228088,
          -0.9570963382720947,
          -0.8408784866333008,
          -0.4108595848083496,
          -0.07726505398750305,
          -0.46823233366012573,
          -0.8160094022750854,
          -0.161860853433609,
          0.7939321994781494,
          0.3363316059112549,
          0.3538956344127655,
          0.6022825241088867,
          0.1423795521259308,
          -0.7248433828353882,
          -0.5765904188156128,
          0.79920494556427,
          -0.37329694628715515,
          -0.7120854258537292,
          0.30137142539024353,
          0.22166763246059418,
          0.06740422546863556,
          0.8888493180274963,
          -0.8640244007110596,
          0.8533374071121216,
          0.3149981200695038,
          -0.651216447353363,
          0.09207260608673096,
          0.9099013209342957,
          -0.2532268762588501,
          -0.3032466471195221,
          -0.48162445425987244,
          0.8542214035987854,
          -0.2770848870277405,
          -0.8946882486343384,
          -0.722808301448822,
          -0.913665771484375,
          0.6216534376144409,
          0.7712020874023438,
          0.34344300627708435,
          -0.4122093617916107,
          0.11200851947069168,
          -0.7187685966491699,
          0.9649187326431274,
          0.6069783568382263,
          0.9240074753761292,
          0.320209801197052,
          -0.4827387034893036,
          0.473257839679718,
          -0.9849797487258911,
          -0.11585813760757446,
          0.9527562856674194,
          0.4403044581413269,
          -0.11322114616632462,
          -0.8115658760070801,
          -0.46183738112449646,
          -0.8688210248947144,
          0.552924633026123,
          -0.8496510982513428,
          0.516595721244812,
          0.7369962930679321,
          0.9404286742210388,
          -0.560073733329773,
          0.8409655690193176,
          0.789924144744873,
          0.5326566100120544,
          0.2990483045578003,
          -0.4453122019767761,
          0.6235781908035278,
          -0.36485323309898376,
          -0.8081496357917786,
          -0.979330837726593,
          0.7278947830200195,
          0.002964071463793516,
          -0.88998943567276,
          -0.7888756990432739,
          0.5636038780212402,
          -0.9280485510826111,
          -0.014976316131651402,
          0.9635811448097229,
          0.8386286497116089,
          0.9534153938293457,
          -0.7117044925689697,
          0.9164079427719116,
          -0.765014111995697,
          0.30515599250793457,
          0.9670787453651428,
          0.3692215383052826,
          0.9401088953018188,
          -0.9084618091583252,
          0.8192542791366577,
          -0.4680541455745697,
          0.14379018545150757,
          0.00838786456733942,
          0.7739713191986084,
          -0.9519267678260803,
          0.7320975661277771,
          -0.9487247467041016,
          0.9449055194854736,
          -0.01824488863348961,
          -0.28619930148124695,
          -0.272034615278244,
          0.049778468906879425,
          -0.22069232165813446,
          0.9326463341712952,
          -0.51216059923172,
          0.8370234966278076,
          -0.40220433473587036,
          0.9031046628952026,
          -0.19064851105213165,
          0.08007541298866272,
          -0.8816632628440857,
          0.26613813638687134,
          -0.9543834328651428,
          0.9513211250305176,
          -0.6322407126426697,
          0.2291625589132309,
          0.8677918910980225,
          0.001823719241656363,
          -0.8240651488304138,
          0.8124417662620544,
          -0.9146090745925903,
          0.8407824039459229,
          0.42600247263908386,
          0.8290010094642639,
          0.5217565894126892,
          0.9505009055137634,
          -0.7104676365852356,
          -0.11059761792421341,
          -0.38310250639915466,
          -0.9655225872993469,
          0.33693045377731323,
          0.8765463829040527,
          -0.12135067582130432,
          0.9108456969261169
         ]
        }
       ],
       "layout": {
        "annotations": [
         {
          "showarrow": false,
          "text": "No. of contacts made",
          "xref": "paper",
          "yref": "paper"
         }
        ],
        "hovermode": "closest",
        "margin": {
         "b": 20,
         "l": 5,
         "r": 5,
         "t": 40
        },
        "showlegend": false,
        "template": {
         "data": {
          "bar": [
           {
            "error_x": {
             "color": "#2a3f5f"
            },
            "error_y": {
             "color": "#2a3f5f"
            },
            "marker": {
             "line": {
              "color": "#E5ECF6",
              "width": 0.5
             }
            },
            "type": "bar"
           }
          ],
          "barpolar": [
           {
            "marker": {
             "line": {
              "color": "#E5ECF6",
              "width": 0.5
             }
            },
            "type": "barpolar"
           }
          ],
          "carpet": [
           {
            "aaxis": {
             "endlinecolor": "#2a3f5f",
             "gridcolor": "white",
             "linecolor": "white",
             "minorgridcolor": "white",
             "startlinecolor": "#2a3f5f"
            },
            "baxis": {
             "endlinecolor": "#2a3f5f",
             "gridcolor": "white",
             "linecolor": "white",
             "minorgridcolor": "white",
             "startlinecolor": "#2a3f5f"
            },
            "type": "carpet"
           }
          ],
          "choropleth": [
           {
            "colorbar": {
             "outlinewidth": 0,
             "ticks": ""
            },
            "type": "choropleth"
           }
          ],
          "contour": [
           {
            "colorbar": {
             "outlinewidth": 0,
             "ticks": ""
            },
            "colorscale": [
             [
              0,
              "#0d0887"
             ],
             [
              0.1111111111111111,
              "#46039f"
             ],
             [
              0.2222222222222222,
              "#7201a8"
             ],
             [
              0.3333333333333333,
              "#9c179e"
             ],
             [
              0.4444444444444444,
              "#bd3786"
             ],
             [
              0.5555555555555556,
              "#d8576b"
             ],
             [
              0.6666666666666666,
              "#ed7953"
             ],
             [
              0.7777777777777778,
              "#fb9f3a"
             ],
             [
              0.8888888888888888,
              "#fdca26"
             ],
             [
              1,
              "#f0f921"
             ]
            ],
            "type": "contour"
           }
          ],
          "contourcarpet": [
           {
            "colorbar": {
             "outlinewidth": 0,
             "ticks": ""
            },
            "type": "contourcarpet"
           }
          ],
          "heatmap": [
           {
            "colorbar": {
             "outlinewidth": 0,
             "ticks": ""
            },
            "colorscale": [
             [
              0,
              "#0d0887"
             ],
             [
              0.1111111111111111,
              "#46039f"
             ],
             [
              0.2222222222222222,
              "#7201a8"
             ],
             [
              0.3333333333333333,
              "#9c179e"
             ],
             [
              0.4444444444444444,
              "#bd3786"
             ],
             [
              0.5555555555555556,
              "#d8576b"
             ],
             [
              0.6666666666666666,
              "#ed7953"
             ],
             [
              0.7777777777777778,
              "#fb9f3a"
             ],
             [
              0.8888888888888888,
              "#fdca26"
             ],
             [
              1,
              "#f0f921"
             ]
            ],
            "type": "heatmap"
           }
          ],
          "heatmapgl": [
           {
            "colorbar": {
             "outlinewidth": 0,
             "ticks": ""
            },
            "colorscale": [
             [
              0,
              "#0d0887"
             ],
             [
              0.1111111111111111,
              "#46039f"
             ],
             [
              0.2222222222222222,
              "#7201a8"
             ],
             [
              0.3333333333333333,
              "#9c179e"
             ],
             [
              0.4444444444444444,
              "#bd3786"
             ],
             [
              0.5555555555555556,
              "#d8576b"
             ],
             [
              0.6666666666666666,
              "#ed7953"
             ],
             [
              0.7777777777777778,
              "#fb9f3a"
             ],
             [
              0.8888888888888888,
              "#fdca26"
             ],
             [
              1,
              "#f0f921"
             ]
            ],
            "type": "heatmapgl"
           }
          ],
          "histogram": [
           {
            "marker": {
             "colorbar": {
              "outlinewidth": 0,
              "ticks": ""
             }
            },
            "type": "histogram"
           }
          ],
          "histogram2d": [
           {
            "colorbar": {
             "outlinewidth": 0,
             "ticks": ""
            },
            "colorscale": [
             [
              0,
              "#0d0887"
             ],
             [
              0.1111111111111111,
              "#46039f"
             ],
             [
              0.2222222222222222,
              "#7201a8"
             ],
             [
              0.3333333333333333,
              "#9c179e"
             ],
             [
              0.4444444444444444,
              "#bd3786"
             ],
             [
              0.5555555555555556,
              "#d8576b"
             ],
             [
              0.6666666666666666,
              "#ed7953"
             ],
             [
              0.7777777777777778,
              "#fb9f3a"
             ],
             [
              0.8888888888888888,
              "#fdca26"
             ],
             [
              1,
              "#f0f921"
             ]
            ],
            "type": "histogram2d"
           }
          ],
          "histogram2dcontour": [
           {
            "colorbar": {
             "outlinewidth": 0,
             "ticks": ""
            },
            "colorscale": [
             [
              0,
              "#0d0887"
             ],
             [
              0.1111111111111111,
              "#46039f"
             ],
             [
              0.2222222222222222,
              "#7201a8"
             ],
             [
              0.3333333333333333,
              "#9c179e"
             ],
             [
              0.4444444444444444,
              "#bd3786"
             ],
             [
              0.5555555555555556,
              "#d8576b"
             ],
             [
              0.6666666666666666,
              "#ed7953"
             ],
             [
              0.7777777777777778,
              "#fb9f3a"
             ],
             [
              0.8888888888888888,
              "#fdca26"
             ],
             [
              1,
              "#f0f921"
             ]
            ],
            "type": "histogram2dcontour"
           }
          ],
          "mesh3d": [
           {
            "colorbar": {
             "outlinewidth": 0,
             "ticks": ""
            },
            "type": "mesh3d"
           }
          ],
          "parcoords": [
           {
            "line": {
             "colorbar": {
              "outlinewidth": 0,
              "ticks": ""
             }
            },
            "type": "parcoords"
           }
          ],
          "pie": [
           {
            "automargin": true,
            "type": "pie"
           }
          ],
          "scatter": [
           {
            "marker": {
             "colorbar": {
              "outlinewidth": 0,
              "ticks": ""
             }
            },
            "type": "scatter"
           }
          ],
          "scatter3d": [
           {
            "line": {
             "colorbar": {
              "outlinewidth": 0,
              "ticks": ""
             }
            },
            "marker": {
             "colorbar": {
              "outlinewidth": 0,
              "ticks": ""
             }
            },
            "type": "scatter3d"
           }
          ],
          "scattercarpet": [
           {
            "marker": {
             "colorbar": {
              "outlinewidth": 0,
              "ticks": ""
             }
            },
            "type": "scattercarpet"
           }
          ],
          "scattergeo": [
           {
            "marker": {
             "colorbar": {
              "outlinewidth": 0,
              "ticks": ""
             }
            },
            "type": "scattergeo"
           }
          ],
          "scattergl": [
           {
            "marker": {
             "colorbar": {
              "outlinewidth": 0,
              "ticks": ""
             }
            },
            "type": "scattergl"
           }
          ],
          "scattermapbox": [
           {
            "marker": {
             "colorbar": {
              "outlinewidth": 0,
              "ticks": ""
             }
            },
            "type": "scattermapbox"
           }
          ],
          "scatterpolar": [
           {
            "marker": {
             "colorbar": {
              "outlinewidth": 0,
              "ticks": ""
             }
            },
            "type": "scatterpolar"
           }
          ],
          "scatterpolargl": [
           {
            "marker": {
             "colorbar": {
              "outlinewidth": 0,
              "ticks": ""
             }
            },
            "type": "scatterpolargl"
           }
          ],
          "scatterternary": [
           {
            "marker": {
             "colorbar": {
              "outlinewidth": 0,
              "ticks": ""
             }
            },
            "type": "scatterternary"
           }
          ],
          "surface": [
           {
            "colorbar": {
             "outlinewidth": 0,
             "ticks": ""
            },
            "colorscale": [
             [
              0,
              "#0d0887"
             ],
             [
              0.1111111111111111,
              "#46039f"
             ],
             [
              0.2222222222222222,
              "#7201a8"
             ],
             [
              0.3333333333333333,
              "#9c179e"
             ],
             [
              0.4444444444444444,
              "#bd3786"
             ],
             [
              0.5555555555555556,
              "#d8576b"
             ],
             [
              0.6666666666666666,
              "#ed7953"
             ],
             [
              0.7777777777777778,
              "#fb9f3a"
             ],
             [
              0.8888888888888888,
              "#fdca26"
             ],
             [
              1,
              "#f0f921"
             ]
            ],
            "type": "surface"
           }
          ],
          "table": [
           {
            "cells": {
             "fill": {
              "color": "#EBF0F8"
             },
             "line": {
              "color": "white"
             }
            },
            "header": {
             "fill": {
              "color": "#C8D4E3"
             },
             "line": {
              "color": "white"
             }
            },
            "type": "table"
           }
          ]
         },
         "layout": {
          "annotationdefaults": {
           "arrowcolor": "#2a3f5f",
           "arrowhead": 0,
           "arrowwidth": 1
          },
          "coloraxis": {
           "colorbar": {
            "outlinewidth": 0,
            "ticks": ""
           }
          },
          "colorscale": {
           "diverging": [
            [
             0,
             "#8e0152"
            ],
            [
             0.1,
             "#c51b7d"
            ],
            [
             0.2,
             "#de77ae"
            ],
            [
             0.3,
             "#f1b6da"
            ],
            [
             0.4,
             "#fde0ef"
            ],
            [
             0.5,
             "#f7f7f7"
            ],
            [
             0.6,
             "#e6f5d0"
            ],
            [
             0.7,
             "#b8e186"
            ],
            [
             0.8,
             "#7fbc41"
            ],
            [
             0.9,
             "#4d9221"
            ],
            [
             1,
             "#276419"
            ]
           ],
           "sequential": [
            [
             0,
             "#0d0887"
            ],
            [
             0.1111111111111111,
             "#46039f"
            ],
            [
             0.2222222222222222,
             "#7201a8"
            ],
            [
             0.3333333333333333,
             "#9c179e"
            ],
            [
             0.4444444444444444,
             "#bd3786"
            ],
            [
             0.5555555555555556,
             "#d8576b"
            ],
            [
             0.6666666666666666,
             "#ed7953"
            ],
            [
             0.7777777777777778,
             "#fb9f3a"
            ],
            [
             0.8888888888888888,
             "#fdca26"
            ],
            [
             1,
             "#f0f921"
            ]
           ],
           "sequentialminus": [
            [
             0,
             "#0d0887"
            ],
            [
             0.1111111111111111,
             "#46039f"
            ],
            [
             0.2222222222222222,
             "#7201a8"
            ],
            [
             0.3333333333333333,
             "#9c179e"
            ],
            [
             0.4444444444444444,
             "#bd3786"
            ],
            [
             0.5555555555555556,
             "#d8576b"
            ],
            [
             0.6666666666666666,
             "#ed7953"
            ],
            [
             0.7777777777777778,
             "#fb9f3a"
            ],
            [
             0.8888888888888888,
             "#fdca26"
            ],
            [
             1,
             "#f0f921"
            ]
           ]
          },
          "colorway": [
           "#636efa",
           "#EF553B",
           "#00cc96",
           "#ab63fa",
           "#FFA15A",
           "#19d3f3",
           "#FF6692",
           "#B6E880",
           "#FF97FF",
           "#FECB52"
          ],
          "font": {
           "color": "#2a3f5f"
          },
          "geo": {
           "bgcolor": "white",
           "lakecolor": "white",
           "landcolor": "#E5ECF6",
           "showlakes": true,
           "showland": true,
           "subunitcolor": "white"
          },
          "hoverlabel": {
           "align": "left"
          },
          "hovermode": "closest",
          "mapbox": {
           "style": "light"
          },
          "paper_bgcolor": "white",
          "plot_bgcolor": "#E5ECF6",
          "polar": {
           "angularaxis": {
            "gridcolor": "white",
            "linecolor": "white",
            "ticks": ""
           },
           "bgcolor": "#E5ECF6",
           "radialaxis": {
            "gridcolor": "white",
            "linecolor": "white",
            "ticks": ""
           }
          },
          "scene": {
           "xaxis": {
            "backgroundcolor": "#E5ECF6",
            "gridcolor": "white",
            "gridwidth": 2,
            "linecolor": "white",
            "showbackground": true,
            "ticks": "",
            "zerolinecolor": "white"
           },
           "yaxis": {
            "backgroundcolor": "#E5ECF6",
            "gridcolor": "white",
            "gridwidth": 2,
            "linecolor": "white",
            "showbackground": true,
            "ticks": "",
            "zerolinecolor": "white"
           },
           "zaxis": {
            "backgroundcolor": "#E5ECF6",
            "gridcolor": "white",
            "gridwidth": 2,
            "linecolor": "white",
            "showbackground": true,
            "ticks": "",
            "zerolinecolor": "white"
           }
          },
          "shapedefaults": {
           "line": {
            "color": "#2a3f5f"
           }
          },
          "ternary": {
           "aaxis": {
            "gridcolor": "white",
            "linecolor": "white",
            "ticks": ""
           },
           "baxis": {
            "gridcolor": "white",
            "linecolor": "white",
            "ticks": ""
           },
           "bgcolor": "#E5ECF6",
           "caxis": {
            "gridcolor": "white",
            "linecolor": "white",
            "ticks": ""
           }
          },
          "title": {
           "x": 0.05
          },
          "xaxis": {
           "automargin": true,
           "gridcolor": "white",
           "linecolor": "white",
           "ticks": "",
           "title": {
            "standoff": 15
           },
           "zerolinecolor": "white",
           "zerolinewidth": 2
          },
          "yaxis": {
           "automargin": true,
           "gridcolor": "white",
           "linecolor": "white",
           "ticks": "",
           "title": {
            "standoff": 15
           },
           "zerolinecolor": "white",
           "zerolinewidth": 2
          }
         }
        },
        "title": {
         "font": {
          "size": 16
         },
         "text": "<br>Karnataka Person to Person Network Tracing"
        },
        "xaxis": {
         "showgrid": false,
         "showticklabels": false,
         "zeroline": false
        },
        "yaxis": {
         "showgrid": false,
         "showticklabels": false,
         "zeroline": false
        }
       }
      },
      "text/html": [
       "<div>\n",
       "        \n",
       "        \n",
       "            <div id=\"ea1dd9be-28de-498e-b72f-878cffdeb71f\" class=\"plotly-graph-div\" style=\"height:525px; width:100%;\"></div>\n",
       "            <script type=\"text/javascript\">\n",
       "                require([\"plotly\"], function(Plotly) {\n",
       "                    window.PLOTLYENV=window.PLOTLYENV || {};\n",
       "                    \n",
       "                if (document.getElementById(\"ea1dd9be-28de-498e-b72f-878cffdeb71f\")) {\n",
       "                    Plotly.newPlot(\n",
       "                        'ea1dd9be-28de-498e-b72f-878cffdeb71f',\n",
       "                        [{\"hoverinfo\": \"none\", \"line\": {\"color\": \"#888\", \"width\": 0.5}, \"mode\": \"lines\", \"type\": \"scatter\", \"x\": [0.7202456593513489, 0.9111741185188293, null, 0.7202456593513489, 0.006607594899833202, null, 0.10521985590457916, -0.2656039297580719, null, 0.10521985590457916, -0.033088091760873795, null, -0.033088091760873795, 0.6989545226097107, null, 0.9419135451316833, 0.9278061389923096, null, 0.9261981844902039, 0.48259663581848145, null, -0.07428644597530365, -0.5338858366012573, null, -0.07428644597530365, 0.2783988118171692, null, -0.07428644597530365, 0.6514049172401428, null, 0.4514864683151245, 0.978046715259552, null, 0.4514864683151245, 0.9639871120452881, null, 0.4514864683151245, -0.18049348890781403, null, 0.4514864683151245, 0.7913456559181213, null, 0.4514864683151245, 0.1347063034772873, null, 0.4514864683151245, 0.5897516012191772, null, -0.7379844188690186, -0.5176335573196411, null, -0.7379844188690186, -0.7201499342918396, null, -0.7379844188690186, -0.5228509306907654, null, 0.97013258934021, 0.23268719017505646, null, 0.8712084889411926, 0.8912209868431091, null, 0.8712084889411926, 0.7028260827064514, null, 0.8712084889411926, 0.532883882522583, null, -0.16346599161624908, -0.8376047611236572, null, -0.13840235769748688, -0.20610566437244415, null, -0.13840235769748688, -0.5952889323234558, null, -0.13840235769748688, 0.7460833787918091, null, -0.13840235769748688, -0.9598439335823059, null, -0.13840235769748688, -0.4080119729042053, null, -0.13840235769748688, 0.3442978858947754, null, -0.13840235769748688, -0.129664346575737, null, -0.13840235769748688, -0.8373419642448425, null, -0.13840235769748688, -0.1060762107372284, null, -0.13840235769748688, -0.6165843605995178, null, -0.13840235769748688, -0.7498387098312378, null, -0.13840235769748688, -0.18572813272476196, null, -0.13840235769748688, -0.6009076237678528, null, -0.13840235769748688, -0.3697068989276886, null, -0.13840235769748688, -0.012858709320425987, null, -0.13840235769748688, 0.7492698431015015, null, -0.13840235769748688, -0.3251749873161316, null, -0.13840235769748688, 0.7943755984306335, null, -0.13840235769748688, -0.7427819967269897, null, -0.13840235769748688, -0.7953250408172607, null, -0.13840235769748688, -0.8297581672668457, null, -0.13840235769748688, -0.22598156332969666, null, -0.13840235769748688, 0.6375189423561096, null, -0.13840235769748688, 0.7063018679618835, null, -0.13840235769748688, -0.22206956148147583, null, -0.13840235769748688, 0.03421814739704132, null, -0.13840235769748688, -0.9231988787651062, null, -0.13840235769748688, -0.7725215554237366, null, -0.13840235769748688, 0.6081750988960266, null, -0.13840235769748688, 0.26079609990119934, null, -0.13840235769748688, -0.9761112332344055, null, -0.13840235769748688, -0.5799421072006226, null, -0.13840235769748688, 0.4505942165851593, null, -0.13840235769748688, 0.8580564856529236, null, 0.10190776735544205, -0.7781674861907959, null, 0.10190776735544205, -0.6725000739097595, null, -0.7201499342918396, -0.3860710561275482, null, -0.1461534947156906, -0.5267301201820374, null, -0.20610566437244415, -0.7374553680419922, null, -0.5952889323234558, -0.4441678524017334, null, -0.5952889323234558, 0.09386619180440903, null, -0.4080119729042053, -0.25380322337150574, null, 0.3442978858947754, 0.4379028081893921, null, -0.1060762107372284, -0.5965171456336975, null, -0.1060762107372284, -0.5387045741081238, null, -0.1060762107372284, 0.9670242667198181, null, -0.1060762107372284, -0.8968997597694397, null, -0.1060762107372284, 0.9115154147148132, null, -0.1060762107372284, -0.8383694291114807, null, -0.1060762107372284, -0.944466233253479, null, -0.1060762107372284, 0.13064727187156677, null, -0.3860710561275482, -0.5629287958145142, null, 0.4298085570335388, 0.10089937597513199, null, -0.6165843605995178, -0.9857999086380005, null, -0.6165843605995178, -0.34034284949302673, null, -0.7498387098312378, -0.10754916816949844, null, -0.7498387098312378, -0.902916431427002, null, -0.18572813272476196, -0.009982064366340637, null, -0.5965171456336975, -0.33711814880371094, null, 0.7841315865516663, 0.7980404496192932, null, -0.40744614601135254, 0.4853382408618927, null, 0.5276617407798767, -0.24488422274589539, null, -0.08576299250125885, 0.7504504323005676, null, -0.08576299250125885, 0.9174264073371887, null, -0.08576299250125885, -0.03819609060883522, null, -0.08576299250125885, -0.9182862043380737, null, -0.5593306422233582, -0.9358107447624207, null, -0.5593306422233582, -0.10400892049074173, null, -0.5593306422233582, -0.7708719372749329, null, -0.5593306422233582, -0.42269566655158997, null, -0.5593306422233582, -0.43998751044273376, null, 0.002423661295324564, 0.5307630896568298, null, 0.002423661295324564, -0.1426321268081665, null, 0.002423661295324564, -0.45840519666671753, null, 0.002423661295324564, -0.9507787227630615, null, 0.002423661295324564, -0.2480621635913849, null, 0.002423661295324564, 0.8504736423492432, null, 0.002423661295324564, -0.050840847194194794, null, 0.002423661295324564, 0.6598016619682312, null, 0.002423661295324564, 0.18443778157234192, null, 0.002423661295324564, -0.44039052724838257, null, 0.002423661295324564, 0.5588876605033875, null, 0.002423661295324564, -0.3636280298233032, null, 0.002423661295324564, 0.1565539538860321, null, 0.30633744597435, 0.725017249584198, null, 0.30633744597435, 0.4871984124183655, null, 0.30633744597435, 0.9413546919822693, null, 0.30633744597435, -0.9735880494117737, null, 0.30633744597435, 0.8264212608337402, null, 0.30633744597435, 0.9858147501945496, null, 0.3883843421936035, 0.8240787386894226, null, 0.2477230280637741, 0.6290190815925598, null, 0.2477230280637741, 0.9625608921051025, null, 0.2477230280637741, 0.24284350872039795, null, 0.7221955060958862, 0.021757563576102257, null, -0.13121743500232697, 0.06097819656133652, null, -0.3697068989276886, -0.9472646713256836, null, -0.40439608693122864, 0.36810532212257385, null, -0.03819609060883522, 0.26965048909187317, null, -0.03819609060883522, 0.1403685361146927, null, -0.03819609060883522, -0.9317469596862793, null, 0.5843534469604492, -0.05438459292054176, null, -0.06848704814910889, -0.8168922066688538, null, -0.06848704814910889, 0.47439315915107727, null, -0.06848704814910889, -0.6309147477149963, null, -0.6186510324478149, 0.2265859842300415, null, -0.6928322911262512, -0.6327723860740662, null, -0.6928322911262512, -0.1487739086151123, null, -0.6928322911262512, -0.40128010511398315, null, -0.24488422274589539, -0.8399465680122375, null, 0.35728445649147034, 0.9672399759292603, null, 0.35728445649147034, 0.7843055129051208, null, 0.7342855930328369, 0.8770692348480225, null, -0.5565172433853149, -0.8289937376976013, null, -0.5565172433853149, 0.09544546902179718, null, -0.5565172433853149, -0.2107117623090744, null, -0.5565172433853149, -0.29062068462371826, null, -0.08614800125360489, -0.8805865049362183, null, -0.08614800125360489, -0.7931814789772034, null, -0.08614800125360489, 0.7232159376144409, null, -0.08614800125360489, 0.23764318227767944, null, -0.08614800125360489, -0.9509589672088623, null, -0.902916431427002, -0.8955686688423157, null, 0.26965048909187317, -0.8335130214691162, null, 0.26965048909187317, -0.19102416932582855, null, 0.26965048909187317, 0.9452127814292908, null, -0.16439272463321686, -0.8360936045646667, null, -0.16439272463321686, -0.5001048445701599, null, -0.16439272463321686, -0.8439583778381348, null, -0.16439272463321686, 0.20987604558467865, null, -0.22874467074871063, 0.40584275126457214, null, 0.5683888792991638, 0.8015472292900085, null, 0.15829022228717804, -0.6862801313400269, null, 0.15829022228717804, -0.3136785924434662, null, 0.15829022228717804, 0.7868467569351196, null, 0.15829022228717804, 0.051264438778162, null, 0.15829022228717804, -0.055882442742586136, null, 0.2265859842300415, -0.23143240809440613, null, 0.40584275126457214, -0.26713287830352783, null, 0.4853382408618927, 0.3253897428512573, null, 0.4853382408618927, 0.8699818253517151, null, -0.003837548429146409, -0.4580911695957184, null, -0.003837548429146409, 0.9387608766555786, null, -0.003837548429146409, -0.8703979849815369, null, -0.003837548429146409, 0.6569032669067383, null, -0.003837548429146409, 0.8958771228790283, null, -0.003837548429146409, 0.053017571568489075, null, -0.003837548429146409, 0.5974118113517761, null, -0.003837548429146409, 0.15048550069332123, null, -0.003837548429146409, -0.8341368436813354, null, -0.003837548429146409, 0.351672887802124, null, -0.003837548429146409, -0.9340690970420837, null, -0.003837548429146409, 0.9963046908378601, null, -0.003837548429146409, -0.17483384907245636, null, -0.003837548429146409, -0.9703941345214844, null, -0.003837548429146409, 0.3022667467594147, null, -0.003837548429146409, 0.6941726803779602, null, -0.003837548429146409, 0.07351787388324738, null, -0.003837548429146409, -0.26595649123191833, null, -0.003837548429146409, 0.9694815278053284, null, -0.003837548429146409, 0.6928885579109192, null, -0.003837548429146409, -0.9569941759109497, null, -0.003837548429146409, -0.7568097710609436, null, -0.003837548429146409, -0.6941506862640381, null, -0.003837548429146409, -0.8991209268569946, null, -0.43737655878067017, 0.15142688155174255, null, -0.3295881450176239, -0.8175757527351379, null, -0.3295881450176239, -0.5949733257293701, null, -0.3295881450176239, 0.7696290612220764, null, -0.3295881450176239, -0.9384810328483582, null, -0.3295881450176239, -0.873508632183075, null, -0.3295881450176239, -0.670558750629425, null, -0.3295881450176239, 0.00024207057140301913, null, 0.44528448581695557, -0.056038420647382736, null, 0.44528448581695557, 0.4933176338672638, null, -0.04812207818031311, 0.5234715342521667, null, 0.20987604558467865, -0.9044989347457886, null, 0.20987604558467865, 0.4109988510608673, null, 0.20987604558467865, -0.34968113899230957, null, 0.24284350872039795, -0.40951114892959595, null, 0.24284350872039795, 0.5137876868247986, null, 0.24284350872039795, -0.34499236941337585, null, 0.24284350872039795, 0.9615252614021301, null, -0.3580951690673828, -0.6306312084197998, null, -0.02452435903251171, -0.6306312084197998, null, -0.9240307211875916, -0.8242495656013489, null, -0.9240307211875916, -0.6505646705627441, null, -0.9240307211875916, -0.7812070846557617, null, -0.9240307211875916, -0.9748409986495972, null, 0.5570997595787048, 0.8001224398612976, null, 0.5570997595787048, 0.3785911202430725, null, 0.5570997595787048, 0.5596701502799988, null, 0.5570997595787048, 0.4105367362499237, null, 0.5570997595787048, 0.0934317409992218, null, -0.11139953881502151, -0.6454833149909973, null, -0.11139953881502151, -0.947462260723114, null, -0.11139953881502151, 0.3007148206233978, null, -0.11139953881502151, -0.5353227853775024, null, -0.9693866968154907, -0.2544281482696533, null, -0.4709428548812866, -0.2544281482696533, null, 0.7046706676483154, -0.2544281482696533, null, -0.32902389764785767, -0.2544281482696533, null, -0.32902389764785767, 0.4428938627243042, null, 0.5192029476165771, -0.2544281482696533, null, -0.5594976544380188, -0.2544281482696533, null, -0.2561933696269989, -0.2544281482696533, null, -0.9104708433151245, -0.2544281482696533, null, 0.4920410215854645, -0.2544281482696533, null, 0.4567990303039551, -0.5009531378746033, null, 0.5756076574325562, 0.9037320613861084, null, 0.717049777507782, 0.9329724311828613, null, -0.8417734503746033, -0.2544281482696533, null, -0.05438459292054176, 0.4419771432876587, null, 0.053017571568489075, -0.8129793405532837, null, 0.053017571568489075, 0.4986223578453064, null, 0.053017571568489075, -0.8199805617332458, null, 0.15580905973911285, -0.028941525146365166, null, -0.9148024916648865, -0.2544281482696533, null, -0.6082071661949158, 0.043081652373075485, null, -0.5006975531578064, 0.043081652373075485, null, 0.7492698431015015, 0.86927330493927, null, 0.4796687066555023, -0.07902669906616211, null, 0.528683066368103, 0.2788791358470917, null, -0.7830944657325745, 0.043081652373075485, null, 0.931352972984314, 0.043081652373075485, null, -0.16137835383415222, 0.043081652373075485, null, 0.9281959533691406, 0.043081652373075485, null, -0.17483384907245636, -0.47627612948417664, null, -0.17483384907245636, -0.8899564146995544, null, -0.17483384907245636, 0.8855562210083008, null, 0.4419771432876587, 0.7021610736846924, null, 0.3685207962989807, 0.151764377951622, null, 0.3685207962989807, -0.07446381449699402, null, 0.07989451289176941, 0.3364643454551697, null, -0.5353227853775024, -0.7359437346458435, null, -0.5353227853775024, 0.29159560799598694, null, -0.044712211936712265, -0.832617998123169, null, -0.044712211936712265, 0.8280883431434631, null, -0.7725215554237366, -0.9324700236320496, null, 0.6081750988960266, 0.32824382185935974, null, -0.3795420825481415, -0.0101021071895957, null, 0.051264438778162, 0.11111017316579819, null, -0.055882442742586136, 0.02598164603114128, null, -0.055882442742586136, -0.024674272164702415, null, -0.8176193237304688, -0.8437702059745789, null, 0.7737036347389221, 0.8920977115631104, null, 0.06263890862464905, -0.326058030128479, null, 0.06263890862464905, -0.2810697555541992, null, 0.06263890862464905, 0.5764903426170349, null, 0.06263890862464905, 0.23391082882881165, null, 0.06263890862464905, 0.901270866394043, null, 0.06263890862464905, 0.8192911744117737, null, 0.06263890862464905, -0.964333176612854, null, 0.06263890862464905, 0.621683657169342, null, 0.06263890862464905, -0.2768614590167999, null, 0.06263890862464905, -0.6773235201835632, null, 0.06263890862464905, -0.2917684316635132, null, 0.06263890862464905, -0.8162747621536255, null, 0.06263890862464905, 0.13034628331661224, null, 0.06263890862464905, -0.19167953729629517, null, 0.06263890862464905, 0.04690678417682648, null, 0.06263890862464905, 0.6969389319419861, null, 0.06263890862464905, 0.9414796829223633, null, 0.06263890862464905, 0.48595288395881653, null, 0.06263890862464905, -0.5972945690155029, null, 0.06263890862464905, 0.735970675945282, null, 0.06263890862464905, -0.7396907806396484, null, 0.06263890862464905, 0.22347594797611237, null, 0.06263890862464905, 0.44950175285339355, null, 0.06263890862464905, 0.02106235735118389, null, 0.06263890862464905, 0.7112368941307068, null, 0.06263890862464905, -0.9497851729393005, null, 0.06263890862464905, 0.836259126663208, null, 0.06263890862464905, 0.4177316427230835, null, 0.06263890862464905, -0.19402775168418884, null, 0.3183906674385071, -0.3589245080947876, null, -0.024674272164702415, 0.9119389057159424, null, -0.024674272164702415, -0.5522921681404114, null, -0.024674272164702415, -0.614904522895813, null, -0.024674272164702415, -0.6027337312698364, null, -0.024674272164702415, 0.5235314965248108, null, -0.024674272164702415, 0.31515827775001526, null, -0.024674272164702415, -0.5073029398918152, null, -0.0101021071895957, -0.25727221369743347, null, -0.0101021071895957, 0.7531061172485352, null, -0.6420021057128906, -0.30051881074905396, null, 0.5700810551643372, 0.4420906603336334, null, 0.5700810551643372, 0.37965354323387146, null, -0.364332377910614, 0.5610890984535217, null, -0.364332377910614, -0.8711161613464355, null, -0.364332377910614, -0.45052358508110046, null], \"y\": [0.7135935425758362, 0.40402039885520935, null, 0.7135935425758362, 0.7704638838768005, null, 0.07781153917312622, -0.3799995481967926, null, 0.07781153917312622, 0.7258843183517456, null, 0.7258843183517456, 0.5013023614883423, null, 0.10687064379453659, -0.16954417526721954, null, 0.2847557067871094, -0.7893796563148499, null, 0.3753740191459656, 0.7936641573905945, null, 0.3753740191459656, -0.048570916056632996, null, 0.3753740191459656, 0.7840463519096375, null, 0.4647713899612427, 0.11600178480148315, null, 0.4647713899612427, 0.23784524202346802, null, 0.4647713899612427, 0.9519104957580566, null, 0.4647713899612427, 0.5834927558898926, null, 0.4647713899612427, 0.9441224932670593, null, 0.4647713899612427, -0.38453224301338196, null, 0.34918472170829773, -0.2070411890745163, null, 0.34918472170829773, 0.6575021743774414, null, 0.34918472170829773, 0.8876447081565857, null, 0.07413896173238754, 0.19140365719795227, null, -0.4117618203163147, 0.5260014533996582, null, -0.4117618203163147, -0.7840913534164429, null, -0.4117618203163147, -0.7472968101501465, null, 0.08691184967756271, 0.5299904942512512, null, -0.1606511026620865, -0.6244240999221802, null, -0.1606511026620865, 0.8421242237091064, null, -0.1606511026620865, -0.7035667300224304, null, -0.1606511026620865, -0.2367648035287857, null, -0.1606511026620865, -0.9350342154502869, null, -0.1606511026620865, -0.9194179177284241, null, -0.1606511026620865, 0.9312642812728882, null, -0.1606511026620865, 0.47457271814346313, null, -0.1606511026620865, 0.08992867916822433, null, -0.1606511026620865, -0.34506621956825256, null, -0.1606511026620865, -0.5529019236564636, null, -0.1606511026620865, -0.9122942686080933, null, -0.1606511026620865, -0.6554691195487976, null, -0.1606511026620865, -0.23476848006248474, null, -0.1606511026620865, 0.801652193069458, null, -0.1606511026620865, 0.26827406883239746, null, -0.1606511026620865, -0.8849064707756042, null, -0.1606511026620865, -0.6936317086219788, null, -0.1606511026620865, 0.5292624235153198, null, -0.1606511026620865, 0.6731875538825989, null, -0.1606511026620865, 0.05902831628918648, null, -0.1606511026620865, -0.9196503758430481, null, -0.1606511026620865, -0.6913418173789978, null, -0.1606511026620865, -0.7658354043960571, null, -0.1606511026620865, -0.8883023858070374, null, -0.1606511026620865, 0.7315433025360107, null, -0.1606511026620865, -0.09338149428367615, null, -0.1606511026620865, 0.6340886950492859, null, -0.1606511026620865, -0.19054673612117767, null, -0.1606511026620865, -0.9093483090400696, null, -0.1606511026620865, 0.013573147356510162, null, -0.1606511026620865, -0.7120854258537292, null, -0.1606511026620865, 0.30137142539024353, null, -0.1606511026620865, -0.2532268762588501, null, -0.9544535875320435, -0.6222474575042725, null, -0.9544535875320435, -0.5344687700271606, null, 0.6575021743774414, -0.02763937972486019, null, 0.6658103466033936, -0.21423929929733276, null, -0.6244240999221802, -0.7176967859268188, null, 0.8421242237091064, 0.8665866851806641, null, 0.8421242237091064, 0.9164079427719116, null, -0.9350342154502869, -0.9420070052146912, null, -0.9194179177284241, -0.8971375226974487, null, 0.08992867916822433, 0.17089144885540009, null, 0.08992867916822433, 0.08626388758420944, null, 0.08992867916822433, 0.03565564006567001, null, 0.08992867916822433, -0.4889543354511261, null, 0.08992867916822433, 0.48384571075439453, null, 0.08992867916822433, 0.5905266404151917, null, 0.08992867916822433, -0.2071099430322647, null, 0.08992867916822433, 0.49468663334846497, null, -0.02763937972486019, -0.7462155222892761, null, 0.035290200263261795, 0.5952829122543335, null, -0.34506621956825256, 0.05022889003157616, null, -0.34506621956825256, -0.7963201403617859, null, -0.5529019236564636, -0.6759390830993652, null, -0.5529019236564636, 0.39465925097465515, null, -0.9122942686080933, -0.3499809801578522, null, 0.17089144885540009, 0.8410807251930237, null, 0.6968613862991333, 0.3363316059112549, null, 0.1203792467713356, 0.03511406108736992, null, 0.7388328313827515, 0.9335246682167053, null, 0.17039096355438232, 0.6552286744117737, null, 0.17039096355438232, 0.37852445244789124, null, 0.17039096355438232, -0.2431313544511795, null, 0.17039096355438232, -0.3619365394115448, null, -0.3415874242782593, -0.26518556475639343, null, -0.3415874242782593, -0.9262012839317322, null, -0.3415874242782593, -0.08599766343832016, null, -0.3415874242782593, -0.8727415800094604, null, -0.3415874242782593, 0.7692625522613525, null, 0.08344916254281998, 0.8624939918518066, null, 0.08344916254281998, -0.9403132200241089, null, 0.08344916254281998, 0.6913384199142456, null, 0.08344916254281998, -0.2716728746891022, null, 0.08344916254281998, -0.765014111995697, null, 0.08344916254281998, 0.30515599250793457, null, 0.08344916254281998, 0.9670787453651428, null, 0.08344916254281998, 0.3692215383052826, null, 0.08344916254281998, 0.9401088953018188, null, 0.08344916254281998, -0.9084618091583252, null, 0.08344916254281998, 0.7320975661277771, null, 0.08344916254281998, -0.9487247467041016, null, 0.08344916254281998, 0.9449055194854736, null, 0.16740025579929352, -0.46784189343452454, null, 0.16740025579929352, 0.8419066667556763, null, 0.16740025579929352, -0.2977204918861389, null, 0.16740025579929352, 0.17545534670352936, null, 0.16740025579929352, 0.3956092298030853, null, 0.16740025579929352, -0.04803551733493805, null, 0.8121821284294128, 0.5326566100120544, null, -0.33922797441482544, -0.7906134724617004, null, -0.33922797441482544, -0.1151750311255455, null, -0.33922797441482544, 0.42334455251693726, null, -0.6489457488059998, -0.11585813760757446, null, 0.8816044926643372, 0.9505009055137634, null, -0.23476848006248474, 0.3152606189250946, null, 0.6659910678863525, 0.8313666582107544, null, -0.2431313544511795, -0.20096546411514282, null, -0.2431313544511795, -0.9147820472717285, null, -0.2431313544511795, 0.3370373249053955, null, 0.818384051322937, 0.5252960920333862, null, -0.7126516699790955, -0.5463424921035767, null, -0.7126516699790955, -0.8434284925460815, null, -0.7126516699790955, -0.6511266231536865, null, 0.7386244535446167, 0.2948315441608429, null, -0.5551679730415344, 0.18482911586761475, null, -0.5551679730415344, -0.9193057417869568, null, -0.5551679730415344, -0.7485938668251038, null, 0.9335246682167053, 0.44096639752388, null, -0.3038541376590729, 0.14803098142147064, null, -0.3038541376590729, 0.5947518944740295, null, 0.6632936596870422, 0.14469662308692932, null, -0.3730817437171936, 0.5999070405960083, null, -0.3730817437171936, -0.9558602571487427, null, -0.3730817437171936, -0.14253276586532593, null, -0.3730817437171936, 0.1513785719871521, null, 0.15619249641895294, 0.2220863550901413, null, 0.15619249641895294, 0.6160765886306763, null, 0.15619249641895294, 0.589735209941864, null, 0.15619249641895294, 0.9240074753761292, null, 0.15619249641895294, 0.2990483045578003, null, 0.39465925097465515, 0.29077064990997314, null, -0.20096546411514282, -0.15067540109157562, null, -0.20096546411514282, -0.9852094054222107, null, -0.20096546411514282, -0.20762905478477478, null, 0.7719442844390869, 0.5182402729988098, null, 0.7719442844390869, 0.7785999774932861, null, 0.7719442844390869, 0.028656676411628723, null, 0.7719442844390869, 0.32022222876548767, null, 0.7789177894592285, 0.9013155698776245, null, -0.6952002048492432, -0.5794621706008911, null, 0.014541372656822205, -0.6660017967224121, null, 0.014541372656822205, 0.9269452691078186, null, 0.014541372656822205, -0.6067479252815247, null, 0.014541372656822205, -0.35383936762809753, null, 0.014541372656822205, 0.2342299371957779, null, 0.2948315441608429, 0.6887803077697754, null, 0.9013155698776245, 0.8888493180274963, null, 0.03511406108736992, -0.929223358631134, null, 0.03511406108736992, -0.5305158495903015, null, 0.13321542739868164, 0.884232759475708, null, 0.13321542739868164, 0.2896632254123688, null, 0.13321542739868164, -0.2936323583126068, null, 0.13321542739868164, 0.746012270450592, null, 0.13321542739868164, 0.17186033725738525, null, 0.13321542739868164, 0.4497954845428467, null, 0.13321542739868164, -0.7991726994514465, null, 0.13321542739868164, 0.8745320439338684, null, 0.13321542739868164, 0.14332178235054016, null, 0.13321542739868164, 0.9177916049957275, null, 0.13321542739868164, 0.047259483486413956, null, 0.13321542739868164, -0.08007217198610306, null, 0.13321542739868164, -0.10410965234041214, null, 0.13321542739868164, -0.13927550613880157, null, 0.13321542739868164, 0.9514675736427307, null, 0.13321542739868164, 0.18405857682228088, null, 0.13321542739868164, -0.9570963382720947, null, 0.13321542739868164, -0.46823233366012573, null, 0.13321542739868164, -0.161860853433609, null, 0.13321542739868164, 0.7939321994781494, null, 0.13321542739868164, -0.3032466471195221, null, 0.13321542739868164, 0.516595721244812, null, 0.13321542739868164, -0.36485323309898376, null, 0.13321542739868164, 0.26613813638687134, null, -0.8806601166725159, -0.8640244007110596, null, -0.102080337703228, 0.5363789200782776, null, -0.102080337703228, 0.7585079669952393, null, -0.102080337703228, 0.08039432018995285, null, -0.102080337703228, 0.24009478092193604, null, -0.102080337703228, -0.36261501908302307, null, -0.102080337703228, -0.76528400182724, null, -0.102080337703228, -0.9521731734275818, null, -0.15795637667179108, -0.4239729940891266, null, -0.15795637667179108, -0.6584854125976562, null, -0.8752857446670532, -0.8160094022750854, null, 0.32022222876548767, 0.3872152268886566, null, 0.32022222876548767, 0.8542214035987854, null, 0.32022222876548767, -0.2770848870277405, null, 0.42334455251693726, 0.9174963235855103, null, 0.42334455251693726, 0.5064179301261902, null, 0.42334455251693726, 0.8330984711647034, null, 0.42334455251693726, -0.12642505764961243, null, -0.8839781880378723, -0.7104676365852356, null, -0.009058517403900623, -0.7104676365852356, null, -0.34645214676856995, -0.21927344799041748, null, -0.34645214676856995, -0.6627877950668335, null, -0.34645214676856995, -0.6297513246536255, null, -0.34645214676856995, -0.11322114616632462, null, -0.1919899731874466, -0.45854705572128296, null, -0.1919899731874466, -0.5261430144309998, null, -0.1919899731874466, 0.528346598148346, null, -0.1919899731874466, -0.9286451935768127, null, -0.1919899731874466, 0.320209801197052, null, -0.4995439350605011, -0.34472957253456116, null, -0.4995439350605011, -0.19379836320877075, null, -0.4995439350605011, -0.796705424785614, null, -0.4995439350605011, -0.2651652693748474, null, 0.1934458166360855, -0.11059761792421341, null, -0.7760495543479919, -0.11059761792421341, null, -0.5225250720977783, -0.11059761792421341, null, -0.5636348128318787, -0.11059761792421341, null, -0.5636348128318787, -0.31548696756362915, null, 0.6268160343170166, -0.11059761792421341, null, -0.8336856961250305, -0.11059761792421341, null, 0.9582127928733826, -0.11059761792421341, null, -0.21485741436481476, -0.11059761792421341, null, -0.8332555294036865, -0.11059761792421341, null, -0.19549940526485443, -0.8251132965087891, null, -0.29975518584251404, 0.22166763246059418, null, 0.5934990048408508, -0.38310250639915466, null, 0.4527384638786316, -0.11059761792421341, null, 0.5252960920333862, 0.7478535175323486, null, 0.4497954845428467, 0.6022825241088867, null, 0.4497954845428467, 0.1423795521259308, null, 0.4497954845428467, -0.37329694628715515, null, -0.5051068663597107, -0.9655225872993469, null, -0.3095915615558624, -0.11059761792421341, null, 0.7551671266555786, 0.33693045377731323, null, 0.8774489760398865, 0.33693045377731323, null, 0.26827406883239746, 0.49329808354377747, null, -0.6198591589927673, -0.9416612386703491, null, 0.0489729680120945, 0.8765463829040527, null, 0.47598278522491455, 0.33693045377731323, null, -0.2434825450181961, 0.33693045377731323, null, 0.9795806407928467, 0.33693045377731323, null, -0.33912914991378784, 0.33693045377731323, null, -0.10410965234041214, -0.8408784866333008, null, -0.10410965234041214, -0.4108595848083496, null, -0.10410965234041214, -0.07726505398750305, null, 0.7478535175323486, 0.5444051623344421, null, 0.8923958539962769, -0.12135067582130432, null, 0.8923958539962769, 0.9513211250305176, null, 0.9137572646141052, 0.9108456969261169, null, -0.2651652693748474, 0.552924633026123, null, -0.2651652693748474, -0.8081496357917786, null, 0.902400553226471, 0.42600247263908386, null, 0.902400553226471, 0.5217565894126892, null, 0.6340886950492859, -0.01824488863348961, null, -0.19054673612117767, 0.9099013209342957, null, -0.8792402148246765, -0.8946882486343384, null, -0.35383936762809753, 0.3149981200695038, null, 0.2342299371957779, -0.651216447353363, null, 0.2342299371957779, 0.09207260608673096, null, 0.3538956344127655, -0.4680541455745697, null, -0.5765904188156128, -0.4827387034893036, null, 0.06740422546863556, -0.722808301448822, null, 0.06740422546863556, -0.913665771484375, null, 0.06740422546863556, 0.6216534376144409, null, 0.06740422546863556, 0.7712020874023438, null, 0.06740422546863556, 0.34344300627708435, null, 0.06740422546863556, -0.4122093617916107, null, 0.06740422546863556, 0.11200851947069168, null, 0.06740422546863556, -0.7187685966491699, null, 0.06740422546863556, 0.9649187326431274, null, 0.06740422546863556, 0.7369962930679321, null, 0.06740422546863556, 0.9404286742210388, null, 0.06740422546863556, -0.560073733329773, null, 0.06740422546863556, 0.8409655690193176, null, 0.06740422546863556, 0.789924144744873, null, 0.06740422546863556, -0.979330837726593, null, 0.06740422546863556, 0.7278947830200195, null, 0.06740422546863556, 0.002964071463793516, null, 0.06740422546863556, -0.88998943567276, null, 0.06740422546863556, -0.7888756990432739, null, 0.06740422546863556, 0.5636038780212402, null, 0.06740422546863556, -0.014976316131651402, null, 0.06740422546863556, 0.9635811448097229, null, 0.06740422546863556, 0.8386286497116089, null, 0.06740422546863556, 0.9534153938293457, null, 0.06740422546863556, -0.7117044925689697, null, 0.06740422546863556, 0.14379018545150757, null, 0.06740422546863556, 0.00838786456733942, null, 0.06740422546863556, 0.7739713191986084, null, 0.06740422546863556, -0.9519267678260803, null, 0.8533374071121216, 0.9326463341712952, null, 0.09207260608673096, -0.51216059923172, null, 0.09207260608673096, 0.8677918910980225, null, 0.09207260608673096, 0.001823719241656363, null, 0.09207260608673096, -0.8240651488304138, null, 0.09207260608673096, 0.8124417662620544, null, 0.09207260608673096, -0.9146090745925903, null, 0.09207260608673096, 0.8407824039459229, null, -0.8946882486343384, -0.22069232165813446, null, -0.8946882486343384, -0.19064851105213165, null, 0.473257839679718, 0.8290010094642639, null, -0.8496510982513428, 0.08007541298866272, null, -0.8496510982513428, -0.8816632628440857, null, -0.4453122019767761, -0.28619930148124695, null, -0.4453122019767761, -0.272034615278244, null, -0.4453122019767761, 0.049778468906879425, null]}, {\"hoverinfo\": \"text\", \"marker\": {\"color\": [2, 1, 1, 0, 0, 2, 1, 0, 2, 0, 1, 0, 1, 0, 0, 1, 3, 0, 6, 0, 0, 0, 0, 0, 3, 0, 0, 0, 0, 1, 0, 0, 0, 0, 1, 3, 0, 1, 0, 0, 0, 1, 0, 0, 0, 0, 0, 0, 1, 1, 0, 34, 0, 0, 1, 0, 0, 2, 2, 1, 1, 0, 0, 0, 1, 1, 1, 0, 1, 1, 1, 1, 1, 0, 1, 1, 2, 3, 1, 1, 2, 0, 0, 1, 2, 1, 1, 9, 0, 0, 0, 2, 0, 1, 0, 0, 0, 0, 1, 0, 1, 0, 3, 3, 1, 0, 0, 0, 2, 1, 2, 1, 1, 0, 0, 0, 1, 0, 0, 0, 0, 1, 0, 1, 4, 0, 5, 13, 1, 1, 1, 0, 0, 0, 0, 0, 0, 0, 0, 1, 6, 0, 0, 0, 0, 0, 0, 1, 3, 1, 0, 1, 0, 1, 0, 0, 0, 0, 2, 0, 1, 1, 0, 1, 4, 1, 3, 0, 1, 0, 3, 0, 0, 2, 2, 1, 4, 1, 5, 0, 0, 1, 2, 1, 1, 4, 1, 1, 0, 0, 0, 1, 1, 4, 0, 1, 0, 0, 1, 0, 1, 1, 1, 1, 5, 2, 1, 2, 1, 1, 3, 1, 1, 1, 1, 1, 0, 0, 0, 1, 24, 1, 0, 7, 2, 0, 0, 1, 0, 0, 0, 0, 1, 1, 1, 4, 1, 1, 1, 1, 1, 1, 1, 1, 5, 0, 0, 1, 1, 4, 1, 5, 0, 1, 1, 1, 1, 0, 1, 1, 0, 1, 4, 1, 1, 1, 2, 1, 1, 1, 1, 1, 1, 0, 1, 1, 1, 1, 1, 1, 0, 1, 1, 1, 1, 1, 1, 1, 1, 0, 0, 0, 1, 0, 0, 0, 0, 1, 1, 1, 1, 1, 1, 2, 1, 4, 1, 1, 1, 1, 1, 1, 1, 0, 0, 1, 1, 1, 2, 1, 1, 1, 1, 1, 1, 1, 1, 0, 1, 1, 1, 1, 1, 1, 1, 1, 1, 1, 1, 1, 1, 1, 1, 1, 1, 1, 1, 1, 0, 1, 1, 1, 1, 0, 1, 1, 1, 1, 1, 1, 1, 4, 1, 1, 1, 1, 1, 1, 0, 2, 2, 1, 1, 1, 1, 1, 1, 1, 1, 3, 2, 2, 2, 1, 0, 0, 1, 1, 1, 1, 1, 1, 2, 1, 3, 1, 1, 1, 1, 1, 1, 1, 1, 1, 1, 1, 1, 1, 1, 1, 1, 0, 1, 0, 1, 1, 1, 1, 29, 1, 1, 1, 1, 1, 8, 1, 1, 1, 0, 1, 1, 3, 1, 1, 1, 1, 1, 1, 1, 1, 1, 0, 1, 1, 1, 1, 0, 1, 0, 0, 1, 0, 0, 0, 1, 2, 1, 1, 1, 1, 1, 1, 1, 1, 3, 0, 1, 1, 1, 1, 1, 1, 1, 1, 0, 1, 1, 1, 1, 1, 1, 1, 1, 1, 1, 1, 1, 0, 1, 1, 1, 1, 1, 1, 1, 1, 1, 1, 1, 1, 1, 1, 1, 0, 0, 0, 1, 1, 1, 1, 0, 1, 0, 0, 1, 1, 1, 1, 1, 1, 1, 1, 1, 1, 2, 11, 1, 1, 6, 1, 1, 1], \"colorbar\": {\"thickness\": 10, \"title\": {\"side\": \"right\", \"text\": \"Node Connections\"}, \"xanchor\": \"left\"}, \"colorscale\": [[0.0, \"rgb(103,0,31)\"], [0.1, \"rgb(178,24,43)\"], [0.2, \"rgb(214,96,77)\"], [0.3, \"rgb(244,165,130)\"], [0.4, \"rgb(253,219,199)\"], [0.5, \"rgb(247,247,247)\"], [0.6, \"rgb(209,229,240)\"], [0.7, \"rgb(146,197,222)\"], [0.8, \"rgb(67,147,195)\"], [0.9, \"rgb(33,102,172)\"], [1.0, \"rgb(5,48,97)\"]], \"line\": {\"width\": 0}, \"reversescale\": true, \"showscale\": true, \"size\": 15}, \"mode\": \"markers\", \"text\": [\"1 # of connections: 2\", \"2 # of connections: 1\", \"3 # of connections: 1\", \"4 # of connections: 0\", \"5 # of connections: 0\", \"6 # of connections: 2\", \"7 # of connections: 1\", \"8 # of connections: 0\", \"9 # of connections: 2\", \"10 # of connections: 0\", \"11 # of connections: 1\", \"12 # of connections: 0\", \"13 # of connections: 1\", \"14 # of connections: 0\", \"15 # of connections: 0\", \"16 # of connections: 1\", \"17 # of connections: 3\", \"18 # of connections: 0\", \"19 # of connections: 6\", \"20 # of connections: 0\", \"21 # of connections: 0\", \"22 # of connections: 0\", \"23 # of connections: 0\", \"24 # of connections: 0\", \"25 # of connections: 3\", \"26 # of connections: 0\", \"27 # of connections: 0\", \"28 # of connections: 0\", \"29 # of connections: 0\", \"30 # of connections: 1\", \"31 # of connections: 0\", \"32 # of connections: 0\", \"33 # of connections: 0\", \"34 # of connections: 0\", \"35 # of connections: 1\", \"36 # of connections: 3\", \"37 # of connections: 0\", \"38 # of connections: 1\", \"39 # of connections: 0\", \"40 # of connections: 0\", \"41 # of connections: 0\", \"42 # of connections: 1\", \"43 # of connections: 0\", \"44 # of connections: 0\", \"45 # of connections: 0\", \"46 # of connections: 0\", \"47 # of connections: 0\", \"48 # of connections: 0\", \"49 # of connections: 1\", \"50 # of connections: 1\", \"51 # of connections: 0\", \"52 # of connections: 34\", \"53 # of connections: 0\", \"54 # of connections: 0\", \"55 # of connections: 1\", \"56 # of connections: 0\", \"57 # of connections: 0\", \"58 # of connections: 2\", \"59 # of connections: 2\", \"60 # of connections: 1\", \"61 # of connections: 1\", \"62 # of connections: 0\", \"63 # of connections: 0\", \"64 # of connections: 0\", \"65 # of connections: 1\", \"66 # of connections: 1\", \"67 # of connections: 1\", \"68 # of connections: 0\", \"69 # of connections: 1\", \"70 # of connections: 1\", \"71 # of connections: 1\", \"72 # of connections: 1\", \"73 # of connections: 1\", \"74 # of connections: 0\", \"75 # of connections: 1\", \"76 # of connections: 1\", \"77 # of connections: 2\", \"78 # of connections: 3\", \"79 # of connections: 1\", \"80 # of connections: 1\", \"81 # of connections: 2\", \"82 # of connections: 0\", \"83 # of connections: 0\", \"84 # of connections: 1\", \"85 # of connections: 2\", \"86 # of connections: 1\", \"87 # of connections: 1\", \"88 # of connections: 9\", \"89 # of connections: 0\", \"90 # of connections: 0\", \"91 # of connections: 0\", \"92 # of connections: 2\", \"93 # of connections: 0\", \"94 # of connections: 1\", \"95 # of connections: 0\", \"96 # of connections: 0\", \"97 # of connections: 0\", \"98 # of connections: 0\", \"99 # of connections: 1\", \"100 # of connections: 0\", \"101 # of connections: 1\", \"102 # of connections: 0\", \"103 # of connections: 3\", \"104 # of connections: 3\", \"105 # of connections: 1\", \"106 # of connections: 0\", \"107 # of connections: 0\", \"108 # of connections: 0\", \"109 # of connections: 2\", \"110 # of connections: 1\", \"111 # of connections: 2\", \"112 # of connections: 1\", \"113 # of connections: 1\", \"114 # of connections: 0\", \"115 # of connections: 0\", \"116 # of connections: 0\", \"117 # of connections: 1\", \"118 # of connections: 0\", \"119 # of connections: 0\", \"120 # of connections: 0\", \"121 # of connections: 0\", \"122 # of connections: 1\", \"123 # of connections: 0\", \"124 # of connections: 1\", \"125 # of connections: 4\", \"126 # of connections: 0\", \"127 # of connections: 5\", \"128 # of connections: 13\", \"129 # of connections: 1\", \"130 # of connections: 1\", \"131 # of connections: 1\", \"132 # of connections: 0\", \"133 # of connections: 0\", \"134 # of connections: 0\", \"135 # of connections: 0\", \"136 # of connections: 0\", \"137 # of connections: 0\", \"138 # of connections: 0\", \"139 # of connections: 0\", \"140 # of connections: 1\", \"141 # of connections: 6\", \"142 # of connections: 0\", \"143 # of connections: 0\", \"144 # of connections: 0\", \"145 # of connections: 0\", \"146 # of connections: 0\", \"147 # of connections: 0\", \"148 # of connections: 1\", \"149 # of connections: 3\", \"150 # of connections: 1\", \"151 # of connections: 0\", \"152 # of connections: 1\", \"153 # of connections: 0\", \"154 # of connections: 1\", \"155 # of connections: 0\", \"156 # of connections: 0\", \"157 # of connections: 0\", \"158 # of connections: 0\", \"159 # of connections: 2\", \"160 # of connections: 0\", \"161 # of connections: 1\", \"162 # of connections: 1\", \"163 # of connections: 0\", \"164 # of connections: 1\", \"165 # of connections: 4\", \"166 # of connections: 1\", \"167 # of connections: 3\", \"168 # of connections: 0\", \"169 # of connections: 1\", \"170 # of connections: 0\", \"171 # of connections: 3\", \"172 # of connections: 0\", \"173 # of connections: 0\", \"174 # of connections: 2\", \"175 # of connections: 2\", \"176 # of connections: 1\", \"177 # of connections: 4\", \"178 # of connections: 1\", \"179 # of connections: 5\", \"180 # of connections: 0\", \"181 # of connections: 0\", \"182 # of connections: 1\", \"183 # of connections: 2\", \"184 # of connections: 1\", \"185 # of connections: 1\", \"186 # of connections: 4\", \"187 # of connections: 1\", \"188 # of connections: 1\", \"189 # of connections: 0\", \"190 # of connections: 0\", \"191 # of connections: 0\", \"192 # of connections: 1\", \"193 # of connections: 1\", \"194 # of connections: 4\", \"195 # of connections: 0\", \"196 # of connections: 1\", \"197 # of connections: 0\", \"198 # of connections: 0\", \"199 # of connections: 1\", \"200 # of connections: 0\", \"201 # of connections: 1\", \"202 # of connections: 1\", \"203 # of connections: 1\", \"204 # of connections: 1\", \"205 # of connections: 5\", \"206 # of connections: 2\", \"207 # of connections: 1\", \"208 # of connections: 2\", \"209 # of connections: 1\", \"210 # of connections: 1\", \"211 # of connections: 3\", \"212 # of connections: 1\", \"213 # of connections: 1\", \"214 # of connections: 1\", \"215 # of connections: 1\", \"216 # of connections: 1\", \"217 # of connections: 0\", \"218 # of connections: 0\", \"219 # of connections: 0\", \"220 # of connections: 1\", \"221 # of connections: 24\", \"222 # of connections: 1\", \"223 # of connections: 0\", \"224 # of connections: 7\", \"225 # of connections: 2\", \"226 # of connections: 0\", \"227 # of connections: 0\", \"228 # of connections: 1\", \"229 # of connections: 0\", \"230 # of connections: 0\", \"231 # of connections: 0\", \"232 # of connections: 0\", \"233 # of connections: 1\", \"234 # of connections: 1\", \"235 # of connections: 1\", \"236 # of connections: 4\", \"237 # of connections: 1\", \"238 # of connections: 1\", \"239 # of connections: 1\", \"240 # of connections: 1\", \"241 # of connections: 1\", \"242 # of connections: 1\", \"243 # of connections: 1\", \"244 # of connections: 1\", \"245 # of connections: 5\", \"246 # of connections: 0\", \"247 # of connections: 0\", \"248 # of connections: 1\", \"249 # of connections: 1\", \"250 # of connections: 4\", \"251 # of connections: 1\", \"252 # of connections: 5\", \"253 # of connections: 0\", \"254 # of connections: 1\", \"255 # of connections: 1\", \"256 # of connections: 1\", \"257 # of connections: 1\", \"258 # of connections: 0\", \"259 # of connections: 1\", \"260 # of connections: 1\", \"261 # of connections: 0\", \"262 # of connections: 1\", \"263 # of connections: 4\", \"264 # of connections: 1\", \"265 # of connections: 1\", \"266 # of connections: 1\", \"267 # of connections: 2\", \"268 # of connections: 1\", \"269 # of connections: 1\", \"270 # of connections: 1\", \"271 # of connections: 1\", \"272 # of connections: 1\", \"273 # of connections: 1\", \"274 # of connections: 0\", \"275 # of connections: 1\", \"276 # of connections: 1\", \"277 # of connections: 1\", \"278 # of connections: 1\", \"279 # of connections: 1\", \"280 # of connections: 1\", \"281 # of connections: 0\", \"282 # of connections: 1\", \"283 # of connections: 1\", \"284 # of connections: 1\", \"285 # of connections: 1\", \"286 # of connections: 1\", \"287 # of connections: 1\", \"288 # of connections: 1\", \"289 # of connections: 1\", \"290 # of connections: 0\", \"291 # of connections: 0\", \"292 # of connections: 0\", \"293 # of connections: 1\", \"294 # of connections: 0\", \"295 # of connections: 0\", \"296 # of connections: 0\", \"297 # of connections: 0\", \"298 # of connections: 1\", \"299 # of connections: 1\", \"300 # of connections: 1\", \"301 # of connections: 1\", \"302 # of connections: 1\", \"303 # of connections: 1\", \"304 # of connections: 2\", \"305 # of connections: 1\", \"306 # of connections: 4\", \"307 # of connections: 1\", \"308 # of connections: 1\", \"309 # of connections: 1\", \"310 # of connections: 1\", \"311 # of connections: 1\", \"312 # of connections: 1\", \"313 # of connections: 1\", \"314 # of connections: 0\", \"315 # of connections: 0\", \"316 # of connections: 1\", \"317 # of connections: 1\", \"318 # of connections: 1\", \"319 # of connections: 2\", \"320 # of connections: 1\", \"321 # of connections: 1\", \"322 # of connections: 1\", \"323 # of connections: 1\", \"324 # of connections: 1\", \"325 # of connections: 1\", \"326 # of connections: 1\", \"327 # of connections: 1\", \"328 # of connections: 0\", \"329 # of connections: 1\", \"330 # of connections: 1\", \"331 # of connections: 1\", \"332 # of connections: 1\", \"333 # of connections: 1\", \"334 # of connections: 1\", \"335 # of connections: 1\", \"336 # of connections: 1\", \"337 # of connections: 1\", \"338 # of connections: 1\", \"339 # of connections: 1\", \"340 # of connections: 1\", \"341 # of connections: 1\", \"342 # of connections: 1\", \"343 # of connections: 1\", \"344 # of connections: 1\", \"345 # of connections: 1\", \"346 # of connections: 1\", \"347 # of connections: 1\", \"348 # of connections: 1\", \"349 # of connections: 0\", \"350 # of connections: 1\", \"351 # of connections: 1\", \"352 # of connections: 1\", \"353 # of connections: 1\", \"354 # of connections: 0\", \"355 # of connections: 1\", \"356 # of connections: 1\", \"357 # of connections: 1\", \"358 # of connections: 1\", \"359 # of connections: 1\", \"360 # of connections: 1\", \"361 # of connections: 1\", \"362 # of connections: 4\", \"363 # of connections: 1\", \"364 # of connections: 1\", \"365 # of connections: 1\", \"366 # of connections: 1\", \"367 # of connections: 1\", \"368 # of connections: 1\", \"369 # of connections: 0\", \"370 # of connections: 2\", \"371 # of connections: 2\", \"372 # of connections: 1\", \"373 # of connections: 1\", \"374 # of connections: 1\", \"375 # of connections: 1\", \"376 # of connections: 1\", \"377 # of connections: 1\", \"378 # of connections: 1\", \"379 # of connections: 1\", \"380 # of connections: 3\", \"381 # of connections: 2\", \"382 # of connections: 2\", \"383 # of connections: 2\", \"384 # of connections: 1\", \"385 # of connections: 0\", \"386 # of connections: 0\", \"387 # of connections: 1\", \"388 # of connections: 1\", \"389 # of connections: 1\", \"390 # of connections: 1\", \"391 # of connections: 1\", \"392 # of connections: 1\", \"393 # of connections: 2\", \"394 # of connections: 1\", \"395 # of connections: 3\", \"396 # of connections: 1\", \"397 # of connections: 1\", \"398 # of connections: 1\", \"399 # of connections: 1\", \"400 # of connections: 1\", \"401 # of connections: 1\", \"402 # of connections: 1\", \"403 # of connections: 1\", \"404 # of connections: 1\", \"405 # of connections: 1\", \"406 # of connections: 1\", \"407 # of connections: 1\", \"408 # of connections: 1\", \"409 # of connections: 1\", \"410 # of connections: 1\", \"411 # of connections: 1\", \"412 # of connections: 0\", \"413 # of connections: 1\", \"414 # of connections: 0\", \"415 # of connections: 1\", \"416 # of connections: 1\", \"417 # of connections: 1\", \"418 # of connections: 1\", \"419 # of connections: 29\", \"420 # of connections: 1\", \"421 # of connections: 1\", \"422 # of connections: 1\", \"423 # of connections: 1\", \"424 # of connections: 1\", \"425 # of connections: 8\", \"426 # of connections: 1\", \"427 # of connections: 1\", \"428 # of connections: 1\", \"429 # of connections: 0\", \"430 # of connections: 1\", \"431 # of connections: 1\", \"432 # of connections: 3\", \"433 # of connections: 1\", \"434 # of connections: 1\", \"435 # of connections: 1\", \"436 # of connections: 1\", \"437 # of connections: 1\", \"438 # of connections: 1\", \"439 # of connections: 1\", \"440 # of connections: 1\", \"441 # of connections: 1\", \"442 # of connections: 0\", \"443 # of connections: 1\", \"444 # of connections: 1\", \"445 # of connections: 1\", \"446 # of connections: 1\", \"447 # of connections: 0\", \"448 # of connections: 1\", \"449 # of connections: 0\", \"450 # of connections: 0\", \"451 # of connections: 1\", \"452 # of connections: 0\", \"453 # of connections: 0\", \"454 # of connections: 0\", \"455 # of connections: 1\", \"456 # of connections: 2\", \"457 # of connections: 1\", \"458 # of connections: 1\", \"459 # of connections: 1\", \"460 # of connections: 1\", \"461 # of connections: 1\", \"462 # of connections: 1\", \"463 # of connections: 1\", \"464 # of connections: 1\", \"465 # of connections: 3\", \"466 # of connections: 0\", \"467 # of connections: 1\", \"468 # of connections: 1\", \"469 # of connections: 1\", \"470 # of connections: 1\", \"471 # of connections: 1\", \"472 # of connections: 1\", \"473 # of connections: 1\", \"474 # of connections: 1\", \"475 # of connections: 0\", \"476 # of connections: 1\", \"477 # of connections: 1\", \"478 # of connections: 1\", \"479 # of connections: 1\", \"480 # of connections: 1\", \"481 # of connections: 1\", \"482 # of connections: 1\", \"483 # of connections: 1\", \"484 # of connections: 1\", \"485 # of connections: 1\", \"486 # of connections: 1\", \"487 # of connections: 1\", \"488 # of connections: 0\", \"489 # of connections: 1\", \"490 # of connections: 1\", \"491 # of connections: 1\", \"492 # of connections: 1\", \"493 # of connections: 1\", \"494 # of connections: 1\", \"495 # of connections: 1\", \"496 # of connections: 1\", \"497 # of connections: 1\", \"498 # of connections: 1\", \"499 # of connections: 1\", \"500 # of connections: 1\", \"501 # of connections: 1\", \"502 # of connections: 1\", \"503 # of connections: 1\", \"504 # of connections: 0\", \"505 # of connections: 0\", \"506 # of connections: 0\", \"507 # of connections: 1\", \"508 # of connections: 1\", \"509 # of connections: 1\", \"510 # of connections: 1\", \"511 # of connections: 0\", \"512 # of connections: 1\", \"513 # of connections: 0\", \"514 # of connections: 0\", \"515 # of connections: 1\", \"516 # of connections: 1\", \"517 # of connections: 1\", \"518 # of connections: 1\", \"519 # of connections: 1\", \"520 # of connections: 1\", \"521 # of connections: 1\", \"522 # of connections: 1\", \"523 # of connections: 1\", \"43, # of connections: 1\", \"165 and # of connections: 2\", \"harma co # of connections: 11\", \"274 (ILI) # of connections: 1\", \"228 & 232 # of connections: 1\", \"167 and # of connections: 6\", \"89, # of connections: 1\", \"134 and # of connections: 1\", \"306 and # of connections: 1\"], \"type\": \"scatter\", \"x\": [0.7202456593513489, 0.9111741185188293, 0.006607594899833202, -0.6975527405738831, 0.9315071105957031, 0.10521985590457916, -0.2656039297580719, -0.8704290390014648, -0.033088091760873795, 0.6971602439880371, 0.9419135451316833, -0.04767165705561638, 0.9261981844902039, -0.924737811088562, -0.12442590296268463, 0.9278061389923096, -0.07428644597530365, 0.8585180044174194, 0.4514864683151245, -0.05078587308526039, -0.41817352175712585, 0.20893558859825134, 0.5015577673912048, 0.9235139489173889, -0.7379844188690186, -0.9082167148590088, -0.8324727416038513, 0.5650609135627747, -0.5888864398002625, -0.5338858366012573, 0.7938072681427002, -0.7064148783683777, -0.9354478120803833, 0.16917598247528076, 0.97013258934021, 0.8712084889411926, 0.2295251041650772, 0.48259663581848145, 0.29157766699790955, 0.9416559338569641, 0.8922165632247925, -0.16346599161624908, -0.9511198401451111, 0.9261031746864319, -0.031201176345348358, 0.4459303319454193, 0.8650612831115723, 0.29425910115242004, 0.2783988118171692, 0.6514049172401428, 0.6849320530891418, -0.13840235769748688, 0.08979980647563934, 0.8981989622116089, -0.5176335573196411, -0.940922200679779, -0.9591166973114014, 0.10190776735544205, -0.7201499342918396, -0.1461534947156906, -0.5228509306907654, 0.9765448570251465, -0.007952805608510971, -0.8165539503097534, 0.8912209868431091, 0.7028260827064514, 0.532883882522583, -0.49033334851264954, 0.978046715259552, 0.9639871120452881, -0.18049348890781403, 0.7913456559181213, 0.1347063034772873, 0.8714233636856079, -0.8376047611236572, 0.23268719017505646, -0.20610566437244415, -0.5952889323234558, 0.7460833787918091, -0.9598439335823059, -0.4080119729042053, 0.906459391117096, -0.6032997965812683, -0.5267301201820374, 0.3442978858947754, -0.129664346575737, -0.8373419642448425, -0.1060762107372284, 0.8803092241287231, 0.05960590019822121, -0.5076115131378174, -0.3860710561275482, -0.10425508767366409, 0.5897516012191772, 0.9483739733695984, 0.8068779110908508, 0.9482419490814209, 0.09122614562511444, 0.6989545226097107, -0.5765941143035889, 0.4298085570335388, -0.7623639702796936, -0.6165843605995178, -0.7498387098312378, -0.9857999086380005, 0.9181541800498962, 0.8320721983909607, -0.12890955805778503, -0.18572813272476196, -0.6009076237678528, -0.5965171456336975, -0.5387045741081238, -0.25380322337150574, -0.7095776796340942, -0.9896035194396973, 0.7687603831291199, 0.7841315865516663, 0.7453028559684753, -0.7986530661582947, -0.1701454222202301, 0.42903536558151245, -0.40744614601135254, 0.3952663540840149, 0.5276617407798767, -0.08576299250125885, 0.3210175037384033, -0.5593306422233582, 0.002423661295324564, -0.7781674861907959, -0.6725000739097595, 0.10089937597513199, 0.2199929654598236, 0.5695785284042358, -0.709592342376709, -0.01749555952847004, 0.9045372605323792, -0.8623548150062561, -0.8884264826774597, -0.9593026638031006, -0.009982064366340637, 0.30633744597435, 0.2996301054954529, -0.9426706433296204, 0.5667906999588013, 0.1984611600637436, 0.6571657061576843, 0.608488142490387, 0.3883843421936035, 0.2477230280637741, 0.7221955060958862, -0.16556958854198456, -0.13121743500232697, -0.9241392016410828, -0.10754916816949844, -0.2560409605503082, -0.6084334254264832, -0.8252854943275452, -0.5204768180847168, -0.3697068989276886, -0.37804776430130005, 0.7504504323005676, 0.9174264073371887, 0.5392405986785889, -0.40439608693122864, -0.03819609060883522, 0.5843534469604492, -0.06848704814910889, -0.511308491230011, -0.6186510324478149, 0.9604502320289612, -0.6928322911262512, -0.6875482201576233, 0.7909022569656372, -0.24488422274589539, 0.35728445649147034, 0.7342855930328369, -0.5565172433853149, 0.9672399759292603, -0.08614800125360489, -0.98096764087677, 1.0, 0.5307630896568298, -0.902916431427002, -0.9472646713256836, -0.4441678524017334, 0.26965048909187317, 0.1403685361146927, -0.9317469596862793, 0.05945797264575958, -0.8745056390762329, 0.08976852148771286, -0.1426321268081665, -0.45840519666671753, -0.16439272463321686, 0.41197124123573303, -0.22874467074871063, -0.20546887814998627, -0.8193268775939941, 0.5683888792991638, 0.9853180050849915, -0.34034284949302673, -0.33711814880371094, 0.4379028081893921, -0.8955686688423157, 0.15829022228717804, 0.2265859842300415, -0.23143240809440613, 0.40584275126457214, 0.9670242667198181, -0.8968997597694397, 0.4853382408618927, 0.9115154147148132, -0.8383694291114807, -0.944466233253479, -0.5629287958145142, 0.13064727187156677, -0.4404752850532532, 0.4120953679084778, 0.7003806233406067, -0.8289937376976013, -0.003837548429146409, -0.43737655878067017, 0.20510590076446533, -0.3295881450176239, 0.44528448581695557, 0.7893235683441162, -0.8488712310791016, -0.04812207818031311, -0.7731707692146301, -0.8604244589805603, 0.03816510736942291, -0.7452521920204163, -0.8360936045646667, -0.5001048445701599, -0.8439583778381348, 0.20987604558467865, -0.8805865049362183, -0.7931814789772034, 0.7232159376144409, 0.36810532212257385, 0.3253897428512573, 0.8699818253517151, 0.6290190815925598, 0.9625608921051025, 0.24284350872039795, 0.9589473605155945, -0.6564882397651672, -0.3580951690673828, -0.02452435903251171, -0.9240307211875916, -0.9182862043380737, 0.5570997595787048, 0.9664856195449829, 0.09544546902179718, -0.6862801313400269, -0.2107117623090744, -0.4580911695957184, 0.8579965233802795, 0.8015472292900085, 0.8770692348480225, 0.8343641757965088, -0.8335130214691162, -0.11139953881502151, -0.9693866968154907, -0.4709428548812866, 0.7046706676483154, -0.32902389764785767, 0.5192029476165771, -0.5594976544380188, -0.2561933696269989, -0.9104708433151245, 0.4920410215854645, 0.4567990303039551, -0.7367808222770691, 0.9387608766555786, -0.8703979849815369, 0.8001224398612976, 0.6569032669067383, -0.8175757527351379, 0.3785911202430725, 0.9746010303497314, -0.056038420647382736, -0.5949733257293701, 0.4933176338672638, 0.7696290612220764, -0.9384810328483582, -0.873508632183075, -0.670558750629425, 0.00024207057140301913, -0.8020434379577637, 0.8163464665412903, 0.635064959526062, 0.5756076574325562, 0.6530166268348694, 0.38149523735046387, -0.5366745591163635, 0.888278603553772, -0.40951114892959595, 0.5137876868247986, -0.34499236941337585, 0.9615252614021301, 0.717049777507782, -0.8417734503746033, -0.05438459292054176, 0.8958771228790283, 0.053017571568489075, 0.5974118113517761, 0.15048550069332123, -0.8341368436813354, 0.15580905973911285, -0.9148024916648865, -0.7374553680419922, 0.351672887802124, -0.3066987693309784, -0.004971932154148817, -0.6082071661949158, -0.5006975531578064, -0.012858709320425987, 0.7492698431015015, -0.3251749873161316, -0.5009531378746033, -0.6327723860740662, -0.1487739086151123, -0.40128010511398315, 0.4796687066555023, 0.5596701502799988, 0.4105367362499237, 0.9266983866691589, -0.9340690970420837, 0.9963046908378601, 0.528683066368103, 0.725017249584198, 0.4871984124183655, 0.9413546919822693, -0.9735880494117737, 0.8264212608337402, 0.9858147501945496, -0.8242495656013489, -0.6505646705627441, -0.7812070846557617, 0.7943755984306335, -0.7427819967269897, -0.7953250408172607, -0.8297581672668457, -0.22598156332969666, 0.6375189423561096, 0.7063018679618835, -0.22206956148147583, -0.5962092280387878, -0.7830944657325745, 0.931352972984314, -0.16137835383415222, 0.9281959533691406, 0.9665006399154663, -0.9358107447624207, -0.10400892049074173, -0.7708719372749329, -0.42269566655158997, -0.43998751044273376, -0.3136785924434662, -0.8399465680122375, -0.17483384907245636, -0.9044989347457886, -0.9507787227630615, 0.03421814739704132, -0.9231988787651062, -0.19102416932582855, 0.9452127814292908, 0.6202242970466614, 0.4419771432876587, 0.3685207962989807, -0.6454833149909973, -0.947462260723114, 0.07989451289176941, 0.4428938627243042, -0.8168922066688538, 0.47439315915107727, -0.6309147477149963, 0.3007148206233978, -0.5353227853775024, -0.044712211936712265, -0.7725215554237366, 0.6081750988960266, 0.26079609990119934, 0.8700822591781616, 0.9246047139167786, -0.9761112332344055, 0.86927330493927, -0.07902669906616211, -0.3795420825481415, 0.7843055129051208, 0.7868467569351196, 0.051264438778162, -0.29062068462371826, -0.055882442742586136, 0.7021610736846924, -0.9703941345214844, 0.3022667467594147, 0.6941726803779602, 0.07351787388324738, -0.47627612948417664, -0.8899564146995544, 0.8855562210083008, -0.26595649123191833, 0.5234715342521667, 0.9694815278053284, 0.6928885579109192, 0.7980404496192932, -0.8176193237304688, -0.8129793405532837, 0.4986223578453064, -0.4394671320915222, 0.7737036347389221, -0.4697781503200531, -0.8199805617332458, -0.5799421072006226, 0.4505942165851593, 0.9037320613861084, 0.06263890862464905, -0.26713287830352783, 0.15142688155174255, 0.3183906674385071, 0.11111017316579819, 0.02598164603114128, -0.024674272164702415, 0.32824382185935974, 0.8580564856529236, -0.9569941759109497, 0.747734546661377, 0.4109988510608673, -0.34968113899230957, -0.0101021071895957, -0.326058030128479, -0.2810697555541992, 0.5764903426170349, 0.23391082882881165, 0.901270866394043, 0.8192911744117737, -0.964333176612854, 0.621683657169342, -0.2768614590167999, -0.6435988545417786, 0.23764318227767944, 0.0934317409992218, 0.8920977115631104, -0.6420021057128906, 0.010727237910032272, 0.021757563576102257, -0.15386977791786194, 0.8068811297416687, -0.9748409986495972, -0.6333104372024536, -0.8827155828475952, 0.1277550607919693, -0.7359437346458435, 0.5700810551643372, -0.7568097710609436, -0.6773235201835632, -0.2917684316635132, -0.8162747621536255, 0.13034628331661224, -0.19167953729629517, 0.8240787386894226, -0.9509589672088623, -0.364332377910614, -0.7748625874519348, -0.6941506862640381, 0.29159560799598694, 0.04690678417682648, 0.6969389319419861, 0.9414796829223633, 0.48595288395881653, -0.5972945690155029, 0.735970675945282, 0.25606656074523926, -0.7396907806396484, 0.22347594797611237, 0.44950175285339355, 0.02106235735118389, 0.7112368941307068, 0.09386619180440903, -0.2480621635913849, 0.8504736423492432, -0.050840847194194794, 0.6598016619682312, 0.18443778157234192, -0.44039052724838257, 0.4868820607662201, -0.8437702059745789, -0.9497851729393005, 0.836259126663208, 0.4177316427230835, -0.19402775168418884, 0.5588876605033875, -0.3636280298233032, 0.1565539538860321, -0.9324700236320496, 0.5610890984535217, -0.8711161613464355, -0.45052358508110046, -0.25727221369743347, -0.3589245080947876, 0.9119389057159424, 0.6263093948364258, -0.9214146733283997, -0.40401893854141235, 0.7531061172485352, 0.4420906603336334, 0.37965354323387146, -0.8991209268569946, -0.3236849308013916, -0.07446381449699402, 0.601830780506134, -0.9608051180839539, -0.5522921681404114, -0.614904522895813, -0.6027337312698364, 0.5235314965248108, 0.31515827775001526, -0.5073029398918152, -0.832617998123169, -0.30051881074905396, 0.8280883431434631, 0.06097819656133652, -0.6306312084197998, -0.2544281482696533, 0.9329724311828613, -0.028941525146365166, 0.043081652373075485, 0.2788791358470917, 0.151764377951622, 0.3364643454551697], \"y\": [0.7135935425758362, 0.40402039885520935, 0.7704638838768005, 0.7716671228408813, 0.03708958253264427, 0.07781153917312622, -0.3799995481967926, 0.3467651307582855, 0.7258843183517456, 0.6712356805801392, 0.10687064379453659, 0.8477333784103394, 0.2847557067871094, 0.12162008881568909, -0.8587909936904907, -0.16954417526721954, 0.3753740191459656, 0.18174897134304047, 0.4647713899612427, -0.9754228591918945, 0.808920681476593, 0.8732708096504211, 0.7540173530578613, 0.4293842911720276, 0.34918472170829773, -0.1201772391796112, -0.47495222091674805, -0.7394497990608215, 0.6707063317298889, 0.7936641573905945, -0.5384770631790161, 0.7063746452331543, 0.17460320889949799, -0.9581834673881531, 0.07413896173238754, -0.4117618203163147, -0.9222078919410706, -0.7893796563148499, -0.9342745542526245, 0.07273822277784348, 0.2058248370885849, 0.08691184967756271, 0.06125910207629204, 0.27829453349113464, 0.9368270039558411, -0.8463729023933411, -0.29626160860061646, 0.8792334794998169, -0.048570916056632996, 0.7840463519096375, 0.5051636099815369, -0.1606511026620865, 0.9645217061042786, -0.3689383268356323, -0.2070411890745163, -0.009321784600615501, -0.0005878705997020006, -0.9544535875320435, 0.6575021743774414, 0.6658103466033936, 0.8876447081565857, 0.13421742618083954, -0.9694480299949646, 0.33781975507736206, 0.5260014533996582, -0.7840913534164429, -0.7472968101501465, -0.8271849155426025, 0.11600178480148315, 0.23784524202346802, 0.9519104957580566, 0.5834927558898926, 0.9441224932670593, -0.21296539902687073, 0.5299904942512512, 0.19140365719795227, -0.6244240999221802, 0.8421242237091064, -0.7035667300224304, -0.2367648035287857, -0.9350342154502869, -0.10521799325942993, 0.7976229786872864, -0.21423929929733276, -0.9194179177284241, 0.9312642812728882, 0.47457271814346313, 0.08992867916822433, -0.399054616689682, -0.9016580581665039, -0.7448912858963013, -0.02763937972486019, 0.9816249012947083, -0.38453224301338196, -0.37707430124282837, -0.34437480568885803, 0.241927832365036, -0.9949914813041687, 0.5013023614883423, 0.8339540958404541, 0.035290200263261795, 0.46483710408210754, -0.34506621956825256, -0.5529019236564636, 0.05022889003157616, -0.029300298541784286, 0.5828936100006104, -0.9912930727005005, -0.9122942686080933, -0.6554691195487976, 0.17089144885540009, 0.08626388758420944, -0.9420070052146912, -0.7457273006439209, -0.025155331939458847, -0.7326499819755554, 0.6968613862991333, -0.6205664277076721, -0.6644148826599121, -0.9853600263595581, -0.7889918684959412, 0.1203792467713356, 0.9006908535957336, 0.7388328313827515, 0.17039096355438232, -0.8747367262840271, -0.3415874242782593, 0.08344916254281998, -0.6222474575042725, -0.5344687700271606, 0.5952829122543335, -0.9539861083030701, -0.8636431694030762, -0.6053113341331482, 0.9593341946601868, -0.14817412197589874, 0.43269145488739014, 0.3200821876525879, 0.26958537101745605, -0.3499809801578522, 0.16740025579929352, 0.8363591432571411, 0.08935151249170303, 0.8320722579956055, -0.92181396484375, -0.8133950233459473, -0.8459094166755676, 0.8121821284294128, -0.33922797441482544, -0.6489457488059998, 0.9164150357246399, 0.8816044926643372, 0.21381501853466034, -0.6759390830993652, -0.895014762878418, -0.7463586330413818, -0.5921176671981812, -0.6850066781044006, -0.23476848006248474, 0.8139780163764954, 0.6552286744117737, 0.37852445244789124, 0.7617669701576233, 0.6659910678863525, -0.2431313544511795, 0.818384051322937, -0.7126516699790955, -0.8836455345153809, 0.7386244535446167, -0.26069381833076477, -0.5551679730415344, 0.5733055472373962, 0.5573170185089111, 0.9335246682167053, -0.3038541376590729, 0.6632936596870422, -0.3730817437171936, 0.14803098142147064, 0.15619249641895294, -0.0717138722538948, -0.0068654888309538364, 0.8624939918518066, 0.39465925097465515, 0.3152606189250946, 0.8665866851806641, -0.20096546411514282, -0.9147820472717285, 0.3370373249053955, -0.9613789319992065, 0.5492229461669922, -0.9508981108665466, -0.9403132200241089, 0.6913384199142456, 0.7719442844390869, 0.9152437448501587, 0.7789177894592285, 0.9040656089782715, -0.3185006082057953, -0.6952002048492432, 0.2048737108707428, -0.7963201403617859, 0.8410807251930237, -0.8971375226974487, 0.29077064990997314, 0.014541372656822205, 0.2948315441608429, 0.6887803077697754, 0.9013155698776245, 0.03565564006567001, -0.4889543354511261, 0.03511406108736992, 0.48384571075439453, 0.5905266404151917, -0.2071099430322647, -0.7462155222892761, 0.49468663334846497, -0.841813325881958, -0.8790491223335266, -0.6770142912864685, 0.5999070405960083, 0.13321542739868164, -0.8806601166725159, 0.9174690246582031, -0.102080337703228, -0.15795637667179108, 0.497763991355896, -0.1681230664253235, -0.8752857446670532, -0.5668654441833496, -0.3947402238845825, 0.9347257614135742, -0.442013144493103, 0.5182402729988098, 0.7785999774932861, 0.028656676411628723, 0.32022222876548767, 0.2220863550901413, 0.6160765886306763, 0.589735209941864, 0.8313666582107544, -0.929223358631134, -0.5305158495903015, -0.7906134724617004, -0.1151750311255455, 0.42334455251693726, -0.33066579699516296, 0.7725434899330139, -0.8839781880378723, -0.009058517403900623, -0.34645214676856995, -0.3619365394115448, -0.1919899731874466, -0.2227604240179062, -0.9558602571487427, -0.6660017967224121, -0.14253276586532593, 0.884232759475708, -0.5029271245002747, -0.5794621706008911, 0.14469662308692932, -0.6296570897102356, -0.15067540109157562, -0.4995439350605011, 0.1934458166360855, -0.7760495543479919, -0.5225250720977783, -0.5636348128318787, 0.6268160343170166, -0.8336856961250305, 0.9582127928733826, -0.21485741436481476, -0.8332555294036865, -0.19549940526485443, 0.6877731084823608, 0.2896632254123688, -0.2936323583126068, -0.45854705572128296, 0.746012270450592, 0.5363789200782776, -0.5261430144309998, -0.026862693950533867, -0.4239729940891266, 0.7585079669952393, -0.6584854125976562, 0.08039432018995285, 0.24009478092193604, -0.36261501908302307, -0.76528400182724, -0.9521731734275818, -0.39663347601890564, 0.5468708276748657, 0.6269283890724182, -0.29975518584251404, -0.7221637964248657, -0.9086061120033264, 0.69603031873703, -0.3363907039165497, 0.9174963235855103, 0.5064179301261902, 0.8330984711647034, -0.12642505764961243, 0.5934990048408508, 0.4527384638786316, 0.5252960920333862, 0.17186033725738525, 0.4497954845428467, -0.7991726994514465, 0.8745320439338684, 0.14332178235054016, -0.5051068663597107, -0.3095915615558624, -0.7176967859268188, 0.9177916049957275, -0.9325715899467468, -0.8905441164970398, 0.7551671266555786, 0.8774489760398865, 0.801652193069458, 0.26827406883239746, -0.8849064707756042, -0.8251132965087891, 0.18482911586761475, -0.9193057417869568, -0.7485938668251038, -0.6198591589927673, 0.528346598148346, -0.9286451935768127, -0.44478639960289, 0.047259483486413956, -0.08007217198610306, 0.0489729680120945, -0.46784189343452454, 0.8419066667556763, -0.2977204918861389, 0.17545534670352936, 0.3956092298030853, -0.04803551733493805, -0.21927344799041748, -0.6627877950668335, -0.6297513246536255, -0.6936317086219788, 0.5292624235153198, 0.6731875538825989, 0.05902831628918648, -0.9196503758430481, -0.6913418173789978, -0.7658354043960571, -0.8883023858070374, 0.6013723015785217, 0.47598278522491455, -0.2434825450181961, 0.9795806407928467, -0.33912914991378784, 0.28161948919296265, -0.26518556475639343, -0.9262012839317322, -0.08599766343832016, -0.8727415800094604, 0.7692625522613525, 0.9269452691078186, 0.44096639752388, -0.10410965234041214, 0.3872152268886566, -0.2716728746891022, 0.7315433025360107, -0.09338149428367615, -0.9852094054222107, -0.20762905478477478, 0.7652810215950012, 0.7478535175323486, 0.8923958539962769, -0.34472957253456116, -0.19379836320877075, 0.9137572646141052, -0.31548696756362915, -0.5463424921035767, -0.8434284925460815, -0.6511266231536865, -0.796705424785614, -0.2651652693748474, 0.902400553226471, 0.6340886950492859, -0.19054673612117767, -0.9093483090400696, 0.42249399423599243, -0.27556222677230835, 0.013573147356510162, 0.49329808354377747, -0.9416612386703491, -0.8792402148246765, 0.5947518944740295, -0.6067479252815247, -0.35383936762809753, 0.1513785719871521, 0.2342299371957779, 0.5444051623344421, -0.13927550613880157, 0.9514675736427307, 0.18405857682228088, -0.9570963382720947, -0.8408784866333008, -0.4108595848083496, -0.07726505398750305, -0.46823233366012573, -0.8160094022750854, -0.161860853433609, 0.7939321994781494, 0.3363316059112549, 0.3538956344127655, 0.6022825241088867, 0.1423795521259308, -0.7248433828353882, -0.5765904188156128, 0.79920494556427, -0.37329694628715515, -0.7120854258537292, 0.30137142539024353, 0.22166763246059418, 0.06740422546863556, 0.8888493180274963, -0.8640244007110596, 0.8533374071121216, 0.3149981200695038, -0.651216447353363, 0.09207260608673096, 0.9099013209342957, -0.2532268762588501, -0.3032466471195221, -0.48162445425987244, 0.8542214035987854, -0.2770848870277405, -0.8946882486343384, -0.722808301448822, -0.913665771484375, 0.6216534376144409, 0.7712020874023438, 0.34344300627708435, -0.4122093617916107, 0.11200851947069168, -0.7187685966491699, 0.9649187326431274, 0.6069783568382263, 0.9240074753761292, 0.320209801197052, -0.4827387034893036, 0.473257839679718, -0.9849797487258911, -0.11585813760757446, 0.9527562856674194, 0.4403044581413269, -0.11322114616632462, -0.8115658760070801, -0.46183738112449646, -0.8688210248947144, 0.552924633026123, -0.8496510982513428, 0.516595721244812, 0.7369962930679321, 0.9404286742210388, -0.560073733329773, 0.8409655690193176, 0.789924144744873, 0.5326566100120544, 0.2990483045578003, -0.4453122019767761, 0.6235781908035278, -0.36485323309898376, -0.8081496357917786, -0.979330837726593, 0.7278947830200195, 0.002964071463793516, -0.88998943567276, -0.7888756990432739, 0.5636038780212402, -0.9280485510826111, -0.014976316131651402, 0.9635811448097229, 0.8386286497116089, 0.9534153938293457, -0.7117044925689697, 0.9164079427719116, -0.765014111995697, 0.30515599250793457, 0.9670787453651428, 0.3692215383052826, 0.9401088953018188, -0.9084618091583252, 0.8192542791366577, -0.4680541455745697, 0.14379018545150757, 0.00838786456733942, 0.7739713191986084, -0.9519267678260803, 0.7320975661277771, -0.9487247467041016, 0.9449055194854736, -0.01824488863348961, -0.28619930148124695, -0.272034615278244, 0.049778468906879425, -0.22069232165813446, 0.9326463341712952, -0.51216059923172, 0.8370234966278076, -0.40220433473587036, 0.9031046628952026, -0.19064851105213165, 0.08007541298866272, -0.8816632628440857, 0.26613813638687134, -0.9543834328651428, 0.9513211250305176, -0.6322407126426697, 0.2291625589132309, 0.8677918910980225, 0.001823719241656363, -0.8240651488304138, 0.8124417662620544, -0.9146090745925903, 0.8407824039459229, 0.42600247263908386, 0.8290010094642639, 0.5217565894126892, 0.9505009055137634, -0.7104676365852356, -0.11059761792421341, -0.38310250639915466, -0.9655225872993469, 0.33693045377731323, 0.8765463829040527, -0.12135067582130432, 0.9108456969261169]}],\n",
       "                        {\"annotations\": [{\"showarrow\": false, \"text\": \"No. of contacts made\", \"xref\": \"paper\", \"yref\": \"paper\"}], \"hovermode\": \"closest\", \"margin\": {\"b\": 20, \"l\": 5, \"r\": 5, \"t\": 40}, \"showlegend\": false, \"template\": {\"data\": {\"bar\": [{\"error_x\": {\"color\": \"#2a3f5f\"}, \"error_y\": {\"color\": \"#2a3f5f\"}, \"marker\": {\"line\": {\"color\": \"#E5ECF6\", \"width\": 0.5}}, \"type\": \"bar\"}], \"barpolar\": [{\"marker\": {\"line\": {\"color\": \"#E5ECF6\", \"width\": 0.5}}, \"type\": \"barpolar\"}], \"carpet\": [{\"aaxis\": {\"endlinecolor\": \"#2a3f5f\", \"gridcolor\": \"white\", \"linecolor\": \"white\", \"minorgridcolor\": \"white\", \"startlinecolor\": \"#2a3f5f\"}, \"baxis\": {\"endlinecolor\": \"#2a3f5f\", \"gridcolor\": \"white\", \"linecolor\": \"white\", \"minorgridcolor\": \"white\", \"startlinecolor\": \"#2a3f5f\"}, \"type\": \"carpet\"}], \"choropleth\": [{\"colorbar\": {\"outlinewidth\": 0, \"ticks\": \"\"}, \"type\": \"choropleth\"}], \"contour\": [{\"colorbar\": {\"outlinewidth\": 0, \"ticks\": \"\"}, \"colorscale\": [[0.0, \"#0d0887\"], [0.1111111111111111, \"#46039f\"], [0.2222222222222222, \"#7201a8\"], [0.3333333333333333, \"#9c179e\"], [0.4444444444444444, \"#bd3786\"], [0.5555555555555556, \"#d8576b\"], [0.6666666666666666, \"#ed7953\"], [0.7777777777777778, \"#fb9f3a\"], [0.8888888888888888, \"#fdca26\"], [1.0, \"#f0f921\"]], \"type\": \"contour\"}], \"contourcarpet\": [{\"colorbar\": {\"outlinewidth\": 0, \"ticks\": \"\"}, \"type\": \"contourcarpet\"}], \"heatmap\": [{\"colorbar\": {\"outlinewidth\": 0, \"ticks\": \"\"}, \"colorscale\": [[0.0, \"#0d0887\"], [0.1111111111111111, \"#46039f\"], [0.2222222222222222, \"#7201a8\"], [0.3333333333333333, \"#9c179e\"], [0.4444444444444444, \"#bd3786\"], [0.5555555555555556, \"#d8576b\"], [0.6666666666666666, \"#ed7953\"], [0.7777777777777778, \"#fb9f3a\"], [0.8888888888888888, \"#fdca26\"], [1.0, \"#f0f921\"]], \"type\": \"heatmap\"}], \"heatmapgl\": [{\"colorbar\": {\"outlinewidth\": 0, \"ticks\": \"\"}, \"colorscale\": [[0.0, \"#0d0887\"], [0.1111111111111111, \"#46039f\"], [0.2222222222222222, \"#7201a8\"], [0.3333333333333333, \"#9c179e\"], [0.4444444444444444, \"#bd3786\"], [0.5555555555555556, \"#d8576b\"], [0.6666666666666666, \"#ed7953\"], [0.7777777777777778, \"#fb9f3a\"], [0.8888888888888888, \"#fdca26\"], [1.0, \"#f0f921\"]], \"type\": \"heatmapgl\"}], \"histogram\": [{\"marker\": {\"colorbar\": {\"outlinewidth\": 0, \"ticks\": \"\"}}, \"type\": \"histogram\"}], \"histogram2d\": [{\"colorbar\": {\"outlinewidth\": 0, \"ticks\": \"\"}, \"colorscale\": [[0.0, \"#0d0887\"], [0.1111111111111111, \"#46039f\"], [0.2222222222222222, \"#7201a8\"], [0.3333333333333333, \"#9c179e\"], [0.4444444444444444, \"#bd3786\"], [0.5555555555555556, \"#d8576b\"], [0.6666666666666666, \"#ed7953\"], [0.7777777777777778, \"#fb9f3a\"], [0.8888888888888888, \"#fdca26\"], [1.0, \"#f0f921\"]], \"type\": \"histogram2d\"}], \"histogram2dcontour\": [{\"colorbar\": {\"outlinewidth\": 0, \"ticks\": \"\"}, \"colorscale\": [[0.0, \"#0d0887\"], [0.1111111111111111, \"#46039f\"], [0.2222222222222222, \"#7201a8\"], [0.3333333333333333, \"#9c179e\"], [0.4444444444444444, \"#bd3786\"], [0.5555555555555556, \"#d8576b\"], [0.6666666666666666, \"#ed7953\"], [0.7777777777777778, \"#fb9f3a\"], [0.8888888888888888, \"#fdca26\"], [1.0, \"#f0f921\"]], \"type\": \"histogram2dcontour\"}], \"mesh3d\": [{\"colorbar\": {\"outlinewidth\": 0, \"ticks\": \"\"}, \"type\": \"mesh3d\"}], \"parcoords\": [{\"line\": {\"colorbar\": {\"outlinewidth\": 0, \"ticks\": \"\"}}, \"type\": \"parcoords\"}], \"pie\": [{\"automargin\": true, \"type\": \"pie\"}], \"scatter\": [{\"marker\": {\"colorbar\": {\"outlinewidth\": 0, \"ticks\": \"\"}}, \"type\": \"scatter\"}], \"scatter3d\": [{\"line\": {\"colorbar\": {\"outlinewidth\": 0, \"ticks\": \"\"}}, \"marker\": {\"colorbar\": {\"outlinewidth\": 0, \"ticks\": \"\"}}, \"type\": \"scatter3d\"}], \"scattercarpet\": [{\"marker\": {\"colorbar\": {\"outlinewidth\": 0, \"ticks\": \"\"}}, \"type\": \"scattercarpet\"}], \"scattergeo\": [{\"marker\": {\"colorbar\": {\"outlinewidth\": 0, \"ticks\": \"\"}}, \"type\": \"scattergeo\"}], \"scattergl\": [{\"marker\": {\"colorbar\": {\"outlinewidth\": 0, \"ticks\": \"\"}}, \"type\": \"scattergl\"}], \"scattermapbox\": [{\"marker\": {\"colorbar\": {\"outlinewidth\": 0, \"ticks\": \"\"}}, \"type\": \"scattermapbox\"}], \"scatterpolar\": [{\"marker\": {\"colorbar\": {\"outlinewidth\": 0, \"ticks\": \"\"}}, \"type\": \"scatterpolar\"}], \"scatterpolargl\": [{\"marker\": {\"colorbar\": {\"outlinewidth\": 0, \"ticks\": \"\"}}, \"type\": \"scatterpolargl\"}], \"scatterternary\": [{\"marker\": {\"colorbar\": {\"outlinewidth\": 0, \"ticks\": \"\"}}, \"type\": \"scatterternary\"}], \"surface\": [{\"colorbar\": {\"outlinewidth\": 0, \"ticks\": \"\"}, \"colorscale\": [[0.0, \"#0d0887\"], [0.1111111111111111, \"#46039f\"], [0.2222222222222222, \"#7201a8\"], [0.3333333333333333, \"#9c179e\"], [0.4444444444444444, \"#bd3786\"], [0.5555555555555556, \"#d8576b\"], [0.6666666666666666, \"#ed7953\"], [0.7777777777777778, \"#fb9f3a\"], [0.8888888888888888, \"#fdca26\"], [1.0, \"#f0f921\"]], \"type\": \"surface\"}], \"table\": [{\"cells\": {\"fill\": {\"color\": \"#EBF0F8\"}, \"line\": {\"color\": \"white\"}}, \"header\": {\"fill\": {\"color\": \"#C8D4E3\"}, \"line\": {\"color\": \"white\"}}, \"type\": \"table\"}]}, \"layout\": {\"annotationdefaults\": {\"arrowcolor\": \"#2a3f5f\", \"arrowhead\": 0, \"arrowwidth\": 1}, \"coloraxis\": {\"colorbar\": {\"outlinewidth\": 0, \"ticks\": \"\"}}, \"colorscale\": {\"diverging\": [[0, \"#8e0152\"], [0.1, \"#c51b7d\"], [0.2, \"#de77ae\"], [0.3, \"#f1b6da\"], [0.4, \"#fde0ef\"], [0.5, \"#f7f7f7\"], [0.6, \"#e6f5d0\"], [0.7, \"#b8e186\"], [0.8, \"#7fbc41\"], [0.9, \"#4d9221\"], [1, \"#276419\"]], \"sequential\": [[0.0, \"#0d0887\"], [0.1111111111111111, \"#46039f\"], [0.2222222222222222, \"#7201a8\"], [0.3333333333333333, \"#9c179e\"], [0.4444444444444444, \"#bd3786\"], [0.5555555555555556, \"#d8576b\"], [0.6666666666666666, \"#ed7953\"], [0.7777777777777778, \"#fb9f3a\"], [0.8888888888888888, \"#fdca26\"], [1.0, \"#f0f921\"]], \"sequentialminus\": [[0.0, \"#0d0887\"], [0.1111111111111111, \"#46039f\"], [0.2222222222222222, \"#7201a8\"], [0.3333333333333333, \"#9c179e\"], [0.4444444444444444, \"#bd3786\"], [0.5555555555555556, \"#d8576b\"], [0.6666666666666666, \"#ed7953\"], [0.7777777777777778, \"#fb9f3a\"], [0.8888888888888888, \"#fdca26\"], [1.0, \"#f0f921\"]]}, \"colorway\": [\"#636efa\", \"#EF553B\", \"#00cc96\", \"#ab63fa\", \"#FFA15A\", \"#19d3f3\", \"#FF6692\", \"#B6E880\", \"#FF97FF\", \"#FECB52\"], \"font\": {\"color\": \"#2a3f5f\"}, \"geo\": {\"bgcolor\": \"white\", \"lakecolor\": \"white\", \"landcolor\": \"#E5ECF6\", \"showlakes\": true, \"showland\": true, \"subunitcolor\": \"white\"}, \"hoverlabel\": {\"align\": \"left\"}, \"hovermode\": \"closest\", \"mapbox\": {\"style\": \"light\"}, \"paper_bgcolor\": \"white\", \"plot_bgcolor\": \"#E5ECF6\", \"polar\": {\"angularaxis\": {\"gridcolor\": \"white\", \"linecolor\": \"white\", \"ticks\": \"\"}, \"bgcolor\": \"#E5ECF6\", \"radialaxis\": {\"gridcolor\": \"white\", \"linecolor\": \"white\", \"ticks\": \"\"}}, \"scene\": {\"xaxis\": {\"backgroundcolor\": \"#E5ECF6\", \"gridcolor\": \"white\", \"gridwidth\": 2, \"linecolor\": \"white\", \"showbackground\": true, \"ticks\": \"\", \"zerolinecolor\": \"white\"}, \"yaxis\": {\"backgroundcolor\": \"#E5ECF6\", \"gridcolor\": \"white\", \"gridwidth\": 2, \"linecolor\": \"white\", \"showbackground\": true, \"ticks\": \"\", \"zerolinecolor\": \"white\"}, \"zaxis\": {\"backgroundcolor\": \"#E5ECF6\", \"gridcolor\": \"white\", \"gridwidth\": 2, \"linecolor\": \"white\", \"showbackground\": true, \"ticks\": \"\", \"zerolinecolor\": \"white\"}}, \"shapedefaults\": {\"line\": {\"color\": \"#2a3f5f\"}}, \"ternary\": {\"aaxis\": {\"gridcolor\": \"white\", \"linecolor\": \"white\", \"ticks\": \"\"}, \"baxis\": {\"gridcolor\": \"white\", \"linecolor\": \"white\", \"ticks\": \"\"}, \"bgcolor\": \"#E5ECF6\", \"caxis\": {\"gridcolor\": \"white\", \"linecolor\": \"white\", \"ticks\": \"\"}}, \"title\": {\"x\": 0.05}, \"xaxis\": {\"automargin\": true, \"gridcolor\": \"white\", \"linecolor\": \"white\", \"ticks\": \"\", \"title\": {\"standoff\": 15}, \"zerolinecolor\": \"white\", \"zerolinewidth\": 2}, \"yaxis\": {\"automargin\": true, \"gridcolor\": \"white\", \"linecolor\": \"white\", \"ticks\": \"\", \"title\": {\"standoff\": 15}, \"zerolinecolor\": \"white\", \"zerolinewidth\": 2}}}, \"title\": {\"font\": {\"size\": 16}, \"text\": \"<br>Karnataka Person to Person Network Tracing\"}, \"xaxis\": {\"showgrid\": false, \"showticklabels\": false, \"zeroline\": false}, \"yaxis\": {\"showgrid\": false, \"showticklabels\": false, \"zeroline\": false}},\n",
       "                        {\"responsive\": true}\n",
       "                    ).then(function(){\n",
       "                            \n",
       "var gd = document.getElementById('ea1dd9be-28de-498e-b72f-878cffdeb71f');\n",
       "var x = new MutationObserver(function (mutations, observer) {{\n",
       "        var display = window.getComputedStyle(gd).display;\n",
       "        if (!display || display === 'none') {{\n",
       "            console.log([gd, 'removed!']);\n",
       "            Plotly.purge(gd);\n",
       "            observer.disconnect();\n",
       "        }}\n",
       "}});\n",
       "\n",
       "// Listen for the removal of the full notebook cells\n",
       "var notebookContainer = gd.closest('#notebook-container');\n",
       "if (notebookContainer) {{\n",
       "    x.observe(notebookContainer, {childList: true});\n",
       "}}\n",
       "\n",
       "// Listen for the clearing of the current output cell\n",
       "var outputEl = gd.closest('.output');\n",
       "if (outputEl) {{\n",
       "    x.observe(outputEl, {childList: true});\n",
       "}}\n",
       "\n",
       "                        })\n",
       "                };\n",
       "                });\n",
       "            </script>\n",
       "        </div>"
      ]
     },
     "metadata": {},
     "output_type": "display_data"
    }
   ],
   "source": [
    "from plotly.offline import download_plotlyjs, init_notebook_mode, iplot\n",
    "iplot(fig)"
   ]
  },
  {
   "cell_type": "code",
   "execution_count": null,
   "metadata": {},
   "outputs": [],
   "source": []
  }
 ],
 "metadata": {
  "kernelspec": {
   "display_name": "Python 3",
   "language": "python",
   "name": "python3"
  },
  "language_info": {
   "codemirror_mode": {
    "name": "ipython",
    "version": 3
   },
   "file_extension": ".py",
   "mimetype": "text/x-python",
   "name": "python",
   "nbconvert_exporter": "python",
   "pygments_lexer": "ipython3",
   "version": "3.7.4"
  }
 },
 "nbformat": 4,
 "nbformat_minor": 2
}
