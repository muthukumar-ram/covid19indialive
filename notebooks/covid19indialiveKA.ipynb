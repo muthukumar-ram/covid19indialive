{
 "cells": [
  {
   "cell_type": "markdown",
   "metadata": {},
   "source": [
    "# Coronavirus Lockdown 2.0"
   ]
  },
  {
   "cell_type": "code",
   "execution_count": 76,
   "metadata": {},
   "outputs": [],
   "source": [
    "#importing Packages\n",
    "from __future__ import print_function\n",
    "from ipywidgets import interact, interactive, fixed, interact_manual\n",
    "from IPython.core.display import display, HTML\n",
    "\n",
    "import pandas as pd\n",
    "import numpy as np\n",
    "import matplotlib.pyplot as plt\n",
    "import plotly.express as px\n",
    "import folium\n",
    "import plotly.graph_objects as go\n",
    "import seaborn as sns\n",
    "import ipywidgets as widgets\n",
    "import networkx as nx"
   ]
  },
  {
   "cell_type": "code",
   "execution_count": 78,
   "metadata": {},
   "outputs": [],
   "source": [
    "url = 'https://en.wikipedia.org/wiki/2020_coronavirus_pandemic_in_Karnataka'\n",
    "all_tables = pd.read_html(url)\n",
    "\n",
    "# we  need 6 th table that is all_tables[5]\n",
    "rawCases = all_tables[5]"
   ]
  },
  {
   "cell_type": "code",
   "execution_count": 80,
   "metadata": {},
   "outputs": [],
   "source": [
    "# now we have to clean\n",
    "\n",
    "rawCases['Date Announced']=rawCases['Date announced'].apply(pd.to_datetime)\n",
    "\"\"\"\n",
    "Not change dtype for  Date Discharged/ Deceased column since most of the entries\n",
    "are yet to filled. Patients yet to be discharged\n",
    "\"\"\"\n",
    "rawCases.drop(labels='Ref(s)',axis=1,inplace=True)\n",
    "#Splitting Sex-Age column into two and droping the column\n",
    "rawCases['Gender']=rawCases['Sex-Age'].str[0]\n",
    "rawCases['Age']=rawCases['Sex-Age'].str[1:]\n",
    "rawCases.drop(labels='Sex-Age',axis=1,inplace=True)\n",
    "rawCases.Gender=rawCases['Gender'].str.replace('f','F')\n",
    "# less than 1 year old baby age is in months. Setting to value 1\n",
    "for i,rows in rawCases.Age.iteritems():\n",
    "    if 'month' in rows:\n",
    "        rawCases.at[i,'Age']=1\n",
    "rawCases.Age=rawCases.Age.apply(pd.to_numeric)"
   ]
  },
  {
   "cell_type": "code",
   "execution_count": 81,
   "metadata": {},
   "outputs": [],
   "source": [
    "#Merging districts Bengaluru and Bengaluru (native of Ananthapura, AP)\n",
    "for i,rows in rawCases.Location.iteritems():\n",
    "    if '(' in rows:\n",
    "        district=rows.split(sep='(')[0].strip()\n",
    "        rawCases.at[i,'Location']=district"
   ]
  },
  {
   "cell_type": "code",
   "execution_count": 82,
   "metadata": {},
   "outputs": [],
   "source": [
    "bins = [0,3,12,20,40,60,np.inf]\n",
    "ranges = ['<3','3-12','12-20','20-40','40-60','60+']\n",
    "rawCases['AgeRange']=pd.cut(rawCases.Age,bins,labels=ranges)"
   ]
  },
  {
   "cell_type": "code",
   "execution_count": 83,
   "metadata": {},
   "outputs": [],
   "source": [
    "rawCases.to_csv(\"KARawCases.csv\")"
   ]
  }
 ],
 "metadata": {
  "kernelspec": {
   "display_name": "Python 3",
   "language": "python",
   "name": "python3"
  },
  "language_info": {
   "codemirror_mode": {
    "name": "ipython",
    "version": 3
   },
   "file_extension": ".py",
   "mimetype": "text/x-python",
   "name": "python",
   "nbconvert_exporter": "python",
   "pygments_lexer": "ipython3",
   "version": "3.7.4"
  }
 },
 "nbformat": 4,
 "nbformat_minor": 2
}
